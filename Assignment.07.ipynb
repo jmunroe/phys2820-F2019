{
 "cells": [
  {
   "cell_type": "markdown",
   "metadata": {
    "slideshow": {
     "slide_type": "slide"
    }
   },
   "source": [
    "# Assignment 7\n",
    "\n",
    "Due: Wednesday, November 27, 2019"
   ]
  },
  {
   "cell_type": "markdown",
   "metadata": {},
   "source": [
    "*Please complete all parts of this assignment within this notebook. You may leave the notebook file on the JupyterHub server (where it will be collected automatically on the due date).*"
   ]
  },
  {
   "cell_type": "markdown",
   "metadata": {},
   "source": [
    "Use both Python code cells and Jupyter Markdown cells to complete the following exercises. Place your solution immediately after the corresponding question."
   ]
  },
  {
   "cell_type": "code",
   "execution_count": 2,
   "metadata": {},
   "outputs": [],
   "source": [
    "%matplotlib inline\n",
    "import matplotlib.pyplot as plt\n",
    "import sympy as sp\n",
    "import numpy as np\n",
    "import pandas as pd\n",
    "from ipywidgets import interactive, fixed"
   ]
  },
  {
   "cell_type": "markdown",
   "metadata": {},
   "source": [
    "- - -\n",
    "\n",
    "### A. Three particles under Lennard-Jones Potential"
   ]
  },
  {
   "cell_type": "markdown",
   "metadata": {},
   "source": [
    "Consider particles each interacting with the pair potential \n",
    "\n",
    "$$U(r) = 4 \\left(\\left(\\frac{1}{r^{12}}\\right)-\\left(\\frac{1}{r^4}\\right)\\right)$$\n",
    "\n",
    "where r is the distance between the particles. At time $t = 0$, there are three masses $m_1 = 1$, $m_2 = 20$, and $m_3 = 2$ that have initial positions $r_1 = (-3,1)$, $r_2 = (0,0)$ and $r_3 = (3,-2)$, and velocities $v_1 = (2,0)$, $v_2 = (0,0)$ and $v_3 = (-2,2)$. Plot the trajectory of the particles on one graph up to $t_f = 10$.\n",
    "\n",
    "In the problem, all motion is confined to the x-y plane.\n",
    "\n",
    "Solve this problem numerically with your own Midpoint Method stepper numerical method."
   ]
  },
  {
   "cell_type": "code",
   "execution_count": null,
   "metadata": {},
   "outputs": [],
   "source": []
  }
 ],
 "metadata": {
  "kernelspec": {
   "display_name": "Python 3",
   "language": "python",
   "name": "python3"
  },
  "language_info": {
   "codemirror_mode": {
    "name": "ipython",
    "version": 3
   },
   "file_extension": ".py",
   "mimetype": "text/x-python",
   "name": "python",
   "nbconvert_exporter": "python",
   "pygments_lexer": "ipython3",
   "version": "3.6.7"
  }
 },
 "nbformat": 4,
 "nbformat_minor": 2
}
