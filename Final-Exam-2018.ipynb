{
 "cells": [
  {
   "cell_type": "markdown",
   "metadata": {},
   "source": [
    "## PHYS 2820\n",
    "# Final Exam - Winter 2018"
   ]
  },
  {
   "cell_type": "markdown",
   "metadata": {},
   "source": [
    "### Name:\n",
    "### Student ID:"
   ]
  },
  {
   "cell_type": "markdown",
   "metadata": {},
   "source": [
    "### Instructions\n",
    "\n",
    "1. The exam is for 180 minutes.\n",
    "2. Your completed Jupyter notebook (.ipynb file) should be submitted via D2L dropbox. \n",
    "3. The exam is open book and you may use lecture notes, the labs, your assignments, assigned readings, and Internet access is permitted.\n",
    "4. Electronic communication with another student or any other person is not allowed during the test.\n",
    "5. Scrap paper is available upon request.\n",
    "6. BLANK represents a change you need to make.  Additional code may always be added as needed.\n",
    "7. **Read carefully and answer the questions exactly as asked**"
   ]
  },
  {
   "cell_type": "code",
   "execution_count": null,
   "metadata": {},
   "outputs": [],
   "source": [
    "%matplotlib inline\n",
    "import numpy as np\n",
    "import matplotlib.pyplot as plt\n",
    "from scipy.integrate import odeint\n",
    "import sympy as sp\n",
    "sp.init_printing()\n",
    "from IPython.display import display"
   ]
  },
  {
   "cell_type": "markdown",
   "metadata": {},
   "source": [
    "## Question 1:"
   ]
  },
  {
   "cell_type": "markdown",
   "metadata": {},
   "source": [
    "Download the file called `final_vcar.dat` from D2L. It contains two columns of data: time (s) in the first, speed (m/s) in the second. The data represent the slowing down of a racecar after it deploys a braking parachute.\n"
   ]
  },
  {
   "cell_type": "markdown",
   "metadata": {},
   "source": [
    "### 1a) [3 pts]\n",
    "Import and nicely plot the data."
   ]
  },
  {
   "cell_type": "code",
   "execution_count": null,
   "metadata": {},
   "outputs": [],
   "source": [
    "# code to import and plot the data goes here\n",
    "\n"
   ]
  },
  {
   "cell_type": "markdown",
   "metadata": {},
   "source": [
    "### 1b) [4 pts]\n",
    "Determine the acceleration of the car as a function of time using the (discrete form of) the *backward difference* approximation for the first derivative of a function. Plot the acceleration as a function of time."
   ]
  },
  {
   "cell_type": "code",
   "execution_count": null,
   "metadata": {},
   "outputs": [],
   "source": [
    "# code to approximate acceleration goes here\n",
    "\n",
    "\n",
    "plt.plot(BLANK, BLANK, 'o')\n",
    "plt.xlabel('time (s)')\n",
    "plt.ylabel('acceleration (m/s$^2$)')"
   ]
  },
  {
   "cell_type": "markdown",
   "metadata": {},
   "source": [
    "### 1c) [4 pts]\n",
    "Determine the displacement of the car as a function of time using the *trapezoid rule* to approximate the integral of a function. Plot the displacement as a function of time."
   ]
  },
  {
   "cell_type": "code",
   "execution_count": null,
   "metadata": {},
   "outputs": [],
   "source": [
    "# code to approximate displacement goes here\n",
    "\n",
    "\n",
    "\n",
    "plt.plot(BLANK, BLANK, 'o')\n",
    "plt.xlabel('time (s)')\n",
    "plt.ylabel('displacement (m)')"
   ]
  },
  {
   "cell_type": "markdown",
   "metadata": {},
   "source": [
    "### 1d) [4 pts]\n",
    "\n",
    "The parachute provides a drag force of magnitude $b v^2$, where $v$ is the speed of the car.\n",
    "\n",
    "Determine the drag coefficient $b$ to 3 significant figures by appropriately plotting the data and determining the slope through a linear least-squares fit.  The mass of the car 1520 kg."
   ]
  },
  {
   "cell_type": "code",
   "execution_count": null,
   "metadata": {},
   "outputs": [],
   "source": [
    "m = 1520\n",
    "\n",
    "# plot the data in the appropriate form\n",
    "plt.plot(BLANK, BLANK, 'o')\n",
    "\n",
    "# fit a least-squares best fit line\n",
    "p = np.polyfit(BLANK, BLANK, BLANK)\n",
    "\n",
    "# plot the best fit line over the data\n",
    "plt.plot(BLANK, BLANK, 'r-')\n",
    "\n",
    "plt.xlabel('$-v^2$')\n",
    "plt.ylabel('$m a$')\n",
    "\n",
    "print('The drag coefficient is b={:.3f}'.format(BLANK))"
   ]
  },
  {
   "cell_type": "markdown",
   "metadata": {},
   "source": [
    "## Question 2: [15 pts]\n",
    "\n",
    "The speed of a rocket in outer space as a function of time v(t) is governed by the following expression\n",
    "\n",
    "\n",
    "Eq. 1 $\\qquad \\qquad m \\frac{dv}{dt} = -u \\frac{dm}{dt}$\n",
    "\n",
    "where u=450 m/s is the speed of the exhaust relative to the rocket, m(t) is the mass of the rocket and $\\frac{dm}{dt}$ is the rate at which the rocket's mass is changing (from the burning of fuel; $\\frac{dm}{dt}$ is negative ). \n",
    "\n",
    "Here, $\\frac{dm}{dt}$ is related to the speed of the rocket, with the rocket burning fuel more quickly the faster the rocket travels and is governed by\n",
    "\n",
    "Eq. 2 $\\qquad \\qquad \\frac{dm}{dt} = R - \\frac{v}{100},$\n",
    "\n",
    "where $R = -11$ kg/s (a constant). So Eq. 1 becomes\n",
    "\n",
    "Eq. 1 $\\qquad \\qquad m\\frac{dv}{dt} = -u\\left(R - \\frac{v}{100}\\right)$\n",
    "\n",
    "Assume that the initial speed of the rocket is zero and its mass (the rocket plus its fuel) is 1030 kg initially."
   ]
  },
  {
   "cell_type": "markdown",
   "metadata": {},
   "source": [
    "### 2a) [6 pts] \n",
    "Write your own Midpoint scheme (second order Runge Kutta) to solve Eq.1 and Eq.2 simultaneously in order to find and plot m(t) and v(t) up to t=70 s.  Use a timestep of 0.1 s"
   ]
  },
  {
   "cell_type": "code",
   "execution_count": null,
   "metadata": {},
   "outputs": [],
   "source": [
    "# set up parameters\n",
    "u = BLANK\n",
    "R = BLANK\n",
    "    \n",
    "def solve(dt = 0.1):\n",
    "    tmax = BLANK\n",
    "    N = round(BLANK)\n",
    "\n",
    "    # allocate space for solution\n",
    "    v = np.zeros(N)\n",
    "    m = np.zeros(N)\n",
    "    t = np.zeros(N)\n",
    "\n",
    "    # initial conditions\n",
    "    t[0] = BLANK\n",
    "    v[0] = BLANK\n",
    "    m[0] = BLANK\n",
    "    \n",
    "    # include any additionally require code here\n",
    "    \n",
    "    for i in range(N-1):\n",
    "        # code required to perform RK2 (midpoint scheme)\n",
    "     \n",
    "    \n",
    "    return v, m, t\n",
    "\n",
    "v, m, t = solve() "
   ]
  },
  {
   "cell_type": "code",
   "execution_count": null,
   "metadata": {},
   "outputs": [],
   "source": [
    "## Nothing to change here... just run the cell!\n",
    "\n",
    "fig, axes = plt.subplots(1, 2, figsize=(14,4))\n",
    "\n",
    "plt.sca(axes[0])\n",
    "plt.plot(t, v)\n",
    "plt.xlabel('time (s)')\n",
    "plt.ylabel('speed (m/s)')\n",
    "\n",
    "plt.sca(axes[1])\n",
    "plt.plot(t, m)\n",
    "plt.xlabel('time (s)')\n",
    "plt.ylabel('mass (kg)')"
   ]
  },
  {
   "cell_type": "markdown",
   "metadata": {},
   "source": [
    "\n",
    "### 2b) [4 pts]\n",
    "Solve  Eq.1 and Eq.2 again using `odeint` from scipy.integrate. Also plot the absolute difference of the solutions between your RK2 solver and `odeint`. "
   ]
  },
  {
   "cell_type": "code",
   "execution_count": null,
   "metadata": {},
   "outputs": [],
   "source": [
    "def RHS(q, t):\n",
    "    v, m = q\n",
    "    dvdt = BLANK\n",
    "    dmdt = BLANK\n",
    "      \n",
    "    return [dvdt, dmdt]\n",
    "\n",
    "q0 = BLANK\n",
    "sol = odeint(BLANK, BLANK, BLANK)\n",
    "ode_v, ode_m = sol.T"
   ]
  },
  {
   "cell_type": "code",
   "execution_count": null,
   "metadata": {},
   "outputs": [],
   "source": [
    "fig, axes = plt.subplots(2, 2, figsize=(14,8))\n",
    "\n",
    "plt.sca(axes[0, 0])\n",
    "plt.plot(t, ode_v)\n",
    "plt.xlabel('time (s)')\n",
    "plt.ylabel('speed (m/s)')\n",
    "\n",
    "plt.sca(axes[0, 1])\n",
    "plt.plot(t, ode_m)\n",
    "plt.xlabel('time (s)')\n",
    "plt.ylabel('mass (kg)')\n",
    "\n",
    "plt.sca(axes[1, 0])\n",
    "plt.plot(t, BLANK)\n",
    "plt.xlabel('time (s)')\n",
    "plt.ylabel('difference in speed (m/s)')\n",
    "\n",
    "plt.sca(axes[1,1])\n",
    "plt.plot(t, BLANK)\n",
    "plt.xlabel('time (s)')\n",
    "plt.ylabel('difference in mass (kg)')"
   ]
  },
  {
   "cell_type": "markdown",
   "metadata": {},
   "source": [
    "### 2c) [2 pts]\n",
    "How would you expect the plot of the difference between your solution and `odeint`'s to change if $\\Delta$t were decreased by a factor of 10?  Why?  (You can also simply illustrate what happens and provide a rationale for the behaviour.) "
   ]
  },
  {
   "cell_type": "code",
   "execution_count": null,
   "metadata": {},
   "outputs": [],
   "source": [
    "# any additional code you may want to include goes here\n"
   ]
  },
  {
   "cell_type": "markdown",
   "metadata": {},
   "source": [
    "**Answer:** "
   ]
  },
  {
   "cell_type": "markdown",
   "metadata": {},
   "source": [
    "### 2d) [3 pts] \n",
    "Find the **time** at which the mass reaches 150 kg, i.e. when all the fuel has been burned up, and determine the **speed** of the rocket at that instant.\n",
    "\n",
    "For full marks, you will need to *interpolate* the numerical solution to at least five significant figures.  For partial marks, you may estimate these values from the plots."
   ]
  },
  {
   "cell_type": "code",
   "execution_count": null,
   "metadata": {},
   "outputs": [],
   "source": [
    "# include any required code here\n",
    "\n",
    "tfinal = BLANK\n",
    "vfinal = BLANK\n",
    "\n",
    "print('vfinal = {:.3f} m/s and tfinal = {:.3f} s'.format(tfinal, vfinal))"
   ]
  },
  {
   "cell_type": "markdown",
   "metadata": {},
   "source": [
    "## Question 3: [15 pts]\n",
    "\n",
    "A particle of unit mass initially at $(x, y) = (0, 0.1)$ and with velocity of 0.6 m/s in the positive $x$-direction feels a force governed by a potential energy given by\n",
    "\n",
    "$$U(x,y) = \\sin(3x)\\cos(2y)$$"
   ]
  },
  {
   "cell_type": "markdown",
   "metadata": {},
   "source": [
    "### 3a) [4 pts]\n",
    "\n",
    "Using SymPy, symbolically determine the components of the force ($f_x$ and $f_y$) due to the potential $U(x,y)$."
   ]
  },
  {
   "cell_type": "code",
   "execution_count": null,
   "metadata": {},
   "outputs": [],
   "source": [
    "x, y = sp.symbols(BLANK)\n",
    "\n",
    "U = BLANK\n",
    "\n",
    "fx = BLANK\n",
    "fy = BLANK\n",
    "display(fx)\n",
    "display(fy)\n",
    "\n",
    "Fx = sp.lambdify([x, y], fx, 'numpy')\n",
    "Fy = sp.lambdify([x, y], fy, 'numpy')"
   ]
  },
  {
   "cell_type": "markdown",
   "metadata": {},
   "source": [
    "### 3b) [5 pts]\n",
    "There is an additional drag force of $-0.1 v$, where $v$ is the velocity of the particle.  Use `odeint` to solve for the x and y coordinates of the particle as functions of time from $t$=0 to $t$=10 s. "
   ]
  },
  {
   "cell_type": "code",
   "execution_count": null,
   "metadata": {},
   "outputs": [],
   "source": [
    "def RHS(q, t):\n",
    "   \n",
    "    # any required code goes here\n",
    "\n",
    "    return BLANK\n",
    "    \n",
    "t = BLANK\n",
    "q0 = BLANK\n",
    "sol = odeint(RHS, q0, t)\n",
    "x, vx, y, vy = sol.T"
   ]
  },
  {
   "cell_type": "markdown",
   "metadata": {},
   "source": [
    "### 3c) [1 pts]\n",
    "Plot the trajectory of the particle in the $xy$ plane."
   ]
  },
  {
   "cell_type": "code",
   "execution_count": null,
   "metadata": {},
   "outputs": [],
   "source": [
    "plt.plot(BLANK, BLANK)\n",
    "plt.xlabel('x (m)')\n",
    "plt.ylabel('y (m)')"
   ]
  },
  {
   "cell_type": "markdown",
   "metadata": {},
   "source": [
    "### 3d) [3 pts]\n",
    "\n",
    "Plot the kinetic energy, potential energy and total (mechanical) energy of the particle for the first 10 s.  Include a legend."
   ]
  },
  {
   "cell_type": "code",
   "execution_count": null,
   "metadata": {},
   "outputs": [],
   "source": [
    "kinetic = BLANK\n",
    "potential =  BLANK\n",
    "total = BLANK\n",
    "\n",
    "plt.plot(t, kinetic, label='KE')\n",
    "plt.plot(t, potential, label='PE')\n",
    "plt.plot(t, total, label='TE')\n",
    "\n",
    "plt.legend()"
   ]
  },
  {
   "cell_type": "markdown",
   "metadata": {},
   "source": [
    "### 3e) [2 pts]\n",
    "\n",
    "Is this system chaotic?  Explain."
   ]
  },
  {
   "cell_type": "markdown",
   "metadata": {},
   "source": [
    "**Answer:** "
   ]
  },
  {
   "cell_type": "code",
   "execution_count": null,
   "metadata": {},
   "outputs": [],
   "source": []
  },
  {
   "cell_type": "markdown",
   "metadata": {},
   "source": [
    "## Question 4: [15 pts]"
   ]
  },
  {
   "cell_type": "markdown",
   "metadata": {},
   "source": [
    "<img src=\"http://www.physics.mun.ca/~jmunroe/block-final-F2016.png\" width=\"500\">"
   ]
  },
  {
   "cell_type": "markdown",
   "metadata": {},
   "source": [
    "A 2.7 kg block is pushed up an inclined plane set at an angle of $\\theta = 34^{\\circ}$ up from the horizontal.  In addition to gravity, there is a time-varying **horizontally** applied force (pushing the block into and up the plane, as shown) with a magnitude in Newtons is given by $$F_A(t)= 8 \\mathrm{exp}(-t/3)$$  The coefficient of friction depends slightly on the speed of the block and is given by $$\\mu = 0.2+0.1s,$$ where $s$ is the speed of the block relative to the surface of the plane in m/s.  At $t$=0, the block is sliding up the plane with speed 2.2 m/s.  The coordinate system to be used in this question is shown in the diagram.\n",
    "\n",
    "**Note:** *This question is set up to use SymPy variables, expressions, and substitution.*"
   ]
  },
  {
   "cell_type": "code",
   "execution_count": null,
   "metadata": {},
   "outputs": [],
   "source": [
    "# declare SymPy variables\n",
    "x, v, t, s, θ, m, g = sp.symbols('x, v, t, s, θ, m, g')\n",
    "\n",
    "# physical parameters for the question\n",
    "params = { θ : np.deg2rad(34), \n",
    "           g : 9.81,\n",
    "           m : 2.7,\n",
    "           s : abs(v),  # speed is the magnitude of velocity\n",
    "           t0 : 2.2,\n",
    "         }"
   ]
  },
  {
   "cell_type": "markdown",
   "metadata": {},
   "source": [
    "### 4a) [1 pt]\n",
    "\n",
    "Define a SymPy expression for the magnitude of the applied force as a function of time."
   ]
  },
  {
   "cell_type": "code",
   "execution_count": null,
   "metadata": {},
   "outputs": [],
   "source": [
    "Fa = BLANK\n",
    "\n",
    "display(Fa)"
   ]
  },
  {
   "cell_type": "markdown",
   "metadata": {},
   "source": [
    "### 4b) [2 pt]\n",
    "What are the x and y components of the applied force?\n",
    "\n",
    "Evaluate the y-component of the applied force numerically at $t$=4.1 s.\n"
   ]
  },
  {
   "cell_type": "code",
   "execution_count": null,
   "metadata": {},
   "outputs": [],
   "source": [
    "Fa_x = BLANK\n",
    "Fa_y = BLANK"
   ]
  },
  {
   "cell_type": "code",
   "execution_count": null,
   "metadata": {},
   "outputs": [],
   "source": [
    "Fa_y_value = BLANK\n",
    "\n",
    "print ('Applied force has a y-component of {:.3f} N'.format(Fa_y_value))"
   ]
  },
  {
   "cell_type": "markdown",
   "metadata": {},
   "source": [
    "### 4c) [2 pt]\n",
    "\n",
    "Define an expression for the y component of the gravitational force on the block.\n",
    "\n",
    "What is the (numerically evaluated) magnitude of the normal force at $t$=4.1 s? "
   ]
  },
  {
   "cell_type": "code",
   "execution_count": null,
   "metadata": {},
   "outputs": [],
   "source": [
    "Fg = BLANK\n",
    "\n",
    "Fg_y = BLANK\n",
    "Fg_x = BLANK"
   ]
  },
  {
   "cell_type": "code",
   "execution_count": null,
   "metadata": {},
   "outputs": [],
   "source": [
    "Fn = BLANK\n",
    "\n",
    "Fn_value = BLANK\n",
    "\n",
    "print ('Normal force at t=4.1 s is {:.3f} N'.format(Fn_value))"
   ]
  },
  {
   "cell_type": "markdown",
   "metadata": {
    "cell_style": "center"
   },
   "source": [
    "### 4d) [2 pts]\n",
    "\n",
    "Define an expression for the magnitude of the friction force that depends on both time and speed of the block. \n",
    "\n",
    "What is the magnitude of the friction force at $t$=0? "
   ]
  },
  {
   "cell_type": "code",
   "execution_count": null,
   "metadata": {},
   "outputs": [],
   "source": [
    "μ = BLANK\n",
    "Ffric = BLANK"
   ]
  },
  {
   "cell_type": "code",
   "execution_count": null,
   "metadata": {},
   "outputs": [],
   "source": [
    "Ffric_value = BLANK\n",
    "\n",
    "print ('Friction force at t=0 s is {:.3f} N'.format(Ffric_value))"
   ]
  },
  {
   "cell_type": "markdown",
   "metadata": {},
   "source": [
    "### 4e) [2 pts]\n",
    "\n",
    "Define an expression for the total net force acting in the x-direction.  Be very mindful of the direction of the frictional force (it depends on the velocity in that it always acts against the motion of the block).  Recall that speed is just the magnitude of the velocity (absolute value in this case)."
   ]
  },
  {
   "cell_type": "code",
   "execution_count": null,
   "metadata": {},
   "outputs": [],
   "source": [
    "Fnet = BLANK\n",
    "\n",
    "display(Fnet)"
   ]
  },
  {
   "cell_type": "markdown",
   "metadata": {},
   "source": [
    "### 4f) [2 pts]\n",
    "Use `odeint` to find the position of the block on the inclined plane for the first 100 s (assuming $x$=0 at $t$=0). "
   ]
  },
  {
   "cell_type": "code",
   "execution_count": null,
   "metadata": {},
   "outputs": [],
   "source": [
    "dvdt = sp.lambdify(BLANK, BLANK.subs(params), 'numpy')\n",
    "\n",
    "def RHS(q, t):\n",
    "    x, v = q\n",
    "    return [BLANK, BLANK]\n",
    "\n",
    "t_sol = BLANK\n",
    "q0 = BLANK\n",
    "sol = BLANK\n",
    "x_sol, v_sol = sol.T"
   ]
  },
  {
   "cell_type": "markdown",
   "metadata": {},
   "source": [
    "### 4g) [1 pts]\n",
    "Plot your solution for up to $t$ = 1 s."
   ]
  },
  {
   "cell_type": "code",
   "execution_count": null,
   "metadata": {},
   "outputs": [],
   "source": [
    "fig, axes = plt.subplots(1, 2, figsize=(12,4))\n",
    "\n",
    "plt.sca(axes[0])\n",
    "plt.plot(BLANK, BLANK)\n",
    "plt.xlabel('t (s)')\n",
    "plt.ylabel('x (m)')\n",
    "plt.xlim(0, 1)\n",
    "plt.ylim(0, 0.4)\n",
    "\n",
    "plt.sca(axes[1])\n",
    "plt.plot(BLANK, BLANK)\n",
    "plt.xlabel('t (s)')\n",
    "plt.ylabel('v (m/s)')\n",
    "plt.xlim(0, 1)\n",
    "plt.ylim(-2, 2)"
   ]
  },
  {
   "cell_type": "markdown",
   "metadata": {},
   "source": [
    "### 4h) [1 pt]\n",
    "\n",
    "How high up the plane does the block travel, and when does it reach that maximum?\n",
    "*Use may use either interpolation or your plots from 4e)*"
   ]
  },
  {
   "cell_type": "code",
   "execution_count": null,
   "metadata": {},
   "outputs": [],
   "source": [
    "xmax = BLANK\n",
    "\n",
    "tmax = BLANK\n",
    "\n",
    "print ('Maximum height occurs at tmax = {:.3f} s and xmax = {:.3f} m'.format(tmax, xmax))"
   ]
  },
  {
   "cell_type": "markdown",
   "metadata": {},
   "source": [
    "### 4i) [1 pt]\n",
    "\n",
    "What is the magnitude of the friction force at 1 s? "
   ]
  },
  {
   "cell_type": "code",
   "execution_count": null,
   "metadata": {},
   "outputs": [],
   "source": [
    "v1 = BLANK\n",
    "\n",
    "Ffric1 = BLANK\n",
    "\n",
    "print (' At t = 1 s, friction force = {:.3f} N'.format(Ffric1))"
   ]
  },
  {
   "cell_type": "markdown",
   "metadata": {},
   "source": [
    "### 4j) [ 1pt]\n",
    "Estimate the terminal speed of the block. "
   ]
  },
  {
   "cell_type": "code",
   "execution_count": null,
   "metadata": {},
   "outputs": [],
   "source": [
    "vterminal = BLANK\n",
    "\n",
    "print('The terminal velocity is {:.3f} m/s'.format(vterminal))"
   ]
  }
 ],
 "metadata": {
  "anaconda-cloud": {},
  "kernelspec": {
   "display_name": "Python 3",
   "language": "python",
   "name": "python3"
  },
  "language_info": {
   "codemirror_mode": {
    "name": "ipython",
    "version": 3
   },
   "file_extension": ".py",
   "mimetype": "text/x-python",
   "name": "python",
   "nbconvert_exporter": "python",
   "pygments_lexer": "ipython3",
   "version": "3.6.7"
  }
 },
 "nbformat": 4,
 "nbformat_minor": 2
}
