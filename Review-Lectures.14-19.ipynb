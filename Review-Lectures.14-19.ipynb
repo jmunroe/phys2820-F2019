{
 "cells": [
  {
   "cell_type": "markdown",
   "metadata": {},
   "source": [
    "# PHYS 2820\n",
    "## Review: Lectures 14-19\n"
   ]
  },
  {
   "cell_type": "code",
   "execution_count": 1,
   "metadata": {},
   "outputs": [],
   "source": [
    "%matplotlib inline\n",
    "import numpy as np\n",
    "import pandas as pd\n",
    "import sympy as sp\n",
    "sp.init_printing(use_latex='mathjax') # pretty printing with LaTeX\n",
    "from scipy.integrate import odeint\n",
    "from scipy.optimize import curve_fit\n",
    "import matplotlib.pyplot as plt\n",
    "import tqdm\n",
    "from ipywidgets import interactive, fixed"
   ]
  },
  {
   "cell_type": "markdown",
   "metadata": {
    "slideshow": {
     "slide_type": "slide"
    }
   },
   "source": [
    "- - -\n"
   ]
  },
  {
   "cell_type": "markdown",
   "metadata": {},
   "source": [
    "# Computer Algebra Systems\n",
    "## Lecture 14"
   ]
  },
  {
   "cell_type": "markdown",
   "metadata": {},
   "source": [
    "## Symbols\n",
    "\n",
    "Just like the NumPy `ndarray` or the Pandas `DataFrame`, SymPy has `Symbol`, which represents a mathematical variable.\n",
    "\n",
    "We create symbols using the function `symbols`.  Operations on these symbols don't do numeric work like with NumPy or Pandas, instead they build up mathematical expressions."
   ]
  },
  {
   "cell_type": "code",
   "execution_count": 2,
   "metadata": {
    "collapsed": false
   },
   "outputs": [],
   "source": [
    "x, y, z = sp.symbols('x,y,z')\n",
    "alpha, beta, gamma = sp.symbols('α,beta,gamma')"
   ]
  },
  {
   "cell_type": "code",
   "execution_count": 3,
   "metadata": {
    "collapsed": false
   },
   "outputs": [
    {
     "data": {
      "text/latex": [
       "$\\displaystyle x + 1$"
      ],
      "text/plain": [
       "x + 1"
      ]
     },
     "execution_count": 3,
     "metadata": {},
     "output_type": "execute_result"
    }
   ],
   "source": [
    "x + 1"
   ]
  },
  {
   "cell_type": "code",
   "execution_count": 4,
   "metadata": {
    "collapsed": false
   },
   "outputs": [
    {
     "data": {
      "text/latex": [
       "$\\displaystyle \\gamma + \\log{\\left(α^{\\beta} \\right)}$"
      ],
      "text/plain": [
       "       ⎛ β⎞\n",
       "γ + log⎝α ⎠"
      ]
     },
     "execution_count": 4,
     "metadata": {},
     "output_type": "execute_result"
    }
   ],
   "source": [
    "sp.log(alpha**beta) + gamma"
   ]
  },
  {
   "cell_type": "code",
   "execution_count": 5,
   "metadata": {
    "collapsed": false
   },
   "outputs": [
    {
     "data": {
      "text/latex": [
       "$\\displaystyle \\sin^{2}{\\left(x \\right)} + \\cos^{2}{\\left(x \\right)}$"
      ],
      "text/plain": [
       "   2         2   \n",
       "sin (x) + cos (x)"
      ]
     },
     "execution_count": 5,
     "metadata": {},
     "output_type": "execute_result"
    }
   ],
   "source": [
    "sp.sin(x)**2 + sp.cos(x)**2"
   ]
  },
  {
   "cell_type": "markdown",
   "metadata": {},
   "source": [
    "## Derivatives\n",
    "\n",
    "One of the most commonly requested operations in SymPy is the derivative.  To take the derivative of an expression use the `diff` method"
   ]
  },
  {
   "cell_type": "code",
   "execution_count": 6,
   "metadata": {
    "collapsed": false
   },
   "outputs": [
    {
     "data": {
      "text/latex": [
       "$\\displaystyle 2 x$"
      ],
      "text/plain": [
       "2⋅x"
      ]
     },
     "execution_count": 6,
     "metadata": {},
     "output_type": "execute_result"
    }
   ],
   "source": [
    "(x**2).diff(x)"
   ]
  },
  {
   "cell_type": "code",
   "execution_count": 7,
   "metadata": {
    "collapsed": false
   },
   "outputs": [
    {
     "data": {
      "text/latex": [
       "$\\displaystyle \\cos{\\left(x \\right)}$"
      ],
      "text/plain": [
       "cos(x)"
      ]
     },
     "execution_count": 7,
     "metadata": {},
     "output_type": "execute_result"
    }
   ],
   "source": [
    "sp.sin(x).diff(x)"
   ]
  },
  {
   "cell_type": "code",
   "execution_count": 8,
   "metadata": {
    "collapsed": false
   },
   "outputs": [
    {
     "data": {
      "text/latex": [
       "$\\displaystyle 2 x + y$"
      ],
      "text/plain": [
       "2⋅x + y"
      ]
     },
     "execution_count": 8,
     "metadata": {},
     "output_type": "execute_result"
    }
   ],
   "source": [
    "(x**2 + x*y + y**2).diff(x)"
   ]
  },
  {
   "cell_type": "code",
   "execution_count": 9,
   "metadata": {
    "collapsed": false
   },
   "outputs": [
    {
     "data": {
      "text/latex": [
       "$\\displaystyle x + 2 y$"
      ],
      "text/plain": [
       "x + 2⋅y"
      ]
     },
     "execution_count": 9,
     "metadata": {},
     "output_type": "execute_result"
    }
   ],
   "source": [
    "sp.diff(x**2 + x*y + y**2, y) # diff is also available as a function"
   ]
  },
  {
   "cell_type": "markdown",
   "metadata": {},
   "source": [
    "## Expressions\n",
    "\n",
    "SymPy has a number of useful routines to manipulate expressions.  The most commonly used function is `simplify`."
   ]
  },
  {
   "cell_type": "code",
   "execution_count": 10,
   "metadata": {
    "collapsed": false
   },
   "outputs": [
    {
     "data": {
      "text/latex": [
       "$\\displaystyle \\sin^{2}{\\left(x \\right)} + \\cos^{2}{\\left(x \\right)}$"
      ],
      "text/plain": [
       "   2         2   \n",
       "sin (x) + cos (x)"
      ]
     },
     "execution_count": 10,
     "metadata": {},
     "output_type": "execute_result"
    }
   ],
   "source": [
    "expr = sp.sin(x)**2 + sp.cos(x)**2\n",
    "expr"
   ]
  },
  {
   "cell_type": "code",
   "execution_count": 11,
   "metadata": {
    "collapsed": false
   },
   "outputs": [
    {
     "data": {
      "text/latex": [
       "$\\displaystyle 1$"
      ],
      "text/plain": [
       "1"
      ]
     },
     "execution_count": 11,
     "metadata": {},
     "output_type": "execute_result"
    }
   ],
   "source": [
    "sp.simplify(expr)"
   ]
  },
  {
   "cell_type": "markdown",
   "metadata": {},
   "source": [
    "# Numeric Evaluation\n",
    "\n",
    "In this section we'll learn how to use our symbolic equations to drive numeric computations"
   ]
  },
  {
   "cell_type": "code",
   "execution_count": 12,
   "metadata": {
    "collapsed": false
   },
   "outputs": [],
   "source": [
    "x, y, z = sp.symbols('x,y,z')\n",
    "n, m = sp.symbols('n,m', integer=True)"
   ]
  },
  {
   "cell_type": "markdown",
   "metadata": {},
   "source": [
    "## `.subs` and `.evalf`\n",
    "\n",
    "The simplest (and slowest) ways to evaluate an expression numerically is with the `.subs` and `.evalf` methods "
   ]
  },
  {
   "cell_type": "code",
   "execution_count": 13,
   "metadata": {
    "collapsed": false
   },
   "outputs": [
    {
     "data": {
      "text/latex": [
       "$\\displaystyle \\sin{\\left(x \\right)}$"
      ],
      "text/plain": [
       "sin(x)"
      ]
     },
     "execution_count": 13,
     "metadata": {},
     "output_type": "execute_result"
    }
   ],
   "source": [
    "sp.sin(x)"
   ]
  },
  {
   "cell_type": "code",
   "execution_count": 14,
   "metadata": {
    "collapsed": false
   },
   "outputs": [
    {
     "data": {
      "text/latex": [
       "$\\displaystyle 0$"
      ],
      "text/plain": [
       "0"
      ]
     },
     "execution_count": 14,
     "metadata": {},
     "output_type": "execute_result"
    }
   ],
   "source": [
    "sp.sin(x).subs({x: 0})"
   ]
  },
  {
   "cell_type": "code",
   "execution_count": 15,
   "metadata": {
    "collapsed": false
   },
   "outputs": [
    {
     "data": {
      "text/latex": [
       "$\\displaystyle \\pi$"
      ],
      "text/plain": [
       "π"
      ]
     },
     "execution_count": 15,
     "metadata": {},
     "output_type": "execute_result"
    }
   ],
   "source": [
    "sp.acos(x).subs({x: -1})"
   ]
  },
  {
   "cell_type": "code",
   "execution_count": 16,
   "metadata": {
    "collapsed": false
   },
   "outputs": [
    {
     "data": {
      "text/latex": [
       "$\\displaystyle 3.14159265358979$"
      ],
      "text/plain": [
       "3.14159265358979"
      ]
     },
     "execution_count": 16,
     "metadata": {},
     "output_type": "execute_result"
    }
   ],
   "source": [
    "sp.acos(x).subs({x: -1}).evalf()"
   ]
  },
  {
   "cell_type": "code",
   "execution_count": 17,
   "metadata": {
    "collapsed": false
   },
   "outputs": [
    {
     "data": {
      "text/latex": [
       "$\\displaystyle 3.141592653589793238462643383279502884197169399375105820974944592307816406286208998628034825342117068$"
      ],
      "text/plain": [
       "3.1415926535897932384626433832795028841971693993751058209749445923078164062862\n",
       "08998628034825342117068"
      ]
     },
     "execution_count": 17,
     "metadata": {},
     "output_type": "execute_result"
    }
   ],
   "source": [
    "sp.acos(x).subs({x: -1}).evalf(n=100)"
   ]
  },
  {
   "cell_type": "markdown",
   "metadata": {},
   "source": [
    "## `lambdify`\n",
    "\n",
    "The `.subs` and `.evalf` methods are great for when you want to evaluate an expression at a single point.  When you want to evaluate your expression on lots of points they quickly become slow. \n",
    "\n",
    "To resolve this problem SymPy can rewrite its expressions as normal Python functions using the `math` library, vectorized computations using the NumPy library, C or Fortran Code using code printers, or even more sophisticated systems.\n",
    "\n",
    "We'll talk about some of the more advanced topics later.  For now, `lambdify`..."
   ]
  },
  {
   "cell_type": "code",
   "execution_count": 18,
   "metadata": {},
   "outputs": [
    {
     "data": {
      "text/latex": [
       "$\\displaystyle 6$"
      ],
      "text/plain": [
       "6"
      ]
     },
     "execution_count": 18,
     "metadata": {},
     "output_type": "execute_result"
    }
   ],
   "source": [
    "myfunc = lambda x: 2*x\n",
    "\n",
    "myfunc(3)"
   ]
  },
  {
   "cell_type": "code",
   "execution_count": 19,
   "metadata": {
    "collapsed": false
   },
   "outputs": [
    {
     "data": {
      "text/latex": [
       "$\\displaystyle 9$"
      ],
      "text/plain": [
       "9"
      ]
     },
     "execution_count": 19,
     "metadata": {},
     "output_type": "execute_result"
    }
   ],
   "source": [
    "# function = lambdify(input, output)\n",
    "\n",
    "f = sp.lambdify(x, x**2)\n",
    "f(3)"
   ]
  },
  {
   "cell_type": "code",
   "execution_count": 20,
   "metadata": {
    "collapsed": false
   },
   "outputs": [
    {
     "data": {
      "text/plain": [
       "array([ 1,  4,  9, 16, 25])"
      ]
     },
     "execution_count": 20,
     "metadata": {},
     "output_type": "execute_result"
    }
   ],
   "source": [
    "f = sp.lambdify(x, x**2, 'numpy')  # Use numpy backend\n",
    "data = np.array([1, 2, 3, 4, 5])\n",
    "f(data)"
   ]
  },
  {
   "cell_type": "markdown",
   "metadata": {},
   "source": [
    "- - -"
   ]
  },
  {
   "cell_type": "markdown",
   "metadata": {},
   "source": [
    "#### Representing a symbolic equality, like say: $$x^2 = y$$"
   ]
  },
  {
   "cell_type": "code",
   "execution_count": 21,
   "metadata": {
    "collapsed": false
   },
   "outputs": [],
   "source": [
    "eq = sp.Eq(x**2, y)"
   ]
  },
  {
   "cell_type": "code",
   "execution_count": 22,
   "metadata": {
    "collapsed": false
   },
   "outputs": [
    {
     "data": {
      "text/latex": [
       "$\\displaystyle x^{2}$"
      ],
      "text/plain": [
       " 2\n",
       "x "
      ]
     },
     "execution_count": 22,
     "metadata": {},
     "output_type": "execute_result"
    }
   ],
   "source": [
    "eq.lhs"
   ]
  },
  {
   "cell_type": "code",
   "execution_count": 23,
   "metadata": {
    "collapsed": false
   },
   "outputs": [
    {
     "data": {
      "text/latex": [
       "$\\displaystyle y$"
      ],
      "text/plain": [
       "y"
      ]
     },
     "execution_count": 23,
     "metadata": {},
     "output_type": "execute_result"
    }
   ],
   "source": [
    "eq.rhs"
   ]
  },
  {
   "cell_type": "code",
   "execution_count": 24,
   "metadata": {
    "collapsed": false
   },
   "outputs": [
    {
     "data": {
      "text/latex": [
       "$\\displaystyle \\left[ - \\sqrt{y}, \\  \\sqrt{y}\\right]$"
      ],
      "text/plain": [
       "[-√y, √y]"
      ]
     },
     "execution_count": 24,
     "metadata": {},
     "output_type": "execute_result"
    }
   ],
   "source": [
    "sp.solve(eq, x)"
   ]
  },
  {
   "cell_type": "markdown",
   "metadata": {},
   "source": [
    "## Substitution\n",
    "\n",
    "We often want to substitute in one expression for another.  For this we use the subs method"
   ]
  },
  {
   "cell_type": "code",
   "execution_count": 25,
   "metadata": {
    "collapsed": false
   },
   "outputs": [
    {
     "data": {
      "text/latex": [
       "$\\displaystyle x^{2}$"
      ],
      "text/plain": [
       " 2\n",
       "x "
      ]
     },
     "execution_count": 25,
     "metadata": {},
     "output_type": "execute_result"
    }
   ],
   "source": [
    "x**2"
   ]
  },
  {
   "cell_type": "code",
   "execution_count": 26,
   "metadata": {
    "collapsed": false
   },
   "outputs": [
    {
     "data": {
      "text/latex": [
       "$\\displaystyle y^{2}$"
      ],
      "text/plain": [
       " 2\n",
       "y "
      ]
     },
     "execution_count": 26,
     "metadata": {},
     "output_type": "execute_result"
    }
   ],
   "source": [
    "# Replace x with y\n",
    "(x**2).subs({x: y})"
   ]
  },
  {
   "cell_type": "markdown",
   "metadata": {},
   "source": [
    "### Exercise\n",
    "\n",
    "Subsitute $x$ for $sin(x)$ in the equation $x^2 + 2\\cdot x + 1$"
   ]
  },
  {
   "cell_type": "code",
   "execution_count": 27,
   "metadata": {
    "collapsed": false
   },
   "outputs": [
    {
     "data": {
      "text/latex": [
       "$\\displaystyle \\sin^{2}{\\left(x \\right)} + 2 \\sin{\\left(x \\right)} + 1$"
      ],
      "text/plain": [
       "   2                  \n",
       "sin (x) + 2⋅sin(x) + 1"
      ]
     },
     "execution_count": 27,
     "metadata": {},
     "output_type": "execute_result"
    }
   ],
   "source": [
    "# Replace x with sin(x)\n",
    "\n",
    "(x**2 + 2*x + 1).subs({ x : sp.sin(x)})"
   ]
  },
  {
   "cell_type": "markdown",
   "metadata": {},
   "source": [
    "## Subs + Solve\n",
    "\n",
    "We can use subs and solve together to plug the solution of one equation into another"
   ]
  },
  {
   "cell_type": "markdown",
   "metadata": {},
   "source": [
    "### Example\n",
    "The radius of a sphere given its volume $ V = \\frac{4}{3}\\pi r^3$."
   ]
  },
  {
   "cell_type": "code",
   "execution_count": 28,
   "metadata": {
    "collapsed": false
   },
   "outputs": [],
   "source": [
    "V, r = sp.symbols('V, r', real=True)\n",
    "\n",
    "# as an equation this can writen as either\n",
    "volume_eq = V - 4*sp.pi/3 * r**3\n",
    "# or\n",
    "volume_eq = sp.Eq(V, 4*sp.pi/3 * r**3)"
   ]
  },
  {
   "cell_type": "code",
   "execution_count": 29,
   "metadata": {
    "collapsed": false
   },
   "outputs": [
    {
     "data": {
      "text/latex": [
       "$\\displaystyle \\left[ \\left\\{ r : \\frac{\\sqrt[3]{6} \\sqrt[3]{V}}{2 \\sqrt[3]{\\pi}}\\right\\}, \\  \\left\\{ r : - \\frac{\\sqrt[3]{6} \\sqrt[3]{V}}{4 \\sqrt[3]{\\pi}} - \\frac{\\sqrt[3]{2} \\cdot 3^{\\frac{5}{6}} i \\sqrt[3]{V}}{4 \\sqrt[3]{\\pi}}\\right\\}, \\  \\left\\{ r : - \\frac{\\sqrt[3]{6} \\sqrt[3]{V}}{4 \\sqrt[3]{\\pi}} + \\frac{\\sqrt[3]{2} \\cdot 3^{\\frac{5}{6}} i \\sqrt[3]{V}}{4 \\sqrt[3]{\\pi}}\\right\\}\\right]$"
      ],
      "text/plain": [
       "⎡⎧   3 ___ 3 ___⎫  ⎧     3 ___ 3 ___   3 ___  5/6   3 ___⎫  ⎧     3 ___ 3 ___ \n",
       "⎢⎪   ╲╱ 6 ⋅╲╱ V ⎪  ⎪     ╲╱ 6 ⋅╲╱ V    ╲╱ 2 ⋅3   ⋅ⅈ⋅╲╱ V ⎪  ⎪     ╲╱ 6 ⋅╲╱ V  \n",
       "⎢⎨r: ───────────⎬, ⎨r: - ─────────── - ──────────────────⎬, ⎨r: - ─────────── \n",
       "⎢⎪       3 ___  ⎪  ⎪         3 ___            3 ___      ⎪  ⎪         3 ___   \n",
       "⎣⎩     2⋅╲╱ π   ⎭  ⎩       4⋅╲╱ π           4⋅╲╱ π       ⎭  ⎩       4⋅╲╱ π    \n",
       "\n",
       "  3 ___  5/6   3 ___⎫⎤\n",
       "  ╲╱ 2 ⋅3   ⋅ⅈ⋅╲╱ V ⎪⎥\n",
       "+ ──────────────────⎬⎥\n",
       "         3 ___      ⎪⎥\n",
       "       4⋅╲╱ π       ⎭⎦"
      ]
     },
     "execution_count": 29,
     "metadata": {},
     "output_type": "execute_result"
    }
   ],
   "source": [
    "soln = sp.solve([volume_eq], [r], dict=True)\n",
    "soln"
   ]
  },
  {
   "cell_type": "markdown",
   "metadata": {},
   "source": [
    "We want the first of these three solutions"
   ]
  },
  {
   "cell_type": "code",
   "execution_count": 30,
   "metadata": {},
   "outputs": [
    {
     "data": {
      "text/latex": [
       "$\\displaystyle \\left\\{ r : \\frac{\\sqrt[3]{6} \\sqrt[3]{V}}{2 \\sqrt[3]{\\pi}}\\right\\}$"
      ],
      "text/plain": [
       "⎧   3 ___ 3 ___⎫\n",
       "⎪   ╲╱ 6 ⋅╲╱ V ⎪\n",
       "⎨r: ───────────⎬\n",
       "⎪       3 ___  ⎪\n",
       "⎩     2⋅╲╱ π   ⎭"
      ]
     },
     "execution_count": 30,
     "metadata": {},
     "output_type": "execute_result"
    }
   ],
   "source": [
    "soln[0]"
   ]
  },
  {
   "cell_type": "markdown",
   "metadata": {},
   "source": [
    "Now lets compute the surface area of a sphere in terms of the volume.  Recall that the surface area of a sphere is given by\n",
    "\n",
    "$$ 4 \\pi r^2 $$"
   ]
  },
  {
   "cell_type": "code",
   "execution_count": 31,
   "metadata": {
    "collapsed": false
   },
   "outputs": [
    {
     "data": {
      "text/latex": [
       "$\\displaystyle 6^{\\frac{2}{3}} \\sqrt[3]{\\pi} V^{\\frac{2}{3}}$"
      ],
      "text/plain": [
       " 2/3 3 ___  2/3\n",
       "6   ⋅╲╱ π ⋅V   "
      ]
     },
     "execution_count": 31,
     "metadata": {},
     "output_type": "execute_result"
    }
   ],
   "source": [
    "(4*sp.pi*r**2).subs(soln[0])"
   ]
  },
  {
   "cell_type": "markdown",
   "metadata": {},
   "source": [
    "Does the expression look right?  How would you expect the surface area to scale with respect to the volume?  What is the exponent on $V$?"
   ]
  },
  {
   "cell_type": "markdown",
   "metadata": {},
   "source": [
    "- - -"
   ]
  },
  {
   "cell_type": "markdown",
   "metadata": {},
   "source": [
    "# Solvers"
   ]
  },
  {
   "cell_type": "markdown",
   "metadata": {},
   "source": [
    "## Differential Equations"
   ]
  },
  {
   "cell_type": "markdown",
   "metadata": {},
   "source": [
    "A population that grows without bound is modeled by the differential equation\n",
    "\n",
    "$$f'(t)=af(t)$$\n",
    "\n",
    "Solve this differential equation using SymPy."
   ]
  },
  {
   "cell_type": "code",
   "execution_count": 32,
   "metadata": {},
   "outputs": [],
   "source": [
    "t, a = sp.symbols('t, a')\n",
    "f = sp.symbols('f', cls=sp.Function)"
   ]
  },
  {
   "cell_type": "code",
   "execution_count": 33,
   "metadata": {
    "collapsed": false
   },
   "outputs": [
    {
     "data": {
      "text/latex": [
       "$\\displaystyle f{\\left(t \\right)} = C_{1} e^{a t}$"
      ],
      "text/plain": [
       "           a⋅t\n",
       "f(t) = C₁⋅ℯ   "
      ]
     },
     "execution_count": 33,
     "metadata": {},
     "output_type": "execute_result"
    }
   ],
   "source": [
    "sp.dsolve(f(t).diff(t) - a*f(t), f(t))"
   ]
  },
  {
   "cell_type": "markdown",
   "metadata": {},
   "source": [
    "If the population growth is bounded, it is modeled by \n",
    "\n",
    "$$f'(t) = f(t)(1 - f(t))$$\n",
    "\n",
    "Solve this differential equation using SymPy."
   ]
  },
  {
   "cell_type": "code",
   "execution_count": 34,
   "metadata": {
    "collapsed": false
   },
   "outputs": [
    {
     "data": {
      "text/latex": [
       "$\\displaystyle f{\\left(t \\right)} = \\frac{1}{C_{1} e^{- t} + 1}$"
      ],
      "text/plain": [
       "           1     \n",
       "f(t) = ──────────\n",
       "           -t    \n",
       "       C₁⋅ℯ   + 1"
      ]
     },
     "execution_count": 34,
     "metadata": {},
     "output_type": "execute_result"
    }
   ],
   "source": [
    "sp.dsolve(f(t).diff(t) - f(t)*(1 - f(t)), f(t))"
   ]
  },
  {
   "cell_type": "markdown",
   "metadata": {},
   "source": [
    "In Lecture 13, we considered the equation of motion\n",
    "\n",
    "$$ma = -bv -mg$$"
   ]
  },
  {
   "cell_type": "markdown",
   "metadata": {},
   "source": [
    "Now the code from that lecture should be more familar."
   ]
  },
  {
   "cell_type": "code",
   "execution_count": 35,
   "metadata": {},
   "outputs": [
    {
     "data": {
      "text/latex": [
       "$\\displaystyle m \\frac{d^{2}}{d t^{2}} y{\\left(t \\right)} = - b \\frac{d}{d t} y{\\left(t \\right)} - g m$"
      ],
      "text/plain": [
       "    2                           \n",
       "   d              d             \n",
       "m⋅───(y(t)) = - b⋅──(y(t)) - g⋅m\n",
       "    2             dt            \n",
       "  dt                            "
      ]
     },
     "execution_count": 35,
     "metadata": {},
     "output_type": "execute_result"
    }
   ],
   "source": [
    "b, g, m, t = sp.symbols('b,g,m,t')\n",
    "y = sp.symbols('y', cls=sp.Function)\n",
    "\n",
    "eqn = sp.Eq(m*y(t).diff(t,2),  - b*y(t).diff(t) - m *g)\n",
    "eqn"
   ]
  },
  {
   "cell_type": "code",
   "execution_count": 36,
   "metadata": {},
   "outputs": [
    {
     "data": {
      "text/latex": [
       "$\\displaystyle y{\\left(t \\right)} = C_{1} + C_{2} e^{- \\frac{b t}{m}} - \\frac{g m t}{b}$"
      ],
      "text/plain": [
       "                -b⋅t         \n",
       "                ─────        \n",
       "                  m     g⋅m⋅t\n",
       "y(t) = C₁ + C₂⋅ℯ      - ─────\n",
       "                          b  "
      ]
     },
     "execution_count": 36,
     "metadata": {},
     "output_type": "execute_result"
    }
   ],
   "source": [
    "sp.dsolve(eqn, y(t))"
   ]
  },
  {
   "cell_type": "code",
   "execution_count": 37,
   "metadata": {},
   "outputs": [
    {
     "data": {
      "text/latex": [
       "$\\displaystyle \\left\\{ y{\\left(0 \\right)} : y_{0}, \\  \\left. \\frac{d}{d t} y{\\left(t \\right)} \\right|_{\\substack{ t=0 }} : v_{0}\\right\\}$"
      ],
      "text/plain": [
       "⎧          ⎛d       ⎞│       ⎫\n",
       "⎨y(0): y₀, ⎜──(y(t))⎟│   : v₀⎬\n",
       "⎩          ⎝dt      ⎠│t=0    ⎭"
      ]
     },
     "execution_count": 37,
     "metadata": {},
     "output_type": "execute_result"
    }
   ],
   "source": [
    "y0, v0 = sp.symbols('y0,v0')\n",
    "ics = { y(t).subs(t, 0): y0, y(t).diff(t).subs(t, 0): v0} \n",
    "ics"
   ]
  },
  {
   "cell_type": "code",
   "execution_count": 38,
   "metadata": {},
   "outputs": [
    {
     "data": {
      "text/latex": [
       "$\\displaystyle y{\\left(t \\right)} = y_{0} - \\frac{g m t}{b} + \\frac{m v_{0}}{b} + \\frac{g m^{2}}{b^{2}} - \\frac{m \\left(b v_{0} + g m\\right) e^{- \\frac{b t}{m}}}{b^{2}}$"
      ],
      "text/plain": [
       "                                                  -b⋅t \n",
       "                                                  ─────\n",
       "                              2                     m  \n",
       "            g⋅m⋅t   m⋅v₀   g⋅m    m⋅(b⋅v₀ + g⋅m)⋅ℯ     \n",
       "y(t) = y₀ - ───── + ──── + ──── - ─────────────────────\n",
       "              b      b       2               2         \n",
       "                            b               b          "
      ]
     },
     "execution_count": 38,
     "metadata": {},
     "output_type": "execute_result"
    }
   ],
   "source": [
    "sp.dsolve(eqn, ics=ics)"
   ]
  },
  {
   "cell_type": "markdown",
   "metadata": {},
   "source": [
    "- - -"
   ]
  },
  {
   "cell_type": "markdown",
   "metadata": {},
   "source": [
    "# Building on Physics Past\n",
    "## Lecture 15"
   ]
  },
  {
   "cell_type": "markdown",
   "metadata": {},
   "source": [
    "## 4. Block on an inclined plane"
   ]
  },
  {
   "cell_type": "markdown",
   "metadata": {},
   "source": [
    "A m = 1.5 kg block rests on a horizontal board hinged at one end.  The coefficient of static friction is μ=0.1.  The free end of the board is lifted very slowly.  At what angle will the block begin to slide down the board?"
   ]
  },
  {
   "cell_type": "markdown",
   "metadata": {},
   "source": [
    "***Solution***"
   ]
  },
  {
   "cell_type": "code",
   "execution_count": 39,
   "metadata": {},
   "outputs": [],
   "source": [
    "m, g, μ, θ = sp.symbols('m, g, μ, θ', positive=True)"
   ]
  },
  {
   "cell_type": "markdown",
   "metadata": {},
   "source": [
    "The component of gravity acting along the board ($r=0$ is at the hinge, $r$ increases up the board):"
   ]
  },
  {
   "cell_type": "code",
   "execution_count": 40,
   "metadata": {},
   "outputs": [],
   "source": [
    "Fg_radial = - m * g * sp.sin(θ)"
   ]
  },
  {
   "cell_type": "markdown",
   "metadata": {},
   "source": [
    "The component of gravity acting prependicular to the board:"
   ]
  },
  {
   "cell_type": "code",
   "execution_count": 41,
   "metadata": {},
   "outputs": [],
   "source": [
    "Fg_normal= - m * g * sp.cos(θ)"
   ]
  },
  {
   "cell_type": "markdown",
   "metadata": {},
   "source": [
    "Normal force on the block from the board:"
   ]
  },
  {
   "cell_type": "code",
   "execution_count": 42,
   "metadata": {},
   "outputs": [],
   "source": [
    "Fnormal = - Fg_normal"
   ]
  },
  {
   "cell_type": "markdown",
   "metadata": {},
   "source": [
    "Maximum upword force (in direction of increasing r) provided by static friction:"
   ]
  },
  {
   "cell_type": "code",
   "execution_count": 43,
   "metadata": {},
   "outputs": [],
   "source": [
    "Fstatic = μ * Fnormal"
   ]
  },
  {
   "cell_type": "markdown",
   "metadata": {},
   "source": [
    "Find θ at which Fg_radial + Fstatic = 0"
   ]
  },
  {
   "cell_type": "code",
   "execution_count": 44,
   "metadata": {},
   "outputs": [
    {
     "data": {
      "text/latex": [
       "$\\displaystyle 2 \\operatorname{atan}{\\left(\\frac{\\sqrt{μ^{2} + 1} - 1}{μ} \\right)}$"
      ],
      "text/plain": [
       "      ⎛   ________    ⎞\n",
       "      ⎜  ╱  2         ⎟\n",
       "      ⎜╲╱  μ  + 1  - 1⎟\n",
       "2⋅atan⎜───────────────⎟\n",
       "      ⎝       μ       ⎠"
      ]
     },
     "execution_count": 44,
     "metadata": {},
     "output_type": "execute_result"
    }
   ],
   "source": [
    "soln = sp.solve(Fg_radial+Fstatic, θ)[0] # pick out the first solution from a list of solutions\n",
    "soln"
   ]
  },
  {
   "cell_type": "markdown",
   "metadata": {},
   "source": [
    "SymPy seems to doing something interesting with a tangent half-angle formula, since we usually would write the solution as \n",
    "\n",
    "$$ \\tan^{-1}(\\mu) $$\n",
    "\n",
    "but this is an equivalent solution.\n"
   ]
  },
  {
   "cell_type": "markdown",
   "metadata": {},
   "source": [
    "Notice that the $m$ and $g$ have cancelled out, but we need to specify μ to get a number"
   ]
  },
  {
   "cell_type": "code",
   "execution_count": 45,
   "metadata": {},
   "outputs": [
    {
     "data": {
      "text/latex": [
       "$\\displaystyle 0.0997$"
      ],
      "text/plain": [
       "0.0997"
      ]
     },
     "execution_count": 45,
     "metadata": {},
     "output_type": "execute_result"
    }
   ],
   "source": [
    "critical_angle = soln.subs({μ: 0.1})\n",
    "critical_angle.evalf(3)"
   ]
  },
  {
   "cell_type": "markdown",
   "metadata": {},
   "source": [
    "This is in radians; in degrees it would be"
   ]
  },
  {
   "cell_type": "code",
   "execution_count": 46,
   "metadata": {},
   "outputs": [
    {
     "data": {
      "text/latex": [
       "$\\displaystyle 5.71$"
      ],
      "text/plain": [
       "5.71"
      ]
     },
     "execution_count": 46,
     "metadata": {},
     "output_type": "execute_result"
    }
   ],
   "source": [
    "(critical_angle * 180/sp.pi).evalf(3)"
   ]
  },
  {
   "cell_type": "markdown",
   "metadata": {},
   "source": [
    "So the block will begin to slide down the board at an angle of 5.71 degrees."
   ]
  },
  {
   "cell_type": "markdown",
   "metadata": {},
   "source": [
    "## 5. Block on an rotating inclined plane"
   ]
  },
  {
   "cell_type": "markdown",
   "metadata": {},
   "source": [
    "A $m=1.5$ kg block rests on a horizontal board hinged at one end.  The block rests 0.3 m away from the hinge (hinge is at r=0).  The coefficient of static friction is μ=0.1.  The free end of the board is lifted so that angle between the board and the horizontal increases at a steady rate of $\\omega$=0.4 rad/s.  At what angle will the block begin to slide down the board?\n",
    "\n",
    "The twist here is that since the board is rotating with a non-negligible speed, the block feels a centrifugal force pushing it away from the hinge (up the board).  Thus, the angle at which it begins to slide should be larger.  The centrifugal force is \n",
    "\n",
    "$$F_c = m r ω^2.$$ \n",
    "\n",
    "(Alternatively, the force of static friction provides the centripetal acceleration required to keep the block moving in constant circular motion while it as rest with respect to the board.) \n",
    "\n",
    "Use $g$=9.81 m/s$^2$."
   ]
  },
  {
   "cell_type": "markdown",
   "metadata": {},
   "source": [
    "***Solution***"
   ]
  },
  {
   "cell_type": "code",
   "execution_count": 47,
   "metadata": {},
   "outputs": [],
   "source": [
    "m, g, θ, μ, ω, r = sp.symbols('m, g, θ, μ, ω, r')"
   ]
  },
  {
   "cell_type": "markdown",
   "metadata": {},
   "source": [
    "The component of gravity acting along the board ($r$=0 is at the hinge, $r$ increases up the board):"
   ]
  },
  {
   "cell_type": "code",
   "execution_count": 48,
   "metadata": {},
   "outputs": [],
   "source": [
    "Fg_radial = -m * g * sp.sin(θ)"
   ]
  },
  {
   "cell_type": "markdown",
   "metadata": {},
   "source": [
    "Centrifugal force:"
   ]
  },
  {
   "cell_type": "code",
   "execution_count": 49,
   "metadata": {},
   "outputs": [],
   "source": [
    "Fc = m * r * ω**2"
   ]
  },
  {
   "cell_type": "markdown",
   "metadata": {},
   "source": [
    "The component of gravity acting prependicular to the board:"
   ]
  },
  {
   "cell_type": "code",
   "execution_count": 50,
   "metadata": {},
   "outputs": [],
   "source": [
    "Fg_normal = -m*g*sp.cos(θ)"
   ]
  },
  {
   "cell_type": "markdown",
   "metadata": {},
   "source": [
    "Normal force:"
   ]
  },
  {
   "cell_type": "code",
   "execution_count": 51,
   "metadata": {},
   "outputs": [],
   "source": [
    "Fnormal = -Fg_normal"
   ]
  },
  {
   "cell_type": "markdown",
   "metadata": {},
   "source": [
    "Maximum upword force (in direction of increasing r) provided by static friction:"
   ]
  },
  {
   "cell_type": "code",
   "execution_count": 52,
   "metadata": {},
   "outputs": [],
   "source": [
    "Fstatic = μ * Fnormal"
   ]
  },
  {
   "cell_type": "markdown",
   "metadata": {},
   "source": [
    "Find θ at which Fgradial + Fstat + Fc = 0"
   ]
  },
  {
   "cell_type": "code",
   "execution_count": 53,
   "metadata": {},
   "outputs": [
    {
     "data": {
      "text/latex": [
       "$\\displaystyle g m μ \\cos{\\left(θ \\right)} - g m \\sin{\\left(θ \\right)} + m r ω^{2}$"
      ],
      "text/plain": [
       "                                 2\n",
       "g⋅m⋅μ⋅cos(θ) - g⋅m⋅sin(θ) + m⋅r⋅ω "
      ]
     },
     "execution_count": 53,
     "metadata": {},
     "output_type": "execute_result"
    }
   ],
   "source": [
    "Fg_radial+Fstatic+Fc"
   ]
  },
  {
   "cell_type": "code",
   "execution_count": 54,
   "metadata": {},
   "outputs": [
    {
     "data": {
      "text/latex": [
       "$\\displaystyle \\left[ - 2 \\operatorname{atan}{\\left(\\frac{g - \\sqrt{g^{2} μ^{2} + g^{2} - r^{2} ω^{4}}}{g μ - r ω^{2}} \\right)}, \\  - 2 \\operatorname{atan}{\\left(\\frac{g + \\sqrt{g^{2} μ^{2} + g^{2} - r^{2} ω^{4}}}{g μ - r ω^{2}} \\right)}\\right]$"
      ],
      "text/plain": [
       "⎡       ⎛       ____________________⎞         ⎛       ____________________⎞⎤\n",
       "⎢       ⎜      ╱  2  2    2    2  4 ⎟         ⎜      ╱  2  2    2    2  4 ⎟⎥\n",
       "⎢       ⎜g - ╲╱  g ⋅μ  + g  - r ⋅ω  ⎟         ⎜g + ╲╱  g ⋅μ  + g  - r ⋅ω  ⎟⎥\n",
       "⎢-2⋅atan⎜───────────────────────────⎟, -2⋅atan⎜───────────────────────────⎟⎥\n",
       "⎢       ⎜                  2        ⎟         ⎜                  2        ⎟⎥\n",
       "⎣       ⎝         g⋅μ - r⋅ω         ⎠         ⎝         g⋅μ - r⋅ω         ⎠⎦"
      ]
     },
     "execution_count": 54,
     "metadata": {},
     "output_type": "execute_result"
    }
   ],
   "source": [
    "soln = sp.solve( Fg_radial + Fstatic + Fc, θ)\n",
    "soln"
   ]
  },
  {
   "cell_type": "markdown",
   "metadata": {},
   "source": [
    "Picking out the physically meaningful root (a small positive angle) as the critical angle, $\\theta_c$."
   ]
  },
  {
   "cell_type": "code",
   "execution_count": 55,
   "metadata": {},
   "outputs": [
    {
     "data": {
      "text/latex": [
       "$\\displaystyle - 2 \\operatorname{atan}{\\left(\\frac{g - \\sqrt{g^{2} μ^{2} + g^{2} - r^{2} ω^{4}}}{g μ - r ω^{2}} \\right)}$"
      ],
      "text/plain": [
       "       ⎛       ____________________⎞\n",
       "       ⎜      ╱  2  2    2    2  4 ⎟\n",
       "       ⎜g - ╲╱  g ⋅μ  + g  - r ⋅ω  ⎟\n",
       "-2⋅atan⎜───────────────────────────⎟\n",
       "       ⎜                  2        ⎟\n",
       "       ⎝         g⋅μ - r⋅ω         ⎠"
      ]
     },
     "execution_count": 55,
     "metadata": {},
     "output_type": "execute_result"
    }
   ],
   "source": [
    "θc = soln[0]\n",
    "θc"
   ]
  },
  {
   "cell_type": "markdown",
   "metadata": {},
   "source": [
    "We'll need to specify g, r, ω and μ to get a numerical result."
   ]
  },
  {
   "cell_type": "code",
   "execution_count": 56,
   "metadata": {},
   "outputs": [],
   "source": [
    "parameters = { μ:0.1, ω:0.4, r:0.3, g:9.8}"
   ]
  },
  {
   "cell_type": "code",
   "execution_count": 57,
   "metadata": {},
   "outputs": [
    {
     "data": {
      "text/latex": [
       "$\\displaystyle 5.99$"
      ],
      "text/plain": [
       "5.99"
      ]
     },
     "execution_count": 57,
     "metadata": {},
     "output_type": "execute_result"
    }
   ],
   "source": [
    "(θc.subs(parameters) * 180 / sp.pi).evalf(3)"
   ]
  },
  {
   "cell_type": "markdown",
   "metadata": {},
   "source": [
    "So the block will begin to slide down the board at an angle of 5.99 degrees."
   ]
  },
  {
   "cell_type": "markdown",
   "metadata": {},
   "source": [
    "## 7. Collision on a track"
   ]
  },
  {
   "cell_type": "markdown",
   "metadata": {},
   "source": [
    "Two carts are on a collision course on a frictionless track.  The first cart of mass $m_1$=1.1 kg is moving to the right with $v_1$=0.23 m/s while the second cart of mass $m_2$=0.87 kg is moving to the left at $v_2$=1.3 m/s.  Assuming the collision is elastic, find the velocities of the carts after the collision."
   ]
  },
  {
   "cell_type": "markdown",
   "metadata": {},
   "source": [
    "***Solution***"
   ]
  },
  {
   "cell_type": "markdown",
   "metadata": {},
   "source": [
    "Conservation of momentum\n",
    "\n",
    "$$ m_1 v_1 + m_2  v_2 = m_1 v_{1f} + m_2 v_{2f} $$"
   ]
  },
  {
   "cell_type": "code",
   "execution_count": 58,
   "metadata": {},
   "outputs": [],
   "source": [
    "m1, m2, v1i, v1f, v2i, v2f = sp.symbols('m_1, m_2, v_1i, v_1f, v_2i, v_2f')"
   ]
  },
  {
   "cell_type": "markdown",
   "metadata": {},
   "source": [
    "In Python the = means assignment and the == means equivalent; in SymPy to define a equation, we have to use the `Eq` function to denote equality of two expressions"
   ]
  },
  {
   "cell_type": "code",
   "execution_count": 59,
   "metadata": {},
   "outputs": [
    {
     "data": {
      "text/latex": [
       "$\\displaystyle m_{1} v_{1i} + m_{2} v_{2i} = m_{1} v_{1f} + m_{2} v_{2f}$"
      ],
      "text/plain": [
       "m₁⋅v₁ᵢ + m₂⋅v₂ᵢ = m₁⋅v_1f + m₂⋅v_2f"
      ]
     },
     "execution_count": 59,
     "metadata": {},
     "output_type": "execute_result"
    }
   ],
   "source": [
    "eq_p = sp.Eq(m1 * v1i + m2 * v2i,  m1*v1f + m2*v2f)\n",
    "eq_p"
   ]
  },
  {
   "cell_type": "markdown",
   "metadata": {},
   "source": [
    "Conservation of energy"
   ]
  },
  {
   "cell_type": "code",
   "execution_count": 60,
   "metadata": {},
   "outputs": [
    {
     "data": {
      "text/latex": [
       "$\\displaystyle \\frac{m_{1} v_{1i}^{2}}{2} + \\frac{m_{2} v_{2i}^{2}}{2} = \\frac{m_{1} v_{1f}^{2}}{2} + \\frac{m_{2} v_{2f}^{2}}{2}$"
      ],
      "text/plain": [
       "      2         2          2          2\n",
       "m₁⋅v₁ᵢ    m₂⋅v₂ᵢ    m₁⋅v_1f    m₂⋅v_2f \n",
       "─────── + ─────── = ──────── + ────────\n",
       "   2         2         2          2    "
      ]
     },
     "execution_count": 60,
     "metadata": {},
     "output_type": "execute_result"
    }
   ],
   "source": [
    "eq_e = sp.Eq( m1 * v1i**2/2 + m2 * v2i**2/ 2, m1 * v1f**2/2 + m2 * v2f**2/ 2 )\n",
    "eq_e"
   ]
  },
  {
   "cell_type": "code",
   "execution_count": 61,
   "metadata": {},
   "outputs": [
    {
     "data": {
      "text/latex": [
       "$\\displaystyle \\left[ \\left\\{ v_{1f} : v_{1i}, \\  v_{2f} : v_{2i}\\right\\}, \\  \\left\\{ v_{1f} : \\frac{m_{1} v_{1i} + m_{2} v_{2i} - \\frac{m_{2} \\left(2 m_{1} v_{1i} - m_{1} v_{2i} + m_{2} v_{2i}\\right)}{m_{1} + m_{2}}}{m_{1}}, \\  v_{2f} : \\frac{2 m_{1} v_{1i} - m_{1} v_{2i} + m_{2} v_{2i}}{m_{1} + m_{2}}\\right\\}\\right]$"
      ],
      "text/plain": [
       "⎡                        ⎧                        m₂⋅(2⋅m₁⋅v₁ᵢ - m₁⋅v₂ᵢ + m₂⋅v\n",
       "⎢                        ⎪      m₁⋅v₁ᵢ + m₂⋅v₂ᵢ - ────────────────────────────\n",
       "⎢                        ⎨                                    m₁ + m₂         \n",
       "⎢{v_1f: v₁ᵢ, v_2f: v₂ᵢ}, ⎪v_1f: ──────────────────────────────────────────────\n",
       "⎣                        ⎩                              m₁                    \n",
       "\n",
       "₂ᵢ)                                  ⎫⎤\n",
       "───                                  ⎪⎥\n",
       "           2⋅m₁⋅v₁ᵢ - m₁⋅v₂ᵢ + m₂⋅v₂ᵢ⎬⎥\n",
       "───, v_2f: ──────────────────────────⎪⎥\n",
       "                    m₁ + m₂          ⎭⎦"
      ]
     },
     "execution_count": 61,
     "metadata": {},
     "output_type": "execute_result"
    }
   ],
   "source": [
    "soln =  sp.solve( [eq_p, eq_e], [v1f, v2f], dict=True ) \n",
    "soln"
   ]
  },
  {
   "cell_type": "markdown",
   "metadata": {},
   "source": [
    "There are two solutions: the first the carts miss each other entirely. The second solution is the collision."
   ]
  },
  {
   "cell_type": "code",
   "execution_count": 62,
   "metadata": {},
   "outputs": [],
   "source": [
    "parameters = { m1:1.1, m2:0.87, v1i:0.23, v2i: -1.3} \n",
    "v1f_soln = soln[1][v1f].subs(parameters)\n",
    "v2f_soln = soln[1][v2f].subs(parameters)"
   ]
  },
  {
   "cell_type": "code",
   "execution_count": 63,
   "metadata": {},
   "outputs": [
    {
     "name": "stdout",
     "output_type": "stream",
     "text": [
      "v_1f = -1.1\n"
     ]
    }
   ],
   "source": [
    "print(f'v_1f = {v1f_soln.evalf(2)}')"
   ]
  },
  {
   "cell_type": "markdown",
   "metadata": {},
   "source": [
    "The first cart ends up moving to the left at -1.1 m/s."
   ]
  },
  {
   "cell_type": "code",
   "execution_count": 64,
   "metadata": {},
   "outputs": [
    {
     "name": "stdout",
     "output_type": "stream",
     "text": [
      "v_2f = 0.41\n"
     ]
    }
   ],
   "source": [
    "print(f'v_2f = {v2f_soln.evalf(2)}')"
   ]
  },
  {
   "cell_type": "markdown",
   "metadata": {},
   "source": [
    "The second cart ends up moving to the right at 0.41 m/s."
   ]
  },
  {
   "cell_type": "markdown",
   "metadata": {},
   "source": [
    "## 8. Simulating the 1D collision"
   ]
  },
  {
   "cell_type": "markdown",
   "metadata": {},
   "source": [
    "Suppose the colliding carts in example 7  are equipped with magnets so arranged that the carts feel a repulsive force of magnitude $0.1/d^4$ in newtons, where $d$ is the distance between the carts in metres.  \n",
    "\n",
    "Let's say the carts start 5 m apart (initially $x_1$=0 and $x_2$=5 metres).  Everything else is as given in example 7.  Use `odeint` from SciPy  to solve Newton's equation and then plot $x_1(t)$, $x_2(t)$, $v_1(t)$ and $v_2(t)$.  Long after the collision, do the final velocities match those given by the answer to example 7?"
   ]
  },
  {
   "cell_type": "markdown",
   "metadata": {},
   "source": [
    "***Solution***"
   ]
  },
  {
   "cell_type": "code",
   "execution_count": 65,
   "metadata": {},
   "outputs": [],
   "source": [
    "m1, m2, t, v1i, x1i, v2i, x2i = sp.symbols('m1, m2, t, v1i, x1i, v2i, x2i')\n",
    "x1, x2 = sp.symbols('x1, x2', cls=sp.Function)"
   ]
  },
  {
   "cell_type": "markdown",
   "metadata": {},
   "source": [
    "Force on cart1 depends on x1 and x2, and it always points to the left (negative)"
   ]
  },
  {
   "cell_type": "code",
   "execution_count": 66,
   "metadata": {},
   "outputs": [
    {
     "data": {
      "text/latex": [
       "$\\displaystyle - \\frac{0.1}{\\left(\\operatorname{x_{1}}{\\left(t \\right)} - \\operatorname{x_{2}}{\\left(t \\right)}\\right)^{4}}$"
      ],
      "text/plain": [
       "     -0.1       \n",
       "────────────────\n",
       "               4\n",
       "(x₁(t) - x₂(t)) "
      ]
     },
     "execution_count": 66,
     "metadata": {},
     "output_type": "execute_result"
    }
   ],
   "source": [
    "F1 = - 0.1 / (x1(t) - x2(t) )**4\n",
    "F1"
   ]
  },
  {
   "cell_type": "markdown",
   "metadata": {},
   "source": [
    "Equation of motion for cart 1"
   ]
  },
  {
   "cell_type": "code",
   "execution_count": 67,
   "metadata": {},
   "outputs": [
    {
     "data": {
      "text/latex": [
       "$\\displaystyle m_{1} \\frac{d^{2}}{d t^{2}} \\operatorname{x_{1}}{\\left(t \\right)} = - \\frac{0.1}{\\left(\\operatorname{x_{1}}{\\left(t \\right)} - \\operatorname{x_{2}}{\\left(t \\right)}\\right)^{4}}$"
      ],
      "text/plain": [
       "     2                          \n",
       "    d                -0.1       \n",
       "m₁⋅───(x₁(t)) = ────────────────\n",
       "     2                         4\n",
       "   dt           (x₁(t) - x₂(t)) "
      ]
     },
     "execution_count": 67,
     "metadata": {},
     "output_type": "execute_result"
    }
   ],
   "source": [
    "eq1 = sp.Eq(m1 * x1(t).diff(t, t), F1)\n",
    "eq1"
   ]
  },
  {
   "cell_type": "markdown",
   "metadata": {},
   "source": [
    "Information for cart1"
   ]
  },
  {
   "cell_type": "code",
   "execution_count": 68,
   "metadata": {},
   "outputs": [],
   "source": [
    "cart1 = { m1:1.1, v1i:0.23, x1i:0}"
   ]
  },
  {
   "cell_type": "markdown",
   "metadata": {},
   "source": [
    "Equation of motion for cart2"
   ]
  },
  {
   "cell_type": "markdown",
   "metadata": {},
   "source": [
    "Force on cart2 depends on x1 and x2, and it always points to the right (positive).  It's also equal and opposite the force on cart1."
   ]
  },
  {
   "cell_type": "code",
   "execution_count": 69,
   "metadata": {},
   "outputs": [],
   "source": [
    "F2 = -F1"
   ]
  },
  {
   "cell_type": "code",
   "execution_count": 70,
   "metadata": {},
   "outputs": [
    {
     "data": {
      "text/latex": [
       "$\\displaystyle m_{2} \\frac{d^{2}}{d t^{2}} \\operatorname{x_{2}}{\\left(t \\right)} = \\frac{0.1}{\\left(\\operatorname{x_{1}}{\\left(t \\right)} - \\operatorname{x_{2}}{\\left(t \\right)}\\right)^{4}}$"
      ],
      "text/plain": [
       "     2                          \n",
       "    d                 0.1       \n",
       "m₂⋅───(x₂(t)) = ────────────────\n",
       "     2                         4\n",
       "   dt           (x₁(t) - x₂(t)) "
      ]
     },
     "execution_count": 70,
     "metadata": {},
     "output_type": "execute_result"
    }
   ],
   "source": [
    "eq2 = sp.Eq( m2 * x2(t).diff(t, t), F2)\n",
    "eq2"
   ]
  },
  {
   "cell_type": "markdown",
   "metadata": {},
   "source": [
    "Information for cart2"
   ]
  },
  {
   "cell_type": "code",
   "execution_count": 71,
   "metadata": {},
   "outputs": [],
   "source": [
    "cart2 = { m2:0.87, v2i:-1.3, x2i:5}"
   ]
  },
  {
   "cell_type": "markdown",
   "metadata": {},
   "source": [
    "Solving Newton's equation"
   ]
  },
  {
   "cell_type": "markdown",
   "metadata": {},
   "source": [
    "SymPy can't do this analytically.  Let's try a numerical solver. In this example, we choose a solver from the SciPy package called `odeint`."
   ]
  },
  {
   "cell_type": "code",
   "execution_count": 73,
   "metadata": {},
   "outputs": [],
   "source": [
    "# define initial values\n",
    "m1 = 1.1;  v1i = 0.23; x1i = 0\n",
    "m2 = 0.87; v2i = -1.3; x2i = 5\n",
    "\n",
    "# initial state vector\n",
    "s0 = [x1i, v1i, x2i, v2i]\n",
    "\n",
    "def RHS(s, t):\n",
    "    x1, v1, x2, v2 = s\n",
    "    return [v1,\n",
    "            -0.1 / (x1 - x2)**4 / m1,\n",
    "            v2,\n",
    "            +0.1 / (x1 - x2)**4 / m2]\n",
    "\n",
    "tf = 10\n",
    "t = np.arange(0, tf, 0.1)\n",
    "\n",
    "from scipy.integrate import odeint\n",
    "soln = odeint(RHS, s0, t)\n",
    "x1, v1, x2, v2 = soln.T"
   ]
  },
  {
   "cell_type": "code",
   "execution_count": 74,
   "metadata": {},
   "outputs": [
    {
     "data": {
      "text/plain": [
       "[<matplotlib.lines.Line2D at 0x7fe688c1e828>]"
      ]
     },
     "execution_count": 74,
     "metadata": {},
     "output_type": "execute_result"
    },
    {
     "data": {
      "image/png": "[encoded data removed]",
      "text/plain": [
       "<Figure size 432x288 with 1 Axes>"
      ]
     },
     "metadata": {
      "needs_background": "light"
     },
     "output_type": "display_data"
    }
   ],
   "source": [
    "plt.plot(t, x1)\n",
    "plt.plot(t, x2)"
   ]
  },
  {
   "cell_type": "markdown",
   "metadata": {},
   "source": [
    "Looks like they \"collide\" at around 3 s.  Let's plot the velocities."
   ]
  },
  {
   "cell_type": "code",
   "execution_count": 75,
   "metadata": {},
   "outputs": [
    {
     "data": {
      "text/plain": [
       "[<matplotlib.lines.Line2D at 0x7fe686a4db00>]"
      ]
     },
     "execution_count": 75,
     "metadata": {},
     "output_type": "execute_result"
    },
    {
     "data": {
      "image/png": "[encoded data removed]",
      "text/plain": [
       "<Figure size 432x288 with 1 Axes>"
      ]
     },
     "metadata": {
      "needs_background": "light"
     },
     "output_type": "display_data"
    }
   ],
   "source": [
    "plt.plot(t, v1)\n",
    "plt.plot(t, v2)"
   ]
  },
  {
   "cell_type": "markdown",
   "metadata": {},
   "source": [
    "What are the \"final\" velocities?"
   ]
  },
  {
   "cell_type": "code",
   "execution_count": 76,
   "metadata": {},
   "outputs": [
    {
     "name": "stdout",
     "output_type": "stream",
     "text": [
      "-1.1215112013489026 0.40880726607332357\n"
     ]
    }
   ],
   "source": [
    "print(v1[-1], v2[-1])"
   ]
  },
  {
   "cell_type": "markdown",
   "metadata": {},
   "source": [
    "These compare well with -1.1 and 0.41 found in the previous problem."
   ]
  },
  {
   "cell_type": "code",
   "execution_count": 77,
   "metadata": {},
   "outputs": [
    {
     "name": "stdout",
     "output_type": "stream",
     "text": [
      "0.0125420604471676 0.0435172875089839\n"
     ]
    }
   ],
   "source": [
    "rel_err1 = abs( (v1[-1] - v1f_soln)/ v1f_soln) * 100\n",
    "    \n",
    "rel_err2 = abs( (v2[-1] - v2f_soln) / v2f_soln) * 100\n",
    "\n",
    "print (rel_err1, rel_err2)"
   ]
  },
  {
   "cell_type": "markdown",
   "metadata": {},
   "source": [
    "with only small percentage differences."
   ]
  },
  {
   "cell_type": "markdown",
   "metadata": {},
   "source": [
    "## 10. Falling rope"
   ]
  },
  {
   "cell_type": "markdown",
   "metadata": {},
   "source": [
    "A long coiled rope rests at the edge of a platform.  One free end is gently placed 10 cm below the edge of the platform and released.  The rope begins to fall, unwinding as it goes over the edge.  The rope has uniform mass per unit length of $r= 2$ kg/m, and $g$ = 9.8 m/s$^2$.  If the height of the platform is $H=4$ m, find how long it takes for the end of the rope to reach the ground.  Ignore friction."
   ]
  },
  {
   "cell_type": "markdown",
   "metadata": {},
   "source": [
    "***Solution***"
   ]
  },
  {
   "cell_type": "markdown",
   "metadata": {},
   "source": [
    "Here we must use the more general form of Newton's 2nd Law\n",
    "\n",
    "$$ F = \\frac {dp} {dt} = m(t)  y''(t) + m'(t) y'(t) $$"
   ]
  },
  {
   "cell_type": "code",
   "execution_count": 78,
   "metadata": {},
   "outputs": [],
   "source": [
    "t, r, g, H = sp.symbols('t, r, g, H')\n",
    "m, y, v = sp.symbols('m, y, v', cls=sp.Function)"
   ]
  },
  {
   "cell_type": "code",
   "execution_count": 79,
   "metadata": {},
   "outputs": [
    {
     "data": {
      "text/latex": [
       "$\\displaystyle m{\\left(t \\right)} \\frac{d^{2}}{d t^{2}} y{\\left(t \\right)} + \\frac{d}{d t} m{\\left(t \\right)} \\frac{d}{d t} y{\\left(t \\right)}$"
      ],
      "text/plain": [
       "       2                          \n",
       "      d          d        d       \n",
       "m(t)⋅───(y(t)) + ──(m(t))⋅──(y(t))\n",
       "       2         dt       dt      \n",
       "     dt                           "
      ]
     },
     "execution_count": 79,
     "metadata": {},
     "output_type": "execute_result"
    }
   ],
   "source": [
    "dpdt = m(t) * y(t).diff(t, t) + m(t).diff(t) * y(t).diff(t)\n",
    "dpdt"
   ]
  },
  {
   "cell_type": "markdown",
   "metadata": {},
   "source": [
    "Newton's 2nd Law"
   ]
  },
  {
   "cell_type": "code",
   "execution_count": 80,
   "metadata": {},
   "outputs": [
    {
     "data": {
      "text/latex": [
       "$\\displaystyle m{\\left(t \\right)} \\frac{d^{2}}{d t^{2}} y{\\left(t \\right)} + \\frac{d}{d t} m{\\left(t \\right)} \\frac{d}{d t} y{\\left(t \\right)} = - g m{\\left(t \\right)}$"
      ],
      "text/plain": [
       "       2                                    \n",
       "      d          d        d                 \n",
       "m(t)⋅───(y(t)) + ──(m(t))⋅──(y(t)) = -g⋅m(t)\n",
       "       2         dt       dt                \n",
       "     dt                                     "
      ]
     },
     "execution_count": 80,
     "metadata": {},
     "output_type": "execute_result"
    }
   ],
   "source": [
    "eqN = sp.Eq(dpdt, -m(t)*g)\n",
    "eqN"
   ]
  },
  {
   "cell_type": "markdown",
   "metadata": {},
   "source": [
    "If the rope's end is at $y=y(t)$, then the length of rope dangling over the edge is $H-y(t)$, and the mass of the rope is"
   ]
  },
  {
   "cell_type": "code",
   "execution_count": 81,
   "metadata": {},
   "outputs": [
    {
     "data": {
      "text/latex": [
       "$\\displaystyle r \\left(H - y{\\left(t \\right)}\\right) \\frac{d^{2}}{d t^{2}} y{\\left(t \\right)} + \\frac{\\partial}{\\partial t} r \\left(H - y{\\left(t \\right)}\\right) \\frac{d}{d t} y{\\left(t \\right)} = - g r \\left(H - y{\\left(t \\right)}\\right)$"
      ],
      "text/plain": [
       "               2                                                    \n",
       "              d          ∂                d                         \n",
       "r⋅(H - y(t))⋅───(y(t)) + ──(r⋅(H - y(t)))⋅──(y(t)) = -g⋅r⋅(H - y(t))\n",
       "               2         ∂t               dt                        \n",
       "             dt                                                     "
      ]
     },
     "execution_count": 81,
     "metadata": {},
     "output_type": "execute_result"
    }
   ],
   "source": [
    "eq = eqN.subs( m(t), r*(H - y(t)))\n",
    "eq"
   ]
  },
  {
   "cell_type": "markdown",
   "metadata": {},
   "source": [
    "SymPy has done the substitution but not evaluated the derivatives."
   ]
  },
  {
   "cell_type": "code",
   "execution_count": 82,
   "metadata": {},
   "outputs": [
    {
     "data": {
      "text/latex": [
       "$\\displaystyle r \\left(H - y{\\left(t \\right)}\\right) \\frac{d^{2}}{d t^{2}} y{\\left(t \\right)} - r \\left(\\frac{d}{d t} y{\\left(t \\right)}\\right)^{2} = - g r \\left(H - y{\\left(t \\right)}\\right)$"
      ],
      "text/plain": [
       "               2                     2                  \n",
       "              d            ⎛d       ⎞                   \n",
       "r⋅(H - y(t))⋅───(y(t)) - r⋅⎜──(y(t))⎟  = -g⋅r⋅(H - y(t))\n",
       "               2           ⎝dt      ⎠                   \n",
       "             dt                                         "
      ]
     },
     "execution_count": 82,
     "metadata": {},
     "output_type": "execute_result"
    }
   ],
   "source": [
    "eq2 = eq.doit()\n",
    "eq2"
   ]
  },
  {
   "cell_type": "markdown",
   "metadata": {},
   "source": [
    "Again, SymPy does not know now to solve this symbolically. But it can help us set up the problem to solve numerically."
   ]
  },
  {
   "cell_type": "code",
   "execution_count": 85,
   "metadata": {},
   "outputs": [
    {
     "data": {
      "text/latex": [
       "$\\displaystyle H r \\frac{d}{d t} v{\\left(t \\right)} - r v^{2}{\\left(t \\right)} - r y{\\left(t \\right)} \\frac{d}{d t} v{\\left(t \\right)} = - H g r + g r y{\\left(t \\right)}$"
      ],
      "text/plain": [
       "    d             2             d                           \n",
       "H⋅r⋅──(v(t)) - r⋅v (t) - r⋅y(t)⋅──(v(t)) = -H⋅g⋅r + g⋅r⋅y(t)\n",
       "    dt                          dt                          "
      ]
     },
     "execution_count": 85,
     "metadata": {},
     "output_type": "execute_result"
    }
   ],
   "source": [
    "# replace derivative of y(t) with v(t)\n",
    "eq3 = eq2.subs( y(t).diff(t), v(t))\n",
    "sp.expand(eq3)"
   ]
  },
  {
   "cell_type": "code",
   "execution_count": 86,
   "metadata": {},
   "outputs": [
    {
     "data": {
      "text/latex": [
       "$\\displaystyle \\left[ \\frac{- H g + g y{\\left(t \\right)} + v^{2}{\\left(t \\right)}}{H - y{\\left(t \\right)}}\\right]$"
      ],
      "text/plain": [
       "⎡                 2   ⎤\n",
       "⎢-H⋅g + g⋅y(t) + v (t)⎥\n",
       "⎢─────────────────────⎥\n",
       "⎣       H - y(t)      ⎦"
      ]
     },
     "execution_count": 86,
     "metadata": {},
     "output_type": "execute_result"
    }
   ],
   "source": [
    "soln = sp.solve(eq3, v(t).diff(t) )\n",
    "soln"
   ]
  },
  {
   "cell_type": "markdown",
   "metadata": {},
   "source": [
    "We have worked out the derivative of $v(t)$. Let's turn that into a function"
   ]
  },
  {
   "cell_type": "code",
   "execution_count": 87,
   "metadata": {},
   "outputs": [],
   "source": [
    "F = sp.lambdify([y(t), v(t), H, g], soln[0])"
   ]
  },
  {
   "cell_type": "markdown",
   "metadata": {},
   "source": [
    "This function, `F(y, v; H, g)`, evaluates the first derivative of $v(t)$. Knowing only the values of $y, v, H,$ and $g$ (but not $t$), we can now compute $dv/dt$."
   ]
  },
  {
   "cell_type": "code",
   "execution_count": 88,
   "metadata": {},
   "outputs": [
    {
     "data": {
      "text/latex": [
       "$\\displaystyle -9.81$"
      ],
      "text/plain": [
       "-9.81"
      ]
     },
     "execution_count": 88,
     "metadata": {},
     "output_type": "execute_result"
    }
   ],
   "source": [
    "F(1, 0, 4, 9.81)"
   ]
  },
  {
   "cell_type": "markdown",
   "metadata": {},
   "source": [
    "We can now write the system of equations\n",
    "\n",
    "$$\\begin{align}\n",
    "\\frac{dy}{dt} &= v \\\\\n",
    "\\frac{dv}{dt} &= F(y, v; H, g)\n",
    "\\end{align}$$"
   ]
  },
  {
   "cell_type": "markdown",
   "metadata": {},
   "source": [
    "We can numerically solve this system of first order differential equations:"
   ]
  },
  {
   "cell_type": "code",
   "execution_count": 89,
   "metadata": {},
   "outputs": [],
   "source": [
    "# define initial values\n",
    "r = 2\n",
    "H = 4 # m\n",
    "g = 9.8\n",
    "yi = H - 0.1 # m\n",
    "vi = 0.0 # m/s\n",
    "\n",
    "# Solve the system of ODEs\n",
    "s0 = [yi, vi]\n",
    "\n",
    "def RHS(s, t):\n",
    "    y, v = s\n",
    "    return [v,\n",
    "            F(y, v, H, g)]\n",
    "\n",
    "tf = 2\n",
    "t = np.arange(0, tf, 0.1)\n",
    "\n",
    "soln = odeint(RHS, s0, t)\n",
    "y, v = soln.T"
   ]
  },
  {
   "cell_type": "code",
   "execution_count": 90,
   "metadata": {},
   "outputs": [
    {
     "data": {
      "text/plain": [
       "<matplotlib.legend.Legend at 0x7fe68692ad30>"
      ]
     },
     "execution_count": 90,
     "metadata": {},
     "output_type": "execute_result"
    },
    {
     "data": {
      "image/png": "[encoded data removed]",
      "text/plain": [
       "<Figure size 432x288 with 1 Axes>"
      ]
     },
     "metadata": {
      "needs_background": "light"
     },
     "output_type": "display_data"
    }
   ],
   "source": [
    "plt.plot(t, y, label='rope')\n",
    "plt.plot(t, yi - 0.5*g*t**2, label='freefall')\n",
    "plt.xlabel('t (s)')\n",
    "plt.ylabel('y (m)')\n",
    "plt.ylim(ymin = 0)\n",
    "plt.legend()"
   ]
  },
  {
   "cell_type": "markdown",
   "metadata": {},
   "source": [
    "Also plotted in the graph is the height of an object falling freely initially alongside the rope end.  The rope falls more slowly."
   ]
  },
  {
   "cell_type": "markdown",
   "metadata": {},
   "source": [
    "## Lecture 16\n",
    "# Travel Time for Seismic Waves\n"
   ]
  },
  {
   "cell_type": "markdown",
   "metadata": {},
   "source": [
    "$\\cdots$"
   ]
  },
  {
   "cell_type": "markdown",
   "metadata": {},
   "source": [
    "## Lecture 17\n",
    "# Travel Time Curves and Earthquake Detection"
   ]
  },
  {
   "cell_type": "markdown",
   "metadata": {},
   "source": [
    "$\\cdots$"
   ]
  },
  {
   "cell_type": "markdown",
   "metadata": {},
   "source": [
    "# Planetary Motion\n",
    "## Lecture 18"
   ]
  },
  {
   "cell_type": "markdown",
   "metadata": {},
   "source": [
    "**Newton's university law graviation**\n",
    "\n",
    "$$ F = - \\frac{G M m} {r^2}\\hat{r} = -\\frac{GMm}{r^3}\\vec{r},$$ \n",
    "\n",
    "where $\\vec{r}$ is the vector directed from $M$ to $m$.\n",
    "\n",
    "- negative sign indicate gravity is attractive\n",
    "- force decreases with separation distance $r$\n",
    "\n",
    "**Gravitational constant $G$**\n",
    "\n",
    "$$ G = 6.67 \\times 10^{-11}\\;\\frac{\\mbox{m}^3}{\\mbox{kg}\\cdot\\mbox{s}^2} $$\n",
    "\n",
    "#### Properties of gravitational force\n",
    "\n",
    "- Magnitude depends only on separation of particles; direction along line joining particles: *central force*\n",
    "  - orbit of the Earth restricted to a plane ($x-y$)\n",
    "  - angular momentum $L$ is conserved and lies in the third ($z$) direction\n",
    "  $$ L_z = ( r \\times mv )_z = m (x v_y - y v_x) $$\n",
    "- Total energy $E$ is conserved\n",
    "  $$ E = \\frac{1}{2} m v^2 - \\frac{G M m}{r} $$"
   ]
  },
  {
   "cell_type": "markdown",
   "metadata": {},
   "source": [
    "## Simulation of the Orbit"
   ]
  },
  {
   "cell_type": "markdown",
   "metadata": {},
   "source": [
    "To solve this system, we rewrite each of these second order differential equations as two\n",
    "first-order differential equations.\n",
    "\n",
    "\\begin{align}\n",
    "\\frac{d v_x}{dt} &= - \\frac{G M}{r^3} x \\\\\n",
    "\\frac{d x}{dt} &= v_x \\\\\n",
    "\\frac{d v_y}{dt} &= - \\frac{G M}{r^3} y \\\\\n",
    "\\frac{d y}{dt} &= v_y \n",
    "\\end{align}\n",
    "\n",
    "We can then solve these equations numerically."
   ]
  },
  {
   "cell_type": "code",
   "execution_count": 91,
   "metadata": {},
   "outputs": [],
   "source": [
    "def RK4Stepper( F = lambda s, t, p: s,  \n",
    "                s0 = [],\n",
    "                t0 = 0,\n",
    "                p = [],\n",
    "                dt = 0.1, \n",
    "                tmax = 1,\n",
    "                ):\n",
    "    \"\"\" \n",
    "    Solve the system \n",
    "    \n",
    "      ds/dt = F(s, t; p)\n",
    "      s(t0) = s0\n",
    "      \n",
    "    where s is a state vector dictionary\n",
    "      and p are any required parameters\n",
    "    \n",
    "    using a time step dt up to tmax\n",
    "    \n",
    "    yields back the dictionary r (current state and time)\n",
    "    \"\"\"\n",
    "\n",
    "    s = np.array(s0)\n",
    "    t = t0\n",
    "\n",
    "    while t < tmax:\n",
    "        r = list(s)\n",
    "        r.append(t)\n",
    "        yield r\n",
    "              \n",
    "        ds1 = F(s, t, p)\n",
    "        s1 = s + ds1*dt/2\n",
    "        ds2 = F(s1, t + dt/2, p)\n",
    "        s2 = s + ds2*dt/2\n",
    "        ds3 = F(s2, t + dt/2, p)\n",
    "        s3 = s + ds3*dt\n",
    "        ds4 = F(s3, t + dt, p)\n",
    "        s = s + (ds1 + 2*ds2 + 2*ds3 + ds4)/6*dt\n",
    "        \n",
    "        t = t + dt"
   ]
  },
  {
   "cell_type": "code",
   "execution_count": 92,
   "metadata": {},
   "outputs": [],
   "source": [
    "def Fplanet(s, t, p):\n",
    "    x, y, vx, vy = s\n",
    "    \n",
    "    GM, = p\n",
    "    \n",
    "    r = np.sqrt(x**2 + y**2)\n",
    "    dsdt = [vx,\n",
    "            vy,\n",
    "            - GM/r**3 * x,\n",
    "            - GM/r**3 * y,\n",
    "            ]\n",
    "    return np.array(dsdt)"
   ]
  },
  {
   "cell_type": "code",
   "execution_count": 93,
   "metadata": {},
   "outputs": [],
   "source": [
    "def PlanetPlot(data):\n",
    "\n",
    "    plt.plot(data.x, data.y, ':', linewidth=2)\n",
    "\n",
    "    # Plot the Sun at the origin\n",
    "    plt.plot(0, 0, '.',color=\"yellow\", markersize=40, markeredgecolor='black')\n",
    "    # Plot the Earth at the final position\n",
    "    plt.plot(data.x.iloc[-1], data.y.iloc[-1], '.', color= 'k', markersize=15)\n",
    "\n",
    "    plt.xlabel('x')\n",
    "    plt.ylabel('y')\n",
    "    plt.axis('equal')\n",
    "    "
   ]
  },
  {
   "cell_type": "markdown",
   "metadata": {},
   "source": [
    "- - -"
   ]
  },
  {
   "cell_type": "markdown",
   "metadata": {},
   "source": [
    "## Simulation of the Orbit (in Astronomical Units)"
   ]
  },
  {
   "cell_type": "code",
   "execution_count": 94,
   "metadata": {},
   "outputs": [],
   "source": [
    "def PlanetApp(x0=1, # AU\n",
    "              y0 = 0,\n",
    "              vx0 = 0,\n",
    "              vy0 = 2*np.pi, # AU/yr\n",
    "              tmax = 1, # one year\n",
    "              dt = 0.001\n",
    "              ):\n",
    "        \n",
    "    s0 = [x0, y0, vx0, vy0]\n",
    "    \n",
    "    ## GM in units of (AU)^3/(yr)^2\n",
    "    GM = 4*np.pi**2 \n",
    "    p = [GM] \n",
    "    \n",
    "    stepper = RK4Stepper(Fplanet, s0=s0, p=p,\n",
    "                              tmax=tmax, dt=dt)\n",
    "    \n",
    "    data = pd.DataFrame(stepper, \n",
    "                        columns = ['x', 'y', 'vx', 'vy','t'])\n",
    "    return data"
   ]
  },
  {
   "cell_type": "code",
   "execution_count": 95,
   "metadata": {},
   "outputs": [
    {
     "data": {
      "image/png": "[encoded data removed]",
      "text/plain": [
       "<Figure size 432x288 with 1 Axes>"
      ]
     },
     "metadata": {
      "needs_background": "light"
     },
     "output_type": "display_data"
    }
   ],
   "source": [
    "data = PlanetApp()\n",
    "PlanetPlot(data)"
   ]
  },
  {
   "cell_type": "markdown",
   "metadata": {},
   "source": [
    "# Three Body Problem\n",
    "## Lecture 19"
   ]
  },
  {
   "cell_type": "markdown",
   "metadata": {},
   "source": [
    "## A Mini-Solar System"
   ]
  },
  {
   "cell_type": "markdown",
   "metadata": {},
   "source": [
    "These initial examples for planetary orbits have been restricted to two-body central forces.  Of course the Solar System is not a two-body system: the planets exert gravitational forces on each other.\n"
   ]
  },
  {
   "cell_type": "markdown",
   "metadata": {},
   "source": [
    "Since there are other forces involved, the total force on a particular planet is no longer a central force. \n",
    "\n",
    "Strictly speaking, the orbits of the planets are not even all in the same plane but we will, for simplicity, assume only a two-dimensional solar system."
   ]
  },
  {
   "cell_type": "markdown",
   "metadata": {},
   "source": [
    "### Equations of Motion"
   ]
  },
  {
   "cell_type": "markdown",
   "metadata": {},
   "source": [
    "$$\\begin{align}\n",
    "m_1 \\frac{d^2 r_1}{dt^2} &= - \\frac{GMm_1}{r_1^3}\\vec{r_1} + \\frac{Gm_1m_2}{r_{21}^3}\\vec{r_{21}} \\\\\n",
    "m_2 \\frac{d^2 r_2}{dt^2} &= - \\frac{GMm_2}{r_2^3}\\vec{r_2} - \\frac{Gm_1m_2}{r_{21}^3}\\vec{r_{21}} \\\\\n",
    "\\end{align}\n",
    "$$"
   ]
  },
  {
   "cell_type": "markdown",
   "metadata": {},
   "source": [
    "where $\\vec{r_1}$ and $\\vec{r_2}$ are direction from the Sun to planets 1 and 2, respectively,  while $\\vec{r_{21}} = \\vec{r_2} - \\vec{r_1}$ is the vector from planet 1 to planet 2."
   ]
  },
  {
   "cell_type": "markdown",
   "metadata": {},
   "source": [
    "We can divide the first equation by $m_1$ and the second equation by $m_2$ to get\n",
    "\n",
    "$$\\begin{align}\n",
    "\\frac{d^2 r_1}{dt^2} &= - \\frac{GM}{r_1^3}\\vec{r_1} + \\frac{Gm_2}{r_{21}^3}\\vec{r_{21}} \\\\\n",
    "\\frac{d^2 r_2}{dt^2} &= - \\frac{GM}{r_2^3}\\vec{r_2} - \\frac{Gm_1}{r_{21}^3}\\vec{r_{21}} \\\\\n",
    "\\end{align}\n",
    "$$"
   ]
  },
  {
   "cell_type": "markdown",
   "metadata": {},
   "source": [
    "To solve this system numerically, we need to write it as a system of first order differential equations for our variables:\n",
    "\n",
    "$x_1, y_1, v_{x1}, v_{y1}, x_2, y_2, v_{x2}, v_{y2}$\n",
    "\n",
    "The vectors $\\vec{r_1}, \\vec{r_2}, $ and $\\vec{r_{21}}$ can be all written in terms of those variables.\n",
    "\n",
    "Finally, $GM, m_1,$ and $m_2$ will be given as parameters. \n",
    "\n"
   ]
  },
  {
   "cell_type": "code",
   "execution_count": 96,
   "metadata": {},
   "outputs": [],
   "source": [
    "def FTwoPlanets(s, t, p):\n",
    "    \n",
    "    x1, y1, vx1, vy1, x2, y2, vx2, vy2 = s\n",
    "    \n",
    "    GM, m1, m2 = p\n",
    "    \n",
    "    r1 = np.sqrt(x1**2 + y1**2)\n",
    "    r2 = np.sqrt(x2**2 + y2**2)\n",
    "    \n",
    "    dx = (x2 - x1)\n",
    "    dy = (y2 - y1)\n",
    "    dr = np.sqrt(dx**2 + dy**2)\n",
    "    \n",
    "    dsdt = [vx1,\n",
    "            vy1,\n",
    "            - GM/r1**3 * x1 + GM*m2/dr**3 * dx,\n",
    "            - GM/r1**3 * y1 + GM*m2/dr**3 * dy,\n",
    "            vx2,\n",
    "            vy2,\n",
    "            - GM/r2**3 * x2 - GM*m1/dr**3 * dx,\n",
    "            - GM/r2**3 * y2 - GM*m1/dr**3 * dy,\n",
    "            ]\n",
    "        \n",
    "    return np.array(dsdt)"
   ]
  },
  {
   "cell_type": "code",
   "execution_count": 97,
   "metadata": {},
   "outputs": [],
   "source": [
    "def TwoPlanetPlot(data, tmax=None):\n",
    "       \n",
    "    # plot data on up to tmax (if provided)\n",
    "    if tmax is not None:\n",
    "        data = data[data.t <= tmax]\n",
    "    \n",
    "    plt.plot(data.x1, data.y1, '-', linewidth=0.5)\n",
    "    plt.plot(data.x2, data.y2, '-', linewidth=0.5)\n",
    "\n",
    "    # Plot the Sun at the origin\n",
    "    plt.plot(0, 0, '.',color=\"yellow\", markersize=20, markeredgecolor='black')\n",
    "    \n",
    "    # Plot the planet at the final position\n",
    "    plt.plot(data.x1.iloc[-1], data.y1.iloc[-1], '.', color= 'k', markersize=15)\n",
    "    plt.plot(data.x2.iloc[-1], data.y2.iloc[-1], '.', color= 'k', markersize=15)\n",
    "\n",
    "    plt.xlabel('x')\n",
    "    plt.ylabel('y')\n",
    "    plt.axis('equal')\n"
   ]
  },
  {
   "cell_type": "code",
   "execution_count": 98,
   "metadata": {},
   "outputs": [],
   "source": [
    "def TwoPlanetApp(x10 = 1, # AU\n",
    "                 y10 = 0,\n",
    "                 vx10 = 0,\n",
    "                 vy10 = np.sqrt(4*np.pi**2/1), # AU/yr\n",
    "                 m1 = 0.001, # in solar mass units\n",
    "                 x20 = 2, # AU\n",
    "                 y20 = 0,\n",
    "                 vx20 = 0,\n",
    "                 vy20 = np.sqrt(4*np.pi**2/2), # AU/yr\n",
    "                 m2 = 0.04,\n",
    "                 tmax = 8,\n",
    "                 dt = 0.01\n",
    "                ):\n",
    "        \n",
    "    s0 =[x10, y10, vx10, vy10, x20, y20, vx20, vy20]\n",
    "    \n",
    "    ## GM in units of (AU)^3/(yr)^2\n",
    "    GM = 4*np.pi**2 \n",
    "    p = [GM, m1, m2] \n",
    "    \n",
    "    stepper = RK4Stepper(FTwoPlanets, s0=s0, dt=dt, tmax=tmax, p=p)\n",
    "    data = pd.DataFrame(stepper, columns = ['x1', 'y1', 'vx1', 'vy1', \n",
    "                                            'x2', 'y2', 'vx2', 'vy2',\n",
    "                                            't'])    \n",
    "    \n",
    "    return data"
   ]
  },
  {
   "cell_type": "markdown",
   "metadata": {},
   "source": [
    "The plotting function requires no other changes."
   ]
  },
  {
   "cell_type": "code",
   "execution_count": 99,
   "metadata": {},
   "outputs": [
    {
     "data": {
      "image/png": "[encoded data removed]",
      "text/plain": [
       "<Figure size 432x288 with 1 Axes>"
      ]
     },
     "metadata": {
      "needs_background": "light"
     },
     "output_type": "display_data"
    }
   ],
   "source": [
    "data = TwoPlanetApp()\n",
    "\n",
    "TwoPlanetPlot(data)"
   ]
  },
  {
   "cell_type": "markdown",
   "metadata": {},
   "source": [
    "It appears that the orbit of the inner planet is being perturbed by the more massive (40 times as massive) outer planet."
   ]
  }
 ],
 "metadata": {
  "kernelspec": {
   "display_name": "Python 3",
   "language": "python",
   "name": "python3"
  },
  "language_info": {
   "codemirror_mode": {
    "name": "ipython",
    "version": 3
   },
   "file_extension": ".py",
   "mimetype": "text/x-python",
   "name": "python",
   "nbconvert_exporter": "python",
   "pygments_lexer": "ipython3",
   "version": "3.6.7"
  }
 },
 "nbformat": 4,
 "nbformat_minor": 2
}
