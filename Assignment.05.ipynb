{
 "cells": [
  {
   "cell_type": "markdown",
   "metadata": {
    "slideshow": {
     "slide_type": "slide"
    }
   },
   "source": [
    "# Assignment 5\n",
    "\n",
    "Due: Sunday, November 3, 2019"
   ]
  },
  {
   "cell_type": "markdown",
   "metadata": {},
   "source": [
    "*Please complete all parts of this assignment within this notebook. You may leave the notebook file on the JupyterHub server (where it will be collected automatically on the due date).*"
   ]
  },
  {
   "cell_type": "markdown",
   "metadata": {},
   "source": [
    "Use both Python code cells and Jupyter Markdown cells to complete the following exercises. Place your solution immediately after the corresponding question."
   ]
  },
  {
   "cell_type": "code",
   "execution_count": null,
   "metadata": {},
   "outputs": [],
   "source": [
    "%matplotlib inline\n",
    "import matplotlib.pyplot as plt\n",
    "import numpy as np\n",
    "import pandas as pd"
   ]
  },
  {
   "cell_type": "markdown",
   "metadata": {},
   "source": [
    "## A. Coupled ODEs with RK4"
   ]
  },
  {
   "cell_type": "markdown",
   "metadata": {},
   "source": [
    "### a) \n",
    "Use a fourth-order Runge-Kutta scheme to solve the following set of coupled ODE's:\n",
    "\n",
    "$$ \\frac{dy}{dt} + 3x = \\cos(t) + 5$$\n",
    "$$ \\frac{dx}{dt} - 3y = \\sin(2t)$$\n",
    "\n",
    "with\n",
    "\n",
    "$$ y(0) = 3, x(0) = 1 $$\n",
    "\n",
    "from t = 0 to t = 10 using a timestep of 0.1. Plot your solutions for x(t) and y(t)."
   ]
  },
  {
   "cell_type": "code",
   "execution_count": null,
   "metadata": {},
   "outputs": [],
   "source": []
  },
  {
   "cell_type": "markdown",
   "metadata": {},
   "source": [
    "### b)\n",
    "The exact solution to this first-order system of linear differential equations is given by\n",
    "\n",
    "\\begin{align}\n",
    "x(t) &= 3 \\sin(3 t)+3/8 \\cos(t)+2/5 \\cos(2 t)-173/120 \\cos(3 t)+5/3 \\\\\n",
    "y(t) &= -1/8\\sin(t)-3/5 \\sin(2 t)+173/120 \\sin(3 t)+3 \\cos(3 t)\n",
    "\\end{align}\n",
    "\n",
    "Define a Python function for each of these exact solutions."
   ]
  },
  {
   "cell_type": "code",
   "execution_count": null,
   "metadata": {},
   "outputs": [],
   "source": []
  },
  {
   "cell_type": "markdown",
   "metadata": {},
   "source": [
    "## c) \n",
    "Plot the difference between your numerical solution and the exact solution for y(t)"
   ]
  },
  {
   "cell_type": "code",
   "execution_count": null,
   "metadata": {},
   "outputs": [],
   "source": []
  },
  {
   "cell_type": "markdown",
   "metadata": {},
   "source": [
    "### d)\n",
    "Repeat the necessary steps from part a) in order to plot the difference between your numerical solution and the exact solution for y(t) when the timestep is decreased by a factor of 10 to $\\Delta t=0.01$.  Comment on the outcome."
   ]
  },
  {
   "cell_type": "code",
   "execution_count": null,
   "metadata": {},
   "outputs": [],
   "source": []
  },
  {
   "cell_type": "markdown",
   "metadata": {},
   "source": [
    "## B. Action Movie Stunt Scene\n",
    "\n",
    "In an action movie stunt scene, the hero throws a wrench into the gear box of the bad guy's helicopter hovering 400 m above the ground, causing the helicopter to start losing power.  The lift force provided by the helicopter blades now decays with time and is given in newtons by $H(t)= 15 000\\; \\mbox{exp}( -t /100)$, with $t$ in seconds after the wrench hits.  The air provides a drag force proportional to velocity of magnitude $F_d = k v$ , where $k$ (which has units of kg/s) varies with height above the ground as $k(y) = 197.5 -0.1 y$, where $y$ is the height in m.  The mass of the helicopter is 1600 kg, and $g$ = 9.81 m/s$^2$. \n",
    "\n",
    "i) Make plots of position vs time and velocity vs time for the helicopter.\n",
    "\n",
    "ii) How fast is the helicopter falling when it crashes?\n",
    "\n",
    "To answer this question, use the 4th Order Runge-Kutta scheme to solve the ODE resulting from the application of Newton's Second Law.  Use a time step of $\\Delta t$=0.05 s."
   ]
  },
  {
   "cell_type": "markdown",
   "metadata": {},
   "source": [
    "*Start by setting up the equations of motion for this problem. What equations do you need solve?  What are the variables and the parameters? Can you need to define any new Python functions (e.g. H(t) and k(y)) to make the code more readable? Complete this problem by writing and StuntApp() and StuntPlot() functions as we have done throughout the lectures.*\n",
    "\n",
    "*Implementing RK4 incorrectly can be a possible source of errors. In question A. you have already implemented a RK4 stepper and compared it to the known exact solution. This should allows you to find any bugs or errors in your implementation.  Use the same general stepper code for both question A. and question B. following the pattern that was demonstrated in Lecture 12.*"
   ]
  },
  {
   "cell_type": "code",
   "execution_count": null,
   "metadata": {},
   "outputs": [],
   "source": []
  }
 ],
 "metadata": {
  "kernelspec": {
   "display_name": "Python 3",
   "language": "python",
   "name": "python3"
  },
  "language_info": {
   "codemirror_mode": {
    "name": "ipython",
    "version": 3
   },
   "file_extension": ".py",
   "mimetype": "text/x-python",
   "name": "python",
   "nbconvert_exporter": "python",
   "pygments_lexer": "ipython3",
   "version": "3.6.7"
  }
 },
 "nbformat": 4,
 "nbformat_minor": 2
}
