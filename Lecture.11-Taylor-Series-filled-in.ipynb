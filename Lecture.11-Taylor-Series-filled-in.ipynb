{
 "cells": [
  {
   "cell_type": "markdown",
   "metadata": {},
   "source": [
    "# Taylor Series: Integration and ODEs\n",
    "## Lecture 11"
   ]
  },
  {
   "cell_type": "code",
   "execution_count": 1,
   "metadata": {},
   "outputs": [],
   "source": [
    "%matplotlib inline\n",
    "import matplotlib.pyplot as plt\n",
    "import numpy as np\n",
    "import pandas as pd"
   ]
  },
  {
   "cell_type": "markdown",
   "metadata": {},
   "source": [
    "## Integration\n",
    "\n",
    "Assume we have  a function $f_i = f(x_i)$ which can be evaluated at the points $x_i$ for $ i = 0 \\dots n$ where \n",
    "\n",
    "$$\\Delta x = (b-a)/n$$\n",
    "\n",
    "and\n",
    "\n",
    "$$x_i=a + i \\Delta x.$$\n",
    "\n",
    "Rectangle rule:\n",
    "\n",
    "$$ \\int_a^b f(x) dx \\approx  \\sum_{i=0}^{n-1} f(x_i)\\Delta x $$\n",
    "\n",
    "Trapezoid rule:\n",
    "\n",
    "$$\\int_a^b f(x) dx \\approx \\Delta x \\left (\\frac{1}{2} f(x_0) + \\frac{1}{2} f(x_{n})+ \\sum_{i=1}^{n-1} f(x_i) \\right) $$\n",
    "\n",
    "Notice that we have $n$ rectangles or trapezoids but $n+1$ points in total."
   ]
  },
  {
   "cell_type": "markdown",
   "metadata": {},
   "source": [
    "## Comparing rectangle rule and trapezoid rule\n",
    "\n",
    "The goal of this section is to compare visually the error associated with the rectangle and the trapezoidal rule as a function of the number of elements (rectangles or trapezoids) used. This will require some coding.  \n",
    "\n",
    "The integral to evaluate is\n",
    "\n",
    "$$\\int_a^b f(x) dx $$\n",
    "\n",
    "where\n",
    "\n",
    "\n",
    "$$ f(x)= \\sin(x) + x^3, \\quad a=0, \\quad  b =5 $$"
   ]
  },
  {
   "cell_type": "markdown",
   "metadata": {},
   "source": [
    "##### Exercise to be done as a class."
   ]
  },
  {
   "cell_type": "markdown",
   "metadata": {},
   "source": [
    "#### 1. Define $f(x)$ as Python function."
   ]
  },
  {
   "cell_type": "code",
   "execution_count": 3,
   "metadata": {},
   "outputs": [],
   "source": [
    "def f(x):\n",
    "    return np.sin(x) + x**3"
   ]
  },
  {
   "cell_type": "markdown",
   "metadata": {},
   "source": [
    "#### 2. Plot this function between  x=-10 and x=10."
   ]
  },
  {
   "cell_type": "code",
   "execution_count": 6,
   "metadata": {},
   "outputs": [
    {
     "data": {
      "image/png": "[encoded data removed]",
      "text/plain": [
       "<Figure size 432x288 with 1 Axes>"
      ]
     },
     "metadata": {
      "needs_background": "light"
     },
     "output_type": "display_data"
    }
   ],
   "source": [
    "x = np.arange(-10, 10, 0.1)\n",
    "y = f(x)\n",
    "plt.plot(x, y)\n",
    "plt.xlabel('x')\n",
    "plt.ylabel('y')\n",
    "plt.show()"
   ]
  },
  {
   "cell_type": "markdown",
   "metadata": {},
   "source": [
    "#### 3. Calculate the exact value of the integral above (with a=0 and b=5)"
   ]
  },
  {
   "cell_type": "markdown",
   "metadata": {},
   "source": [
    "$$\\int_0^5 \\sin(x) + x^3 dx$$"
   ]
  },
  {
   "cell_type": "markdown",
   "metadata": {},
   "source": [
    "$$\\int \\sin(x) + x^3 dx = -\\cos(x) + \\frac{1}{4}x^4$$"
   ]
  },
  {
   "cell_type": "code",
   "execution_count": 11,
   "metadata": {},
   "outputs": [
    {
     "name": "stdout",
     "output_type": "stream",
     "text": [
      "156.9663378145368\n"
     ]
    }
   ],
   "source": [
    "exact = (-np.cos(5) + 1/4 * 5**4) - (-np.cos(0) + 1/4 * 0**4)\n",
    "print(exact)"
   ]
  },
  {
   "cell_type": "markdown",
   "metadata": {},
   "source": [
    "#### 4. Evaluate numerically the integral using the rectangle rule with 10 rectangles. \n",
    "\n",
    "$$ \\int_a^b f(x) dx \\approx  \\sum_{i=0}^{n-1} f(x_i)\\Delta x $$"
   ]
  },
  {
   "cell_type": "code",
   "execution_count": 50,
   "metadata": {},
   "outputs": [
    {
     "name": "stdout",
     "output_type": "stream",
     "text": [
      "153.88078667814008\n"
     ]
    }
   ],
   "source": [
    "a = 0\n",
    "b = 5\n",
    "\n",
    "def compute_rect(n):\n",
    "    dx = (b-a)/n\n",
    "\n",
    "    sum = 0\n",
    "    for i in range(n):\n",
    "        x_i = a + i*dx\n",
    "        f_i = f(x_i)\n",
    "        sum += f_i * dx\n",
    "        \n",
    "    return sum\n",
    "\n",
    "rect = compute_rect(100)\n",
    "print(rect)"
   ]
  },
  {
   "cell_type": "markdown",
   "metadata": {},
   "source": [
    "#### 5. Evaluate numerically the integral using the trapezoid rule with 10 trapezoids.\n",
    "\n",
    "\n",
    "$$\\int_a^b f(x) dx \\approx \\Delta x \\left (\\frac{1}{2} f(x_0) + \\frac{1}{2} f(x_{n})+ \\sum_{i=1}^{n-1} f(x_i) \\right) $$"
   ]
  },
  {
   "cell_type": "code",
   "execution_count": 29,
   "metadata": {},
   "outputs": [
    {
     "name": "stdout",
     "output_type": "stream",
     "text": [
      "158.5138515555057\n"
     ]
    }
   ],
   "source": [
    "a = 0\n",
    "b = 5\n",
    "\n",
    "def compute_trap(n):\n",
    "    dx = (b-a)/n\n",
    "\n",
    "    x_0 = a + 0*dx # a\n",
    "    x_n = a + n*dx # b\n",
    "    sum = f(x_0)/2 + f(x_n)/2\n",
    "\n",
    "    for i in range(1, n):\n",
    "        x_i = a + i*dx\n",
    "        f_i = f(x_i)\n",
    "        sum += f_i\n",
    "\n",
    "    sum = sum * dx\n",
    "    \n",
    "    return sum\n",
    "\n",
    "trap = compute_trap(10)\n",
    "print(trap)"
   ]
  },
  {
   "cell_type": "markdown",
   "metadata": {},
   "source": [
    "#### 6. Briefly comment on the answers you obtained in 4. and 5. "
   ]
  },
  {
   "cell_type": "markdown",
   "metadata": {},
   "source": [
    " For the same number of $n$, the trapezoid rule gives a much closer result than the rectangular rule."
   ]
  },
  {
   "cell_type": "markdown",
   "metadata": {},
   "source": [
    "#### 7. The absolute relative error of the numerical integration can be calculated as follow: \n",
    "\n",
    "$\\Delta$ =|Numerical Solution - Exact Solution|/|Exact Solution|"
   ]
  },
  {
   "cell_type": "markdown",
   "metadata": {},
   "source": [
    "Code this expression for the relative error and calculate $\\Delta$ for the results obtained in 4. and 5. above."
   ]
  },
  {
   "cell_type": "code",
   "execution_count": 30,
   "metadata": {},
   "outputs": [
    {
     "name": "stdout",
     "output_type": "stream",
     "text": [
      "Error in rect 0.1877011058586136\n",
      "Error in trap 0.009858889253040898\n"
     ]
    }
   ],
   "source": [
    "error_rect = abs(rect - exact)/exact\n",
    "print('Error in rect {}'.format(error_rect))\n",
    "error_trap = abs(trap - exact)/exact\n",
    "print('Error in trap {}'.format(error_trap))"
   ]
  },
  {
   "cell_type": "markdown",
   "metadata": {},
   "source": [
    "#### 8. Redo the same as in 7. but this time calculate the error when using 100 rectangles or trapezoids to evaluate the integral."
   ]
  },
  {
   "cell_type": "code",
   "execution_count": 31,
   "metadata": {},
   "outputs": [
    {
     "name": "stdout",
     "output_type": "stream",
     "text": [
      "Error in rect 0.01965740667303093\n",
      "Error in trap 9.859283813471921e-05\n"
     ]
    }
   ],
   "source": [
    "rect = compute_rect(100)\n",
    "trap = compute_trap(100)\n",
    "error_rect = abs(rect - exact)/exact\n",
    "print('Error in rect {}'.format(error_rect))\n",
    "error_trap = abs(trap - exact)/exact\n",
    "print('Error in trap {}'.format(error_trap))"
   ]
  },
  {
   "cell_type": "markdown",
   "metadata": {},
   "source": [
    "#### 9. It should be clear from your previous calculations that the error reduces significantly by increasing the number of elements and that the trapezoid rule is always more accurate than the rectangle rule.  \n",
    "\n",
    "What would be illuminating would be to plot the relative error for each algorithms (i.e. rectangle and trapezoid rules) as a function of the number $n$ of elements used to approximate numerically the integral. Before coding this you need to become a little more familiar with NumPy arrays.\n",
    "\n",
    "First, use the `np.arange` function  to automatically create the array: [1,2,3,4,5,6,7,8,9,10]"
   ]
  },
  {
   "cell_type": "code",
   "execution_count": 51,
   "metadata": {},
   "outputs": [
    {
     "data": {
      "text/plain": [
       "array([ 1,  2,  3,  4,  5,  6,  7,  8,  9, 10])"
      ]
     },
     "execution_count": 51,
     "metadata": {},
     "output_type": "execute_result"
    }
   ],
   "source": [
    "L = np.arange(1, 11)\n",
    "L"
   ]
  },
  {
   "cell_type": "markdown",
   "metadata": {},
   "source": [
    "Now, starting from this first array and multiplying, create the array: [2,4,6,8,10,12,14,16,18,20]"
   ]
  },
  {
   "cell_type": "code",
   "execution_count": 52,
   "metadata": {},
   "outputs": [
    {
     "data": {
      "text/plain": [
       "array([ 2,  4,  6,  8, 10, 12, 14, 16, 18, 20])"
      ]
     },
     "execution_count": 52,
     "metadata": {},
     "output_type": "execute_result"
    }
   ],
   "source": [
    "L*2"
   ]
  },
  {
   "cell_type": "markdown",
   "metadata": {},
   "source": [
    "Instead, try and create the array [2,4,8,16,32,64,128,256,512,1024]"
   ]
  },
  {
   "cell_type": "code",
   "execution_count": 53,
   "metadata": {},
   "outputs": [
    {
     "data": {
      "text/plain": [
       "array([   2,    4,    8,   16,   32,   64,  128,  256,  512, 1024])"
      ]
     },
     "execution_count": 53,
     "metadata": {},
     "output_type": "execute_result"
    }
   ],
   "source": [
    "2**L"
   ]
  },
  {
   "cell_type": "markdown",
   "metadata": {},
   "source": [
    "#### 10. Next, the challenge is to create a two arrays. One with containing the number $n$ of elements used in the numerical integration and in the second array the relative error $\\Delta$ using rectangular rule.  \n",
    "\n",
    "(This can be done with or without loops.)\n",
    "\n"
   ]
  },
  {
   "cell_type": "code",
   "execution_count": 59,
   "metadata": {},
   "outputs": [],
   "source": [
    "num_elements = 2**L\n",
    "\n",
    "Δrect = []\n",
    "for n in num_elements:\n",
    "    rect = compute_rect(n)\n",
    "    error_rect = abs(rect - exact)/exact\n",
    "    Δrect.append(error_rect)"
   ]
  },
  {
   "cell_type": "markdown",
   "metadata": {},
   "source": [
    "Now you can plot the results of this analysis like this:"
   ]
  },
  {
   "cell_type": "code",
   "execution_count": 60,
   "metadata": {},
   "outputs": [
    {
     "data": {
      "text/plain": [
       "Text(0, 0.5, 'Error')"
      ]
     },
     "execution_count": 60,
     "metadata": {},
     "output_type": "execute_result"
    },
    {
     "data": {
      "image/png": "[encoded data removed]",
      "text/plain": [
       "<Figure size 432x288 with 1 Axes>"
      ]
     },
     "metadata": {
      "needs_background": "light"
     },
     "output_type": "display_data"
    }
   ],
   "source": [
    "plt.plot(num_elements, Δrect, 'o-')\n",
    "plt.xlabel('Number of rectangles')\n",
    "plt.ylabel('Error')"
   ]
  },
  {
   "cell_type": "markdown",
   "metadata": {},
   "source": [
    "#### 11. Redo the same analysis with a graph for the trapezoid rule."
   ]
  },
  {
   "cell_type": "code",
   "execution_count": 61,
   "metadata": {},
   "outputs": [
    {
     "data": {
      "text/plain": [
       "Text(0, 0.5, 'Error')"
      ]
     },
     "execution_count": 61,
     "metadata": {},
     "output_type": "execute_result"
    },
    {
     "data": {
      "image/png": "[encoded data removed]",
      "text/plain": [
       "<Figure size 432x288 with 1 Axes>"
      ]
     },
     "metadata": {
      "needs_background": "light"
     },
     "output_type": "display_data"
    }
   ],
   "source": [
    "num_elements = 2**np.arange(1, 11)\n",
    "\n",
    "Δtrap = []\n",
    "for n in num_elements:\n",
    "    trap = compute_trap(n)\n",
    "    error_trap = abs(trap - exact)/exact\n",
    "    Δtrap.append(error_trap)\n",
    "    \n",
    "plt.plot(num_elements, Δtrap, 'o-')\n",
    "plt.xlabel('n')\n",
    "plt.ylabel('Error')"
   ]
  },
  {
   "cell_type": "markdown",
   "metadata": {},
   "source": [
    "#### 12. Finally compare the results obtained in 11 for the rectangle rule and in 12 for the trapezoid rule on a single graph. Draw a brief conclusion to the results obtained graphically."
   ]
  },
  {
   "cell_type": "code",
   "execution_count": 66,
   "metadata": {},
   "outputs": [
    {
     "data": {
      "text/plain": [
       "<matplotlib.legend.Legend at 0x7f679b72cbe0>"
      ]
     },
     "execution_count": 66,
     "metadata": {},
     "output_type": "execute_result"
    },
    {
     "data": {
      "image/png": "[encoded data removed]",
      "text/plain": [
       "<Figure size 432x288 with 1 Axes>"
      ]
     },
     "metadata": {
      "needs_background": "light"
     },
     "output_type": "display_data"
    }
   ],
   "source": [
    "plt.loglog(num_elements, Δrect, 'o-', label='rect')\n",
    "plt.loglog(num_elements, Δtrap, 'o-', label='trap')\n",
    "plt.xlabel('n')\n",
    "plt.ylabel('Error')\n",
    "plt.legend()"
   ]
  },
  {
   "cell_type": "markdown",
   "metadata": {},
   "source": [
    "Comment: The trapezoidal rule converges much faster than the rectangle rule to the exact solution."
   ]
  },
  {
   "cell_type": "markdown",
   "metadata": {},
   "source": [
    "## Taylor Series"
   ]
  },
  {
   "cell_type": "markdown",
   "metadata": {},
   "source": [
    "Idea: approximate a smooth function with a polynomial.\n",
    "\n",
    "We *expand* $f(x)$ around the point $x=a$.\n",
    "\n",
    "$$\\begin{align}\n",
    "f(x) &= f(a) +  f'(a)(x-a) +  f''(a)\\frac{(x-a)^2}{2} +  f'''(a)\\frac{(x-a)^3}{6}  + \\cdots \\\\\n",
    "&= \\sum_0^\\infty f^{(n)}(a)\\frac{(x-a)^n}{n!} \n",
    "\\end{align}$$"
   ]
  },
  {
   "cell_type": "markdown",
   "metadata": {},
   "source": [
    "Each term in the series makes a polynomial a better approximation to $f(x)$.\n",
    "\n",
    "\n",
    "$$\n",
    "\\begin{align}\n",
    "T_0 (x) &= f(a)  & \\mbox{(a constant)} \\\\\n",
    "T_1(x) &= f(a) + f'(a)(x-a) & \\mbox{(a line)} \\\\\n",
    "T_2(x) &= f(a) + f'(a)(x-a) + f''(a)\\frac{(x-a)^2}{2} &   \\mbox{(a parabola)}\n",
    "\\end{align}$$"
   ]
  },
  {
   "cell_type": "markdown",
   "metadata": {},
   "source": [
    "The series is designed so that if you take the $n^\\mbox{th}$ derivative of the series at $x=a$, you get precisely $f^{(n)}(a)$."
   ]
  },
  {
   "cell_type": "markdown",
   "metadata": {},
   "source": [
    "- - -\n",
    "### Example\n",
    "\n",
    "Expand $f(x) = \\sin x$ around $x=0$ to the 3$^\\text{rd}$ order.\n",
    "\n",
    "(An expansion around $x=0$ is called a Maclaurin series.)\n",
    "\n",
    "$$ \\begin{align}\n",
    "f(x) &= \\sin(x) \\\\\n",
    "f(0) &= 0 \\\\\n",
    "f'(0) &=  \\cos(x) \\big|_{x=0} = 1 \\\\\n",
    "f''(0) &=  -\\sin(x) \\big|_{x=0} = 0 \\\\\n",
    "f'''(0) &=  -\\cos(x) \\big|_{x=0} = -1\n",
    "\\end{align} $$\n",
    "\n",
    "So the  3$^\\text{rd}$ order Taylor series is\n",
    "\n",
    "$$\n",
    "\\begin{align}\n",
    "f(x) &\\approx f(0) + f'(0) x + f''(0) \\frac{x^2}{2} + f'''(0) \\frac{x^3}{6} \\\\\n",
    "\\sin(x) &\\approx x - \\frac{x^3}{6} \\quad\\quad \\mbox{(next term would be $\\sim x^5$)}\\\\\n",
    "\\end{align}$$\n"
   ]
  },
  {
   "cell_type": "markdown",
   "metadata": {},
   "source": [
    "or we can write\n",
    "\n",
    "$$ \\sin(x) = x - \\frac{x^3}{6} + \\mathcal{O}(x^5) $$"
   ]
  },
  {
   "cell_type": "markdown",
   "metadata": {},
   "source": [
    "The notation $\\mathcal{O}(x^5)$ means that of all the other terms we are missing, the leading one varies as $x^5$.\n",
    "\n",
    "*i.e.* for $x$ small $ x^5 \\gg x^7 \\gg x^9$ etc.\n",
    "- - -"
   ]
  },
  {
   "cell_type": "code",
   "execution_count": 67,
   "metadata": {},
   "outputs": [
    {
     "data": {
      "image/png": "[encoded data removed]",
      "text/plain": [
       "<Figure size 432x288 with 1 Axes>"
      ]
     },
     "metadata": {
      "needs_background": "light"
     },
     "output_type": "display_data"
    }
   ],
   "source": [
    "x = np.arange(-5, 5, 0.1)\n",
    "plt.plot(x, np.sin(x), linewidth=3, label='sin(x)')\n",
    "plt.plot(x, x, label='$T_1(x)$')\n",
    "plt.plot(x, x - x**3/6, label = '$T_3(x)$')\n",
    "plt.plot(x, x - x**3/6+ x**5/120, label = '$T_5(x)$')\n",
    "plt.ylim(-3, 3)\n",
    "plt.xlim(-5,4)\n",
    "plt.legend()\n",
    "plt.xlabel('x')\n",
    "plt.title('Taylor series approximations of $\\sin(x)$')\n",
    "plt.show()"
   ]
  },
  {
   "cell_type": "markdown",
   "metadata": {},
   "source": [
    "- - -"
   ]
  },
  {
   "cell_type": "markdown",
   "metadata": {},
   "source": [
    "### Deriving a forward difference"
   ]
  },
  {
   "cell_type": "markdown",
   "metadata": {},
   "source": [
    "We can rewrite the Taylor series as \n",
    "\n",
    "$$f(x+h) = f(x) + f'(x) h + f''(x) \\frac{h^2}{2} + f'''(x) \\frac{h^3}{6} + \\cdots $$\n",
    "\n",
    "where we are expanding around $x = a = x$ so that $((x+h) - a) = (x+h-x) = h$.\n",
    " \n",
    "That is, we are expanding around $x$ and $h$ is a small step away from $x$."
   ]
  },
  {
   "cell_type": "markdown",
   "metadata": {},
   "source": [
    "Solve the Taylor series for $f'(x)$"
   ]
  },
  {
   "cell_type": "markdown",
   "metadata": {},
   "source": [
    "$$\\begin{align}\n",
    "f'(x) &= \\frac{f(x+h) - f(x)}{h} - \\frac{f''(x)}{2}h - \\frac{f'''(x)}{6} h^2 \\\\\n",
    "&= \\frac{f(x+h) - f(x)}{h} + \\mathcal{O}(h)\n",
    "\\end{align}$$"
   ]
  },
  {
   "cell_type": "markdown",
   "metadata": {},
   "source": [
    "The first term\n",
    "\n",
    "$$\\frac{f(x+h) - f(x)}{h}$$\n",
    "\n",
    "is the *forward difference approximation for the first derivative* and\n",
    "\n",
    "$$\\mathcal{O}(h)$$\n",
    "\n",
    "means the error is of order $h$ (size of error terms decreases linearly with $h$)."
   ]
  },
  {
   "cell_type": "markdown",
   "metadata": {},
   "source": [
    "### Deriving a backwards difference"
   ]
  },
  {
   "cell_type": "markdown",
   "metadata": {},
   "source": [
    "We could also rewrite the Taylor series as \n",
    "\n",
    "$$f(x-h) = f(x) - f'(x) h + f''(x) \\frac{h^2}{2} - f'''(x) \\frac{h^3}{6} + \\cdots $$\n",
    "\n",
    "( We replacing $h \\rightarrow -h$ )\n"
   ]
  },
  {
   "cell_type": "markdown",
   "metadata": {},
   "source": [
    "Solve the Taylor series for $f'(x)$"
   ]
  },
  {
   "cell_type": "markdown",
   "metadata": {},
   "source": [
    "$$\\begin{align}\n",
    "f'(x) &= \\frac{f(x) - f(x-h)}{h} - \\frac{f''(x)}{2}h + \\frac{f'''(x)}{6} h^2 \\\\\n",
    "&= \\frac{f(x) - f(x-h)}{h} + \\mathcal{O}(h)\n",
    "\\end{align}$$"
   ]
  },
  {
   "cell_type": "markdown",
   "metadata": {},
   "source": [
    "Now, the first term\n",
    "\n",
    "$$\\frac{f(x) - f(x-h)}{h}$$\n",
    "\n",
    "is the *backwards difference approximation for the first derivative* and\n",
    "\n",
    "$$\\mathcal{O}(h)$$\n",
    "\n",
    "means the error is of order $h$ (same order error as forward difference)."
   ]
  },
  {
   "cell_type": "markdown",
   "metadata": {},
   "source": [
    "### Deriving centred difference"
   ]
  },
  {
   "cell_type": "markdown",
   "metadata": {},
   "source": [
    "Substracting the Taylor series for $f(x+h)$ from the Taylor series for $f(x-h)$ gives\n",
    "\n",
    "$$ f(x+h) - f(x-h) = 2 f'(x) h + 2 f'''(x) \\frac{h^3}{6} + \\cdots$$"
   ]
  },
  {
   "cell_type": "markdown",
   "metadata": {},
   "source": [
    "Solving for $f'(x)$ gives\n",
    "\n",
    "$$ f'(x) = \\frac{ f(x+h) - f(x-h)}{2 h} + \\mathcal{O}(h^2) $$\n",
    "\n",
    "which shows that the *centred difference approximation for the first derivative* has error term on the order of $h^2$ (the size of the error term decreases quadratically with $h$)."
   ]
  },
  {
   "cell_type": "markdown",
   "metadata": {},
   "source": [
    "### Deriving a centred difference for a second derivative"
   ]
  },
  {
   "cell_type": "markdown",
   "metadata": {},
   "source": [
    "Adding the Taylor series for $f(x+h)$ to the Taylor series for $f(x-h)$ gives\n",
    "\n",
    "$$ f(x+h) + f(x-h) = 2 f(x) + 2 f''(x) \\frac{h^2}{2} +  2 f^{(4)}(x) \\frac{h^4}{4!}  \\cdots$$\n",
    "\n",
    "Solving for $f''(x)$ gives\n",
    "\n",
    "$$ f''(x) = \\frac{ f(x+h) - 2f(x) + f(x-h)}{h^2} + \\mathcal{O}(h^2) $$\n",
    "\n",
    "This is the *centred difference approximation for the **second** derivative*  of $f$. It has an error term of $\\sim h^2$."
   ]
  },
  {
   "cell_type": "markdown",
   "metadata": {},
   "source": [
    "## Error examples "
   ]
  },
  {
   "cell_type": "code",
   "execution_count": 68,
   "metadata": {},
   "outputs": [
    {
     "name": "stdout",
     "output_type": "stream",
     "text": [
      "x = π/4\n",
      "y = sin(x)\n",
      "y' = cos(x)\n",
      "y'(π/4) = 0.70710678\n"
     ]
    }
   ],
   "source": [
    "print('x = π/4')\n",
    "x = np.pi/4   # x = π/4\n",
    "\n",
    "print('y = sin(x)')\n",
    "y = lambda x: np.sin(x) # y = sin(x)\n",
    "\n",
    "y0 = y(x) # y = sin(π/4)\n",
    "\n",
    "print(\"y' = cos(x)\")\n",
    "y1 = np.cos(x) # y' = cos(x) = cos(π/4)\n",
    "\n",
    "print(\"y'(π/4) = {:.8f}\".format(y1))"
   ]
  },
  {
   "cell_type": "markdown",
   "metadata": {},
   "source": [
    "##### Forward difference\n",
    "\n",
    "$$ y'(x) \\approx \\frac{y(x+h) - y(x)}{h} $$"
   ]
  },
  {
   "cell_type": "code",
   "execution_count": 69,
   "metadata": {},
   "outputs": [
    {
     "name": "stdout",
     "output_type": "stream",
     "text": [
      "Forward difference with h = 0.1, y'(π/4) = 0.67060297\n",
      "Error is 0.03650381 = 3.7e-02\n"
     ]
    }
   ],
   "source": [
    "h = 0.1\n",
    "y1_fd = ( y(x + h) - y(x) ) / h\n",
    "\n",
    "print(\"Forward difference with h = {:.1}, y'(π/4) = {:.8f}\".format(h, y1_fd))\n",
    "print(\"Error is {0:.8f} = {0:.1e}\".format(abs(y1 - y1_fd)))"
   ]
  },
  {
   "cell_type": "code",
   "execution_count": 70,
   "metadata": {},
   "outputs": [
    {
     "name": "stdout",
     "output_type": "stream",
     "text": [
      "Forward difference with h = 0.01, y'(π/4) = 0.70355949\n",
      "Error is 0.00354729 = 3.5e-03\n"
     ]
    }
   ],
   "source": [
    "h = 0.01\n",
    "y1_fd = ( y(x + h) - y(x) ) / h\n",
    "\n",
    "print(\"Forward difference with h = {:.2}, y'(π/4) = {:.8f}\".format(h, y1_fd))\n",
    "print(\"Error is {0:.8f} = {0:.1e}\".format(abs(y1 - y1_fd)))"
   ]
  },
  {
   "cell_type": "markdown",
   "metadata": {},
   "source": [
    "Decreasing $h$ by a factor of $10$ decreases error by a factor of $10$.\n",
    "- - -"
   ]
  },
  {
   "cell_type": "markdown",
   "metadata": {},
   "source": [
    "#### Centred difference\n",
    "\n",
    "$$ y'(x) \\approx \\frac{y(x+h) - y(x-h)}{2 h} $$"
   ]
  },
  {
   "cell_type": "code",
   "execution_count": 72,
   "metadata": {},
   "outputs": [
    {
     "name": "stdout",
     "output_type": "stream",
     "text": [
      "Centred difference with h = 0.1, y'(π/4) = 0.70592886\n",
      "Error is 0.00117792 = 1.2e-03\n"
     ]
    }
   ],
   "source": [
    "h = 0.1\n",
    "y1_cd = ( y(x + h) - y(x-h) ) / (2*h)\n",
    "\n",
    "print(\"Centred difference with h = {:.1}, y'(π/4) = {:.8f}\".format(h, y1_cd))\n",
    "print(\"Error is {0:.8f} = {0:.1e}\".format(abs(y1 - y1_cd)))"
   ]
  },
  {
   "cell_type": "code",
   "execution_count": 73,
   "metadata": {},
   "outputs": [
    {
     "name": "stdout",
     "output_type": "stream",
     "text": [
      "Centred difference with h = 0.01, y'(π/4) = 0.70355949\n",
      "Error is 0.00001179 = 1.2e-05\n"
     ]
    }
   ],
   "source": [
    "h = 0.01\n",
    "y1_cd = ( y(x + h) - y(x-h) ) / (2*h)\n",
    "\n",
    "print(\"Centred difference with h = {:.2}, y'(π/4) = {:.8f}\".format(h, y1_fd))\n",
    "print(\"Error is {0:.8f} = {0:.1e}\".format(abs(y1 - y1_cd)))"
   ]
  },
  {
   "cell_type": "markdown",
   "metadata": {},
   "source": [
    "Decreasing $h$ by a factor of $10$ decreases error by a factor of $10^2 = 100$.\n",
    "- - -"
   ]
  },
  {
   "cell_type": "markdown",
   "metadata": {},
   "source": [
    "These errors arise essentially from truncating the Tayler series at a certain order of the expansion (this is called *truncation error*)."
   ]
  },
  {
   "cell_type": "markdown",
   "metadata": {},
   "source": [
    "There is another source of error, *roundoff error*, arising from the finite precision used to store numbers on the computer."
   ]
  },
  {
   "cell_type": "markdown",
   "metadata": {},
   "source": [
    "### Example of round-off error"
   ]
  },
  {
   "cell_type": "markdown",
   "metadata": {},
   "source": [
    "$ \\frac{d}{dx} \\sin x \\big |_{\\pi/4} $ with forward difference:"
   ]
  },
  {
   "cell_type": "code",
   "execution_count": 74,
   "metadata": {},
   "outputs": [
    {
     "name": "stdout",
     "output_type": "stream",
     "text": [
      "Forward difference with h = 1e-07, y'(π/4) = 0.70710675\n",
      "Error is 3.6e-08\n"
     ]
    }
   ],
   "source": [
    "h = 1e-7\n",
    "y1_fd = ( y(x + h) - y(x) ) / h\n",
    "\n",
    "print(\"Forward difference with h = {:.0e}, y'(π/4) = {:.8f}\".format(h, y1_fd))\n",
    "print(\"Error is {0:.1e}\".format(abs(y1 - y1_fd)))"
   ]
  },
  {
   "cell_type": "code",
   "execution_count": 75,
   "metadata": {},
   "outputs": [
    {
     "name": "stdout",
     "output_type": "stream",
     "text": [
      "Forward difference with h = 1e-09, y'(π/4) = 0.70710682\n",
      "Error is 3.6e-08\n"
     ]
    }
   ],
   "source": [
    "h = 1e-9\n",
    "y1_fd = ( y(x + h) - y(x) ) / h\n",
    "\n",
    "print(\"Forward difference with h = {:.0e}, y'(π/4) = {:.8f}\".format(h, y1_fd))\n",
    "print(\"Error is {0:.1e}\".format(abs(y1 - y1_fd)))"
   ]
  },
  {
   "cell_type": "markdown",
   "metadata": {},
   "source": [
    "Error remained the same even though $h$ got smaller by a factor of 100."
   ]
  },
  {
   "cell_type": "code",
   "execution_count": 76,
   "metadata": {},
   "outputs": [
    {
     "name": "stdout",
     "output_type": "stream",
     "text": [
      "Forward difference with h = 1e-11, y'(π/4) = 0.70711215\n",
      "Error is 5.4e-06\n"
     ]
    }
   ],
   "source": [
    "h = 1e-11\n",
    "y1_fd = ( y(x + h) - y(x) ) / h\n",
    "\n",
    "print(\"Forward difference with h = {:.0e}, y'(π/4) = {:.8f}\".format(h, y1_fd))\n",
    "print(\"Error is {0:.1e}\".format(abs(y1 - y1_fd)))"
   ]
  },
  {
   "cell_type": "markdown",
   "metadata": {},
   "source": [
    "Error increases even though $h$ got still smaller.\n",
    "- - -"
   ]
  },
  {
   "cell_type": "markdown",
   "metadata": {},
   "source": [
    "## Simpson's Rule for Integration"
   ]
  },
  {
   "cell_type": "markdown",
   "metadata": {},
   "source": [
    "<a title=\"Popletibus This W3C-unspecified vector image was created with Inkscape. [CC BY-SA 4.0 (https://creativecommons.org/licenses/by-sa/4.0)], via Wikimedia Commons\" href=\"https://commons.wikimedia.org/wiki/File:Simpsons_method_illustration.svg\"><img width=\"256\" alt=\"Simpsons method illustration\" src=\"https://upload.wikimedia.org/wikipedia/commons/thumb/c/ca/Simpsons_method_illustration.svg/256px-Simpsons_method_illustration.svg.png\"></a>"
   ]
  },
  {
   "cell_type": "markdown",
   "metadata": {},
   "source": [
    "Idea: fit a parabola through three points\n",
    "- work with consecutive triplets\n",
    "- need an odd number of points"
   ]
  },
  {
   "cell_type": "markdown",
   "metadata": {},
   "source": [
    "Consider \n",
    "\n",
    "$$ \\int_{-1}^{1} f(x) dx $$"
   ]
  },
  {
   "cell_type": "markdown",
   "metadata": {},
   "source": [
    "approximate  $ f(x) \\approx \\alpha x^2 + \\beta x + \\gamma $ (like a 2$^\\text{nd}$ order Taylor series)\n",
    "\n",
    "$$\\begin{align}\n",
    "\\int_{-1}^{1} f(x) dx & = \\int_{-1}^{1}\\alpha x^2 + \\beta x + \\gamma  dx \\\\\n",
    "&= \\frac{2}{3} \\alpha + 2 \\gamma \n",
    "\\end{align}$$\n"
   ]
  },
  {
   "cell_type": "markdown",
   "metadata": {},
   "source": [
    "Now, \n",
    "\n",
    "$$\\begin{align}\n",
    "f(-1) &= \\alpha - \\beta + \\gamma \\\\\n",
    "f(0) &= \\gamma  \\quad\\quad\\quad\\quad \\rightarrow \\gamma = f(0) \\\\\n",
    "f(1) &= \\alpha + \\beta + \\gamma\n",
    "\\end{align}$$"
   ]
  },
  {
   "cell_type": "markdown",
   "metadata": {},
   "source": [
    "solve for $\\alpha$\n",
    "\n",
    "$$\n",
    "\\begin{align}\n",
    "f(-1) + f(1) &= 2\\alpha + 2\\gamma \\\\\n",
    "\\alpha &= \\frac{f(-1) + f(1)}{2} -f(0)\n",
    "\\end{align}\n",
    "$$\n"
   ]
  },
  {
   "cell_type": "markdown",
   "metadata": {},
   "source": [
    "so\n",
    "\n",
    "$$\\begin{align}\n",
    "\\int_{-1}^{1} f(x) dx & \\approx \\frac{2}{3} \\alpha + 2 \\gamma  \\\\\n",
    "& = \\frac{2}{3} \\left( \\frac{f_{-1} + f_{1}}{2} - f_0\\right) + 2 f_0 \\\\\n",
    "& = \\frac{1}{3}f_{-1} + \\frac{4 }{3}f_0 + \\frac{1}{3}f_1\n",
    "\\end{align}$$"
   ]
  },
  {
   "cell_type": "markdown",
   "metadata": {},
   "source": [
    "Approximating the intergal with three function calls with these weights is equivalent to approximating curve with a parabola."
   ]
  },
  {
   "cell_type": "markdown",
   "metadata": {},
   "source": [
    "This generalizes to\n",
    "\n",
    "$$\n",
    "\\int_{x_i -h }^{x_i + h} f(x) dx \\approx  \\frac{h}{3}f_{i-1} + \\frac{4h }{3}f_i + \\frac{h}{3}f_{i+1}$$"
   ]
  },
  {
   "cell_type": "markdown",
   "metadata": {},
   "source": [
    "where $f_i = f(x_i)$ and $f_{i\\pm1} = f(x_{i\\pm 1}) = f(x_i \\pm h)$."
   ]
  },
  {
   "cell_type": "markdown",
   "metadata": {},
   "source": [
    "#### Example"
   ]
  },
  {
   "cell_type": "code",
   "execution_count": 77,
   "metadata": {},
   "outputs": [
    {
     "data": {
      "image/png": "[encoded data removed]",
      "text/plain": [
       "<Figure size 432x288 with 1 Axes>"
      ]
     },
     "metadata": {
      "needs_background": "light"
     },
     "output_type": "display_data"
    }
   ],
   "source": [
    "fig, ax = plt.subplots()\n",
    "plt.axhline(0, color='k')\n",
    "##plt.axis(False)\n",
    "x = [0, 1, 2, 3, 4, 5, 6]\n",
    "y = [2, 2.8, 3, 2.8, 2.2, 1.8, 1.5]\n",
    "plt.plot(x, y, 'ko-')\n",
    "for x0, y0 in zip(x, y):\n",
    "    if x0 % 2 == 0:\n",
    "        style = 'k-'\n",
    "        alpha = 1\n",
    "    else:\n",
    "        style = 'k--'\n",
    "        alpha = 0.4\n",
    "    plt.plot([x0, x0], [0, y0], style, alpha=alpha)\n",
    "\n",
    "ax.axes.get_yaxis().set_visible(False)\n",
    "plt.xticks(x, \n",
    "           ['$a = x_0$','$x_1$', '$x_2$', '$x_3$', '$x_4$', '$x_5$', '$b=x_6$'])\n",
    "plt.box(False)\n",
    "plt.text(1, .8, '$A_1$', size=24, horizontalalignment='center')\n",
    "plt.text(3, .8, '$A_2$', size=24, horizontalalignment='center')\n",
    "plt.text(5, .8, '$A_3$', size=24, horizontalalignment='center')\n",
    "plt.show()"
   ]
  },
  {
   "cell_type": "markdown",
   "metadata": {},
   "source": [
    "7 points, $n = 6$ slabs, 3 areas."
   ]
  },
  {
   "cell_type": "markdown",
   "metadata": {},
   "source": [
    "$$\\begin{align}\n",
    "\\int_a^b f(x) dx &=  A_1 \\quad\\quad + \\quad\\quad A_2 \\quad\\quad+\\quad\\quad A_3 \\\\\n",
    " &= \\int_{x_1 - h}^{x_1+h} f(x) dx + \\int_{x_3 - h}^{x_3+h} f(x) dx + \\int_{x_5 - h}^{x_5+h} f(x) dx \\\\\n",
    "\\end{align}$$\n",
    "\n",
    "\n",
    "$$\\begin{align}\n",
    "&= \\left( \\frac{h}{3}f_0 + \\frac{4h }{3}f_1 + \\frac{h}{3}f_2 \\right) + \n",
    "\\left( \\frac{h}{3}f_2 + \\frac{4h }{3}f_3 + \\frac{h}{3}f_4 \\right) + \n",
    "\\left( \\frac{h}{3}f_4 + \\frac{4h }{3}f_5 + \\frac{h}{3}f_6 \\right) \\\\\n",
    "&= \\frac{h}{3} \\left( f_0 + 4 f_1 + 2 f_2 + 4 f_3 + 2 f_4 + 4 f_5 + f_6\\right)\n",
    "\\end{align}$$"
   ]
  },
  {
   "cell_type": "markdown",
   "metadata": {},
   "source": [
    "In general, with $n+1$ points ($n$ even),\n",
    "\n",
    "$$ \\int_a^b f(x) dx = \\frac{h}{3} \\left( f_0 + 4 f_1 + 2 f_2 + \\ldots + 2 f_{n-2} + 4 f_{n-1} + f_n\\right) $$\n",
    "\n",
    "Odd points multiplied by 4, even interior points multipled by 2.\n",
    "\n",
    "$$ = \\frac{h}{3} \\left ( f_0 + 4 \\sum_{i\\;\\text{odd}} f_i + 2 \\sum_{i\\;\\text{even}} f_i + f_n \\right) $$\n",
    "\n",
    "There are $\\frac{n}{2}$ odd points and $\\frac{n}{2} - 1$ even interior points."
   ]
  },
  {
   "cell_type": "markdown",
   "metadata": {},
   "source": [
    "From *Wikipedia*: An animation showing how Simpson's rule approximation improves with more strips.\n",
    "<a title=\"Mkwadee [CC BY-SA 4.0 (https://creativecommons.org/licenses/by-sa/4.0)], via Wikimedia Commons\" href=\"https://commons.wikimedia.org/wiki/File:Simpsonsrule2.gif\"><img width=\"512\" alt=\"Simpsonsrule2\" src=\"https://upload.wikimedia.org/wikipedia/commons/6/67/Simpsonsrule2.gif\"></a>"
   ]
  },
  {
   "cell_type": "markdown",
   "metadata": {},
   "source": [
    "## Runge-Kutta Methods\n",
    "\n",
    "The goal is to solve\n",
    "\n",
    "\\begin{align}\n",
    "\\frac{dy}{dt} = f(y,t), \\quad y(0) = y_0\n",
    "\\end{align}"
   ]
  },
  {
   "cell_type": "markdown",
   "metadata": {},
   "source": [
    "### Review of Euler's method\n",
    "\n",
    "We can approximate derivative with a **forward difference**\n",
    "\n",
    "\\begin{align}\n",
    " \\frac{dy}{dt} &= \\frac{y(t+\\Delta t) - y(t)}{\\Delta t} + \\mathcal{O}(\\Delta t) \\\\\n",
    " y(t+\\Delta t) &= y(t) + \\frac{dy}{dt}\\Delta t + \\mathcal{O}(\\Delta t^2) \n",
    "\\end{align}\n",
    "\n",
    "since $\\frac{dy}{dt} = f(y,t)$ we can write\n",
    "\n",
    "$$  y(t+\\Delta t) = y(t) + f(y,t) \\Delta t + \\mathcal{O}(\\Delta t^2) $$\n",
    "\n",
    "We say that Euler's method is accurate to *first-order* in $\\Delta t$ since it is equivalent to the Taylor series up to first order in $\\Delta t$."
   ]
  },
  {
   "cell_type": "markdown",
   "metadata": {},
   "source": [
    "### Midpoint scheme or Second-Order Runge-Kutta Method\n",
    "\n",
    "Start with a **central difference** representation for a derivative\n",
    "\n",
    "\\begin{align}\n",
    " \\frac{dy}{dt} &= \\frac{y(t+\\Delta t) - y(t-\\Delta t)}{2 \\Delta t} + O(\\Delta t^2) \\\\\n",
    " y(t+\\Delta t) &= y(t-\\Delta t) + 2 \\frac{dy}{dt} \\Delta t + O(\\Delta t^3) \\\\\n",
    "  &= y(t - \\Delta t) + 2 f(y(t), t)\\Delta t +O(\\Delta t^3)\n",
    "\\end{align}\n",
    "\n",
    "$f(y(t), t)$ is evaluated at the midpoint in time between $t - \\Delta t$ and $t+\\Delta t$. \n",
    "\n",
    "We can rewrite this as\n",
    "\n",
    "$$ y(t+\\Delta t) = y(t) + f\\left(y(t + \\Delta t /2), t + \\Delta t/2\\right)\\Delta t +O(\\Delta t^3)$$\n",
    "\n",
    "i.e. $\\Delta t \\rightarrow \\Delta t / 2$, then we can shift $t \\rightarrow t + \\Delta t / 2$"
   ]
  },
  {
   "cell_type": "markdown",
   "metadata": {},
   "source": [
    "So, if we can estimate \n",
    "\n",
    "$$ f\\left(y(t + \\Delta t /2), t + \\Delta t/2\\right) $$\n",
    "\n",
    "we can gain an order in our truncation error. To do this we need to estimate $y(t+\\Delta/2)$.\n",
    "\n",
    "Trick: use an Euler half-step\n",
    "\n",
    "$$\n",
    "y ( t + \\Delta t / 2) = y(t) + f(y(t), t)  \\frac{\\Delta t}{2} + \\mathcal{O}(\\Delta t^2)\n",
    "$$\n",
    "\n",
    "\n",
    "We can show (through a Taylor expansion) that this leads to a final estimate of $y(t + \\Delta t)$ that is accurate to *second-order* in $\\Delta t$. For the simpler case where $ \\frac{dy}{dt} = f(y)$,\n",
    "\n",
    "$$\\begin{align}\n",
    "f\\left(y(t+\\frac{\\Delta t}{2})\\right) &= f\\left(y(t) + \\frac{\\Delta t}{2} y'(t) + \\mathcal{O}(\\Delta t^2)\\right)\\\\\n",
    "&= f(y(t)) + \\frac{df(y)}{dy} \\left( \\frac{\\Delta t}{2} y'(t) + \\mathcal{O}(\\Delta t^2)  \\right) + \\mathcal{O}(\\Delta y^2) \\\\\n",
    "&= f(y) + \\frac{\\Delta t}{2} y'(t) \\frac{df(y)}{dy} + \\mathcal{O}(\\Delta t^2) \\\\\n",
    "&= f(y) + \\frac{\\Delta t}{2} \\frac{dy}{dt}  \\frac{df}{dt} \\frac{dt}{dy}+ \\mathcal{O}(\\Delta t^2) \\\\\n",
    "&= f(y) + \\frac{\\Delta t}{2}   \\frac{df}{dt}+ \\mathcal{O}(\\Delta t^2) \\\\\n",
    "\\end{align}\n",
    "$$\n",
    "\n",
    "So the mid-point method becomes\n",
    "\n",
    "$$\\begin{align}\n",
    "y(t +\\Delta t) &= y(t) + \\Delta t f\\left( y(t + \\frac{\\Delta t}{t} )\\right) + \\mathcal{O}(\\Delta t^3) \\\\\n",
    "&= y(t) + \\Delta t f(y) +  \\frac{\\Delta t^2}{2}   \\frac{df}{dt}+ \\mathcal{O}(\\Delta t^3) \\\\\n",
    "&= y(t) + \\Delta t y'(t) +  \\frac{\\Delta t^2}{2}  y''(t) + \\mathcal{O}(\\Delta t^3)\n",
    "\\end{align}$$\n",
    "\n",
    "with this procedure, we indeed recover the Taylor series up to second order in $\\Delta t$."
   ]
  },
  {
   "cell_type": "markdown",
   "metadata": {},
   "source": [
    "### Midpoint Algorithm\n",
    "\n",
    "1\\. Estimate slope at $t$\n",
    "\n",
    "$$ s_1 = f(y(t), t) $$\n",
    "\n",
    "2\\. Use $s_1$ to estimate the midpoint between $t$ and $t + \\Delta t$\n",
    "\n",
    "\\begin{align}\n",
    "y^* &= y ( t + \\Delta t) \\\\\n",
    "       &= y(t) + \\frac{\\Delta t}{2} s_1\n",
    "\\end{align}\n",
    " \t\n",
    "\n",
    "3\\. Use $y^*$ to get the the slope at the midpoint\n",
    "\n",
    "$$ s_2 = f( y^*, t +  \\frac{\\Delta t}{2} ) $$\n",
    "\n",
    "4\\. Use $s_2$ to estimate $y(t + \\Delta t)$\n",
    "\n",
    "$$ y(t + \\Delta t) = y(t) + \\Delta t s_2 $$"
   ]
  },
  {
   "cell_type": "markdown",
   "metadata": {},
   "source": [
    "### Midpoint Algorithm\n",
    "\n",
    "\\begin{align}\n",
    "s_1 &= f(y_i, t_i) \\\\\n",
    "y^* &= y_i + \\Delta t / 2 s_1 \\\\\n",
    "s_2 &= f(y^*, t_i + \\Delta t /2) \\\\\n",
    "y_{i+1} &= y_i + \\Delta t s_2\n",
    "\\end{align}"
   ]
  },
  {
   "cell_type": "markdown",
   "metadata": {},
   "source": [
    "Although the algorithm takes two steps, there is an order gain in accuracy. The error of the scheme is of order  $\\Delta t^2$. This means that decreasing the timestep  $\\Delta t$ by a factor of  2 decreases the error by a factor of 4. \n",
    "\n",
    "It also means that compared to the Euler scheme and for the same time step used the accuracy of the scheme is better.\n",
    "\n",
    "This algorihm is sometimes calleed the *Midpoint Algorithm*, the *Euler-Richardson Algorithm*, or the *Second-Order Runge-Kutta Method*."
   ]
  },
  {
   "cell_type": "markdown",
   "metadata": {},
   "source": [
    "### Fourth-Order Runge-Kutta Method\n",
    "\n",
    "A very common scheme is the classical Fourth-Order Runge-Kutta formula.\n",
    "\n",
    "$$\n",
    "\\begin{align}\n",
    "    s_1 &= f(y_i, t_i,) \\\\\n",
    "    y_{1/2} &= y_i + s_1 \\Delta t /2 \\\\ \n",
    "    s_2 &= f(y_{1/2}, t + \\Delta t / 2) \\\\\n",
    "    y_{1/2}^* &= y_i + s_2 \\Delta t / 2  \\\\\n",
    "    s_3 &= f(y_{1/2}^*, t + \\Delta t / 2) \\\\\n",
    "    y^* &= y_i + s_3 \\Delta t  \\\\\n",
    "    s_4 &= f(y^*, t + \\Delta t) \\\\\n",
    "    y_{i+1} &= y_i  +  \\frac{\\Delta t}{6} (s_1+2 s_2+2s_3+s_4)\\\\\n",
    "\\end{align}\n",
    "$$\n",
    "\n",
    "The error of the scheme is of order  $\\Delta t^4$. This means that decreasing the timestep  $\\Delta t$ by a factor of 2 decreases the error by a factor of 16. It also means that compared to the Euler or midpoint schemes the accuracy is typically much better."
   ]
  },
  {
   "cell_type": "markdown",
   "metadata": {},
   "source": [
    "## Examples"
   ]
  },
  {
   "cell_type": "markdown",
   "metadata": {},
   "source": [
    "### Example 1\n",
    "\n",
    "Solve numerically the following ODE\n",
    "\n",
    "$$ \\frac{dy}{dt} = - y $$\n",
    "\n",
    "with initial condition\n",
    "\n",
    "$$ y(0)=1$$\n",
    "\n",
    "using the Euler and midpoint and RK4 methods and compare graphically the numerical solutions to the exact solution. Take \n",
    "$\\Delta t$=0.5 and carry out the simulation up to $t=4$."
   ]
  },
  {
   "cell_type": "code",
   "execution_count": null,
   "metadata": {},
   "outputs": [],
   "source": [
    "tmax = 4\n",
    "dt = 0.5\n",
    "\n",
    "N = round(tmax/dt)\n",
    "t = np.arange(0, tmax, dt)\n",
    "\n",
    "# Exact solution\n",
    "y_exact = 1 * np.exp(-t)\n",
    "\n",
    "# Euler's method\n",
    "y = np.zeros(N)\n",
    "y[0] = 1\n",
    "for i in range(N-1):\n",
    "    s1 = -y[i]\n",
    "    y[i+1]  = y[i] + s1*dt\n",
    "y_euler = y\n",
    "\n",
    "# Midpoint method\n",
    "y = np.zeros(N)\n",
    "y[0] = 1\n",
    "for i in range(N-1):\n",
    "    s1 = -y[i]\n",
    "    ytmp = y[i] + dt/2 * s1\n",
    "    s2 = -ytmp\n",
    "    y[i+1]  = y[i] + s2*dt\n",
    "y_midpoint = y\n",
    "\n",
    "# RK4 method\n",
    "y = np.zeros(N)\n",
    "y[0] = 1\n",
    "for i in range(N-1):\n",
    "    s1 = -y[i]\n",
    "    y1 = y[i] + s1 * dt/2\n",
    "    s2 = -y1\n",
    "    y2 = y[i] + s2 * dt/2\n",
    "    s3 = -y2\n",
    "    y3 = y[i] + s3 * dt\n",
    "    s4 = -y3\n",
    "    y[i+1] = y[i] + (s1 + 2*s2 + 2*s3 + s4)/6*dt\n",
    "y_RK4 = y"
   ]
  },
  {
   "cell_type": "markdown",
   "metadata": {},
   "source": [
    "### Compare the solutions"
   ]
  },
  {
   "cell_type": "code",
   "execution_count": null,
   "metadata": {},
   "outputs": [],
   "source": [
    "fig, axes = plt.subplots(figsize=(7,7))\n",
    "plt.plot(t, y_exact, 'k-',  label='Exact')\n",
    "plt.plot(t, y_euler, 'o:',  label='Euler')\n",
    "plt.plot(t, y_midpoint, 'o:',  label='Midpoint')\n",
    "plt.plot(t, y_RK4, 'o:',  label='RK4')\n",
    "plt.legend()\n",
    "plt.xlabel('t')\n",
    "plt.ylabel('y')\n",
    "plt.show()"
   ]
  },
  {
   "cell_type": "markdown",
   "metadata": {},
   "source": [
    "### Example 2\n",
    "\n",
    "Solve numerically the following ODE\n",
    "\n",
    "$$ \\frac{dy}{dt} = -2 y +3 e^{-4t} $$\n",
    "\n",
    " with initial condition\n",
    " \n",
    "$$ y(0)=1$$ \n",
    "\n",
    " using the Euler and midpoint methods, and compare graphically the numerical solutions to the exact solution. Take \n",
    "$\\Delta t =0.2$ and carry out the simulation up to  $t=3$."
   ]
  },
  {
   "cell_type": "code",
   "execution_count": null,
   "metadata": {},
   "outputs": [],
   "source": [
    "tmax = 3\n",
    "dt = 0.2\n",
    "\n",
    "N = round(tmax/dt)\n",
    "t = np.arange(0, tmax, dt)\n",
    "\n",
    "# Exact solution\n",
    "y_exact = 1/2* np.exp(-4*t)*(5*np.exp(2*t)-3)\n",
    "\n",
    "# define the right hand side\n",
    "def f(y, t):\n",
    "    return -2*y+3*np.exp(-4*t)\n",
    "\n",
    "# Euler's method\n",
    "y = np.zeros(N)\n",
    "y[0] = 1\n",
    "for i in range(N-1):\n",
    "    s1 = f(y[i], t[i])\n",
    "    y[i+1]  = y[i] + s1*dt\n",
    "y_euler = y\n",
    "\n",
    "# Midpoint scheme\n",
    "y = np.zeros(N)\n",
    "y[0] = 1\n",
    "for i in range(N-1):\n",
    "    s1 = f(y[i], t[i])\n",
    "    ytmp = y[i] + dt/2 * s1\n",
    "    s2 = f(ytmp, t[i])\n",
    "    y[i+1]  = y[i] + s2*dt\n",
    "y_midpoint = y\n",
    "\n",
    "# RK4 method\n",
    "y = np.zeros(N)\n",
    "y[0] = 1\n",
    "for i in range(N-1):\n",
    "    s1 = f(y[i], t[i])\n",
    "    y1 = y[i] + s1 * dt/2\n",
    "    s2 = f(y1, t[i] + dt/2)\n",
    "    y2 = y[i] + s2 * dt/2\n",
    "    s3 = f(y2, t[i] + dt/2)\n",
    "    y3 = y[i] + s3 * dt\n",
    "    s4 = f(y3, t[i] + dt)\n",
    "    y[i+1] = y[i] + (s1 + 2*s2 + 2*s3 + s4)/6*dt\n",
    "y_RK4 = y"
   ]
  },
  {
   "cell_type": "code",
   "execution_count": null,
   "metadata": {},
   "outputs": [],
   "source": [
    "fig, axes = plt.subplots(figsize=(7,7))\n",
    "plt.plot(t, y_exact, 'k-',  label='Exact')\n",
    "plt.plot(t, y_euler, 'o:',  label='Euler')\n",
    "plt.plot(t, y_midpoint, 'o:',  label='Midpoint')\n",
    "plt.plot(t, y_RK4, 'o:',  label='RK4')\n",
    "plt.legend()\n",
    "plt.xlabel('t')\n",
    "plt.ylabel('y')\n",
    "plt.show()"
   ]
  },
  {
   "cell_type": "markdown",
   "metadata": {},
   "source": [
    "It is clear that for the same time step, the fourth-order Runge-Kutta method is much more accurate."
   ]
  }
 ],
 "metadata": {
  "anaconda-cloud": {},
  "kernelspec": {
   "display_name": "Python 3",
   "language": "python",
   "name": "python3"
  },
  "language_info": {
   "codemirror_mode": {
    "name": "ipython",
    "version": 3
   },
   "file_extension": ".py",
   "mimetype": "text/x-python",
   "name": "python",
   "nbconvert_exporter": "python",
   "pygments_lexer": "ipython3",
   "version": "3.6.7"
  }
 },
 "nbformat": 4,
 "nbformat_minor": 4
}
