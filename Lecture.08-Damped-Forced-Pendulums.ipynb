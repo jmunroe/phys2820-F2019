{
 "cells": [
  {
   "cell_type": "markdown",
   "metadata": {},
   "source": [
    "# Damped and Forced Pendulums\n",
    "## Lecture 8"
   ]
  },
  {
   "cell_type": "code",
   "execution_count": null,
   "metadata": {
    "slideshow": {
     "slide_type": "skip"
    }
   },
   "outputs": [],
   "source": [
    "%matplotlib inline\n",
    "import matplotlib.pyplot as plt\n",
    "import numpy as np\n",
    "import pandas as pd\n",
    "from ipywidgets import interactive, fixed"
   ]
  },
  {
   "cell_type": "markdown",
   "metadata": {},
   "source": [
    "## The Motion of a Pendulum\n",
    "\n",
    "A common example of mechanical system that exhibits oscillatory motion is the simple pendulum.  A simple pendulum is an idealized system consisting of a particle or bob of mass $m$ attached to the lower end of rigid rod of length $L$ and negligble mass; the upper end of the rod pivots without friction. If the bob is pulled to one side from its equilibrium position and released, the pendulum swings in a vertical plane."
   ]
  },
  {
   "cell_type": "markdown",
   "metadata": {},
   "source": [
    "Because the bob is constrained to move along the arc of a circle of radius $L$ about the center, the bob’s position is specified by its arc length or by the angle $\\theta$.\n",
    "\n",
    "The linear velocity and acceleration of the bob as measured along the arc are given by\n",
    "\n",
    "$$\\begin{align}\n",
    "v &= L \\frac{d\\theta}{dt}\\\\\n",
    "a &= L \\frac{d^2\\theta}{dt^2}\n",
    "\\end{align}\n",
    "$$"
   ]
  },
  {
   "cell_type": "markdown",
   "metadata": {},
   "source": [
    "In the absence of friction, two forces act on the bob: the force $mg$ vertically downward and theforce of the rod which is directed inward to the center if $|\\theta| < \\pi/2$. \n",
    "\n",
    "Note that the effect of the rigid rod is to constrain the motion of the bob along the arc. We can see that the component of $mg$ along the arc is $m g \\sin \\theta$ in the direction of decreasing $\\theta$. Hence, the equation of motion can be written as"
   ]
  },
  {
   "cell_type": "markdown",
   "metadata": {},
   "source": [
    "$$m L \\frac{d^2\\theta}{dt^2} = -m g \\sin \\theta$$\n",
    "\n",
    "or\n",
    "\n",
    "$$\\frac{d^2\\theta}{dt^2} = - \\frac{g}{L} \\sin \\theta$$"
   ]
  },
  {
   "cell_type": "markdown",
   "metadata": {},
   "source": [
    "This equation is an example of a nonlinear equation because $\\sin\\theta$ rather than $\\theta$ appears. Most nonlinear equations do not have analytical solutions in terms of well-known functions, and this equation is no exception.\n",
    "\n",
    "However, if the amplitude of the pendulum oscillations is sufficiently small, then $\\sin \\theta \\approx \\theta$, and this equation reduces to\n",
    "\n",
    "$$\\frac{d^2\\theta}{dt^2} \\approx - \\frac{g}{L}  \\theta \\quad \\quad (\\theta \\ll 1)$$\n",
    "\n",
    "Remember that $\\theta$ is measured in radians."
   ]
  },
  {
   "cell_type": "markdown",
   "metadata": {},
   "source": [
    "Part of the fun of studying physics comes from realizing that equations that appear in different contexts often are similar. An example can be seen by comparing the equation for a for a small-angle pendulum with the equation for a spring-mass system:\n",
    "\n",
    "$$\\frac{d^2 x}{dt^2} = -\\frac{k}{m} x$$"
   ]
  },
  {
   "cell_type": "markdown",
   "metadata": {},
   "source": [
    "If we associate $x$ with $\\theta$, we see that the two equations are identical in form, and we can immediately conclude that for  $\\theta \\ll 1$, the period of a pendulum is given by\n",
    "\n",
    "\n",
    "$$ T= 2\\pi\\sqrt{\\frac{L}{g}}. \\quad\\quad\\mbox{(small amplitude oscillations)}$$\n",
    "\n",
    "One way to understand the motion of a pendulum with large oscillations is to solve the original pendulum equation of motion numerically. \n",
    "\n",
    "Because we know that the numerical solutions must be consistent with conservation of energy, we derive the form of the total energy here.\n",
    "\n",
    "The potential energy can be found from the following considerations. If the rod is deflected by the angle $\\theta$, then the bob is raised by the distance $h=L−L\\cos\\theta$. \n",
    "\n",
    "Hence, the potential energy of the bob in the gravitational field of the earth is \n",
    "\n",
    "$$U=mgh=mgL(1−\\cos\\theta),$$\n",
    "\n",
    "where the zero of the potential energy corresponds to $\\theta= 0$.\n",
    "\n",
    "Because the kinetic energy of the pendulum is\n",
    "\n",
    "$$\\frac{1}{2}m v^2 = \\frac{1}{2} m L^2 (d\\theta/dt)^2,$$ \n",
    "\n",
    "the total energy $E$ of the pendulum is\n",
    "\n",
    "$$E=\\frac{1}{2}m L^2\\left(\\frac{d\\theta}{dt}\\right)^2+mgL(1−\\cos\\theta).$$"
   ]
  },
  {
   "cell_type": "markdown",
   "metadata": {},
   "source": [
    "### Numerical Solution\n",
    "\n",
    "We can write a program to simulate and visualize the motion of a pendulum problem, `SimplePendulumApp`. The function `SimplePendulumStepper` implements solves the dynamical equations using the Euler-Richardson algorithm."
   ]
  },
  {
   "cell_type": "markdown",
   "metadata": {},
   "source": [
    "#### Equation of motion:\n",
    "\n",
    "\\begin{align}\n",
    "\\frac{d}{dt} \\left(\\frac{d\\theta}{dt}\\right) &= - \\frac{g}{L} \\sin\\theta\\;, \n",
    "\\end{align}\n",
    "\n",
    "where $d\\theta/dt$ is the angular velocity of the pendulum.  We will use the same approach of treating a second-order differential equation as a pair of first-order differential equations. We did the same thing when dealing with linear particle motion."
   ]
  },
  {
   "cell_type": "markdown",
   "metadata": {},
   "source": [
    "The natural frequency of the system is given by\n",
    "\n",
    "$$\\omega_0 = \\sqrt{\\frac{g}{L}}$$\n",
    "\n",
    "so we can use this directly as a parameter for the dynamical motion."
   ]
  },
  {
   "cell_type": "code",
   "execution_count": null,
   "metadata": {},
   "outputs": [],
   "source": [
    "## constants\n",
    "g = 9.8\n",
    "L = g / 9  # L chosen so that ω0=3\n",
    "ω0 = np.sqrt(g/L)\n",
    "m = 1"
   ]
  },
  {
   "cell_type": "markdown",
   "metadata": {},
   "source": [
    "In the code below, we are using the variable `x` to represent the angle of the pendulum ($\\theta$) and `v` to represent the angular velocity of the pendulum ($d\\theta/dt$). \n",
    "\n",
    "This allows to use *exactly* the same numerical solver as we had for simple harmonic motion without risking introducing any new errors by changing variable names."
   ]
  },
  {
   "cell_type": "markdown",
   "metadata": {},
   "source": [
    "The only significant change is to update the line that calculates the angular acceleration: `a = - (g/L) * np.sin(x)`"
   ]
  },
  {
   "cell_type": "code",
   "execution_count": null,
   "metadata": {},
   "outputs": [],
   "source": [
    "def SimplePendulumStepper(x0=1, v0=0, dt=0.1, tmax=10):\n",
    "    \"\"\"\n",
    "    Solve for motion of a pendulum using Euler-Richardson\n",
    "    \"\"\"\n",
    "    \n",
    "    # initialize the model\n",
    "    t = 0\n",
    "    x = x0\n",
    "    v = v0\n",
    "    \n",
    "    while True:\n",
    "        model = {'t': t, 'x': x, 'v': v}\n",
    "        yield model # return the model state back to the caller\n",
    "    \n",
    "        if t > tmax:\n",
    "            break\n",
    "            \n",
    "        # calculate acceleration (force / mass)\n",
    "        a = - (g/L) * np.sin(x) \n",
    "        \n",
    "        # use the Euler-Richardson algorithm to update the state of the model\n",
    "        vmid = v + 1/2 * a * dt\n",
    "        xmid = x + 1/2 * v * dt\n",
    "        amid = - (g/L) * np.sin(xmid)\n",
    "        \n",
    "        v = v + amid * dt\n",
    "        x = x + vmid * dt\n",
    "        t = t + dt"
   ]
  },
  {
   "cell_type": "markdown",
   "metadata": {},
   "source": [
    "To visualize the results, we can plot the angle $\\theta$ as function of time."
   ]
  },
  {
   "cell_type": "code",
   "execution_count": null,
   "metadata": {},
   "outputs": [],
   "source": [
    "def SimplePendulumPlotter(data):\n",
    "    fig, axs = plt.subplots(3, 1, figsize=(10,6))\n",
    "    \n",
    "    θ0 = data.iloc[0].x\n",
    "    x_analytical = θ0 * np.cos(ω0*data.t)\n",
    "    v_analytical = - ω0*θ0 * np.sin(ω0*data.t)\n",
    "    \n",
    "    axs[0].plot(data.t, data.x, label='Numerical')\n",
    "    axs[0].plot(data.t, x_analytical, label='Analytical')\n",
    "    axs[0].set_ylabel(\"θ\")\n",
    "    axs[0].legend()\n",
    "    \n",
    "    axs[1].plot(data.t, data.v)\n",
    "    axs[1].plot(data.t, v_analytical)\n",
    "    axs[1].set_ylabel(\"dθ/dt\")\n",
    "    \n",
    "    KE = 1/2 * m * L**2 * data.v**2\n",
    "    PE = m * g * L * (1 - np.cos(data.x))\n",
    "    E = KE + PE\n",
    "    axs[2].plot(data.t, KE, label='KE')\n",
    "    axs[2].plot(data.t, PE, label='PE')\n",
    "    axs[2].plot(data.t, E, label='E')\n",
    "    axs[2].set_ylabel(\"E (J)\")\n",
    "    axs[2].legend()\n",
    "    \n",
    "    axs[2].set_xlabel(\"t (s)\")"
   ]
  },
  {
   "cell_type": "code",
   "execution_count": null,
   "metadata": {},
   "outputs": [],
   "source": [
    "def SimplePendulumApp(θ0=0.2, dt=0.05):\n",
    "   \n",
    "    # set up the model\n",
    "    stepper = SimplePendulumStepper(x0=θ0, dt=dt)\n",
    "    \n",
    "    # iterate the model in time\n",
    "    data = pd.DataFrame(stepper)\n",
    "    \n",
    "    # visualize the results\n",
    "    SimplePendulumPlotter(data)\n",
    "    \n",
    "    return data"
   ]
  },
  {
   "cell_type": "code",
   "execution_count": null,
   "metadata": {},
   "outputs": [],
   "source": [
    "SimplePendulumApp(); # \";\" to prevent data from being displayed"
   ]
  },
  {
   "cell_type": "markdown",
   "metadata": {},
   "source": [
    "---\n",
    "\n",
    "#### Exercise **Problem 4.5** Oscillations of a pendulum\n",
    "\n",
    "a. Make the necessary changes so that the analytical solution for small angles also is plotted.\n",
    "\n",
    "b. Test the program at sufficiently small amplitudes so that $\\sin\\theta\\approx\\theta$. Choose $\\omega_0 \\ sqrt{g/L} = 3$ and the initial conditions $\\theta(t=0) = 0.2$ and $d\\theta(t= 0)/dt= 0$. Determine the period numerically and compare your result to the expected analytical result for small amplitudes. Explain your method for determining the period. Estimate the error due to the small angle approximation for these initial conditions.\n",
    "\n",
    "c. Consider larger amplitudes and make plots of $\\theta(t)$ and $d\\theta(t)/dt$ versus $t$ for the initial conditions $\\theta(t=0) = 0.1$, $0.2$, $0.4$, $0.8$, and $1.0$ with $d\\theta(t=0)/dt=0$. Choose $\\Delta t$ so that the numerical algorithm generates a stable solution, that is, monitor the total energy and ensure that it does not drift from its initial value. Describe the qualitative behavior of $\\theta$ and $d\\theta/dt$. What is the period $T$ and the amplitude $θ_{max}$ in each case? Plot $T$ versus $\\theta_{max}$ and discuss the qualitative dependence of the period on the amplitude. How do your results for $T$ compare in the linear and nonlinear cases, for example, which period is larger? Explain the relative values of $T$ in terms of the relative magnitudes of the restoring force in the two cases.\n",
    "\n",
    "---"
   ]
  },
  {
   "cell_type": "markdown",
   "metadata": {},
   "source": [
    "Analytically, a simple pendulum for small-angles with $\\theta{(t=0)} = \\theta_0$ and $d\\theta/dt{(t=0)} = 0$ will have a solution of\n",
    "\n",
    "$$\\begin{align}\n",
    "    \\theta &= \\theta_0 \\cos (\\omega_0 t) \\\\\n",
    "    d\\theta/dt &= - \\omega_0 \\theta_0 \\sin(\\omega_0 t) \n",
    "\\end{align}\n",
    "$$"
   ]
  },
  {
   "cell_type": "code",
   "execution_count": null,
   "metadata": {},
   "outputs": [],
   "source": [
    "interactive(SimplePendulumApp, θ0=(0.1, 1.1, 0.1), dt=(0.01, 0.3, 0.01))"
   ]
  },
  {
   "cell_type": "markdown",
   "metadata": {},
   "source": [
    "To conserve energy we need a time step of `dt < 0.1` so we choose `dt = 0.05`.\n",
    "\n",
    "As the initial amplitude increases, the period of the pendulum increases relative to the analytical solution for the small-angle approximation."
   ]
  },
  {
   "cell_type": "markdown",
   "metadata": {},
   "source": [
    "To find the period, we can find the location of the peaks in the sinusoidal curve and measure the time difference between peaks."
   ]
  },
  {
   "cell_type": "code",
   "execution_count": null,
   "metadata": {},
   "outputs": [],
   "source": [
    "def FindPendulumPeriod(data):\n",
    "   \n",
    "    data['max'] = data.x[(data.x.shift(1) < data.x) & (data.x.shift(-1) < data.x)]\n",
    "    T = data.dropna().t.diff().mean()\n",
    "    \n",
    "    return T"
   ]
  },
  {
   "cell_type": "markdown",
   "metadata": {},
   "source": [
    "##### *How does this work?*"
   ]
  },
  {
   "cell_type": "code",
   "execution_count": null,
   "metadata": {},
   "outputs": [],
   "source": [
    "data = SimplePendulumApp(θ0=0.2)\n",
    "plt.close() # to prevent the plot from being shown"
   ]
  },
  {
   "cell_type": "code",
   "execution_count": null,
   "metadata": {},
   "outputs": [],
   "source": [
    "data.head()"
   ]
  },
  {
   "cell_type": "code",
   "execution_count": null,
   "metadata": {},
   "outputs": [],
   "source": [
    "data['max'] = data.x[(data.x.shift(1) < data.x) & (data.x.shift(-1) < data.x)]"
   ]
  },
  {
   "cell_type": "code",
   "execution_count": null,
   "metadata": {},
   "outputs": [],
   "source": [
    "data = pd.DataFrame({'t': data.t,\n",
    "                     'x':data.x,\n",
    "                     'x.shift(1)': data.x.shift(1), \n",
    "                     'x.shift(-1)':data.x.shift(-1),\n",
    "                     '>left': data.x.shift(1) < data.x,\n",
    "                     '>right': data.x.shift(-1) < data.x,\n",
    "                     'and': (data.x.shift(1) < data.x) & (data.x.shift(-1) < data.x),\n",
    "                     'max': data.x[(data.x.shift(1) < data.x) & (data.x.shift(-1) < data.x)]})\n",
    "data.iloc[40:45]"
   ]
  },
  {
   "cell_type": "code",
   "execution_count": null,
   "metadata": {},
   "outputs": [],
   "source": [
    "data.dropna()"
   ]
  },
  {
   "cell_type": "code",
   "execution_count": null,
   "metadata": {},
   "outputs": [],
   "source": [
    "data.dropna().t"
   ]
  },
  {
   "cell_type": "code",
   "execution_count": null,
   "metadata": {},
   "outputs": [],
   "source": [
    "data.dropna().t.diff()"
   ]
  },
  {
   "cell_type": "code",
   "execution_count": null,
   "metadata": {},
   "outputs": [],
   "source": [
    "T = data.dropna().t.diff().mean()\n",
    "print(\"T = {:.2f}\".format(T))"
   ]
  },
  {
   "cell_type": "code",
   "execution_count": null,
   "metadata": {},
   "outputs": [],
   "source": [
    "T_analytical = 2*np.pi / ω0\n",
    "print(\"T_analytical = {:.2f}\".format(T_analytical))"
   ]
  },
  {
   "cell_type": "markdown",
   "metadata": {},
   "source": [
    "We can now plot the period of the a simple pendulum as a function of the amplitude."
   ]
  },
  {
   "cell_type": "code",
   "execution_count": null,
   "metadata": {},
   "outputs": [],
   "source": [
    "def PendulumPeriodApp(tmax=10, dt=0.05):\n",
    "    \n",
    "    for θ0 in np.arange(0.1, 1.1, 0.1):\n",
    "        # set up the model\n",
    "        stepper = SimplePendulumStepper(x0=θ0, dt=dt, tmax=tmax)\n",
    "    \n",
    "        # iterate the model in time\n",
    "        data = pd.DataFrame(stepper)\n",
    "    \n",
    "        # add the period to the plot\n",
    "        T = FindPendulumPeriod(data)\n",
    "        \n",
    "        plt.plot(θ0, T, 'kx')\n",
    "        \n",
    "    T_analytical = 2*np.pi / ω0\n",
    "    plt.axhline(T_analytical, label='T_analytical (small angle)')\n",
    "    plt.ylabel('Period, T')\n",
    "    plt.xlabel('Amplitude, θ0')\n",
    "    plt.legend()\n",
    "      \n",
    "interactive(PendulumPeriodApp, tmax=(10, 100, 10), dt=(0.01, 0.1, 0.01))"
   ]
  },
  {
   "cell_type": "markdown",
   "metadata": {},
   "source": [
    "Qualitativel, the period $T$ increases with amplitude $\\theta_0$."
   ]
  },
  {
   "cell_type": "markdown",
   "metadata": {},
   "source": [
    "Notice that our period finding algorithm is improved with a longer time series and smaller time steps."
   ]
  },
  {
   "cell_type": "markdown",
   "metadata": {
    "slideshow": {
     "slide_type": "slide"
    }
   },
   "source": [
    "## Damped Harmonic Oscillator"
   ]
  },
  {
   "cell_type": "markdown",
   "metadata": {},
   "source": [
    "We know from experience that most oscillatory motion in nature gradually decreases until thedisplacement becomes zero; such motion is said to be damped and the system is said to be *dissipative* rather than conservative. "
   ]
  },
  {
   "cell_type": "markdown",
   "metadata": {
    "slideshow": {
     "slide_type": "slide"
    }
   },
   "source": [
    "If we add some damping to our model, we can begin to include the effect of friction into the pendulum.\n",
    "\n",
    "The friction is assumed to be linearly proportional to the angular velocity:\n",
    "\n",
    "$$ F_{fric} \\propto - \\frac{d \\theta}{dt} $$\n",
    "\n",
    "We can model this with a *damping coefficient*, $\\gamma$, that represents the amount of friction in the system.  The equation of motion then becomes:\n",
    "\n",
    "\\begin{align}\n",
    "\\frac{d^2\\theta}{dt^2} &= - \\frac{g}{L} \\sin(\\theta) -\\gamma \\frac{d \\theta}{dt} \\;. \\\\\n",
    "\\end{align}"
   ]
  },
  {
   "cell_type": "markdown",
   "metadata": {
    "slideshow": {
     "slide_type": "subslide"
    }
   },
   "source": [
    "The analytical/theoretical solution to such differential equations are typically studied in a course on Ordinary Differential Equations (ODEs). In the small-angle approximation, this DE becomes\n",
    "\n",
    "\\begin{align}\n",
    "\\frac{d^2\\theta}{dt^2} &= - \\frac{g}{L} \\theta -\\gamma \\frac{d \\theta}{dt} \\;. \\\\\n",
    "\\end{align}\n",
    "\n",
    "Formally, we call this a linear, second-order differential equation with constant coefficients.\n",
    "\n",
    "Without assuming knowledge about how to solve such an equation with analytical methods, let's try a numerical approach."
   ]
  },
  {
   "cell_type": "markdown",
   "metadata": {
    "slideshow": {
     "slide_type": "slide"
    }
   },
   "source": [
    "### Numerical solution for a damped pendulum"
   ]
  },
  {
   "cell_type": "code",
   "execution_count": null,
   "metadata": {},
   "outputs": [],
   "source": [
    "def DampedPendulumStepper(γ=1, x0=1, v0=0, dt=0.01, tmax=10):\n",
    "    \"\"\"\n",
    "    Solve for motion of a damped pendulum using Euler-Richardson\n",
    "    \"\"\"\n",
    "    \n",
    "    # initialize the model\n",
    "    t = 0\n",
    "    x = x0\n",
    "    v = v0\n",
    "    \n",
    "    while True:\n",
    "        model = {'t': t, 'x': x, 'v': v}\n",
    "        yield model # return the model state back to the caller\n",
    "    \n",
    "        if t > tmax:\n",
    "            break\n",
    "            \n",
    "        # calculate acceleration (force / mass)\n",
    "        a = - (g/L) * np.sin(x) - γ * v\n",
    "        \n",
    "        # use the Euler-Richardson algorithm to update the state of the model\n",
    "        vmid = v + 1/2 * a * dt\n",
    "        xmid = x + 1/2 * v * dt\n",
    "        amid = - (g/L) * np.sin(xmid) - γ * vmid\n",
    "        \n",
    "        v = v + amid * dt\n",
    "        x = x + vmid * dt\n",
    "        t = t + dt"
   ]
  },
  {
   "cell_type": "code",
   "execution_count": null,
   "metadata": {},
   "outputs": [],
   "source": [
    "def DampedPendulumPlotter(data, label=' ', axs=None):\n",
    "    if axs is None:\n",
    "        fig, axs = plt.subplots(3, 1, figsize=(10,6))\n",
    "    \n",
    "    axs[0].plot(data.t, data.x, label=label)\n",
    "    axs[0].set_ylabel(\"θ\")\n",
    "    axs[0].legend()\n",
    "    \n",
    "    axs[1].plot(data.t, data.v)\n",
    "    axs[1].set_ylabel(\"dθ/dt\")\n",
    "    \n",
    "    KE = 1/2 * m * L**2 * data.v**2\n",
    "    PE = m * g * L * (1 - np.cos(data.x))\n",
    "    E = KE + PE\n",
    "    axs[2].plot(data.t, KE, 'k--', alpha=0.5)\n",
    "    axs[2].plot(data.t, PE, 'k--', alpha=0.5)\n",
    "    axs[2].plot(data.t, E)\n",
    "    axs[2].set_ylim(ymin=0, ymax=E[0]*1.1)\n",
    "    axs[2].set_ylabel(\"E (J)\")\n",
    "    \n",
    "    axs[2].set_xlabel(\"t (s)\")"
   ]
  },
  {
   "cell_type": "code",
   "execution_count": null,
   "metadata": {},
   "outputs": [],
   "source": [
    "def DampedPendulumApp(γ=0.5, θ0=0.2):\n",
    "    fig, axs = plt.subplots(3, 1, figsize=(10,6))\n",
    "    \n",
    "    # solve for an undamped pendulum\n",
    "    stepper = DampedPendulumStepper(x0=θ0, γ=0)\n",
    "    data = pd.DataFrame(stepper)\n",
    "    DampedPendulumPlotter(data, label='Undamped', axs=axs)\n",
    "\n",
    "    # solve for an undamped pendulum\n",
    "    stepper = DampedPendulumStepper(x0=θ0, γ=γ)\n",
    "    data = pd.DataFrame(stepper)\n",
    "    DampedPendulumPlotter(data, label='Damped', axs=axs)"
   ]
  },
  {
   "cell_type": "markdown",
   "metadata": {},
   "source": [
    "### Discussion points\n",
    "\n",
    "- Describe the qualitative effects of damping in the oscillator simulation.\n",
    "- The period is the time between successive maxima of the displacement. Does adding damping increase or decrease the period?\n",
    "- Is the total energy as a function of time decreasing monotonically? Explain.\n",
    "- Investigate the time dependence for a range of damping parameters. Is the motion oscillatory for all $\\gamma$?  For a fixed $\\omega_0$, the oscillator is said to be *critically damped* at the smallest value of $\\gamma$ for which the decay is monotonic. For what value of $\\gamma$ does the critical damping occur for $\\omega_0 = 3$?\n",
    "- Compute the phase space diagram for $\\omega_0=3$ and $\\gamma =0.5$, $2$, $4$, $6$, and $8$. Why does the phase space trajectory converge to the origin, $x= 0$, $v= 0$? This point is called an *attractor*. Are these qualitative features of the phase space plot independent of $\\gamma$?"
   ]
  },
  {
   "cell_type": "code",
   "execution_count": null,
   "metadata": {},
   "outputs": [],
   "source": [
    "interactive(DampedPendulumApp, γ=(0, 8, 0.2), θ0=(0, 1, 0.1))"
   ]
  },
  {
   "cell_type": "code",
   "execution_count": null,
   "metadata": {},
   "outputs": [],
   "source": [
    "def DampedPendulumPeriodApp1(γ=1):\n",
    "    \n",
    "    for θ0 in np.arange(0.1, 1.1, 0.1):\n",
    "        # set up the model\n",
    "        stepper = DampedPendulumStepper(γ=γ, x0=θ0, dt=0.01, tmax=100)\n",
    "    \n",
    "        # iterate the model in time\n",
    "        data = pd.DataFrame(stepper)\n",
    "    \n",
    "        # add the period to the plot\n",
    "        T = FindPendulumPeriod(data)\n",
    "        \n",
    "        plt.plot(θ0, T, 'kx')\n",
    "        \n",
    "    T_analytical = 2*np.pi / ω0\n",
    "    plt.axhline(T_analytical, label='T_analytical (small angle)')\n",
    "    plt.ylabel('Period, T')\n",
    "    plt.xlabel('Amplitude, θ0')\n",
    "    plt.legend()\n",
    "      \n",
    "interactive(DampedPendulumPeriodApp1, γ=(0, 3, 0.1))"
   ]
  },
  {
   "cell_type": "code",
   "execution_count": null,
   "metadata": {},
   "outputs": [],
   "source": [
    "def DampedPendulumPeriodApp2():\n",
    "    \n",
    "    for γ in np.arange(0, 3, 0.1):\n",
    "        # set up the model\n",
    "        stepper = DampedPendulumStepper(γ=γ, x0=.01, dt=0.01, tmax=100)\n",
    "    \n",
    "        # iterate the model in time\n",
    "        data = pd.DataFrame(stepper)\n",
    "    \n",
    "        # add the period to the plot\n",
    "        T = FindPendulumPeriod(data)\n",
    "        \n",
    "        plt.plot(γ, T, 'ko')\n",
    "        \n",
    "    T_analytical = 2*np.pi / ω0\n",
    "    plt.axhline(T_analytical, label='T_analytical (small angle)')\n",
    "    plt.ylabel('Period, $T$')\n",
    "    plt.xlabel('Damping, $\\gamma$')\n",
    "    plt.legend()\n",
    "      \n",
    "DampedPendulumPeriodApp2()"
   ]
  },
  {
   "cell_type": "code",
   "execution_count": null,
   "metadata": {},
   "outputs": [],
   "source": [
    "def DampedPendulumPhaseSpace(θ0=1):\n",
    "    \n",
    "    for γ in [0.5, 2, 4, 6]:\n",
    "        stepper = DampedPendulumStepper(γ=γ, x0=θ0, dt=0.01, tmax=20)\n",
    "        data = pd.DataFrame(stepper)\n",
    "        \n",
    "        plt.plot(data.x, data.v, label='γ={:.1f}'.format(γ))\n",
    "        \n",
    "    plt.xlabel('Displacement, θ')\n",
    "    plt.ylabel('Velocity, dθ/dt')\n",
    "    plt.legend()\n",
    "      \n",
    "interactive(DampedPendulumPhaseSpace, θ0=(0.1, 1, 0.1))"
   ]
  },
  {
   "cell_type": "markdown",
   "metadata": {},
   "source": [
    "## Response to External Forces\n",
    "\n",
    "In the damped pendulum, the motion decay from an initial perturbation until it comes to rest.\n",
    "\n",
    "To keep the pendulum swinging, we need to provide a source of energy to drive the motion.\n",
    "\n",
    "One way of modeling such a system is to drive it with an external force $F(t)$ in addition to the linear restoring force and linear damping force. The equation of motion for a simple harmonic oscillator be written as\n",
    "\n",
    "\\begin{align}\n",
    "\\frac{d^2 x}{dt^2} &= - \\omega_0^2 x -\\gamma \\frac{d x}{dt}  + \\frac{1}{m}F(t)\\;.\n",
    "\\end{align}\n",
    "\n",
    "The time dependence of F(t) is aribitrary. Because many forces in nature are periodic, we first consider the form\n",
    "\n",
    "\\begin{align}\n",
    "\\frac{1}{m}F(t) &= A_0 \\cos(\\omega t)\\;,\n",
    "\\end{align}\n",
    "\n",
    "where $\\omega$ is the angular frequency of the driving force.\n",
    "\n",
    "(For a pendulum, we would considering an external torque $\\tau(t)$ instead of an external force.)\n",
    "\n",
    "This driving force will pump energy into (or out of) the system.  The external forcing frequency, $\\omega$, \"competes\" with the natural frequency of the oscillator, $\\omega_0$."
   ]
  },
  {
   "cell_type": "markdown",
   "metadata": {
    "slideshow": {
     "slide_type": "slide"
    }
   },
   "source": [
    "### Numerical solution for a driven damped linear oscillator"
   ]
  },
  {
   "cell_type": "markdown",
   "metadata": {},
   "source": [
    "We need to modify our stepper to include an external driving force of amplitude $A$ and frequency $\\omega$."
   ]
  },
  {
   "cell_type": "markdown",
   "metadata": {},
   "source": [
    "### Exercise\n",
    "> 1. Modify the code below so that it includes a driving force term in the equation of motion."
   ]
  },
  {
   "cell_type": "code",
   "execution_count": null,
   "metadata": {},
   "outputs": [],
   "source": [
    "def DrivenDampedOscillatorStepper(x0=1, v0=0, γ=1, A=0, ω=0,\n",
    "                                  dt=0.01, tmax=10):\n",
    "    \"\"\"\n",
    "    Solve for motion of a driven damped oscillator using Euler-Richardson\n",
    "    \"\"\"\n",
    "    \n",
    "    # initialize the model\n",
    "    t = 0\n",
    "    x = x0\n",
    "    v = v0\n",
    "    \n",
    "    while True:\n",
    "        model = {'t': t, 'x': x, 'v': v}\n",
    "        yield model # return the model state back to the caller\n",
    "    \n",
    "        if t > tmax:\n",
    "            break\n",
    "            \n",
    "        # calculate acceleration (force / mass)\n",
    "        a = - ω0**2 * x - γ * v + A * np.cos(ω*t)\n",
    "        \n",
    "        # use the Euler-Richardson algorithm to update the state of the model\n",
    "        vmid = v + 1/2 * a * dt\n",
    "        xmid = x + 1/2 * v * dt\n",
    "        tmid = t + 1/2 * dt\n",
    "        amid = - ω0**2 * xmid - γ * vmid + A * np.cos(ω*tmid)\n",
    "        \n",
    "        v = v + amid * dt\n",
    "        x = x + vmid * dt\n",
    "        t = t + dt"
   ]
  },
  {
   "cell_type": "code",
   "execution_count": null,
   "metadata": {},
   "outputs": [],
   "source": [
    "def DrivenDampedOscillatorPlotter(data):\n",
    "    fig, axs = plt.subplots(1, 2, figsize=(8,4))\n",
    "    \n",
    "    axs[0].plot(data.t, data.x, label='x')\n",
    "    axs[0].plot(data.t, data.v, label='v')\n",
    "    axs[0].set_ylabel(\"x or v\")\n",
    "    axs[0].set_xlabel(\"t\")\n",
    "    axs[0].legend()\n",
    "    \n",
    "    axs[1].plot(data.x, data.v)\n",
    "    axs[1].set_ylabel(\"v\")\n",
    "    axs[1].set_xlabel(\"x\")"
   ]
  },
  {
   "cell_type": "code",
   "execution_count": null,
   "metadata": {},
   "outputs": [],
   "source": [
    "def DrivenDampedOscillatorApp(x0=1, v0=0, γ=0.5, ω=2, tmax=20):\n",
    "    A = 1\n",
    "    \n",
    "    stepper = DrivenDampedOscillatorStepper(x0=x0, v0=v0,\n",
    "                                            γ=γ, A=A, ω=ω,\n",
    "                                           tmax=tmax)\n",
    "    data = pd.DataFrame(stepper)\n",
    "    DrivenDampedOscillatorPlotter(data)"
   ]
  },
  {
   "cell_type": "code",
   "execution_count": null,
   "metadata": {},
   "outputs": [],
   "source": [
    "interactive( DrivenDampedOscillatorApp, \n",
    "            x0=(-1, 1, 0.1), v0=(-3, 3, 0.1),\n",
    "            γ=(0, 5, 0.2),\n",
    "            ω=(1, 4, 0.1),\n",
    "            tmax=(10, 100, 10))"
   ]
  },
  {
   "cell_type": "markdown",
   "metadata": {},
   "source": [
    "### Exercise\n",
    "> 1. Explore the damped, driven pendulum for different forcing amplitudes and frequencies.\n",
    "> 2. Investigate how the steady-state amplitude of driven, damped oscillator depends on\n",
    "> the forcing frequency (while keeping $\\gamma$ and $A$ unchanged)\n",
    "> 3. What happens when the forcing frequency is near to the natural frequency $\\omega_0 =3$?\n",
    "> 4. Explore the effect of changing the damping parameter, $\\gamma$."
   ]
  },
  {
   "cell_type": "markdown",
   "metadata": {},
   "source": [
    "##### Discussion: Resonance"
   ]
  },
  {
   "cell_type": "markdown",
   "metadata": {},
   "source": [
    "- - -\n",
    "### Textbook readings\n",
    "\n",
    "- CSM 4.2 The Motion of a Pendulum\n",
    "- CSM 4.3 Damped Harmonic Oscillator\n",
    "- CSM 4.5 Response to External Forces\n",
    "\n",
    "### Test 1\n",
    "\n",
    "- Scheduled in class for Tuesday, October 8, 2:00-3:15 pm.  \n",
    "- Dr Munroe will be physically present.\n",
    "- Based on Lectures 1-8, Assignments 1-3, and Labs 1-3."
   ]
  }
 ],
 "metadata": {
  "anaconda-cloud": {},
  "kernelspec": {
   "display_name": "Python 3",
   "language": "python",
   "name": "python3"
  },
  "language_info": {
   "codemirror_mode": {
    "name": "ipython",
    "version": 3
   },
   "file_extension": ".py",
   "mimetype": "text/x-python",
   "name": "python",
   "nbconvert_exporter": "python",
   "pygments_lexer": "ipython3",
   "version": "3.6.7"
  }
 },
 "nbformat": 4,
 "nbformat_minor": 2
}
