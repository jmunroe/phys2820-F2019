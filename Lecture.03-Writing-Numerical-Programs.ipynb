{
 "cells": [
  {
   "cell_type": "markdown",
   "metadata": {
    "slideshow": {
     "slide_type": "slide"
    }
   },
   "source": [
    "# Writing Numerical Programs\n",
    "## Lecture 3"
   ]
  },
  {
   "cell_type": "markdown",
   "metadata": {},
   "source": [
    "The CSM textbook encourages the use of *object-oriented programming* which is natural for some languages like Java or C++.\n",
    "\n",
    "Although Python supports classes and objects, in Phys 2820 we will adopt a procedural style of programming. Python is an multi-paradigm programming language and supports a number of different programming approaches."
   ]
  },
  {
   "cell_type": "markdown",
   "metadata": {},
   "source": [
    "Our falling ball application can be divided into two main components:\n",
    "- solving the numerical model\n",
    "- displaying the results\n",
    "\n",
    "We can use better program structure by splitting up the work our main function into these two sub-tasks."
   ]
  },
  {
   "cell_type": "markdown",
   "metadata": {},
   "source": [
    "### Model solving code"
   ]
  },
  {
   "cell_type": "code",
   "execution_count": null,
   "metadata": {},
   "outputs": [],
   "source": [
    "def FallingBallModel(dt=0.01, y0=100, v0=0, g=9.8, tmax=5):\n",
    "    \"\"\"\n",
    "    Compute the trajectory of a falling ball\n",
    "    \n",
    "    Arguments: \n",
    "       dt time step\n",
    "       y0 initial position\n",
    "       v0 initial velocity\n",
    "       g gravitational field\n",
    "       tmax stop model if t exceeds tmax\n",
    "    \n",
    "    Returns: \n",
    "       dictionary of the numerical model\n",
    "    \"\"\"\n",
    "    \n",
    "    t = 0     # time\n",
    "    y = y0\n",
    "    v = v0\n",
    "    \n",
    "    while (y>0):\n",
    "        y = y + v*dt\n",
    "        v = v - g*dt # use Euler algorithm\n",
    "        t = t + dt\n",
    "        \n",
    "        # if t exceeds tmax, stop iterating the loop\n",
    "        if t > tmax:\n",
    "            break\n",
    "        \n",
    "    model = {'t': t, 'y': y, 'v': v,\n",
    "             'v0': v0, 'y0': y0, 'dt': dt, \n",
    "             'g': g, 'tmax': tmax,\n",
    "            }\n",
    "    \n",
    "    return model"
   ]
  },
  {
   "cell_type": "markdown",
   "metadata": {},
   "source": [
    "This function solves the numerical model and takes in a a number of optional keyword arguments and returns a *dictionary* with all of the relevant model parameters and data."
   ]
  },
  {
   "cell_type": "markdown",
   "metadata": {},
   "source": [
    "If no function arguements are specifie, the default values are used:"
   ]
  },
  {
   "cell_type": "code",
   "execution_count": null,
   "metadata": {},
   "outputs": [],
   "source": [
    "FallingBallModel()"
   ]
  },
  {
   "cell_type": "markdown",
   "metadata": {},
   "source": [
    "But we also can specify a value by using keyword arguments:"
   ]
  },
  {
   "cell_type": "code",
   "execution_count": null,
   "metadata": {},
   "outputs": [],
   "source": [
    "FallingBallModel(dt=0.0001, v0=20.0)"
   ]
  },
  {
   "cell_type": "markdown",
   "metadata": {},
   "source": [
    "### Printing out the results"
   ]
  },
  {
   "cell_type": "markdown",
   "metadata": {},
   "source": [
    "Formatting the output and comparing with the analytical solution is a different task and can be put into a different function."
   ]
  },
  {
   "cell_type": "code",
   "execution_count": null,
   "metadata": {},
   "outputs": [],
   "source": [
    "def FallingBallResults(model):\n",
    "    \"\"\"\n",
    "    Arguments:\n",
    "        model output from FallingBallModel()\n",
    "        \n",
    "    Display results of falling ball simulation.\n",
    "    Compare with analytic result.\n",
    "    \"\"\"\n",
    "   \n",
    "    t = model['t']\n",
    "    y = model['y']\n",
    "    v = model['v']\n",
    "    \n",
    "    print(\"Results\")\n",
    "    print(\"final time = {:.4f}\".format(t))\n",
    "    print(\"numerical y = {:.4f} v = {:.4f}\".format(y, v))\n",
    "    \n",
    "    y0 = model['y0']\n",
    "    v0 = model['v0']\n",
    "    g = model['g']\n",
    "    \n",
    "    # display analytical result\n",
    "    yAnalytic = y0 + v0*t - 0.5*g*t*t\n",
    "    vAnalytic = v0 - g*t\n",
    "    \n",
    "    print(\"analytic  y = {:.4f} v = {:.4f}\".format(yAnalytic, vAnalytic))\n",
    " "
   ]
  },
  {
   "cell_type": "markdown",
   "metadata": {},
   "source": [
    "We can pass the output from `FallingBallModel` as input to `FallingBallResults`:"
   ]
  },
  {
   "cell_type": "code",
   "execution_count": null,
   "metadata": {},
   "outputs": [],
   "source": [
    "ball = FallingBallModel(dt=0.0001)\n",
    "FallingBallResults(ball)"
   ]
  },
  {
   "cell_type": "markdown",
   "metadata": {},
   "source": [
    "Notice that the variable name used *outside* a function does not need to the same as the name *inside* a function. Even `FallingBallModel` and `FallingBallResults` could use different variables names for `model` inside their function bodies if we wanted."
   ]
  },
  {
   "cell_type": "markdown",
   "metadata": {},
   "source": [
    "This kind of program structure allows us to put together more complicated models and applications."
   ]
  },
  {
   "cell_type": "code",
   "execution_count": null,
   "metadata": {},
   "outputs": [],
   "source": [
    "def FallingBallExampleApp():\n",
    "    \"\"\"\n",
    "    Compute the time of a falling ball comparing two\n",
    "    different gravitational fields\n",
    "    \"\"\"\n",
    "    \n",
    "    dt = 0.0001\n",
    "    \n",
    "    g1 = 9.8\n",
    "    ball1 = FallingBallModel(dt=dt, g=g1)\n",
    "    print('g = {:.1f}'.format(g1))\n",
    "    FallingBallResults(ball1)\n",
    "    print('-'*34)\n",
    "    \n",
    "    g2 = 2.0\n",
    "    ball2 = FallingBallModel(dt=dt, g=g2)\n",
    "    print('g = {:.1f}'.format(g2))\n",
    "    FallingBallResults(ball2)\n",
    "    \n",
    "FallingBallExampleApp()"
   ]
  },
  {
   "cell_type": "markdown",
   "metadata": {},
   "source": [
    "### Graphically displaying the results"
   ]
  },
  {
   "cell_type": "markdown",
   "metadata": {},
   "source": [
    "Display results by printing them out is only one way of looking at a model.  Alternatively, we may want to create a plot for the model."
   ]
  },
  {
   "cell_type": "code",
   "execution_count": null,
   "metadata": {},
   "outputs": [],
   "source": [
    "def FallingBallResultsPlot(model):\n",
    "    \"\"\"\n",
    "        Arguments:\n",
    "        model output from FallingBallModel()\n",
    "        \n",
    "    Plots falling ball simulation as function of time t.\n",
    "    Compare with analytic result.\n",
    "    \"\"\"\n",
    "    \n",
    "    t = model['t']\n",
    "    y = model['y']\n",
    "    v = model['v']\n",
    "    dt = model['dt']\n",
    "    \n",
    "    plt.plot(t, y, 'bo', markersize=14, label='numerical')\n",
    "    \n",
    "    y0 = model['y0']\n",
    "    v0 = model['v0']\n",
    "    g = model['g']\n",
    "    \n",
    "    # compute analytical result\n",
    "    yAnalytic = y0 + v0*t - 0.5*g*t*t\n",
    "    vAnalytic = v0 - g*t\n",
    "    \n",
    "    plt.plot(t, yAnalytic, 'r.', markersize=10, label='analytical')\n",
    "    \n",
    "    plt.xlabel('time t (s)')\n",
    "    plt.ylabel('y (m)')\n",
    "    plt.legend()"
   ]
  },
  {
   "cell_type": "markdown",
   "metadata": {},
   "source": [
    "Since we are using plotting, we need to remember to first import *Matplotlib*"
   ]
  },
  {
   "cell_type": "code",
   "execution_count": null,
   "metadata": {},
   "outputs": [],
   "source": [
    "import matplotlib.pyplot as plt\n",
    "%matplotlib inline"
   ]
  },
  {
   "cell_type": "code",
   "execution_count": null,
   "metadata": {},
   "outputs": [],
   "source": [
    "FallingBallResultsPlot(ball)"
   ]
  },
  {
   "cell_type": "markdown",
   "metadata": {},
   "source": [
    "We will very soon getting plotting position as a function of time. For now, notice that code in  `FallingBallPlot` makes a graphical representation of the same textual output produced by `FallingBallResults`."
   ]
  },
  {
   "cell_type": "markdown",
   "metadata": {},
   "source": [
    "- - -\n",
    "#### Matplotlib"
   ]
  },
  {
   "cell_type": "markdown",
   "metadata": {},
   "source": [
    "Plots are made with the `plt.plot()` command and need to have, at minimum, what variable should be on the horizontal axis followed by what variable should be on the vertical axis.\n",
    "\n",
    "There are many ways to annotate your plots to change how they look.  In this case we made the numerical result a big blue circle and the analytical result a small red dot. \n",
    "\n",
    "Axis labels were set using the commands `plt.xlabel()` and `plt.ylabel()`.  Please try to ensure every plot you make has (at least) axis labels.\n",
    "\n",
    "Since each `plt.plot()` function call has an (optional) label keyword, the function `plt.legend()` can be used to draw a legend on our plot.\n",
    "\n",
    "Matplotlib has many different options for making plots and usualy you learn how more about this plotting library by trying to make different kind of plots.  Some resources:\n",
    "\n",
    "1. SciPy Lecture on Matplotlib: http://scipy-lectures.org/intro/matplotlib/\n",
    "2. Matplotlib Example Gallery: https://matplotlib.org/gallery/index.html\n",
    "3. Matplotlib User's Guide: https://matplotlib.org/users/index.html\n",
    "- - -"
   ]
  },
  {
   "cell_type": "markdown",
   "metadata": {},
   "source": [
    "Alternatively, we may wish to produce a plot that shows the dependence of the final position on time step."
   ]
  },
  {
   "cell_type": "code",
   "execution_count": null,
   "metadata": {},
   "outputs": [],
   "source": [
    "def FallingBallTimeStepPlot(model):\n",
    "    \"\"\"\n",
    "    Arguments:\n",
    "        model output from FallingBallModel()\n",
    "        \n",
    "    Plots falling ball simulation as function of time step dt.\n",
    "    Compare with the analytic result.\n",
    "    \"\"\"\n",
    "   \n",
    "    t = model['t']\n",
    "    y = model['y']\n",
    "    v = model['v']\n",
    "    dt = model['dt']\n",
    "    \n",
    "    plt.semilogx(dt, y, 'bo', markersize=14)\n",
    "    \n",
    "    y0 = model['y0']\n",
    "    v0 = model['v0']\n",
    "    g = model['g']\n",
    "    \n",
    "    # compute analytical result\n",
    "    yAnalytic = y0 + v0*t - 0.5*g*t*t\n",
    "    vAnalytic = v0 - g*t\n",
    "    \n",
    "    plt.semilogx(dt, yAnalytic, 'r.', markersize=10)\n",
    "    \n",
    "    plt.xlabel('time step (s)')\n",
    "    plt.ylabel('y (m)')"
   ]
  },
  {
   "cell_type": "markdown",
   "metadata": {},
   "source": [
    "In this plotting routine we are using the function `plt.semilogx()` to put a logarithmic scale on the horizontal axis."
   ]
  },
  {
   "cell_type": "code",
   "execution_count": null,
   "metadata": {},
   "outputs": [],
   "source": [
    "FallingBallTimeStepPlot(ball)"
   ]
  },
  {
   "cell_type": "markdown",
   "metadata": {},
   "source": [
    "We can use this function to write a program to examine how the time step affects the final position."
   ]
  },
  {
   "cell_type": "code",
   "execution_count": null,
   "metadata": {},
   "outputs": [],
   "source": [
    "def FallingBallTimeStepApp():\n",
    "    \"\"\"\n",
    "    Compute the final position of a falling ball\n",
    "    for different time steps.\n",
    "    \"\"\"\n",
    "    \n",
    "    for dt in [1e-1, 1e-2, 1e-3, 1e-4, 1e-5]:\n",
    "        ball = FallingBallModel(dt=dt)\n",
    "        FallingBallTimeStepPlot(ball)\n",
    "        \n",
    "    # reverse the x-axis so time step is decreasing left to right\n",
    "    plt.xlim(1e0, 1e-6)\n",
    "    \n",
    "FallingBallTimeStepApp()"
   ]
  },
  {
   "cell_type": "markdown",
   "metadata": {},
   "source": [
    "This is a variation on using a `for` loop.  The variable `dt` takes on each value in the list. In Python, a `list` is a commonly used container for ordering many variables. A list is created when you use the symbols `[` and `]`. "
   ]
  },
  {
   "cell_type": "markdown",
   "metadata": {},
   "source": [
    "For interactive plots, we can also use widgets. Widgets are user interface elements (sliders, buttons, menus, check boxes) that are used to change what is shown in the plot."
   ]
  },
  {
   "cell_type": "code",
   "execution_count": null,
   "metadata": {},
   "outputs": [],
   "source": [
    "from ipywidgets import interactive"
   ]
  },
  {
   "cell_type": "code",
   "execution_count": null,
   "metadata": {},
   "outputs": [],
   "source": [
    "def FallingBallInteractiveApp(tmax=4):\n",
    "    \"\"\"\n",
    "    Compute and plot position of a falling ball\n",
    "    up to a maximum time of tmax\n",
    "    \"\"\"\n",
    "    \n",
    "    dt = 0.01\n",
    "    ball = FallingBallModel(dt=dt, tmax=tmax)\n",
    "    FallingBallResultsPlot(ball)\n",
    "    plt.ylim(0, ball['y0'])\n",
    "    plt.xlim(0, 5)\n",
    "\n",
    "interactive(FallingBallInteractiveApp, tmax=(0,5,0.1), )"
   ]
  },
  {
   "cell_type": "markdown",
   "metadata": {},
   "source": [
    "See the [ipywidgets](https://ipywidgets.readthedocs.io/en/latest/index.html) documentation for more advanced uses."
   ]
  },
  {
   "cell_type": "markdown",
   "metadata": {},
   "source": [
    "### Bouncing ball"
   ]
  },
  {
   "cell_type": "markdown",
   "metadata": {},
   "source": [
    "We can make our model as general as we want. Suppose we wanted to add the requirement that if the vertical position we to go below 0, we assume the ball bounces inelastically with some loss of kinetic energy."
   ]
  },
  {
   "cell_type": "code",
   "execution_count": null,
   "metadata": {},
   "outputs": [],
   "source": [
    "def BouncingBallModel(dt=0.01, y0=100, v0=0, g=9.8, \n",
    "                      tmax=5, loss=0.50):\n",
    "    \"\"\"\n",
    "    Compute the trajectory of a bouncing ball.\n",
    "    \n",
    "    Ball bounces until t > tmax \n",
    "    \n",
    "    Arguments: \n",
    "       dt time step\n",
    "       y0 initial position\n",
    "       v0 initial velocity\n",
    "       g gravitational field\n",
    "       tmax stop model if t exceeds tmax\n",
    "       loss fraction of energy to lose on each bounce\n",
    "    \n",
    "    Returns: \n",
    "       dictionary of the numerical model\n",
    "    \"\"\"\n",
    "    \n",
    "    t = 0     # time\n",
    "    y = y0\n",
    "    v = v0\n",
    "    \n",
    "    while True:\n",
    "        # this loop will go until a break condition is reached\n",
    "            \n",
    "        y = y + v*dt\n",
    "        v = v - g*dt # use Euler algorithm\n",
    "        t = t + dt\n",
    "        \n",
    "        # model the bounce\n",
    "        if y < 0:\n",
    "            # assume energy is reduced by a fractional loss\n",
    "            m = 1 # assume ball mass is 1\n",
    "            E = 0.5 * m * v**2 # kinetic energy\n",
    "            Enew = E*(1-loss)\n",
    "            v = np.sqrt(2*Enew / m)\n",
    "            \n",
    "            y = -y\n",
    "        \n",
    "        # if t exceeds tmax, stop iterating the loop\n",
    "        if t > tmax:\n",
    "            break\n",
    "        \n",
    "    model = {'t': t, 'y': y, 'v': v,\n",
    "             'v0': v0, 'y0': y0, 'dt': dt, \n",
    "             'g': g, 'tmax': tmax,\n",
    "            }\n",
    "    \n",
    "    return model"
   ]
  },
  {
   "cell_type": "markdown",
   "metadata": {},
   "source": [
    "Here, we modelled the bounce by computing the kinetic energy of the ball and assumes that 50% of the energy is lost to on each bounce. Notice that we are using the `np.sqrt()` function from NumPy so we needed to import that library,"
   ]
  },
  {
   "cell_type": "code",
   "execution_count": null,
   "metadata": {},
   "outputs": [],
   "source": [
    "import numpy as np"
   ]
  },
  {
   "cell_type": "markdown",
   "metadata": {},
   "source": [
    "Usually, these `import` statements happen near the top of a notebook. Starting with the next lecture we will always beging by importing commonly used packages like `numpy` and `matplotlib.pyplot`."
   ]
  },
  {
   "cell_type": "code",
   "execution_count": null,
   "metadata": {},
   "outputs": [],
   "source": [
    "BouncingBallModel()"
   ]
  },
  {
   "cell_type": "markdown",
   "metadata": {},
   "source": [
    "Putting this model into an application allows us to explore our bouncing ball."
   ]
  },
  {
   "cell_type": "code",
   "execution_count": null,
   "metadata": {},
   "outputs": [],
   "source": [
    "def BouncingBallInteractiveApp(t=4):\n",
    "    \"\"\"\n",
    "    Compute and plot position of a bouncing ball\n",
    "    up to a maximum time of t\n",
    "    \"\"\"\n",
    "    \n",
    "    ball = BouncingBallModel(tmax=t)    \n",
    "    FallingBallResultsPlot(ball)\n",
    "\n",
    "    plt.ylim(0, ball['y0'])\n",
    "    plt.xlim(0, 20)\n",
    "    \n",
    "interactive(BouncingBallInteractiveApp, t=(0,20,0.1), )"
   ]
  },
  {
   "cell_type": "markdown",
   "metadata": {},
   "source": [
    "*Question* Why does the red dot representing the analytical solution  dissappear for $ t> 4.5$ ?"
   ]
  },
  {
   "cell_type": "markdown",
   "metadata": {},
   "source": [
    "There is a problem with this approach to examine the behaviour over time. To plot any specific time, we have to recompute all of the values up to that value. \n",
    "\n",
    "As an alternative, we can rewrite our model to that it generates an *iterator* that will be *iterable*.  "
   ]
  },
  {
   "cell_type": "code",
   "execution_count": null,
   "metadata": {},
   "outputs": [],
   "source": [
    "def BouncingBallStepper(dt=0.01, y0=100, v0=0, g=9.8, \n",
    "                      tmax=5, loss=0.50):\n",
    "    \"\"\"\n",
    "    Compute the trajectory of a bouncing ball.\n",
    "    \n",
    "    Ball bounces until t > tmax \n",
    "    \n",
    "    Arguments: \n",
    "       dt time step\n",
    "       y0 initial position\n",
    "       v0 initial velocity\n",
    "       g gravitational field\n",
    "       tmax stop model if t exceeds tmax\n",
    "       loss fraction of energy to lose each bounce\n",
    "    \n",
    "    Returns: \n",
    "       dictionary of the numerical model\n",
    "    \"\"\"\n",
    "    \n",
    "    t = 0     # time\n",
    "    y = y0\n",
    "    v = v0\n",
    "    \n",
    "    while True:\n",
    "         # this loop will go forever until a break condition is reached\n",
    "        \n",
    "        model = {'t': t, 'y': y, 'v': v,\n",
    "                 'v0': v0, 'y0': y0, 'dt': dt, \n",
    "                 'g': g, 'tmax': tmax,\n",
    "                 'loss': loss,\n",
    "                 }\n",
    "        yield model # return to the caller\n",
    "            \n",
    "        # use Euler algorithm\n",
    "        y = y + v*dt\n",
    "        v = v - g*dt\n",
    "        t = t + dt\n",
    "        \n",
    "        # model the bounce\n",
    "        if y < 0:\n",
    "            # assume energy is reduced by a fractional loss\n",
    "            m = 1 # assume ball mass is 1\n",
    "            E = 0.5 * m *v**2 # kinetic energy\n",
    "            Enew = E*(1-loss)\n",
    "            v =  np.sqrt(2*Enew / m)\n",
    "            y = -y\n",
    "    \n",
    "        # if t exceeds tmax, stop iterating the loop\n",
    "        if t > tmax:\n",
    "            break"
   ]
  },
  {
   "cell_type": "markdown",
   "metadata": {},
   "source": [
    "The concepts of *iterators* and *iterables* are everywhere in Python but their technical details are unimportant. \n",
    "\n",
    "In the model code above, we removed the `return` statement at the end and added a `yield` statement at the beginning of the loop. "
   ]
  },
  {
   "cell_type": "code",
   "execution_count": null,
   "metadata": {},
   "outputs": [],
   "source": [
    "model = BouncingBallStepper(tmax=1, dt=0.1)"
   ]
  },
  {
   "cell_type": "markdown",
   "metadata": {},
   "source": [
    "This variable `model` is now a *generator* which will return succesive time steps of our model. This is why this function is called a *Stepper* because it will be used to step forward the model in time."
   ]
  },
  {
   "cell_type": "code",
   "execution_count": null,
   "metadata": {},
   "outputs": [],
   "source": [
    "type(model)"
   ]
  },
  {
   "cell_type": "markdown",
   "metadata": {},
   "source": [
    "To get the result of for the first time step, we use the statment `next`"
   ]
  },
  {
   "cell_type": "code",
   "execution_count": null,
   "metadata": {},
   "outputs": [],
   "source": [
    "next(model)"
   ]
  },
  {
   "cell_type": "markdown",
   "metadata": {},
   "source": [
    "This is the result from the first `yield` statement. `yield` is acting very similarily to the `return` statement; it is passing back some data to the caller of the function."
   ]
  },
  {
   "cell_type": "markdown",
   "metadata": {},
   "source": [
    "But with a generator, we can call `next` again to get the results of the next time step."
   ]
  },
  {
   "cell_type": "code",
   "execution_count": null,
   "metadata": {},
   "outputs": [],
   "source": [
    "next(model)"
   ]
  },
  {
   "cell_type": "markdown",
   "metadata": {},
   "source": [
    "This allows us to loop through the model output for all times:"
   ]
  },
  {
   "cell_type": "code",
   "execution_count": null,
   "metadata": {},
   "outputs": [],
   "source": [
    "for x in model:\n",
    "    print(x)"
   ]
  },
  {
   "cell_type": "markdown",
   "metadata": {},
   "source": [
    "Notice that if you try and run the above code again, nothing will happen.  "
   ]
  },
  {
   "cell_type": "code",
   "execution_count": null,
   "metadata": {},
   "outputs": [],
   "source": [
    "for x in model:\n",
    "    print(x)"
   ]
  },
  {
   "cell_type": "markdown",
   "metadata": {},
   "source": [
    "This is because the simluation has reached its end state.  A new simulation needs to be created to run the model again.\n"
   ]
  },
  {
   "cell_type": "markdown",
   "metadata": {},
   "source": [
    "In the DataCamp exercises you may have encountered the Pandas (Python data analysis) library in Python. This library is very useful for considering time series; the kind of output we get from our stepper code."
   ]
  },
  {
   "cell_type": "code",
   "execution_count": null,
   "metadata": {},
   "outputs": [],
   "source": [
    "import pandas as pd"
   ]
  },
  {
   "cell_type": "markdown",
   "metadata": {},
   "source": [
    "Pandas has a new data type called a *DataFrame*"
   ]
  },
  {
   "cell_type": "code",
   "execution_count": null,
   "metadata": {},
   "outputs": [],
   "source": [
    "model = BouncingBallStepper(tmax=20)\n",
    "ball = pd.DataFrame(model)"
   ]
  },
  {
   "cell_type": "markdown",
   "metadata": {},
   "source": [
    "We can display just the first few rows of a DataFrame with the method `.head()`"
   ]
  },
  {
   "cell_type": "code",
   "execution_count": null,
   "metadata": {},
   "outputs": [],
   "source": [
    "ball.head()"
   ]
  },
  {
   "cell_type": "markdown",
   "metadata": {},
   "source": [
    "Now we can make as many plots as we like. We could plot the vertical position `y` against the time `t`:"
   ]
  },
  {
   "cell_type": "code",
   "execution_count": null,
   "metadata": {},
   "outputs": [],
   "source": [
    "plt.plot(ball.t, ball.y)\n",
    "plt.xlabel('t (s)')\n",
    "plt.ylabel('y (m)')\n",
    "plt.show()"
   ]
  },
  {
   "cell_type": "markdown",
   "metadata": {},
   "source": [
    "Or plot the velocity `v` against the vertical position `y`:"
   ]
  },
  {
   "cell_type": "code",
   "execution_count": null,
   "metadata": {},
   "outputs": [],
   "source": [
    "plt.plot(ball.y, ball.v)\n",
    "plt.xlabel('y (m)')\n",
    "plt.ylabel('v (m/s)')\n",
    "plt.show()"
   ]
  },
  {
   "cell_type": "markdown",
   "metadata": {},
   "source": [
    "Now that we have the entire time series associated with a model, we make a plotting routine to show the whole path."
   ]
  },
  {
   "cell_type": "code",
   "execution_count": null,
   "metadata": {},
   "outputs": [],
   "source": [
    "def BouncingBallPlot(ball, label=None):\n",
    "    \"\"\"\n",
    "    Plot the position vs time from model data for a ball\n",
    "\n",
    "    Arguments:\n",
    "      ball DataFrame with ball data\n",
    "      label (optional) legend label\n",
    "    \"\"\"\n",
    "    plt.plot(ball.t, ball.y, label=label)\n",
    "    plt.ylabel('y (m)')\n",
    "    plt.xlabel('t (s)')\n",
    "    \n",
    "def BouncingBallsApp():\n",
    "    \"\"\"\n",
    "    Compare bouncing balls with two different energy loss rates\n",
    "    \"\"\"\n",
    "    \n",
    "    model1 = BouncingBallStepper(tmax=20, loss=0.40)\n",
    "    ball1 = pd.DataFrame(model1)\n",
    "    BouncingBallPlot(ball1, label='loss=0.4')\n",
    "\n",
    "    model2 = BouncingBallStepper(tmax=20, loss=0.60)\n",
    "    ball2 = pd.DataFrame(model2)\n",
    "    BouncingBallPlot(ball2, label='loss=0.6')\n",
    "    \n",
    "    plt.legend()\n",
    "\n",
    "BouncingBallsApp()"
   ]
  },
  {
   "cell_type": "markdown",
   "metadata": {},
   "source": [
    "- - -\n",
    "### **Exercise** Model a falling ball\n",
    "\n",
    "a. Write a new program called `FallingBallApp` that models and then plots the vertical position verus time for a falling ball under gravity that stops when it hits the ground.  You will need to create a new function `FallingBallStepper` that yields the output at every time step. Your program should call a new function `FallingBallPlot` that plots both the numerical results **and** the analytical solution for all time steps. Be sure to include a legend and label your axes. Run your program in a Jupyter notebook to show your plot.\n",
    "\n",
    "b. Modify your `FallingBallApp` program so that it take a single argument `dt` to set the time step.  Make your program interactive (`from ipywidgets import interactive`) to explore how the numerical solution differs from the analytical solution. How much smaller does $\\Delta t$ have to be to reduce the error in the numerical results by a factor of two for the same final time? What about a factor of four? How does the error depend on $\\Delta t$?\n",
    "\n",
    "(*Assignment 1*)"
   ]
  },
  {
   "cell_type": "markdown",
   "metadata": {
    "slideshow": {
     "slide_type": "slide"
    }
   },
   "source": [
    "- - - \n",
    "## Textbook readings\n",
    "\n",
    "Read the following sections from [CSM Chapter 2](https://www.compadre.org/osp/document/ServeFile.cfm?ID=7375&DocID=2145&Attachment=1)\n",
    "- None (Although this lecture was motivated by the content of 2.3 through 2.7, the text focuses too much on object-oriented programming and can skipped.)\n",
    "\n",
    "## DataCamp exercises\n",
    "\n",
    "To learn more about Python, continue to work through the following [DataCamp](http://datacamp.com) chapters over the next week:\n",
    "- Introduction to Python: Python Basics\n",
    "- Introduction to Python: Functions and Packages \n",
    "- Introduction to Python: NumPy \n",
    "- Intermediate Python for Data Science: Matplotlib \n",
    "- Intermediate Python for Data Science: Logic, Control Flow and Filtering \n",
    "- Intermediate Python for Data Science: Loops\n"
   ]
  }
 ],
 "metadata": {
  "anaconda-cloud": {},
  "kernelspec": {
   "display_name": "Python 3",
   "language": "python",
   "name": "python3"
  },
  "language_info": {
   "codemirror_mode": {
    "name": "ipython",
    "version": 3
   },
   "file_extension": ".py",
   "mimetype": "text/x-python",
   "name": "python",
   "nbconvert_exporter": "python",
   "pygments_lexer": "ipython3",
   "version": "3.6.7"
  }
 },
 "nbformat": 4,
 "nbformat_minor": 2
}
