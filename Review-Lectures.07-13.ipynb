{
 "cells": [
  {
   "cell_type": "markdown",
   "metadata": {},
   "source": [
    "# PHYS 2820\n",
    "## Review: Lectures 7-13"
   ]
  },
  {
   "cell_type": "code",
   "execution_count": 2,
   "metadata": {},
   "outputs": [],
   "source": [
    "%matplotlib inline\n",
    "import numpy as np\n",
    "import pandas as pd\n",
    "import sympy as sp\n",
    "sp.init_printing(use_latex='mathjax') # pretty printing with LaTeX\n",
    "from scipy.integrate import odeint\n",
    "from scipy.optimize import curve_fit\n",
    "import matplotlib.pyplot as plt\n",
    "import tqdm\n",
    "from ipywidgets import interactive, fixed"
   ]
  },
  {
   "cell_type": "markdown",
   "metadata": {
    "slideshow": {
     "slide_type": "slide"
    }
   },
   "source": [
    "- - -\n",
    "# Simple Harmonic Motion\n",
    "## Lecture 7"
   ]
  },
  {
   "cell_type": "markdown",
   "metadata": {},
   "source": [
    " *periodic* -- repeating after a given **period** T"
   ]
  },
  {
   "cell_type": "markdown",
   "metadata": {},
   "source": [
    "### Newton's Law\n",
    "\n",
    "From Newton's Second Law we can write down an equation of motion for the block:\n",
    "\n",
    "$$\\frac{d^2 x}{d t^2} = - \\frac{k}{m} x = -\\omega_0^2 x$$\n",
    "\n",
    "where the angular frequency $\\omega_0$ is defined by\n",
    "\n",
    "$$ \\omega_0^2 = \\frac{k}{m}.$$"
   ]
  },
  {
   "cell_type": "markdown",
   "metadata": {},
   "source": [
    "Even thought the position and velocity are constantly changing the total energy $E$ should remain a constant.\n",
    "\n",
    "$$ E = \\frac{1}{2}m v^2 + \\frac{1}{2} k x^2 = \\frac{1}{2} k A^2 $$\n",
    "\n",
    "where the two terms are the kinetic and potential energy."
   ]
  },
  {
   "cell_type": "markdown",
   "metadata": {},
   "source": [
    "### Modified Euler Algorithms\n",
    "\n",
    "#### Euler-Cromer algorithm\n",
    "\n",
    "Euler's method is\n",
    "\n",
    "$$\\begin{align} \n",
    "x(t + \\Delta t) &= x(t) + v(t) \\Delta t \\\\\n",
    "v(t + \\Delta t) &= v(t) + a(t) \\Delta t \n",
    "\\end{align}\n",
    "$$\n",
    "\n",
    "We can make a very simple change and write\n",
    "\n",
    "$$\\begin{align} \n",
    "x(t + \\Delta t) &= x(t) + v(t+\\Delta t) \\Delta t \\\\\n",
    "v(t + \\Delta t) &= v(t) + a(t) \\Delta t \n",
    "\\end{align}\n",
    "$$\n",
    "\n",
    "This modified Euler's method is called the Euler-Cromer algorithm. The only difference is the computed velocity at the end of the interval, $v(t + \\Delta t)$ is used to compute the new position $x(t + \\Delta t)$."
   ]
  },
  {
   "cell_type": "markdown",
   "metadata": {},
   "source": [
    "With this modified Euler method, we first updating the velocity `v` and then using that to update the position `x`.\n",
    "\n",
    "In the Euler-Cromer method, energy (when averaged over one period of an oscillation) is conserved. This energy conservation is a key property of the numerical stability of this new method."
   ]
  },
  {
   "cell_type": "markdown",
   "metadata": {},
   "source": [
    "# Damped and Forced Pendulums\n",
    "## Lecture 8"
   ]
  },
  {
   "cell_type": "markdown",
   "metadata": {},
   "source": [
    "## The Motion of a Pendulum\n"
   ]
  },
  {
   "cell_type": "markdown",
   "metadata": {},
   "source": [
    "\n",
    "\n",
    "$$\\frac{d^2\\theta}{dt^2} = - \\frac{g}{L} \\sin \\theta$$"
   ]
  },
  {
   "cell_type": "markdown",
   "metadata": {},
   "source": [
    "This equation is an example of a nonlinear equation because $\\sin\\theta$ rather than $\\theta$ appears. Most nonlinear equations do not have analytical solutions in terms of well-known functions, and this equation is no exception.\n",
    "\n",
    "However, if the amplitude of the pendulum oscillations is sufficiently small, then $\\sin \\theta \\approx \\theta$, and this equation reduces to\n",
    "\n",
    "$$\\frac{d^2\\theta}{dt^2} \\approx - \\frac{g}{L}  \\theta \\quad \\quad (\\theta \\ll 1)$$\n"
   ]
  },
  {
   "cell_type": "markdown",
   "metadata": {},
   "source": [
    "### Numerical Solution\n",
    "\n",
    "We can write a program to simulate and visualize the motion of a pendulum problem, `SimplePendulumApp`. The function `SimplePendulumStepper` implements solves the dynamical equations using the Euler-Richardson algorithm."
   ]
  },
  {
   "cell_type": "code",
   "execution_count": 4,
   "metadata": {},
   "outputs": [],
   "source": [
    "## constants\n",
    "g = 9.8\n",
    "L = g / 9  # L chosen so that ω0=3\n",
    "ω0 = np.sqrt(g/L)\n",
    "m = 1"
   ]
  },
  {
   "cell_type": "code",
   "execution_count": 6,
   "metadata": {},
   "outputs": [],
   "source": [
    "def SimplePendulumStepper(x0=1, v0=0, dt=0.1, tmax=10):\n",
    "    \"\"\"\n",
    "    Solve for motion of a pendulum using Euler-Richardson\n",
    "    \"\"\"\n",
    "    \n",
    "    # initialize the model\n",
    "    t = 0\n",
    "    x = x0\n",
    "    v = v0\n",
    "    \n",
    "    while True:\n",
    "        model = {'t': t, 'x': x, 'v': v}\n",
    "        yield model # return the model state back to the caller\n",
    "    \n",
    "        if t > tmax:\n",
    "            break\n",
    "            \n",
    "        # calculate acceleration (force / mass)\n",
    "        a = - (g/L) * np.sin(x) \n",
    "        \n",
    "        # use the Euler-Richardson algorithm to update the state of the model\n",
    "        vmid = v + 1/2 * a * dt\n",
    "        xmid = x + 1/2 * v * dt\n",
    "        amid = - (g/L) * np.sin(xmid)\n",
    "        \n",
    "        v = v + amid * dt\n",
    "        x = x + vmid * dt\n",
    "        t = t + dt"
   ]
  },
  {
   "cell_type": "markdown",
   "metadata": {},
   "source": [
    "To visualize the results, we can plot the angle $\\theta$ as function of time."
   ]
  },
  {
   "cell_type": "code",
   "execution_count": 8,
   "metadata": {},
   "outputs": [],
   "source": [
    "def SimplePendulumPlotter(data):\n",
    "    fig, axs = plt.subplots(3, 1, figsize=(10,6))\n",
    "    \n",
    "    θ0 = data.iloc[0].x\n",
    "    x_analytical = θ0 * np.cos(ω0*data.t)\n",
    "    v_analytical = - ω0*θ0 * np.sin(ω0*data.t)\n",
    "    \n",
    "    axs[0].plot(data.t, data.x, label='Numerical')\n",
    "    axs[0].plot(data.t, x_analytical, label='Analytical')\n",
    "    axs[0].set_ylabel(\"θ\")\n",
    "    axs[0].legend()\n",
    "    \n",
    "    axs[1].plot(data.t, data.v)\n",
    "    axs[1].plot(data.t, v_analytical)\n",
    "    axs[1].set_ylabel(\"dθ/dt\")\n",
    "    \n",
    "    KE = 1/2 * m * L**2 * data.v**2\n",
    "    PE = m * g * L * (1 - np.cos(data.x))\n",
    "    E = KE + PE\n",
    "    axs[2].plot(data.t, KE, label='KE')\n",
    "    axs[2].plot(data.t, PE, label='PE')\n",
    "    axs[2].plot(data.t, E, label='E')\n",
    "    axs[2].set_ylabel(\"E (J)\")\n",
    "    axs[2].legend()\n",
    "    \n",
    "    axs[2].set_xlabel(\"t (s)\")"
   ]
  },
  {
   "cell_type": "code",
   "execution_count": 9,
   "metadata": {},
   "outputs": [],
   "source": [
    "def SimplePendulumApp(θ0=0.2, dt=0.05):\n",
    "   \n",
    "    # set up the model\n",
    "    stepper = SimplePendulumStepper(x0=θ0, dt=dt)\n",
    "    \n",
    "    # iterate the model in time\n",
    "    data = pd.DataFrame(stepper)\n",
    "    \n",
    "    # visualize the results\n",
    "    SimplePendulumPlotter(data)\n",
    "    \n",
    "    return data"
   ]
  },
  {
   "cell_type": "code",
   "execution_count": 10,
   "metadata": {},
   "outputs": [
    {
     "data": {
      "image/png": "[encoded data removed]",
      "text/plain": [
       "<Figure size 720x432 with 3 Axes>"
      ]
     },
     "metadata": {
      "needs_background": "light"
     },
     "output_type": "display_data"
    }
   ],
   "source": [
    "SimplePendulumApp(); # \";\" to prevent data from being displayed"
   ]
  },
  {
   "cell_type": "markdown",
   "metadata": {},
   "source": [
    "See Lab #4 for more examples."
   ]
  },
  {
   "cell_type": "markdown",
   "metadata": {
    "slideshow": {
     "slide_type": "slide"
    }
   },
   "source": [
    "## Damped Harmonic Oscillator"
   ]
  },
  {
   "cell_type": "markdown",
   "metadata": {
    "slideshow": {
     "slide_type": "slide"
    }
   },
   "source": [
    "\n",
    "\\begin{align}\n",
    "\\frac{d^2\\theta}{dt^2} &= - \\frac{g}{L} \\sin(\\theta) -\\gamma \\frac{d \\theta}{dt} \\;. \\\\\n",
    "\\end{align}"
   ]
  },
  {
   "cell_type": "markdown",
   "metadata": {
    "slideshow": {
     "slide_type": "slide"
    }
   },
   "source": [
    "### Numerical solution for a damped pendulum"
   ]
  },
  {
   "cell_type": "code",
   "execution_count": null,
   "metadata": {},
   "outputs": [],
   "source": [
    "def DampedPendulumStepper(γ=1, x0=1, v0=0, dt=0.01, tmax=10):\n",
    "    \"\"\"\n",
    "    Solve for motion of a damped pendulum using Euler-Richardson\n",
    "    \"\"\"\n",
    "    \n",
    "    # initialize the model\n",
    "    t = 0\n",
    "    x = x0\n",
    "    v = v0\n",
    "    \n",
    "    while True:\n",
    "        model = {'t': t, 'x': x, 'v': v}\n",
    "        yield model # return the model state back to the caller\n",
    "    \n",
    "        if t > tmax:\n",
    "            break\n",
    "            \n",
    "        # calculate acceleration (force / mass)\n",
    "        a = - (g/L) * np.sin(x) - γ * v\n",
    "        \n",
    "        # use the Euler-Richardson algorithm to update the state of the model\n",
    "        vmid = v + 1/2 * a * dt\n",
    "        xmid = x + 1/2 * v * dt\n",
    "        amid = - (g/L) * np.sin(xmid) - γ * vmid\n",
    "        \n",
    "        v = v + amid * dt\n",
    "        x = x + vmid * dt\n",
    "        t = t + dt"
   ]
  },
  {
   "cell_type": "code",
   "execution_count": null,
   "metadata": {},
   "outputs": [],
   "source": [
    "def DampedPendulumPlotter(data, label=' ', axs=None):\n",
    "    if axs is None:\n",
    "        fig, axs = plt.subplots(3, 1, figsize=(10,6))\n",
    "    \n",
    "    axs[0].plot(data.t, data.x, label=label)\n",
    "    axs[0].set_ylabel(\"θ\")\n",
    "    axs[0].legend()\n",
    "    \n",
    "    axs[1].plot(data.t, data.v)\n",
    "    axs[1].set_ylabel(\"dθ/dt\")\n",
    "    \n",
    "    KE = 1/2 * m * L**2 * data.v**2\n",
    "    PE = m * g * L * (1 - np.cos(data.x))\n",
    "    E = KE + PE\n",
    "    axs[2].plot(data.t, E)\n",
    "    axs[2].set_ylim(ymin=0, ymax=E[0]*1.1)\n",
    "    axs[2].set_ylabel(\"E (J)\")\n",
    "    \n",
    "    axs[2].set_xlabel(\"t (s)\")"
   ]
  },
  {
   "cell_type": "code",
   "execution_count": null,
   "metadata": {},
   "outputs": [],
   "source": [
    "def DampedPendulumApp(γ=0.5, θ0=0.2):\n",
    "    fig, axs = plt.subplots(3, 1, figsize=(10,6))\n",
    "    \n",
    "    # solve for an undamped pendulum\n",
    "    stepper = DampedPendulumStepper(x0=θ0, γ=0)\n",
    "    data = pd.DataFrame(stepper)\n",
    "    DampedPendulumPlotter(data, label='Undamped', axs=axs)\n",
    "\n",
    "    # solve for an undamped pendulum\n",
    "    stepper = DampedPendulumStepper(x0=θ0, γ=γ)\n",
    "    data = pd.DataFrame(stepper)\n",
    "    DampedPendulumPlotter(data, label='Damped', axs=axs)"
   ]
  },
  {
   "cell_type": "markdown",
   "metadata": {},
   "source": [
    "## Response to External Forces\n",
    "\n",
    "\\begin{align}\n",
    "\\frac{d^2 x}{dt^2} &= - \\omega_0^2 x -\\gamma \\frac{d x}{dt}  + \\frac{1}{m}F(t)\\;.\n",
    "\\end{align}\n",
    "\n",
    "The time dependence of F(t) is aribitrary. Because many forces in nature are periodic, we first consider the form\n",
    "\n",
    "\\begin{align}\n",
    "\\frac{1}{m}F(t) &= A_0 \\cos(\\omega t)\\;,\n",
    "\\end{align}\n",
    "\n",
    "where $\\omega$ is the angular frequency of the driving force.\n"
   ]
  },
  {
   "cell_type": "code",
   "execution_count": null,
   "metadata": {},
   "outputs": [],
   "source": [
    "def DrivenDampedOscillatorStepper(x0=1, v0=0, γ=1, A=0, ω=0,\n",
    "                                  dt=0.01, tmax=10):\n",
    "    \"\"\"\n",
    "    Solve for motion of a driven damped oscillator using Euler-Richardson\n",
    "    \"\"\"\n",
    "    \n",
    "    # initialize the model\n",
    "    t = 0\n",
    "    x = x0\n",
    "    v = v0\n",
    "    \n",
    "    while True:\n",
    "        model = {'t': t, 'x': x, 'v': v}\n",
    "        yield model # return the model state back to the caller\n",
    "    \n",
    "        if t > tmax:\n",
    "            break\n",
    "            \n",
    "        # calculate acceleration (force / mass)\n",
    "        a = - ω0**2 * x - γ * v + A * np.cos(ω*t)\n",
    "        \n",
    "        # use the Euler-Richardson algorithm to update the state of the model\n",
    "        vmid = v + 1/2 * a * dt\n",
    "        xmid = x + 1/2 * v * dt\n",
    "        tmid = t + 1/2 * dt\n",
    "        amid = - ω0**2 * xmid - γ * vmid + A * np.cos(ω*tmid)\n",
    "        \n",
    "        v = v + amid * dt\n",
    "        x = x + vmid * dt\n",
    "        t = t + dt"
   ]
  },
  {
   "cell_type": "code",
   "execution_count": null,
   "metadata": {},
   "outputs": [],
   "source": [
    "def DrivenDampedOscillatorPlotter(data):\n",
    "    fig, axs = plt.subplots(1, 2, figsize=(8,4))\n",
    "    \n",
    "    axs[0].plot(data.t, data.x, label='x')\n",
    "    axs[0].plot(data.t, data.v, label='v')\n",
    "    axs[0].set_ylabel(\"x or v\")\n",
    "    axs[0].set_xlabel(\"t\")\n",
    "    axs[0].legend()\n",
    "    \n",
    "    axs[1].plot(data.x, data.v)\n",
    "    axs[1].set_ylabel(\"v\")\n",
    "    axs[1].set_xlabel(\"x\")"
   ]
  },
  {
   "cell_type": "code",
   "execution_count": null,
   "metadata": {},
   "outputs": [],
   "source": [
    "def DrivenDampedOscillatorApp(x0=1, v0=0, γ=0.5, ω=2, tmax=20):\n",
    "    A = 1\n",
    "    \n",
    "    stepper = DrivenDampedOscillatorStepper(x0=x0, v0=v0,\n",
    "                                            γ=γ, A=A, ω=ω,\n",
    "                                            tmax=tmax)\n",
    "    data = pd.DataFrame(stepper)\n",
    "    DrivenDampedOscillatorPlotter(data)"
   ]
  },
  {
   "cell_type": "markdown",
   "metadata": {
    "slideshow": {
     "slide_type": "slide"
    }
   },
   "source": [
    "# Lorenz Model and the Butterfly Effect\n",
    "## Lecture 9"
   ]
  },
  {
   "cell_type": "markdown",
   "metadata": {
    "slideshow": {
     "slide_type": "slide"
    }
   },
   "source": [
    "<img src=\"http://www.azquotes.com/picture-quotes/quote-when-a-butterfly-flutters-its-wings-in-one-part-of-the-world-it-can-eventually-cause-edward-norton-lorenz-107-79-51.jpg\" style=\"margin: 0 auto;\" >"
   ]
  },
  {
   "cell_type": "markdown",
   "metadata": {
    "slideshow": {
     "slide_type": "slide"
    }
   },
   "source": [
    "### Comparison of two *identical* simluations\n",
    "<img src=\"http://www.stsci.edu/~lbradley/seminar/images/lorenz.gif\" width=\"50%\" style=\"margin: 0 auto;\" alt=\"\">"
   ]
  },
  {
   "cell_type": "markdown",
   "metadata": {
    "slideshow": {
     "slide_type": "slide"
    }
   },
   "source": [
    "**chaotic** sensitive dependence on initial conditions. "
   ]
  },
  {
   "cell_type": "markdown",
   "metadata": {
    "slideshow": {
     "slide_type": "slide"
    }
   },
   "source": [
    "## Lorenz Model\n",
    "\n",
    "- Simpler way to produce complex behaviour observed\n",
    "- System of three non-linear equations\n",
    "- Inspired by physics involved in fluid convection\n"
   ]
  },
  {
   "cell_type": "markdown",
   "metadata": {
    "slideshow": {
     "slide_type": "slide"
    }
   },
   "source": [
    "\n",
    "\n",
    "#### Equations in Lorenz Model\n",
    "\n",
    "$$ \\frac{\\mathrm{d}x}{\\mathrm{d}t} = \\sigma (y-x) $$\n",
    "\n",
    "$$ \\frac{\\mathrm{d}y}{\\mathrm{d}t} = -xz + rx-y $$\n",
    "\n",
    "$$ \\frac{\\mathrm{d}z}{\\mathrm{d}t} = xy -bz $$"
   ]
  },
  {
   "cell_type": "markdown",
   "metadata": {
    "slideshow": {
     "slide_type": "slide"
    }
   },
   "source": [
    "Numerically we can solve this model as follows:\n",
    "$$ x_{i+1}  = x_i + \\sigma (y_i-x_i) \\Delta t $$\n",
    " \n",
    "$$ y_{i+1} = y_i + (-x_i z_i + r x_i - y_i) \\Delta t $$\n",
    " \n",
    "$$ z_{i+1} = z_i + ( x_i y_i - b z_i) \\Delta t $$\n",
    " \n"
   ]
  },
  {
   "cell_type": "code",
   "execution_count": 11,
   "metadata": {},
   "outputs": [],
   "source": [
    "# constants\n",
    "b = 8/3\n",
    "r = 25\n",
    "σ = 10\n",
    "\n",
    "def LorenzStepper(x0=1, y0=0, z0=0, dt=0.001, tmax=50):\n",
    "    \"\"\"\n",
    "    Solve the Lorenz equations using Euler's method\n",
    "    \"\"\"\n",
    "    \n",
    "    # initialize the model\n",
    "    t = 0\n",
    "    x = x0\n",
    "    y = y0\n",
    "    z = z0\n",
    "    \n",
    "    while True:\n",
    "        model = {'t': t, 'x': x, 'y': y, 'z': z}\n",
    "        yield model # return the model state back to the caller\n",
    "    \n",
    "        if t > tmax:\n",
    "            break\n",
    "            \n",
    "        # use the Euler method to update the state of the model\n",
    "        xnew = x + σ*(y-x)*dt\n",
    "        ynew = y + (-x*z + r*x - y)*dt\n",
    "        znew = z + (x*y - b*z)*dt\n",
    "        x = xnew\n",
    "        y = ynew\n",
    "        z = znew\n",
    "        t = t + dt"
   ]
  },
  {
   "cell_type": "code",
   "execution_count": 12,
   "metadata": {},
   "outputs": [],
   "source": [
    "def LorenzPlotter(data):\n",
    " \n",
    "    plt.plot(data.t, data.x) \n",
    "    plt.xlim(0, 50) \n",
    "    plt.ylim(-30, 30) \n",
    "    plt.xlabel('time') \n",
    "    plt.ylabel('z') \n",
    "    plt.title('Variation of z as a function of time')\n"
   ]
  },
  {
   "cell_type": "code",
   "execution_count": 16,
   "metadata": {
    "slideshow": {
     "slide_type": "slide"
    }
   },
   "outputs": [],
   "source": [
    "def LorenzApp():\n",
    "    plt.subplots(figsize=(12,5))\n",
    "    \n",
    "    stepper = LorenzStepper(x0=1.0000)\n",
    "    data = pd.DataFrame(stepper)\n",
    "    LorenzPlotter(data)\n",
    "    \n",
    "    stepper = LorenzStepper(x0=1.0001)\n",
    "    data = pd.DataFrame(stepper)\n",
    "    LorenzPlotter(data)\n",
    "    \n",
    "    return data"
   ]
  },
  {
   "cell_type": "code",
   "execution_count": 17,
   "metadata": {
    "slideshow": {
     "slide_type": "slide"
    }
   },
   "outputs": [
    {
     "data": {
      "image/png": "[encoded data removed]",
      "text/plain": [
       "<Figure size 864x360 with 1 Axes>"
      ]
     },
     "metadata": {
      "needs_background": "light"
     },
     "output_type": "display_data"
    }
   ],
   "source": [
    "data = LorenzApp()"
   ]
  },
  {
   "cell_type": "markdown",
   "metadata": {},
   "source": [
    "# Numerical Differentiation and Integration\n",
    "## Lecture 10"
   ]
  },
  {
   "cell_type": "markdown",
   "metadata": {},
   "source": [
    "## Derivative schemes"
   ]
  },
  {
   "cell_type": "markdown",
   "metadata": {},
   "source": [
    "Approximations to a derivative can be obtained by expanding a function using Taylor series. Here are three schemes for calculating numerically the derivative of a continuous functions. These are called the forward, backward and centered difference schemes. \n",
    "\n",
    "#### forward difference\n",
    "\n",
    "$$ \\frac{f(x+h )-f(x)}{h}$$\n",
    "\n",
    "#### backward difference\n",
    "\n",
    "$$ \\frac{f(x) - f(x - h)}{h}$$\n",
    "\n",
    "#### centered difference\n",
    "$$ \\frac{f(x+h)-f(x-h)}{2 h}$$\n",
    "\n",
    "where $f(x)$ is some smooth function at we are approximating the derivative at the point $x=x_0$.\n"
   ]
  },
  {
   "cell_type": "markdown",
   "metadata": {},
   "source": [
    "## Differentiating data"
   ]
  },
  {
   "cell_type": "markdown",
   "metadata": {},
   "source": [
    "Suppose we have data e.g. velocity versus time, where the independent variable is equally spaced between points."
   ]
  },
  {
   "cell_type": "markdown",
   "metadata": {},
   "source": [
    "|-|$t$|$v$|-|\n",
    "|--|--|--|--|\n",
    "|$t_0$|0.1|3.0|$v_0$ |\n",
    "|$t_1$ | 0.2 | 3.5 | $v_1$ |\n",
    "|$t_2$ | 0.3 | 3.8 | $v_2$ |\n",
    "|$t_3$ | 0.4 | 2.6 | $v_3$ |\n",
    "|$t_4$ | 0.5 | 2.8 | $v_4$ |\n",
    "|$t_5$ | 0.6 | 1.4 | $v_5$ |\n"
   ]
  },
  {
   "cell_type": "code",
   "execution_count": 18,
   "metadata": {},
   "outputs": [],
   "source": [
    "t = [0.1,0.2, 0.3, 0.4,0.5,0.6]\n",
    "v = [3.0, 3.5, 3.8, 2.6, 2.8, 1.4]"
   ]
  },
  {
   "cell_type": "code",
   "execution_count": 19,
   "metadata": {},
   "outputs": [
    {
     "data": {
      "text/html": [
       "<div>\n",
       "<style scoped>\n",
       "    .dataframe tbody tr th:only-of-type {\n",
       "        vertical-align: middle;\n",
       "    }\n",
       "\n",
       "    .dataframe tbody tr th {\n",
       "        vertical-align: top;\n",
       "    }\n",
       "\n",
       "    .dataframe thead th {\n",
       "        text-align: right;\n",
       "    }\n",
       "</style>\n",
       "<table border=\"1\" class=\"dataframe\">\n",
       "  <thead>\n",
       "    <tr style=\"text-align: right;\">\n",
       "      <th></th>\n",
       "      <th>t</th>\n",
       "      <th>v</th>\n",
       "    </tr>\n",
       "  </thead>\n",
       "  <tbody>\n",
       "    <tr>\n",
       "      <th>0</th>\n",
       "      <td>0.1</td>\n",
       "      <td>3.0</td>\n",
       "    </tr>\n",
       "    <tr>\n",
       "      <th>1</th>\n",
       "      <td>0.2</td>\n",
       "      <td>3.5</td>\n",
       "    </tr>\n",
       "    <tr>\n",
       "      <th>2</th>\n",
       "      <td>0.3</td>\n",
       "      <td>3.8</td>\n",
       "    </tr>\n",
       "    <tr>\n",
       "      <th>3</th>\n",
       "      <td>0.4</td>\n",
       "      <td>2.6</td>\n",
       "    </tr>\n",
       "    <tr>\n",
       "      <th>4</th>\n",
       "      <td>0.5</td>\n",
       "      <td>2.8</td>\n",
       "    </tr>\n",
       "    <tr>\n",
       "      <th>5</th>\n",
       "      <td>0.6</td>\n",
       "      <td>1.4</td>\n",
       "    </tr>\n",
       "  </tbody>\n",
       "</table>\n",
       "</div>"
      ],
      "text/plain": [
       "     t    v\n",
       "0  0.1  3.0\n",
       "1  0.2  3.5\n",
       "2  0.3  3.8\n",
       "3  0.4  2.6\n",
       "4  0.5  2.8\n",
       "5  0.6  1.4"
      ]
     },
     "execution_count": 19,
     "metadata": {},
     "output_type": "execute_result"
    }
   ],
   "source": [
    "vdata = pd.DataFrame({'t' : t, 'v' : v })\n",
    "vdata"
   ]
  },
  {
   "cell_type": "markdown",
   "metadata": {},
   "source": [
    "Besides giving a nice way to display your data, Pandas dataframes support a lot of very useful operations for time series so are especially useful for observation datasets."
   ]
  },
  {
   "cell_type": "markdown",
   "metadata": {},
   "source": [
    "#### Calculating accleration"
   ]
  },
  {
   "cell_type": "markdown",
   "metadata": {},
   "source": [
    "We now have our data in a dataframe"
   ]
  },
  {
   "cell_type": "code",
   "execution_count": null,
   "metadata": {},
   "outputs": [],
   "source": [
    "vdata"
   ]
  },
  {
   "cell_type": "markdown",
   "metadata": {},
   "source": [
    "The acceleration at $t=0.2$ would be (using forward difference) "
   ]
  },
  {
   "cell_type": "code",
   "execution_count": null,
   "metadata": {},
   "outputs": [],
   "source": [
    "(vdata.v[2] - vdata.v[1]) / (vdata.t[2] - vdata.t[1])"
   ]
  },
  {
   "cell_type": "markdown",
   "metadata": {},
   "source": [
    "A function that takes an arbitrary dataframe and calculates the forward difference at an arbitrary point might look like"
   ]
  },
  {
   "cell_type": "code",
   "execution_count": null,
   "metadata": {},
   "outputs": [],
   "source": [
    "def fd(data, i):\n",
    "    return (data.v[i+1] - data.v[i]) / (data.t[i+1] - data.t[i])"
   ]
  },
  {
   "cell_type": "markdown",
   "metadata": {},
   "source": [
    "So"
   ]
  },
  {
   "cell_type": "code",
   "execution_count": null,
   "metadata": {},
   "outputs": [],
   "source": [
    "fd(vdata, 1)"
   ]
  },
  {
   "cell_type": "markdown",
   "metadata": {},
   "source": [
    "gives the acceleration at $t = 0.2$"
   ]
  },
  {
   "cell_type": "code",
   "execution_count": null,
   "metadata": {},
   "outputs": [],
   "source": [
    "plt.plot(vdata.t, vdata.v, 'o-')\n",
    "plt.xlabel('t')\n",
    "plt.ylabel('v')\n",
    "plt.show()"
   ]
  },
  {
   "cell_type": "markdown",
   "metadata": {},
   "source": [
    "To calculate the acceleration for each time we need to loop through the data.\n",
    "\n",
    "First we create an new column in the dataframe that will contains the acceleration."
   ]
  },
  {
   "cell_type": "code",
   "execution_count": null,
   "metadata": {},
   "outputs": [],
   "source": [
    "vdata"
   ]
  },
  {
   "cell_type": "code",
   "execution_count": null,
   "metadata": {},
   "outputs": [],
   "source": [
    "vdata['a'] = np.nan"
   ]
  },
  {
   "cell_type": "code",
   "execution_count": null,
   "metadata": {},
   "outputs": [],
   "source": [
    "vdata"
   ]
  },
  {
   "cell_type": "code",
   "execution_count": null,
   "metadata": {},
   "outputs": [],
   "source": [
    "n = len(vdata)\n",
    "for i in range(n-1):\n",
    "    vdata.a[i] = fd(vdata, i)"
   ]
  },
  {
   "cell_type": "markdown",
   "metadata": {},
   "source": [
    "Notice that $ i =0, 1, 2, 3, 4$ in this example. We don't go to the last row because the forward difference depends on the next row as well."
   ]
  },
  {
   "cell_type": "code",
   "execution_count": null,
   "metadata": {},
   "outputs": [],
   "source": [
    "vdata"
   ]
  },
  {
   "cell_type": "code",
   "execution_count": null,
   "metadata": {},
   "outputs": [],
   "source": [
    "plt.plot(vdata.t, vdata.a, 'o-')\n",
    "plt.xlabel('t')\n",
    "plt.ylabel('a')\n",
    "plt.show()"
   ]
  },
  {
   "cell_type": "markdown",
   "metadata": {},
   "source": [
    "### Computing derivatives of functions"
   ]
  },
  {
   "cell_type": "markdown",
   "metadata": {},
   "source": [
    "Be able to compete the numerical derivative of a function that is defined as a Python function."
   ]
  },
  {
   "cell_type": "code",
   "execution_count": 20,
   "metadata": {},
   "outputs": [
    {
     "data": {
      "text/latex": [
       "$\\displaystyle 53.08553692318767$"
      ],
      "text/plain": [
       "53.08553692318767"
      ]
     },
     "execution_count": 20,
     "metadata": {},
     "output_type": "execute_result"
    }
   ],
   "source": [
    "def g(x):\n",
    "    return x**3 + 2*x + np.exp(x)\n",
    "\n",
    "g(3)"
   ]
  },
  {
   "cell_type": "markdown",
   "metadata": {},
   "source": [
    "Evaluate, numerically, $\\frac{dg}{dx}(x)$ for any specific value of $x$ using\n",
    "\n",
    "- forward difference\n",
    "- backward difference\n",
    "- centred difference\n"
   ]
  },
  {
   "cell_type": "markdown",
   "metadata": {},
   "source": [
    "## Numerical integration: Rectangle rule"
   ]
  },
  {
   "cell_type": "markdown",
   "metadata": {},
   "source": [
    "The simplest algorithm to estimate numerically a definite integral of this sort\n",
    "\n",
    "$$\\int_a^b f(x) dx$$\n",
    "\n",
    "is to divide the area between \n",
    "\n",
    "$$f(a)$$ and  $$f(b)$$ into \n",
    "\n",
    "$n$ rectangles of constant width \n",
    "\n",
    "$$\\Delta x = (b-a)/n$$\n",
    "\n",
    "and heights $f(x_0)$, $f(x_2)$, $f(x_3)$, $\\ldots$, $f(x_{n-1})$\n",
    "\n",
    "and to sum the areas of these rectangles. \n",
    "\n",
    "This leads to the following approximation called the rectangle rule\n",
    "\n",
    "\n",
    "$$ \\int_a^b f(x) dx \\approx [f(x_0)+f(x_2)+f(x_3) + \\dots +f(x_{n-1})] \\Delta x = \\sum_{i=0}^{n-1} f(x_i)\\Delta x $$\n",
    "\n",
    "where\n",
    "\t\n",
    "$$ x_i=a + i \\Delta x $$"
   ]
  },
  {
   "cell_type": "markdown",
   "metadata": {},
   "source": [
    "Let's create our own function that will achieve this type of numerical integration. Call this function `NIRect` for Numerical Integration using the Rectangle rule. Create this function with the following four arguments\n",
    "\n",
    "- `f`: the function that we want to integrate numerically\n",
    "- `a`: the lower limit of integration\n",
    "- `b`: the upper limit of integration\n",
    "- `n`: the number of elements (i.e. rectangles) to use for the integration\n",
    "\n",
    "Your function may look like this:"
   ]
  },
  {
   "cell_type": "code",
   "execution_count": 21,
   "metadata": {},
   "outputs": [],
   "source": [
    "def NIRect(f, a, b, n):\n",
    "    dx = (b-a)/n\n",
    "    sum = 0\n",
    "    for i in range(n):\n",
    "        sum += f(a + i*dx) * dx\n",
    "   \n",
    "    return sum"
   ]
  },
  {
   "cell_type": "code",
   "execution_count": 22,
   "metadata": {},
   "outputs": [
    {
     "data": {
      "text/latex": [
       "$\\displaystyle 1086.42672695$"
      ],
      "text/plain": [
       "1086.42672695"
      ]
     },
     "execution_count": 22,
     "metadata": {},
     "output_type": "execute_result"
    }
   ],
   "source": [
    "def g(y):\n",
    "    return 3*y**2 + y\n",
    "\n",
    "NIRect(g, 2.3, 10.2, 100)"
   ]
  },
  {
   "cell_type": "markdown",
   "metadata": {},
   "source": [
    "Also, be able to numerically integrate data in a DataFrame, say, from an experiment.\n"
   ]
  },
  {
   "cell_type": "markdown",
   "metadata": {},
   "source": [
    "## Numerical integration: Trapezoidal rule"
   ]
  },
  {
   "cell_type": "markdown",
   "metadata": {},
   "source": [
    "A more accurate method for solving an integral is to use $n$ trapezoids instead of $n$ rectangles. You should understand where this formulation comes from.\n",
    "\n",
    "$$\\int_a^b f(x) dx \\approx \\Delta x \\left (\\frac{1}{2} f(x_0) + \\frac{1}{2} f(x_n)+ \\sum_{i=1}^{n-1} f(x_i) \\right) $$\n",
    "\n",
    "where as in the rectangle rule\n",
    "\n",
    " \n",
    " $$\\Delta x = (b-a)/n$$\n",
    "\n",
    "and\n",
    "\n",
    " \t\n",
    "\n",
    "$$x_i=a + i \\Delta x.$$\n",
    "\n",
    "Note how although we use $n$ trapezoids the function needs to be evaluated up to \n",
    " $f(x_n)$ whereas in the rectangle rule the function only needed to be evaluated up to \n",
    " $f(x_{n-1})$. Can you tell why?\n",
    "\n",
    "Here's how this can be coded within a new function that called `NITrap`"
   ]
  },
  {
   "cell_type": "code",
   "execution_count": 23,
   "metadata": {},
   "outputs": [],
   "source": [
    "def NITrap(f, a, b, n):\n",
    "    dx = (b-a)/n\n",
    "    sum = 0.5*(f(a) + f(b)) * dx\n",
    "    for i in range(1, n):\n",
    "        sum = sum + f(a + i*dx) * dx\n",
    "   \n",
    "    return sum"
   ]
  },
  {
   "cell_type": "code",
   "execution_count": 24,
   "metadata": {},
   "outputs": [
    {
     "name": "stdout",
     "output_type": "stream",
     "text": [
      "0.9194031700146124\n",
      "0.9979429863543572\n"
     ]
    }
   ],
   "source": [
    "f = np.sin\n",
    "a = 0\n",
    "b = np.pi / 2\n",
    "n = 10\n",
    "\n",
    "print(NIRect(f, a, b, n))\n",
    "print(NITrap(f, a, b, n))"
   ]
  },
  {
   "cell_type": "markdown",
   "metadata": {},
   "source": [
    "From these outputs it is quite clear that the trapezoid rule is more accurate using the same number of trapezoids as the rectangle rule."
   ]
  },
  {
   "cell_type": "markdown",
   "metadata": {},
   "source": [
    "## Integrating data"
   ]
  },
  {
   "cell_type": "markdown",
   "metadata": {},
   "source": [
    "Back to our data stored in `vdata`"
   ]
  },
  {
   "cell_type": "code",
   "execution_count": 25,
   "metadata": {},
   "outputs": [
    {
     "data": {
      "text/html": [
       "<div>\n",
       "<style scoped>\n",
       "    .dataframe tbody tr th:only-of-type {\n",
       "        vertical-align: middle;\n",
       "    }\n",
       "\n",
       "    .dataframe tbody tr th {\n",
       "        vertical-align: top;\n",
       "    }\n",
       "\n",
       "    .dataframe thead th {\n",
       "        text-align: right;\n",
       "    }\n",
       "</style>\n",
       "<table border=\"1\" class=\"dataframe\">\n",
       "  <thead>\n",
       "    <tr style=\"text-align: right;\">\n",
       "      <th></th>\n",
       "      <th>t</th>\n",
       "      <th>v</th>\n",
       "    </tr>\n",
       "  </thead>\n",
       "  <tbody>\n",
       "    <tr>\n",
       "      <th>0</th>\n",
       "      <td>0.1</td>\n",
       "      <td>3.0</td>\n",
       "    </tr>\n",
       "    <tr>\n",
       "      <th>1</th>\n",
       "      <td>0.2</td>\n",
       "      <td>3.5</td>\n",
       "    </tr>\n",
       "    <tr>\n",
       "      <th>2</th>\n",
       "      <td>0.3</td>\n",
       "      <td>3.8</td>\n",
       "    </tr>\n",
       "    <tr>\n",
       "      <th>3</th>\n",
       "      <td>0.4</td>\n",
       "      <td>2.6</td>\n",
       "    </tr>\n",
       "    <tr>\n",
       "      <th>4</th>\n",
       "      <td>0.5</td>\n",
       "      <td>2.8</td>\n",
       "    </tr>\n",
       "    <tr>\n",
       "      <th>5</th>\n",
       "      <td>0.6</td>\n",
       "      <td>1.4</td>\n",
       "    </tr>\n",
       "  </tbody>\n",
       "</table>\n",
       "</div>"
      ],
      "text/plain": [
       "     t    v\n",
       "0  0.1  3.0\n",
       "1  0.2  3.5\n",
       "2  0.3  3.8\n",
       "3  0.4  2.6\n",
       "4  0.5  2.8\n",
       "5  0.6  1.4"
      ]
     },
     "execution_count": 25,
     "metadata": {},
     "output_type": "execute_result"
    }
   ],
   "source": [
    "vdata"
   ]
  },
  {
   "cell_type": "markdown",
   "metadata": {},
   "source": [
    "6 points, so 5 trapezoids"
   ]
  },
  {
   "cell_type": "code",
   "execution_count": null,
   "metadata": {},
   "outputs": [],
   "source": [
    "plt.plot(vdata.t, vdata.v, 'o-')\n",
    "\n",
    "n = len(vdata)\n",
    "for i in range(n-1):\n",
    "    plt.plot([vdata.t[i], vdata.t[i+1], vdata.t[i+1], vdata.t[i], vdata.t[i]],\n",
    "              [0, 0, vdata.v[i+1], vdata.v[i], 0])\n",
    "    \n",
    "plt.xlabel('t')\n",
    "plt.ylabel('v')\n",
    "plt.show()"
   ]
  },
  {
   "cell_type": "markdown",
   "metadata": {},
   "source": [
    "The displacement from $t_0=0.1$ to $t_5= 0.6$ is\n",
    "\n",
    "\n",
    "$$ \\Delta x = \\int_{0.1}^{0.6} v(t) dt  \\approx \\Delta t \\left ( \\frac{1}{2} v_0 + \\frac{1}{2} v_5+ \\sum_{i=1}^{4} v_i \\right)$$"
   ]
  },
  {
   "cell_type": "markdown",
   "metadata": {},
   "source": [
    "A function that integrates an arbitrary dataframe of data might look like"
   ]
  },
  {
   "cell_type": "code",
   "execution_count": null,
   "metadata": {},
   "outputs": [],
   "source": [
    "def NITrapData(data):\n",
    "    \n",
    "    dt = data.t[1] - data.t[0]\n",
    "    \n",
    "    n = len(data)\n",
    "    \n",
    "    sum = data.v[0]/2 + data.v[n-1]/2\n",
    "    \n",
    "    for n in range(1, n-1):\n",
    "        sum += data.v[n]\n",
    "        \n",
    "    sum = dt * sum\n",
    "    \n",
    "    return sum"
   ]
  },
  {
   "cell_type": "markdown",
   "metadata": {},
   "source": [
    "So the displacement from $t = 0.1$ to $ t = 0.6$ is"
   ]
  },
  {
   "cell_type": "code",
   "execution_count": null,
   "metadata": {},
   "outputs": [],
   "source": [
    "displacement = NITrapData(vdata)\n",
    "print(\"displacement = {:.3f}\".format(displacement))"
   ]
  },
  {
   "cell_type": "markdown",
   "metadata": {},
   "source": [
    "Comment: The trapezoidal rule converges much faster than the rectangle rule to the exact solution."
   ]
  },
  {
   "cell_type": "markdown",
   "metadata": {},
   "source": [
    "# Taylor Series: Integration and ODEs\n",
    "## Lecture 11"
   ]
  },
  {
   "cell_type": "markdown",
   "metadata": {},
   "source": [
    "## Taylor Series"
   ]
  },
  {
   "cell_type": "markdown",
   "metadata": {},
   "source": [
    "Idea: approximate a smooth function with a polynomial.\n",
    "\n",
    "We *expand* $f(x)$ around the point $x=a$.\n",
    "\n",
    "$$\\begin{align}\n",
    "f(x) &= f(a) +  f'(a)(x-a) +  f''(a)\\frac{(x-a)^2}{2} +  f'''(a)\\frac{(x-a)^3}{6}  + \\cdots \\\\\n",
    "&= \\sum_0^\\infty f^{(n)}(a)\\frac{(x-a)^n}{n!} \n",
    "\\end{align}$$"
   ]
  },
  {
   "cell_type": "markdown",
   "metadata": {},
   "source": [
    "Each term in the series makes a polynomial a better approximation to $f(x)$.\n",
    "\n",
    "\n",
    "$$\n",
    "\\begin{align}\n",
    "T_0 (x) &= f(a)  & \\mbox{(a constant)} \\\\\n",
    "T_1(x) &= f(a) + f'(a)(x-a) & \\mbox{(a line)} \\\\\n",
    "T_2(x) &= f(a) + f'(a)(x-a) + f''(a)\\frac{(x-a)^2}{2} &   \\mbox{(a parabola)}\n",
    "\\end{align}$$"
   ]
  },
  {
   "cell_type": "markdown",
   "metadata": {},
   "source": [
    "The series is designed so that if you take the $n^\\mbox{th}$ derivative of the series at $x=a$, you get precisely $f^{(n)}(a)$."
   ]
  },
  {
   "cell_type": "markdown",
   "metadata": {},
   "source": [
    "- - -"
   ]
  },
  {
   "cell_type": "markdown",
   "metadata": {},
   "source": [
    "### Deriving a forward difference"
   ]
  },
  {
   "cell_type": "markdown",
   "metadata": {},
   "source": [
    "We can rewrite the Taylor series as \n",
    "\n",
    "$$f(x+h) = f(x) + f'(x) h + f''(x) \\frac{h^2}{2} + f'''(x) \\frac{h^3}{6} + \\cdots $$\n",
    "\n",
    "where we are expanding around $x = a = x$ so that $((x+h) - a) = (x+h-x) = h$.\n",
    " \n",
    "That is, we are expanding around $x$ and $h$ is a small step away from $x$."
   ]
  },
  {
   "cell_type": "markdown",
   "metadata": {},
   "source": [
    "Solve the Taylor series for $f'(x)$"
   ]
  },
  {
   "cell_type": "markdown",
   "metadata": {},
   "source": [
    "$$\\begin{align}\n",
    "f'(x) &= \\frac{f(x+h) - f(x)}{h} - \\frac{f''(x)}{2}h - \\frac{f'''(x)}{6} h^2 \\\\\n",
    "&= \\frac{f(x+h) - f(x)}{h} + \\mathcal{O}(h)\n",
    "\\end{align}$$"
   ]
  },
  {
   "cell_type": "markdown",
   "metadata": {},
   "source": [
    "The first term\n",
    "\n",
    "$$\\frac{f(x+h) - f(x)}{h}$$\n",
    "\n",
    "is the *forward difference approximation for the first derivative* and\n",
    "\n",
    "$$\\mathcal{O}(h)$$\n",
    "\n",
    "means the error is of order $h$ (size of error terms decreases linearly with $h$)."
   ]
  },
  {
   "cell_type": "markdown",
   "metadata": {},
   "source": [
    "### Deriving a backwards difference"
   ]
  },
  {
   "cell_type": "markdown",
   "metadata": {},
   "source": [
    "We could also rewrite the Taylor series as \n",
    "\n",
    "$$f(x-h) = f(x) - f'(x) h + f''(x) \\frac{h^2}{2} - f'''(x) \\frac{h^3}{6} + \\cdots $$\n",
    "\n",
    "( We replacing $h \\rightarrow -h$ )\n"
   ]
  },
  {
   "cell_type": "markdown",
   "metadata": {},
   "source": [
    "Solve the Taylor series for $f'(x)$"
   ]
  },
  {
   "cell_type": "markdown",
   "metadata": {},
   "source": [
    "$$\\begin{align}\n",
    "f'(x) &= \\frac{f(x) - f(x-h)}{h} - \\frac{f''(x)}{2}h + \\frac{f'''(x)}{6} h^2 \\\\\n",
    "&= \\frac{f(x) - f(x-h)}{h} + \\mathcal{O}(h)\n",
    "\\end{align}$$"
   ]
  },
  {
   "cell_type": "markdown",
   "metadata": {},
   "source": [
    "Now, the first term\n",
    "\n",
    "$$\\frac{f(x) - f(x-h)}{h}$$\n",
    "\n",
    "is the *backwards difference approximation for the first derivative* and\n",
    "\n",
    "$$\\mathcal{O}(h)$$\n",
    "\n",
    "means the error is of order $h$ (same order error as forward difference)."
   ]
  },
  {
   "cell_type": "markdown",
   "metadata": {},
   "source": [
    "### Deriving centred difference"
   ]
  },
  {
   "cell_type": "markdown",
   "metadata": {},
   "source": [
    "Substracting the Taylor series for $f(x+h)$ from the Taylor series for $f(x-h)$ gives\n",
    "\n",
    "$$ f(x+h) - f(x-h) = 2 f'(x) h + 2 f'''(x) \\frac{h^3}{6} + \\cdots$$"
   ]
  },
  {
   "cell_type": "markdown",
   "metadata": {},
   "source": [
    "Solving for $f'(x)$ gives\n",
    "\n",
    "$$ f'(x) = \\frac{ f(x+h) - f(x-h)}{2 h} + \\mathcal{O}(h^2) $$\n",
    "\n",
    "which shows that the *centred difference approximation for the first derivative* has error term on the order of $h^2$ (the size of the error term decreases quadratically with $h$)."
   ]
  },
  {
   "cell_type": "markdown",
   "metadata": {},
   "source": [
    "# ODE Solvers\n",
    "## Lecture 12"
   ]
  },
  {
   "cell_type": "markdown",
   "metadata": {},
   "source": [
    "## Runge-Kutta Methods\n",
    "\n",
    "The goal is to solve\n",
    "\n",
    "\\begin{align}\n",
    "\\frac{dy}{dt} = f(y,t), \\quad y(0) = y_0\n",
    "\\end{align}"
   ]
  },
  {
   "cell_type": "markdown",
   "metadata": {},
   "source": [
    "### Review of Euler's method\n",
    "\n",
    "We can approximate derivative with a **forward difference**\n",
    "\n",
    "\\begin{align}\n",
    " \\frac{dy}{dt} &= \\frac{y(t+\\Delta t) - y(t)}{\\Delta t} + \\mathcal{O}(\\Delta t) \\\\\n",
    " y(t+\\Delta t) &= y(t) + \\frac{dy}{dt}\\Delta t + \\mathcal{O}(\\Delta t^2) \n",
    "\\end{align}\n",
    "\n",
    "since $\\frac{dy}{dt} = f(y,t)$ we can write\n",
    "\n",
    "$$  y(t+\\Delta t) = y(t) + f(y,t) \\Delta t + \\mathcal{O}(\\Delta t^2) $$\n",
    "\n",
    "We say that Euler's method is accurate to *first-order* in $\\Delta t$ since it is equivalent to the Taylor series up to first order in $\\Delta t$."
   ]
  },
  {
   "cell_type": "markdown",
   "metadata": {},
   "source": [
    "### Midpoint Algorithm\n",
    "\n",
    "\\begin{align}\n",
    "s_1 &= f(y_i, t_i) \\\\\n",
    "y^* &= y_i + \\Delta t / 2 s_1 \\\\\n",
    "s_2 &= f(y^*, t_i + \\Delta t /2) \\\\\n",
    "y_{i+1} &= y_i + \\Delta t s_2\n",
    "\\end{align}"
   ]
  },
  {
   "cell_type": "markdown",
   "metadata": {},
   "source": [
    "Although the algorithm takes two steps, there is an order gain in accuracy. The error of the scheme is of order  $\\Delta t^2$. This means that decreasing the timestep  $\\Delta t$ by a factor of  2 decreases the error by a factor of 4. \n",
    "\n",
    "It also means that compared to the Euler scheme and for the same time step used the accuracy of the scheme is better.\n"
   ]
  },
  {
   "cell_type": "markdown",
   "metadata": {},
   "source": [
    "### Fourth-Order Runge-Kutta Method\n",
    "\n",
    "A very common scheme is the classical Fourth-Order Runge-Kutta formula.\n",
    "\n",
    "$$\n",
    "\\begin{align}\n",
    "    s_1 &= f(y_i, t_i,) \\\\\n",
    "    y_{1/2} &= y_i + s_1 \\Delta t /2 \\\\ \n",
    "    s_2 &= f(y_{1/2}, t + \\Delta t / 2) \\\\\n",
    "    y_{1/2}^* &= y_i + s_2 \\Delta t / 2  \\\\\n",
    "    s_3 &= f(y_{1/2}^*, t + \\Delta t / 2) \\\\\n",
    "    y^* &= y_i + s_3 \\Delta t  \\\\\n",
    "    s_4 &= f(y^*, t + \\Delta t) \\\\\n",
    "    y_{i+1} &= y_i  +  \\frac{\\Delta t}{6} (s_1+2 s_2+2s_3+s_4)\\\\\n",
    "\\end{align}\n",
    "$$\n",
    "\n",
    "The error of the scheme is of order  $\\Delta t^4$. This means that decreasing the timestep  $\\Delta t$ by a factor of 2 decreases the error by a factor of 16. It also means that compared to the Euler or midpoint schemes the accuracy is typically much better."
   ]
  },
  {
   "cell_type": "markdown",
   "metadata": {},
   "source": [
    "## Examples of Physical Systems"
   ]
  },
  {
   "cell_type": "markdown",
   "metadata": {},
   "source": [
    "Consider the following three mechanics problems:\n",
    "\n",
    "#### 1. Projective motion with quadratic air drag\n",
    "$$ \\begin{align}\n",
    "x' &= v_x  \\\\\n",
    "y' &= v_y  \\\\\n",
    "v_x' &= - C_2 v v_x / m \\\\\n",
    "v_y' &= -g - C_2 v v_y  /m\n",
    "\\end{align}\n",
    "$$\n",
    "\n",
    "#### 2. Proton in a magnetic field\n",
    "\\begin{align}\n",
    "x' &=  v_x   \\\\\n",
    "y' &= v_y    \\\\\n",
    "z' &=  v_z   \\\\\n",
    "v_x' &=  q v_y B / m\\\\\n",
    "v_y' &=  - q v_x B /m  \\\\\n",
    "v_z' &=  0\n",
    "\\end{align}\n",
    "\n",
    "##### 3. Duffing Oscillator\n",
    "\\begin{align}\n",
    "x' &= v \\\\\n",
    "v' &= - \\delta v - \\alpha x+\\beta x^{3} + \\gamma \\cos(\\omega t)\n",
    "\\end{align}\n",
    "\n",
    "where $x' = \\frac{d x}{d t}$ and $v' = \\frac{d v}{dt}$."
   ]
  },
  {
   "cell_type": "markdown",
   "metadata": {},
   "source": [
    "## General Dynamical System\n",
    "\n",
    "All of these example are of the same general form:\n",
    "\n",
    "$$\n",
    "\\begin{align}\n",
    "x' &= f_1(x, y, v_x, v_y,  t) \\\\\n",
    "y' &= f_2(x, y, v_x, v_y,  t) \\\\\n",
    "v_x' &= f_3(x, y, v_x, v_y, t) \\\\\n",
    "v_y' &= f_4(x, y, v_x, v_y, t) \\\\\n",
    "\\ldots\n",
    "\\end{align}\n",
    "$$\n",
    "\n",
    "For every variable that might be in and problem ($x, y, z, v_x, v_y, v_z, \\ldots$ and  perhaps others), the equations of motion gives its derivative with respect to time $t$ on the left hand side (LHS). On the right hand side (RHS) of each equation, there some function that depends (potentially) on all the variables and time, $t$.\n",
    "\n",
    "Some of these RHS functions might be pretty easy. For example, for the first equation with the Duffing Oscillator we have\n",
    "\n",
    "$$ f_1(x, v, t) = v$$\n",
    "\n",
    "or they could be much more complicated, such as the second equation with the Duffing Oscillator that is\n",
    "\n",
    "$$ f_2(x, v, t ) = - \\delta v - \\alpha x+\\beta x^{3} + \\gamma \\cos(\\omega t)$$\n",
    "\n",
    "This is example, $\\delta, \\alpha, \\beta, \\gamma, $ and $\\omega$ are *parameters* of the problem."
   ]
  },
  {
   "cell_type": "markdown",
   "metadata": {},
   "source": [
    "#### State vector"
   ]
  },
  {
   "cell_type": "markdown",
   "metadata": {},
   "source": [
    "The particular values of $x, y, v_x, v_y, \\ldots$ at any particular time $t$ define the *state* of the system.\n",
    "\n",
    "Let's introduce a new vector, called $\\vec{s}$ for *state*, that groups all of the these variables together:\n",
    "\n",
    "$$\n",
    "\\vec{s} = (x, y, v_x, v_y) \n",
    "$$ \n",
    "\n",
    "This allows us to write our system of equations in a slightly more compact form:\n",
    "\n",
    "$$\n",
    "\\begin{align}\n",
    "x' &= f_1(\\vec{s}, t)\\;\\\\\n",
    "v' &= f_2(\\vec{s}, t) \\\\\n",
    "\\ldots\n",
    "\\end{align}\n",
    "$$"
   ]
  },
  {
   "cell_type": "markdown",
   "metadata": {},
   "source": [
    "We can be even more compact if we consider the vector-valued functions. Define the vector-valued function $F$ such that\n",
    "\n",
    "$$ \\vec{F}(\\vec{s}, t)  =  \\left(f_1( \\vec{s}, t),\\; f_2( \\vec{s}, t),\\; \\ldots \\right)\\;.$$\n",
    "\n",
    "That allows us to write us our equation of motion as\n",
    "\n",
    "$$ \\frac{d \\vec{s}}{dt}  = \\vec{F}(\\vec{s}, t) $$\n",
    "\n",
    "where we return to the notation $\\frac{d}{dt}$ for readability."
   ]
  },
  {
   "cell_type": "markdown",
   "metadata": {},
   "source": [
    "#### Parameter vector\n",
    "\n",
    "If we want to include parameters, say for\n",
    "\n",
    "$$f_2( x, v, t ; \\delta, \\alpha, \\beta, \\gamma, \\omega) = - \\delta v - \\alpha x+\\beta x^{3} + \\gamma \\cos(\\omega t)$$\n",
    "\n",
    "we can use a semi-color ';' to indicate that the parameters are part of the function but not in the domain of the function.\n",
    "\n",
    "If we introduce a vector for the parameters, $\\vec{p}$, then using\n",
    "\n",
    "$$ \\vec{p} = (\\delta, \\alpha, \\beta, \\gamma, \\omega) $$\n",
    "\n",
    "allows us to write\n",
    "\n",
    "$$f_2( \\vec{s}, t ; \\vec{p})$$\n",
    "\n",
    "and therefore\n",
    "\n",
    "$$ \\frac{d \\vec{s}}{d t} = \\vec{F}(\\vec{s}, t; \\vec{p}) $$"
   ]
  },
  {
   "cell_type": "markdown",
   "metadata": {},
   "source": [
    "#### Initial conditions\n",
    "\n",
    "To complete solve a dynamical system we all need *initial conditions*.  That is, values of each of our variables for at some initial time $t = t_0$.  Suppose we have\n",
    "\n",
    "$$\\begin{align}\n",
    "x(t_0) &= x_0 \\\\\n",
    "y(t_0) &= y_0 \\\\\n",
    "v_x(t_0) &= v_{x,0} \\\\\n",
    "v_y(t_0) &= v_{y,0} \\\\\n",
    "\\ldots\n",
    "\\end{align}\n",
    "$$\n",
    "\n",
    "then we can compactly write this as\n",
    "\n",
    "$$ \\vec{s_0} = (x_0, y_0, v_{x,0}, v_{y,0})\\;. $$\n",
    "\n",
    "Therefore any dynamical system we have seen so far can be written as\n",
    "\n",
    "$$\n",
    "\\begin{align}\n",
    "\\frac{d \\vec{s} }{dt} &= \\vec{F}(\\vec{s}, t; \\vec{p}) \\\\\n",
    "\\vec{s}(t_0) &= \\vec{s_0}\n",
    "\\end{align}\n",
    "$$\n",
    "\n",
    "where \n",
    "\n",
    "- $\\vec{s}$ is the state vector describing the system\n",
    "- $\\vec{F}$ is the vector valued function of all the right sides\n",
    "- $\\vec{p}$ are the parameters used (if any), and \n",
    "- $\\vec{s_0}$ are the initial conditions"
   ]
  },
  {
   "cell_type": "markdown",
   "metadata": {},
   "source": [
    "### A General Euler Method Stepper\n",
    "\n",
    "With this general notation for any dynamical system, we can write one `EulerStepper()` function that solves any set of equations of motion with one reusable code."
   ]
  },
  {
   "cell_type": "code",
   "execution_count": null,
   "metadata": {},
   "outputs": [],
   "source": [
    "def EulerStepper( F = lambda s, t, p: s,  \n",
    "                  s0 = [],\n",
    "                  t0 = 0,\n",
    "                  p = [],\n",
    "                  dt = 0.1, \n",
    "                  tmax = 1,\n",
    "                ):\n",
    "    \"\"\"\n",
    "    Solve the system \n",
    "    \n",
    "      ds/dt = F(s, t; p)\n",
    "      s(t0) = s0\n",
    "      \n",
    "    where s is a state vector dictionary\n",
    "      and p are any required parameters\n",
    "    \n",
    "    using a time step dt up to tmax\n",
    "    \n",
    "    yields back the dictionary the current state and time)\n",
    "    \"\"\"\n",
    "    \n",
    "    #### Initialize the state and time\n",
    "    s = np.array(s0)\n",
    "    t = t0\n",
    "\n",
    "    while t < tmax:\n",
    "        # prepare to send the results back\n",
    "        r = list(s)\n",
    "        r.append(t)\n",
    "        yield r\n",
    "        \n",
    "        # estimate the derivative\n",
    "        ds = F(s, t, p)\n",
    "\n",
    "        # update the state\n",
    "        s = s + ds*dt\n",
    "        \n",
    "        t = t + dt"
   ]
  },
  {
   "cell_type": "markdown",
   "metadata": {},
   "source": [
    "We can then use this Euler stepper to solve the projectile problem with air drag."
   ]
  },
  {
   "cell_type": "markdown",
   "metadata": {},
   "source": [
    "$$ \\begin{align}\n",
    "x' &= v_x  \\\\\n",
    "y' &= v_y  \\\\\n",
    "v_x' &= - C_2 v v_x / m \\\\\n",
    "v_y' &= -g - C_2 v v_y  /m\n",
    "\\end{align}\n",
    "$$\n"
   ]
  },
  {
   "cell_type": "code",
   "execution_count": null,
   "metadata": {},
   "outputs": [],
   "source": [
    "def F_projectile(s, t, p):\n",
    "    \"\"\"Equations for projectile with air drag\"\"\"\n",
    "    \n",
    "    # unpack state vector\n",
    "    x, y, vx, vy = s\n",
    "    \n",
    "    # unpack parameters vector\n",
    "    g, C2, m = p\n",
    "    \n",
    "    v = np.sqrt(vx**2 + vy**2)\n",
    "    \n",
    "    # compute derivatives\n",
    "    ds = [ vx, \n",
    "           vy,\n",
    "          -C2*v*vx/m,\n",
    "          -g -C2*v*vy/m ]\n",
    "    \n",
    "    return np.array(ds)"
   ]
  },
  {
   "cell_type": "code",
   "execution_count": null,
   "metadata": {},
   "outputs": [],
   "source": [
    "def ProjectileApp():\n",
    "    \n",
    "    tmax = 0.4\n",
    "    dt = 0.01\n",
    "    \n",
    "    # initial conditions\n",
    "    x0 = 0\n",
    "    y0 = 10\n",
    "    vx0 = 30\n",
    "    vy0 = 0\n",
    "\n",
    "    # parameters\n",
    "    g = 9.81\n",
    "    C2 = 0.4\n",
    "    m = 2\n",
    "    \n",
    "    # intial state vector\n",
    "    s0 = [x0, y0, vx0, vy0]\n",
    "    # parameters vector\n",
    "    p = [g, C2, m]\n",
    "\n",
    "    stepper = EulerStepper(F_projectile, s0=s0, p=p, \n",
    "                           tmax=tmax, dt=dt)\n",
    "    data = pd.DataFrame(stepper,\n",
    "                        columns = ['x', 'y', 'vx', 'vy', 't'])\n",
    "    return data"
   ]
  },
  {
   "cell_type": "code",
   "execution_count": null,
   "metadata": {},
   "outputs": [],
   "source": [
    "data = ProjectileApp()\n",
    "plt.plot(data.x, data.y, '.-')\n",
    "plt.xlabel('x')\n",
    "plt.ylabel('y')"
   ]
  },
  {
   "cell_type": "markdown",
   "metadata": {},
   "source": [
    "- - -\n",
    "### Discussion:\n",
    "\n",
    "State and parameters vectors are being exchanged as NumPy arrays.  The order of the variables is really important.\n",
    "- - - "
   ]
  },
  {
   "cell_type": "markdown",
   "metadata": {},
   "source": [
    "We can use the same numerical method to solve for the motion of a proton in a magnetic field:\n",
    "\n",
    "\\begin{align}\n",
    "x' &=  v_x   \\\\\n",
    "y' &= v_y    \\\\\n",
    "z' &=  v_z   \\\\\n",
    "v_x' &=  q v_y B / m\\\\\n",
    "v_y' &=  - q v_x B /m  \\\\\n",
    "v_z' &=  0\n",
    "\\end{align}"
   ]
  },
  {
   "cell_type": "code",
   "execution_count": null,
   "metadata": {},
   "outputs": [],
   "source": [
    "def F_proton(s, t, p):\n",
    "    \"\"\"Equations for proton in a magnetic field\"\"\"\n",
    "    \n",
    "    # unpack state vector\n",
    "    x, y, z, vx, vy, vz = s\n",
    "    \n",
    "    # unpack parameters vector\n",
    "    q, B, m = p\n",
    "    \n",
    "    ds = [ vx, vy, vz,\n",
    "           q*vy*B/m, -q*vx*B/m, 0 ] \n",
    "    \n",
    "    return np.array(ds)"
   ]
  },
  {
   "cell_type": "code",
   "execution_count": null,
   "metadata": {},
   "outputs": [],
   "source": [
    "def ProtonApp():\n",
    "    \n",
    "    tmax = 1e-6   # length of simulation, s\n",
    "    dt = 1e-9\n",
    "    \n",
    "    x0 = 0\n",
    "    y0 = 0\n",
    "    z0 = 0\n",
    "    vx0 = 4.7e6   # initial horizontal velocity, m/s\n",
    "    vy0 = 0\n",
    "    vz0 = 1e6     # initial 'out-of-page' velocity, m/s\n",
    "    \n",
    "    q = 1.602e-19 # charge, C\n",
    "    m = 1.67e-27  # mass of particle, kg\n",
    "    B = 0.35      # magnetic field, T\n",
    "\n",
    "    # intial state\n",
    "    s0 = [x0, y0, z0, vx0, vy0, vz0]\n",
    "\n",
    "    # parameters\n",
    "    p = [q, B, m]\n",
    "\n",
    "    stepper = EulerStepper(F_proton, s0=s0, p=p, \n",
    "                           tmax=tmax, dt=dt)\n",
    "    \n",
    "    data = pd.DataFrame(stepper, \n",
    "                        columns = ['x', 'y', 'z', 'vx', 'vy', 'vz', 't'])\n",
    "    \n",
    "    return data"
   ]
  },
  {
   "cell_type": "code",
   "execution_count": null,
   "metadata": {},
   "outputs": [],
   "source": [
    "data = ProtonApp()\n",
    "fig = plt.figure(figsize=(10,8))\n",
    "ax = fig.add_subplot(projection='3d')\n",
    "\n",
    "plt.plot(data.z, data.x, data.y, color='k')\n",
    "\n",
    "ax.set_xlabel('z (m)')\n",
    "ax.set_ylabel('x (m)')\n",
    "ax.set_zlabel('y (m)') "
   ]
  },
  {
   "cell_type": "markdown",
   "metadata": {},
   "source": [
    "This abstraction allows us to not have to reimplement the numerical method for each new problem. Alternatively, we can easily try a new numerical algorithm without having to recode the physical problem.\n",
    "\n",
    "For the proton in a magnetic fields, the proton should be tracing out a helix pattern. Let's switch to a better numerical algorithm."
   ]
  },
  {
   "cell_type": "code",
   "execution_count": null,
   "metadata": {},
   "outputs": [],
   "source": [
    "def MidpointStepper( F = lambda s, t, p: s,  \n",
    "                     s0 = [],\n",
    "                     t0 = 0,\n",
    "                     p = [],\n",
    "                     dt = 0.1, \n",
    "                     tmax = 1,\n",
    "                   ):\n",
    "    \"\"\" \n",
    "    Solve the system \n",
    "    \n",
    "      ds/dt = F(s, t; p)\n",
    "      s(t0) = s0\n",
    "      \n",
    "    where s is a state vector dictionary\n",
    "      and p are any required parameters\n",
    "    \n",
    "    using a time step dt up to tmax\n",
    "    \n",
    "    yields back the dictionary r (current state and time)\n",
    "    \"\"\"\n",
    "    \n",
    "    #### Initialize the state and time\n",
    "    s = np.array(s0)\n",
    "    t = t0\n",
    "\n",
    "    while t < tmax:\n",
    "        # prepare to send the results back\n",
    "        r = list(s)\n",
    "        r.append(t)\n",
    "        yield r\n",
    "        \n",
    "        # estimate the derivative\n",
    "        ds1 = F(s, t, p)\n",
    "\n",
    "        # estimate the midpoint\n",
    "        s1 = s + ds1*dt/2\n",
    "        \n",
    "        # estimate the derivative at the mid-point\n",
    "        ds2 = F(s1, t+dt/2, p)\n",
    "        \n",
    "        # update the state vector\n",
    "        s = s + ds2*dt\n",
    "        \n",
    "        t = t + dt"
   ]
  },
  {
   "cell_type": "markdown",
   "metadata": {},
   "source": [
    "The only change in the application we need to make is name of the stepper that we need to call:"
   ]
  },
  {
   "cell_type": "code",
   "execution_count": null,
   "metadata": {},
   "outputs": [],
   "source": [
    "def ProtonApp():\n",
    "    \n",
    "    tmax = 1e-6   # length of simulation, s\n",
    "    dt = 1e-9\n",
    "    \n",
    "    x0 = 0\n",
    "    y0 = 0\n",
    "    z0 = 0\n",
    "    vx0 = 4.7e6   # initial horizontal velocity, m/s\n",
    "    vy0 = 0\n",
    "    vz0 = 1e6     # initial 'out-of-page' velocity, m/s\n",
    "    \n",
    "    q = 1.602e-19 # charge, C\n",
    "    m = 1.67e-27  # mass of particle, kg\n",
    "    B = 0.35      # magnetic field, T\n",
    "\n",
    "    # intial state\n",
    "    s0 = [x0, y0, z0, vx0, vy0, vz0]\n",
    "\n",
    "    # parameters\n",
    "    p = [q, B, m]\n",
    "\n",
    "    stepper = MidpointStepper(F_proton, s0=s0, p=p, \n",
    "                           tmax=tmax, dt=dt)\n",
    "    \n",
    "    data = pd.DataFrame(stepper, \n",
    "                        columns = ['x', 'y', 'z', 'vx', 'vy', 'vz', 't'])\n",
    "    return data"
   ]
  },
  {
   "cell_type": "code",
   "execution_count": null,
   "metadata": {},
   "outputs": [],
   "source": [
    "data = ProtonApp()\n",
    "fig = plt.figure(figsize=(10,8))\n",
    "ax = fig.add_subplot(projection='3d')\n",
    "\n",
    "plt.plot(data.z, data.x, data.y, color='k')\n",
    "\n",
    "ax.set_xlabel('z (m)')\n",
    "ax.set_ylabel('x (m)')\n",
    "ax.set_zlabel('y (m)') "
   ]
  },
  {
   "cell_type": "markdown",
   "metadata": {},
   "source": [
    "A much better with result with the same size time step!"
   ]
  },
  {
   "cell_type": "markdown",
   "metadata": {},
   "source": [
    "Even cleaner is if we didn't have to rewrite the main application / driver program at all."
   ]
  },
  {
   "cell_type": "code",
   "execution_count": null,
   "metadata": {},
   "outputs": [],
   "source": [
    "def ProtonApp(Stepper=EulerStepper):\n",
    "    \n",
    "    tmax = 1e-6   # length of simulation, s\n",
    "    dt = 1e-9\n",
    "    \n",
    "    x0 = 0\n",
    "    y0 = 0\n",
    "    z0 = 0\n",
    "    vx0 = 4.7e6   # initial horizontal velocity, m/s\n",
    "    vy0 = 0\n",
    "    vz0 = 1e6     # initial 'out-of-page' velocity, m/s\n",
    "    \n",
    "    q = 1.602e-19 # charge, C\n",
    "    m = 1.67e-27  # mass of particle, kg\n",
    "    B = 0.35      # magnetic field, T\n",
    "\n",
    "    # intial state\n",
    "    s0 = [x0, y0, z0, vx0, vy0, vz0]\n",
    "\n",
    "    # parameters\n",
    "    p = [q, B, m]\n",
    "\n",
    "    stepper = Stepper(F_proton, s0=s0, p=p, \n",
    "                           tmax=tmax, dt=dt)\n",
    "    \n",
    "    data = pd.DataFrame(stepper, \n",
    "                        columns = ['x', 'y', 'z', 'vx', 'vy', 'vz', 't'])\n",
    "\n",
    "    return data"
   ]
  },
  {
   "cell_type": "markdown",
   "metadata": {},
   "source": [
    "Now we can quickly run the program with either numerical models to see the differences:"
   ]
  },
  {
   "cell_type": "code",
   "execution_count": null,
   "metadata": {},
   "outputs": [],
   "source": [
    "data_euler = ProtonApp(Stepper=EulerStepper)\n",
    "data_midpoint = ProtonApp(Stepper=MidpointStepper)\n",
    "data_RK4 = ProtonApp(Stepper=RK4Stepper)\n",
    "\n",
    "fig = plt.figure(figsize=(10,8))\n",
    "ax = fig.add_subplot(projection='3d')\n",
    "    \n",
    "plt.plot(data_euler.z, data_euler.x, data_euler.y, color='r', label='Euler')\n",
    "plt.plot(data_midpoint.z, data_midpoint.x, data_midpoint.y, color='b', label='Midpoint')\n",
    "plt.plot(data_RK4.z, data_RK4.x, data_RK4.y, color='g', label='RK4')\n",
    "plt.legend()\n",
    "\n",
    "ax.set_xlabel('z (m)')\n",
    "ax.set_ylabel('x (m)')\n",
    "ax.set_zlabel('y (m)') \n",
    "plt.show()"
   ]
  },
  {
   "cell_type": "code",
   "execution_count": null,
   "metadata": {},
   "outputs": [],
   "source": [
    "def RK4Stepper( F = lambda s, t, p: s,  \n",
    "                     s0 = [],\n",
    "                     t0 = 0,\n",
    "                     p = [],\n",
    "                     dt = 0.1, \n",
    "                     tmax = 1,\n",
    "                   ):\n",
    "    \"\"\" \n",
    "    Solve the system \n",
    "    \n",
    "      ds/dt = F(s, t; p)\n",
    "      s(t0) = s0\n",
    "      \n",
    "    where s is a state vector dictionary\n",
    "      and p are any required parameters\n",
    "    \n",
    "    using a time step dt up to tmax\n",
    "    \n",
    "    yields back the dictionary r (current state and time)\n",
    "    \"\"\"\n",
    "    \n",
    "    #### Initialize the state and time\n",
    "    s = np.array(s0)\n",
    "    t = t0\n",
    "\n",
    "    while t < tmax:\n",
    "        # prepare to send the results back\n",
    "        r = list(s)\n",
    "        r.append(t)\n",
    "        yield r\n",
    "        \n",
    "        ## CAREFUL s1 meant slope, but here we are using s for state!!\n",
    "        \n",
    "        # s1 = f(y[i], t[i])\n",
    "        ds1 = F(s, t, p)\n",
    "        \n",
    "        # y1 = y[i] + s1 * dt/2\n",
    "        s1 = s + ds1*dt/2\n",
    "        \n",
    "        # s2 = f(y1, t[i] + dt/2)\n",
    "        ds2 = F(s1, t + dt/2, p)\n",
    "        \n",
    "        # y2 = y[i] + s2 * dt/2\n",
    "        s2 = s + ds2*dt/2\n",
    "        \n",
    "        # s3 = f(y2, t[i] + dt/2)\n",
    "        ds3 = F(s2, t + dt/2, p)\n",
    "        \n",
    "        # y3 = y[i] + s3 * dt\n",
    "        s3 = s + ds3*dt\n",
    "        \n",
    "        # s4 = f(y3, t[i] + dt)\n",
    "        ds4 = F(s3, t + dt, p)\n",
    "        \n",
    "        # y[i+1] = y[i] + (s1 + 2*s2 + 2*s3 + s4)/6*dt\n",
    "        s = s + (ds1 + 2*ds2 + 2*ds3 + ds4)/6*dt\n",
    "        \n",
    "        t = t + dt"
   ]
  },
  {
   "cell_type": "markdown",
   "metadata": {},
   "source": [
    "# Data Analysis and Curve Fitting\n",
    "## Lecture 13"
   ]
  },
  {
   "cell_type": "markdown",
   "metadata": {},
   "source": [
    "# Best fits with polynomials"
   ]
  },
  {
   "cell_type": "markdown",
   "metadata": {},
   "source": [
    "### Example 1"
   ]
  },
  {
   "cell_type": "markdown",
   "metadata": {},
   "source": [
    "Suppose an experiment measuring the height $y$ and time $t$ of a ball being thrown upwards is performed and the following data is generated:"
   ]
  },
  {
   "cell_type": "code",
   "execution_count": null,
   "metadata": {},
   "outputs": [],
   "source": [
    "df = pd.DataFrame([[0,1.302], [0.03333,1.411],[0.06667,1.5],[0.1,1.578],\n",
    "                    [0.1333,1.646],[0.1667,1.703],[0.2,1.745],[0.2333,1.781],\n",
    "                    [0.2667,1.807],[0.3,1.828],[0.3333,1.818],[0.3667,1.818],\n",
    "                    [0.4,1.807],[0.4333,1.776],[0.4667,1.734],[0.5,1.682],\n",
    "                    [0.5333,1.63],[0.567,1.552],[0.6,1.469],[0.6333,1.37],\n",
    "                    [0.667,1.266],[0.7,1.151],[0.733,1.026],[0.7667,0.875],\n",
    "                    [0.8,0.719],[0.8333,0.557],[0.867,0.385],[0.9,0.193],\n",
    "                    [0.9333,0.005]], columns=['t', 'y'])"
   ]
  },
  {
   "cell_type": "markdown",
   "metadata": {},
   "source": [
    "This data is stored as a Pandas DataFrame, `df`."
   ]
  },
  {
   "cell_type": "code",
   "execution_count": null,
   "metadata": {},
   "outputs": [],
   "source": [
    "df"
   ]
  },
  {
   "cell_type": "markdown",
   "metadata": {},
   "source": [
    "We can plot the data"
   ]
  },
  {
   "cell_type": "code",
   "execution_count": null,
   "metadata": {
    "scrolled": false
   },
   "outputs": [],
   "source": [
    "plt.plot (df.t, df.y, '.')\n",
    "plt.xlabel('Time (s)')\n",
    "plt.ylabel('Position (m)')\n",
    "plt.title('Ball thrown upward')\n",
    "plt.show()"
   ]
  },
  {
   "cell_type": "markdown",
   "metadata": {},
   "source": [
    "In experimental Physics curve fitting is an important statistical tool for analyzing data and quantifying correlations between variables. \n",
    "The command `np.polyfit` finds the parameters of a polynomial by doing a best fit, in the least squares sense, of the function on a set of data. \n",
    "\n",
    "For example, we can fit a quadratic to the ball data like this:"
   ]
  },
  {
   "cell_type": "code",
   "execution_count": null,
   "metadata": {},
   "outputs": [],
   "source": [
    "p = np.polyfit(df.t, df.y, 2)"
   ]
  },
  {
   "cell_type": "markdown",
   "metadata": {},
   "source": [
    "The third argument is the degree of the polynomial fit; for a quadratic the degree is 2.  Notice the funciton `np.polyfit` returns an array of three numbers\n",
    "\n",
    "This are the coefficients of a polynomial\n",
    "\n",
    "$$P(t) = a t^2 + b t + c$$ "
   ]
  },
  {
   "cell_type": "markdown",
   "metadata": {},
   "source": [
    "Since it is very common operation to evaluate a polynomial, there is function called `np.polyval` "
   ]
  },
  {
   "cell_type": "code",
   "execution_count": null,
   "metadata": {},
   "outputs": [],
   "source": [
    "y_fit = np.polyval(p, df.t)"
   ]
  },
  {
   "cell_type": "markdown",
   "metadata": {},
   "source": [
    "which gives exactly the same thing"
   ]
  },
  {
   "cell_type": "code",
   "execution_count": null,
   "metadata": {
    "scrolled": false
   },
   "outputs": [],
   "source": [
    "plt.plot(df.t, df.y, '.')\n",
    "plt.plot(df.t, y_fit, '-') \n",
    "plt.xlabel('Time (s)')\n",
    "plt.ylabel('Position (m)')\n",
    "plt.title('Ball thrown upward')\n",
    "plt.show()"
   ]
  },
  {
   "cell_type": "markdown",
   "metadata": {},
   "source": [
    "## Application of Fitting\n",
    "\n",
    "There is a data file that you should download along with this exercise called `falling_object.dat` that has two columns.  The first column contains time (s) and the second contains height (m).\n",
    "\n",
    "a) Load the data into a data frame and plot the height as a function of time."
   ]
  },
  {
   "cell_type": "code",
   "execution_count": null,
   "metadata": {
    "scrolled": true
   },
   "outputs": [],
   "source": [
    "df = pd.read_csv('data/falling_object.csv')"
   ]
  },
  {
   "cell_type": "code",
   "execution_count": null,
   "metadata": {},
   "outputs": [],
   "source": [
    "df.head()"
   ]
  },
  {
   "cell_type": "code",
   "execution_count": null,
   "metadata": {},
   "outputs": [],
   "source": [
    "plt.plot(df.t, df.y, '.')\n",
    "plt.xlabel('time (s)')\n",
    "plt.ylabel('height (m)')\n",
    "plt.title('Falling Object')\n",
    "plt.show()"
   ]
  },
  {
   "cell_type": "markdown",
   "metadata": {},
   "source": [
    "b) Using the centred difference scheme, calculate and plot the velocity (but do not interpolate) as a function of time.  You should see the velocity approach a terminal value."
   ]
  },
  {
   "cell_type": "markdown",
   "metadata": {},
   "source": [
    "#### Centered scheme\n",
    "$$\\frac{df}{dt}(t_0) \\approx \\frac{f(t_0+\\Delta t)-f(t_0-\\Delta t)}{2\\Delta t}= \\frac{y_{i+1} - y_{i-1}}{t_{i+1} - t_{i-1}}$$"
   ]
  },
  {
   "cell_type": "code",
   "execution_count": null,
   "metadata": {},
   "outputs": [],
   "source": [
    "df['v'] = np.nan\n",
    "\n",
    "for i in range(1, len(df) - 1):\n",
    "    df.v[i] = (df.y[i+1] - df.y[i-1]) / (df.t[i+1] - df.t[i-1])"
   ]
  },
  {
   "cell_type": "code",
   "execution_count": null,
   "metadata": {},
   "outputs": [],
   "source": [
    "plt.plot(df.t, df.v, '.')\n",
    "plt.xlabel('time (s)')\n",
    "plt.ylabel('velocity (m/s)')\n",
    "plt.title('Falling Object')\n",
    "plt.show()"
   ]
  },
  {
   "cell_type": "markdown",
   "metadata": {},
   "source": [
    "c) Calculate and plot the acceleration of the falling object directly from the height data by using the centred scheme for the second derivative.  You should see the acceleration approach zero.  The acceleration graph looks noisy. This is because the original measurements contain some uncertainty and random noise. This noise gets amplified by taking derivatives."
   ]
  },
  {
   "cell_type": "markdown",
   "metadata": {},
   "source": [
    "#### Centered scheme for 2nd order derivative\n",
    "$$\\frac{d^2 f}{dt^2}(t_0) \\approx \\frac{f(t_0+\\Delta t)-2f(t_0)+f(t_0-\\Delta t)}{(\\Delta t)^2}=\\frac{y_{i+1} - 2y_i + y_{i+1}}{(t_{i+1} - t_{i})^2} $$\n"
   ]
  },
  {
   "cell_type": "code",
   "execution_count": null,
   "metadata": {},
   "outputs": [],
   "source": [
    "df['a'] = np.nan\n",
    "\n",
    "for i in range(1, len(df) - 1):\n",
    "    df.a[i] = (df.y[i+1] - 2*df.y[i] + df.y[i-1]) / (df.t[i+1]-df.t[i])**2"
   ]
  },
  {
   "cell_type": "code",
   "execution_count": null,
   "metadata": {},
   "outputs": [],
   "source": [
    "plt.plot(df.t, df.a, '.')\n",
    "plt.xlabel('time (s)')\n",
    "plt.ylabel('acceleration (m/s$^2$)')\n",
    "plt.title('Falling Object')\n",
    "plt.show()"
   ]
  },
  {
   "cell_type": "markdown",
   "metadata": {},
   "source": [
    "d)  Let's assume that the object experiences a drag force of $F= - b v$.  We will attempt to find $b$.  As usual, we'll begin with Newton's 2nd illustrious Law\n",
    "\n",
    "\\begin{align}\n",
    "F&=ma \\\\\n",
    "ma &= -bv -mg\n",
    "\\end{align}\n",
    " \n",
    " Aha!\n",
    "\n",
    "If we plot the quantity $ma$ as a function of $-v$, the graph should be a straight line (with noise) with intercept $-mg$ and having slope equal to $b$."
   ]
  },
  {
   "cell_type": "markdown",
   "metadata": {},
   "source": [
    "Make a plot of $m a$ vs $-v$.\n",
    "\n",
    "(The mass of the object is 0.2 kg, while acceleration due to gravity is approximately 9.81 m/s/s.  These values should jive with our intercept value. )"
   ]
  },
  {
   "cell_type": "code",
   "execution_count": null,
   "metadata": {},
   "outputs": [],
   "source": [
    "m = 0.2 # kg\n",
    "g = 9.81 # m/s^2"
   ]
  },
  {
   "cell_type": "code",
   "execution_count": null,
   "metadata": {},
   "outputs": [],
   "source": [
    "plt.plot(-df.v, m*df.a, 'o')\n",
    "plt.xlabel('-v (m/s)')\n",
    "plt.ylabel('m a (kg m/s$^2$)')\n",
    "plt.title('Falling Object')\n",
    "plt.show()"
   ]
  },
  {
   "cell_type": "markdown",
   "metadata": {},
   "source": [
    "e) Make a linear fit for the data in part (d) using `np.polyfit` command"
   ]
  },
  {
   "cell_type": "markdown",
   "metadata": {},
   "source": [
    "When we try and use `polyfit` we encounter a problem..."
   ]
  },
  {
   "cell_type": "code",
   "execution_count": null,
   "metadata": {},
   "outputs": [],
   "source": [
    "p = np.polyfit(-df.v, m*df.a, 1)\n",
    "print(p)"
   ]
  },
  {
   "cell_type": "markdown",
   "metadata": {},
   "source": [
    "The issue is that those `NaN`'s are not valid numbers to complete a least-square regression."
   ]
  },
  {
   "cell_type": "code",
   "execution_count": null,
   "metadata": {},
   "outputs": [],
   "source": [
    "df.head()"
   ]
  },
  {
   "cell_type": "markdown",
   "metadata": {},
   "source": [
    "One solution would be to remove all of the non-numbers from the dataframe."
   ]
  },
  {
   "cell_type": "code",
   "execution_count": null,
   "metadata": {},
   "outputs": [],
   "source": [
    "df = df.dropna()\n",
    "df.head()"
   ]
  },
  {
   "cell_type": "code",
   "execution_count": null,
   "metadata": {},
   "outputs": [],
   "source": [
    "p = np.polyfit(-df.v, m*df.a, 1)\n",
    "\n",
    "print(f\"{p[0]:.3f}, {p[1]:.3f}\")"
   ]
  },
  {
   "cell_type": "markdown",
   "metadata": {},
   "source": [
    "Another option would be to use a forward and backward difference to estimate the velocity and accleration at the end points."
   ]
  },
  {
   "cell_type": "markdown",
   "metadata": {},
   "source": [
    "f) Show both the fit line and the discrete data in single graph."
   ]
  },
  {
   "cell_type": "code",
   "execution_count": null,
   "metadata": {},
   "outputs": [],
   "source": [
    "plt.plot(-df.v, m*df.a, 'o')\n",
    "plt.plot(-df.v, np.polyval(p, -df.v))\n",
    "\n",
    "plt.xlabel('-v (m/s)')\n",
    "plt.ylabel('m a (kg m/s$^2$)')\n",
    "plt.title('Falling Object')\n",
    "plt.show()"
   ]
  },
  {
   "cell_type": "markdown",
   "metadata": {},
   "source": [
    "g) Consider the parameters of the best fit"
   ]
  },
  {
   "cell_type": "code",
   "execution_count": null,
   "metadata": {},
   "outputs": [],
   "source": [
    "print(f\"{p[0]:.3f}, {p[1]:.3f}\")"
   ]
  },
  {
   "cell_type": "markdown",
   "metadata": {},
   "source": [
    "The slope of this line is $b$ (units of kg/s$^2$)"
   ]
  },
  {
   "cell_type": "code",
   "execution_count": null,
   "metadata": {},
   "outputs": [],
   "source": [
    "b = p[0]\n",
    "print(f\"{b:.3f}\")"
   ]
  },
  {
   "cell_type": "markdown",
   "metadata": {},
   "source": [
    "And the intercept is $-mg$ (units of kg m /s$^2$)"
   ]
  },
  {
   "cell_type": "code",
   "execution_count": null,
   "metadata": {},
   "outputs": [],
   "source": [
    "print (f\"{p[1]:.3f}\")"
   ]
  },
  {
   "cell_type": "markdown",
   "metadata": {},
   "source": [
    "Let's compare the intercept value with what we expect it to be ($-mg$).\n"
   ]
  },
  {
   "cell_type": "code",
   "execution_count": null,
   "metadata": {},
   "outputs": [],
   "source": [
    "print(f\"{-m*g:.3f}\")"
   ]
  },
  {
   "cell_type": "markdown",
   "metadata": {},
   "source": [
    "Golden!"
   ]
  }
 ],
 "metadata": {
  "kernelspec": {
   "display_name": "Python 3",
   "language": "python",
   "name": "python3"
  },
  "language_info": {
   "codemirror_mode": {
    "name": "ipython",
    "version": 3
   },
   "file_extension": ".py",
   "mimetype": "text/x-python",
   "name": "python",
   "nbconvert_exporter": "python",
   "pygments_lexer": "ipython3",
   "version": "3.6.7"
  }
 },
 "nbformat": 4,
 "nbformat_minor": 2
}
