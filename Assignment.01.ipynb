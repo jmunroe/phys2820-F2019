{
 "cells": [
  {
   "cell_type": "markdown",
   "metadata": {
    "slideshow": {
     "slide_type": "slide"
    }
   },
   "source": [
    "# Assignment 1\n",
    "\n",
    "Due: Sunday, September 22, 2019"
   ]
  },
  {
   "cell_type": "markdown",
   "metadata": {},
   "source": [
    "Please complete all parts of this assignment within this notebook. You may either leave the notebook file on the JupyterHub server (where it will be collected automatically on the due date) or it may be uploaded to the D2L Dropbox if you choose not to work on the JupyterHub server."
   ]
  },
  {
   "cell_type": "markdown",
   "metadata": {},
   "source": [
    "Use both Python code cells and Jupyter Markdown cells to complete the following exercises. Place your solution immediately after the corresponding question."
   ]
  },
  {
   "cell_type": "code",
   "execution_count": 2,
   "metadata": {},
   "outputs": [],
   "source": [
    "%matplotlib inline\n",
    "import matplotlib.pyplot as plt\n",
    "import numpy as np\n",
    "import pandas as pd\n",
    "from ipywidgets import interactive"
   ]
  },
  {
   "cell_type": "markdown",
   "metadata": {},
   "source": [
    "- - -\n",
    "\n",
    "### A. **Exercise 2.1** A simple example\n",
    "Consider the first-order differential equation\n",
    "$$\\frac{\\mathrm{d}y}{\\mathrm{d}x} = f(x)$$\n",
    "\n",
    "where $f(x)$ is a function of $x$. The approximate solution as given by the Euler algorithm is\n",
    "\n",
    "$$ y_{n+1} = y_n + f(x_n) \\Delta x.$$\n",
    "Note that the rate of change of $y$ has been approximated by its value the *beginning of the interval*, $f(x_n)$\n",
    "\n",
    "a. Suppose that $f(x) = 2x$ and $y(x=0) = 0$. The analytical solution is $y(x) = x^2$, which we can confirm by taking the derivative of $y(x)$.\n",
    "Convert the first-order differential equation into a finite difference equatino using the Euler algorithm. For simplicity, choose $\\Delta x = 0.1$. It may be a good idea to first use a calculator or pencil and paper to determine $y_n$ for the first several time steps.\n",
    "\n",
    "b. Plot the difference between the exact solution and the approximate solution given by the Euler algorithm. What condition would the rate of change, $f(x)$, have to satisfy for the Euler algorithm to give the exact answer?\n",
    "\n",
    "- - -"
   ]
  },
  {
   "cell_type": "code",
   "execution_count": null,
   "metadata": {},
   "outputs": [],
   "source": []
  },
  {
   "cell_type": "markdown",
   "metadata": {},
   "source": [
    "- - -\n",
    "\n",
    "### B. **Exercise 2.6** Summing a series\n",
    "\n",
    "a. Write a program to sum the following series for a given value of $N$:\n",
    "\n",
    "$$S = \\sum_{m=1}^N \\frac{1}{m^2}$$\n",
    "The following statements may be useful\n",
    "\n",
    "```\n",
    "sum = 0\n",
    "for m in range(1, N+1):\n",
    "    sum = sum + 1/(m*m)\n",
    "```\n",
    "\n",
    "Note that in this case it is more convenient to start the loop from $m=1$ instead of $m=0.$ We also need to set the stop for the loop at `N+1` because `range()` goes up to, but not including, the stop value.\n",
    "\n",
    "\n",
    "b. First run your program with $N=10$. Then run for larger values of $N$. Does the series converge as $N \\rightarrow \\infty$? What value of $N$ \n",
    "is needed to obtain $S$ to within two decimal places? \n",
    "\n",
    "c. Modify your program so that it uses a while loop so that the summation continues until the added term to the sum is less than some value $\\epsilon$. Run your program for $\\epsilon = 10^{-2}$, $10^{-3}$, and $10^{-6}$.\n",
    "\n",
    "d. Instead of using the `=` operator in the statement \n",
    "\n",
    "```\n",
    "sum = sum + 1.0/(m*m)\n",
    "```\n",
    "\n",
    "use the equivalent operator\n",
    "\n",
    "```\n",
    "sum += 1.0/(m**2)\n",
    "```\n",
    "\n",
    "Check that you obtain the same results.\n",
    "\n",
    "- - -"
   ]
  },
  {
   "cell_type": "code",
   "execution_count": null,
   "metadata": {},
   "outputs": [],
   "source": []
  },
  {
   "cell_type": "markdown",
   "metadata": {},
   "source": [
    "- - -\n",
    "### C. **Exercise** Model a falling ball\n",
    "\n",
    "a. Write a new program called `FallingBallApp` that models and then plots the vertical position verus time for a falling ball under gravity that stops when it hits the ground.  You will need to create a new function `FallingBallStepper` that yields the output at every time step. Your program should call a new function `FallingBallPlot` that plots both the numerical results **and** the analytical solution for all time steps. Be sure to include a legend and label your axes. Run your program in a Jupyter notebook to show your plot.\n",
    "\n",
    "b. Modify your `FallingBallApp` program so that it take a single argument `dt` to set the time step.  Make your program interactive (`from ipywidgets import interactive`) to explore how the numerical solution differs from the analytical solution. How much smaller does $\\Delta t$ have to be to reduce the error in the numerical results by a factor of two for the same final time? What about a factor of four? How does the error depend on $\\Delta t$?\n",
    "- - -"
   ]
  },
  {
   "cell_type": "code",
   "execution_count": null,
   "metadata": {},
   "outputs": [],
   "source": []
  }
 ],
 "metadata": {
  "kernelspec": {
   "display_name": "Python 3",
   "language": "python",
   "name": "python3"
  },
  "language_info": {
   "codemirror_mode": {
    "name": "ipython",
    "version": 3
   },
   "file_extension": ".py",
   "mimetype": "text/x-python",
   "name": "python",
   "nbconvert_exporter": "python",
   "pygments_lexer": "ipython3",
   "version": "3.6.7"
  }
 },
 "nbformat": 4,
 "nbformat_minor": 2
}
