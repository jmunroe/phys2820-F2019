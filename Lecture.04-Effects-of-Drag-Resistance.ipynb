{
 "cells": [
  {
   "cell_type": "markdown",
   "metadata": {
    "slideshow": {
     "slide_type": "slide"
    }
   },
   "source": [
    "# Effects of Drag Resistance\n",
    "## Lecture 4"
   ]
  },
  {
   "cell_type": "markdown",
   "metadata": {},
   "source": [
    "Going forward with the course, we will start every Jupyter notebook by importating commonly used libraries."
   ]
  },
  {
   "cell_type": "code",
   "execution_count": null,
   "metadata": {},
   "outputs": [],
   "source": [
    "%matplotlib inline\n",
    "import matplotlib.pyplot as plt\n",
    "import numpy as np\n",
    "import pandas as pd\n",
    "from ipywidgets import interactive"
   ]
  },
  {
   "cell_type": "markdown",
   "metadata": {},
   "source": [
    "In the last two lectures we have been discussing how to solve problems numerically and how to write programs. \n",
    "\n",
    "Here is prototypical simluation program that we have been using to model a falling particle:"
   ]
  },
  {
   "cell_type": "code",
   "execution_count": null,
   "metadata": {},
   "outputs": [],
   "source": [
    "def FallingParticleApp():\n",
    "    \n",
    "    # set up the model\n",
    "    model = FallingParticleStepper()\n",
    "    \n",
    "    # iterate the model\n",
    "    ball = pd.DataFrame(model)\n",
    "    \n",
    "    # plot the results\n",
    "    FallingParticlePlot(ball)"
   ]
  },
  {
   "cell_type": "markdown",
   "metadata": {},
   "source": [
    "We separate out the code that will be iterated to step through time to actual solve the numerical program:"
   ]
  },
  {
   "cell_type": "code",
   "execution_count": null,
   "metadata": {},
   "outputs": [],
   "source": [
    "def FallingParticleStepper(dt=0.01, y0=100, v0=0, tmax=5):\n",
    "    \n",
    "    # initialize the model\n",
    "    g = 9.8\n",
    "    t = 0\n",
    "    y = y0\n",
    "    v = v0\n",
    "    \n",
    "    while True:\n",
    "        \n",
    "        model = {'t': t, 'y': y, 'v': v,\n",
    "                 'v0': v0, 'y0': y0, 'dt': dt, \n",
    "                }\n",
    "        yield model # return to the caller\n",
    "            \n",
    "        if t > tmax:\n",
    "            break\n",
    "            \n",
    "        # use the Euler algorithm to update the state of the model\n",
    "        y = y + v*dt\n",
    "        v = v - g*dt\n",
    "        t = t + dt"
   ]
  },
  {
   "cell_type": "markdown",
   "metadata": {},
   "source": [
    "And the routines to visualize and plot the results:"
   ]
  },
  {
   "cell_type": "code",
   "execution_count": null,
   "metadata": {},
   "outputs": [],
   "source": [
    "def FallingParticlePlot(particle):\n",
    "    \n",
    "    plt.plot(particle.t, particle.y)\n",
    "    plt.ylabel('y (m)')\n",
    "    plt.xlabel('t (s)')"
   ]
  },
  {
   "cell_type": "code",
   "execution_count": null,
   "metadata": {},
   "outputs": [],
   "source": [
    "FallingParticleApp()"
   ]
  },
  {
   "cell_type": "markdown",
   "metadata": {},
   "source": [
    "## Review of a Falling Particle"
   ]
  },
  {
   "cell_type": "markdown",
   "metadata": {},
   "source": [
    "The above code simulates a projectile on the surface of the Earth with no air friction. \n",
    "\n",
    "Newton's Second Law gives use the equation of motion, $F = m a = m \\frac{\\mathrm{d}^2y}{\\mathrm{d}t^2} $ with $F = - m g$ for which we can rewrite as the pair of equations\n",
    "\n",
    "$$\\begin{align}\n",
    "\\frac{\\mathrm{d}y}{\\mathrm{d}t} &= v \\\\\n",
    "\\frac{\\mathrm{d}v}{\\mathrm{d}t} &= -g. \\\\\n",
    "\\end{align}\n",
    "$$\n",
    "\n",
    "We then approximated the derivatives with finite differences\n",
    "\n",
    "$$\\begin{align}\n",
    "\\frac{y(t+\\Delta t) - y(t)}{\\Delta t} &= v(t) \\\\\n",
    "\\frac{v(t+\\Delta t) - v(t)}{\\Delta t} &= -g \n",
    "\\end{align}\n",
    "$$\n",
    "\n",
    "or rearranged gives\n",
    "\n",
    "$$\n",
    "\\begin{align}\n",
    "y(t + \\Delta t) & = y(t) + v(t) \\Delta t \\\\\n",
    "v(t + \\Delta t) & = v(t) -g \\Delta t.\n",
    "\\end{align}\n",
    "$$\n",
    "\n",
    "This algorithm tells how how to estimate new values for the position $y$ and velocity $v$ from the values at the previous time step. In code, this is written as\n",
    "\n",
    "```\n",
    "y = y + v*dt\n",
    "v = v - g*dt\n",
    "```"
   ]
  },
  {
   "cell_type": "markdown",
   "metadata": {},
   "source": [
    "The analytical soluiton for free fall near the Earth's surface,\n",
    "\n",
    "$$y(t) = y_0 + v_0  t - \\frac{1}{2}g t^2,$$\n",
    "\n",
    "is well known and thus finding a numerical solution is useful only as an introduction to numerical programming. "
   ]
  },
  {
   "cell_type": "markdown",
   "metadata": {},
   "source": [
    "The more general problem is to have an arbitrary sum of forces $F_{\\mathrm{net}}$ acting on a particle. Then the equation of motion $F_{\\mathrm{net}} = m  \\frac{\\mathrm{d}^2y}{\\mathrm{d}t^2} $ leads to \n",
    "\n",
    "$$\\begin{align}\n",
    "\\frac{\\mathrm{d}y}{\\mathrm{d}t} &= v \\\\\n",
    "\\frac{\\mathrm{d}v}{\\mathrm{d}t} &= \\frac{F_{\\mathrm{net}}}{m} . \\\\\n",
    "\\end{align}\n",
    "$$\n",
    "\n",
    "Approximating the derivatives as finite differences leads again to Euler's method:\n",
    "\n",
    "$$\n",
    "\\begin{align}\n",
    "y(t + \\Delta t) & = y(t) + v(t) \\Delta t \\\\\n",
    "v(t + \\Delta t) & = v(t) + \\frac{F_{\\mathrm{net}}}{m}  \\Delta t.\n",
    "\\end{align}\n",
    "$$\n",
    "\n",
    "or \n",
    "```\n",
    "y = y + v*dt\n",
    "v = v + Fnet/m*dt\n",
    "```\n",
    "\n",
    "It is important to recognize that that Euler's method is a numerical algorithm for solving differential equations. There is nothing special at all about the problem being about a falling particle.  In the most general case, we can approximately solve the  differential equation\n",
    "\n",
    "$$ \\frac{\\mathrm{d}y}{\\mathrm{d}t} = f(y, t)$$\n",
    "\n",
    "with the algorithm\n",
    "\n",
    "$$y(t + \\Delta t) = y(t) + f(y(t), t) \\Delta t$$\n",
    "\n",
    "where $f(y, t)$ is any mathematical function of $y$ and (optionally) $t$."
   ]
  },
  {
   "cell_type": "markdown",
   "metadata": {},
   "source": [
    "It is not difficult to think of more realistic models of motion near the Earth's surface for which the equations of motion do not have simple analytical solutions. For example, if we take into account the variation of the Earth's gravitational field with the distance from the centre of the Earth, then the force on a particle is not constant. According to Newton's law of gravitation, the force is due to the Earth on a particle of mass $m$ is given by\n",
    "\n",
    "$$ F = \\frac{GMm}{(R+y)^2} = \\frac{GMm}{R^2(1+y/R)^2} = mg (1 - 2 \\frac{y}{R} + \\ldots),$$\n",
    "\n",
    "where $y$ is measured from the Earth's surface, $R$ is the radius of the Earth, $M$ is the mass of the Earth, $G$ is the gravitaional constant, and $g = GM/R^2$."
   ]
  },
  {
   "cell_type": "markdown",
   "metadata": {},
   "source": [
    "- - -\n",
    "\n",
    "### **Problem 3.7** Position-dependent force\n",
    "\n",
    "Extend `FallingParticleStepper()` and `FallingParticleApp()` to simulate the fall of a particle with the position-dependent force law $F = mg\\left(1-2\\frac{y}{R}\\right)$. Assume that a particle is dropped from a height $h$ with zero initial velocity and compute its impact velocity (speed) when it hits the ground at $y= 0$. Determine the value of $h$ for which the impact velocity differs by one percent from its value with a constant acceleration $g=9.8\\; \\mathrm{m/s}^2$. Take $R= 6.37\\times10^6\\;\\mathrm{m}$. Make sure that the one percent difference is due to the physics of the force law and not the accuracy of your algorithm (this can be confirmed by showing that the result changes by signifcantly less than one percent if you half the size of your time step).\n",
    "\n",
    "*(will be part of Assignment 2)*\n",
    "- - - "
   ]
  },
  {
   "cell_type": "markdown",
   "metadata": {},
   "source": [
    "## Drag force due to air resistance"
   ]
  },
  {
   "cell_type": "markdown",
   "metadata": {},
   "source": [
    "For particles near the Earth's surface, a more important modication is to include the drag force due to air resistance.  \n",
    "\n",
    "The direction of the drag force $F_{d}$ is opposite to the velocity of the particle. \n",
    "\n",
    "For a falling body, $F_{d}$ is upward since the velocity is downwards. \n",
    "\n",
    "Hence the total force $F$ on a falling body is\n",
    "\n",
    "$$ F = - m g + F_{d}.$$\n"
   ]
  },
  {
   "cell_type": "markdown",
   "metadata": {},
   "source": [
    "\n",
    "### Empirical model for drag force"
   ]
  },
  {
   "cell_type": "markdown",
   "metadata": {
    "slideshow": {
     "slide_type": "slide"
    }
   },
   "source": [
    "Two common ways of modelling a drag force are\n",
    "\n",
    "$$ F_{d}(v) =  C_1 v, $$\n",
    "\n",
    "and\n",
    "$$ F_{d}(v) = C_2 v^2,$$\n",
    "\n",
    "where $C_1$ and $C_2$ depend on the properties of the fluid and the shape of the object.\n",
    "\n",
    "Unlike kinetic friction between two sliding surfaces which depends only on the normal force, drag friction depends on the speed, $v$,  of the object."
   ]
  },
  {
   "cell_type": "markdown",
   "metadata": {
    "slideshow": {
     "slide_type": "subslide"
    }
   },
   "source": [
    "At very low velocities, the behaviour is essentially linear (this is called **Stokes's Law**) and is represented by the $C_1$ term the linear dependence on $v$.\n",
    "\n",
    "At more reasonable velocities the behaviour is quadratic as given by the $C_2$ term.\n",
    "\n",
    "From fluid dynamics, exact values of $C_2$ can be computed only for idealized shapes such as spheres and cylinders. For real objects with more complicated geometries $C_2$ can not be calculated and must be measured from experiment.  We can, however, rewrite the quadratic the drag force as\n",
    "\n",
    " $$ F_d =  \\frac{1}{2} C_d \\rho A v^2$$\n",
    "\n",
    "where $\\rho$ is the density of air, $A$ is the frontal cross-sectional area of the falling object, and $C_d$ is called the **drag coefficient**.  $C_d$ depends on the aerodynamics and shape of an object and it is typically between 0.5 and 1.5 in value."
   ]
  },
  {
   "cell_type": "markdown",
   "metadata": {},
   "source": [
    "\n",
    "### Explanation of mathematical form of drag law"
   ]
  },
  {
   "cell_type": "markdown",
   "metadata": {
    "slideshow": {
     "slide_type": "subslide"
    }
   },
   "source": [
    "We can understand why the air friction has this particular mathematical form by considering the block of air that is being pushed out of the way by a falling object.  The mass of air moved in time $dt$ is\n",
    "$$m_{\\mbox{air}} \\sim \\rho A v dt. $$"
   ]
  },
  {
   "cell_type": "markdown",
   "metadata": {
    "slideshow": {
     "slide_type": "fragment"
    }
   },
   "source": [
    "The air is given a velocity of order $v$, and hence a kinetic energy of\n",
    "$$E_\\mbox{air} \\sim \\frac{1}{2} m_\\mbox{air} v^2 .$$"
   ]
  },
  {
   "cell_type": "markdown",
   "metadata": {
    "slideshow": {
     "slide_type": "subslide"
    }
   },
   "source": [
    "Because of conservation of energy, this is also the work done by the drag force (the force of the object due to air resistance, work is force times displacement) in time $dt$, \n",
    "$$ F_{\\mbox{d}} v dt = E_\\mbox{air}.$$"
   ]
  },
  {
   "cell_type": "markdown",
   "metadata": {
    "slideshow": {
     "slide_type": "fragment"
    }
   },
   "source": [
    "Putting these three equations together we find\n",
    "\n",
    "$$F_\\mbox{d} \\propto \\frac{1}{2} \\rho A v^2.$$\n",
    "\n",
    "The constant of proportionality, $C_d$, is determined by experiment.\n",
    "\n",
    "Notice that we are using the notation \n",
    "\n",
    "$$ F_d = C_2 v^2 = \\frac{1}{2} C_d \\rho A v^2$$\n",
    "\n",
    "so this really means $C_2 = \\frac{1}{2} C_d \\rho A$. Both forms of a quadratic drag law are used and, somewhat confusingly, both $C_2$ and $C_d$ are often called a *drag coefficient*.  "
   ]
  },
  {
   "cell_type": "markdown",
   "metadata": {},
   "source": [
    "## Terminal Velocity"
   ]
  },
  {
   "cell_type": "markdown",
   "metadata": {},
   "source": [
    "Because $F_d(v)$ increases as $v$ increases, there is a limiting or *terminal velocity* (speed) at which the net force on a falling object is zero.\n",
    "\n",
    "From \n",
    "$$ F = - m g + F_d$$\n",
    "we can determine the terminal velocity by setting $F_d = mg$ to find\n",
    "\n",
    "$$\\begin{align}\n",
    "v_{1,t} &= \\frac{mg}{C_1} , & \\mbox{(linear drag)} \\\\\n",
    "v_{2,t} &= \\left(\\frac{mg}{C_2}\\right)^{1/2}, & \\mbox{(quadratic drag)} \n",
    "\\end{align}\n",
    "$$\n",
    "for the linear and quadratic cases, respectively.\n",
    "\n",
    "It is often to express velocities in terms of the terminal velocity. We can use the drag forces and the terminal speeds to write $F_d$ in the linear and quadratic cases as\n",
    "\n",
    "$$\\begin{align}\n",
    "F_{1,d} &= C_1 v_{1,t}\\left(\\frac{v}{v_{1,t}}\\right) = mg \\frac{v}{v_{1,t}}, \\\\\n",
    "F_{2,d} &= C_2 v_{2,t}^2 \\left(\\frac{v}{v_{2,t}}\\right)^2 = mg \\left(\\frac{v}{v_{2,t}}\\right)^2.\n",
    "\\end{align}\n",
    "$$\n",
    "\n",
    "So, we can write the net force (per unit mass) on a falling object in the convenient forms\n",
    "\n",
    "$$\n",
    "\\begin{align}\n",
    "F_1(v)/m &= -g \\left( 1 - \\frac{v}{v_{1,t}} \\right) \\\\\n",
    "F_2(v)/m &= -g \\left( 1 - \\frac{v^2}{v_{2,t}^2} \\right)\n",
    "\\end{align}\n",
    "$$"
   ]
  },
  {
   "cell_type": "markdown",
   "metadata": {},
   "source": [
    "## Falling pebble"
   ]
  },
  {
   "cell_type": "markdown",
   "metadata": {},
   "source": [
    "Suppose a pebble of mass $m = 10^{-2}\\;\\mbox{kg}$ is thrown over the side of high cliff of height $h = 50\\;\\mbox{m}$. To a good approximation the drag force is proportional to $v^2$.  \n",
    "\n",
    "For spherical pebble of radius $0.01\\;\\mbox{m}$, $C_2$ is found empirically to be approximately $10^{-4}\\;\\mbox{kg/m}$.  This means that the terminal speed is about 30 m/s."
   ]
  },
  {
   "cell_type": "code",
   "execution_count": null,
   "metadata": {},
   "outputs": [],
   "source": [
    "C2 = 1e-4\n",
    "m = 1e-2\n",
    "g = 9.81\n",
    "v2t = (m*g/C2)**(1/2)\n",
    "print(\"v2t = {:.1f}\".format(v2t))"
   ]
  },
  {
   "cell_type": "markdown",
   "metadata": {},
   "source": [
    "Since this speed would be achieved by a freely falling body in a vertical fall of approximately 50 m in a time of about 3 s, we expect that the effects of air resistance would be appreciable for comparable times and distances."
   ]
  },
  {
   "cell_type": "markdown",
   "metadata": {},
   "source": [
    "- - -\n",
    "\n",
    "### **Problem 3.9** Effect of air resistance on the ascent and descent of a pebble\n",
    "\n",
    "a. Compute the speed at which a pebble reaches the ground if it is dropped from rest at a height of $50\\;\\mbox{m}$. Compare this speed to that of a freely falling object under the same conditions. Assume that the drag force is proportional to $v^2$ and that the terminal velocity is 30 m/s.\n",
    "\n",
    "b. Suppose a pebble is thrown vertically upward with an initial velocity $v_0$. In the absence of air resistance, we know that the maximum height reached by the pebble is $ v_0^2/2g$, its velocity upon return to the Earth equals $v_0$, the time of ascent equals the time of descent, and the total time in the air is $2 v_0/g$. Before doing a simulation, give a simple qualitative explanation of how you think these quantities will be affected by air resistance. In particular, how will the time of ascent compare with the time of descent?\n",
    "\n",
    "c. Do a simulation to determine if your qualitative answers in part (b) are correct. Assume that the drag force is proportional to $v^2$. Choose the coordinate system with $y$ positive upward. What is the net force for $v >0$ and $v <0$? We can characterize the magnitude of the drag force by a terminal velocity even if the motion of the pebble is upward and even if the pebble never attains this velocity. Choose the terminal velocity $v_t= 30\\;\\mbox{m/s}$, corresponding to a drag coefficient of $C_2 \\approx 0.000109$. It is a good idea to choose an initial velocity that allows the pebble to remain in the air for a time sufficiently long so that the effect of the drag force isappreciable. A reasonable choice is $v(t= 0) = 50 \\mbox{m/s}$. You might find it convenient to express the drag force in the form $F_d\\propto - \\mathrm{v * abs(v)}$. \n",
    "\n",
    "*(will be part of Assignment 2)*\n",
    "- - -"
   ]
  },
  {
   "cell_type": "markdown",
   "metadata": {},
   "source": [
    "## Falling speed as function of cross-sectional area\n",
    "\n",
    "We saw that we could also write the quadratic expression for the drag law as\n",
    "\n",
    "$$F_d = \\frac{1}{2} C_d \\rho A v^2$$\n",
    "\n",
    "This model suggests the imporance of minimizing the frontal cross-sectional area $A$ in order to achieve a higher maximum speed. \n",
    "\n",
    "Let's explore this model to try work out how the falling speed depends on the cross-sectional area of a falling object.\n",
    "\n",
    "From Newton's law, the equation of motion is\n",
    "\n",
    "$$\\begin{align}\n",
    "\\frac{\\mathrm{d}y}{\\mathrm{d}t} &= v \\\\\n",
    "\\frac{\\mathrm{d}v}{\\mathrm{d}t} &= \\frac{F_{\\mathrm{net}}}{m} . \\\\\n",
    "\\end{align}\n",
    "$$\n",
    "\n",
    "where\n",
    "\n",
    "$$\\begin{align}\n",
    "Fnet &= F_g + F_d \\\\\n",
    "     &= \\left(-mg\\right) + \\left(\\frac{1}{2} C_d \\rho A v^2 \\right) \n",
    "\\end{align}\n",
    "$$"
   ]
  },
  {
   "cell_type": "markdown",
   "metadata": {},
   "source": [
    "In code, this means this would be our Euler's method:\n",
    "\n",
    "```\n",
    "    y = y + v*dt\n",
    "    v = v + Fnet/m*dt\n",
    "```\n",
    "\n",
    "where\n",
    "\n",
    "`Fnet = Fg + Fd`.\n",
    "\n",
    "Calculating the force force of gravity is straightforward:\n",
    "\n",
    "`Fg = - m * g`.\n",
    "\n",
    "And calculating the drag force involves the following expression:\n",
    "\n",
    "`Fd = 0.5 * Cd * ρ * A * v**2`\n"
   ]
  },
  {
   "cell_type": "markdown",
   "metadata": {},
   "source": [
    "Python supports not only the 26 upper and lower case letters of the Latin alphabet, but many other character sets too. In fact, Python identifiers can be composed of many other Unicode characters."
   ]
  },
  {
   "cell_type": "markdown",
   "metadata": {},
   "source": [
    "For example, the symbol ρ (U+03C1, Greek Small Letter Rho) is commonly used to represent density. So we can use it directly in our code: "
   ]
  },
  {
   "cell_type": "code",
   "execution_count": null,
   "metadata": {},
   "outputs": [],
   "source": [
    "# International Standard Atmosphere states the density of air at sea level and 15 degrees C\n",
    "ρ = 1.225 # kg/m3 "
   ]
  },
  {
   "cell_type": "markdown",
   "metadata": {},
   "source": [
    "Depending on your keyboard or operating system you may have a way to type these characters. On an ASCII keyboard, Jupyter allows you to enter these kind of math symbols using\n",
    "\n",
    "`\\rho<TAB>`\n",
    "\n",
    "That, the characters `\\rho` immediately followed by the Tab key. "
   ]
  },
  {
   "cell_type": "code",
   "execution_count": null,
   "metadata": {},
   "outputs": [],
   "source": [
    "ρ"
   ]
  },
  {
   "cell_type": "markdown",
   "metadata": {},
   "source": [
    "To be specific, let's model a falling paper lunch bag and investigate its speed depending on its cross sectional area."
   ]
  },
  {
   "cell_type": "markdown",
   "metadata": {},
   "source": [
    "<img src=\"https://images.uline.com/is/image/content/dam/images/S/S7500/S-7084.jpg?$MediumRHD$&iccEmbed=1&icc=AdobeRGB\" alt=\"Paper Lunch Bag\" width=\"200\"> \n",
    "\n",
    "https://www.uline.ca/Product/Detail/S-7084/Retail-Bags-Paper/Paper-Grocery-Bags-6-1-8-x-4-x-12-3-8-8-Kraft\n"
   ]
  },
  {
   "cell_type": "markdown",
   "metadata": {},
   "source": [
    "500 bags in a bundle weigh 6 kg. So, let's estimate the mass of each bag as"
   ]
  },
  {
   "cell_type": "code",
   "execution_count": null,
   "metadata": {},
   "outputs": [],
   "source": [
    "m = 6 / 500\n",
    "print(m)"
   ]
  },
  {
   "cell_type": "markdown",
   "metadata": {},
   "source": [
    "For a completely opened paper bag, the dimensions are"
   ]
  },
  {
   "cell_type": "code",
   "execution_count": null,
   "metadata": {},
   "outputs": [],
   "source": [
    "width = 0.16 # m\n",
    "depth = 0.10 # m\n",
    "height = 0.31 # m"
   ]
  },
  {
   "cell_type": "markdown",
   "metadata": {},
   "source": [
    "The cross-sectional area is"
   ]
  },
  {
   "cell_type": "code",
   "execution_count": null,
   "metadata": {},
   "outputs": [],
   "source": [
    "A = width * depth\n",
    "A"
   ]
  },
  {
   "cell_type": "markdown",
   "metadata": {},
   "source": [
    "assuming we are dropping the bag with the bottom oriented downward. In this simulation we will vary this value but 0.016 m$^2$ is a good starting point."
   ]
  },
  {
   "cell_type": "markdown",
   "metadata": {},
   "source": [
    "Finally, these paper bags are rectangular prisms and have drag coefficient on the order of $C_d \\approx 1.0$."
   ]
  },
  {
   "cell_type": "markdown",
   "metadata": {},
   "source": [
    "We first write code to solve the problem numerically:"
   ]
  },
  {
   "cell_type": "code",
   "execution_count": null,
   "metadata": {},
   "outputs": [],
   "source": [
    "def PaperBagStepper(A=0.016,\n",
    "                      dt=0.01, y0=10, v0=0, tmax=2):\n",
    "    \"\"\"\n",
    "    Model a falling object of cross-sectional area A.\n",
    "    \"\"\"\n",
    "        \n",
    "    # initialize the model\n",
    "    g = 9.8 # m/s2\n",
    "    ρ = 1.225 # kg/m3, air\n",
    "    Cd = 1.0 \n",
    "    m = 0.012 # kg\n",
    "    \n",
    "    t = 0\n",
    "    y = y0\n",
    "    v = v0\n",
    "    \n",
    "    while True:\n",
    "        model = {'t': t, 'y': y, 'v': v}\n",
    "        yield model # return to the caller\n",
    "            \n",
    "        if t > tmax:\n",
    "            break\n",
    "        \n",
    "        Fg = -m*g\n",
    "        Fd = 0.5 * Cd * ρ * A * v**2\n",
    "        Fnet = Fg + Fd\n",
    "        \n",
    "        # use the Euler algorithm to update the state of the model\n",
    "        y = y + v*dt\n",
    "        v = v + Fnet/m*dt\n",
    "        t = t + dt\n",
    "    \n",
    "    # return the final state of the model\n",
    "    model = {'t': t, 'y': y, 'v': v}\n",
    "    yield model"
   ]
  },
  {
   "cell_type": "markdown",
   "metadata": {},
   "source": [
    "We need at least one function to visualize the results. Here we are using the function `plt.subplots()` to create two axes. In the top one we plot the position vs time. and the bottom one we plot the velocity vs time."
   ]
  },
  {
   "cell_type": "code",
   "execution_count": null,
   "metadata": {},
   "outputs": [],
   "source": [
    "def FirstPaperBagPlot(bag):\n",
    "    fig, axs = plt.subplots(2, 1)\n",
    "    axs[0].plot(bag.t, bag.y)\n",
    "    axs[0].set_ylabel('y (m)')\n",
    "    \n",
    "    axs[1].plot(bag.t, bag.v)\n",
    "    axs[1].set_ylabel('v (m)')\n",
    "    axs[1].set_xlabel('t (s)')"
   ]
  },
  {
   "cell_type": "markdown",
   "metadata": {},
   "source": [
    "And a driver program to put it all together"
   ]
  },
  {
   "cell_type": "code",
   "execution_count": null,
   "metadata": {},
   "outputs": [],
   "source": [
    "def FirstPaperBagApp(A=0.016):\n",
    "    \n",
    "    model = PaperBagStepper(A=A)\n",
    "    bag = pd.DataFrame(model)\n",
    "    \n",
    "    FirstPaperBagPlot(bag)"
   ]
  },
  {
   "cell_type": "code",
   "execution_count": null,
   "metadata": {},
   "outputs": [],
   "source": [
    "FirstPaperBagApp()"
   ]
  },
  {
   "cell_type": "markdown",
   "metadata": {},
   "source": [
    "We can quickly make this application iteractive to explore the dependence of the trajectory on the cross-sectional area."
   ]
  },
  {
   "cell_type": "code",
   "execution_count": null,
   "metadata": {},
   "outputs": [],
   "source": [
    "interactive(FirstPaperBagApp, A=(0.001, 0.050, 0.001))"
   ]
  },
  {
   "cell_type": "markdown",
   "metadata": {},
   "source": [
    "To extract out the terminal speed we need to look at the last row in the data frame."
   ]
  },
  {
   "cell_type": "code",
   "execution_count": null,
   "metadata": {},
   "outputs": [],
   "source": [
    "model = PaperBagStepper()\n",
    "bag = pd.DataFrame(model)\n",
    "bag.tail()"
   ]
  },
  {
   "cell_type": "markdown",
   "metadata": {},
   "source": [
    "In Pandas, you can reference a particular row with `.iloc[]`"
   ]
  },
  {
   "cell_type": "code",
   "execution_count": null,
   "metadata": {},
   "outputs": [],
   "source": [
    "bag.iloc[201]"
   ]
  },
  {
   "cell_type": "markdown",
   "metadata": {},
   "source": [
    "Using the index `-1` gives you the last row in the data frame"
   ]
  },
  {
   "cell_type": "code",
   "execution_count": null,
   "metadata": {},
   "outputs": [],
   "source": [
    "bag.iloc[-1]"
   ]
  },
  {
   "cell_type": "markdown",
   "metadata": {},
   "source": [
    "We may want to show the the results for many different cross-sectional areas all in one plot."
   ]
  },
  {
   "cell_type": "code",
   "execution_count": null,
   "metadata": {},
   "outputs": [],
   "source": [
    "def SecondPaperBagApp():\n",
    "    \n",
    "    # set of cross-sectional areas\n",
    "    As = np.arange(0.005, 0.05, 0.005)\n",
    "    \n",
    "    # list to hold the terminal speeds, v\n",
    "    vs = []\n",
    "    \n",
    "    # we want to reuse the figure axes so we create a single set of axes\n",
    "    # here in the driver program\n",
    "    fig, axs = plt.subplots(2, 1)\n",
    "    for A in As:\n",
    "        model = PaperBagStepper(A=A, dt=0.001)\n",
    "        bag = pd.DataFrame(model)\n",
    "    \n",
    "        # take the absolute value of velocity as the terminal speed\n",
    "        v = abs(bag.iloc[-1].v)\n",
    "        # store this value for later\n",
    "        vs.append(v)\n",
    "        \n",
    "        # the axes are passed into the plotting function\n",
    "        SecondPaperBagPlot(bag, axs)\n",
    "        \n",
    "    plt.subplots(1, 1)\n",
    "    plt.plot(As, vs, 'o-')\n",
    "    plt.xlabel('Cross-sectional area $A$ (m$^2$)')\n",
    "    plt.ylabel('Terminal Speed $v$ (m/s)')\n",
    "    "
   ]
  },
  {
   "cell_type": "code",
   "execution_count": null,
   "metadata": {},
   "outputs": [],
   "source": [
    "def SecondPaperBagPlot(bag, axs):\n",
    "    axs[0].plot(bag.t, bag.y)\n",
    "    axs[0].set_ylabel('y (m)')\n",
    "    \n",
    "    axs[1].plot(bag.t, bag.v)\n",
    "    axs[1].set_ylabel('v (m)')\n",
    "    axs[1].set_xlabel('t (s)')"
   ]
  },
  {
   "cell_type": "code",
   "execution_count": null,
   "metadata": {},
   "outputs": [],
   "source": [
    "SecondPaperBagApp()"
   ]
  },
  {
   "cell_type": "markdown",
   "metadata": {},
   "source": [
    "This shows, as expected, as the cross-sectional area increases the terminal speed decreases."
   ]
  },
  {
   "cell_type": "markdown",
   "metadata": {},
   "source": [
    "## Falling speed as a function of humidity"
   ]
  },
  {
   "cell_type": "markdown",
   "metadata": {},
   "source": [
    "From \n",
    "\n",
    "$$F_d = \\frac{1}{2} C_d \\rho A v^2$$\n",
    "\n",
    "we can also see that the drag force depends on the air density. While the the density of air is around $\\rho = 1.3$ kg/m$^3$, the precise density depends on the pressure, temperature, and humidity of the air."
   ]
  },
  {
   "cell_type": "markdown",
   "metadata": {},
   "source": [
    "Based on some [formulae found on the web](http://physics.holsoft.nl/physics/ocmain.htm#densair) (unfortuantely, the link is now broken), here is a function that determines the density of air as function of relative humidity. "
   ]
  },
  {
   "cell_type": "code",
   "execution_count": null,
   "metadata": {},
   "outputs": [],
   "source": [
    "def calc_air_density(RH=0, T=20, B=101325):\n",
    "    \"\"\"\n",
    "    Calculate the density of humid air given\n",
    "        relative humidiy, RH (0.00 - 1.00)\n",
    "        temperature, T (Celsius)\n",
    "        barometric pressure, B (Pa)\n",
    "    \"\"\"\n",
    "    # temperature in Kelvin\n",
    "    T_kelvin = T + 273.15\n",
    "    # saturated vapour pressure\n",
    "    p_sat = 610.7 * np.power(10, 7.5*T/(237.3+T))\n",
    "    # partial vapour pressure\n",
    "    p_v = RH * p_sat\n",
    "    # apply formula for density of humid air\n",
    "    rho_air = 1.2929 * 273.15/T_kelvin * (B - 0.3783 * p_v) / 1.013e5\n",
    "    \n",
    "    return rho_air"
   ]
  },
  {
   "cell_type": "markdown",
   "metadata": {},
   "source": [
    "Relative humidity is a percentage between 0% and 100% (0.00 to 1.00) indicating the water content of the air for a given temperature and pressure."
   ]
  },
  {
   "cell_type": "markdown",
   "metadata": {},
   "source": [
    "- - -\n",
    "### *Exercise*"
   ]
  },
  {
   "cell_type": "markdown",
   "metadata": {},
   "source": [
    "Explore how relatively humidity affects the terminal speed of a falling object.\n",
    "\n",
    "> 1. Modify the code below to investigate the impact of relative humidity on the maximum velocity.\n",
    "> 2. Use the function `calc_air_density()` to compute the air density as needed.\n",
    "> 3. Considering only the impact of humidity on the drag force, what does the model predict about the change in the terminal speed?\n",
    "> 4. How does your model compare with your intuition on the impact of humidity on terminal speed? \n",
    "\n",
    "*(in-class exercise)*"
   ]
  },
  {
   "cell_type": "code",
   "execution_count": null,
   "metadata": {},
   "outputs": [],
   "source": [
    "def FallingHumidityStepper(RH=0.0,\n",
    "                           dt=0.01, y0=10, v0=0, tmax=2):\n",
    "    \"\"\"\n",
    "    Model a falling object of in a relative humidity RH.\n",
    "    \"\"\"\n",
    "        \n",
    "    # initialize the model\n",
    "    g = 9.8 # m/s2\n",
    "    A = 0.02 # m2\n",
    "    Cd = 1.0 \n",
    "    m = 0.012 # kg\n",
    "    \n",
    "    # Density is no longer a constant\n",
    "    #ρ = 1.225 # kg/m3, air\n",
    "    \n",
    "    t = 0\n",
    "    y = y0\n",
    "    v = v0\n",
    "    \n",
    "    while True:\n",
    "        model = {'t': t, 'y': y, 'v': v}\n",
    "        yield model # return to the caller\n",
    "            \n",
    "        if t > tmax:\n",
    "            break\n",
    "\n",
    "        # fill in the code to determine the \n",
    "        # density from the relative humidity\n",
    "        ρ = ___\n",
    "        \n",
    "        Fg = -m*g\n",
    "        Fd = 0.5 * Cd * ρ * A * v**2\n",
    "        Fnet = Fg + Fd\n",
    "        \n",
    "        # use the Euler algorithm to update the state of the model\n",
    "        y = y + v*dt\n",
    "        v = v + Fnet/m*dt\n",
    "        t = t + dt\n",
    "    \n",
    "    # return the final state of the model\n",
    "    model = {'t': t, 'y': y, 'v': v}\n",
    "    yield model"
   ]
  },
  {
   "cell_type": "code",
   "execution_count": null,
   "metadata": {},
   "outputs": [],
   "source": [
    "def FallingHumidityPlot(bag, axs):\n",
    "    axs[0].plot(bag.t, bag.y)\n",
    "    axs[0].set_ylabel('y (m)')\n",
    "    \n",
    "    axs[1].plot(bag.t, bag.v)\n",
    "    axs[1].set_ylabel('v (m)')\n",
    "    axs[1].set_xlabel('t (s)')"
   ]
  },
  {
   "cell_type": "code",
   "execution_count": null,
   "metadata": {},
   "outputs": [],
   "source": [
    "def FallingHumidityApp():\n",
    "    \n",
    "    # set of relative humidities\n",
    "    RHs = np.arange(___, ___, ___)\n",
    "    \n",
    "    # list to hold the terminal speeds, v\n",
    "    vs = []\n",
    "    \n",
    "    # we want to reuse the figure axes so we create a single set of axes\n",
    "    # here in the driver program\n",
    "    fig, axs = plt.subplots(2, 1)\n",
    "    for ___ in ___:\n",
    "        model = FallingHumidityStepper(___)\n",
    "        bag = pd.DataFrame(model)\n",
    "    \n",
    "        # take the last velocity as the terminal speed\n",
    "        v = bag.iloc[-1].v\n",
    "        # store this value for later\n",
    "        vs.append(v)\n",
    "        \n",
    "        # the axes are passed into the plotting function\n",
    "        FallingHumidityPlot(bag, axs)\n",
    "        \n",
    "    plt.subplots(1, 1)\n",
    "    plt.plot(RHs, vs, 'o-')\n",
    "    plt.xlabel('Relative Humidity $RH$ (%)')\n",
    "    plt.ylabel('Terminal Speed $v$ (m/s)')"
   ]
  },
  {
   "cell_type": "code",
   "execution_count": null,
   "metadata": {},
   "outputs": [],
   "source": [
    "FallingHumidityApp()"
   ]
  },
  {
   "cell_type": "markdown",
   "metadata": {},
   "source": [
    "Discuss what we find as a class."
   ]
  },
  {
   "cell_type": "markdown",
   "metadata": {},
   "source": [
    "- - -\n",
    "Textbook readings\n",
    "\n",
    "This lecture is based on CSM Chapter 3:\n",
    "\n",
    "- 3.7 Effect of Drag Resistance\n"
   ]
  }
 ],
 "metadata": {
  "kernelspec": {
   "display_name": "Python 3",
   "language": "python",
   "name": "python3"
  },
  "language_info": {
   "codemirror_mode": {
    "name": "ipython",
    "version": 3
   },
   "file_extension": ".py",
   "mimetype": "text/x-python",
   "name": "python",
   "nbconvert_exporter": "python",
   "pygments_lexer": "ipython3",
   "version": "3.6.7"
  }
 },
 "nbformat": 4,
 "nbformat_minor": 2
}
