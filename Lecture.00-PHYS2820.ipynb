{
 "cells": [
  {
   "cell_type": "markdown",
   "metadata": {},
   "source": [
    "# PHYS2820: Computational Mechanics\n",
    "\n",
    "Fall 2019\n",
    "\n",
    "**Instructor**: James Munroe <jmunroe@mun.ca>"
   ]
  },
  {
   "cell_type": "markdown",
   "metadata": {},
   "source": [
    "**Textbook**: [An Introduction to Computer Simulation Methods Third Edition by Harvey Gould, Jan Tobochnik, and Wolfgang Christian](https://www.compadre.org/osp/document/ServeFile.cfm?ID=7375&DocID=527)"
   ]
  },
  {
   "cell_type": "markdown",
   "metadata": {},
   "source": [
    "## Course Calendar Descripion\n",
    "\n",
    "> 2820 Computational Mechanics introduces computational methods in the context of Newtonian mechanics. Numerical differentiation and integration, numerical solutions to differential equations and data analysis are applied to projectile motion, N-body systems, oscillations and problems from geophysics. Implementation of numerical methods using computer programming is emphasized.\n",
    ">\n",
    "> CO: Mathematics 2000 <br>\n",
    "> LH: 1.5 <br>\n",
    "> PR: Mathematics 2000 and PHYS 1051\n",
    ">\n",
    "> The use of computers pervades all fields of science.\n",
    ">\n",
    "> Physics 2820 introduces the student to the world of computational physics. From plotting functions and finding roots of algebraic equations, to solving a differential equation, to carrying out operations on sets of data to find relationships between measured variables, the skills learned will be useful anywhere computers are used to solve problems.\n",
    ">\n",
    "> In order to make use of a computer, one must be able to precisely translate the method of solving the problem into instructions that the computer can blindly follow. Thus, students will gain hands-on experience in programming (in Python). The students will learn some of the numerical techniques used to differentiate and integrate functions and to solve ordinary differential equations, and gain an appreciation to the limits of numerical solutions.\n",
    ">\n",
    "> The context of computation will be primarily classical mechanics, include projectile motion, N-body problems, oscillations, normal modes, as well as examples from geophysics such as gravitational prospecting and determining travel times of seismic waves.\n",
    ">\n",
    "> Students interested in computational physics have the opportunity to explore this topic further in Physics 3800."
   ]
  },
  {
   "cell_type": "markdown",
   "metadata": {},
   "source": [
    "## Schedule\n",
    "\n",
    "##### Lectures: \n",
    "* Tuesday 2:00 - 3:20 pm\n",
    "* Thuesday 2:00 - 3:20 pm\n",
    "\n",
    "##### Labs: \n",
    "* Section 1 (50180) Tuesday 3:30-5:00 pm\n",
    "* Section 2 (50182) Thursday 3:30-5:00 pm\n"
   ]
  },
  {
   "cell_type": "markdown",
   "metadata": {},
   "source": [
    "## Zoom Video Conferencing\n",
    "\n",
    "```\n",
    "        Every week on Tue, Thu, until Nov 28, 2019, 24 meetings\n",
    "        Sep 5, 2019 02:00 PM C2039\n",
    "        \n",
    "        Sep 10, 2019 02:00 PM C2039\n",
    "        Sep 12, 2019 02:00 PM Zoom\n",
    "        \n",
    "        Sep 17, 2019 02:00 PM Zoom - Lab 1\n",
    "        Sep 19, 2019 02:00 PM Zoom - Lab 1\n",
    "        \n",
    "        Asssignment 1 due\n",
    "        \n",
    "        Sep 24, 2019 02:00 PM Zoom - Lab 2\n",
    "        Sep 26, 2019 02:00 PM Zoom - Lab 2\n",
    "        \n",
    "        Asssignment 2 due\n",
    "        \n",
    "        Oct 1, 2019 02:00 PM Zoom - Lab 3\n",
    "        Oct 3, 2019 02:00 PM C2039 - Lab 3\n",
    "        \n",
    "        Asssignment 3 due\n",
    "        \n",
    "        Oct 8, 2019 02:00 PM C2039 - Test 1\n",
    "        Oct 10, 2019 02:00 PM Zoom\n",
    "        \n",
    "        Oct 15, 2019 02:00 PM Fall semester break, no class\n",
    "        Oct 17, 2019 02:00 PM Zoom\n",
    "        \n",
    "        Oct 22, 2019 02:00 PM Zoom - Lab 4\n",
    "        Oct 24, 2019 02:00 PM Zoom - Lab 4\n",
    "        \n",
    "        Asssignment 4 due\n",
    "        \n",
    "        Oct 29, 2019 02:00 PM Zoom - Lab 5\n",
    "        Oct 31, 2019 02:00 PM Zoom - Lab 5\n",
    "        \n",
    "        Asssignment 5 due\n",
    "        \n",
    "        Nov 5, 2019 02:00 PM Zoom - Lab 6\n",
    "        Nov 7, 2019 02:00 PM C2039 - Lab 6\n",
    "        \n",
    "        Asssignment 6 due\n",
    "        \n",
    "        Nov 12, 2019 02:00 PM C2039 - Test 2\n",
    "        Nov 14, 2019 02:00 PM Zoom\n",
    "        \n",
    "        Nov 19, 2019 02:00 PM Zoom - Lab 7\n",
    "        Nov 21, 2019 02:00 PM Zoom - Lab 7\n",
    "        \n",
    "        Asssignment 7  due\n",
    "        \n",
    "        Nov 26, 2019 02:00 PM Zoom \n",
    "        Nov 28, 2019 02:00 PM Zoom\n",
    "```\n",
    "\n",
    "Join Zoom Meeting https://zoom.us/j/434039379\n",
    "\n",
    "Please download and import the following iCalendar (.ics) files to your calendar system.\n",
    "\n",
    "Weekly: https://zoom.us/meeting/434039379/ics?icsToken=f51e89cf08bc67ac1bf50de498dd069bef34d7444c2191343ab97fa115780108\n",
    "\n",
    "\n",
    "\n",
    "\n",
    "```\n",
    "One tap mobile\n",
    "+16475580588,,434039379# Canada\n",
    "\n",
    "Dial by your location\n",
    "        +1 647 558 0588 Canada\n",
    "        +1 720 707 2699 US\n",
    "        +1 646 558 8656 US (New York)\n",
    "Meeting ID: 434 039 379 \n",
    "```\n",
    "\n",
    "Find your local number: https://zoom.us/u/abTRirr4rI\n",
    "\n"
   ]
  },
  {
   "cell_type": "code",
   "execution_count": null,
   "metadata": {},
   "outputs": [],
   "source": []
  }
 ],
 "metadata": {
  "kernelspec": {
   "display_name": "Python 3",
   "language": "python",
   "name": "python3"
  },
  "language_info": {
   "codemirror_mode": {
    "name": "ipython",
    "version": 3
   },
   "file_extension": ".py",
   "mimetype": "text/x-python",
   "name": "python",
   "nbconvert_exporter": "python",
   "pygments_lexer": "ipython3",
   "version": "3.6.7"
  }
 },
 "nbformat": 4,
 "nbformat_minor": 2
}
