{
 "cells": [
  {
   "cell_type": "markdown",
   "metadata": {
    "slideshow": {
     "slide_type": "slide"
    }
   },
   "source": [
    "# Simple Harmonic Motion\n",
    "## Lecture 7"
   ]
  },
  {
   "cell_type": "code",
   "execution_count": null,
   "metadata": {},
   "outputs": [],
   "source": [
    "%matplotlib inline\n",
    "import matplotlib.pyplot as plt\n",
    "import numpy as np\n",
    "import pandas as pd\n",
    "from ipywidgets import interactive, fixed"
   ]
  },
  {
   "cell_type": "markdown",
   "metadata": {},
   "source": [
    "Physical systems with regular, repeating motion are said to be *periodic*.\n",
    "\n",
    "If an objects undergoes periodic motion between two limits over the same path, we call the motion *oscillitory*.\n",
    "\n",
    "Examples of oscillitory motion:\n",
    "- plucked guitar string\n",
    "- pendulum of a grandfather clock\n",
    "- oscillations of atoms in crystalline solids\n",
    "\n"
   ]
  },
  {
   "cell_type": "markdown",
   "metadata": {},
   "source": [
    "## Spring-mass system"
   ]
  },
  {
   "cell_type": "markdown",
   "metadata": {},
   "source": [
    "<a title=\"No machine-readable author provided. LucasVB assumed (based on copyright claims). [Public domain], via Wikimedia Commons\" href=\"https://commons.wikimedia.org/wiki/File:Harmonic_oscillator.svg\"><img width=\"256\" alt=\"Harmonic oscillator\" src=\"https://upload.wikimedia.org/wikipedia/commons/thumb/2/22/Harmonic_oscillator.svg/256px-Harmonic_oscillator.svg.png\"></a>\n",
    "\n",
    "A block of mass $m$ is connected to the free end of spring with spring constant $k$.\n",
    "\n",
    "### Hooke's Law\n",
    "\n",
    "The spring exerts a force on the block proportional to its displacement from equilibrium.\n",
    "\n",
    "$$F_{spring} = -k x$$"
   ]
  },
  {
   "cell_type": "markdown",
   "metadata": {},
   "source": [
    "### Newton's Law\n",
    "\n",
    "From Newton's Second Law we can write down an equation of motion for the block:\n",
    "\n",
    "$$\\frac{d^2 x}{d t^2} = - \\frac{k}{m} x = -\\omega_0^2 x$$\n",
    "\n",
    "where the angular frequency $\\omega_0$ is defined by\n",
    "\n",
    "$$ \\omega_0^2 = \\frac{k}{m}.$$"
   ]
  },
  {
   "cell_type": "markdown",
   "metadata": {},
   "source": [
    "The dynamical behaviour of such as system is called *simple harmonic motion*."
   ]
  },
  {
   "cell_type": "markdown",
   "metadata": {},
   "source": [
    "It has known analytical solutions in terms of sine and cosine functions.  One form of the solution is\n",
    "\n",
    "$$ x(t) = A \\cos (\\omega_0 t + \\phi)$$\n",
    "\n",
    "where $A$ and $\\phi$ are constants and the argument of the cosine is in radians."
   ]
  },
  {
   "cell_type": "markdown",
   "metadata": {},
   "source": [
    "#### Constants\n",
    "\n",
    "- $A$ amplitude\n",
    "- $\\phi$ phase"
   ]
  },
  {
   "cell_type": "markdown",
   "metadata": {},
   "source": [
    "Because cosine is a periodic function with period $2\\pi$ we know that $x(t)$ is also periodic.\n",
    "\n",
    "*Period*, $T$, is the smallest time for which the motion repeats itself,\n",
    "\n",
    "$$x(t+T) = x(t).$$\n",
    "\n",
    "Since $\\omega_0 T$ corresponds to one cycle,\n",
    "\n",
    "$$ T = \\frac{2\\pi}{\\omega_0} = \\frac{2\\pi}{\\sqrt{k/m}}$$\n",
    "\n",
    "\n",
    "*Frequency*, $\\nu$, is the number of cycles per second,\n",
    "\n",
    "$$ \\nu = \\frac{1}{T} = \\frac{\\sqrt{k/m}}{2\\pi}$$\n",
    "\n",
    "Notice that period and frequency do *not* depend on $A$ or $\\phi$ but only on the ratio $k/m$."
   ]
  },
  {
   "cell_type": "markdown",
   "metadata": {},
   "source": [
    "## Numerical Solution"
   ]
  },
  {
   "cell_type": "markdown",
   "metadata": {},
   "source": [
    "As we have now done several times, we can also solve this problem numerically. Our algorithm, Euler's method, tells us\n",
    "\n",
    "$$\\begin{align} \n",
    "x(t + \\Delta t) &= x(t) + v(t) \\Delta t \\\\\n",
    "v(t + \\Delta t) &= v(t) + a(t) \\Delta t \n",
    "\\end{align}\n",
    "$$\n",
    "\n",
    "So let's code up a simple application that solves for an oscilliator undergoing simple harmonic motion (SHM)."
   ]
  },
  {
   "cell_type": "code",
   "execution_count": null,
   "metadata": {},
   "outputs": [],
   "source": [
    "# constants\n",
    "k = 1\n",
    "m = 1\n",
    "\n",
    "def SHMEulerStepper(x0=1, v0=0, dt=0.1, tmax=10):\n",
    "    \"\"\"\n",
    "    Solve for the simple harmonic motion of a mass-spring system using Euler's method\n",
    "    \n",
    "    x is the position\n",
    "    v is the velocity\n",
    "    \"\"\"\n",
    "    \n",
    "    # initialize the model\n",
    "    t = 0\n",
    "    x = x0\n",
    "    v = v0\n",
    "    \n",
    "    while True:\n",
    "        model = {'t': t, 'x': x, 'v': v}\n",
    "        yield model # return the model state back to the caller\n",
    "    \n",
    "        if t > tmax:\n",
    "            break\n",
    "        \n",
    "        # calculate acceleration (force / mass)\n",
    "        a = - k/m * x \n",
    "        \n",
    "        # use the Euler algorithm to update the state of the model\n",
    "        \n",
    "        x = x + v * dt\n",
    "        v = v + a * dt\n",
    "        \n",
    "        t = t + dt\n",
    "        \n",
    "def SHMPlotter(data):\n",
    "    fig, axs = plt.subplots(3, 1, figsize=(10,6))\n",
    "    \n",
    "    axs[0].plot(data.t, data.x, label='Numerical')\n",
    "    axs[0].plot(data.t, np.cos(data.t), label='Analytical')\n",
    "    axs[0].set_ylabel(\"x (m)\")\n",
    "    axs[0].legend()\n",
    "    \n",
    "    axs[1].plot(data.t, data.v)\n",
    "    axs[1].plot(data.t, -np.sin(data.t))\n",
    "    axs[1].set_ylabel(\"v (m/s)\")\n",
    "    \n",
    "    KE = 1/2 * m * data.v**2\n",
    "    PE = 1/2 * k * data.x**2\n",
    "    E = KE + PE\n",
    "    #axs[2].plot(data.t, KE)\n",
    "    #axs[2].plot(data.t, PE)\n",
    "    #axs[2].plot(data.t, E)\n",
    "    axs[2].set_ylabel(\"E (J)\")\n",
    "    \n",
    "    axs[2].set_xlabel(\"t (s)\")\n",
    "\n",
    "    \n",
    "def SHMEulerApp(tmax=10, dt=0.1):\n",
    "    stepper = SHMEulerStepper(tmax=tmax, dt=dt)\n",
    "    data = pd.DataFrame(stepper)\n",
    "    SHMPlotter(data)\n",
    "    return data\n",
    "    \n",
    "data = SHMEulerApp()"
   ]
  },
  {
   "cell_type": "markdown",
   "metadata": {},
   "source": [
    "Even thought the position and velocity are constantly changing the total energy $E$ should remain a constant.\n",
    "\n",
    "$$ E = \\frac{1}{2}m v^2 + \\frac{1}{2} k x^2 = \\frac{1}{2} k A^2 $$\n",
    "\n",
    "where the two terms are the kinetic and potential energy."
   ]
  },
  {
   "cell_type": "markdown",
   "metadata": {},
   "source": [
    "- - -\n",
    "##### Exercise\n",
    "\n",
    "Uncomment the code above to show the plots of the kinetic, potential, and total energies over time.\n",
    "- - -"
   ]
  },
  {
   "cell_type": "markdown",
   "metadata": {},
   "source": [
    "Something is going wrong here. Energy should be conserved yet this numerical model is predicting that energy is increasing.\n",
    "\n",
    "Over time, the mass will start oscillating more and more as shown by the following interactive widget:"
   ]
  },
  {
   "cell_type": "code",
   "execution_count": null,
   "metadata": {},
   "outputs": [],
   "source": [
    "interactive(SHMEulerApp, tmax=(2, 40, 2), dt=fixed(0.1))"
   ]
  },
  {
   "cell_type": "markdown",
   "metadata": {},
   "source": [
    "We have not made a mistake in the physics. The problem here is with the numerical method.\n",
    "\n",
    "As we have discussed, using a finite difference is a *approximation* to a real derivative. Every time step Euler's method introduces a small error to the solution. Over time, this error grows.\n",
    "\n",
    "We can see that this error is directly related to the size of the time step."
   ]
  },
  {
   "cell_type": "code",
   "execution_count": null,
   "metadata": {},
   "outputs": [],
   "source": [
    "interactive(SHMEulerApp, dt=(0.02, 0.2, 0.02), tmax=fixed(10))"
   ]
  },
  {
   "cell_type": "markdown",
   "metadata": {},
   "source": [
    "It turns out that, for Euler's method, the error is linearly proportional to the time step $\\Delta t$.\n",
    "\n",
    "The reason the numerical method is not working is that that Euler's method assume that the velocity and acceleration do not change too much during the time step $\\Delta t$. To get an acceptable numerical result we need to choose $\\Delta t$ to be sufficiently small.\n",
    "\n",
    "But making $\\Delta t$ too small leads to new problems:\n",
    "- computer time increase for the program to finish\n",
    "- round-off error due to finite precision of floating points numerics will accumulate\n",
    "- Euler's method is unstable for many problems causing errors to grow exponentially"
   ]
  },
  {
   "cell_type": "markdown",
   "metadata": {},
   "source": [
    "### Modified Euler Algorithms\n",
    "\n",
    "#### Euler-Cromer algorithm\n",
    "\n",
    "Euler's method is\n",
    "\n",
    "$$\\begin{align} \n",
    "x(t + \\Delta t) &= x(t) + v(t) \\Delta t \\\\\n",
    "v(t + \\Delta t) &= v(t) + a(t) \\Delta t \n",
    "\\end{align}\n",
    "$$\n",
    "\n",
    "We can make a very simple change and write\n",
    "\n",
    "$$\\begin{align} \n",
    "x(t + \\Delta t) &= x(t) + v(t+\\Delta t) \\Delta t \\\\\n",
    "v(t + \\Delta t) &= v(t) + a(t) \\Delta t \n",
    "\\end{align}\n",
    "$$\n",
    "\n",
    "This modified Euler's method is called the Euler-Cromer algorithm. The only difference is the computed velocity at the end of the interval, $v(t + \\Delta t)$ is used to compute the new position $x(t + \\Delta t)$."
   ]
  },
  {
   "cell_type": "code",
   "execution_count": null,
   "metadata": {},
   "outputs": [],
   "source": [
    "def SHMEulerCromerStepper(x0=1, v0=0, dt=0.1, tmax=10):\n",
    "    \"\"\"\n",
    "    Solve for the simple harmonic motion of a mass-spring system using Euler-Crommer\n",
    "    \n",
    "    x is the position\n",
    "    v is the velocity\n",
    "    \"\"\"\n",
    "    \n",
    "    # initialize the model\n",
    "    t = 0\n",
    "    x = x0\n",
    "    v = v0\n",
    "    \n",
    "    while True:\n",
    "        model = {'t': t, 'x': x, 'v': v}\n",
    "        yield model # return the model state back to the caller\n",
    "    \n",
    "        if t > tmax:\n",
    "            break\n",
    "            \n",
    "        # calculate acceleration (force / mass)\n",
    "        a = - k/m * x\n",
    "        \n",
    "        # use the Euler-Cromer algorithm to update the state of the model\n",
    "        v = v + a * dt\n",
    "        x = x + v * dt\n",
    "        t = t + dt\n",
    "\n",
    "    \n",
    "def SHMEulerCromerApp(tmax=10, dt=0.1):\n",
    "    stepper = SHMEulerCromerStepper(tmax=tmax, dt=dt)\n",
    "    data = pd.DataFrame(stepper)\n",
    "    SHMPlotter(data)\n",
    "    return data\n",
    "    \n",
    "interactive(SHMEulerCromerApp, tmax=(2, 40, 2), dt=(0.01, 0.2, 0.02))"
   ]
  },
  {
   "cell_type": "markdown",
   "metadata": {},
   "source": [
    "The only change made to the code (besides changes the name `SHMEuler` to `SHMEulerCromer`) was to flip the order of the statements from\n",
    "\n",
    "```\n",
    "        x = x + v * dt\n",
    "        v = v + a * dt\n",
    "```\n",
    "\n",
    "to become\n",
    "\n",
    "```\n",
    "        v = v + a * dt\n",
    "        x = x + v * dt\n",
    "```"
   ]
  },
  {
   "cell_type": "markdown",
   "metadata": {},
   "source": [
    "With this modified Euler method, we first updating the velocity `v` and then using that to update the position `x`.\n",
    "\n",
    "In the Euler-Cromer method, energy (when averaged over one period of an oscillation) is conserved. This energy conservation is a key property of the numerical stability of this new method."
   ]
  },
  {
   "cell_type": "markdown",
   "metadata": {},
   "source": [
    "#### Euler-Richardson algorithm"
   ]
  },
  {
   "cell_type": "markdown",
   "metadata": {},
   "source": [
    "Rathering the computing the velocity at the beginning or the end of each interval, it is even better to compute the velocity and acceleration and the mid-point of each interval. This is the *Euler-Richardson* algorithm and is especially useful when the forces depend on velocity.\n",
    "\n",
    "Euler's method is used to find an intermediate position $x_{mid}$ and velocity $v_{mid}$ at a time $t_mid = t + \\Delta t/2$.\n",
    "\n",
    "We can then compute the force, $F(x_{mid}, v_{mid}, t_{mid})$ and the acceleration $a_{mid}$ at $t = t_{mid}$.\n",
    "\n",
    "The new position $x_{n+1}$ and velocity $v_{n+1}$ at time $t_{n+1}$ are then found using $v_{mid}$ and $a_{mid}$ with the Euler algorithm."
   ]
  },
  {
   "cell_type": "markdown",
   "metadata": {},
   "source": [
    "The Euler-Richardson algorithm is:\n",
    "\n",
    "$$\\begin{align}\n",
    "a_n &= F(x_n, v_n, t_n) /  m \\\\\n",
    "v_{mid} &= v_n + \\frac{1}{2} a_n \\Delta t \\\\\n",
    "x_{mid} &= x_n + \\frac{1}{2} v_n \\Delta t \\\\\n",
    "a_{mid} &= F(x_{mid}, v_{mid}, t + \\frac{1}{2} \\Delta t) / m\n",
    "\\end{align}\n",
    "$$\n",
    "\n",
    "and\n",
    "\n",
    "$$\\begin{align}\n",
    "v_{n+1} &= v_n + a_{mid} \\Delta t \\\\\n",
    "x_{n+1} &= x_n + v_{mid} \\Delta t \n",
    "\\end{align}\n",
    "$$"
   ]
  },
  {
   "cell_type": "code",
   "execution_count": null,
   "metadata": {},
   "outputs": [],
   "source": [
    "def SHMEulerRichardsonStepper(x0=1, v0=0, dt=0.1, tmax=10):\n",
    "    \"\"\"\n",
    "    Solve for the simple harmonic motion of a mass-spring system using Euler-Richardson\n",
    "    \n",
    "    x is the position\n",
    "    v is the velocity\n",
    "    \"\"\"\n",
    "    \n",
    "    # initialize the model\n",
    "    t = 0\n",
    "    x = x0\n",
    "    v = v0\n",
    "    \n",
    "    while True:\n",
    "        model = {'t': t, 'x': x, 'v': v}\n",
    "        yield model # return the model state back to the caller\n",
    "    \n",
    "        if t > tmax:\n",
    "            break\n",
    "            \n",
    "        # calculate acceleration (force / mass)\n",
    "        a = - k/m * x \n",
    "        \n",
    "        # use the Euler-Richardson algorithm to update the state of the model\n",
    "        vmid = v + 1/2 * a * dt\n",
    "        xmid = x + 1/2 * v * dt\n",
    "        amid = - k/m * xmid\n",
    "        \n",
    "        v = v + amid * dt\n",
    "        x = x + vmid * dt\n",
    "        t = t + dt\n",
    "    \n",
    "def SHMEulerRichardsonApp(tmax=10, dt=0.1):\n",
    "    stepper = SHMEulerRichardsonStepper(tmax=tmax, dt=dt)\n",
    "    data = pd.DataFrame(stepper)\n",
    "    SHMPlotter(data)\n",
    "    return data\n",
    "    \n",
    "interactive(SHMEulerRichardsonApp, tmax=(2, 40, 2), dt=(0.01, 0.2, 0.02))"
   ]
  },
  {
   "cell_type": "markdown",
   "metadata": {},
   "source": [
    "Even thought the Euler-Richardson algorithm requires twice as many calculations per time step, we can take use much larger values of $\\Delta t$ and still obtain better accuracy that either the Euler or Euler-Cromer algorithms."
   ]
  },
  {
   "cell_type": "markdown",
   "metadata": {},
   "source": [
    "- - -\n",
    "### Textbook readings\n",
    "\n",
    "- CSM 4.1 Simple Harmonic Motion\n",
    "- CSM 3.1 Modified Euler Algorithms\n",
    "\n",
    "### DataCamp exercises\n",
    "\n",
    "To learn more about Python, work through the following [DataCamp](http://datacamp.com) chapters:\n",
    "- Introduction to Python: Python Basics\n",
    "- Introduction to Python: Functions and Packages \n",
    "- Introduction to Python: NumPy \n",
    "- Intermediate Python for Data Science: Matplotlib \n",
    "- Intermediate Python for Data Science: Logic, Control Flow and Filtering \n",
    "- Intermediate Python for Data Science: Loops\n",
    "\n",
    "These tutorials remains available until the end of the course.\n",
    "\n",
    "### Assignment 2\n",
    "\n",
    "You should be working on Assignment 2 now (due Sunday Sept. 29).  Those two problems are taken directly from the textbook, so reviewing the textbook could be useful. Also, you probably want to start from the code we developed in the corresponding lectures.\n",
    "\n",
    "Please let me know if you want to meet to discuss this assignment via Zoom either 1-on-1 or with a group.\n",
    "\n",
    "### Lab 2\n",
    "\n",
    "Please ask for help!"
   ]
  }
 ],
 "metadata": {
  "anaconda-cloud": {},
  "kernelspec": {
   "display_name": "Python 3",
   "language": "python",
   "name": "python3"
  },
  "language_info": {
   "codemirror_mode": {
    "name": "ipython",
    "version": 3
   },
   "file_extension": ".py",
   "mimetype": "text/x-python",
   "name": "python",
   "nbconvert_exporter": "python",
   "pygments_lexer": "ipython3",
   "version": "3.6.7"
  }
 },
 "nbformat": 4,
 "nbformat_minor": 2
}
