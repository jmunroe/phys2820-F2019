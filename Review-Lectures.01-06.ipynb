{
 "cells": [
  {
   "cell_type": "markdown",
   "metadata": {},
   "source": [
    "# PHYS 2820\n",
    "## Review: Lectures 1-6"
   ]
  },
  {
   "cell_type": "code",
   "execution_count": 9,
   "metadata": {},
   "outputs": [],
   "source": [
    "%matplotlib inline\n",
    "import numpy as np\n",
    "import pandas as pd\n",
    "import sympy as sp\n",
    "sp.init_printing(use_latex='mathjax') # pretty printing with LaTeX\n",
    "from scipy.integrate import odeint\n",
    "from scipy.optimize import curve_fit\n",
    "import matplotlib.pyplot as plt\n",
    "import tqdm\n",
    "from ipywidgets import interactive, fixed"
   ]
  },
  {
   "cell_type": "markdown",
   "metadata": {},
   "source": [
    "- - - \n",
    "## DataCamp exercises\n",
    "\n",
    "To learn more about Python, continue to work through the following [DataCamp](http://datacamp.com) chapters over the next week:\n",
    "- Introduction to Python: Python Basics\n",
    "- Introduction to Python: Functions and Packages \n",
    "- Introduction to Python: NumPy \n",
    "- Intermediate Python for Data Science: Matplotlib \n",
    "- Intermediate Python for Data Science: Logic, Control Flow and Filtering \n",
    "- Intermediate Python for Data Science: Loops\n",
    "\n",
    "- - - \n",
    "## Textbook readings\n",
    "\n",
    "Read the following sections from [CSM Chapter 1](https://www.compadre.org/osp/document/ServeFile.cfm?ID=7375&DocID=2144&DocFID=3570&Attachment=1)\n",
    "- 1.1 Importance of computers in physics\n",
    "- 1.2 The importances of computer simulation\n",
    "- 2.1 Introduction\n",
    "- 2.2 Simulation free fall\n",
    "- 3.7 Effect of Drag Resistance\n",
    "- 3.8 Two-Dimensional Trajectories\n",
    "- 3.10 Visualizing Three-Dimensional Motion\n",
    "- 4.1 Simple Harmonic Motion\n",
    "- 3.1 Modified Euler Algorithms\n",
    "- 4.2 The Motion of a Pendulum\n",
    "- 4.3 Damped Harmonic Oscillator\n",
    "- 4.4 Response to External Forces\n",
    "- 5.6 Simulation of the Orbit\n",
    "- 5.1 Planetary Motion\n",
    "- 5.2 The Equations of Motion\n",
    "- 5.3 Circular and Elliptical Orbits\n",
    "- 5.4 Astronomical Units\n",
    "- 5.5 Log-log and Semilog Plots\n",
    "- 5.6 Simulation of the Orbit\n",
    "- 5.9  A Mini-Solar System\n"
   ]
  },
  {
   "cell_type": "markdown",
   "metadata": {
    "nbpresent": {
     "id": "6e650218-0025-416e-84ba-9fc1165161d0"
    },
    "slideshow": {
     "slide_type": "slide"
    }
   },
   "source": [
    "# Computer Simulation in Physics\n",
    "## Lecture 1"
   ]
  },
  {
   "cell_type": "markdown",
   "metadata": {
    "slideshow": {
     "slide_type": "slide"
    }
   },
   "source": [
    "One-decay process\n",
    "\n",
    "$$\\frac{\\mathrm{d}N}{\\mathrm{d}t} = -k \\; N$$\n",
    "\n"
   ]
  },
  {
   "cell_type": "markdown",
   "metadata": {
    "slideshow": {
     "slide_type": "skip"
    }
   },
   "source": [
    "## Exact symbolic solution"
   ]
  },
  {
   "cell_type": "code",
   "execution_count": 10,
   "metadata": {},
   "outputs": [],
   "source": [
    "t, k, N0 = sp.symbols('t, k, N0')\n",
    "N = sp.symbols('N', cls=sp.Function)"
   ]
  },
  {
   "cell_type": "code",
   "execution_count": 11,
   "metadata": {},
   "outputs": [
    {
     "data": {
      "text/latex": [
       "$\\displaystyle N{\\left(t \\right)} = N_{0} e^{- k t}$"
      ],
      "text/plain": [
       "           -k⋅t\n",
       "N(t) = N₀⋅ℯ    "
      ]
     },
     "execution_count": 11,
     "metadata": {},
     "output_type": "execute_result"
    }
   ],
   "source": [
    "ode = sp.Eq(N(t).diff(t), -k * N(t) )\n",
    "ics = {N(0): N0}\n",
    "\n",
    "sp.dsolve(ode, ics=ics)"
   ]
  },
  {
   "cell_type": "markdown",
   "metadata": {},
   "source": [
    "## Numerical Method\n",
    "\n",
    "Euler's Method: \n",
    "\n",
    "$$N_{i+1} = N_i + (-k N_i) \\Delta t$$"
   ]
  },
  {
   "cell_type": "markdown",
   "metadata": {},
   "source": [
    "## Numerical solution"
   ]
  },
  {
   "cell_type": "code",
   "execution_count": 18,
   "metadata": {},
   "outputs": [],
   "source": [
    "def Stepper(t0=0, dt=0.1, tmax=5, N0=10):\n",
    "    t = t0\n",
    "    N = N0\n",
    "    k = 3\n",
    "    \n",
    "    while True:\n",
    "        yield( {'t':t, 'N':N} )\n",
    "        \n",
    "        if t > tmax:\n",
    "            break\n",
    "        \n",
    "        N = N + (-k*N)*dt\n",
    "        t = t + dt\n",
    "    \n",
    "def Plot(data):\n",
    "    plt.plot(data.t, data.N, label='Numerical solution')\n",
    "    plt.xlabel('t')\n",
    "    plt.ylabel('N')\n",
    "\n",
    "def App():\n",
    "    stepper = Stepper()\n",
    "    data = pd.DataFrame(stepper)\n",
    "    \n",
    "    return data\n",
    "    \n",
    "data = App()"
   ]
  },
  {
   "cell_type": "code",
   "execution_count": 19,
   "metadata": {},
   "outputs": [],
   "source": [
    "def PlotExact(data):\n",
    "    t = data.t\n",
    "    k = 3\n",
    "    Nexact = data.N.iloc[0] * np.exp(-k*t)\n",
    "    \n",
    "    plt.plot(t, Nexact, label='Exact solution')"
   ]
  },
  {
   "cell_type": "code",
   "execution_count": 20,
   "metadata": {},
   "outputs": [
    {
     "data": {
      "text/plain": [
       "<matplotlib.legend.Legend at 0x7f1c6039d7f0>"
      ]
     },
     "execution_count": 20,
     "metadata": {},
     "output_type": "execute_result"
    },
    {
     "data": {
      "image/png": "[encoded data removed]",
      "text/plain": [
       "<Figure size 432x288 with 1 Axes>"
      ]
     },
     "metadata": {
      "needs_background": "light"
     },
     "output_type": "display_data"
    }
   ],
   "source": [
    "Plot(data)\n",
    "PlotExact(data)\n",
    "plt.legend()"
   ]
  },
  {
   "cell_type": "markdown",
   "metadata": {
    "slideshow": {
     "slide_type": "slide"
    }
   },
   "source": [
    "# Tools for Doing Simulations\n",
    "## Lecture 2"
   ]
  },
  {
   "cell_type": "markdown",
   "metadata": {},
   "source": [
    "### Example: A falling ball\n",
    "\n",
    "$$ F_g = -mg $$\n"
   ]
  },
  {
   "cell_type": "markdown",
   "metadata": {},
   "source": [
    "#### Equation of motion\n",
    "\n",
    "Newton's second law:\n",
    "\n",
    "$$ F = ma $$\n",
    "\n",
    "and writing the acceleration as derivative,\n",
    "\n",
    "$$ m \\frac{\\mathrm{d}^2y}{\\mathrm{d}t^2} = F = -mg $$\n",
    "\n",
    "This model is a *second-order differential equation* (2nd order DE).\n",
    "\n",
    "The analytical solution is already know from first year physics:\n",
    "\n",
    "$$\\begin{align}\n",
    "y(t) &= y(0) + v(0) t -\\frac{1}{2} g t^2\\\\\n",
    "v(t) &= v(0) -g t\n",
    "\\end{align}\n",
    "$$"
   ]
  },
  {
   "cell_type": "markdown",
   "metadata": {},
   "source": [
    "#### Numerical solution\n",
    "\n",
    "Rewrite 2nd order DE as a pair of *1st order DEs*:\n",
    "$$\\begin{align}\n",
    "\\frac{\\mathrm{d}y}{\\mathrm{d}t} &= v \\\\\n",
    "\\frac{\\mathrm{d}v}{\\mathrm{d}t} &= -g \\\\\n",
    "\\end{align}\n",
    "$$\n",
    "\n",
    "\n",
    "*Approximate* the derivatives by small (finite) differences:\n",
    "\n",
    "$$\\begin{align}\n",
    "\\frac{y(t+\\Delta t) - y(t)}{\\Delta t} &= v(t) \\\\\n",
    "\\frac{v(t+\\Delta t) - v(t)}{\\Delta t} &= -g \n",
    "\\end{align}\n",
    "$$\n",
    "\n",
    "Notice that in the limit of $ \\Delta t \\rightarrow 0$, this approximation reduces to the pair of 1st order DEs."
   ]
  },
  {
   "cell_type": "markdown",
   "metadata": {},
   "source": [
    "Rewrite the equations as\n",
    "\n",
    "$$\n",
    "\\begin{align}\n",
    "y(t + \\Delta t) & = y(t) + v(t) \\Delta t \\\\\n",
    "v(t + \\Delta t) & = v(t) -g \\Delta t\n",
    "\\end{align}\n",
    "$$\n",
    "\n",
    "This is an example of the **Euler algorithm** which found using a *finite difference* equation where $\\Delta t$ is the time step.\n",
    "\n"
   ]
  },
  {
   "cell_type": "markdown",
   "metadata": {},
   "source": [
    "- - -\n",
    "\n",
    "### **Exercise 2.1** A simple example\n",
    "Consider the first-order differential equation\n",
    "$$\\frac{\\mathrm{d}y}{\\mathrm{d}x} = f(x)$$\n",
    "\n",
    "where $f(x)$ is a function of $x$. The approximate solution as given by the Euler algorithm is\n",
    "\n",
    "$$ y_{n+1} = y_n + f(x_n) \\Delta x.$$\n",
    "Note that the rate of change of $y$ has been approximated by its value the *beginning of the interval*, $f(x_n)$\n",
    "\n",
    "a. Suppose that $f(x) = 2x$ and $y(x=0) = 0$. The analytical solution is $y(x) = x^2$, which we can confirm by taking the derivative of $y(x)$.\n",
    "Convert the first-order differential equation into a finite difference equatino using the Euler algorithm. For simplicity, choose $\\Delta x = 0.1$. It may be a good idea to first use a calculator or pencil and paper to determine $y_n$ for the first several time steps.\n",
    "\n",
    "b. Plot the difference between the exact solution and the approximate solution given by the Euler algorithm. What condition would the rate of change, $f(x)$, have to satisfy for the Euler algorithm to give the exact answer?\n",
    "\n",
    "*(will appear on Assignment 1)*\n",
    "- - -"
   ]
  },
  {
   "cell_type": "markdown",
   "metadata": {},
   "source": [
    "## Simulating free fall\n",
    "$$\\begin{align}\n",
    "\\frac{\\mathrm{d}y}{\\mathrm{d}t} &= v \\\\\n",
    "\\frac{\\mathrm{d}v}{\\mathrm{d}t} &= -g \\\\\n",
    "\\end{align}\n",
    "$$"
   ]
  },
  {
   "cell_type": "code",
   "execution_count": 35,
   "metadata": {},
   "outputs": [
    {
     "data": {
      "image/png": "[encoded data removed]",
      "text/plain": [
       "<Figure size 432x288 with 1 Axes>"
      ]
     },
     "metadata": {
      "needs_background": "light"
     },
     "output_type": "display_data"
    }
   ],
   "source": [
    "def Stepper(t0=0, dt=0.1, tmax=5, v0=0, y0=10, g=9.81):\n",
    "    t = t0\n",
    "    y = y0\n",
    "    v = v0\n",
    "    \n",
    "    while True:\n",
    "        yield( {'t':t, 'y':y, 'v':v} )\n",
    "        \n",
    "        if t > tmax:\n",
    "            break\n",
    "        \n",
    "        # Euler's method\n",
    "        y = y + ( v)*dt\n",
    "        v = v + (-g)*dt\n",
    "        \n",
    "        t = t + dt\n",
    "    \n",
    "def Plot(data):\n",
    "    plt.plot(data.t, data.y)\n",
    "    plt.xlabel('t')\n",
    "    plt.ylabel('y')\n",
    "\n",
    "def App(tmax=5):\n",
    "    stepper = Stepper(tmax=tmax)\n",
    "    data = pd.DataFrame(stepper)\n",
    "    \n",
    "    return data\n",
    "    \n",
    "data = App()\n",
    "Plot(data)"
   ]
  },
  {
   "cell_type": "markdown",
   "metadata": {},
   "source": [
    "### String formatting"
   ]
  },
  {
   "cell_type": "code",
   "execution_count": 23,
   "metadata": {},
   "outputs": [],
   "source": [
    "a = 1.2345"
   ]
  },
  {
   "cell_type": "code",
   "execution_count": 30,
   "metadata": {},
   "outputs": [
    {
     "name": "stdout",
     "output_type": "stream",
     "text": [
      "a = 1.2345\n",
      "a = 1.23\n",
      "a = 1.23\n",
      "3*a = 3.70\n"
     ]
    }
   ],
   "source": [
    "print(\"a = {}\".format(a))\n",
    "print(\"a = {:.2f}\".format(a))\n",
    "print(f\"a = {a:.2f}\")\n",
    "print(f\"3*a = {(3*a):.2f}\")"
   ]
  },
  {
   "cell_type": "markdown",
   "metadata": {},
   "source": [
    "Here, we are formatting the string so that 3 places are used after the decimal point.  Python string formatter can also be use to control the width of number, padding with spaces or zeros, and/or displaying in exponential notation.  \n",
    "\n",
    "See [https://pyformat.info/](https://pyformat.info/) for additional examples of string formats."
   ]
  },
  {
   "cell_type": "markdown",
   "metadata": {},
   "source": [
    "### Alternative to `while True:`\n",
    "\n",
    "```\n",
    "nSteps = 1000\n",
    "for i in range(nSteps):\n",
    "    ## numerical method goes here\n",
    "```"
   ]
  },
  {
   "cell_type": "markdown",
   "metadata": {
    "slideshow": {
     "slide_type": "slide"
    }
   },
   "source": [
    "# Writing Numerical Programs\n",
    "## Lecture 3"
   ]
  },
  {
   "cell_type": "markdown",
   "metadata": {},
   "source": [
    "We can use better program structure by splitting up the work our main function into  sub-tasks.\n",
    "\n",
    "- A `Stepper()` function to iterate through the numerical method.\n",
    "- A `Plot()` function to display the results\n",
    "- An `App()` function to bring it all together and *drive* the simluation."
   ]
  },
  {
   "cell_type": "code",
   "execution_count": 33,
   "metadata": {},
   "outputs": [],
   "source": [
    "from ipywidgets import interactive"
   ]
  },
  {
   "cell_type": "code",
   "execution_count": 38,
   "metadata": {},
   "outputs": [
    {
     "data": {
      "application/vnd.jupyter.widget-view+json": {
       "model_id": "81d46c75775548479de31a60a4cbe9f3",
       "version_major": 2,
       "version_minor": 0
      },
      "text/plain": [
       "interactive(children=(FloatSlider(value=5.0, description='tmax', max=5.0), Output()), _dom_classes=('widget-in…"
      ]
     },
     "metadata": {},
     "output_type": "display_data"
    }
   ],
   "source": [
    "def FallingBallInteractiveApp(tmax=5):\n",
    "    \n",
    "    dt = 0.01\n",
    "    ball = App(tmax=tmax)\n",
    "    Plot(ball)\n",
    "    \n",
    "interactive(FallingBallInteractiveApp, tmax=(0,5,0.1))"
   ]
  },
  {
   "cell_type": "markdown",
   "metadata": {},
   "source": [
    "**Note** `interactive` will not be on the Final Exam."
   ]
  },
  {
   "cell_type": "markdown",
   "metadata": {},
   "source": [
    "### Bouncing ball"
   ]
  },
  {
   "cell_type": "markdown",
   "metadata": {},
   "source": [
    "To model a *bounce* with energy loss, use"
   ]
  },
  {
   "cell_type": "code",
   "execution_count": 43,
   "metadata": {},
   "outputs": [
    {
     "name": "stdout",
     "output_type": "stream",
     "text": [
      "Before bounce: v=-1.00 y=-1\n",
      "After Bounce: v=0.71 y=1\n"
     ]
    }
   ],
   "source": [
    "v = -1\n",
    "y = -1\n",
    "loss = 0.50\n",
    "print(f'Before bounce: v={v:.2f} y={y}')\n",
    "\n",
    "# model the bounce\n",
    "if y < 0:\n",
    "    # assume energy is reduced by a fractional loss\n",
    "    m = 1 # assume ball mass is 1\n",
    "    E = 0.5 * m * v**2 # kinetic energy\n",
    "    Enew = E*(1-loss)\n",
    "    v = np.sqrt(2*Enew / m)\n",
    "\n",
    "    y = -y\n",
    "    \n",
    "print(f'After Bounce: v={v:.2f} y={y}')"
   ]
  },
  {
   "cell_type": "markdown",
   "metadata": {},
   "source": [
    "- - -\n",
    "### **Exercise** Model a falling ball\n",
    "\n",
    "a. Write a new program called `FallingBallApp` that models and then plots the vertical position verus time for a falling ball under gravity that stops when it hits the ground.  You will need to create a new function `FallingBallStepper` that yields the output at every time step. Your program should call a new function `FallingBallPlot` that plots both the numerical results **and** the analytical solution for all time steps. Be sure to include a legend and label your axes. Run your program in a Jupyter notebook to show your plot.\n",
    "\n",
    "b. Modify your `FallingBallApp` program so that it take a single argument `dt` to set the time step.  Make your program interactive (`from ipywidgets import interactive`) to explore how the numerical solution differs from the analytical solution. How much smaller does $\\Delta t$ have to be to reduce the error in the numerical results by a factor of two for the same final time? What about a factor of four? How does the error depend on $\\Delta t$?\n",
    "\n",
    "(*Assignment 1*)"
   ]
  },
  {
   "cell_type": "markdown",
   "metadata": {
    "slideshow": {
     "slide_type": "slide"
    }
   },
   "source": [
    "# Effects of Drag Resistance\n",
    "## Lecture 4"
   ]
  },
  {
   "cell_type": "markdown",
   "metadata": {},
   "source": [
    "The more general problem is to have an arbitrary sum of forces $F_{\\mathrm{net}}$ acting on a particle. Then the equation of motion $F_{\\mathrm{net}} = m  \\frac{\\mathrm{d}^2y}{\\mathrm{d}t^2} $ leads to \n",
    "\n",
    "$$\\begin{align}\n",
    "\\frac{\\mathrm{d}y}{\\mathrm{d}t} &= v \\\\\n",
    "\\frac{\\mathrm{d}v}{\\mathrm{d}t} &= \\frac{F_{\\mathrm{net}}}{m} . \\\\\n",
    "\\end{align}\n",
    "$$\n",
    "\n",
    "Approximating the derivatives as finite differences leads again to Euler's method:\n",
    "\n",
    "$$\n",
    "\\begin{align}\n",
    "y(t + \\Delta t) & = y(t) + v(t) \\Delta t \\\\\n",
    "v(t + \\Delta t) & = v(t) + \\frac{F_{\\mathrm{net}}}{m}  \\Delta t.\n",
    "\\end{align}\n",
    "$$\n",
    "\n",
    "or \n",
    "```\n",
    "y = y + v*dt\n",
    "v = v + Fnet/m*dt\n",
    "```\n",
    "\n",
    "It is important to recognize that that Euler's method is a numerical algorithm for solving differential equations. There is nothing special at all about the problem being about a falling particle.  In the most general case, we can approximately solve the  differential equation\n",
    "\n",
    "$$ \\frac{\\mathrm{d}y}{\\mathrm{d}t} = f(y, t)$$\n",
    "\n",
    "with the algorithm\n",
    "\n",
    "$$y(t + \\Delta t) = y(t) + f(y(t), t) \\Delta t$$\n",
    "\n",
    "where $f(y, t)$ is any mathematical function of $y$ and (optionally) $t$."
   ]
  },
  {
   "cell_type": "markdown",
   "metadata": {},
   "source": [
    "- - -\n",
    "\n",
    "### **Problem 3.7** Position-dependent force\n",
    "\n",
    "Extend `FallingParticleStepper()` and `FallingParticleApp()` to simulate the fall of a particle with the position-dependent force law $F = mg\\left(1-2\\frac{y}{R}\\right)$. Assume that a particle is dropped from a height $h$ with zero initial velocity and compute its impact velocity (speed) when it hits the ground at $y= 0$. Determine the value of $h$ for which the impact velocity differs by one percent from its value with a constant acceleration $g=9.8\\; \\mathrm{m/s}^2$. Take $R= 6.37\\times10^6\\;\\mathrm{m}$. Make sure that the one percent difference is due to the physics of the force law and not the accuracy of your algorithm (this can be confirmed by showing that the result changes by signifcantly less than one percent if you half the size of your time step).\n",
    "\n",
    "*(will be part of Assignment 2)*\n",
    "- - - "
   ]
  },
  {
   "cell_type": "markdown",
   "metadata": {},
   "source": [
    "## Drag force due to air resistance"
   ]
  },
  {
   "cell_type": "markdown",
   "metadata": {},
   "source": [
    "For particles near the Earth's surface, a more important modication is to include the drag force due to air resistance.  \n",
    "\n",
    "The direction of the drag force $F_{d}$ is opposite to the velocity of the particle. \n",
    "\n",
    "For a falling body, $F_{d}$ is upward since the velocity is downwards. \n",
    "\n",
    "Hence the total force $F$ on a falling body is\n",
    "\n",
    "$$ F = - m g + F_{d}.$$\n"
   ]
  },
  {
   "cell_type": "markdown",
   "metadata": {},
   "source": [
    "\n",
    "### Empirical model for drag force"
   ]
  },
  {
   "cell_type": "markdown",
   "metadata": {
    "slideshow": {
     "slide_type": "slide"
    }
   },
   "source": [
    "Two common ways of modelling a drag force are\n",
    "\n",
    "$$ F_{d}(v) =  C_1 v, $$\n",
    "\n",
    "and\n",
    "$$ F_{d}(v) = C_2 v^2,$$\n",
    "\n",
    "where $C_1$ and $C_2$ depend on the properties of the fluid and the shape of the object.\n",
    "\n",
    "Unlike kinetic friction between two sliding surfaces which depends only on the normal force, drag friction depends on the speed, $v$,  of the object."
   ]
  },
  {
   "cell_type": "markdown",
   "metadata": {
    "slideshow": {
     "slide_type": "subslide"
    }
   },
   "source": [
    "At very low velocities, the behaviour is essentially linear (this is called **Stokes's Law**) and is represented by the $C_1$ term the linear dependence on $v$.\n",
    "\n",
    "At more reasonable velocities the behaviour is quadratic as given by the $C_2$ term.\n",
    "\n",
    "From fluid dynamics, exact values of $C_2$ can be computed only for idealized shapes such as spheres and cylinders. For real objects with more complicated geometries $C_2$ can not be calculated and must be measured from experiment.  We can, however, rewrite the quadratic the drag force as\n",
    "\n",
    " $$ F_d =  \\frac{1}{2} C_d \\rho A v^2$$\n",
    "\n",
    "where $\\rho$ is the density of air, $A$ is the frontal cross-sectional area of the falling object, and $C_d$ is called the **drag coefficient**.  $C_d$ depends on the aerodynamics and shape of an object and it is typically between 0.5 and 1.5 in value."
   ]
  },
  {
   "cell_type": "markdown",
   "metadata": {},
   "source": [
    "## Falling paper bag"
   ]
  },
  {
   "cell_type": "code",
   "execution_count": 45,
   "metadata": {},
   "outputs": [],
   "source": [
    "def PaperBagStepper(A=0.016, dt=0.01, y0=10, v0=0, tmax=2):\n",
    "    \"\"\"\n",
    "    Model a falling object of cross-sectional area A.\n",
    "    \"\"\"\n",
    "        \n",
    "    # initialize the model\n",
    "    g = 9.8 # m/s2\n",
    "    ρ = 1.225 # kg/m3, air\n",
    "    Cd = 1.0 \n",
    "    m = 0.012 # kg\n",
    "    \n",
    "    t = 0\n",
    "    y = y0\n",
    "    v = v0\n",
    "    \n",
    "    while True:\n",
    "        model = {'t': t, 'y': y, 'v': v}\n",
    "        yield model # return to the caller\n",
    "            \n",
    "        if t > tmax:\n",
    "            break\n",
    "        \n",
    "        Fg = -m*g\n",
    "        Fd = 0.5 * Cd * ρ * A * v**2\n",
    "        Fnet = Fg + Fd\n",
    "        \n",
    "        # use the Euler algorithm to update the state of the model\n",
    "        y = y + v*dt\n",
    "        v = v + Fnet/m*dt\n",
    "        t = t + dt\n"
   ]
  },
  {
   "cell_type": "markdown",
   "metadata": {},
   "source": [
    "We need at least one function to visualize the results. Here we are using the function `plt.subplots()` to create two axes. In the top one we plot the position vs time. and the bottom one we plot the velocity vs time."
   ]
  },
  {
   "cell_type": "code",
   "execution_count": 46,
   "metadata": {},
   "outputs": [],
   "source": [
    "def FirstPaperBagPlot(bag):\n",
    "    fig, axs = plt.subplots(2, 1)\n",
    "    axs[0].plot(bag.t, bag.y)\n",
    "    axs[0].set_ylabel('y (m)')\n",
    "    \n",
    "    axs[1].plot(bag.t, bag.v)\n",
    "    axs[1].set_ylabel('v (m)')\n",
    "    axs[1].set_xlabel('t (s)')"
   ]
  },
  {
   "cell_type": "markdown",
   "metadata": {},
   "source": [
    "And a driver program to put it all together"
   ]
  },
  {
   "cell_type": "code",
   "execution_count": 47,
   "metadata": {},
   "outputs": [],
   "source": [
    "def FirstPaperBagApp(A=0.016):\n",
    "    \n",
    "    model = PaperBagStepper(A=A)\n",
    "    bag = pd.DataFrame(model)\n",
    "    \n",
    "    FirstPaperBagPlot(bag)"
   ]
  },
  {
   "cell_type": "code",
   "execution_count": 48,
   "metadata": {},
   "outputs": [
    {
     "data": {
      "image/png": "[encoded data removed]",
      "text/plain": [
       "<Figure size 432x288 with 2 Axes>"
      ]
     },
     "metadata": {
      "needs_background": "light"
     },
     "output_type": "display_data"
    }
   ],
   "source": [
    "FirstPaperBagApp()"
   ]
  },
  {
   "cell_type": "markdown",
   "metadata": {},
   "source": [
    "To extract out the terminal speed we need to look at the last row in the data frame."
   ]
  },
  {
   "cell_type": "code",
   "execution_count": 49,
   "metadata": {},
   "outputs": [
    {
     "data": {
      "text/html": [
       "<div>\n",
       "<style scoped>\n",
       "    .dataframe tbody tr th:only-of-type {\n",
       "        vertical-align: middle;\n",
       "    }\n",
       "\n",
       "    .dataframe tbody tr th {\n",
       "        vertical-align: top;\n",
       "    }\n",
       "\n",
       "    .dataframe thead th {\n",
       "        text-align: right;\n",
       "    }\n",
       "</style>\n",
       "<table border=\"1\" class=\"dataframe\">\n",
       "  <thead>\n",
       "    <tr style=\"text-align: right;\">\n",
       "      <th></th>\n",
       "      <th>t</th>\n",
       "      <th>y</th>\n",
       "      <th>v</th>\n",
       "    </tr>\n",
       "  </thead>\n",
       "  <tbody>\n",
       "    <tr>\n",
       "      <th>196</th>\n",
       "      <td>1.96</td>\n",
       "      <td>4.065890</td>\n",
       "      <td>-3.464022</td>\n",
       "    </tr>\n",
       "    <tr>\n",
       "      <th>197</th>\n",
       "      <td>1.97</td>\n",
       "      <td>4.031249</td>\n",
       "      <td>-3.464027</td>\n",
       "    </tr>\n",
       "    <tr>\n",
       "      <th>198</th>\n",
       "      <td>1.98</td>\n",
       "      <td>3.996609</td>\n",
       "      <td>-3.464031</td>\n",
       "    </tr>\n",
       "    <tr>\n",
       "      <th>199</th>\n",
       "      <td>1.99</td>\n",
       "      <td>3.961969</td>\n",
       "      <td>-3.464035</td>\n",
       "    </tr>\n",
       "    <tr>\n",
       "      <th>200</th>\n",
       "      <td>2.00</td>\n",
       "      <td>3.927329</td>\n",
       "      <td>-3.464039</td>\n",
       "    </tr>\n",
       "  </tbody>\n",
       "</table>\n",
       "</div>"
      ],
      "text/plain": [
       "        t         y         v\n",
       "196  1.96  4.065890 -3.464022\n",
       "197  1.97  4.031249 -3.464027\n",
       "198  1.98  3.996609 -3.464031\n",
       "199  1.99  3.961969 -3.464035\n",
       "200  2.00  3.927329 -3.464039"
      ]
     },
     "execution_count": 49,
     "metadata": {},
     "output_type": "execute_result"
    }
   ],
   "source": [
    "model = PaperBagStepper()\n",
    "bag = pd.DataFrame(model)\n",
    "bag.tail()"
   ]
  },
  {
   "cell_type": "markdown",
   "metadata": {},
   "source": [
    "In Pandas, you can reference a particular row with `.iloc[]`"
   ]
  },
  {
   "cell_type": "code",
   "execution_count": 51,
   "metadata": {},
   "outputs": [
    {
     "data": {
      "text/plain": [
       "t    2.000000\n",
       "y    3.927329\n",
       "v   -3.464039\n",
       "Name: 200, dtype: float64"
      ]
     },
     "execution_count": 51,
     "metadata": {},
     "output_type": "execute_result"
    }
   ],
   "source": [
    "bag.iloc[200]"
   ]
  },
  {
   "cell_type": "markdown",
   "metadata": {},
   "source": [
    "Using the index `-1` gives you the last row in the data frame"
   ]
  },
  {
   "cell_type": "code",
   "execution_count": 52,
   "metadata": {},
   "outputs": [
    {
     "data": {
      "text/plain": [
       "t    2.000000\n",
       "y    3.927329\n",
       "v   -3.464039\n",
       "Name: 200, dtype: float64"
      ]
     },
     "execution_count": 52,
     "metadata": {},
     "output_type": "execute_result"
    }
   ],
   "source": [
    "bag.iloc[-1]"
   ]
  },
  {
   "cell_type": "markdown",
   "metadata": {},
   "source": [
    "We may want to show the the results for many different cross-sectional areas all in one plot."
   ]
  },
  {
   "cell_type": "code",
   "execution_count": 53,
   "metadata": {},
   "outputs": [],
   "source": [
    "def SecondPaperBagApp():\n",
    "    \n",
    "    # set of cross-sectional areas\n",
    "    As = np.arange(0.005, 0.05, 0.005)\n",
    "    \n",
    "    # list to hold the terminal speeds, v\n",
    "    vs = []\n",
    "    \n",
    "    # we want to reuse the figure axes so we create a single set of axes\n",
    "    # here in the driver program\n",
    "    fig, axs = plt.subplots(2, 1)\n",
    "    for A in As:\n",
    "        model = PaperBagStepper(A=A, dt=0.001)\n",
    "        bag = pd.DataFrame(model)\n",
    "    \n",
    "        # take the absolute value of velocity as the terminal speed\n",
    "        v = abs(bag.iloc[-1].v)\n",
    "        # store this value for later\n",
    "        vs.append(v)\n",
    "        \n",
    "        # the axes are passed into the plotting function\n",
    "        SecondPaperBagPlot(bag, axs)\n",
    "        \n",
    "    plt.subplots(1, 1)\n",
    "    plt.plot(As, vs, 'o-')\n",
    "    plt.xlabel('Cross-sectional area $A$ (m$^2$)')\n",
    "    plt.ylabel('Terminal Speed $v$ (m/s)')\n",
    "    "
   ]
  },
  {
   "cell_type": "code",
   "execution_count": 54,
   "metadata": {},
   "outputs": [],
   "source": [
    "def SecondPaperBagPlot(bag, axs):\n",
    "    axs[0].plot(bag.t, bag.y)\n",
    "    axs[0].set_ylabel('y (m)')\n",
    "    \n",
    "    axs[1].plot(bag.t, bag.v)\n",
    "    axs[1].set_ylabel('v (m)')\n",
    "    axs[1].set_xlabel('t (s)')"
   ]
  },
  {
   "cell_type": "code",
   "execution_count": 55,
   "metadata": {},
   "outputs": [
    {
     "data": {
      "image/png": "[encoded data removed]",
      "text/plain": [
       "<Figure size 432x288 with 2 Axes>"
      ]
     },
     "metadata": {
      "needs_background": "light"
     },
     "output_type": "display_data"
    },
    {
     "data": {
      "image/png": "[encoded data removed]",
      "text/plain": [
       "<Figure size 432x288 with 1 Axes>"
      ]
     },
     "metadata": {
      "needs_background": "light"
     },
     "output_type": "display_data"
    }
   ],
   "source": [
    "SecondPaperBagApp()"
   ]
  },
  {
   "cell_type": "markdown",
   "metadata": {},
   "source": [
    "This shows, as expected, as the cross-sectional area increases the terminal speed decreases."
   ]
  },
  {
   "cell_type": "markdown",
   "metadata": {
    "slideshow": {
     "slide_type": "slide"
    }
   },
   "source": [
    "# Two-Dimensional Trajectories\n",
    "## Lecture 5"
   ]
  },
  {
   "cell_type": "markdown",
   "metadata": {
    "slideshow": {
     "slide_type": "slide"
    }
   },
   "source": [
    "In the absence of air-resistance, the equations of motion (Newton's 2nd Law) are:"
   ]
  },
  {
   "cell_type": "markdown",
   "metadata": {
    "slideshow": {
     "slide_type": "fragment"
    }
   },
   "source": [
    "$$\n",
    "\\begin{eqnarray}\n",
    "m\\frac{d^2 x}{dt^2} =& 0 \\\\\n",
    "m\\frac{d^2 y}{dt^2} =& -mg\n",
    "\\end{eqnarray}\n",
    "$$"
   ]
  },
  {
   "cell_type": "markdown",
   "metadata": {
    "slideshow": {
     "slide_type": "slide"
    }
   },
   "source": [
    "These are second-order differential equations.  A standard technique for solving higher order differential equations is to rewrite them as a system of first order differential equations.  That is,"
   ]
  },
  {
   "cell_type": "markdown",
   "metadata": {
    "slideshow": {
     "slide_type": "fragment"
    }
   },
   "source": [
    "$$\n",
    "\\begin{eqnarray}\n",
    "\\frac{d x}{dt} =& v_x \\\\\n",
    "m\\frac{d v_x}{dt} =& 0 \\\\\n",
    "\\frac{d y}{dt} =& v_y \\\\\n",
    "m\\frac{d v_y}{dt} =& -m g\n",
    "\\end{eqnarray}\n",
    "$$"
   ]
  },
  {
   "cell_type": "markdown",
   "metadata": {
    "slideshow": {
     "slide_type": "slide"
    }
   },
   "source": [
    "There are now four equations written out for the variables $x, y, v_x, v_y$.  As before, we can solve this problem by using Euler's method:"
   ]
  },
  {
   "cell_type": "markdown",
   "metadata": {
    "slideshow": {
     "slide_type": "fragment"
    }
   },
   "source": [
    "$$\n",
    "\\begin{align}\n",
    "x_{i+1} &= x_i + v_{x,i} \\Delta t \\\\\n",
    "v_{x,i+1} &= v_{x,i} \\\\\n",
    "y_{i+1} &= y_i + v_{y,i} \\Delta t \\\\\n",
    "v_{y,i+1} &= v_{y,i} - g \\Delta t\n",
    "\\end{align}\n",
    "$$"
   ]
  },
  {
   "cell_type": "markdown",
   "metadata": {
    "slideshow": {
     "slide_type": "fragment"
    }
   },
   "source": [
    "This algorithm allows us to estimate the position and velocity of a projectile given the intial values of $x, y, v_x$, and $v_y$. In this notation the subscript $_{i+1}$ indicate the next time step and the subscript $_{i}$ indicates the current time step. \n",
    "\n",
    "This notation is used in the sense\n",
    "\n",
    "$$\n",
    "\\begin{align}\n",
    "x_i &= x(t_i) \\\\\n",
    "x_{i+1} &= x(t_{i+1i}) \\\\\n",
    "v_{y, i+1} &= v_y(t_{i+i})\n",
    "\\end{align}\n",
    "$$\n",
    "\n",
    "and so on for each variable. The idea is we are evaluating the function $x(t)$, $y(t)$, $v_x(t)$, and $v_y(t)$ and the specific points $t = t_0, t_1, t_2, \\ldots, t_i, t_{i+1}, \\ldots$\n"
   ]
  },
  {
   "cell_type": "markdown",
   "metadata": {
    "slideshow": {
     "slide_type": "slide"
    }
   },
   "source": [
    "Like in the falling particle problem, air resistance is important. To introduce air resistance we can model the drag as\n",
    "\n",
    "$$ F_{d} = - C_2 v^2 $$\n",
    "\n",
    "like we did in the falling particle problem where $v$ is the magnitude of the velocity vector. Since force is vector so we need to split this into horizontal and vertical components."
   ]
  },
  {
   "cell_type": "markdown",
   "metadata": {
    "slideshow": {
     "slide_type": "fragment"
    }
   },
   "source": [
    "This force is a vector and always directed in the opposite direction of the velocity vector.\n",
    "\n",
    "\\begin{align}\n",
    "F_{d,x} = F_{d} \\cos \\theta = F_{d} (v_x / v) \\\\\n",
    "F_{d,y} = F_{d} \\sin \\theta = F_{d} (v_y / v)\n",
    "\\end{align}\n",
    "\n",
    "we can write\n",
    "\n",
    "$$\n",
    "\\begin{align}\n",
    "F_{d, x} = - C_2 v v_x \\\\\n",
    "F_{d, y} = - C_2 v v_y \n",
    "\\end{align}\n",
    "$$"
   ]
  },
  {
   "cell_type": "markdown",
   "metadata": {},
   "source": [
    "*Whiteboard exercise to draw out these vectors.*"
   ]
  },
  {
   "cell_type": "markdown",
   "metadata": {},
   "source": [
    "So the new equations of motion will be\n",
    "\n",
    "$$\n",
    "\\begin{eqnarray}\n",
    "\\frac{d x}{dt} =& v_x \\\\\n",
    "m \\frac{d v_x}{dt} =& F_{d,x} \\\\\n",
    "\\frac{d y}{dt} =& v_y \\\\\n",
    "m\\frac{d v_y}{dt} =& -mg + F_{d,y}\n",
    "\\end{eqnarray}\n",
    "$$"
   ]
  },
  {
   "cell_type": "markdown",
   "metadata": {},
   "source": [
    "- - - \n",
    "#### Euler's Method\n",
    "\n",
    "To numerically solve the differential equation\n",
    "\n",
    "$$\\begin{align}\n",
    "\\frac{d y}{dt} &= f(y, t) \\\\\n",
    "y(t_0) &= y_0\n",
    "\\end{align}$$\n",
    "\n",
    "we can use the Euler's method algorithm\n",
    "\n",
    "$$\\begin{align}\n",
    "y(t_0) &= y_0 \\\\\n",
    "y(t_{i+1}) &= y(t_i) + f(y(t_i), t_i) \\Delta t\n",
    "\\end{align}\n",
    "$$\n",
    "- - -"
   ]
  },
  {
   "cell_type": "markdown",
   "metadata": {
    "slideshow": {
     "slide_type": "slide"
    }
   },
   "source": [
    "We can add these drag forces to our algorithm like we did last previously."
   ]
  },
  {
   "cell_type": "markdown",
   "metadata": {
    "slideshow": {
     "slide_type": "fragment"
    }
   },
   "source": [
    "\n",
    "\\begin{align}\n",
    "x_{i+1} &= x_i + v_{x,i} \\Delta t \\\\\n",
    "v_{x,i+1} &= v_{x,i} + \\left(- \\frac{C_2 v_i v_{x,i}}{m}\\right) \\Delta t \\\\\n",
    "y_{i+1} &= y_i + v_{y,i} \\Delta t \\\\\n",
    "v_{y,i+1} &= v_{y,i} + \\left(- g  - \\frac{C_2 v_i v_{y,i}}{m}\\right) \\Delta t\n",
    "\\end{align}"
   ]
  },
  {
   "cell_type": "markdown",
   "metadata": {},
   "source": [
    "Here the term $v_i$ means the speed at time step $t_i$ and where the speed is calculated as $v = \\sqrt{v_x^2 + v_y^2}$.\n",
    "\n",
    "### **coupled** vs **decoupled** equations\n",
    "\n",
    "In projectile motion for particle without air resistance, one of the strategies we used was to treat the vertical and horizontal motion independently. We can that the horizontal and vertical motion are *decoupled*.\n",
    "\n",
    "In the situation with air resistance the horizontal and vertical motion are *coupled* together through the speed term. They must be solved for simultaneously."
   ]
  },
  {
   "cell_type": "markdown",
   "metadata": {
    "slideshow": {
     "slide_type": "slide"
    }
   },
   "source": [
    "### Simulation of position vs. time for a cannon ball"
   ]
  },
  {
   "cell_type": "code",
   "execution_count": 68,
   "metadata": {},
   "outputs": [],
   "source": [
    "def ProjectileMotionStepper(dt=0.01,\n",
    "                            m=1, C2=0.005, g=9.81,\n",
    "                            x0=0, y0=0, \n",
    "                            vx0=30, vy0=30,\n",
    "                            tmax=6):\n",
    "    \n",
    "    # initialize the model\n",
    "    t = 0\n",
    "    x = x0\n",
    "    y = y0\n",
    "    vx = vx0\n",
    "    vy = vy0\n",
    "    \n",
    "    while True:\n",
    "        \n",
    "        model = {'t': t, \n",
    "                 'x': x, 'y': y,\n",
    "                 'vx': vx, 'vy': vy}\n",
    "        yield model # return the model state back to the caller\n",
    "    \n",
    "        if t > tmax:\n",
    "            break\n",
    "        if y < 0: # stop if the projectile hits the ground\n",
    "            break\n",
    "            \n",
    "        # drag forces\n",
    "        v = np.sqrt(vx**2+vy**2)\n",
    "        Fdx = -C2*v*vx\n",
    "        Fdy = -C2*v*vy\n",
    "        \n",
    "        # use the Euler algorithm to update the state of the model\n",
    "        x = x + vx*dt\n",
    "        y = y + vy*dt\n",
    "        vx = vx + Fdx/m * dt\n",
    "        vy = vy + (Fdy/m - g) * dt\n",
    "        t = t + dt"
   ]
  },
  {
   "cell_type": "code",
   "execution_count": 72,
   "metadata": {},
   "outputs": [],
   "source": [
    "def ProjectileMotionPlot(particle, style='', legend=True):\n",
    "    # style is optional parameter to control color, linestyle, and marker used\n",
    "    \n",
    "    plt.plot(particle.x, particle.y, style, label='Numerical')\n",
    "    plt.ylabel('y (m)')\n",
    "    plt.xlabel('x (m)')\n",
    "    \n",
    "    # extract out initial conditions\n",
    "    init = particle.iloc[0]\n",
    "    x0 = init.x\n",
    "    y0 = init.y\n",
    "    vx0 = init.vx\n",
    "    vy0 = init.vy\n",
    "   \n",
    "    # Analytical solution\n",
    "    g = 9.81\n",
    "    x = particle.x\n",
    "    y = y0 + vy0/vx0 * (x-x0) - 1/2 * g/vx0**2 * (x-x0)**2\n",
    "    plt.plot(x, y, style, label='Analytical')\n",
    "    \n",
    "    # draw the ground level, y=0\n",
    "    plt.axhline(0, color='k')\n",
    "    \n",
    "    # ensure aspect ratio is square\n",
    "    plt.axis('equal')\n",
    "    if legend:\n",
    "        plt.legend()"
   ]
  },
  {
   "cell_type": "code",
   "execution_count": 73,
   "metadata": {},
   "outputs": [],
   "source": [
    "def ProjectileMotionApp():\n",
    "    \n",
    "    # set up the model\n",
    "    model = ProjectileMotionStepper()\n",
    "    \n",
    "    # iterate the model\n",
    "    ball = pd.DataFrame(model)\n",
    "    \n",
    "    # plot the results\n",
    "    ProjectileMotionPlot(ball)"
   ]
  },
  {
   "cell_type": "markdown",
   "metadata": {},
   "source": [
    "Now that we have the basic pieces, time to test our code:"
   ]
  },
  {
   "cell_type": "code",
   "execution_count": 74,
   "metadata": {},
   "outputs": [
    {
     "data": {
      "image/png": "[encoded data removed]",
      "text/plain": [
       "<Figure size 432x288 with 1 Axes>"
      ]
     },
     "metadata": {
      "needs_background": "light"
     },
     "output_type": "display_data"
    }
   ],
   "source": [
    "ProjectileMotionApp()"
   ]
  },
  {
   "cell_type": "markdown",
   "metadata": {},
   "source": [
    "# Spinning Balls\n",
    "## Lecture 6"
   ]
  },
  {
   "cell_type": "markdown",
   "metadata": {
    "slideshow": {
     "slide_type": "slide"
    }
   },
   "source": [
    "## Effects of spin"
   ]
  },
  {
   "cell_type": "markdown",
   "metadata": {
    "slideshow": {
     "slide_type": "fragment"
    }
   },
   "source": [
    "We've seen air drag can considerable change the range of a projectile - and is true for both cannon shells and baseballs. In addition, it turns out that *spin* can radically affect the trajectory of projectile. This is called the Magnus effect or Magnus Force.\n",
    "\n"
   ]
  },
  {
   "cell_type": "markdown",
   "metadata": {
    "slideshow": {
     "slide_type": "slide"
    }
   },
   "source": [
    "### Magnus Force"
   ]
  },
  {
   "cell_type": "markdown",
   "metadata": {
    "slideshow": {
     "slide_type": "fragment"
    }
   },
   "source": [
    "Let's model this so-called Magnus force and add it in to our computational model for projectile motion.  Consider the drag acting on either side of a spinning ball rotating at a angular velocity $\\omega$.\n",
    "\n",
    "<a title=\"Rdurkacz [CC BY-SA 3.0 (https://creativecommons.org/licenses/by-sa/3.0)], via Wikimedia Commons\" href=\"https://commons.wikimedia.org/wiki/File:Sketch_of_Magnus_effect_with_streamlines_and_turbulent_wake.svg\"><img width=\"512\" alt=\"Sketch of Magnus effect with streamlines and turbulent wake\" src=\"https://upload.wikimedia.org/wikipedia/commons/thumb/1/15/Sketch_of_Magnus_effect_with_streamlines_and_turbulent_wake.svg/512px-Sketch_of_Magnus_effect_with_streamlines_and_turbulent_wake.svg.png\"></a>\n",
    "\n",
    "We know that $F_{drag}$ depends on the relative velocity of the ball with the air.  When the ball is spinning, one side is moving faster and one side is moving slower relative to the air. Hence, the drag forces on each side are not the same."
   ]
  },
  {
   "cell_type": "markdown",
   "metadata": {
    "slideshow": {
     "slide_type": "slide"
    }
   },
   "source": [
    "So the next spin-dependent force should have a functional form like\n",
    "\n",
    "$$ \\frac{F_M}{m}= C_M \\omega v_x $$\n",
    "\n",
    "For a thrown baseball, we can assume that the velocity is predominantly in the $x$-direction. So the Magnus force will act in direction perpendicular to both the $x$-direction and the axis of rotation.   \n",
    "\n",
    "In the fully general case, we would need to consider a cross-product like \n",
    "\n",
    "$$\\frac{\\vec{F}_M}{m} = C_M \\vec{\\omega} \\times \\vec{v}$$\n",
    "\n",
    "for the Magnus effect."
   ]
  },
  {
   "cell_type": "markdown",
   "metadata": {
    "slideshow": {
     "slide_type": "slide"
    }
   },
   "source": [
    "To add the effect of the Magnus force into our numerical solution to investigate the dynamics of a curve ball we need to think about our trajectory in all three dimensions.  \n",
    "\n",
    "The total force on the baseball is given by\n",
    "\n",
    "$$ \\frac{\\vec{F}}{m} = \\vec{g} - C_D |\\vec{v}| \\vec{v} + C_M \\left( \\vec{\\omega} \\times \\vec{v} \\right) $$\n",
    "\n",
    "The complete equations of motion are\n",
    "\n",
    "\n",
    "\\begin{align}\n",
    "\\frac{d x}{dt} &= v_x \\\\\n",
    "\\frac{d y}{dt} &= v_y \\\\\n",
    "\\frac{d z}{dt} &= v_z \\\\\n",
    "\\frac{d v_x}{dt} &= - C_D v v_x + C_M \\left(\\omega_y v_z - \\omega_z v_y\\right)\\\\\n",
    "\\frac{d v_y}{dt} &= - C_D v v_y + C_M \\left(\\omega_z v_x - \\omega_x v_z\\right) \\\\ \n",
    "\\frac{d v_z}{dt} &= - C_D v v_z + C_M \\left(\\omega_x v_y - \\omega_y v_x\\right) - g\n",
    "\\end{align}\n",
    "\n",
    "Here, the positive $z$-axis is taken as the vertical direction (up) direction.\n",
    "\n"
   ]
  },
  {
   "cell_type": "markdown",
   "metadata": {
    "slideshow": {
     "slide_type": "slide"
    }
   },
   "source": [
    "## Code with rotation\n",
    "\n",
    "Using Euler's method once again gives us the following code. Air drag forces and the Magnus forces are included all three directions."
   ]
  },
  {
   "cell_type": "code",
   "execution_count": 75,
   "metadata": {},
   "outputs": [],
   "source": [
    "def BaseballStepper(dt=0.01, \n",
    "                    x0=0, y0=0, z0=3,\n",
    "                    vx0=10, vy0=0, vz0=0,\n",
    "                    ωx=0, ωy=0, ωz=0,\n",
    "                    tmax=4):\n",
    "    \"\"\"\n",
    "    Solve for the motion of a spinning baseball with air drag using Euler's method\n",
    "    \n",
    "    x, y, z are the positions\n",
    "    vx, vy, vz are the velocity components\n",
    "    ωx, ωy, ωz are components of the angular velocity vector\n",
    "    \"\"\"\n",
    "    \n",
    "    # initialize the model\n",
    "    t = 0\n",
    "    x = x0\n",
    "    y = y0\n",
    "    z = z0\n",
    "    vx = vx0\n",
    "    vy = vy0\n",
    "    vz = vz0\n",
    "    \n",
    "    while True:\n",
    "        model = {'t': t, \n",
    "                 'x': x, 'y': y, 'z': z,\n",
    "                 'vx': vx, 'vy': vy, 'vz': vz}\n",
    "        yield model # return the model state back to the caller\n",
    "    \n",
    "        if t > tmax:\n",
    "            break\n",
    "        if z < 0: # stop if the ball hits the ground\n",
    "            break\n",
    "            \n",
    "        # drag forces (per unit mass)\n",
    "        v = np.sqrt(vx**2+vy**2+vz**2)\n",
    "        # drag coefficient depends on speed\n",
    "        CD = 0.5  ## depends on the shape of the object and the density of the fluid!\n",
    "        Fdrag_x = -CD * v * vx\n",
    "        Fdrag_y = -CD * v * vy\n",
    "        Fdrag_z = -CD * v * vz\n",
    "        \n",
    "        # Magnus forces (per unit mass)\n",
    "        CM = 4.1e-4\n",
    "        Fmagnus_x = CM * (ωy*vz - ωz*vy)\n",
    "        Fmagnus_y = CM * (ωz*vx - ωx*vz)\n",
    "        Fmagnus_z = CM * (ωx*vy - ωy*vx)\n",
    "        \n",
    "        # net force (per unit mass) == net acceleration\n",
    "        g = 9.81\n",
    "        Fnet_x = Fdrag_x + Fmagnus_x\n",
    "        Fnet_y = Fdrag_y + Fmagnus_y\n",
    "        Fnet_z = Fdrag_z + Fmagnus_z - g\n",
    "        \n",
    "        # use the Euler algorithm to update the state of the model\n",
    "        x = x + vx*dt\n",
    "        y = y + vy*dt\n",
    "        z = z + vz*dt\n",
    "        vx = vx + Fnet_x * dt\n",
    "        vy = vy + Fnet_y * dt\n",
    "        vz = vz + Fnet_z * dt\n",
    "        t = t + dt"
   ]
  },
  {
   "cell_type": "code",
   "execution_count": 76,
   "metadata": {},
   "outputs": [],
   "source": [
    "def BaseballApp(ωx=0, ωy=0, ωz=0):\n",
    "    \n",
    "    # initial position\n",
    "    x0 = 0\n",
    "    y0 = 0\n",
    "    z0 = 2 # m\n",
    "    \n",
    "    # initial velocity\n",
    "    angle0 = 0 # degrees\n",
    "    θ0 = np.deg2rad(angle0) # radians\n",
    "    v0 = 50 # m/s (about 110 mph)\n",
    "    \n",
    "    vx0 = v0 * np.cos(θ0)\n",
    "    vy0 = 0\n",
    "    vz0 = v0 * np.sin(θ0)\n",
    "    \n",
    "    tmax = 10 # s\n",
    "        \n",
    "    # set up the model\n",
    "    model = BaseballStepper(x0=x0, y0=y0, z0=z0,\n",
    "                                vx0=vx0, vy0=vy0, vz0=vz0,\n",
    "                                ωx=ωx, ωy=ωy, ωz=ωz,\n",
    "                                tmax=tmax)\n",
    "    \n",
    "    # iterate the model\n",
    "    ball = pd.DataFrame(model)\n",
    "\n",
    "    # plot the results\n",
    "    BaseballPlot(ball)\n",
    "\n",
    "    return ball"
   ]
  },
  {
   "cell_type": "code",
   "execution_count": 77,
   "metadata": {},
   "outputs": [],
   "source": [
    "def BaseballPlot(ball):\n",
    "    \n",
    "    fig, axs = plt.subplots(1,3, figsize=(16, 4))\n",
    "    axs[0].plot(ball.x, ball.z)\n",
    "    axs[0].set_xlabel('x (m)')\n",
    "    axs[0].set_ylabel('z (m)')\n",
    "    axs[0].axvline(0, color='r')\n",
    "    axs[0].axhline(0, color='k')\n",
    "    axs[0].set_title('Side View')\n",
    "        \n",
    "    axs[1].plot(ball.x, ball.y)\n",
    "    axs[1].set_xlabel('x (m)')\n",
    "    axs[1].set_ylabel('y (m)')\n",
    "    axs[1].axvline(0, color='r')\n",
    "    axs[1].axhline(0, color='b')\n",
    "    axs[1].set_title('Top Down View')\n",
    "    \n",
    "    axs[2].plot(ball.y, ball.z)\n",
    "    axs[2].set_xlabel('y (m)')\n",
    "    axs[2].set_ylabel('z (m)')\n",
    "    axs[2].axvline(0, color='b')\n",
    "    axs[2].axhline(0, color='k')\n",
    "    axs[2].set_title('Front View')\n",
    "    \n"
   ]
  },
  {
   "cell_type": "markdown",
   "metadata": {},
   "source": [
    "Investigate the behaviour of throwing a baseball with different amounts of spin alng different axes."
   ]
  },
  {
   "cell_type": "code",
   "execution_count": 78,
   "metadata": {},
   "outputs": [
    {
     "data": {
      "application/vnd.jupyter.widget-view+json": {
       "model_id": "801ed6f650214a17a96960eff62de4e4",
       "version_major": 2,
       "version_minor": 0
      },
      "text/plain": [
       "interactive(children=(IntSlider(value=0, description='ωx', max=1000, min=-1000, step=20), IntSlider(value=0, d…"
      ]
     },
     "metadata": {},
     "output_type": "display_data"
    }
   ],
   "source": [
    "interactive(BaseballApp, \n",
    "            ωx=(-1000, 1000, 20),\n",
    "            ωy=(-1000, 1000, 20),\n",
    "            ωz=(-1000, 1000, 20)\n",
    "           )"
   ]
  },
  {
   "cell_type": "markdown",
   "metadata": {},
   "source": [
    "- - -"
   ]
  }
 ],
 "metadata": {
  "kernelspec": {
   "display_name": "Python 3",
   "language": "python",
   "name": "python3"
  },
  "language_info": {
   "codemirror_mode": {
    "name": "ipython",
    "version": 3
   },
   "file_extension": ".py",
   "mimetype": "text/x-python",
   "name": "python",
   "nbconvert_exporter": "python",
   "pygments_lexer": "ipython3",
   "version": "3.6.7"
  }
 },
 "nbformat": 4,
 "nbformat_minor": 2
}
