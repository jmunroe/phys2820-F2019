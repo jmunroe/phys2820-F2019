{
 "cells": [
  {
   "cell_type": "markdown",
   "metadata": {
    "slideshow": {
     "slide_type": "slide"
    }
   },
   "source": [
    "# Assignment 2\n",
    "\n",
    "Due: Sunday, September 29, 2019"
   ]
  },
  {
   "cell_type": "markdown",
   "metadata": {},
   "source": [
    "Please complete all parts of this assignment within this notebook. You may either leave the notebook file on the JupyterHub server (where it will be collected automatically on the due date) or it may be uploaded to the D2L Dropbox if you choose not to work on the JupyterHub server."
   ]
  },
  {
   "cell_type": "markdown",
   "metadata": {},
   "source": [
    "Use both Python code cells and Jupyter Markdown cells to complete the following exercises. Place your solution immediately after the corresponding question."
   ]
  },
  {
   "cell_type": "code",
   "execution_count": null,
   "metadata": {},
   "outputs": [],
   "source": [
    "%matplotlib inline\n",
    "import matplotlib.pyplot as plt\n",
    "import numpy as np\n",
    "import pandas as pd\n",
    "from ipywidgets import interactive"
   ]
  },
  {
   "cell_type": "markdown",
   "metadata": {},
   "source": [
    "- - -\n",
    "\n",
    "### A. **Problem 3.7** Position-dependent force\n",
    "\n",
    "Extend `FallingParticleStepper()` and `FallingParticleApp()` to simulate the fall of a particle with the position-dependent force law $F = mg\\left(1-2\\frac{y}{R}\\right)$. Assume that a particle is dropped from a height $h$ with zero initial velocity and compute its impact velocity (speed) when it hits the ground at $y= 0$. Determine the value of $h$ for which the impact velocity differs by one percent from its value with a constant acceleration $g=9.8\\; \\mathrm{m/s}^2$. Take $R= 6.37\\times10^6\\;\\mathrm{m}$. Make sure that the one percent difference is due to the physics of the force law and not the accuracy of your algorithm (this can be confirmed by showing that the result changes by signifcantly less than one percent if you half the size of your time step).\n",
    "\n",
    "- - - "
   ]
  },
  {
   "cell_type": "code",
   "execution_count": null,
   "metadata": {},
   "outputs": [],
   "source": []
  },
  {
   "cell_type": "markdown",
   "metadata": {},
   "source": [
    "- - -\n",
    "\n",
    "### B. **Problem 3.9** Effect of air resistance on the ascent and descent of a pebble\n",
    "\n",
    "a. Compute the speed at which a pebble reaches the ground if it is dropped from rest at a height of $50\\;\\mbox{m}$. Compare this speed to that of a freely falling object under the same conditions. Assume that the drag force is proportional to $v^2$ and that the terminal velocity is 30 m/s.\n",
    "\n",
    "b. Suppose a pebble is thrown vertically upward with an initial velocity $v_0$. In the absence of air resistance, we know that the maximum height reached by the pebble is $ v_0^2/2g$, its velocity upon return to the Earth equals $v_0$, the time of ascent equals the time of descent, and the total time in the air is $2 v_0/g$. Before doing a simulation, give a simple qualitative explanation of how you think these quantities will be affected by air resistance. In particular, how will the time of ascent compare with the time of descent?\n",
    "\n",
    "c. Do a simulation to determine if your qualitative answers in part (b) are correct. Assume that the drag force is proportional to $v^2$. Choose the coordinate system with $y$ positive upward. What is the net force for $v >0$ and $v <0$? We can characterize the magnitude of the drag force by a terminal velocity even if the motion of the pebble is upward and even if the pebble never attains this velocity. Choose the terminal velocity $v_t= 30\\;\\mbox{m/s}$, corresponding to a drag coefficient of $C_2 \\approx 0.000109$. It is a good idea to choose an initial velocity that allows the pebble to remain in the air for a time sufficiently long so that the effect of the drag force isappreciable. A reasonable choice is $v(t= 0) = 50 \\mbox{m/s}$. You might find it convenient to express the drag force in the form $F_d\\propto - \\mathrm{v * abs(v)}$. \n",
    "\n",
    "- - -"
   ]
  },
  {
   "cell_type": "code",
   "execution_count": null,
   "metadata": {},
   "outputs": [],
   "source": []
  }
 ],
 "metadata": {
  "kernelspec": {
   "display_name": "Python 3",
   "language": "python",
   "name": "python3"
  },
  "language_info": {
   "codemirror_mode": {
    "name": "ipython",
    "version": 3
   },
   "file_extension": ".py",
   "mimetype": "text/x-python",
   "name": "python",
   "nbconvert_exporter": "python",
   "pygments_lexer": "ipython3",
   "version": "3.6.7"
  }
 },
 "nbformat": 4,
 "nbformat_minor": 2
}
