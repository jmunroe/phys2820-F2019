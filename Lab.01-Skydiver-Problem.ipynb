{
 "cells": [
  {
   "cell_type": "markdown",
   "metadata": {},
   "source": [
    "# Skydiver Problem\n",
    "## Lab 1"
   ]
  },
  {
   "cell_type": "markdown",
   "metadata": {},
   "source": [
    "#### Instructions:\n",
    "*Complete the notebook by reading all of the markdown cells and filling in the **blanks**. In the code cells, you will need to replace with the correct code everywhere you see a `___`. You may also need to add new code as appropriate. Please complete this lab during the lab slot and ask for help from the instructor or the TA as often as needed.*"
   ]
  },
  {
   "cell_type": "code",
   "execution_count": null,
   "metadata": {},
   "outputs": [],
   "source": [
    "%matplotlib inline\n",
    "import numpy as np\n",
    "import matplotlib.pyplot as plt\n",
    "import pandas as pd"
   ]
  },
  {
   "cell_type": "markdown",
   "metadata": {},
   "source": [
    "This lab involves modelling a skydiver falling through the air.  Initially, air resistance is very small, but upon deployment of a parachute, air drag suddenly increases to a large value.  The mass of the jumper is 60 kg, acceleration due to gravity is $9.81\\;\\mathrm{m/s}^2$ , the jumper starts from a height of 1000 m and opens the parachute at about 200 m above the ground.  The jumper feels a drag force $F_d = k v^2$, where $k$ changes to a high value after the parachute is opened."
   ]
  },
  {
   "cell_type": "markdown",
   "metadata": {},
   "source": [
    "## 1. Model the action of the parachute with a hyperbolic tangent"
   ]
  },
  {
   "cell_type": "markdown",
   "metadata": {},
   "source": [
    " \n",
    " To model the action of the parachute we will use the hyperbolic tangent function.  Plot `np.tanh(x-5)` from x=0 to 10.  Don't worry about making the graph look perfect, but make sure the range of the graph goes from -1.2 to 1.2."
   ]
  },
  {
   "cell_type": "code",
   "execution_count": null,
   "metadata": {},
   "outputs": [],
   "source": [
    "x = np.arange(___, ___, 0.01)\n",
    "y = ___\n",
    "\n",
    "plt.ylim(___, ___)\n",
    "plt.plot(x, y)\n",
    "plt.show()"
   ]
  },
  {
   "cell_type": "markdown",
   "metadata": {},
   "source": [
    "As you can see from the graph, to a good approximation the function goes from one constant value to another.  Now plot the function 6 - 2 tanh( (x-5)/0.1 ) from $x$ = 0 to 10. Choose an appropriate range so that you can see both the top and bottom of your plot."
   ]
  },
  {
   "cell_type": "code",
   "execution_count": null,
   "metadata": {},
   "outputs": [],
   "source": [
    "# your code to make the plot goes here\n"
   ]
  },
  {
   "cell_type": "markdown",
   "metadata": {},
   "source": [
    "Notice how we have transformed the function so that it changes more abruptly, has a wider range and different end values.  Let's now choose appropriate parameters to model our system, and store them in variables\n",
    "\n",
    "* m = 60  - mass of jumper in kg\n",
    "* g = 9.81  - acceleration due to gravity\n",
    "* h = 1000   - initial height in m\n",
    "* y0 = 200  -  height at which the jumper opens the parachute\n",
    "* kd = 0.48  -  drag coefficient without parachute in kg /m\n",
    "* kp = 30.24 -  drag coefficient with parachute fully deployed\n",
    "* d = 20  -  roughly the distance (m) the jumper falls during the parachute opening"
   ]
  },
  {
   "cell_type": "code",
   "execution_count": null,
   "metadata": {},
   "outputs": [],
   "source": [
    "# initialize the variables here as global constants\n"
   ]
  },
  {
   "cell_type": "markdown",
   "metadata": {},
   "source": [
    "Define a new Python function that implements the the formula using NumPy `np` functions\n",
    "$$k(y) = kp - \\frac{(kp-kd)}{2} \\left(1+\\tanh\\left( 2 \\frac{(y-y0)}{d} \\right)\\right).$$  \n",
    "\n",
    "k(y) is our mathematical model for the drag coefficient as a function of the jumper's height above the ground."
   ]
  },
  {
   "cell_type": "code",
   "execution_count": null,
   "metadata": {},
   "outputs": [],
   "source": [
    "def k(y):\n",
    "    return ___"
   ]
  },
  {
   "cell_type": "markdown",
   "metadata": {},
   "source": [
    "You will use this new `k(y)` function inside your numerical code in section 2 below."
   ]
  },
  {
   "cell_type": "markdown",
   "metadata": {},
   "source": [
    "Plot the function k(y), with y ranging from 0 to 1000."
   ]
  },
  {
   "cell_type": "code",
   "execution_count": null,
   "metadata": {},
   "outputs": [],
   "source": [
    "y = np.arange(0, 1000, 0.1)\n",
    "\n",
    "plt.xlabel(\"height (m)\")\n",
    "plt.ylabel(\"drag coefficient (kg/m)\")\n",
    "plt.plot(y, k(y))"
   ]
  },
  {
   "cell_type": "markdown",
   "metadata": {},
   "source": [
    "Check your values for k(0) and k(1000).  They should be 30.24 and 0.48 respectively.  \n",
    "\n",
    "k(0)  \n",
    "k(1000)"
   ]
  },
  {
   "cell_type": "code",
   "execution_count": null,
   "metadata": {},
   "outputs": [],
   "source": [
    "print(k(0), k(1000))"
   ]
  },
  {
   "cell_type": "markdown",
   "metadata": {},
   "source": [
    "## 2. Solving the problem numerically"
   ]
  },
  {
   "cell_type": "markdown",
   "metadata": {},
   "source": [
    " Now that we've modelled the skydiver problem with a height-varying drag coefficient, let's find the height and velocity as functions of time using Euler's method, assuming initial velocity of zero. \n",
    "\n",
    "The equation that we want to solve is\n",
    "$$ \\frac{d^2y}{dt^2} = -g + \\frac{k(y)}{m} v^2\\;, $$\n",
    "\n",
    "along with appropriate initial conditions.\n",
    "\n",
    "The first task is to rewrite this second-order differential equation as pair of two first-order differential equations by introducing $v = \\frac{dy}{dt}$."
   ]
  },
  {
   "cell_type": "markdown",
   "metadata": {},
   "source": [
    "\\begin{align}\n",
    "\\frac{dy}{dt} &= ___ \\\\\n",
    "\\frac{dv}{dt} &= ___\n",
    "\\end{align}\n",
    "\n",
    "*Determine what should be on the right hand side and edit this Markdown cell to replace the `___` accordingly.*"
   ]
  },
  {
   "cell_type": "markdown",
   "metadata": {},
   "source": [
    "Implement your numerical solution below using Euler's method."
   ]
  },
  {
   "cell_type": "markdown",
   "metadata": {},
   "source": [
    "### Computation routine"
   ]
  },
  {
   "cell_type": "code",
   "execution_count": null,
   "metadata": {},
   "outputs": [],
   "source": [
    "def SkyDiverStepper():\n",
    " \n",
    "    tmax = 400\n",
    "    dt = ___\n",
    "    \n",
    "    # initialize the model variables\n",
    "    t = ___\n",
    "    y = ___\n",
    "    v = ___\n",
    "    \n",
    "    while True:\n",
    "        \n",
    "        model = {'t': t, 'y': y, 'v': v}\n",
    "        yield model # pass model state back to the caller\n",
    "        \n",
    "        if t > tmax:\n",
    "            # stop of the model is beyond the max time\n",
    "            break\n",
    "        elif y <= 0:\n",
    "            # stop of the jumper is at the ground\n",
    "            break\n",
    "        \n",
    "        # use the Euler algorithm to update the model\n",
    "        y = ___\n",
    "        v = ___\n",
    "        t = t + dt"
   ]
  },
  {
   "cell_type": "code",
   "execution_count": null,
   "metadata": {},
   "outputs": [],
   "source": [
    "def SkyDiverPlot(jumper):\n",
    "    \n",
    "    plt.plot(jumper.t, jumper.y)\n",
    "    plt.ylabel('___')\n",
    "    plt.xlabel('___')\n",
    "    plt.title('Skydiver height vs time')\n",
    "    plt.ylim(0, h)"
   ]
  },
  {
   "cell_type": "markdown",
   "metadata": {},
   "source": [
    "Run your numerical model and plot the height $y$ vs time $t$."
   ]
  },
  {
   "cell_type": "code",
   "execution_count": null,
   "metadata": {},
   "outputs": [],
   "source": [
    "# set up the model\n",
    "model = SkyDiverStepper()\n",
    "    \n",
    "# iterate the model\n",
    "jumper = pd.DataFrame(model)\n",
    "    \n",
    "# plot the results\n",
    "SkyDiverPlot(jumper)\n"
   ]
  },
  {
   "cell_type": "markdown",
   "metadata": {},
   "source": [
    "## 3. Analysis of solution"
   ]
  },
  {
   "cell_type": "markdown",
   "metadata": {},
   "source": [
    "Estimate the total time the skydiver spends in the air.\n",
    "\n",
    "* Easier (approximate) method: Use the plot to estimate time when when y = 0.\n",
    "* Harder (exact) method: Use linear interpolation to estimate the time when time y = 0.\n",
    "* *Try both methods.*"
   ]
  },
  {
   "cell_type": "code",
   "execution_count": null,
   "metadata": {},
   "outputs": [],
   "source": [
    "# your code goes here\n"
   ]
  },
  {
   "cell_type": "code",
   "execution_count": null,
   "metadata": {},
   "outputs": [],
   "source": [
    "t_landing = ___\n",
    "print(\"The skydiver lands after\", t_landing, \"s.\")"
   ]
  },
  {
   "cell_type": "markdown",
   "metadata": {},
   "source": [
    "Plot the velocity $v$ versus time $t$.  Remember to use good axes labels with units and add a title."
   ]
  },
  {
   "cell_type": "code",
   "execution_count": null,
   "metadata": {},
   "outputs": [],
   "source": [
    "# plot the velocity vs time\n",
    "plt.plot(___, ___)\n",
    "\n",
    "plt.show()"
   ]
  },
  {
   "cell_type": "markdown",
   "metadata": {},
   "source": [
    "What is the approximate terminal speed of the skydiver before the parachute is deployed?  What about after?"
   ]
  },
  {
   "cell_type": "markdown",
   "metadata": {},
   "source": [
    "(Example: use `display(jumper[5:10])` to look only at rows 5 through 10 \n",
    "  in a dataframe )"
   ]
  },
  {
   "cell_type": "code",
   "execution_count": null,
   "metadata": {},
   "outputs": [],
   "source": []
  },
  {
   "cell_type": "markdown",
   "metadata": {},
   "source": [
    "Answer: Terminal speed without the parachute is `___` m/s, while with the parachute it is `___` m/s."
   ]
  },
  {
   "cell_type": "markdown",
   "metadata": {},
   "source": [
    "Calculate and plot the acceleration of the skydiver (include axes labels with units).\n",
    "\n",
    "* *Hint: you will need to calculate acceleration as the change in velocity divided by the change in time. You have already computed both velocity and time.*"
   ]
  },
  {
   "cell_type": "code",
   "execution_count": null,
   "metadata": {},
   "outputs": [],
   "source": [
    "v = np.array(jumper.v)\n",
    "t = np.array(jumper.t)\n",
    "dv = np.diff(v)\n",
    "dt = np.diff(t)\n",
    "a = ___\n",
    "    \n",
    "# While this is the right idea:\n",
    "# plt.plot(t, a)\n",
    "# It would cause the following error:\n",
    "# \"ValueError: x and y must have same first dimension, but have shapes (7044,) and (7043,)\"\n",
    "\n",
    "# Strictly speaking, we need to use the times at the mid points of each interval\n",
    "plt.plot((t[1:]+t[:-1])/2, a)\n",
    "\n",
    "plt.xlabel(___)\n",
    "plt.ylabel(___)\n",
    "plt.ylim(___, ___)\n",
    "plt.title(___)\n",
    "\n",
    "plt.show()"
   ]
  },
  {
   "cell_type": "markdown",
   "metadata": {},
   "source": [
    "What is the largest acceleration felt by the skydiver during his descent (express your answer as a multiple of g)?"
   ]
  },
  {
   "cell_type": "code",
   "execution_count": null,
   "metadata": {},
   "outputs": [],
   "source": [
    "# the max() function returns the maximum of an array\n"
   ]
  },
  {
   "cell_type": "markdown",
   "metadata": {},
   "source": [
    "Answer:  The largest acceleration felt is approximately `___` g."
   ]
  }
 ],
 "metadata": {
  "anaconda-cloud": {},
  "kernelspec": {
   "display_name": "Python 3",
   "language": "python",
   "name": "python3"
  },
  "language_info": {
   "codemirror_mode": {
    "name": "ipython",
    "version": 3
   },
   "file_extension": ".py",
   "mimetype": "text/x-python",
   "name": "python",
   "nbconvert_exporter": "python",
   "pygments_lexer": "ipython3",
   "version": "3.6.7"
  }
 },
 "nbformat": 4,
 "nbformat_minor": 2
}
