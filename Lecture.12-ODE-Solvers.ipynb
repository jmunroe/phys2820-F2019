{
 "cells": [
  {
   "cell_type": "markdown",
   "metadata": {},
   "source": [
    "# ODE Solvers\n",
    "## Lecture 12"
   ]
  },
  {
   "cell_type": "code",
   "execution_count": null,
   "metadata": {},
   "outputs": [],
   "source": [
    "%matplotlib inline\n",
    "import matplotlib.pyplot as plt\n",
    "import numpy as np\n",
    "import pandas as pd\n",
    "from mpl_toolkits.mplot3d import Axes3D"
   ]
  },
  {
   "cell_type": "markdown",
   "metadata": {},
   "source": [
    "## Runge-Kutta Methods\n",
    "\n",
    "Many mechanics (physics) can be expressed as the mathematical problem of solving an ordinary differential equation (ODE). In general, we need to solve\n",
    "\n",
    "\\begin{align}\n",
    "\\frac{dy}{dt} = f(y,t), \\quad y(0) = y_0\n",
    "\\end{align}"
   ]
  },
  {
   "cell_type": "markdown",
   "metadata": {},
   "source": [
    "### Review of Euler's method\n",
    "\n",
    "We can approximate derivative with a **forward difference**\n",
    "\n",
    "\\begin{align}\n",
    " \\frac{dy}{dt} &= \\frac{y(t+\\Delta t) - y(t)}{\\Delta t} + \\mathcal{O}(\\Delta t) \\\\\n",
    " y(t+\\Delta t) &= y(t) + \\frac{dy}{dt}\\Delta t + \\mathcal{O}(\\Delta t^2) \n",
    "\\end{align}\n",
    "\n",
    "since $\\frac{dy}{dt} = f(y,t)$ we can write\n",
    "\n",
    "$$  y(t+\\Delta t) = y(t) + f(y,t) \\Delta t + \\mathcal{O}(\\Delta t^2) $$\n",
    "\n",
    "We say that Euler's method is accurate to *first-order* in $\\Delta t$ since it is equivalent to the Taylor series up to first order in $\\Delta t$."
   ]
  },
  {
   "cell_type": "markdown",
   "metadata": {},
   "source": [
    "### Midpoint scheme or Second-Order Runge-Kutta Method\n",
    "\n",
    "Start with a **central difference** representation for a derivative\n",
    "\n",
    "\\begin{align}\n",
    " \\frac{dy}{dt} &= \\frac{y(t+\\Delta t) - y(t-\\Delta t)}{2 \\Delta t} + O(\\Delta t^2) \\\\\n",
    " y(t+\\Delta t) &= y(t-\\Delta t) + 2 \\frac{dy}{dt} \\Delta t + O(\\Delta t^3) \\\\\n",
    "  &= y(t - \\Delta t) + 2 f(y(t), t)\\Delta t +O(\\Delta t^3)\n",
    "\\end{align}\n",
    "\n",
    "$f(y(t), t)$ is evaluated at the midpoint in time between $t - \\Delta t$ and $t+\\Delta t$. \n",
    "\n",
    "We can rewrite this as\n",
    "\n",
    "$$ y(t+\\Delta t) = y(t) + f\\left(y(t + \\Delta t /2), t + \\Delta t/2\\right)\\Delta t +O(\\Delta t^3)$$\n",
    "\n",
    "i.e. $\\Delta t \\rightarrow \\Delta t / 2$, then we can shift $t \\rightarrow t + \\Delta t / 2$"
   ]
  },
  {
   "cell_type": "markdown",
   "metadata": {},
   "source": [
    "So, if we can estimate \n",
    "\n",
    "$$ f\\left(y(t + \\Delta t /2), t + \\Delta t/2\\right) $$\n",
    "\n",
    "we can gain an order in our truncation error. To do this we need to estimate $y(t+\\Delta/2)$.\n",
    "\n",
    "Trick: use an Euler half-step\n",
    "\n",
    "$$\n",
    "y ( t + \\Delta t / 2) = y(t) + f(y(t), t)  \\frac{\\Delta t}{2} + \\mathcal{O}(\\Delta t^2)\n",
    "$$\n",
    "\n",
    "\n",
    "We can show (through a Taylor expansion) that this leads to a final estimate of $y(t + \\Delta t)$ that is accurate to *second-order* in $\\Delta t$. For the simpler case where $ \\frac{dy}{dt} = f(y)$,\n",
    "\n",
    "$$\\begin{align}\n",
    "f\\left(y(t+\\frac{\\Delta t}{2})\\right) &= f\\left(y(t) + \\frac{\\Delta t}{2} y'(t) + \\mathcal{O}(\\Delta t^2)\\right)\\\\\n",
    "&= f(y(t)) + \\frac{df(y)}{dy} \\left( \\frac{\\Delta t}{2} y'(t) + \\mathcal{O}(\\Delta t^2)  \\right) + \\mathcal{O}(\\Delta y^2) \\\\\n",
    "&= f(y) + \\frac{\\Delta t}{2} y'(t) \\frac{df(y)}{dy} + \\mathcal{O}(\\Delta t^2) \\\\\n",
    "&= f(y) + \\frac{\\Delta t}{2} \\frac{dy}{dt}  \\frac{df}{dt} \\frac{dt}{dy}+ \\mathcal{O}(\\Delta t^2) \\\\\n",
    "&= f(y) + \\frac{\\Delta t}{2}   \\frac{df}{dt}+ \\mathcal{O}(\\Delta t^2) \\\\\n",
    "\\end{align}\n",
    "$$\n",
    "\n",
    "So the mid-point method becomes\n",
    "\n",
    "$$\\begin{align}\n",
    "y(t +\\Delta t) &= y(t) + \\Delta t f\\left( y(t + \\frac{\\Delta t}{t} )\\right) + \\mathcal{O}(\\Delta t^3) \\\\\n",
    "&= y(t) + \\Delta t f(y) +  \\frac{\\Delta t^2}{2}   \\frac{df}{dt}+ \\mathcal{O}(\\Delta t^3) \\\\\n",
    "&= y(t) + \\Delta t y'(t) +  \\frac{\\Delta t^2}{2}  y''(t) + \\mathcal{O}(\\Delta t^3)\n",
    "\\end{align}$$\n",
    "\n",
    "with this procedure, we indeed recover the Taylor series up to second order in $\\Delta t$."
   ]
  },
  {
   "cell_type": "markdown",
   "metadata": {},
   "source": [
    "### Midpoint Algorithm\n",
    "\n",
    "1\\. Estimate slope at $t$\n",
    "\n",
    "$$ s_1 = f(y(t), t) $$\n",
    "\n",
    "2\\. Use $s_1$ to estimate the midpoint between $t$ and $t + \\Delta t$\n",
    "\n",
    "\\begin{align}\n",
    "y^* &= y ( t + \\Delta t) \\\\\n",
    "       &= y(t) + \\frac{\\Delta t}{2} s_1\n",
    "\\end{align}\n",
    " \t\n",
    "\n",
    "3\\. Use $y^*$ to get the the slope at the midpoint\n",
    "\n",
    "$$ s_2 = f( y^*, t +  \\frac{\\Delta t}{2} ) $$\n",
    "\n",
    "4\\. Use $s_2$ to estimate $y(t + \\Delta t)$\n",
    "\n",
    "$$ y(t + \\Delta t) = y(t) + \\Delta t s_2 $$"
   ]
  },
  {
   "cell_type": "markdown",
   "metadata": {},
   "source": [
    "### Midpoint Algorithm\n",
    "\n",
    "\\begin{align}\n",
    "s_1 &= f(y_i, t_i) \\\\\n",
    "y^* &= y_i + \\Delta t / 2 s_1 \\\\\n",
    "s_2 &= f(y^*, t_i + \\Delta t /2) \\\\\n",
    "y_{i+1} &= y_i + \\Delta t s_2\n",
    "\\end{align}"
   ]
  },
  {
   "cell_type": "markdown",
   "metadata": {},
   "source": [
    "Although the algorithm takes two steps, there is an order gain in accuracy. The error of the scheme is of order  $\\Delta t^2$. This means that decreasing the timestep  $\\Delta t$ by a factor of  2 decreases the error by a factor of 4. \n",
    "\n",
    "It also means that compared to the Euler scheme and for the same time step used the accuracy of the scheme is better.\n",
    "\n",
    "This algorihm is sometimes calleed the *Midpoint Algorithm*, the *Euler-Richardson Algorithm*, or the *Second-Order Runge-Kutta Method*."
   ]
  },
  {
   "cell_type": "markdown",
   "metadata": {},
   "source": [
    "### Fourth-Order Runge-Kutta Method\n",
    "\n",
    "A very common scheme is the classical Fourth-Order Runge-Kutta formula.\n",
    "\n",
    "$$\n",
    "\\begin{align}\n",
    "    s_1 &= f(y_i, t_i,) \\\\\n",
    "    y_{1/2} &= y_i + s_1 \\Delta t /2 \\\\ \n",
    "    s_2 &= f(y_{1/2}, t + \\Delta t / 2) \\\\\n",
    "    y_{1/2}^* &= y_i + s_2 \\Delta t / 2  \\\\\n",
    "    s_3 &= f(y_{1/2}^*, t + \\Delta t / 2) \\\\\n",
    "    y^* &= y_i + s_3 \\Delta t  \\\\\n",
    "    s_4 &= f(y^*, t + \\Delta t) \\\\\n",
    "    y_{i+1} &= y_i  +  \\frac{\\Delta t}{6} (s_1+2 s_2+2s_3+s_4)\\\\\n",
    "\\end{align}\n",
    "$$\n",
    "\n",
    "The error of the scheme is of order  $\\Delta t^4$. This means that decreasing the timestep  $\\Delta t$ by a factor of 2 decreases the error by a factor of 16. It also means that compared to the Euler or midpoint schemes the accuracy is typically much better."
   ]
  },
  {
   "cell_type": "markdown",
   "metadata": {},
   "source": [
    "## Examples"
   ]
  },
  {
   "cell_type": "markdown",
   "metadata": {},
   "source": [
    "### Example 1\n",
    "\n",
    "Solve numerically the following ODE\n",
    "\n",
    "$$ \\frac{dy}{dt} = - y $$\n",
    "\n",
    "with initial condition\n",
    "\n",
    "$$ y(0)=1$$\n",
    "\n",
    "using the Euler and midpoint and RK4 methods and compare graphically the numerical solutions to the exact solution. Take \n",
    "$\\Delta t$=0.5 and carry out the simulation up to $t=4$."
   ]
  },
  {
   "cell_type": "code",
   "execution_count": null,
   "metadata": {},
   "outputs": [],
   "source": [
    "tmax = 4\n",
    "dt = 0.5\n",
    "\n",
    "N = round(tmax/dt)\n",
    "t = np.arange(0, tmax, dt)\n",
    "\n",
    "# Exact solution\n",
    "y_exact = 1 * np.exp(-t)\n",
    "\n",
    "# Euler's method\n",
    "y = np.zeros(N)\n",
    "y[0] = 1\n",
    "for i in range(N-1):\n",
    "    s1 = -y[i]\n",
    "    y[i+1]  = y[i] + s1*dt\n",
    "y_euler = y\n",
    "\n",
    "# Midpoint method\n",
    "y = np.zeros(N)\n",
    "y[0] = 1\n",
    "for i in range(N-1):\n",
    "    s1 = -y[i]\n",
    "    ytmp = y[i] + dt/2 * s1\n",
    "    s2 = -ytmp\n",
    "    y[i+1]  = y[i] + s2*dt\n",
    "y_midpoint = y\n",
    "\n",
    "# RK4 method\n",
    "y = np.zeros(N)\n",
    "y[0] = 1\n",
    "for i in range(N-1):\n",
    "    s1 = -y[i]\n",
    "    y1 = y[i] + s1 * dt/2\n",
    "    s2 = -y1\n",
    "    y2 = y[i] + s2 * dt/2\n",
    "    s3 = -y2\n",
    "    y3 = y[i] + s3 * dt\n",
    "    s4 = -y3\n",
    "    y[i+1] = y[i] + (s1 + 2*s2 + 2*s3 + s4)/6*dt\n",
    "y_RK4 = y"
   ]
  },
  {
   "cell_type": "markdown",
   "metadata": {},
   "source": [
    "### Compare the solutions"
   ]
  },
  {
   "cell_type": "code",
   "execution_count": null,
   "metadata": {},
   "outputs": [],
   "source": [
    "fig, axes = plt.subplots(figsize=(7,7))\n",
    "plt.plot(t, y_exact, 'k-',  label='Exact')\n",
    "plt.plot(t, y_euler, 'o:',  label='Euler')\n",
    "plt.plot(t, y_midpoint, 'o:',  label='Midpoint')\n",
    "plt.plot(t, y_RK4, 'o:',  label='RK4')\n",
    "plt.legend()\n",
    "plt.xlabel('t')\n",
    "plt.ylabel('y')\n",
    "plt.show()"
   ]
  },
  {
   "cell_type": "markdown",
   "metadata": {},
   "source": [
    "### Example 2\n",
    "\n",
    "Solve numerically the following ODE\n",
    "\n",
    "$$ \\frac{dy}{dt} = -2 y +3 e^{-4t} $$\n",
    "\n",
    " with initial condition\n",
    " \n",
    "$$ y(0)=1$$ \n",
    "\n",
    " using the Euler and midpoint methods, and compare graphically the numerical solutions to the exact solution. Take \n",
    "$\\Delta t =0.2$ and carry out the simulation up to  $t=3$."
   ]
  },
  {
   "cell_type": "code",
   "execution_count": null,
   "metadata": {},
   "outputs": [],
   "source": [
    "tmax = 3\n",
    "dt = 0.2\n",
    "\n",
    "N = round(tmax/dt)\n",
    "t = np.arange(0, tmax, dt)\n",
    "\n",
    "# Exact solution\n",
    "y_exact = 1/2* np.exp(-4*t)*(5*np.exp(2*t)-3)\n",
    "\n",
    "# define the right hand side\n",
    "def f(y, t):\n",
    "    return -2*y+3*np.exp(-4*t)\n",
    "\n",
    "# Euler's method\n",
    "y = np.zeros(N)\n",
    "y[0] = 1\n",
    "for i in range(N-1):\n",
    "    s1 = f(y[i], t[i])\n",
    "    y[i+1]  = y[i] + s1*dt\n",
    "y_euler = y\n",
    "\n",
    "# Midpoint scheme\n",
    "y = np.zeros(N)\n",
    "y[0] = 1\n",
    "for i in range(N-1):\n",
    "    s1 = f(y[i], t[i])\n",
    "    ytmp = y[i] + dt/2 * s1\n",
    "    s2 = f(ytmp, t[i])\n",
    "    y[i+1]  = y[i] + s2*dt\n",
    "y_midpoint = y\n",
    "\n",
    "# RK4 method\n",
    "y = np.zeros(N)\n",
    "y[0] = 1\n",
    "for i in range(N-1):\n",
    "    s1 = f(y[i], t[i])\n",
    "    y1 = y[i] + s1 * dt/2\n",
    "    s2 = f(y1, t[i] + dt/2)\n",
    "    y2 = y[i] + s2 * dt/2\n",
    "    s3 = f(y2, t[i] + dt/2)\n",
    "    y3 = y[i] + s3 * dt\n",
    "    s4 = f(y3, t[i] + dt)\n",
    "    y[i+1] = y[i] + (s1 + 2*s2 + 2*s3 + s4)/6*dt\n",
    "y_RK4 = y"
   ]
  },
  {
   "cell_type": "code",
   "execution_count": null,
   "metadata": {},
   "outputs": [],
   "source": [
    "fig, axes = plt.subplots(figsize=(7,7))\n",
    "plt.plot(t, y_exact, 'k-',  label='Exact')\n",
    "plt.plot(t, y_euler, 'o:',  label='Euler')\n",
    "plt.plot(t, y_midpoint, 'o:',  label='Midpoint')\n",
    "plt.plot(t, y_RK4, 'o:',  label='RK4')\n",
    "plt.legend()\n",
    "plt.xlabel('t')\n",
    "plt.ylabel('y')\n",
    "plt.show()"
   ]
  },
  {
   "cell_type": "markdown",
   "metadata": {},
   "source": [
    "It should be  clear that, for the same time step, the fourth-order Runge-Kutta method is much more accurate."
   ]
  },
  {
   "cell_type": "markdown",
   "metadata": {},
   "source": [
    "## Examples of Physical Systems"
   ]
  },
  {
   "cell_type": "markdown",
   "metadata": {},
   "source": [
    "Consider the following three mechanics problems:\n",
    "\n",
    "#### 1. Projective motion with quadratic air drag\n",
    "$$ \\begin{align}\n",
    "x' &= v_x  \\\\\n",
    "y' &= v_y  \\\\\n",
    "v_x' &= - C_2 v v_x / m \\\\\n",
    "v_y' &= -g - C_2 v v_y  /m\n",
    "\\end{align}\n",
    "$$\n",
    "\n",
    "#### 2. Proton in a magnetic field\n",
    "\\begin{align}\n",
    "x' &=  v_x   \\\\\n",
    "y' &= v_y    \\\\\n",
    "z' &=  v_z   \\\\\n",
    "v_x' &=  q v_y B / m\\\\\n",
    "v_y' &=  - q v_x B /m  \\\\\n",
    "v_z' &=  0\n",
    "\\end{align}\n",
    "\n",
    "##### 3. Duffing Oscillator\n",
    "\\begin{align}\n",
    "x' &= v \\\\\n",
    "v' &= - \\delta v - \\alpha x+\\beta x^{3} + \\gamma \\cos(\\omega t)\n",
    "\\end{align}\n",
    "\n",
    "where $x' = \\frac{d x}{d t}$ and $v' = \\frac{d v}{dt}$."
   ]
  },
  {
   "cell_type": "markdown",
   "metadata": {},
   "source": [
    "## General Dynamical System\n",
    "\n",
    "All of these example are of the same general form:\n",
    "\n",
    "$$\n",
    "\\begin{align}\n",
    "x' &= f_1(x, y, v_x, v_y,  t) \\\\\n",
    "y' &= f_2(x, y, v_x, v_y,  t) \\\\\n",
    "v_x' &= f_3(x, y, v_x, v_y, t) \\\\\n",
    "v_y' &= f_4(x, y, v_x, v_y, t) \\\\\n",
    "\\ldots\n",
    "\\end{align}\n",
    "$$\n",
    "\n",
    "For every variable that might be in and problem ($x, y, z, v_x, v_y, v_z, \\ldots$ and  perhaps others), the equations of motion gives its derivative with respect to time $t$ on the left hand side (LHS). On the right hand side (RHS) of each equation, there some function that depends (potentially) on all the variables and time, $t$.\n",
    "\n",
    "Some of these RHS functions might be pretty easy. For example, for the first equation with the Duffing Oscillator we have\n",
    "\n",
    "$$ f_1(x, v, t) = v$$\n",
    "\n",
    "or they could be much more complicated, such as the second equation with the Duffing Oscillator that is\n",
    "\n",
    "$$ f_2(x, v, t ) = - \\delta v - \\alpha x+\\beta x^{3} + \\gamma \\cos(\\omega t)$$\n",
    "\n",
    "This is example, $\\delta, \\alpha, \\beta, \\gamma, $ and $\\omega$ are *parameters* of the problem."
   ]
  },
  {
   "cell_type": "markdown",
   "metadata": {},
   "source": [
    "#### State vector"
   ]
  },
  {
   "cell_type": "markdown",
   "metadata": {},
   "source": [
    "The particular values of $x, y, v_x, v_y, \\ldots$ at any particular time $t$ define the *state* of the system.\n",
    "\n",
    "Let's introduce a new vector, called $\\vec{s}$ for *state*, that groups all of the these variables together:\n",
    "\n",
    "$$\n",
    "\\vec{s} = (x, y, v_x, v_y) \n",
    "$$ \n",
    "\n",
    "This allows us to write our system of equations in a slightly more compact form:\n",
    "\n",
    "$$\n",
    "\\begin{align}\n",
    "x' &= f_1(\\vec{s}, t)\\;\\\\\n",
    "v' &= f_2(\\vec{s}, t) \\\\\n",
    "\\ldots\n",
    "\\end{align}\n",
    "$$"
   ]
  },
  {
   "cell_type": "markdown",
   "metadata": {},
   "source": [
    "We can be even more compact if we consider the vector-valued functions. Define the vector-valued function $F$ such that\n",
    "\n",
    "$$ \\vec{F}(\\vec{s}, t)  =  \\left(f_1( \\vec{s}, t),\\; f_2( \\vec{s}, t),\\; \\ldots \\right)\\;.$$\n",
    "\n",
    "That allows us to write us our equation of motion as\n",
    "\n",
    "$$ \\frac{d \\vec{s}}{dt}  = \\vec{F}(\\vec{s}, t) $$\n",
    "\n",
    "where we return to the notation $\\frac{d}{dt}$ for readability."
   ]
  },
  {
   "cell_type": "markdown",
   "metadata": {},
   "source": [
    "#### Parameter vector\n",
    "\n",
    "If we want to include parameters, say for\n",
    "\n",
    "$$f_2( x, v, t ; \\delta, \\alpha, \\beta, \\gamma, \\omega) = - \\delta v - \\alpha x+\\beta x^{3} + \\gamma \\cos(\\omega t)$$\n",
    "\n",
    "we can use a semi-color ';' to indicate that the parameters are part of the function but not in the domain of the function.\n",
    "\n",
    "If we introduce a vector for the parameters, $\\vec{p}$, then using\n",
    "\n",
    "$$ \\vec{p} = (\\delta, \\alpha, \\beta, \\gamma, \\omega) $$\n",
    "\n",
    "allows us to write\n",
    "\n",
    "$$f_2( \\vec{s}, t ; \\vec{p})$$\n",
    "\n",
    "and therefore\n",
    "\n",
    "$$ \\frac{d \\vec{s}}{d t} = \\vec{F}(\\vec{s}, t; \\vec{p}) $$"
   ]
  },
  {
   "cell_type": "markdown",
   "metadata": {},
   "source": [
    "#### Initial conditions\n",
    "\n",
    "To complete solve a dynamical system we all need *initial conditions*.  That is, values of each of our variables for at some initial time $t = t_0$.  Suppose we have\n",
    "\n",
    "$$\\begin{align}\n",
    "x(t_0) &= x_0 \\\\\n",
    "y(t_0) &= y_0 \\\\\n",
    "v_x(t_0) &= v_{x,0} \\\\\n",
    "v_y(t_0) &= v_{y,0} \\\\\n",
    "\\ldots\n",
    "\\end{align}\n",
    "$$\n",
    "\n",
    "then we can compactly write this as\n",
    "\n",
    "$$ \\vec{s_0} = (x_0, y_0, v_{x,0}, v_{y,0})\\;. $$\n",
    "\n",
    "Therefore any dynamical system we have seen so far can be written as\n",
    "\n",
    "$$\n",
    "\\begin{align}\n",
    "\\frac{d \\vec{s} }{dt} &= \\vec{F}(\\vec{s}, t; \\vec{p}) \\\\\n",
    "\\vec{s}(t_0) &= \\vec{s_0}\n",
    "\\end{align}\n",
    "$$\n",
    "\n",
    "where \n",
    "\n",
    "- $\\vec{s}$ is the state vector describing the system\n",
    "- $\\vec{F}$ is the vector valued function of all the right sides\n",
    "- $\\vec{p}$ are the parameters used (if any), and \n",
    "- $\\vec{s_0}$ are the initial conditions"
   ]
  },
  {
   "cell_type": "markdown",
   "metadata": {},
   "source": [
    "### A General Euler Method Stepper\n",
    "\n",
    "With this general notation for any dynamical system, we can write one `EulerStepper()` function that solves any set of equations of motion with one reusable code."
   ]
  },
  {
   "cell_type": "code",
   "execution_count": null,
   "metadata": {},
   "outputs": [],
   "source": [
    "def EulerStepper( F = lambda s, t, p: s,  \n",
    "                  s0 = [],\n",
    "                  t0 = 0,\n",
    "                  p = [],\n",
    "                  dt = 0.1, \n",
    "                  tmax = 1,\n",
    "                ):\n",
    "    \"\"\"\n",
    "    Solve the system \n",
    "    \n",
    "      ds/dt = F(s, t; p)\n",
    "      s(t0) = s0\n",
    "      \n",
    "    where s is a state vector dictionary\n",
    "      and p are any required parameters\n",
    "    \n",
    "    using a time step dt up to tmax\n",
    "    \n",
    "    yields back the dictionary the current state and time)\n",
    "    \"\"\"\n",
    "    \n",
    "    #### Initialize the state and time\n",
    "    s = np.array(s0)\n",
    "    t = t0\n",
    "\n",
    "    while t < tmax:\n",
    "        # prepare to send the results back\n",
    "        r = list(s)\n",
    "        r.append(t)\n",
    "        yield r\n",
    "        \n",
    "        # estimate the derivative\n",
    "        ds = F(s, t, p)\n",
    "\n",
    "        # update the state\n",
    "        s = s + ds*dt\n",
    "        \n",
    "        t = t + dt"
   ]
  },
  {
   "cell_type": "markdown",
   "metadata": {},
   "source": [
    "We can then use this Euler stepper to solve the projectile problem with air drag."
   ]
  },
  {
   "cell_type": "markdown",
   "metadata": {},
   "source": [
    "$$ \\begin{align}\n",
    "x' &= v_x  \\\\\n",
    "y' &= v_y  \\\\\n",
    "v_x' &= - C_2 v v_x / m \\\\\n",
    "v_y' &= -g - C_2 v v_y  /m\n",
    "\\end{align}\n",
    "$$\n"
   ]
  },
  {
   "cell_type": "code",
   "execution_count": null,
   "metadata": {},
   "outputs": [],
   "source": [
    "def F_projectile(s, t, p):\n",
    "    \"\"\"Equations for projectile with air drag\"\"\"\n",
    "    \n",
    "    # unpack state vector\n",
    "    x, y, vx, vy = s\n",
    "    \n",
    "    # unpack parameters vector\n",
    "    g, C2, m = p\n",
    "    \n",
    "    v = np.sqrt(vx**2 + vy**2)\n",
    "    \n",
    "    # compute derivatives\n",
    "    ds = [ vx, \n",
    "           vy,\n",
    "          -C2*v*vx/m,\n",
    "          -g -C2*v*vy/m ]\n",
    "    \n",
    "    return np.array(ds)"
   ]
  },
  {
   "cell_type": "code",
   "execution_count": null,
   "metadata": {},
   "outputs": [],
   "source": [
    "def ProjectileApp():\n",
    "    \n",
    "    tmax = 0.4\n",
    "    dt = 0.01\n",
    "    \n",
    "    # initial conditions\n",
    "    x0 = 0\n",
    "    y0 = 10\n",
    "    vx0 = 30\n",
    "    vy0 = 0\n",
    "\n",
    "    # parameters\n",
    "    g = 9.81\n",
    "    C2 = 0.4\n",
    "    m = 2\n",
    "    \n",
    "    # intial state vector\n",
    "    s0 = [x0, y0, vx0, vy0]\n",
    "    # parameters vector\n",
    "    p = [g, C2, m]\n",
    "\n",
    "    stepper = EulerStepper(F_projectile, s0=s0, p=p, \n",
    "                           tmax=tmax, dt=dt)\n",
    "    data = pd.DataFrame(stepper,\n",
    "                        columns = ['x', 'y', 'vx', 'vy', 't'])\n",
    "    return data"
   ]
  },
  {
   "cell_type": "code",
   "execution_count": null,
   "metadata": {},
   "outputs": [],
   "source": [
    "data = ProjectileApp()\n",
    "plt.plot(data.x, data.y, '.-')\n",
    "plt.xlabel('x')\n",
    "plt.ylabel('y')"
   ]
  },
  {
   "cell_type": "markdown",
   "metadata": {},
   "source": [
    "- - -\n",
    "### Discussion:\n",
    "\n",
    "State and parameters vectors are being exchanged as NumPy arrays.  The order of the variables is really important.\n",
    "- - - "
   ]
  },
  {
   "cell_type": "markdown",
   "metadata": {},
   "source": [
    "We can use the same numerical method to solve for the motion of a proton in a magnetic field:\n",
    "\n",
    "\\begin{align}\n",
    "x' &=  v_x   \\\\\n",
    "y' &= v_y    \\\\\n",
    "z' &=  v_z   \\\\\n",
    "v_x' &=  q v_y B / m\\\\\n",
    "v_y' &=  - q v_x B /m  \\\\\n",
    "v_z' &=  0\n",
    "\\end{align}"
   ]
  },
  {
   "cell_type": "code",
   "execution_count": null,
   "metadata": {},
   "outputs": [],
   "source": [
    "def F_proton(s, t, p):\n",
    "    \"\"\"Equations for proton in a magnetic field\"\"\"\n",
    "    \n",
    "    # unpack state vector\n",
    "    x, y, z, vx, vy, vz = s\n",
    "    \n",
    "    # unpack parameters vector\n",
    "    q, B, m = p\n",
    "    \n",
    "    ds = [ vx, vy, vz,\n",
    "           q*vy*B/m, -q*vx*B/m, 0 ] \n",
    "    \n",
    "    return np.array(ds)"
   ]
  },
  {
   "cell_type": "code",
   "execution_count": null,
   "metadata": {},
   "outputs": [],
   "source": [
    "def ProtonApp():\n",
    "    \n",
    "    tmax = 1e-6   # length of simulation, s\n",
    "    dt = 1e-9\n",
    "    \n",
    "    x0 = 0\n",
    "    y0 = 0\n",
    "    z0 = 0\n",
    "    vx0 = 4.7e6   # initial horizontal velocity, m/s\n",
    "    vy0 = 0\n",
    "    vz0 = 1e6     # initial 'out-of-page' velocity, m/s\n",
    "    \n",
    "    q = 1.602e-19 # charge, C\n",
    "    m = 1.67e-27  # mass of particle, kg\n",
    "    B = 0.35      # magnetic field, T\n",
    "\n",
    "    # intial state\n",
    "    s0 = [x0, y0, z0, vx0, vy0, vz0]\n",
    "\n",
    "    # parameters\n",
    "    p = [q, B, m]\n",
    "\n",
    "    stepper = EulerStepper(F_proton, s0=s0, p=p, \n",
    "                           tmax=tmax, dt=dt)\n",
    "    \n",
    "    data = pd.DataFrame(stepper, \n",
    "                        columns = ['x', 'y', 'z', 'vx', 'vy', 'vz', 't'])\n",
    "    \n",
    "    return data"
   ]
  },
  {
   "cell_type": "code",
   "execution_count": null,
   "metadata": {},
   "outputs": [],
   "source": [
    "data = ProtonApp()\n",
    "fig = plt.figure(figsize=(10,8))\n",
    "ax = fig.add_subplot(projection='3d')\n",
    "\n",
    "plt.plot(data.z, data.x, data.y, color='k')\n",
    "\n",
    "ax.set_xlabel('z (m)')\n",
    "ax.set_ylabel('x (m)')\n",
    "ax.set_zlabel('y (m)') "
   ]
  },
  {
   "cell_type": "markdown",
   "metadata": {},
   "source": [
    "This abstraction allows us to not have to reimplement the numerical method for each new problem. Alternatively, we can easily try a new numerical algorithm without having to recode the physical problem.\n",
    "\n",
    "For the proton in a magnetic fields, the proton should be tracing out a helix pattern. Let's switch to a better numerical algorithm."
   ]
  },
  {
   "cell_type": "code",
   "execution_count": null,
   "metadata": {},
   "outputs": [],
   "source": [
    "def MidpointStepper( F = lambda s, t, p: s,  \n",
    "                     s0 = [],\n",
    "                     t0 = 0,\n",
    "                     p = [],\n",
    "                     dt = 0.1, \n",
    "                     tmax = 1,\n",
    "                   ):\n",
    "    \"\"\" \n",
    "    Solve the system \n",
    "    \n",
    "      ds/dt = F(s, t; p)\n",
    "      s(t0) = s0\n",
    "      \n",
    "    where s is a state vector dictionary\n",
    "      and p are any required parameters\n",
    "    \n",
    "    using a time step dt up to tmax\n",
    "    \n",
    "    yields back the dictionary r (current state and time)\n",
    "    \"\"\"\n",
    "    \n",
    "    #### Initialize the state and time\n",
    "    s = np.array(s0)\n",
    "    t = t0\n",
    "\n",
    "    while t < tmax:\n",
    "        # prepare to send the results back\n",
    "        r = list(s)\n",
    "        r.append(t)\n",
    "        yield r\n",
    "        \n",
    "        # estimate the derivative\n",
    "        ds1 = F(s, t, p)\n",
    "\n",
    "        # estimate the midpoint\n",
    "        s1 = s + ds1*dt/2\n",
    "        \n",
    "        # estimate the derivative at the mid-point\n",
    "        ds2 = F(s1, t+dt/2, p)\n",
    "        \n",
    "        # update the state vector\n",
    "        s = s + ds2*dt\n",
    "        \n",
    "        t = t + dt"
   ]
  },
  {
   "cell_type": "markdown",
   "metadata": {},
   "source": [
    "The only change in the application we need to make is name of the stepper that we need to call:"
   ]
  },
  {
   "cell_type": "code",
   "execution_count": null,
   "metadata": {},
   "outputs": [],
   "source": [
    "def ProtonApp():\n",
    "    \n",
    "    tmax = 1e-6   # length of simulation, s\n",
    "    dt = 1e-9\n",
    "    \n",
    "    x0 = 0\n",
    "    y0 = 0\n",
    "    z0 = 0\n",
    "    vx0 = 4.7e6   # initial horizontal velocity, m/s\n",
    "    vy0 = 0\n",
    "    vz0 = 1e6     # initial 'out-of-page' velocity, m/s\n",
    "    \n",
    "    q = 1.602e-19 # charge, C\n",
    "    m = 1.67e-27  # mass of particle, kg\n",
    "    B = 0.35      # magnetic field, T\n",
    "\n",
    "    # intial state\n",
    "    s0 = [x0, y0, z0, vx0, vy0, vz0]\n",
    "\n",
    "    # parameters\n",
    "    p = [q, B, m]\n",
    "\n",
    "    stepper = MidpointStepper(F_proton, s0=s0, p=p, \n",
    "                           tmax=tmax, dt=dt)\n",
    "    \n",
    "    data = pd.DataFrame(stepper, \n",
    "                        columns = ['x', 'y', 'z', 'vx', 'vy', 'vz', 't'])\n",
    "    return data"
   ]
  },
  {
   "cell_type": "code",
   "execution_count": null,
   "metadata": {},
   "outputs": [],
   "source": [
    "data = ProtonApp()\n",
    "fig = plt.figure(figsize=(10,8))\n",
    "ax = fig.add_subplot(projection='3d')\n",
    "\n",
    "plt.plot(data.z, data.x, data.y, color='k')\n",
    "\n",
    "ax.set_xlabel('z (m)')\n",
    "ax.set_ylabel('x (m)')\n",
    "ax.set_zlabel('y (m)') "
   ]
  },
  {
   "cell_type": "markdown",
   "metadata": {},
   "source": [
    "A much better with result with the same size time step!"
   ]
  },
  {
   "cell_type": "markdown",
   "metadata": {},
   "source": [
    "Even cleaner is if we didn't have to rewrite the main application / driver program at all."
   ]
  },
  {
   "cell_type": "code",
   "execution_count": null,
   "metadata": {},
   "outputs": [],
   "source": [
    "def ProtonApp(Stepper=EulerStepper):\n",
    "    \n",
    "    tmax = 1e-6   # length of simulation, s\n",
    "    dt = 1e-9\n",
    "    \n",
    "    x0 = 0\n",
    "    y0 = 0\n",
    "    z0 = 0\n",
    "    vx0 = 4.7e6   # initial horizontal velocity, m/s\n",
    "    vy0 = 0\n",
    "    vz0 = 1e6     # initial 'out-of-page' velocity, m/s\n",
    "    \n",
    "    q = 1.602e-19 # charge, C\n",
    "    m = 1.67e-27  # mass of particle, kg\n",
    "    B = 0.35      # magnetic field, T\n",
    "\n",
    "    # intial state\n",
    "    s0 = [x0, y0, z0, vx0, vy0, vz0]\n",
    "\n",
    "    # parameters\n",
    "    p = [q, B, m]\n",
    "\n",
    "    stepper = Stepper(F_proton, s0=s0, p=p, \n",
    "                           tmax=tmax, dt=dt)\n",
    "    \n",
    "    data = pd.DataFrame(stepper, \n",
    "                        columns = ['x', 'y', 'z', 'vx', 'vy', 'vz', 't'])\n",
    "\n",
    "    return data"
   ]
  },
  {
   "cell_type": "markdown",
   "metadata": {},
   "source": [
    "Now we can quickly run the program with either numerical models to see the differences:"
   ]
  },
  {
   "cell_type": "code",
   "execution_count": null,
   "metadata": {},
   "outputs": [],
   "source": [
    "data_euler = ProtonApp(Stepper=EulerStepper)\n",
    "data_midpoint = ProtonApp(Stepper=MidpointStepper)\n",
    "\n",
    "fig = plt.figure(figsize=(10,8))\n",
    "ax = fig.add_subplot(projection='3d')\n",
    "    \n",
    "plt.plot(data_euler.z, data_euler.x, data_euler.y, color='r', label='Euler')\n",
    "plt.plot(data_midpoint.z, data_midpoint.x, data_midpoint.y, color='b', label='Midpoint')\n",
    "plt.legend()\n",
    "\n",
    "ax.set_xlabel('z (m)')\n",
    "ax.set_ylabel('x (m)')\n",
    "ax.set_zlabel('y (m)') \n",
    "plt.show()"
   ]
  },
  {
   "cell_type": "markdown",
   "metadata": {},
   "source": [
    "- - -\n",
    "## Lab 4\n",
    "\n",
    "Today and Thursday.  \n",
    "\n",
    "## Assignment 4\n",
    "\n",
    "Available now and due Sunday, October 27, 2019.  One question is on numerical integration (Simpson's Rule) and the other is on solving ODEs numerically.  "
   ]
  }
 ],
 "metadata": {
  "kernelspec": {
   "display_name": "Python 3",
   "language": "python",
   "name": "python3"
  },
  "language_info": {
   "codemirror_mode": {
    "name": "ipython",
    "version": 3
   },
   "file_extension": ".py",
   "mimetype": "text/x-python",
   "name": "python",
   "nbconvert_exporter": "python",
   "pygments_lexer": "ipython3",
   "version": "3.6.7"
  }
 },
 "nbformat": 4,
 "nbformat_minor": 4
}
