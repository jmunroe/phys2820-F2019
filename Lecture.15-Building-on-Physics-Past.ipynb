{
 "cells": [
  {
   "cell_type": "markdown",
   "metadata": {},
   "source": [
    "# Building on Physics Past\n",
    "## Lecture 15"
   ]
  },
  {
   "cell_type": "code",
   "execution_count": null,
   "metadata": {},
   "outputs": [],
   "source": [
    "%matplotlib inline\n",
    "import matplotlib.pyplot as plt\n",
    "import numpy as np\n",
    "import sympy as sp\n",
    "sp.init_printing(use_latex='mathjax') # pretty printing with LaTeX"
   ]
  },
  {
   "cell_type": "markdown",
   "metadata": {},
   "source": [
    "In this lecture we will use SymPy and NumPy to solve physics problems taken from first year.  We will then solve more complicated, generalized versions of the problems."
   ]
  },
  {
   "cell_type": "markdown",
   "metadata": {},
   "source": [
    "## 1. The bicycle and the truck\n",
    "A truck is waiting at a red light.  A cyclist trying to catch up is $d=3.00$ m behind the truck just as the light turns green.  The bicycle keeps a constant velocity of $v_b = 20.0$ km/h, while the truck accelerates at a constant rate of $a_t = 3.00$ m/s$^2$.  When does the bicycle catch up to the truck? When does the truck overtake the bicycle?"
   ]
  },
  {
   "cell_type": "markdown",
   "metadata": {},
   "source": [
    "***Solution***"
   ]
  },
  {
   "cell_type": "markdown",
   "metadata": {},
   "source": [
    "This is a problem from kinematics. We need to consider the position of bicycle, $x_b$, and the position of truck, $x_t$ as functions of time."
   ]
  },
  {
   "cell_type": "code",
   "execution_count": null,
   "metadata": {},
   "outputs": [],
   "source": [
    "t, d, vb, at = sp.symbols('t, d, v_b, a_t')"
   ]
  },
  {
   "cell_type": "markdown",
   "metadata": {},
   "source": [
    "Use the kinematic formulae for $x_{b,0} = 0$ and $x_{t, 0} = d$"
   ]
  },
  {
   "cell_type": "code",
   "execution_count": null,
   "metadata": {},
   "outputs": [],
   "source": [
    "# bicycle\n",
    "xb = vb*t\n",
    "xb"
   ]
  },
  {
   "cell_type": "code",
   "execution_count": null,
   "metadata": {},
   "outputs": [],
   "source": [
    "# truck\n",
    "xt = d + at*t**2/2\n",
    "xt"
   ]
  },
  {
   "cell_type": "markdown",
   "metadata": {},
   "source": [
    "Here are the specific parameters for this problem."
   ]
  },
  {
   "cell_type": "code",
   "execution_count": null,
   "metadata": {},
   "outputs": [],
   "source": [
    "parameters = { d: 3.00, \n",
    "               vb: 20.0 * 1000 / 60 / 60,   # convert km/h to m/s\n",
    "               at: 3.00 }"
   ]
  },
  {
   "cell_type": "markdown",
   "metadata": {},
   "source": [
    "Plot position of truck and bicycle."
   ]
  },
  {
   "cell_type": "code",
   "execution_count": null,
   "metadata": {},
   "outputs": [],
   "source": [
    "sp.plot(xb.subs(parameters), xt.subs(parameters), (t, 0, 5))\n",
    "plt.show()"
   ]
  },
  {
   "cell_type": "markdown",
   "metadata": {},
   "source": [
    "Looks like the bicycle overtakes the truck after about 0.6 s and the truck will overtake the bicycle at around 3 s.  Let's solve for those times exactly when $x_t = x_b$."
   ]
  },
  {
   "cell_type": "code",
   "execution_count": null,
   "metadata": {},
   "outputs": [],
   "source": [
    "soln = sp.solveset(sp.Eq(xt, xb), t)\n",
    "soln"
   ]
  },
  {
   "cell_type": "code",
   "execution_count": null,
   "metadata": {},
   "outputs": [],
   "source": [
    "t1, t2 = soln.subs(parameters)\n",
    "\n",
    "print(t1.evalf(3), t2.evalf(3)) # pay attention to significant digits"
   ]
  },
  {
   "cell_type": "markdown",
   "metadata": {},
   "source": [
    "The bicycle overtakes the truck after 0.66 s.  The truck overtakes the bicycle after 3.05 s."
   ]
  },
  {
   "cell_type": "markdown",
   "metadata": {},
   "source": [
    "## 2. The bicycle and the truck, generalized\n",
    "A truck is waiting at a red light.  A cyclist trying to catch up is 3.00 m behind the truck just as the light turns green.  The cyclist starts at a velocity of roughly 20 km/h, but can't keep up the pace.  The velocity of the bicylce is given by (4 e$^{-t/3}$ + 2)  m/s, with $t$ measured from the moment the light turns green in seconds, while the truck accelerates at a rate of $(2 - t/10)$  m/s$^2$.  When does the truck overtake the bicycle (answer to 3 sig figs.)?"
   ]
  },
  {
   "cell_type": "markdown",
   "metadata": {},
   "source": [
    "***Solution***"
   ]
  },
  {
   "cell_type": "code",
   "execution_count": null,
   "metadata": {},
   "outputs": [],
   "source": [
    "t = sp.symbols('t')"
   ]
  },
  {
   "cell_type": "markdown",
   "metadata": {},
   "source": [
    "Velocity of the bicycle"
   ]
  },
  {
   "cell_type": "code",
   "execution_count": null,
   "metadata": {},
   "outputs": [],
   "source": [
    "vb = 4 * sp.exp(-t/3) + 2\n",
    "vb"
   ]
  },
  {
   "cell_type": "markdown",
   "metadata": {},
   "source": [
    "Acceleration of the truck"
   ]
  },
  {
   "cell_type": "code",
   "execution_count": null,
   "metadata": {},
   "outputs": [],
   "source": [
    "at = 2 -  t/10\n",
    "at"
   ]
  },
  {
   "cell_type": "markdown",
   "metadata": {},
   "source": [
    "The kinematic formulae we learn in first-year are only valid for constant velocity or constant accleration. \n",
    "\n",
    "Instead, we need to integrate the velocity and acceleration for the bicycle and the truck, respectively."
   ]
  },
  {
   "cell_type": "code",
   "execution_count": null,
   "metadata": {},
   "outputs": [],
   "source": [
    "xb = sp.integrate(vb, (t, 0, t))\n",
    "xb"
   ]
  },
  {
   "cell_type": "markdown",
   "metadata": {},
   "source": [
    "Notice we are integrate with respect to the variable, from time $t=0$ up to an arbitrary time $t=t$."
   ]
  },
  {
   "cell_type": "markdown",
   "metadata": {},
   "source": [
    "For the position of the truck, we have to integrate with respect to time twice and set $x_{t,0} = 3.0$."
   ]
  },
  {
   "cell_type": "code",
   "execution_count": null,
   "metadata": {},
   "outputs": [],
   "source": [
    "vt = sp.integrate(at, (t, 0, t))\n",
    "xt = sp.integrate(vt, (t, 0, t)) + 3\n",
    "xt"
   ]
  },
  {
   "cell_type": "code",
   "execution_count": null,
   "metadata": {},
   "outputs": [],
   "source": [
    "soln1.rhs - xb"
   ]
  },
  {
   "cell_type": "code",
   "execution_count": null,
   "metadata": {},
   "outputs": [],
   "source": [
    "soln1.rhs"
   ]
  },
  {
   "cell_type": "code",
   "execution_count": null,
   "metadata": {},
   "outputs": [],
   "source": [
    "xb"
   ]
  },
  {
   "cell_type": "code",
   "execution_count": null,
   "metadata": {},
   "outputs": [],
   "source": [
    "xb"
   ]
  },
  {
   "cell_type": "code",
   "execution_count": null,
   "metadata": {},
   "outputs": [],
   "source": [
    "sp.plot(xb, xt, (t, 0, 5))\n",
    "plt.show()"
   ]
  },
  {
   "cell_type": "markdown",
   "metadata": {},
   "source": [
    "Looks like truck will overtake the bicycle at around 4 s.  Let's solve for that time exactly."
   ]
  },
  {
   "cell_type": "markdown",
   "metadata": {},
   "source": [
    "Let's try an solve for when the bicycle overtakes the truck, and when the truck overtakes the bicycle."
   ]
  },
  {
   "cell_type": "code",
   "execution_count": null,
   "metadata": {},
   "outputs": [],
   "source": [
    "soln = sp.solveset(sp.Eq(xb, xt), t)\n",
    "soln"
   ]
  },
  {
   "cell_type": "markdown",
   "metadata": {},
   "source": [
    "This problem not have nice algebraic solutions so SymPy can't give us symbolic solution. \n",
    "\n",
    "SymPy *can* solve equation numerically using `sp.nsolve`. But, it needs an an initial guess for the answer."
   ]
  },
  {
   "cell_type": "code",
   "execution_count": null,
   "metadata": {},
   "outputs": [],
   "source": [
    "t2 = sp.nsolve(sp.Eq(xb, xt), 4)\n",
    "t2.evalf(3)"
   ]
  },
  {
   "cell_type": "markdown",
   "metadata": {},
   "source": [
    "The truck overtakes the bicycle after 3.72 s. If we wanted when the bicycle catches up to the truck, we need use a different initial guess."
   ]
  },
  {
   "cell_type": "code",
   "execution_count": null,
   "metadata": {},
   "outputs": [],
   "source": [
    "t1 = sp.nsolve(sp.Eq(xb, xt), 1)\n",
    "t1.evalf(3)"
   ]
  },
  {
   "cell_type": "markdown",
   "metadata": {},
   "source": [
    "***\n",
    "Getting $x_b$ and $x_t$ a different way... as ODEs"
   ]
  },
  {
   "cell_type": "code",
   "execution_count": null,
   "metadata": {},
   "outputs": [],
   "source": [
    "xb = sp.symbols('x_b', cls=sp.Function)\n",
    "\n",
    "# velocity is the first derivative of position\n",
    "ode = sp.Eq(vb, xb(t).diff(t))\n",
    "\n",
    "# define initial conditions\n",
    "ics = {xb(t).subs(t,0):0}\n",
    "        \n",
    "soln1 = sp.dsolve(ode, ics=ics)\n",
    "soln1"
   ]
  },
  {
   "cell_type": "code",
   "execution_count": null,
   "metadata": {},
   "outputs": [],
   "source": [
    "xt = sp.symbols('x_t', cls=sp.Function)\n",
    "\n",
    "# acceleration is the second derivative of position\n",
    "ode = sp.Eq(at, xt(t).diff(t, t))\n",
    "\n",
    "# define initial conditions\n",
    "ics = {xt(t).subs(t,0):3,\n",
    "       xt(t).diff(t).subs(t,0):0}\n",
    "        \n",
    "soln2 = sp.dsolve(ode, xt(t), ics=ics)\n",
    "soln2"
   ]
  },
  {
   "cell_type": "code",
   "execution_count": null,
   "metadata": {},
   "outputs": [],
   "source": [
    "sp.plot(soln1.rhs, soln2.rhs, (t, 0, 5))"
   ]
  },
  {
   "cell_type": "markdown",
   "metadata": {},
   "source": [
    "## 3. Another ODE: Simple Harmonic Oscillator"
   ]
  },
  {
   "cell_type": "markdown",
   "metadata": {},
   "source": [
    "Consider a block of mass $m$ attached to a spring on a horizontally frictionless table. Experiments have shown that the force exerted by a spring is linearly proportional to the distance\n",
    "\n",
    "$$ x $$\n",
    "\n",
    "the spring is displaced from its equilibrium position. Mathematically, this is\n",
    "\n",
    "$$ F = -k x $$\n",
    "\n",
    "where $k$ is the spring constant. Its value depend on the particular spring used. Newton's Second Law then gives\n",
    "\n",
    "$$ m a = -k x \\quad \\mathrm{(1)}$$\n",
    "\n",
    "Since $ a = d^2x / dt^2, this yields the ordinary differential equation\n",
    "\n",
    "$$ m \\frac{d^2 x}{d t^2} = - k x \\quad \\mathrm{(2)}$$\n",
    "\n",
    "with the initial conditions\n",
    "\n",
    "$$ x(0) = x_i, \\quad v(0) = v_i $$\n",
    "\n",
    "where $v$ is the velocity.  In the previous example, acceleration (force) was given an explicit time dependence. Instead, the force here depends on position.  A general solution to (2) was found analytically back in PHYS1050 in terms of sines and cosines, and we can recover it here."
   ]
  },
  {
   "cell_type": "markdown",
   "metadata": {},
   "source": [
    "***Solution***"
   ]
  },
  {
   "cell_type": "code",
   "execution_count": null,
   "metadata": {},
   "outputs": [],
   "source": [
    "# define our symbols\n",
    "x = sp.symbols('x', cls=sp.Function)\n",
    "t = sp.symbols('t')\n",
    "k, m = sp.symbols('k, m', positive=True)\n",
    "xi, vi = sp.symbols('x_i, v_i')"
   ]
  },
  {
   "cell_type": "code",
   "execution_count": null,
   "metadata": {},
   "outputs": [],
   "source": [
    "# define the differential equation (DE)\n",
    "ode = sp.Eq(m*x(t).diff(t, t), -k*x(t))\n",
    "ode"
   ]
  },
  {
   "cell_type": "code",
   "execution_count": null,
   "metadata": {},
   "outputs": [],
   "source": [
    "# define the initial conditions (ICs)\n",
    "ics = { x(t).subs(t, 0): xi, \n",
    "        x(t).diff(t).subs(t, 0): vi}"
   ]
  },
  {
   "cell_type": "code",
   "execution_count": null,
   "metadata": {},
   "outputs": [],
   "source": [
    "soln = sp.dsolve(ode, ics=ics)\n",
    "soln"
   ]
  },
  {
   "cell_type": "markdown",
   "metadata": {},
   "source": [
    "We often rewrite the natural frequency as $ \\omega_0 = \\sqrt(k)/\\sqrt(m)$."
   ]
  },
  {
   "cell_type": "code",
   "execution_count": null,
   "metadata": {},
   "outputs": [],
   "source": [
    "ω0 = sp.symbols('ω_0')"
   ]
  },
  {
   "cell_type": "markdown",
   "metadata": {},
   "source": [
    "Although this partly works,"
   ]
  },
  {
   "cell_type": "code",
   "execution_count": null,
   "metadata": {},
   "outputs": [],
   "source": [
    "soln.subs(sp.sqrt(k)/sp.sqrt(m), ω0)"
   ]
  },
  {
   "cell_type": "markdown",
   "metadata": {},
   "source": [
    "It turns out that this"
   ]
  },
  {
   "cell_type": "code",
   "execution_count": null,
   "metadata": {},
   "outputs": [],
   "source": [
    "soln = soln.subs(sp.sqrt(k), ω0*sp.sqrt(m))\n",
    "soln"
   ]
  },
  {
   "cell_type": "markdown",
   "metadata": {},
   "source": [
    "is a better approach."
   ]
  },
  {
   "cell_type": "markdown",
   "metadata": {},
   "source": [
    "At this point, $x(t)$ is still an undefined function."
   ]
  },
  {
   "cell_type": "code",
   "execution_count": null,
   "metadata": {},
   "outputs": [],
   "source": [
    "type(x)"
   ]
  },
  {
   "cell_type": "markdown",
   "metadata": {},
   "source": [
    "Now that we have the solution, we can explicit bind the function $x(t)$ to that solution."
   ]
  },
  {
   "cell_type": "code",
   "execution_count": null,
   "metadata": {},
   "outputs": [],
   "source": [
    "x = sp.Lambda(t, soln.rhs)\n",
    "x"
   ]
  },
  {
   "cell_type": "code",
   "execution_count": null,
   "metadata": {},
   "outputs": [],
   "source": [
    "type(x)"
   ]
  },
  {
   "cell_type": "markdown",
   "metadata": {},
   "source": [
    "Since there is no dissipation, i.e. no friction, the total mechanical energy of this system should be conserved. Let's check this. The total mechanical energy is the sum of the potential energy $U$ and kinetic energy $K$. The potential energy is given by $( k = \\omega_0^2 m)$\n",
    "    \n",
    "$$ U = 1/2 k x^2 = 1/2 \\omega_0^2 m x^2 $$\n",
    "    \n",
    "and the kinetic energy is\n",
    "\n",
    "$$ K = 1/2 m v^2 $$"
   ]
  },
  {
   "cell_type": "code",
   "execution_count": null,
   "metadata": {},
   "outputs": [],
   "source": [
    "U = sp.Rational(1,2) * ω0**2 * m * x(t)**2\n",
    "U"
   ]
  },
  {
   "cell_type": "code",
   "execution_count": null,
   "metadata": {},
   "outputs": [],
   "source": [
    "K = sp.Rational(1,2) * m * sp.diff(x(t), t)**2\n",
    "K"
   ]
  },
  {
   "cell_type": "markdown",
   "metadata": {},
   "source": [
    "Adding these contributions, we should get a constant."
   ]
  },
  {
   "cell_type": "code",
   "execution_count": null,
   "metadata": {},
   "outputs": [],
   "source": [
    "E = U + K\n",
    "E"
   ]
  },
  {
   "cell_type": "code",
   "execution_count": null,
   "metadata": {},
   "outputs": [],
   "source": [
    "sp.simplify(E)"
   ]
  },
  {
   "cell_type": "markdown",
   "metadata": {},
   "source": [
    "as expected."
   ]
  },
  {
   "cell_type": "markdown",
   "metadata": {},
   "source": [
    "## 4. Block on an inclined plane"
   ]
  },
  {
   "cell_type": "markdown",
   "metadata": {},
   "source": [
    "A m = 1.5 kg block rests on a horizontal board hinged at one end.  The coefficient of static friction is μ=0.1.  The free end of the board is lifted very slowly.  At what angle will the block begin to slide down the board?"
   ]
  },
  {
   "cell_type": "markdown",
   "metadata": {},
   "source": [
    "***Solution***"
   ]
  },
  {
   "cell_type": "code",
   "execution_count": null,
   "metadata": {},
   "outputs": [],
   "source": [
    "m, g, μ, θ = sp.symbols('m, g, μ, θ', positive=True)"
   ]
  },
  {
   "cell_type": "markdown",
   "metadata": {},
   "source": [
    "The component of gravity acting along the board ($r=0$ is at the hinge, $r$ increases up the board):"
   ]
  },
  {
   "cell_type": "code",
   "execution_count": null,
   "metadata": {},
   "outputs": [],
   "source": [
    "Fg_radial = - m * g * sp.sin(θ)"
   ]
  },
  {
   "cell_type": "markdown",
   "metadata": {},
   "source": [
    "The component of gravity acting prependicular to the board:"
   ]
  },
  {
   "cell_type": "code",
   "execution_count": null,
   "metadata": {},
   "outputs": [],
   "source": [
    "Fg_normal= - m * g * sp.cos(θ)"
   ]
  },
  {
   "cell_type": "markdown",
   "metadata": {},
   "source": [
    "Normal force on the block from the board:"
   ]
  },
  {
   "cell_type": "code",
   "execution_count": null,
   "metadata": {},
   "outputs": [],
   "source": [
    "Fnormal = - Fg_normal"
   ]
  },
  {
   "cell_type": "markdown",
   "metadata": {},
   "source": [
    "Maximum upword force (in direction of increasing r) provided by static friction:"
   ]
  },
  {
   "cell_type": "code",
   "execution_count": null,
   "metadata": {},
   "outputs": [],
   "source": [
    "Fstatic = μ * Fnormal"
   ]
  },
  {
   "cell_type": "markdown",
   "metadata": {},
   "source": [
    "Find θ at which Fg_radial + Fstatic = 0"
   ]
  },
  {
   "cell_type": "code",
   "execution_count": null,
   "metadata": {},
   "outputs": [],
   "source": [
    "soln = sp.solveset(Fg_radial+Fstatic, θ)\n",
    "soln"
   ]
  },
  {
   "cell_type": "markdown",
   "metadata": {},
   "source": [
    "The function `sp.solveset` tries to find *all* the possible solutions, but this looks very strange...looking through the documentation it appears SymPy has issues solving some trignometric equations with `sp.solveset`. Perhaps it will be fixed in a future version.\n",
    "\n",
    "There is a older function solving function called `sp.solve` that does work in this case."
   ]
  },
  {
   "cell_type": "code",
   "execution_count": null,
   "metadata": {},
   "outputs": [],
   "source": [
    "soln = sp.solve(Fg_radial+Fstatic, θ)[0] # pick out the first solution from a list of solutions\n",
    "soln"
   ]
  },
  {
   "cell_type": "markdown",
   "metadata": {},
   "source": [
    "SymPy seems to doing something interesting with a tangent half-angle formula, since we usually would write the solution as \n",
    "\n",
    "$$ \\tan^{-1}(\\mu) $$\n",
    "\n",
    "but this is an equivalent solution.\n"
   ]
  },
  {
   "cell_type": "markdown",
   "metadata": {},
   "source": [
    "Notice that the $m$ and $g$ have cancelled out, but we need to specify μ to get a number"
   ]
  },
  {
   "cell_type": "code",
   "execution_count": null,
   "metadata": {},
   "outputs": [],
   "source": [
    "critical_angle = soln.subs({μ: 0.1})\n",
    "critical_angle.evalf(3)"
   ]
  },
  {
   "cell_type": "markdown",
   "metadata": {},
   "source": [
    "This is in radians; in degrees it would be"
   ]
  },
  {
   "cell_type": "code",
   "execution_count": null,
   "metadata": {},
   "outputs": [],
   "source": [
    "(critical_angle * 180/sp.pi).evalf(3)"
   ]
  },
  {
   "cell_type": "markdown",
   "metadata": {},
   "source": [
    "So the block will begin to slide down the board at an angle of 5.71 degrees."
   ]
  },
  {
   "cell_type": "markdown",
   "metadata": {},
   "source": [
    "## 5. Block on an rotating inclined plane"
   ]
  },
  {
   "cell_type": "markdown",
   "metadata": {},
   "source": [
    "A $m=1.5$ kg block rests on a horizontal board hinged at one end.  The block rests 0.3 m away from the hinge (hinge is at r=0).  The coefficient of static friction is μ=0.1.  The free end of the board is lifted so that angle between the board and the horizontal increases at a steady rate of $\\omega$=0.4 rad/s.  At what angle will the block begin to slide down the board?\n",
    "\n",
    "The twist here is that since the board is rotating with a non-negligible speed, the block feels a centrifugal force pushing it away from the hinge (up the board).  Thus, the angle at which it begins to slide should be larger.  The centrifugal force is \n",
    "\n",
    "$$F_c = m r ω^2.$$ \n",
    "\n",
    "(Alternatively, the force of static friction provides the centripetal acceleration required to keep the block moving in constant circular motion while it as rest with respect to the board.) \n",
    "\n",
    "Use $g$=9.81 m/s$^2$."
   ]
  },
  {
   "cell_type": "markdown",
   "metadata": {},
   "source": [
    "***Solution***"
   ]
  },
  {
   "cell_type": "code",
   "execution_count": null,
   "metadata": {},
   "outputs": [],
   "source": [
    "m, g, θ, μ, ω, r = sp.symbols('m, g, θ, μ, ω, r')"
   ]
  },
  {
   "cell_type": "markdown",
   "metadata": {},
   "source": [
    "The component of gravity acting along the board ($r$=0 is at the hinge, $r$ increases up the board):"
   ]
  },
  {
   "cell_type": "code",
   "execution_count": null,
   "metadata": {},
   "outputs": [],
   "source": [
    "Fg_radial = -m * g * sp.sin(θ)"
   ]
  },
  {
   "cell_type": "markdown",
   "metadata": {},
   "source": [
    "Centrifugal force:"
   ]
  },
  {
   "cell_type": "code",
   "execution_count": null,
   "metadata": {},
   "outputs": [],
   "source": [
    "Fc = m * r * ω**2"
   ]
  },
  {
   "cell_type": "markdown",
   "metadata": {},
   "source": [
    "The component of gravity acting prependicular to the board:"
   ]
  },
  {
   "cell_type": "code",
   "execution_count": null,
   "metadata": {},
   "outputs": [],
   "source": [
    "Fg_normal = -m*g*sp.cos(θ)"
   ]
  },
  {
   "cell_type": "markdown",
   "metadata": {},
   "source": [
    "Normal force:"
   ]
  },
  {
   "cell_type": "code",
   "execution_count": null,
   "metadata": {},
   "outputs": [],
   "source": [
    "Fnormal = -Fg_normal"
   ]
  },
  {
   "cell_type": "markdown",
   "metadata": {},
   "source": [
    "Maximum upword force (in direction of increasing r) provided by static friction:"
   ]
  },
  {
   "cell_type": "code",
   "execution_count": null,
   "metadata": {},
   "outputs": [],
   "source": [
    "Fstatic = μ * Fnormal"
   ]
  },
  {
   "cell_type": "markdown",
   "metadata": {},
   "source": [
    "Find θ at which Fgradial + Fstat + Fc = 0"
   ]
  },
  {
   "cell_type": "code",
   "execution_count": null,
   "metadata": {},
   "outputs": [],
   "source": [
    "Fg_radial+Fstatic+Fc"
   ]
  },
  {
   "cell_type": "code",
   "execution_count": null,
   "metadata": {},
   "outputs": [],
   "source": [
    "soln = sp.solve( Fg_radial + Fstatic + Fc, θ)\n",
    "soln"
   ]
  },
  {
   "cell_type": "markdown",
   "metadata": {},
   "source": [
    "Picking out the physically meaningful root (a small positive angle) as the critical angle, $\\theta_c$."
   ]
  },
  {
   "cell_type": "code",
   "execution_count": null,
   "metadata": {},
   "outputs": [],
   "source": [
    "θc = soln[0]\n",
    "θc"
   ]
  },
  {
   "cell_type": "markdown",
   "metadata": {},
   "source": [
    "We'll need to specify g, r, ω and μ to get a numerical result."
   ]
  },
  {
   "cell_type": "code",
   "execution_count": null,
   "metadata": {},
   "outputs": [],
   "source": [
    "parameters = { μ:0.1, ω:0.4, r:0.3, g:9.8}"
   ]
  },
  {
   "cell_type": "code",
   "execution_count": null,
   "metadata": {},
   "outputs": [],
   "source": [
    "(θc.subs(parameters) * 180 / sp.pi).evalf(3)"
   ]
  },
  {
   "cell_type": "markdown",
   "metadata": {},
   "source": [
    "So the block will begin to slide down the board at an angle of 5.99 degrees."
   ]
  },
  {
   "cell_type": "markdown",
   "metadata": {},
   "source": [
    "## 6. Moving block on rotating inclined plane"
   ]
  },
  {
   "cell_type": "markdown",
   "metadata": {},
   "source": [
    "The $m$ = 1.5 kg block from the last example is now on the move.  The coefficient of kinetic friction is $\\mu=0.09$.  Plot the position of the block along the board up to $t=1$ s according to the solution of Newton's equation of motion.  When does the block hit the bottom of the board?\n",
    "\n",
    "The twist here is that since the board is rotating with a non-negligible speed and the block is now moving, so, in addition to the centrifugal force, the block also feels a Coriolis force pushing it into the board.  That Coriolis force is\n",
    "\n",
    "$$ F_{cor} = 2 m \\frac{dr}{dt} \\omega$$\n",
    "    \n",
    "which pushes into the board increasing the normal force."
   ]
  },
  {
   "cell_type": "markdown",
   "metadata": {},
   "source": [
    "***Solution***"
   ]
  },
  {
   "cell_type": "code",
   "execution_count": null,
   "metadata": {},
   "outputs": [],
   "source": [
    "m, g, θ, μ, ω, ri = sp.symbols('m, g, θ, μ, ω, r_i')\n",
    "r = sp.symbols('r', cls=sp.Function)"
   ]
  },
  {
   "cell_type": "markdown",
   "metadata": {},
   "source": [
    "The component of gravity acting along the board ($r=0$ is at the hinge, $r$ increases up the board):"
   ]
  },
  {
   "cell_type": "code",
   "execution_count": null,
   "metadata": {},
   "outputs": [],
   "source": [
    "Fg_radial = -m * g * sp.sin(θ)"
   ]
  },
  {
   "cell_type": "markdown",
   "metadata": {},
   "source": [
    "(negative since down the board)"
   ]
  },
  {
   "cell_type": "markdown",
   "metadata": {},
   "source": [
    "Centrifugal force:"
   ]
  },
  {
   "cell_type": "code",
   "execution_count": null,
   "metadata": {},
   "outputs": [],
   "source": [
    "Fcen = m * r(t) * ω**2"
   ]
  },
  {
   "cell_type": "markdown",
   "metadata": {},
   "source": [
    "(positive since up the board)"
   ]
  },
  {
   "cell_type": "markdown",
   "metadata": {},
   "source": [
    "Coriolis force:"
   ]
  },
  {
   "cell_type": "code",
   "execution_count": null,
   "metadata": {},
   "outputs": [],
   "source": [
    "Fcor = -2 * m * r(t).diff(t) * ω"
   ]
  },
  {
   "cell_type": "markdown",
   "metadata": {},
   "source": [
    "(negative since into the board)"
   ]
  },
  {
   "cell_type": "markdown",
   "metadata": {},
   "source": [
    "The component of gravity acting prependicular to the board:"
   ]
  },
  {
   "cell_type": "code",
   "execution_count": null,
   "metadata": {},
   "outputs": [],
   "source": [
    "Fg_normal = -m * g * sp.cos(θ)"
   ]
  },
  {
   "cell_type": "markdown",
   "metadata": {},
   "source": [
    "Normal force:"
   ]
  },
  {
   "cell_type": "code",
   "execution_count": null,
   "metadata": {},
   "outputs": [],
   "source": [
    "Fnormal = - Fg_normal - Fcor"
   ]
  },
  {
   "cell_type": "markdown",
   "metadata": {},
   "source": [
    "Force of kinetic friction (should be positive because it tries to keep the block from sliding down)"
   ]
  },
  {
   "cell_type": "code",
   "execution_count": null,
   "metadata": {},
   "outputs": [],
   "source": [
    "Fkin = μ * Fnormal"
   ]
  },
  {
   "cell_type": "markdown",
   "metadata": {},
   "source": [
    "Net force in the r direction"
   ]
  },
  {
   "cell_type": "code",
   "execution_count": null,
   "metadata": {},
   "outputs": [],
   "source": [
    "Fnet = Fg_radial + Fkin + Fcen\n",
    "Fnet"
   ]
  },
  {
   "cell_type": "markdown",
   "metadata": {},
   "source": [
    "At t=0, the angle is what we found in the last problem, $\\theta_c$. "
   ]
  },
  {
   "cell_type": "code",
   "execution_count": null,
   "metadata": {},
   "outputs": [],
   "source": [
    "θ0 = θc.subs({sp.Symbol('r'): ri}) # in the last problem r was a parameter; now it means only the initial position.\n",
    "θ0"
   ]
  },
  {
   "cell_type": "markdown",
   "metadata": {},
   "source": [
    "But now that angle is changing with time with an angular velocity of $\\omega$:"
   ]
  },
  {
   "cell_type": "code",
   "execution_count": null,
   "metadata": {},
   "outputs": [],
   "source": [
    "Fnet = Fnet.subs( {θ: θ0 + ω*t} )\n",
    "Fnet"
   ]
  },
  {
   "cell_type": "markdown",
   "metadata": {},
   "source": [
    "Notice friction is increased because of the Coriolis force."
   ]
  },
  {
   "cell_type": "markdown",
   "metadata": {},
   "source": [
    "Solving Newton's equation of motion"
   ]
  },
  {
   "cell_type": "code",
   "execution_count": null,
   "metadata": {},
   "outputs": [],
   "source": [
    "ode = sp.Eq(Fnet,  m * r(t).diff(t, t) )\n",
    "ics = {r(t).subs(t, 0): ri,\n",
    "       r(t).diff(t).subs(t,0): 0}\n",
    "\n",
    "soln = sp.dsolve(ode, r(t), ics=ics)\n",
    "soln"
   ]
  },
  {
   "cell_type": "markdown",
   "metadata": {},
   "source": [
    "Yikes! Fill in the physical parameters with numerical values:"
   ]
  },
  {
   "cell_type": "code",
   "execution_count": null,
   "metadata": {},
   "outputs": [],
   "source": [
    "parameters = { g:9.81, ω:0.4, μ:0.09, ri: 0.3}\n",
    "r_soln = soln.subs(parameters)\n",
    "r_soln"
   ]
  },
  {
   "cell_type": "code",
   "execution_count": null,
   "metadata": {},
   "outputs": [],
   "source": [
    "sp.plot(r_soln.rhs, (t, 0, 1))"
   ]
  },
  {
   "cell_type": "code",
   "execution_count": null,
   "metadata": {},
   "outputs": [],
   "source": [
    "t_end = sp.nsolve(r_soln.rhs, t, 0)\n",
    "t_end.evalf(2)"
   ]
  },
  {
   "cell_type": "markdown",
   "metadata": {},
   "source": [
    "So the block slides down to the bottom in 0.77 s."
   ]
  },
  {
   "cell_type": "markdown",
   "metadata": {},
   "source": [
    "## 7. Collision on a track"
   ]
  },
  {
   "cell_type": "markdown",
   "metadata": {},
   "source": [
    "Two carts are on a collision course on a frictionless track.  The first cart of mass $m_1$=1.1 kg is moving to the right with $v_1$=0.23 m/s while the second cart of mass $m_2$=0.87 kg is moving to the left at $v_2$=1.3 m/s.  Assuming the collision is elastic, find the velocities of the carts after the collision."
   ]
  },
  {
   "cell_type": "markdown",
   "metadata": {},
   "source": [
    "***Solution***"
   ]
  },
  {
   "cell_type": "markdown",
   "metadata": {},
   "source": [
    "Conservation of momentum\n",
    "\n",
    "$$ m_1 v_1 + m_2  v_2 = m_1 v_{1f} + m_2 v_{2f} $$"
   ]
  },
  {
   "cell_type": "code",
   "execution_count": null,
   "metadata": {},
   "outputs": [],
   "source": [
    "m1, m2, v1i, v1f, v2i, v2f = sp.symbols('m_1, m_2, v_1i, v_1f, v_2i, v_2f')"
   ]
  },
  {
   "cell_type": "markdown",
   "metadata": {},
   "source": [
    "In Python the = means assignment and the == means equivalent; in SymPy to define a equation, we have to use the `Eq` function to denote equality of two expressions"
   ]
  },
  {
   "cell_type": "code",
   "execution_count": null,
   "metadata": {},
   "outputs": [],
   "source": [
    "eq_p = sp.Eq(m1 * v1i + m2 * v2i,  m1*v1f + m2*v2f)\n",
    "eq_p"
   ]
  },
  {
   "cell_type": "markdown",
   "metadata": {},
   "source": [
    "Conservation of energy"
   ]
  },
  {
   "cell_type": "code",
   "execution_count": null,
   "metadata": {},
   "outputs": [],
   "source": [
    "eq_e = sp.Eq( m1 * v1i**2/2 + m2 * v2i**2/ 2, m1 * v1f**2/2 + m2 * v2f**2/ 2 )\n",
    "eq_e"
   ]
  },
  {
   "cell_type": "code",
   "execution_count": null,
   "metadata": {},
   "outputs": [],
   "source": [
    "soln =  sp.solve( [eq_p, eq_e], [v1f, v2f], dict=True ) \n",
    "soln"
   ]
  },
  {
   "cell_type": "markdown",
   "metadata": {},
   "source": [
    "There are two solutions: the first the carts miss each other entirely. The second solution is the collision."
   ]
  },
  {
   "cell_type": "code",
   "execution_count": null,
   "metadata": {},
   "outputs": [],
   "source": [
    "parameters = { m1:1.1, m2:0.87, v1i:0.23, v2i: -1.3} \n",
    "v1f_soln = soln[1][v1f].subs(parameters)\n",
    "v2f_soln = soln[1][v2f].subs(parameters)"
   ]
  },
  {
   "cell_type": "code",
   "execution_count": null,
   "metadata": {},
   "outputs": [],
   "source": [
    "print(f'v_1f = {v1f_soln.evalf(2)}')"
   ]
  },
  {
   "cell_type": "markdown",
   "metadata": {},
   "source": [
    "The first cart ends up moving to the left at -1.1 m/s."
   ]
  },
  {
   "cell_type": "code",
   "execution_count": null,
   "metadata": {},
   "outputs": [],
   "source": [
    "print(f'v_2f = {v2f_soln.evalf(2)}')"
   ]
  },
  {
   "cell_type": "markdown",
   "metadata": {},
   "source": [
    "The second cart ends up moving to the right at 0.41 m/s."
   ]
  },
  {
   "cell_type": "markdown",
   "metadata": {},
   "source": [
    "## 8. Simulating the 1D collision"
   ]
  },
  {
   "cell_type": "markdown",
   "metadata": {},
   "source": [
    "Suppose the colliding carts in example 7  are equipped with magnets so arranged that the carts feel a repulsive force of magnitude $0.1/d^4$ in newtons, where $d$ is the distance between the carts in metres.  \n",
    "\n",
    "Let's say the carts start 5 m apart (initially $x_1$=0 and $x_2$=5 metres).  Everything else is as given in example 7.  Use `odeint` from SciPy  to solve Newton's equation and then plot $x_1(t)$, $x_2(t)$, $v_1(t)$ and $v_2(t)$.  Long after the collision, do the final velocities match those given by the answer to example 7?"
   ]
  },
  {
   "cell_type": "markdown",
   "metadata": {},
   "source": [
    "***Solution***"
   ]
  },
  {
   "cell_type": "code",
   "execution_count": null,
   "metadata": {},
   "outputs": [],
   "source": [
    "m1, m2, t, v1i, x1i, v2i, x2i = sp.symbols('m1, m2, t, v1i, x1i, v2i, x2i')\n",
    "x1, x2 = sp.symbols('x1, x2', cls=sp.Function)"
   ]
  },
  {
   "cell_type": "markdown",
   "metadata": {},
   "source": [
    "Force on cart1 depends on x1 and x2, and it always points to the left (negative)"
   ]
  },
  {
   "cell_type": "code",
   "execution_count": null,
   "metadata": {},
   "outputs": [],
   "source": [
    "F1 = - 0.1 / (x1(t) - x2(t) )**4\n",
    "F1"
   ]
  },
  {
   "cell_type": "markdown",
   "metadata": {},
   "source": [
    "Equation of motion for cart 1"
   ]
  },
  {
   "cell_type": "code",
   "execution_count": null,
   "metadata": {},
   "outputs": [],
   "source": [
    "eq1 = sp.Eq(m1 * x1(t).diff(t, t), F1)\n",
    "eq1"
   ]
  },
  {
   "cell_type": "markdown",
   "metadata": {},
   "source": [
    "Information for cart1"
   ]
  },
  {
   "cell_type": "code",
   "execution_count": null,
   "metadata": {},
   "outputs": [],
   "source": [
    "cart1 = { m1:1.1, v1i:0.23, x1i:0}"
   ]
  },
  {
   "cell_type": "markdown",
   "metadata": {},
   "source": [
    "Equation of motion for cart2"
   ]
  },
  {
   "cell_type": "markdown",
   "metadata": {},
   "source": [
    "Force on cart2 depends on x1 and x2, and it always points to the right (positive).  It's also equal and opposite the force on cart1."
   ]
  },
  {
   "cell_type": "code",
   "execution_count": null,
   "metadata": {},
   "outputs": [],
   "source": [
    "F2 = -F1"
   ]
  },
  {
   "cell_type": "code",
   "execution_count": null,
   "metadata": {},
   "outputs": [],
   "source": [
    "eq2 = sp.Eq( m2 * x2(t).diff(t, t), F2)\n",
    "eq2"
   ]
  },
  {
   "cell_type": "markdown",
   "metadata": {},
   "source": [
    "Information for cart2"
   ]
  },
  {
   "cell_type": "code",
   "execution_count": null,
   "metadata": {},
   "outputs": [],
   "source": [
    "cart2 = { m2:0.87, v2i:-1.3, x2i:5}"
   ]
  },
  {
   "cell_type": "markdown",
   "metadata": {},
   "source": [
    "Solving Newton's equation"
   ]
  },
  {
   "cell_type": "code",
   "execution_count": null,
   "metadata": {},
   "outputs": [],
   "source": [
    "sp.dsolve( [eq1, eq2] ) "
   ]
  },
  {
   "cell_type": "markdown",
   "metadata": {},
   "source": [
    "Looks like SymPy can't do this analytically.  Let's try a numerical solver. In this example, we choose a solver from the SciPy package called `odeint`."
   ]
  },
  {
   "cell_type": "code",
   "execution_count": null,
   "metadata": {},
   "outputs": [],
   "source": [
    "# define initial values\n",
    "m1 = 1.1;  v1i = 0.23; x1i = 0\n",
    "m2 = 0.87; v2i = -1.3; x2i = 5\n",
    "\n",
    "# initial state vector\n",
    "s0 = [x1i, v1i, x2i, v2i]\n",
    "\n",
    "def RHS(s, t):\n",
    "    x1, v1, x2, v2 = s\n",
    "    return [v1,\n",
    "            -0.1 / (x1 - x2)**4 / m1,\n",
    "            v2,\n",
    "            +0.1 / (x1 - x2)**4 / m2]\n",
    "\n",
    "tf = 10\n",
    "t = np.arange(0, tf, 0.1)\n",
    "\n",
    "from scipy.integrate import odeint\n",
    "soln = odeint(RHS, s0, t)\n",
    "x1, v1, x2, v2 = soln.T"
   ]
  },
  {
   "cell_type": "code",
   "execution_count": null,
   "metadata": {},
   "outputs": [],
   "source": [
    "plt.plot(t, x1)\n",
    "plt.plot(t, x2)"
   ]
  },
  {
   "cell_type": "markdown",
   "metadata": {},
   "source": [
    "Looks like they \"collide\" at around 3 s.  Let's plot the velocities."
   ]
  },
  {
   "cell_type": "code",
   "execution_count": null,
   "metadata": {},
   "outputs": [],
   "source": [
    "plt.plot(t, v1)\n",
    "plt.plot(t, v2)"
   ]
  },
  {
   "cell_type": "markdown",
   "metadata": {},
   "source": [
    "What are the \"final\" velocities?"
   ]
  },
  {
   "cell_type": "code",
   "execution_count": null,
   "metadata": {},
   "outputs": [],
   "source": [
    "print(v1[-1], v2[-1])"
   ]
  },
  {
   "cell_type": "markdown",
   "metadata": {},
   "source": [
    "These compare well with -1.1 and 0.41 found in the previous problem."
   ]
  },
  {
   "cell_type": "code",
   "execution_count": null,
   "metadata": {},
   "outputs": [],
   "source": [
    "rel_err1 = abs( (v1[-1] - v1f_soln)/ v1f_soln) * 100\n",
    "    \n",
    "rel_err2 = abs( (v2[-1] - v2f_soln) / v2f_soln) * 100\n",
    "\n",
    "print (rel_err1, rel_err2)"
   ]
  },
  {
   "cell_type": "markdown",
   "metadata": {},
   "source": [
    "with only small percentage differences."
   ]
  },
  {
   "cell_type": "markdown",
   "metadata": {},
   "source": [
    "## 8. Collision in 2D"
   ]
  },
  {
   "cell_type": "markdown",
   "metadata": {},
   "source": [
    "A block of ice of mass 4.5 kg rests on an ice rink.  Consider the ice rink as the xy-plane with the block at the origin.  A physicist slides another block of ice of mass 8.2 kg with a velocity of 0.3 m/s in the $x$ direction.  After colliding elastically and losing no energy to friction, the y component of the velocity of the physicist's block is 0.05 m/s.  The physicist also notes that the $x$ component of his block doesn't change all that much.  What is the resulting velocity of the smaller block of ice?"
   ]
  },
  {
   "cell_type": "markdown",
   "metadata": {},
   "source": [
    "#### Solution"
   ]
  },
  {
   "cell_type": "code",
   "execution_count": null,
   "metadata": {},
   "outputs": [],
   "source": [
    "m1, m2, v1xi, v2xi, v1yi, v2yi, v1xf, v2xf, v1yf, v2yf = sp.symbols('m_1, m_2,'\n",
    "                                                                 'v_1xi, v_2xi, v_1yi, v_2yi,'\n",
    "                                                                 'v_1xf, v_2xf, v_1yf, v_2yf,')\n",
    "# there are also more compact ways of declaring many variables at once if need. See the documentation for SymPy."
   ]
  },
  {
   "cell_type": "markdown",
   "metadata": {},
   "source": [
    "Conservation of momentum"
   ]
  },
  {
   "cell_type": "code",
   "execution_count": null,
   "metadata": {},
   "outputs": [],
   "source": [
    "eqpx = sp.Eq(m1*v1xi + m2*v2xi, m1*v1xf + m2*v2xf)\n",
    "\n",
    "eqpy = sp.Eq(m1*v1yi + m2*v2yi, m1*v1yf + m2*v2yf)"
   ]
  },
  {
   "cell_type": "code",
   "execution_count": null,
   "metadata": {},
   "outputs": [],
   "source": [
    "eqpx"
   ]
  },
  {
   "cell_type": "code",
   "execution_count": null,
   "metadata": {},
   "outputs": [],
   "source": [
    "eqpy"
   ]
  },
  {
   "cell_type": "markdown",
   "metadata": {},
   "source": [
    "Conservation of energy"
   ]
  },
  {
   "cell_type": "code",
   "execution_count": null,
   "metadata": {},
   "outputs": [],
   "source": [
    "eqe = sp.Eq( m1*(v1xi**2+v1yi**2)/2 + m2*(v2xi**2+v2yi**2)/2, \n",
    "             m1*(v1xf**2+v1yf**2)/2 + m2*(v2xf**2+v2yf**2)/2 )\n",
    "\n",
    "eqe"
   ]
  },
  {
   "cell_type": "markdown",
   "metadata": {},
   "source": [
    "Let's label with \"1\" quantities associated with the smaller, originally stationary block.\n",
    "Let's label with \"2\" quantities associated with the larger, originally moving block (the physicist's block)."
   ]
  },
  {
   "cell_type": "code",
   "execution_count": null,
   "metadata": {},
   "outputs": [],
   "source": [
    "block1 = { m1:4.5, v1xi:0, v1yi:0 }"
   ]
  },
  {
   "cell_type": "code",
   "execution_count": null,
   "metadata": {},
   "outputs": [],
   "source": [
    "block2 = { m2:8.2, v2xi:0.3, v2yi:0, v2yf:0.05 }"
   ]
  },
  {
   "cell_type": "code",
   "execution_count": null,
   "metadata": {},
   "outputs": [],
   "source": [
    "soln = sp.solve( [eqpx,eqpy,eqe], [v1xf,v1yf,v2xf], dict=True )\n",
    "soln"
   ]
  },
  {
   "cell_type": "code",
   "execution_count": null,
   "metadata": {},
   "outputs": [],
   "source": [
    "len(soln)"
   ]
  },
  {
   "cell_type": "code",
   "execution_count": null,
   "metadata": {},
   "outputs": [],
   "source": [
    "soln[0][v2xf].subs(block1).subs(block2), block2"
   ]
  },
  {
   "cell_type": "code",
   "execution_count": null,
   "metadata": {},
   "outputs": [],
   "source": [
    "soln[1][v2xf].subs(block1).subs(block2), block2"
   ]
  },
  {
   "cell_type": "markdown",
   "metadata": {},
   "source": [
    "The first solution is the one we want as v2xf ~ v2xi. (The problem stated *The physicist also notes that the 𝑥 component of his block doesn't change all that much.*)"
   ]
  },
  {
   "cell_type": "code",
   "execution_count": null,
   "metadata": {},
   "outputs": [],
   "source": [
    "soln[0][v1xf].subs(block1).subs(block2).evalf(2)"
   ]
  },
  {
   "cell_type": "code",
   "execution_count": null,
   "metadata": {},
   "outputs": [],
   "source": [
    "soln[0][v1yf].subs(block1).subs(block2).evalf(2)"
   ]
  },
  {
   "cell_type": "markdown",
   "metadata": {},
   "source": [
    "Therefore, the velocity of the originally stationary block is 0.023 m/s in the x direction and 0.091 in the negative y direction."
   ]
  },
  {
   "cell_type": "markdown",
   "metadata": {},
   "source": [
    "## 10. Falling rope"
   ]
  },
  {
   "cell_type": "markdown",
   "metadata": {},
   "source": [
    "A long coiled rope rests at the edge of a platform.  One free end is gently placed 10 cm below the edge of the platform and released.  The rope begins to fall, unwinding as it goes over the edge.  The rope has uniform mass per unit length of $r= 2$ kg/m, and $g$ = 9.8 m/s$^2$.  If the height of the platform is $H=4$ m, find how long it takes for the end of the rope to reach the ground.  Ignore friction."
   ]
  },
  {
   "cell_type": "markdown",
   "metadata": {},
   "source": [
    "***Solution***"
   ]
  },
  {
   "cell_type": "markdown",
   "metadata": {},
   "source": [
    "Here we must use the more general form of Newton's 2nd Law\n",
    "\n",
    "$$ F = \\frac {dp} {dt} = m(t)  y''(t) + m'(t) y'(t) $$"
   ]
  },
  {
   "cell_type": "code",
   "execution_count": null,
   "metadata": {},
   "outputs": [],
   "source": [
    "t, r, g, H = sp.symbols('t, r, g, H')\n",
    "m, y, v = sp.symbols('m, y, v', cls=sp.Function)"
   ]
  },
  {
   "cell_type": "code",
   "execution_count": null,
   "metadata": {},
   "outputs": [],
   "source": [
    "dpdt = m(t) * y(t).diff(t, t) + m(t).diff(t) * y(t).diff(t)\n",
    "dpdt"
   ]
  },
  {
   "cell_type": "markdown",
   "metadata": {},
   "source": [
    "Newton's 2nd Law"
   ]
  },
  {
   "cell_type": "code",
   "execution_count": null,
   "metadata": {},
   "outputs": [],
   "source": [
    "eqN = sp.Eq(dpdt, -m(t)*g)\n",
    "eqN"
   ]
  },
  {
   "cell_type": "markdown",
   "metadata": {},
   "source": [
    "If the rope's end is at $y=y(t)$, then the length of rope dangling over the edge is $H-y(t)$, and the mass of the rope is"
   ]
  },
  {
   "cell_type": "code",
   "execution_count": null,
   "metadata": {},
   "outputs": [],
   "source": [
    "eq = eqN.subs( m(t), r*(H - y(t)))\n",
    "eq"
   ]
  },
  {
   "cell_type": "markdown",
   "metadata": {},
   "source": [
    "SymPy has done the substitution but not evaluated the derivatives."
   ]
  },
  {
   "cell_type": "code",
   "execution_count": null,
   "metadata": {},
   "outputs": [],
   "source": [
    "eq2 = eq.doit()\n",
    "eq2"
   ]
  },
  {
   "cell_type": "markdown",
   "metadata": {},
   "source": [
    "Let’s try to see if SymPy can find a general solution to the problem"
   ]
  },
  {
   "cell_type": "code",
   "execution_count": null,
   "metadata": {},
   "outputs": [],
   "source": [
    "sp.dsolve(eq2, y(t))"
   ]
  },
  {
   "cell_type": "markdown",
   "metadata": {},
   "source": [
    "Again, SymPy does not know now to solve this symbolically. But it can help us set up the problem to solve numerically."
   ]
  },
  {
   "cell_type": "code",
   "execution_count": null,
   "metadata": {},
   "outputs": [],
   "source": [
    "# replace derivative of y(t) with v(t)\n",
    "eq3 = eq2.subs( y(t).diff(t), v(t))\n",
    "sp.expand(eq3)"
   ]
  },
  {
   "cell_type": "code",
   "execution_count": null,
   "metadata": {},
   "outputs": [],
   "source": [
    "soln = sp.solve(eq3, v(t).diff(t) )\n",
    "soln"
   ]
  },
  {
   "cell_type": "markdown",
   "metadata": {},
   "source": [
    "We have worked out the derivative of $v(t)$. Let's turn that into a function"
   ]
  },
  {
   "cell_type": "code",
   "execution_count": null,
   "metadata": {},
   "outputs": [],
   "source": [
    "F = sp.lambdify([y(t), v(t), H, g], soln[0])"
   ]
  },
  {
   "cell_type": "markdown",
   "metadata": {},
   "source": [
    "This function, `F(y, v; H, g)`, evaluates the first derivative of $v(t)$. Knowing only the values of $y, v, H,$ and $g$ (but not $t$), we can now compute $dv/dt$."
   ]
  },
  {
   "cell_type": "code",
   "execution_count": null,
   "metadata": {},
   "outputs": [],
   "source": [
    "F(1, 0, 4, 9.81)"
   ]
  },
  {
   "cell_type": "markdown",
   "metadata": {},
   "source": [
    "We can now write the system of equations\n",
    "\n",
    "$$\\begin{align}\n",
    "\\frac{dy}{dt} &= v \\\\\n",
    "\\frac{dv}{dt} &= F(y, v; H, g)\n",
    "\\end{align}$$"
   ]
  },
  {
   "cell_type": "markdown",
   "metadata": {},
   "source": [
    "We can numerically solve this system of first order differential equations:"
   ]
  },
  {
   "cell_type": "code",
   "execution_count": null,
   "metadata": {},
   "outputs": [],
   "source": [
    "# define initial values\n",
    "r = 2\n",
    "H = 4 # m\n",
    "g = 9.8\n",
    "yi = H - 0.1 # m\n",
    "vi = 0.0 # m/s\n",
    "\n",
    "# Solve the system of ODEs\n",
    "s0 = [yi, vi]\n",
    "\n",
    "def RHS(s, t):\n",
    "    y, v = s\n",
    "    return [v,\n",
    "            F(y, v, H, g)]\n",
    "\n",
    "tf = 2\n",
    "t = np.arange(0, tf, 0.1)\n",
    "\n",
    "soln = odeint(RHS, s0, t)\n",
    "y, v = soln.T"
   ]
  },
  {
   "cell_type": "code",
   "execution_count": null,
   "metadata": {},
   "outputs": [],
   "source": [
    "plt.plot(t, y, label='rope')\n",
    "plt.plot(t, yi - 0.5*g*t**2, label='freefall')\n",
    "plt.xlabel('t (s)')\n",
    "plt.ylabel('y (m)')\n",
    "plt.ylim(ymin = 0)\n",
    "plt.legend()"
   ]
  },
  {
   "cell_type": "markdown",
   "metadata": {},
   "source": [
    "Also plotted in the graph is the height of an object falling freely initially alongside the rope end.  The rope falls more slowly."
   ]
  }
 ],
 "metadata": {
  "anaconda-cloud": {},
  "kernelspec": {
   "display_name": "Python 3",
   "language": "python",
   "name": "python3"
  },
  "language_info": {
   "codemirror_mode": {
    "name": "ipython",
    "version": 3
   },
   "file_extension": ".py",
   "mimetype": "text/x-python",
   "name": "python",
   "nbconvert_exporter": "python",
   "pygments_lexer": "ipython3",
   "version": "3.6.7"
  }
 },
 "nbformat": 4,
 "nbformat_minor": 2
}
