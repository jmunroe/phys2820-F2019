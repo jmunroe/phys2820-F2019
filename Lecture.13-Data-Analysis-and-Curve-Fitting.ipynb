{
 "cells": [
  {
   "cell_type": "markdown",
   "metadata": {},
   "source": [
    "# Data Analysis and Curve Fitting\n",
    "## Lecture 13"
   ]
  },
  {
   "cell_type": "code",
   "execution_count": null,
   "metadata": {},
   "outputs": [],
   "source": [
    "%matplotlib inline\n",
    "import matplotlib.pyplot as plt\n",
    "import numpy as np\n",
    "import pandas as pd\n",
    "from scipy import optimize"
   ]
  },
  {
   "cell_type": "markdown",
   "metadata": {},
   "source": [
    "# Best fits with polynomials"
   ]
  },
  {
   "cell_type": "markdown",
   "metadata": {},
   "source": [
    "### Example 1"
   ]
  },
  {
   "cell_type": "markdown",
   "metadata": {},
   "source": [
    "Suppose an experiment measuring the height $y$ and time $t$ of a ball being thrown upwards is performed and the following data is generated:"
   ]
  },
  {
   "cell_type": "code",
   "execution_count": null,
   "metadata": {},
   "outputs": [],
   "source": [
    "df = pd.DataFrame([[0,1.302], [0.03333,1.411],[0.06667,1.5],[0.1,1.578],\n",
    "                    [0.1333,1.646],[0.1667,1.703],[0.2,1.745],[0.2333,1.781],\n",
    "                    [0.2667,1.807],[0.3,1.828],[0.3333,1.818],[0.3667,1.818],\n",
    "                    [0.4,1.807],[0.4333,1.776],[0.4667,1.734],[0.5,1.682],\n",
    "                    [0.5333,1.63],[0.567,1.552],[0.6,1.469],[0.6333,1.37],\n",
    "                    [0.667,1.266],[0.7,1.151],[0.733,1.026],[0.7667,0.875],\n",
    "                    [0.8,0.719],[0.8333,0.557],[0.867,0.385],[0.9,0.193],\n",
    "                    [0.9333,0.005]], columns=['t', 'y'])"
   ]
  },
  {
   "cell_type": "markdown",
   "metadata": {},
   "source": [
    "This data is stored as a Pandas DataFrame, `df`."
   ]
  },
  {
   "cell_type": "code",
   "execution_count": null,
   "metadata": {},
   "outputs": [],
   "source": [
    "df"
   ]
  },
  {
   "cell_type": "markdown",
   "metadata": {},
   "source": [
    "We can plot the data"
   ]
  },
  {
   "cell_type": "code",
   "execution_count": null,
   "metadata": {
    "scrolled": false
   },
   "outputs": [],
   "source": [
    "plt.plot (df.t, df.y, '.')\n",
    "plt.xlabel('Time (s)')\n",
    "plt.ylabel('Position (m)')\n",
    "plt.title('Ball thrown upward')\n",
    "plt.show()"
   ]
  },
  {
   "cell_type": "markdown",
   "metadata": {},
   "source": [
    "In experimental Physics curve fitting is an important statistical tool for analyzing data and quantifying correlations between variables. \n",
    "The command `np.polyfit` finds the parameters of a polynomial by doing a best fit, in the least squares sense, of the function on a set of data. \n",
    "\n",
    "For example, we can fit a quadratic to the ball data like this:"
   ]
  },
  {
   "cell_type": "code",
   "execution_count": null,
   "metadata": {},
   "outputs": [],
   "source": [
    "np.polyfit(df.t, df.y, 2)"
   ]
  },
  {
   "cell_type": "markdown",
   "metadata": {},
   "source": [
    "The third argument is the degree of the polynomial fit; for a quadratic the degree is 2.  Notice the funciton `np.polyfit` returns an array of three numbers\n",
    "\n",
    "This are the coefficients of a polynomial\n",
    "\n",
    "$$P(t) = a t^2 + b t + c$$ "
   ]
  },
  {
   "cell_type": "markdown",
   "metadata": {},
   "source": [
    "We could write:"
   ]
  },
  {
   "cell_type": "code",
   "execution_count": null,
   "metadata": {},
   "outputs": [],
   "source": [
    "a, b, c = np.polyfit(df.t, df.y, 2)"
   ]
  },
  {
   "cell_type": "markdown",
   "metadata": {},
   "source": [
    "Then"
   ]
  },
  {
   "cell_type": "code",
   "execution_count": null,
   "metadata": {},
   "outputs": [],
   "source": [
    "y_fit = a*df.t**2 + b*df.t + c"
   ]
  },
  {
   "cell_type": "markdown",
   "metadata": {},
   "source": [
    "and finally compare the best fit curve to the original data"
   ]
  },
  {
   "cell_type": "code",
   "execution_count": null,
   "metadata": {},
   "outputs": [],
   "source": [
    "plt.plot(df.t, df.y, '.')\n",
    "plt.plot(df.t, y_fit, '-') \n",
    "plt.xlabel('Time (s)')\n",
    "plt.ylabel('Position (m)')\n",
    "plt.title('Ball thrown upward')\n",
    "plt.show()"
   ]
  },
  {
   "cell_type": "markdown",
   "metadata": {},
   "source": [
    "Since it is very common operation to evaluate a polynomial, there is function called `np.polyval` "
   ]
  },
  {
   "cell_type": "code",
   "execution_count": null,
   "metadata": {},
   "outputs": [],
   "source": [
    "p = np.polyfit(df.t, df.y, 2)\n",
    "y_fit = np.polyval(p, df.t)"
   ]
  },
  {
   "cell_type": "markdown",
   "metadata": {},
   "source": [
    "which gives exactly the same thing"
   ]
  },
  {
   "cell_type": "code",
   "execution_count": null,
   "metadata": {
    "scrolled": false
   },
   "outputs": [],
   "source": [
    "plt.plot(df.t, df.y, '.')\n",
    "plt.plot(df.t, y_fit, '-') \n",
    "plt.xlabel('Time (s)')\n",
    "plt.ylabel('Position (m)')\n",
    "plt.title('Ball thrown upward')\n",
    "plt.show()"
   ]
  },
  {
   "cell_type": "markdown",
   "metadata": {},
   "source": [
    "### Example 2"
   ]
  },
  {
   "cell_type": "markdown",
   "metadata": {},
   "source": [
    "Here's another example with a linear fit and a set of artificial data"
   ]
  },
  {
   "cell_type": "code",
   "execution_count": null,
   "metadata": {},
   "outputs": [],
   "source": [
    "x = np.arange(0, 5, 0.5)\n",
    "\n",
    "# make y a straight line\n",
    "m = 2\n",
    "b = 3\n",
    "y = m*x + b\n",
    "\n",
    "# add some artificial noise\n",
    "noise = np.random.normal(0, 1.5, size=len(x))\n",
    "y = y + noise\n",
    "\n",
    "df = pd.DataFrame( {'x': x, 'y': y})"
   ]
  },
  {
   "cell_type": "code",
   "execution_count": null,
   "metadata": {},
   "outputs": [],
   "source": [
    "df"
   ]
  },
  {
   "cell_type": "markdown",
   "metadata": {},
   "source": [
    "Fit the data to one degree polynomial -- a straight line."
   ]
  },
  {
   "cell_type": "code",
   "execution_count": null,
   "metadata": {},
   "outputs": [],
   "source": [
    "p = np.polyfit(df.x, df.y, 1)\n",
    "y_fit = np.polyval(p, df.x)"
   ]
  },
  {
   "cell_type": "markdown",
   "metadata": {},
   "source": [
    "Plot the data and best fit line together in the same plot."
   ]
  },
  {
   "cell_type": "code",
   "execution_count": null,
   "metadata": {},
   "outputs": [],
   "source": [
    "plt.plot(df.x, df.y, 'o')\n",
    "plt.plot(df.x, y_fit, '-') \n",
    "plt.xlabel('x')\n",
    "plt.ylabel('y')\n",
    "plt.show()"
   ]
  },
  {
   "cell_type": "code",
   "execution_count": null,
   "metadata": {},
   "outputs": [],
   "source": [
    "p"
   ]
  },
  {
   "cell_type": "markdown",
   "metadata": {},
   "source": [
    "## Least-squares fit\n",
    "\n",
    "Discussion..."
   ]
  },
  {
   "cell_type": "markdown",
   "metadata": {},
   "source": [
    "## Nonlinear Curve Fitting\n",
    "\n",
    "In the section above, fit parameters to a polynomial.  Under the hood, this is typically done by solving a linear system of equations to find our parameters.  Let's bring up our small data consider our best fit again."
   ]
  },
  {
   "cell_type": "code",
   "execution_count": null,
   "metadata": {},
   "outputs": [],
   "source": [
    "np.polyfit(df.x, df.y, 1)"
   ]
  },
  {
   "cell_type": "markdown",
   "metadata": {},
   "source": [
    "We can also fit our data to function that are not necessarily polynomials.  The `curve_fit` from the `scipy.optimize` subpackage is useful here."
   ]
  },
  {
   "cell_type": "code",
   "execution_count": null,
   "metadata": {},
   "outputs": [],
   "source": [
    "from scipy import optimize"
   ]
  },
  {
   "cell_type": "markdown",
   "metadata": {},
   "source": [
    "To use `curve_fit` we need to first define a function for the model we want to fit."
   ]
  },
  {
   "cell_type": "markdown",
   "metadata": {},
   "source": [
    "To understand what this function does, let's use it to fit a function that just happens to be a linear function and show that we get the same coefficients as `np.polyfit` gave us."
   ]
  },
  {
   "cell_type": "code",
   "execution_count": null,
   "metadata": {},
   "outputs": [],
   "source": [
    "def line_func(x, m, b):\n",
    "    return m*x + b\n",
    "\n",
    "popt, pcov = optimize.curve_fit(line_func, df.x, df.y)"
   ]
  },
  {
   "cell_type": "markdown",
   "metadata": {},
   "source": [
    "What is being returns is the parameters, followed by the covariance matrix. "
   ]
  },
  {
   "cell_type": "code",
   "execution_count": null,
   "metadata": {},
   "outputs": [],
   "source": [
    "popt"
   ]
  },
  {
   "cell_type": "markdown",
   "metadata": {},
   "source": [
    "This covariance matrix can be used to estimate confidence intervals for the parameters. From the documentation for `curve_fit()`:\n",
    "\n",
    "*To compute one standard deviation errors\n",
    "    on the parameters use* ``perr = np.sqrt(np.diag(pcov))``.\n"
   ]
  },
  {
   "cell_type": "code",
   "execution_count": null,
   "metadata": {},
   "outputs": [],
   "source": [
    "print(pcov)"
   ]
  },
  {
   "cell_type": "code",
   "execution_count": null,
   "metadata": {},
   "outputs": [],
   "source": [
    "perr = np.sqrt(np.diag(pcov))"
   ]
  },
  {
   "cell_type": "code",
   "execution_count": null,
   "metadata": {},
   "outputs": [],
   "source": [
    "perr"
   ]
  },
  {
   "cell_type": "markdown",
   "metadata": {},
   "source": [
    "This is telling us what the estimate of the slope and intercept are to within one standard deviation."
   ]
  },
  {
   "cell_type": "code",
   "execution_count": null,
   "metadata": {},
   "outputs": [],
   "source": [
    "print(f\"m = {popt[0]:.2f} ± {perr[0]:.2f}\")\n",
    "print(f\"b = {popt[1]:.2f} ± {perr[1]:.2f}\")"
   ]
  },
  {
   "cell_type": "markdown",
   "metadata": {},
   "source": [
    "But the linear fit is exactly the same"
   ]
  },
  {
   "cell_type": "code",
   "execution_count": null,
   "metadata": {},
   "outputs": [],
   "source": [
    "x_fit = np.linspace(min(df.x), max(df.x), 100)\n",
    "y_fit = line_func(x_fit, *popt)\n",
    "\n",
    "plt.plot(df.x, df.y, 'o')\n",
    "plt.plot(x_fit, y_fit, '-') \n",
    "\n",
    "plt.xlabel('x')\n",
    "plt.ylabel('y')\n",
    "plt.show()"
   ]
  },
  {
   "cell_type": "markdown",
   "metadata": {},
   "source": [
    "which is, not suprisingly, what we had seen before.  \n",
    "\n"
   ]
  },
  {
   "cell_type": "markdown",
   "metadata": {},
   "source": [
    "### A non-linear function"
   ]
  },
  {
   "cell_type": "markdown",
   "metadata": {},
   "source": [
    "Consider now the following artificial data set:"
   ]
  },
  {
   "cell_type": "code",
   "execution_count": null,
   "metadata": {},
   "outputs": [],
   "source": [
    "x = np.arange(0, 8, 0.1)\n",
    "\n",
    "A = 3\n",
    "μ = 1\n",
    "σ = 1.5\n",
    "y = A*np.exp(-(x-μ)**2/(2*σ**2))\n",
    "\n",
    "# add some artificial noise\n",
    "noise = np.random.normal(0, 0.1, size=len(x))\n",
    "y = y + noise\n",
    "\n",
    "df = pd.DataFrame( {'x': x, 'y': y})"
   ]
  },
  {
   "cell_type": "markdown",
   "metadata": {},
   "source": [
    "This data is a little more interesting."
   ]
  },
  {
   "cell_type": "code",
   "execution_count": null,
   "metadata": {},
   "outputs": [],
   "source": [
    "plt.plot(df.x, df.y, 'o')\n",
    "plt.xlabel('x')\n",
    "plt.ylabel('y')\n",
    "plt.show()"
   ]
  },
  {
   "cell_type": "markdown",
   "metadata": {},
   "source": [
    "We can try a linear, quadratic, or cubic fit"
   ]
  },
  {
   "cell_type": "code",
   "execution_count": null,
   "metadata": {},
   "outputs": [],
   "source": [
    "plt.plot(df.x, df.y, 'o')\n",
    "\n",
    "for n in range(1,4):\n",
    "    p = np.polyfit(df.x, df.y, n)\n",
    "    y_fit = np.polyval(p, x)\n",
    "    plt.plot(df.x, y_fit, \n",
    "             label=f\"n={n}\")\n",
    "\n",
    "plt.xlabel('x')\n",
    "plt.ylabel('y')\n",
    "plt.legend()\n",
    "plt.show()"
   ]
  },
  {
   "cell_type": "markdown",
   "metadata": {},
   "source": [
    "But none of them look especially good.  That is because this data is not a polynomial! It is a Gaussian."
   ]
  },
  {
   "cell_type": "code",
   "execution_count": null,
   "metadata": {},
   "outputs": [],
   "source": [
    "def gaussian_func(x, a, μ, σ):\n",
    "    return a * np.exp(-(x-μ)**2 / (2*σ**2))"
   ]
  },
  {
   "cell_type": "code",
   "execution_count": null,
   "metadata": {},
   "outputs": [],
   "source": [
    "xs = np.arange(-2.5, 2.5, 0.1)\n",
    "ys = gaussian_func(xs, 1, 0, 1)\n",
    "plt.plot(xs, ys, color='orange')\n",
    "plt.show()"
   ]
  },
  {
   "cell_type": "markdown",
   "metadata": {},
   "source": [
    "Our goal is find the amplitude, $A$, the centre, $\\mu$, and the standard deviation, $\\sigma$ for our original data."
   ]
  },
  {
   "cell_type": "code",
   "execution_count": null,
   "metadata": {},
   "outputs": [],
   "source": [
    "plt.plot(df.x, df.y, 'o')\n",
    "plt.plot(xs, ys)\n",
    "\n",
    "plt.xlabel('x')\n",
    "plt.ylabel('y')\n",
    "\n",
    "plt.show()"
   ]
  },
  {
   "cell_type": "markdown",
   "metadata": {},
   "source": [
    "We can use `curve_fit` to find the parameters $A, \\mu,$ and $\\sigma$ for us."
   ]
  },
  {
   "cell_type": "code",
   "execution_count": null,
   "metadata": {},
   "outputs": [],
   "source": [
    "popt, pcov = optimize.curve_fit(gaussian_func, df.x, df.y)"
   ]
  },
  {
   "cell_type": "code",
   "execution_count": null,
   "metadata": {},
   "outputs": [],
   "source": [
    "popt"
   ]
  },
  {
   "cell_type": "code",
   "execution_count": null,
   "metadata": {},
   "outputs": [],
   "source": [
    "perr = np.sqrt(np.diag(pcov))\n",
    "perr"
   ]
  },
  {
   "cell_type": "markdown",
   "metadata": {},
   "source": [
    "So this is telling us that"
   ]
  },
  {
   "cell_type": "code",
   "execution_count": null,
   "metadata": {},
   "outputs": [],
   "source": [
    "print(f\"A = {popt[0]:.2f} ± {perr[0]:.2f}\")\n",
    "print(f\"μ = {popt[1]:.2f} ± {perr[1]:.2f}\")\n",
    "print(f\"σ = {popt[2]:.2f} ± {perr[2]:.2f}\")"
   ]
  },
  {
   "cell_type": "code",
   "execution_count": null,
   "metadata": {},
   "outputs": [],
   "source": [
    "x_fit = np.linspace(min(df.x), max(df.x), 100)\n",
    "y_fit = gaussian_func(x_fit, *popt)\n",
    "\n",
    "plt.plot(df.x, df.y, 'o')\n",
    "plt.plot(x_fit, y_fit, '-') \n",
    "\n",
    "plt.xlabel('x')\n",
    "plt.ylabel('y')\n",
    "plt.show()"
   ]
  },
  {
   "cell_type": "markdown",
   "metadata": {},
   "source": [
    "\n",
    "### Initial guesses"
   ]
  },
  {
   "cell_type": "markdown",
   "metadata": {},
   "source": [
    "Note that in calling `curve_fit`, you are able to provide initial guesses for the parameters.  In general it is difficult to find the best fit in the nonlinear case.  Rather, routines find the best fit near the initial guess.  Different initial guesses may yield different fit parameters.  We won't go any deeper into the methods of finding parameters for nonlinear fits.\n"
   ]
  },
  {
   "cell_type": "markdown",
   "metadata": {},
   "source": [
    "### Best fits vs interpolation"
   ]
  },
  {
   "cell_type": "markdown",
   "metadata": {},
   "source": [
    "The idea of a best fit of a curve is different than an interpolation of data.  For interpolation, we could use the `interpolate.interp1d` function from scipy.  For comparison,"
   ]
  },
  {
   "cell_type": "code",
   "execution_count": null,
   "metadata": {},
   "outputs": [],
   "source": [
    "from scipy import interpolate\n",
    "\n",
    "x = [1, 2, 4, 5, 6, 7, 8]\n",
    "y = [-1, 5, 14, 12, 19, 21, 25]\n",
    "fig, axs = plt.subplots(1,2, figsize=(12,6))\n",
    "x_fit = np.linspace(min(x), max(x), 100)\n",
    "\n",
    "# linear interpolation vs linear fit\n",
    "axs[0].plot(x, y, 'o') # plot the data\n",
    "\n",
    "p = np.polyfit(x, y, 1)\n",
    "y_fit = np.polyval(p, x_fit)\n",
    "axs[0].plot(x_fit, y_fit, label='best fit')\n",
    "\n",
    "interp = interpolate.interp1d(x, y, kind='linear')\n",
    "axs[0].plot(x_fit, interp(x_fit), label='interpolation') \n",
    "\n",
    "axs[0].set_xlabel('x')\n",
    "axs[0].set_ylabel('y')\n",
    "axs[0].set_title('Linear interpolation vs linear fit')\n",
    "axs[0].legend(loc='lower right')\n",
    "\n",
    "# cubic interpolation vs cubic fit  ########\n",
    "axs[1].plot(x, y, 'o') # plot the data\n",
    "\n",
    "p = np.polyfit(x, y, 3)\n",
    "y_fit = np.polyval(p, x_fit)\n",
    "axs[1].plot(x_fit, y_fit, label='best fit')\n",
    "\n",
    "interp = interpolate.interp1d(x, y, kind='cubic')\n",
    "axs[1].plot(x_fit, interp(x_fit), label='interpolation')\n",
    "axs[1].set_xlabel('x')\n",
    "axs[1].set_ylabel('y')\n",
    "axs[1].set_title('Cubic interpolation vs cubic fit')\n",
    "axs[1].legend(loc='lower right')\n",
    "\n",
    "plt.show()"
   ]
  },
  {
   "cell_type": "markdown",
   "metadata": {},
   "source": [
    "## Application of Fitting\n",
    "\n",
    "There is a data file that you should download along with this exercise called `falling_object.dat` that has two columns.  The first column contains time (s) and the second contains height (m).\n",
    "\n",
    "a) Load the data into a data frame and plot the height as a function of time."
   ]
  },
  {
   "cell_type": "code",
   "execution_count": null,
   "metadata": {
    "scrolled": true
   },
   "outputs": [],
   "source": [
    "df = pd.read_csv('data/falling_object.csv')"
   ]
  },
  {
   "cell_type": "code",
   "execution_count": null,
   "metadata": {},
   "outputs": [],
   "source": [
    "df.head()"
   ]
  },
  {
   "cell_type": "code",
   "execution_count": null,
   "metadata": {},
   "outputs": [],
   "source": [
    "plt.plot(df.t, df.y, '.')\n",
    "plt.xlabel('time (s)')\n",
    "plt.ylabel('height (m)')\n",
    "plt.title('Falling Object')\n",
    "plt.show()"
   ]
  },
  {
   "cell_type": "markdown",
   "metadata": {},
   "source": [
    "b) Using the centred difference scheme, calculate and plot the velocity (but do not interpolate) as a function of time.  You should see the velocity approach a terminal value."
   ]
  },
  {
   "cell_type": "markdown",
   "metadata": {},
   "source": [
    "#### Centered scheme\n",
    "$$\\frac{df}{dt}(t_0) \\approx \\frac{f(t_0+\\Delta t)-f(t_0-\\Delta t)}{2\\Delta t}= \\frac{y_{i+1} - y_{i-1}}{t_{i+1} - t_{i-1}}$$"
   ]
  },
  {
   "cell_type": "code",
   "execution_count": null,
   "metadata": {},
   "outputs": [],
   "source": [
    "df['v'] = np.nan\n",
    "\n",
    "for i in range(1, len(df) - 1):\n",
    "    df.v[i] = (df.y[i+1] - df.y[i-1]) / (df.t[i+1] - df.t[i-1])"
   ]
  },
  {
   "cell_type": "code",
   "execution_count": null,
   "metadata": {},
   "outputs": [],
   "source": [
    "plt.plot(df.t, df.v, '.')\n",
    "plt.xlabel('time (s)')\n",
    "plt.ylabel('velocity (m/s)')\n",
    "plt.title('Falling Object')\n",
    "plt.show()"
   ]
  },
  {
   "cell_type": "markdown",
   "metadata": {},
   "source": [
    "c) Calculate and plot the acceleration of the falling object directly from the height data by using the centred scheme for the second derivative.  You should see the acceleration approach zero.  The acceleration graph looks noisy. This is because the original measurements contain some uncertainty and random noise. This noise gets amplified by taking derivatives."
   ]
  },
  {
   "cell_type": "markdown",
   "metadata": {},
   "source": [
    "#### Centered scheme for 2nd order derivative\n",
    "$$\\frac{d^2 f}{dt^2}(t_0) \\approx \\frac{f(t_0+\\Delta t)-2f(t_0)+f(t_0-\\Delta t)}{(\\Delta t)^2}=\\frac{y_{i+1} - 2y_i + y_{i+1}}{(t_{i+1} - t_{i})^2} $$\n"
   ]
  },
  {
   "cell_type": "code",
   "execution_count": null,
   "metadata": {},
   "outputs": [],
   "source": [
    "df['a'] = np.nan\n",
    "\n",
    "for i in range(1, len(df) - 1):\n",
    "    df.a[i] = (df.y[i+1] - 2*df.y[i] + df.y[i-1]) / (df.t[i+1]-df.t[i])**2"
   ]
  },
  {
   "cell_type": "code",
   "execution_count": null,
   "metadata": {},
   "outputs": [],
   "source": [
    "plt.plot(df.t, df.a, '.')\n",
    "plt.xlabel('time (s)')\n",
    "plt.ylabel('acceleration (m/s$^2$)')\n",
    "plt.title('Falling Object')\n",
    "plt.show()"
   ]
  },
  {
   "cell_type": "markdown",
   "metadata": {},
   "source": [
    "d)  Let's assume that the object experiences a drag force of $F= - b v$.  We will attempt to find $b$.  As usual, we'll begin with Newton's 2nd illustrious Law\n",
    "\n",
    "\\begin{align}\n",
    "F&=ma \\\\\n",
    "ma &= -bv -mg\n",
    "\\end{align}\n",
    " \n",
    " Aha!\n",
    "\n",
    "If we plot the quantity $ma$ as a function of $-v$, the graph should be a straight line (with noise) with intercept $-mg$ and having slope equal to $b$."
   ]
  },
  {
   "cell_type": "markdown",
   "metadata": {},
   "source": [
    "Make a plot of $m a$ vs $-v$.\n",
    "\n",
    "(The mass of the object is 0.2 kg, while acceleration due to gravity is approximately 9.81 m/s/s.  These values should jive with our intercept value. )"
   ]
  },
  {
   "cell_type": "code",
   "execution_count": null,
   "metadata": {},
   "outputs": [],
   "source": [
    "m = 0.2 # kg\n",
    "g = 9.81 # m/s^2"
   ]
  },
  {
   "cell_type": "code",
   "execution_count": null,
   "metadata": {},
   "outputs": [],
   "source": [
    "plt.plot(-df.v, m*df.a, 'o')\n",
    "plt.xlabel('-v (m/s)')\n",
    "plt.ylabel('m a (kg m/s$^2$)')\n",
    "plt.title('Falling Object')\n",
    "plt.show()"
   ]
  },
  {
   "cell_type": "markdown",
   "metadata": {},
   "source": [
    "e) Make a linear fit for the data in part (d) using `np.polyfit` command"
   ]
  },
  {
   "cell_type": "markdown",
   "metadata": {},
   "source": [
    "When we try and use `polyfit` we encounter a problem..."
   ]
  },
  {
   "cell_type": "code",
   "execution_count": null,
   "metadata": {},
   "outputs": [],
   "source": [
    "p = np.polyfit(-df.v, m*df.a, 1)\n",
    "print(p)"
   ]
  },
  {
   "cell_type": "markdown",
   "metadata": {},
   "source": [
    "The issue is that those `NaN`'s are not valid numbers to complete a least-square regression."
   ]
  },
  {
   "cell_type": "code",
   "execution_count": null,
   "metadata": {},
   "outputs": [],
   "source": [
    "df.head()"
   ]
  },
  {
   "cell_type": "markdown",
   "metadata": {},
   "source": [
    "One solution would be to remove all of the non-numbers from the dataframe."
   ]
  },
  {
   "cell_type": "code",
   "execution_count": null,
   "metadata": {},
   "outputs": [],
   "source": [
    "df = df.dropna()\n",
    "df.head()"
   ]
  },
  {
   "cell_type": "code",
   "execution_count": null,
   "metadata": {},
   "outputs": [],
   "source": [
    "p = np.polyfit(-df.v, m*df.a, 1)\n",
    "\n",
    "print(f\"{p[0]:.3f}, {p[1]:.3f}\")"
   ]
  },
  {
   "cell_type": "markdown",
   "metadata": {},
   "source": [
    "Another option would be to use a forward and backward difference to estimate the velocity and accleration at the end points."
   ]
  },
  {
   "cell_type": "markdown",
   "metadata": {},
   "source": [
    "f) Show both the fit line and the discrete data in single graph."
   ]
  },
  {
   "cell_type": "code",
   "execution_count": null,
   "metadata": {},
   "outputs": [],
   "source": [
    "plt.plot(-df.v, m*df.a, 'o')\n",
    "plt.plot(-df.v, np.polyval(p, -df.v))\n",
    "\n",
    "plt.xlabel('-v (m/s)')\n",
    "plt.ylabel('m a (kg m/s$^2$)')\n",
    "plt.title('Falling Object')\n",
    "plt.show()"
   ]
  },
  {
   "cell_type": "markdown",
   "metadata": {},
   "source": [
    "g) Consider the parameters of the best fit"
   ]
  },
  {
   "cell_type": "code",
   "execution_count": null,
   "metadata": {},
   "outputs": [],
   "source": [
    "print(f\"{p[0]:.3f}, {p[1]:.3f}\")"
   ]
  },
  {
   "cell_type": "markdown",
   "metadata": {},
   "source": [
    "The slope of this line is $b$ (units of kg/s$^2$)"
   ]
  },
  {
   "cell_type": "code",
   "execution_count": null,
   "metadata": {},
   "outputs": [],
   "source": [
    "b = p[0]\n",
    "print(f\"{b:.3f}\")"
   ]
  },
  {
   "cell_type": "markdown",
   "metadata": {},
   "source": [
    "And the intercept is $-mg$ (units of kg m /s$^2$)"
   ]
  },
  {
   "cell_type": "code",
   "execution_count": null,
   "metadata": {},
   "outputs": [],
   "source": [
    "print (f\"{p[1]:.3f}\")"
   ]
  },
  {
   "cell_type": "markdown",
   "metadata": {},
   "source": [
    "Let's compare the intercept value with what we expect it to be ($-mg$).\n"
   ]
  },
  {
   "cell_type": "code",
   "execution_count": null,
   "metadata": {},
   "outputs": [],
   "source": [
    "print(f\"{-m*g:.3f}\")"
   ]
  },
  {
   "cell_type": "markdown",
   "metadata": {},
   "source": [
    "Golden!"
   ]
  },
  {
   "cell_type": "markdown",
   "metadata": {},
   "source": [
    " h) Newton's equation $m a = -b v - m g$ can be solved analytically for the height as a function of time.  "
   ]
  },
  {
   "cell_type": "code",
   "execution_count": null,
   "metadata": {},
   "outputs": [],
   "source": [
    "import sympy as sym\n",
    "sym.init_printing()\n",
    "\n",
    "b, g, m, t = sym.symbols('b g m t')\n",
    "y = sym.Function('y')\n",
    "expr = sym.Eq(m*y(t).diff(t,2), -b*y(t).diff(t) -m*g)\n",
    "expr"
   ]
  },
  {
   "cell_type": "code",
   "execution_count": null,
   "metadata": {},
   "outputs": [],
   "source": [
    "sym.dsolve(expr)"
   ]
  },
  {
   "cell_type": "markdown",
   "metadata": {},
   "source": [
    "j)  Use  `optimize.curve_fit` to find the values of $b, g, C_1,$ and $C_2$. We can use the given value for $m = 0.2$ kg."
   ]
  },
  {
   "cell_type": "code",
   "execution_count": null,
   "metadata": {},
   "outputs": [],
   "source": [
    "m = 0.2\n",
    "\n",
    "def model1(t, b, g, C1, C2):\n",
    "    return C1 + C2*np.exp(-b/m*t) - g*m/b*t\n",
    "\n",
    "popt1, pcov = optimize.curve_fit(model1, df.t, df.y)\n",
    "\n",
    "print([f'{p:.3f}' for p in popt1])"
   ]
  },
  {
   "cell_type": "markdown",
   "metadata": {},
   "source": [
    "The first parameter is the drag coefficient $b$ and the second is the acceleration due to gravity $g$. It is not immediately obvious how $C_1$ and $C_2$ relate with the initial height and initial velocity.\n"
   ]
  },
  {
   "cell_type": "markdown",
   "metadata": {},
   "source": [
    "To solve this analytically, we can also provide initial conditions."
   ]
  },
  {
   "cell_type": "code",
   "execution_count": null,
   "metadata": {},
   "outputs": [],
   "source": [
    "y0, v0 = sym.symbols('y0 v0')\n",
    "ics = { y(t).subs(t, 0): y0, \n",
    "        y(t).diff(t).subs(t, 0): v0} "
   ]
  },
  {
   "cell_type": "code",
   "execution_count": null,
   "metadata": {},
   "outputs": [],
   "source": [
    "sym.dsolve(expr, ics=ics )"
   ]
  },
  {
   "cell_type": "code",
   "execution_count": null,
   "metadata": {},
   "outputs": [],
   "source": [
    "def model2(t, b, g, y0, v0):\n",
    "    return y0 - g*m*t/b + m*v0/b + g*m**2/b**2 - m*(b*v0 + g*m)*np.exp(-b*t/m)/b**2\n",
    "\n",
    "popt2, pcov = optimize.curve_fit(model2, df.t, df.y)\n",
    "\n",
    "print([f'{p:.3f}' for p in popt2])"
   ]
  },
  {
   "cell_type": "markdown",
   "metadata": {},
   "source": [
    "This make the interpretation of the coefficients much clearer. In this problem, $ y_0 = 100$ m and $v_0 = 0.0$ m/s."
   ]
  },
  {
   "cell_type": "markdown",
   "metadata": {},
   "source": [
    "k)  Now plot the fitting function.  Plot this fitting function over the data.  Does it seem like our model ($F=-b v - m g$) describes the data?"
   ]
  },
  {
   "cell_type": "code",
   "execution_count": null,
   "metadata": {},
   "outputs": [],
   "source": [
    "fit_y1 = model1(df.t, *popt1)\n",
    "fit_y2 = model2(df.t, *popt2)\n",
    "    \n",
    "plt.plot(df.t, df.y, '.', label='Data')\n",
    "plt.plot(df.t, fit_y1, '-', label='Model1') \n",
    "plt.plot(df.t, fit_y2, '-', label='Model2') \n",
    "plt.xlabel('time (s)')\n",
    "plt.ylabel('height (m)')\n",
    "plt.title('Falling Object')\n",
    "plt.legend()\n",
    "\n",
    "plt.show()"
   ]
  },
  {
   "cell_type": "code",
   "execution_count": null,
   "metadata": {},
   "outputs": [],
   "source": [
    "fit_y1 = model1(df.t, *popt1)\n",
    "fit_y2 = model2(df.t, *popt2)\n",
    "    \n",
    "plt.plot(df.t, df.y, '.', label='Data')\n",
    "plt.plot(df.t, fit_y1, '-', label='Model1') \n",
    "plt.plot(df.t, fit_y2, '-', label='Model2') \n",
    "plt.xlabel('time (s)')\n",
    "plt.ylabel('height (m)')\n",
    "plt.title('Falling Object')\n",
    "plt.xlim(7, 8)\n",
    "plt.ylim(0, 20)\n",
    "plt.legend()\n",
    "\n",
    "plt.show()"
   ]
  },
  {
   "cell_type": "code",
   "execution_count": null,
   "metadata": {},
   "outputs": [],
   "source": []
  }
 ],
 "metadata": {
  "anaconda-cloud": {},
  "kernelspec": {
   "display_name": "Python 3",
   "language": "python",
   "name": "python3"
  },
  "language_info": {
   "codemirror_mode": {
    "name": "ipython",
    "version": 3
   },
   "file_extension": ".py",
   "mimetype": "text/x-python",
   "name": "python",
   "nbconvert_exporter": "python",
   "pygments_lexer": "ipython3",
   "version": "3.6.7"
  }
 },
 "nbformat": 4,
 "nbformat_minor": 2
}
