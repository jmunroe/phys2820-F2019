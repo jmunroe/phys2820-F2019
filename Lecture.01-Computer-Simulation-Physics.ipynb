{
 "cells": [
  {
   "cell_type": "markdown",
   "metadata": {
    "nbpresent": {
     "id": "6e650218-0025-416e-84ba-9fc1165161d0"
    },
    "slideshow": {
     "slide_type": "slide"
    }
   },
   "source": [
    "# Computer Simulation in Physics\n",
    "## Lecture 1"
   ]
  },
  {
   "cell_type": "markdown",
   "metadata": {
    "slideshow": {
     "slide_type": "slide"
    }
   },
   "source": [
    "## Alpha Decay\n",
    "\n",
    "![Alpha Decay](https://upload.wikimedia.org/wikipedia/commons/7/79/Alpha_Decay.svg)\n",
    " \n",
    "Alpha decay or $\\alpha$-decay is a type of radioactive decay in which an atomic nucleus emits an alpha particle (helium nucleus) and thereby transforms or 'decays' into an atom with a mass number that is reduced by four and an atomic number that is reduced by two. An alpha particle is identical to the nucleus of a helium-4 atom, which consists of two protons and two neutrons. "
   ]
  },
  {
   "cell_type": "markdown",
   "metadata": {
    "nbpresent": {
     "id": "5d0fe05f-dcd2-4a4a-8ed2-14e2842520c5"
    },
    "slideshow": {
     "slide_type": "subslide"
    }
   },
   "source": [
    "For example, uranium-238 decays to form thorium-234:\n",
    "\n",
    "$$\\mathrm{~^{238}_{92}U}\\rightarrow\\mathrm{~^{234}_{90}Th} + \\alpha $$\n",
    "\n",
    "or\n",
    "\n",
    "$$ \\mathrm{~^{238}_{92}U}\\rightarrow\\mathrm{~^{234}_{90}Th} + \\mathrm{~^{4}_{2}He}$$"
   ]
  },
  {
   "cell_type": "markdown",
   "metadata": {
    "nbpresent": {
     "id": "920127c5-e43e-436e-b09e-57aaed228bde"
    },
    "slideshow": {
     "slide_type": "fragment"
    }
   },
   "source": [
    "Both mass number and atomic number are conserved: the mass number is 238 on the left side and (234 + 4) on the right side and the atomic number is 92 on the left side and (90 + 2) on the right side. Alpha particles have a charge +2, but as a nuclear equation describes a nuclear reaction without considering the electrons - a convention that does not imply that the nuclei necessarily occur in neutral atoms - the charge is not usually shown."
   ]
  },
  {
   "cell_type": "markdown",
   "metadata": {
    "nbpresent": {
     "id": "9278daaa-4cda-4d38-8060-74258b615f2b"
    },
    "slideshow": {
     "slide_type": "subslide"
    }
   },
   "source": [
    "Alpha particles have a typical kinetic energy of 5 MeV (or $\\approx$ 0.13% of their total energy, 110 TJ/kg) and have a speed of about 15,000,000 m/s, or 5% of the speed of light. Because of their relatively large mass, +2 electric charge and relatively low velocity, alpha particles are very likely to interact with other atoms and lose their energy, and their forward motion can be stopped by a few centimeters of air.\n",
    "\n",
    "Approximately 99% of the helium produced on Earth is the result of the alpha decay of underground deposits of minerals containing uranium or thorium. The helium is brought to the surface as a byproduct of natural gas production."
   ]
  },
  {
   "cell_type": "markdown",
   "metadata": {
    "nbpresent": {
     "id": "7f3fdd80-352a-4aab-bdfa-fbdb99d3ec4e"
    },
    "slideshow": {
     "slide_type": "skip"
    }
   },
   "source": [
    "_Source_: **Wikipedia** https://en.wikipedia.org/wiki/Alpha_decay"
   ]
  },
  {
   "cell_type": "markdown",
   "metadata": {
    "slideshow": {
     "slide_type": "subslide"
    }
   },
   "source": [
    "### One-decay process\n",
    "\n",
    "Consider the case of a nuclide $\\mathrm{A}$ that decays into another $\\mathrm{A}$ by some process \n",
    "\n",
    "$$\\mathrm{A} \\rightarrow \\mathrm{B}.$$ \n",
    "\n",
    "The decay of an unstable nucleus is entirely random and it is impossible to predict when a particular atom will decay. However, it is equally likely to decay at any instant in time. Therefore, given a sample of a particular radioisotope, the number of decay events -dN expected to occur in a small interval of time dt is proportional to the number of atoms present N, that is\n",
    "\n",
    " $$\\frac{\\mathrm{d}N}{\\mathrm{d}t} \\propto N.$$"
   ]
  },
  {
   "cell_type": "markdown",
   "metadata": {
    "slideshow": {
     "slide_type": "subslide"
    }
   },
   "source": [
    " \n",
    "Particular radionuclides decay at different rates, so each has its own decay constant $k$. The expected decay -dN/N is proportional to an increment of time, dt,\n",
    "\n",
    " $$\\frac{\\mathrm{d}N}{N} = - k \\; \\mathrm{d}t.$$\n",
    " \n",
    " \n",
    "_Source_: **Wikipedia** https://en.wikipedia.org/wiki/Radioactive_decay\n",
    "\n",
    "\n",
    "This is often written in the form of a differential equation,\n",
    "\n",
    " $$\\frac{\\mathrm{d}N}{\\mathrm{d}t} = - k \\; N.$$\n",
    " \n",
    "\n",
    "The negative sign indicates that N decreases as time increases, as the decay events follow one after another. "
   ]
  },
  {
   "cell_type": "markdown",
   "metadata": {
    "cell_style": "center",
    "nbpresent": {
     "id": "ca93aba3-df7a-4bf6-be74-ae0b647c32b7"
    },
    "slideshow": {
     "slide_type": "slide"
    }
   },
   "source": [
    "## Numerical solution\n",
    "\n",
    "We can numerically model the spontaneous radioactive decay of $\\mathrm{~^{238}_{92}U}$ by considering a one-decay process.\n",
    "\n",
    "Start by assuming there is initial number of U-238 atoms. Let's say we start with 1000 moles of atoms."
   ]
  },
  {
   "cell_type": "code",
   "execution_count": 1,
   "metadata": {
    "cell_style": "center",
    "nbpresent": {
     "id": "58c596e0-d74c-4778-8970-cfda72d40a6a"
    },
    "slideshow": {
     "slide_type": "fragment"
    }
   },
   "outputs": [],
   "source": [
    "N_initial = 1000"
   ]
  },
  {
   "cell_type": "markdown",
   "metadata": {
    "slideshow": {
     "slide_type": "fragment"
    }
   },
   "source": [
    "*To execute a cell in Jupyter use \"shift-Return\"*"
   ]
  },
  {
   "cell_type": "markdown",
   "metadata": {
    "cell_style": "center",
    "nbpresent": {
     "id": "1a4bcd48-5106-45fd-8bc9-99d2c9f36c3f"
    },
    "slideshow": {
     "slide_type": "subslide"
    }
   },
   "source": [
    "We've just assigned the value 1000 to a variable called `N_initial`. In Python, we can display the value of a variable using the `print` function."
   ]
  },
  {
   "cell_type": "code",
   "execution_count": 2,
   "metadata": {
    "nbpresent": {
     "id": "421252d7-5355-4ee7-bbb1-1eab3f70c0d1"
    },
    "slideshow": {
     "slide_type": "fragment"
    }
   },
   "outputs": [
    {
     "name": "stdout",
     "output_type": "stream",
     "text": [
      "1000\n"
     ]
    }
   ],
   "source": [
    "print(N_initial)"
   ]
  },
  {
   "cell_type": "markdown",
   "metadata": {
    "slideshow": {
     "slide_type": "subslide"
    }
   },
   "source": [
    "#### Discretization\n",
    "\n",
    "Our goal is to determine the number of atoms, N, as it changes over time, t.\n",
    "\n",
    "Instead of a continuous function, N(t), in numerical methods we will look for value of N only at specific values of t:\n",
    "\n",
    "$$N_i = N(t_i)$$\n",
    "\n",
    "This process is called **discretization**. We imagine time being as broken up into a sequence of discrete points.  \n",
    "\n",
    "$$ t_0,\\; t_1,\\; t_2,\\; \\ldots,\\;, t_{i-1}\\;, t_{i},\\; t_{i+1},\\ldots$$"
   ]
  },
  {
   "cell_type": "markdown",
   "metadata": {
    "nbpresent": {
     "id": "26b9f25d-465c-4085-8b1d-3a228ea2fea1"
    },
    "slideshow": {
     "slide_type": "subslide"
    }
   },
   "source": [
    "For example, the interval 0 to 4 could be discretized into the sequence\n",
    "\n",
    "$$ [t_0,\\; t_1,\\; t_2,\\; t_3,\\; t_4,\\; t_5,\\; t_6,\\; t_7,\\; t_8,\\; t_9, \\; t_{10}] = $$\n",
    "$$[0.0,\\; 0.4,\\; 0.8,\\; 1.2,\\; 1.6,\\; 2.0,\\; 2.4,\\; 2.8,\\; 3.2,\\; 3.6,\\; 4.0]$$\n",
    "\n",
    "The length of the interval between the discrete points in time is called the **time step**. In this example,\n",
    "\n",
    "$$ \\Delta t = t_i - t_{i-1} = 0.4$$\n",
    "\n",
    "In more advanced numerical methods, the time step does not necessarily have to always be a constant. In PHYS2820, we will generally work with equal sized time steps."
   ]
  },
  {
   "cell_type": "markdown",
   "metadata": {
    "nbpresent": {
     "id": "05c5c54b-0521-4aca-9b91-0db8ae0fc317"
    },
    "slideshow": {
     "slide_type": "subslide"
    }
   },
   "source": [
    "Let's use a variable to hold the value of the time step for our U-238 decay problem.  The decay is really slow so we to consider really long times. A reasonable time step might be a hundred million years:"
   ]
  },
  {
   "cell_type": "code",
   "execution_count": 3,
   "metadata": {
    "nbpresent": {
     "id": "bca94ee5-5f5c-44a7-8b2c-8466da5682b5"
    },
    "slideshow": {
     "slide_type": "fragment"
    }
   },
   "outputs": [],
   "source": [
    "dt = 100.0e6"
   ]
  },
  {
   "cell_type": "markdown",
   "metadata": {
    "nbpresent": {
     "id": "6f93a189-876c-4f32-b63a-545c47110e35"
    },
    "slideshow": {
     "slide_type": "fragment"
    }
   },
   "source": [
    "The notation 100.0e6 is scientific notation for 100,000,000. Again, we can use the `print` function to display the value of a variable:"
   ]
  },
  {
   "cell_type": "code",
   "execution_count": 4,
   "metadata": {
    "nbpresent": {
     "id": "97d91a00-3f07-4d36-9037-1874fa6b0eb6"
    },
    "slideshow": {
     "slide_type": "fragment"
    }
   },
   "outputs": [
    {
     "name": "stdout",
     "output_type": "stream",
     "text": [
      "100000000.0\n"
     ]
    }
   ],
   "source": [
    "print(dt)"
   ]
  },
  {
   "cell_type": "markdown",
   "metadata": {
    "nbpresent": {
     "id": "f674109f-5615-4017-a616-4bac7408914f"
    },
    "slideshow": {
     "slide_type": "subslide"
    }
   },
   "source": [
    "## NumPy\n",
    "\n",
    "We want to consider a sequences of values. In Python, one method of representing this is to use arrays.  Arrays and mathematical functionality is included in the NumPy module (as in, *Num*erical *Py*thon) which is called numpy. In Python we have to import these modules before we can use them"
   ]
  },
  {
   "cell_type": "code",
   "execution_count": 5,
   "metadata": {
    "nbpresent": {
     "id": "2af5c4a8-ebe4-48ea-ac56-4e18e276611d"
    },
    "slideshow": {
     "slide_type": "fragment"
    }
   },
   "outputs": [],
   "source": [
    "import numpy"
   ]
  },
  {
   "cell_type": "markdown",
   "metadata": {
    "slideshow": {
     "slide_type": "fragment"
    }
   },
   "source": [
    "There are several ways of creating arrays with numpy.  Two of the most common are:\n",
    "\n",
    " - `numpy.arange(start, stop, step)`\n",
    " - `numpy.zeros(size)`\n",
    " "
   ]
  },
  {
   "cell_type": "markdown",
   "metadata": {
    "nbpresent": {
     "id": "3d9f4bcb-0e4a-4230-8ffd-2bd2a8914f9c"
    },
    "slideshow": {
     "slide_type": "subslide"
    }
   },
   "source": [
    "For the first method, `numpy.arange()`, will create an array with regularly incrementing values. For example, if we want to start at 0 and go up until 4 by steps of 0.4 we write:"
   ]
  },
  {
   "cell_type": "code",
   "execution_count": 6,
   "metadata": {
    "nbpresent": {
     "id": "182ed395-0f46-4960-8fa9-67578442ba96"
    },
    "slideshow": {
     "slide_type": "fragment"
    }
   },
   "outputs": [
    {
     "name": "stdout",
     "output_type": "stream",
     "text": [
      "[0.  0.4 0.8 1.2 1.6 2.  2.4 2.8 3.2 3.6]\n"
     ]
    }
   ],
   "source": [
    "A = numpy.arange(0, 4, 0.4)\n",
    "print(A)"
   ]
  },
  {
   "cell_type": "markdown",
   "metadata": {
    "nbpresent": {
     "id": "1bd862f4-f1ca-4c54-b875-0668821cbcb8"
    },
    "slideshow": {
     "slide_type": "fragment"
    }
   },
   "source": [
    "Note that the second argument, called the stop, is the upper bound on the sequence but not actually part of the sequence itself."
   ]
  },
  {
   "cell_type": "markdown",
   "metadata": {
    "nbpresent": {
     "id": "d072eab2-7e18-458c-a32c-e9af978108a6"
    },
    "slideshow": {
     "slide_type": "subslide"
    }
   },
   "source": [
    "We now create an array of times $t_i$ starting at 0 and up to, say, a maximum of 10 billion years with a step size dt:"
   ]
  },
  {
   "cell_type": "code",
   "execution_count": 7,
   "metadata": {
    "nbpresent": {
     "id": "5a11934a-1fcc-4304-b018-b7b3f9b9cec5"
    },
    "slideshow": {
     "slide_type": "fragment"
    }
   },
   "outputs": [
    {
     "name": "stdout",
     "output_type": "stream",
     "text": [
      "[0.0e+00 1.0e+08 2.0e+08 3.0e+08 4.0e+08 5.0e+08 6.0e+08 7.0e+08 8.0e+08\n",
      " 9.0e+08 1.0e+09 1.1e+09 1.2e+09 1.3e+09 1.4e+09 1.5e+09 1.6e+09 1.7e+09\n",
      " 1.8e+09 1.9e+09 2.0e+09 2.1e+09 2.2e+09 2.3e+09 2.4e+09 2.5e+09 2.6e+09\n",
      " 2.7e+09 2.8e+09 2.9e+09 3.0e+09 3.1e+09 3.2e+09 3.3e+09 3.4e+09 3.5e+09\n",
      " 3.6e+09 3.7e+09 3.8e+09 3.9e+09 4.0e+09 4.1e+09 4.2e+09 4.3e+09 4.4e+09\n",
      " 4.5e+09 4.6e+09 4.7e+09 4.8e+09 4.9e+09 5.0e+09 5.1e+09 5.2e+09 5.3e+09\n",
      " 5.4e+09 5.5e+09 5.6e+09 5.7e+09 5.8e+09 5.9e+09 6.0e+09 6.1e+09 6.2e+09\n",
      " 6.3e+09 6.4e+09 6.5e+09 6.6e+09 6.7e+09 6.8e+09 6.9e+09 7.0e+09 7.1e+09\n",
      " 7.2e+09 7.3e+09 7.4e+09 7.5e+09 7.6e+09 7.7e+09 7.8e+09 7.9e+09 8.0e+09\n",
      " 8.1e+09 8.2e+09 8.3e+09 8.4e+09 8.5e+09 8.6e+09 8.7e+09 8.8e+09 8.9e+09\n",
      " 9.0e+09 9.1e+09 9.2e+09 9.3e+09 9.4e+09 9.5e+09 9.6e+09 9.7e+09 9.8e+09\n",
      " 9.9e+09]\n"
     ]
    }
   ],
   "source": [
    "tmax = 10.0e9\n",
    "t = numpy.arange(0, tmax, dt)\n",
    "print(t)    "
   ]
  },
  {
   "cell_type": "markdown",
   "metadata": {
    "nbpresent": {
     "id": "0aad0562-5519-4ea0-89c2-660dd5e69552"
    },
    "slideshow": {
     "slide_type": "subslide"
    }
   },
   "source": [
    "To count the number of elements in this array, we can use the `len` function to get the length.\n",
    "\n",
    "In most situations, we normally would use the name N instead of the name M to store the size of the array. But in this problem we are using the letter N to represent the number of U-238 atoms so best not to confuse things too much. "
   ]
  },
  {
   "cell_type": "code",
   "execution_count": 8,
   "metadata": {
    "nbpresent": {
     "id": "320ad34f-2a3a-43ba-884f-0a90642d5464"
    },
    "slideshow": {
     "slide_type": "fragment"
    }
   },
   "outputs": [
    {
     "name": "stdout",
     "output_type": "stream",
     "text": [
      "100\n"
     ]
    }
   ],
   "source": [
    "M = len(t)\n",
    "print(M)"
   ]
  },
  {
   "cell_type": "markdown",
   "metadata": {
    "nbpresent": {
     "id": "b705f304-f6e7-454a-acb9-5b576fb5904f"
    },
    "slideshow": {
     "slide_type": "subslide"
    }
   },
   "source": [
    "We now can create an array to store the number of U-238 atoms at each point in time.  We use the second method of array creating and initialize an array of all zeros the same size as the time array."
   ]
  },
  {
   "cell_type": "code",
   "execution_count": 9,
   "metadata": {
    "nbpresent": {
     "id": "a335aade-0b42-4ada-b2c3-0d6d044687dc"
    },
    "slideshow": {
     "slide_type": "fragment"
    }
   },
   "outputs": [
    {
     "name": "stdout",
     "output_type": "stream",
     "text": [
      "[0. 0. 0. 0. 0. 0. 0. 0. 0. 0. 0. 0. 0. 0. 0. 0. 0. 0. 0. 0. 0. 0. 0. 0.\n",
      " 0. 0. 0. 0. 0. 0. 0. 0. 0. 0. 0. 0. 0. 0. 0. 0. 0. 0. 0. 0. 0. 0. 0. 0.\n",
      " 0. 0. 0. 0. 0. 0. 0. 0. 0. 0. 0. 0. 0. 0. 0. 0. 0. 0. 0. 0. 0. 0. 0. 0.\n",
      " 0. 0. 0. 0. 0. 0. 0. 0. 0. 0. 0. 0. 0. 0. 0. 0. 0. 0. 0. 0. 0. 0. 0. 0.\n",
      " 0. 0. 0. 0.]\n"
     ]
    }
   ],
   "source": [
    "N = numpy.zeros(M)\n",
    "print(N)"
   ]
  },
  {
   "cell_type": "markdown",
   "metadata": {
    "nbpresent": {
     "id": "724a2909-472a-4d2c-a187-878e21642fde"
    },
    "slideshow": {
     "slide_type": "subslide"
    }
   },
   "source": [
    "Python is a 0-based language. That is, if we want to list first five (5) elements of an array we would write\n",
    "\n",
    "    N[0], N[1], N[2], N[3], N[4]\n",
    "    \n",
    "This also means that the last element in an array of length \n",
    "M is actually given by\n",
    "\n",
    "    N[M-1]\n",
    "    \n",
    "This is the reason that `numpy.arange` function as the \n",
    "behaviour it does regarding the last value. As an example, consider a sequence of 10 numbers starting with 0 with a step size of 1"
   ]
  },
  {
   "cell_type": "code",
   "execution_count": 10,
   "metadata": {
    "nbpresent": {
     "id": "65decc35-65a7-4b24-bfbc-8999193f9923"
    },
    "slideshow": {
     "slide_type": "fragment"
    }
   },
   "outputs": [
    {
     "name": "stdout",
     "output_type": "stream",
     "text": [
      "[0 1 2 3 4 5 6 7 8 9]\n"
     ]
    }
   ],
   "source": [
    "A = numpy.arange(0, 10, 1)\n",
    "print(A)"
   ]
  },
  {
   "cell_type": "markdown",
   "metadata": {
    "nbpresent": {
     "id": "b807e61e-0c54-4f66-8c00-3349798206d7"
    },
    "slideshow": {
     "slide_type": "subslide"
    }
   },
   "source": [
    "Now back to radioactive decay.  We already know the initial number of U-238 atoms, so we can assign that value to the first element of the array N:"
   ]
  },
  {
   "cell_type": "code",
   "execution_count": 11,
   "metadata": {
    "nbpresent": {
     "id": "9c5aba25-38eb-44d2-a6d2-0f4febac0a5e"
    },
    "slideshow": {
     "slide_type": "fragment"
    }
   },
   "outputs": [
    {
     "name": "stdout",
     "output_type": "stream",
     "text": [
      "[1000.    0.    0.    0.    0.    0.    0.    0.    0.    0.    0.    0.\n",
      "    0.    0.    0.    0.    0.    0.    0.    0.    0.    0.    0.    0.\n",
      "    0.    0.    0.    0.    0.    0.    0.    0.    0.    0.    0.    0.\n",
      "    0.    0.    0.    0.    0.    0.    0.    0.    0.    0.    0.    0.\n",
      "    0.    0.    0.    0.    0.    0.    0.    0.    0.    0.    0.    0.\n",
      "    0.    0.    0.    0.    0.    0.    0.    0.    0.    0.    0.    0.\n",
      "    0.    0.    0.    0.    0.    0.    0.    0.    0.    0.    0.    0.\n",
      "    0.    0.    0.    0.    0.    0.    0.    0.    0.    0.    0.    0.\n",
      "    0.    0.    0.    0.]\n"
     ]
    }
   ],
   "source": [
    "N[0] = N_initial\n",
    "print(N)"
   ]
  },
  {
   "cell_type": "markdown",
   "metadata": {
    "slideshow": {
     "slide_type": "slide"
    }
   },
   "source": [
    "## Numerical Method\n",
    "\n",
    "We start with the differential equation that represents a one-decay process\n",
    "\n",
    "$$\\frac{\\mathrm{d}N}{\\mathrm{d}t} = -k \\; N$$\n",
    "\n",
    "to approximate how N will change in time. Assuming we are dealing with small time intervals, $\\Delta t$, the change in the number of atoms $\\Delta N$ is\n",
    "\n",
    "$$ \\Delta N = - k \\; N \\Delta t $$\n",
    "\n",
    "In terms of our sequence notation, that means\n",
    "\n",
    "$$ N_{i} - N_{i-1} = - k \\; N_{i-1} (t_{i} - t_{i-1} )$$"
   ]
  },
  {
   "cell_type": "markdown",
   "metadata": {
    "slideshow": {
     "slide_type": "subslide"
    }
   },
   "source": [
    "Since our time step is constant we can write this in code as\n",
    "```python\n",
    "N[i] = N_i - k * N[i-1] * dt\n",
    "```\n",
    "This rule, or algorithm, tells us how to calculate the number atoms at time $t_{i}$ given the number of atoms at time $t_{i-1}$. The algorithm works because we assume we already know the value of $N_0$ at time $t_0$.\n",
    "\n",
    "We can look up the decay constant for\n",
    "the spontaneous radioactive decay of $\\mathrm{~^{238}_{92}U}$:\n",
    "$$k  = 4.916 \\times 10^{-18}\\; \\mathrm{s}^{-1} $$ [](WolframAlpha)"
   ]
  },
  {
   "cell_type": "markdown",
   "metadata": {
    "nbpresent": {
     "id": "5869999b-2a32-40ce-85c6-b61fa0e7f99f"
    },
    "slideshow": {
     "slide_type": "subslide"
    }
   },
   "source": [
    "We need a variable to store the decay constant value.  While we are given the decay constants in units of per seconds, we are measuring time in years so we need to convert the units from 'per second' to 'per year'."
   ]
  },
  {
   "cell_type": "code",
   "execution_count": 12,
   "metadata": {
    "nbpresent": {
     "id": "7ccceab9-b829-4abb-a16d-420dbf3f3b25"
    },
    "slideshow": {
     "slide_type": "fragment"
    }
   },
   "outputs": [
    {
     "name": "stdout",
     "output_type": "stream",
     "text": [
      "1.55030976e-10\n"
     ]
    }
   ],
   "source": [
    "k_in_per_sec = 4.916e-18\n",
    "k = k_in_per_sec * 60 * 60 * 24 * 365\n",
    "print(k)"
   ]
  },
  {
   "cell_type": "markdown",
   "metadata": {
    "nbpresent": {
     "id": "b7902d8b-8558-4064-94ee-62389df46b7b"
    },
    "slideshow": {
     "slide_type": "subslide"
    }
   },
   "source": [
    "To determine values of $N_i$ for all elements in the array, we can use a `for` loop.   The `range` function is really similar to the numpy.arange function so the index variable i will take on the succesive values start at 1 up to, but not including, M."
   ]
  },
  {
   "cell_type": "code",
   "execution_count": 13,
   "metadata": {
    "nbpresent": {
     "id": "a6167765-87ed-4e24-819d-215090e0d32d"
    },
    "slideshow": {
     "slide_type": "fragment"
    }
   },
   "outputs": [],
   "source": [
    "for i in range(1, M):\n",
    "    N[i] = N[i-1] - k * N[i-1] * dt"
   ]
  },
  {
   "cell_type": "code",
   "execution_count": 14,
   "metadata": {
    "nbpresent": {
     "id": "a13b01ae-d2bb-426c-8031-9f7c86969410"
    },
    "slideshow": {
     "slide_type": "fragment"
    }
   },
   "outputs": [
    {
     "name": "stdout",
     "output_type": "stream",
     "text": [
      "[1000.          984.4969024   969.23415084  954.2080192   939.41483915\n",
      "  924.85099921  910.5129439   896.39717287  882.50024001  868.81875265\n",
      "  855.34937073  842.08880596  829.03382101  816.18122877  803.52789152\n",
      "  791.07072019  778.80667361  766.73275774  754.84602496  743.14357336\n",
      "  731.62254602  720.28013028  709.11355712  698.12010043  687.29707638\n",
      "  676.64184272  666.1517982   655.82438185  645.65707245  635.64738784\n",
      "  625.79288435  616.09115619  606.53983486  597.1365886   587.87912179\n",
      "  578.76517439  569.7925214   560.95897233  552.26237063  543.7005932\n",
      "  535.27154984  526.97318276  518.80346607  510.7604053   502.84203689\n",
      "  495.04642772  487.37167463  479.81590399  472.3772712   465.05396026\n",
      "  457.84418333  450.74618027  443.75821824  436.87859127  430.10561983\n",
      "  423.43765043  416.87305521  410.41023155  404.04760167  397.78361227\n",
      "  391.6167341   385.54546165  379.56831273  373.68382813  367.89057127\n",
      "  362.18712784  356.57210545  351.0441333   345.60186184  340.24396244\n",
      "  334.96912708  329.77606801  324.66351744  319.63022725  314.67496864\n",
      "  309.79653189  304.99372602  300.26537851  295.61033505  291.02745917\n",
      "  286.51563207  282.07375226  277.70073535  273.39551374  269.15703641\n",
      "  264.9842686   260.87619163  256.83180257  252.85011406  248.93015407\n",
      "  245.07096559  241.27160649  237.53114923  233.84868064  230.22330172\n",
      "  226.65412741  223.14028635  219.68092071  216.27518595  212.92225064]\n"
     ]
    }
   ],
   "source": [
    "print(N)"
   ]
  },
  {
   "cell_type": "markdown",
   "metadata": {
    "nbpresent": {
     "id": "69500393-1d5a-4a20-9ca7-945c37dad6e4"
    },
    "slideshow": {
     "slide_type": "fragment"
    }
   },
   "source": [
    "So in over 10 billion years, our initial 1000 atoms of U-238 atoms should have decayed into approximately 213 atoms.  In a physical sample of U-238 there would be more like $1000 \\times 10^{23}$ atoms but this does not change the fundamental pattern the exponential decay."
   ]
  },
  {
   "cell_type": "markdown",
   "metadata": {
    "nbpresent": {
     "id": "fbff7ea0-7354-4070-8544-da90f59e9dd9"
    },
    "slideshow": {
     "slide_type": "slide"
    }
   },
   "source": [
    "## Visualization\n",
    "While we can look at the array N for the number of atoms of U-238 by using the print function, it would be much better to visualize the output of our model with a plot.\n",
    "\n",
    "### Matplotlib\n",
    "There are a number of plotting and graphics packages available.  In this course, we will use _Matplotlib_ for our plotting. This module can be imported with the command"
   ]
  },
  {
   "cell_type": "code",
   "execution_count": 15,
   "metadata": {
    "nbpresent": {
     "id": "baf690e3-1fa4-49d0-8be0-ae97e7e8c0b3"
    },
    "slideshow": {
     "slide_type": "fragment"
    }
   },
   "outputs": [],
   "source": [
    "import matplotlib.pyplot"
   ]
  },
  {
   "cell_type": "markdown",
   "metadata": {
    "nbpresent": {
     "id": "bb158d4f-4257-45fd-821f-d80ce64066c7"
    },
    "slideshow": {
     "slide_type": "subslide"
    }
   },
   "source": [
    "and we can then make a plot and add axes labels with the functions like"
   ]
  },
  {
   "cell_type": "code",
   "execution_count": 16,
   "metadata": {
    "nbpresent": {
     "id": "528e0f9a-2c3e-47d5-b9c0-5a584b3c1b3d"
    },
    "slideshow": {
     "slide_type": "fragment"
    }
   },
   "outputs": [
    {
     "data": {
      "image/png": "[encoded data removed]",
      "text/plain": [
       "<Figure size 432x288 with 1 Axes>"
      ]
     },
     "metadata": {
      "needs_background": "light"
     },
     "output_type": "display_data"
    }
   ],
   "source": [
    "matplotlib.pyplot.plot(t, N)\n",
    "matplotlib.pyplot.xlabel('Time (years)')\n",
    "matplotlib.pyplot.ylabel('Number of atoms of $^{238}$U')\n",
    "\n",
    "matplotlib.pyplot.show()"
   ]
  },
  {
   "cell_type": "markdown",
   "metadata": {
    "nbpresent": {
     "id": "e4a296cc-fde4-4534-b247-96e87d423d2f"
    },
    "slideshow": {
     "slide_type": "subslide"
    }
   },
   "source": [
    "Typing `matplotlib.pyplot` for every plotting function would quickly become labourious.  We can import this module\n",
    "with the shortened name of `plt`."
   ]
  },
  {
   "cell_type": "code",
   "execution_count": 17,
   "metadata": {
    "nbpresent": {
     "id": "3d6895ff-9ac3-4f6b-88b2-d1dc1fa77e32"
    },
    "slideshow": {
     "slide_type": "fragment"
    }
   },
   "outputs": [],
   "source": [
    "import matplotlib.pyplot as plt"
   ]
  },
  {
   "cell_type": "markdown",
   "metadata": {
    "nbpresent": {
     "id": "ffa79081-7434-4722-b97b-4b2c722e63b4"
    },
    "slideshow": {
     "slide_type": "fragment"
    }
   },
   "source": [
    "Now the same plot is more compactly created with"
   ]
  },
  {
   "cell_type": "code",
   "execution_count": 18,
   "metadata": {
    "nbpresent": {
     "id": "a48bb90c-fb4c-4282-b004-ec517e44a2f8"
    },
    "slideshow": {
     "slide_type": "fragment"
    }
   },
   "outputs": [
    {
     "data": {
      "image/png": "[encoded data removed]",
      "text/plain": [
       "<Figure size 432x288 with 1 Axes>"
      ]
     },
     "metadata": {
      "needs_background": "light"
     },
     "output_type": "display_data"
    }
   ],
   "source": [
    "plt.plot(t, N)\n",
    "plt.xlabel('Time (years)')\n",
    "plt.ylabel('Number of atoms of U-238')\n",
    "plt.show()"
   ]
  },
  {
   "cell_type": "markdown",
   "metadata": {
    "slideshow": {
     "slide_type": "subslide"
    }
   },
   "source": [
    "There is also a standard short form for the name of NumPy module, `np`, that we will use from now on."
   ]
  },
  {
   "cell_type": "code",
   "execution_count": 19,
   "metadata": {
    "slideshow": {
     "slide_type": "fragment"
    }
   },
   "outputs": [],
   "source": [
    "import numpy as np"
   ]
  },
  {
   "cell_type": "markdown",
   "metadata": {
    "slideshow": {
     "slide_type": "skip"
    }
   },
   "source": [
    "## Exact symbolic solution"
   ]
  },
  {
   "cell_type": "markdown",
   "metadata": {},
   "source": [
    "If you have already taken a mathematics course in ordinary differential equations (ODEs), you may recall the solution to this first-order differential equation \n",
    "\n",
    " $$\\frac{\\mathrm{d}N}{\\mathrm{d}t} = - k \\; N.$$\n",
    " \n",
    "is the function:\n",
    "\n",
    " $$ N(t) = N_0\\,e^{-kt}, \\,\\! $$ \n",
    " \n",
    "where $N_0$ is the value of $N$ at time $t$ = 0."
   ]
  },
  {
   "cell_type": "markdown",
   "metadata": {},
   "source": [
    "In an ODEs course, we learn the rules needs to solve this kind of differential equation.  \n",
    "\n",
    "These rules have been codified in computer algebra systems such as SymPy (*Sym*bolic *Py*thon). SymPy can solve this differential equation for us even if we hadn't yet taken the required course."
   ]
  },
  {
   "cell_type": "code",
   "execution_count": 20,
   "metadata": {},
   "outputs": [],
   "source": [
    "from sympy import Symbol, Function, Eq, dsolve"
   ]
  },
  {
   "cell_type": "code",
   "execution_count": 21,
   "metadata": {},
   "outputs": [
    {
     "data": {
      "text/latex": [
       "$\\displaystyle N{\\left(t \\right)} = N_{0} e^{- k t}$"
      ],
      "text/plain": [
       "Eq(N(t), N_0*exp(-k*t))"
      ]
     },
     "execution_count": 21,
     "metadata": {},
     "output_type": "execute_result"
    }
   ],
   "source": [
    "t_ = Symbol('t')\n",
    "k_ = Symbol('k')\n",
    "N0 = Symbol('N_0')\n",
    "N_ = Function('N')\n",
    "dsolve(Eq(N_(t_).diff(t_), - k_* N_(t_)), \n",
    "       ics = {N_(0) : N0})"
   ]
  },
  {
   "cell_type": "markdown",
   "metadata": {},
   "source": [
    "We will revisit SymPy later on in Phys 2820."
   ]
  },
  {
   "cell_type": "markdown",
   "metadata": {},
   "source": [
    "## Comparison with the exact solution"
   ]
  },
  {
   "cell_type": "markdown",
   "metadata": {
    "nbpresent": {
     "id": "05e412ca-8eaa-4eeb-bec5-f56f1e746714"
    },
    "slideshow": {
     "slide_type": "subslide"
    }
   },
   "source": [
    "Finally, we may want to compare our numerical solution to the analytical solution given at the beginning. "
   ]
  },
  {
   "cell_type": "code",
   "execution_count": 22,
   "metadata": {
    "nbpresent": {
     "id": "3a32868f-f485-4408-a128-5bef0842efa1"
    },
    "slideshow": {
     "slide_type": "fragment"
    }
   },
   "outputs": [],
   "source": [
    "N_analytical = N_initial * np.exp(-k * t)"
   ]
  },
  {
   "cell_type": "markdown",
   "metadata": {
    "slideshow": {
     "slide_type": "fragment"
    }
   },
   "source": [
    "We have used the NumPy function `np.exp` to evaluate an array point-wise. So N_analytical is an array the same size as t and N."
   ]
  },
  {
   "cell_type": "markdown",
   "metadata": {
    "nbpresent": {
     "id": "d83b339f-3ddd-4604-ae10-2d228bc16248"
    },
    "slideshow": {
     "slide_type": "subslide"
    }
   },
   "source": [
    "To compare the numerical and analytical solutions we can plot them together with a legend and different colours."
   ]
  },
  {
   "cell_type": "code",
   "execution_count": 23,
   "metadata": {
    "nbpresent": {
     "id": "d927fbd4-8473-42fd-b401-7d7dfdbb852a"
    },
    "slideshow": {
     "slide_type": "fragment"
    }
   },
   "outputs": [
    {
     "data": {
      "image/png": "[encoded data removed]",
      "text/plain": [
       "<Figure size 432x288 with 1 Axes>"
      ]
     },
     "metadata": {
      "needs_background": "light"
     },
     "output_type": "display_data"
    }
   ],
   "source": [
    "plt.plot(t, N, 'b-', label = 'Numerical')\n",
    "plt.plot(t, N_analytical, 'r-', label = 'Analytical')\n",
    "plt.xlabel('Time (years)')\n",
    "plt.ylabel('Number of atoms of U-238')\n",
    "plt.legend()\n",
    "plt.show()"
   ]
  },
  {
   "cell_type": "markdown",
   "metadata": {
    "nbpresent": {
     "id": "5efea64b-4cce-4baf-b2a1-eccea2468321"
    },
    "slideshow": {
     "slide_type": "subslide"
    }
   },
   "source": [
    "As you can see the numerical solutions matches very closely to the analytical solution."
   ]
  },
  {
   "cell_type": "code",
   "execution_count": 24,
   "metadata": {},
   "outputs": [
    {
     "data": {
      "image/png": "[encoded data removed]",
      "text/plain": [
       "<Figure size 432x288 with 1 Axes>"
      ]
     },
     "metadata": {
      "needs_background": "light"
     },
     "output_type": "display_data"
    }
   ],
   "source": [
    "N_difference = abs(N - N_analytical)\n",
    "plt.plot(t, N_difference, 'k-', label = 'Absolute Error')\n",
    "plt.xlabel('Time (years)')\n",
    "plt.ylabel('Number of atoms of U-238')\n",
    "plt.legend()\n",
    "plt.show()"
   ]
  },
  {
   "cell_type": "markdown",
   "metadata": {},
   "source": [
    "\n",
    "## Conclusion"
   ]
  },
  {
   "cell_type": "markdown",
   "metadata": {
    "nbpresent": {
     "id": "5efea64b-4cce-4baf-b2a1-eccea2468321"
    },
    "slideshow": {
     "slide_type": "subslide"
    }
   },
   "source": [
    "We have just solved our first numerical model!"
   ]
  },
  {
   "cell_type": "markdown",
   "metadata": {
    "nbpresent": {
     "id": "08286a4f-24f1-47cf-a6b8-6d945896aac2"
    },
    "slideshow": {
     "slide_type": "slide"
    }
   },
   "source": [
    "For comparison, here is the entire analysis written as a single Python program. "
   ]
  },
  {
   "cell_type": "code",
   "execution_count": 25,
   "metadata": {
    "nbpresent": {
     "id": "1db1963a-c1c4-46bf-8355-3bfc1a82cf14"
    },
    "scrolled": false,
    "slideshow": {
     "slide_type": "subslide"
    }
   },
   "outputs": [
    {
     "data": {
      "image/png": "[encoded data removed]",
      "text/plain": [
       "<Figure size 432x288 with 1 Axes>"
      ]
     },
     "metadata": {
      "needs_background": "light"
     },
     "output_type": "display_data"
    }
   ],
   "source": [
    "# 1D radioactive decay\n",
    "\n",
    "import numpy as np\n",
    "import matplotlib.pyplot as plt\n",
    "\n",
    "# initial number of uranium atoms\n",
    "N_uranium_initial = 1000\n",
    "\n",
    "# decay constant of 238 U (expressed as 'per year')\n",
    "k = 4.916e-18*365*24*60*60\n",
    "\n",
    "# simultion to maximum number of years\n",
    "tmax = 10.0e9\n",
    "\n",
    "# time step in years\n",
    "dt = 100e6\n",
    "\n",
    "# calculate an array for all times\n",
    "t = np.arange(0, tmax, dt)\n",
    "\n",
    "# determine total number of timesteps needed\n",
    "M = len(t)\n",
    "\n",
    "# initializes N_uranium, a vector of dimension M to being all zeros\n",
    "N_uranium = np.zeros(M)\n",
    "\n",
    "# the initial condition, first entry in the vector N_uranium is N_uranium_initial\n",
    "N_uranium[0] = N_uranium_initial\n",
    "\n",
    "# loop over the timesteps and calculate the numerical solution\n",
    "for i in range(1, M):\n",
    "    N_uranium[i] = N_uranium[i-1] - (k * N_uranium[i-1])*dt\n",
    "\n",
    "# For comparison, evaluate the analytical solution\n",
    "N_analytical = N_uranium_initial * np.exp(-k * t)\n",
    "\n",
    "# Plot the numerical solution in red dots\n",
    "plt.plot(t, N_uranium, 'r.', label = 'Numerical'); \n",
    "# Plot the numerical solution with blue line\n",
    "plt.plot(t, N_analytical, 'b-', label = 'Analytical'); \n",
    "# label axes\n",
    "plt.xlabel('Time in years')\n",
    "plt.ylabel('Number of atoms')\n",
    "\n",
    "# axes scales\n",
    "plt.xlim(0, tmax)\n",
    "plt.ylim(100, 1000)\n",
    "plt.legend()\n",
    "\n",
    "# save the plot as an image\n",
    "# plt.savefig('decay.png')\n",
    "\n",
    "plt.show()"
   ]
  },
  {
   "cell_type": "markdown",
   "metadata": {},
   "source": [
    "If you copy this program into a file called `decay.py` and uncomment the line that says `plt.savefig('decay.png')` then the program can be run in the terminal with\n",
    "\n",
    "```python decay.py```\n",
    "\n",
    "and it will produce a new image file `decay.png`."
   ]
  },
  {
   "cell_type": "markdown",
   "metadata": {},
   "source": [
    "- - - \n",
    "## Textbook readings\n",
    "\n",
    "Read the following sections from [CSM Chapter 1](https://www.compadre.org/osp/document/ServeFile.cfm?ID=7375&DocID=2144&DocFID=3570&Attachment=1)\n",
    "- 1.1 Importance of computers in physics\n",
    "- 1.2 The importances of computer simulation"
   ]
  }
 ],
 "metadata": {
  "anaconda-cloud": {},
  "kernelspec": {
   "display_name": "Python 3",
   "language": "python",
   "name": "python3"
  },
  "language_info": {
   "codemirror_mode": {
    "name": "ipython",
    "version": 3
   },
   "file_extension": ".py",
   "mimetype": "text/x-python",
   "name": "python",
   "nbconvert_exporter": "python",
   "pygments_lexer": "ipython3",
   "version": "3.6.7"
  },
  "latex_metadata": {
   "affiliation": "Memorial University of Newfoundland",
   "author": "James Munroe",
   "title": "Lecture 1"
  },
  "livereveal": {
   "scroll": true,
   "start_slideshow_at": "selected",
   "transition": "none"
  },
  "nbpresent": {
   "slides": {
    "08ca1ca3-4f63-413b-9177-c979cd13121b": {
     "id": "08ca1ca3-4f63-413b-9177-c979cd13121b",
     "layout": "manual",
     "prev": null,
     "regions": {
      "34cec2bc-9c77-427c-9cda-26558670bd8c": {
       "attrs": {
        "height": 0.9,
        "pad": 0,
        "width": 0.9,
        "x": 0.05,
        "y": 0.05
       },
       "content": {
        "cell": "6e650218-0025-416e-84ba-9fc1165161d0",
        "part": "whole"
       },
       "id": "34cec2bc-9c77-427c-9cda-26558670bd8c"
      }
     }
    },
    "85321e50-c450-4067-a246-730abce2fa06": {
     "id": "85321e50-c450-4067-a246-730abce2fa06",
     "layout": "manual",
     "prev": "c64c9544-5df3-4c25-b2d4-5e067a32033e",
     "regions": {
      "2a28506c-a2f3-45b0-89c1-6505890fee78": {
       "attrs": {
        "height": 0.1,
        "pad": 0,
        "width": 0.9,
        "x": 0.05,
        "y": 0
       },
       "content": {
        "cell": "7cd77e75-2c4c-40e3-a9f1-59eac375e39f",
        "part": "whole"
       },
       "id": "2a28506c-a2f3-45b0-89c1-6505890fee78"
      },
      "41347e4a-385f-4ae4-86fd-747aa3b000b6": {
       "attrs": {
        "height": 0.9,
        "pad": 0,
        "width": 0.9,
        "x": 0.05,
        "y": 0.1
       },
       "content": {
        "cell": "9278daaa-4cda-4d38-8060-74258b615f2b",
        "part": "whole"
       },
       "id": "41347e4a-385f-4ae4-86fd-747aa3b000b6"
      }
     }
    },
    "98e5b86a-ace0-4280-99c0-14a40c53f04a": {
     "id": "98e5b86a-ace0-4280-99c0-14a40c53f04a",
     "layout": "manual",
     "prev": "ac128acc-692e-4283-966e-4e63b9de2f79",
     "regions": {
      "530c8050-9cae-46e8-b9a1-ea1392fd0028": {
       "attrs": {
        "height": 0.1,
        "pad": 0,
        "width": 0.9,
        "x": 0.05,
        "y": 0
       },
       "content": {
        "cell": "7cd77e75-2c4c-40e3-a9f1-59eac375e39f",
        "part": "whole"
       },
       "id": "530c8050-9cae-46e8-b9a1-ea1392fd0028"
      },
      "8a002c48-f296-4524-9eac-02744adc8b42": {
       "attrs": {
        "height": 0.9,
        "pad": 0,
        "width": 0.9,
        "x": 0.05,
        "y": 0.1
       },
       "content": {
        "cell": "5d0fe05f-dcd2-4a4a-8ed2-14e2842520c5",
        "part": "whole"
       },
       "id": "8a002c48-f296-4524-9eac-02744adc8b42"
      }
     }
    },
    "ac128acc-692e-4283-966e-4e63b9de2f79": {
     "id": "ac128acc-692e-4283-966e-4e63b9de2f79",
     "layout": "manual",
     "prev": "08ca1ca3-4f63-413b-9177-c979cd13121b",
     "regions": {
      "87a97a02-96a8-4f99-9381-707fbef4b371": {
       "attrs": {
        "height": 0.9,
        "pad": 0,
        "width": 0.9,
        "x": 0.05,
        "y": 0.1
       },
       "content": {
        "cell": "5c320ab4-d6b2-4075-b111-ef97540813f5",
        "part": "whole"
       },
       "id": "87a97a02-96a8-4f99-9381-707fbef4b371"
      },
      "a536bdfe-c6bd-456d-9abc-4d2f41b2ada1": {
       "attrs": {
        "height": 0.1,
        "pad": 0,
        "width": 0.9,
        "x": 0.05,
        "y": 0
       },
       "content": {
        "cell": "7cd77e75-2c4c-40e3-a9f1-59eac375e39f",
        "part": "whole"
       },
       "id": "a536bdfe-c6bd-456d-9abc-4d2f41b2ada1"
      }
     }
    },
    "c64c9544-5df3-4c25-b2d4-5e067a32033e": {
     "id": "c64c9544-5df3-4c25-b2d4-5e067a32033e",
     "layout": "manual",
     "prev": "98e5b86a-ace0-4280-99c0-14a40c53f04a",
     "regions": {
      "689942f5-9c7b-4f6e-96d2-3eef026982de": {
       "attrs": {
        "height": 0.9,
        "pad": 0,
        "width": 0.9,
        "x": 0.05,
        "y": 0.1
       },
       "content": {
        "cell": "920127c5-e43e-436e-b09e-57aaed228bde",
        "part": "whole"
       },
       "id": "689942f5-9c7b-4f6e-96d2-3eef026982de"
      },
      "952d2351-92a4-4805-8881-64824840fc89": {
       "attrs": {
        "height": 0.1,
        "pad": 0,
        "width": 0.9,
        "x": 0.05,
        "y": 0
       },
       "content": {
        "cell": "7cd77e75-2c4c-40e3-a9f1-59eac375e39f",
        "part": "whole"
       },
       "id": "952d2351-92a4-4805-8881-64824840fc89"
      }
     }
    }
   },
   "themes": {
    "default": "ddc6af07-42cf-48b2-9fd8-16dcfb4eb9f1",
    "theme": {
     "ddc6af07-42cf-48b2-9fd8-16dcfb4eb9f1": {
      "id": "ddc6af07-42cf-48b2-9fd8-16dcfb4eb9f1",
      "palette": {
       "19cc588f-0593-49c9-9f4b-e4d7cc113b1c": {
        "id": "19cc588f-0593-49c9-9f4b-e4d7cc113b1c",
        "rgb": [
         252,
         252,
         252
        ]
       },
       "31af15d2-7e15-44c5-ab5e-e04b16a89eff": {
        "id": "31af15d2-7e15-44c5-ab5e-e04b16a89eff",
        "rgb": [
         68,
         68,
         68
        ]
       },
       "50f92c45-a630-455b-aec3-788680ec7410": {
        "id": "50f92c45-a630-455b-aec3-788680ec7410",
        "rgb": [
         155,
         177,
         192
        ]
       },
       "c5cc3653-2ee1-402a-aba2-7caae1da4f6c": {
        "id": "c5cc3653-2ee1-402a-aba2-7caae1da4f6c",
        "rgb": [
         43,
         126,
         184
        ]
       },
       "efa7f048-9acb-414c-8b04-a26811511a21": {
        "id": "efa7f048-9acb-414c-8b04-a26811511a21",
        "rgb": [
         25.118061674008803,
         73.60176211453744,
         107.4819383259912
        ]
       }
      },
      "rules": {
       "blockquote": {
        "color": "50f92c45-a630-455b-aec3-788680ec7410"
       },
       "code": {
        "font-family": "Anonymous Pro"
       },
       "h1": {
        "color": "c5cc3653-2ee1-402a-aba2-7caae1da4f6c",
        "font-family": "Lato",
        "font-size": 8
       },
       "h2": {
        "color": "c5cc3653-2ee1-402a-aba2-7caae1da4f6c",
        "font-family": "Lato",
        "font-size": 6
       },
       "h3": {
        "color": "50f92c45-a630-455b-aec3-788680ec7410",
        "font-family": "Lato",
        "font-size": 5.5
       },
       "h4": {
        "color": "c5cc3653-2ee1-402a-aba2-7caae1da4f6c",
        "font-family": "Lato",
        "font-size": 5
       },
       "h5": {
        "font-family": "Lato"
       },
       "h6": {
        "font-family": "Lato"
       },
       "h7": {
        "font-family": "Lato"
       },
       "pre": {
        "font-family": "Anonymous Pro",
        "font-size": 4
       }
      },
      "text-base": {
       "font-family": "Merriweather",
       "font-size": 4
      }
     }
    }
   }
  }
 },
 "nbformat": 4,
 "nbformat_minor": 2
}
