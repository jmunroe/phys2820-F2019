{
 "cells": [
  {
   "cell_type": "markdown",
   "metadata": {},
   "source": [
    "# Spinning Balls\n",
    "## Lecture 6"
   ]
  },
  {
   "cell_type": "code",
   "execution_count": null,
   "metadata": {},
   "outputs": [],
   "source": [
    "%matplotlib inline\n",
    "import matplotlib.pyplot as plt\n",
    "import numpy as np\n",
    "import pandas as pd\n",
    "from ipywidgets import interactive"
   ]
  },
  {
   "cell_type": "markdown",
   "metadata": {
    "slideshow": {
     "slide_type": "slide"
    }
   },
   "source": [
    "Let's move on from cannon shells to a more friendly game of baseball.  If we want to understand the dynamics of a ball thrown by a pitcher, the approach is still use projectile motion like we did in the previous lecture."
   ]
  },
  {
   "cell_type": "markdown",
   "metadata": {
    "slideshow": {
     "slide_type": "fragment"
    }
   },
   "source": [
    "The air drag turns out to be again critically important for correctly predicting the trajectory and range of baseball.  Air drag depends on speed in two ways.  The first is directly, as in\n",
    "\n",
    "$$ \\frac{F_{drag}}{m} = \\frac{1}{2} \\rho C_d A v^2/m = C_D v^2$$\n",
    "\n",
    "where the drag force is proportional to the square of the velocity (as well as the cross-sectional area $A$ and air density $\\rho$. As before, we can also embed the medium (air) and the geometry (spherical) into a single coefficient, $C_D$."
   ]
  },
  {
   "cell_type": "markdown",
   "metadata": {
    "slideshow": {
     "slide_type": "slide"
    }
   },
   "source": [
    "### Velocity dependent drag\n",
    "\n",
    "The second is that the coefficient $C_d$ itself is also a function of $v$.\n",
    "\n",
    "![Drag Coefficient for Baseball](http://farside.ph.utexas.edu/teaching/329/lectures/img362.png)"
   ]
  },
  {
   "cell_type": "markdown",
   "metadata": {
    "slideshow": {
     "slide_type": "slide"
    }
   },
   "source": [
    "This plot is taken from a book called *The Physics of Baseball* and appears to be based on experimental data.  The drop in drag coefficient is due to a transition from a laminar flow around the ball to a turbulent flow around the ball.\n",
    "\n",
    "\n",
    "The textbook by Giordano offers the following approximation for the drag of a normal baseball (in SI units):\n",
    "\n",
    "$$ C_D = 0.0039 + \\frac{0.0058}{1+\\exp[(v-v_d)/\\Delta]}$$\n",
    "\n",
    "where $v_d$ = 35 m/s and $\\Delta$ = 5 m/s. We call this kind of approximate formula a *parametrization*.  Note that the details of factors such as air density, mass, cross-sectional area and so on are all contained with in this value $C_D$."
   ]
  },
  {
   "cell_type": "markdown",
   "metadata": {
    "slideshow": {
     "slide_type": "slide"
    }
   },
   "source": [
    "To use it a numerical model, we can define a new function that calculates this formula for us with `v` being passed in as an argument."
   ]
  },
  {
   "cell_type": "code",
   "execution_count": null,
   "metadata": {
    "slideshow": {
     "slide_type": "fragment"
    }
   },
   "outputs": [],
   "source": [
    "def baseball_drag(v):\n",
    "    \"\"\"\n",
    "    A paramerization for the air drag on a baseball dependent only on the speed v\n",
    "    \n",
    "    Returns the drag coefficient per unit mass (C_D) so that the drag force per unit mass \n",
    "    can be computed as\n",
    "    \n",
    "    Fdrag/m = C_D * v**2\n",
    "    \"\"\"\n",
    "    \n",
    "    vd = 35 # m/s\n",
    "    Δ = 5 # m/s\n",
    "    CD = 0.0039 + 0.0058 / (1 + np.exp(v-vd) / Δ)\n",
    "    return CD"
   ]
  },
  {
   "cell_type": "markdown",
   "metadata": {},
   "source": [
    "Python code can be written using Unicode (not just ASCII letters and numbers).  The capital delta, $\\Delta$, could also be replaced with the word `Delta` (and it often is in other programming languages).\n",
    "\n",
    "To type this character (assuming you do not have a Greek keyboard) Jupyter has a neat feature that if you type\n",
    "    \n",
    "`\\Delta<TAB>`\n",
    "\n",
    "in a code cell, it is automatically turned into a Δ symbol. "
   ]
  },
  {
   "cell_type": "markdown",
   "metadata": {
    "slideshow": {
     "slide_type": "subslide"
    }
   },
   "source": [
    "A wonderful property of using numpy functions like `np.exp` is that it can handle both individual numbers,"
   ]
  },
  {
   "cell_type": "code",
   "execution_count": null,
   "metadata": {
    "slideshow": {
     "slide_type": "fragment"
    }
   },
   "outputs": [],
   "source": [
    "print(baseball_drag(30))"
   ]
  },
  {
   "cell_type": "markdown",
   "metadata": {
    "slideshow": {
     "slide_type": "fragment"
    }
   },
   "source": [
    "or evaluate an entire array in with one function call"
   ]
  },
  {
   "cell_type": "code",
   "execution_count": null,
   "metadata": {
    "slideshow": {
     "slide_type": "fragment"
    }
   },
   "outputs": [],
   "source": [
    "v = np.arange(20, 60, 10)\n",
    "print(baseball_drag(v))"
   ]
  },
  {
   "cell_type": "markdown",
   "metadata": {
    "slideshow": {
     "slide_type": "slide"
    }
   },
   "source": [
    "Let's decrease the stepsize for `v` and plot $B_2/m$ vs $v$."
   ]
  },
  {
   "cell_type": "code",
   "execution_count": null,
   "metadata": {
    "slideshow": {
     "slide_type": "fragment"
    }
   },
   "outputs": [],
   "source": [
    "v = np.arange(20, 60, 1)\n",
    "fig, axes = plt.subplots()\n",
    "plt.plot(v, baseball_drag(v))\n",
    "plt.xlabel(\"$v$ (m/s)\")\n",
    "plt.ylabel(\"$C_D$  (m$^{-1}$)\")\n",
    "plt.show()"
   ]
  },
  {
   "cell_type": "markdown",
   "metadata": {},
   "source": [
    "With this parameterization, we can now calculate the drag forces per unit mass, broken up in to component vectors, as \n",
    "\n",
    "$$\\begin{align}\n",
    "\\frac{F_{drag,x}}{m} = - C_D v v_x \\\\\n",
    "\\frac{F_{drag,y}}{m} = - C_D v v_y \\\\\n",
    "\\frac{F_{drag,z}}{m} = - C_D v v_z\n",
    "\\end{align}\n",
    "$$"
   ]
  },
  {
   "cell_type": "markdown",
   "metadata": {},
   "source": [
    "A typical value for a 149 gram baseball is $C_D = 6 \\times 10^{-3}$ (Adair, 1990)."
   ]
  },
  {
   "cell_type": "markdown",
   "metadata": {
    "slideshow": {
     "slide_type": "slide"
    }
   },
   "source": [
    "## Effects of spin"
   ]
  },
  {
   "cell_type": "markdown",
   "metadata": {
    "slideshow": {
     "slide_type": "fragment"
    }
   },
   "source": [
    "We've seen air drag can considerable change the range of a projectile - and is true for both cannon shells and baseballs. In addition, it turns out that *spin* can radically affect the trajectory of projectile. This is called the Magnus effect or Magnus Force.\n",
    "\n"
   ]
  },
  {
   "cell_type": "markdown",
   "metadata": {
    "slideshow": {
     "slide_type": "slide"
    }
   },
   "source": [
    "### Magnus Force"
   ]
  },
  {
   "cell_type": "markdown",
   "metadata": {},
   "source": [
    "* [What Is The Magnus Force?](https://www.youtube.com/watch?v=23f1jvGUWJs)\n",
    "\n"
   ]
  },
  {
   "cell_type": "code",
   "execution_count": null,
   "metadata": {
    "slideshow": {
     "slide_type": "slide"
    }
   },
   "outputs": [],
   "source": [
    "from IPython.display import YouTubeVideo\n",
    "\n",
    "YouTubeVideo(\"23f1jvGUWJs\")"
   ]
  },
  {
   "cell_type": "markdown",
   "metadata": {
    "slideshow": {
     "slide_type": "fragment"
    }
   },
   "source": [
    "Let's model this so-called Magnus force and add it in to our computational model for projectile motion.  Consider the drag acting on either side of a spinning ball rotating at a angular velocity $\\omega$.\n",
    "\n",
    "<a title=\"Rdurkacz [CC BY-SA 3.0 (https://creativecommons.org/licenses/by-sa/3.0)], via Wikimedia Commons\" href=\"https://commons.wikimedia.org/wiki/File:Sketch_of_Magnus_effect_with_streamlines_and_turbulent_wake.svg\"><img width=\"512\" alt=\"Sketch of Magnus effect with streamlines and turbulent wake\" src=\"https://upload.wikimedia.org/wikipedia/commons/thumb/1/15/Sketch_of_Magnus_effect_with_streamlines_and_turbulent_wake.svg/512px-Sketch_of_Magnus_effect_with_streamlines_and_turbulent_wake.svg.png\"></a>\n",
    "\n",
    "We know that $F_{drag}$ depends on the relative velocity of the ball with the air.  When the ball is spinning, one side is moving faster and one side is moving slower relative to the air. Hence, the drag forces on each side are not the same."
   ]
  },
  {
   "cell_type": "markdown",
   "metadata": {
    "slideshow": {
     "slide_type": "slide"
    }
   },
   "source": [
    "The details of calculating the Magnus force directly is beyond the scope of this course (requires Fluid Dynamics) but we can understand the functional form of the Magnus force.\n",
    "\n",
    "The drag force is proportional to the square of the relative velocity. On the one side this is  $(v + r \\omega))^2$ while on the other it is $(v - r\\omega)^2$.  The Magnus force is proportional to the difference between these two terms:\n",
    "\n",
    "$$ F_m \\propto (v+r\\omega)^2 - (v-r\\omega)^2 \\sim v r \\omega\\;.$$"
   ]
  },
  {
   "cell_type": "markdown",
   "metadata": {
    "slideshow": {
     "slide_type": "slide"
    }
   },
   "source": [
    "So the next spin-dependent force should have a functional form like\n",
    "\n",
    "$$ \\frac{F_M}{m}= C_M \\omega v_x $$\n",
    "\n",
    "For a thrown baseball, we can assume that the velocity is predominantly in the $x$-direction. So the Magnus force will act in direction perpendicular to both the $x$-direction and the axis of rotation.   \n",
    "\n",
    "In the fully general case, we would need to consider a cross-product like \n",
    "\n",
    "$$\\frac{\\vec{F}_M}{m} = C_M \\vec{\\omega} \\times \\vec{v}$$\n",
    "\n",
    "for the Magnus effect."
   ]
  },
  {
   "cell_type": "markdown",
   "metadata": {
    "slideshow": {
     "slide_type": "slide"
    }
   },
   "source": [
    "The coefficient $C_M$ is an experimentally determined parameter.  For a $m=149$ g baseball, *Adair (1990)* quotes a value of $C_M \\approx 4.1 \\times 10^{-4}$. "
   ]
  },
  {
   "cell_type": "markdown",
   "metadata": {},
   "source": [
    "Another way to understand the Magnus effect is how it was explained in the video. With a spinning ball, the air is deflected around the ball. So there is a force on the air by the ball. By Newton's third law there is an equal yet opposite force on the ball by the air. \n",
    "\n",
    "<a title=\"MatSouffNC858s [CC BY-SA 4.0 (https://creativecommons.org/licenses/by-sa/4.0)], via Wikimedia Commons\" href=\"https://commons.wikimedia.org/wiki/File:Magnus-anim-canette.gif\"><img width=\"512\" alt=\"Magnus-anim-canette\" src=\"https://upload.wikimedia.org/wikipedia/commons/f/f0/Magnus-anim-canette.gif\"></a>"
   ]
  },
  {
   "cell_type": "markdown",
   "metadata": {
    "slideshow": {
     "slide_type": "slide"
    }
   },
   "source": [
    "To add the effect of the Magnus force into our numerical solution to investigate the dynamics of a curve ball we need to think about our trajectory in all three dimensions.  \n",
    "\n",
    "The total force on the baseball is given by\n",
    "\n",
    "$$ \\frac{\\vec{F}}{m} = \\vec{g} - C_D |\\vec{v}| \\vec{v} + C_M \\left( \\vec{\\omega} \\times \\vec{v} \\right) $$\n",
    "\n",
    "The complete equations of motion are\n",
    "\n",
    "\n",
    "\\begin{align}\n",
    "\\frac{d x}{dt} &= v_x \\\\\n",
    "\\frac{d y}{dt} &= v_y \\\\\n",
    "\\frac{d z}{dt} &= v_z \\\\\n",
    "\\frac{d v_x}{dt} &= - C_D v v_x + C_M \\left(\\omega_y v_z - \\omega_z v_y\\right)\\\\\n",
    "\\frac{d v_y}{dt} &= - C_D v v_y + C_M \\left(\\omega_z v_x - \\omega_x v_z\\right) \\\\ \n",
    "\\frac{d v_z}{dt} &= - C_D v v_z + C_M \\left(\\omega_x v_y - \\omega_y v_x\\right) - g\n",
    "\\end{align}\n",
    "\n",
    "Here, the positive $z$-axis is taken as the vertical direction (up) direction.\n",
    "\n"
   ]
  },
  {
   "cell_type": "markdown",
   "metadata": {
    "slideshow": {
     "slide_type": "slide"
    }
   },
   "source": [
    "## Code with rotation\n",
    "\n",
    "Using Euler's method once again gives us the following code. Air drag forces and the Magnus forces are included all three directions."
   ]
  },
  {
   "cell_type": "code",
   "execution_count": null,
   "metadata": {},
   "outputs": [],
   "source": [
    "def BaseballStepper(dt=0.01, \n",
    "                        x0=0, y0=0, z0=3,\n",
    "                        vx0=10, vy0=0, vz0=0,\n",
    "                        ωx=0, ωy=0, ωz=0,\n",
    "                        tmax=4):\n",
    "    \"\"\"\n",
    "    Solve for the motion of a spinning baseball with air drag using Euler's method\n",
    "    \n",
    "    x, y, z are the positions\n",
    "    vx, vy, vz are the velocity components\n",
    "    ωx, ωy, ωz are components of the angular velocity vector\n",
    "    \"\"\"\n",
    "    \n",
    "    # initialize the model\n",
    "    t = 0\n",
    "    x = x0\n",
    "    y = y0\n",
    "    z = z0\n",
    "    vx = vx0\n",
    "    vy = vy0\n",
    "    vz = vz0\n",
    "    \n",
    "    while True:\n",
    "        model = {'t': t, \n",
    "                 'x': x, 'y': y, 'z': z,\n",
    "                 'vx': vx, 'vy': vy, 'vz': vz}\n",
    "        yield model # return the model state back to the caller\n",
    "    \n",
    "        if t > tmax:\n",
    "            break\n",
    "        if z < 0: # stop if the ball hits the ground\n",
    "            break\n",
    "            \n",
    "        # drag forces (per unit mass)\n",
    "        v = np.sqrt(vx**2+vy**2+vz**2)\n",
    "        # drag coefficient depends on speed\n",
    "        CD = baseball_drag(v)\n",
    "        Fdrag_x = -CD * v * vx\n",
    "        Fdrag_y = -CD * v * vy\n",
    "        Fdrag_z = -CD * v * vz\n",
    "        \n",
    "        # Magnus forces (per unit mass)\n",
    "        CM = 4.1e-4\n",
    "        Fmagnus_x = CM * (ωy*vz - ωz*vy)\n",
    "        Fmagnus_y = CM * (ωz*vx - ωx*vz)\n",
    "        Fmagnus_z = CM * (ωx*vy - ωy*vx)\n",
    "        \n",
    "        # net force (per unit mass)\n",
    "        g = 9.81\n",
    "        Fnet_x = Fdrag_x + Fmagnus_x\n",
    "        Fnet_y = Fdrag_y + Fmagnus_y\n",
    "        Fnet_z = Fdrag_z + Fmagnus_z - g\n",
    "        \n",
    "        # use the Euler algorithm to update the state of the model\n",
    "        x = x + vx*dt\n",
    "        y = y + vy*dt\n",
    "        z = z + vz*dt\n",
    "        vx = vx + Fnet_x * dt\n",
    "        vy = vy + Fnet_y * dt\n",
    "        vz = vz + Fnet_z * dt\n",
    "        t = t + dt"
   ]
  },
  {
   "cell_type": "code",
   "execution_count": null,
   "metadata": {},
   "outputs": [],
   "source": [
    "def BaseballApp(ωx=0, ωy=0, ωz=0):\n",
    "    \n",
    "    # initial position\n",
    "    x0 = 0\n",
    "    y0 = 0\n",
    "    z0 = 2 # m\n",
    "    \n",
    "    # initial velocity\n",
    "    angle0 = 0 # degrees\n",
    "    θ0 = np.deg2rad(angle0) # radians\n",
    "    v0 = 50 # m/s (about 110 mph)\n",
    "    \n",
    "    vx0 = v0 * np.cos(θ0)\n",
    "    vy0 = 0\n",
    "    vz0 = v0 * np.sin(θ0)\n",
    "    \n",
    "    tmax = 10 # s\n",
    "        \n",
    "    # set up the model\n",
    "    model = BaseballStepper(x0=x0, y0=y0, z0=z0,\n",
    "                                vx0=vx0, vy0=vy0, vz0=vz0,\n",
    "                                ωx=ωx, ωy=ωy, ωz=ωz,\n",
    "                                tmax=tmax)\n",
    "    \n",
    "    # iterate the model\n",
    "    ball = pd.DataFrame(model)\n",
    "\n",
    "    # plot the results\n",
    "    BaseballPlot(ball)\n",
    "\n",
    "    return ball"
   ]
  },
  {
   "cell_type": "code",
   "execution_count": null,
   "metadata": {},
   "outputs": [],
   "source": [
    "def BaseballPlot(ball):\n",
    "    \n",
    "    fig, axs = plt.subplots(1,3, figsize=(16, 4))\n",
    "    axs[0].plot(ball.x, ball.z)\n",
    "    axs[0].set_xlabel('x (m)')\n",
    "    axs[0].set_ylabel('z (m)')\n",
    "    axs[0].axvline(0, color='r')\n",
    "    axs[0].axhline(0, color='k')\n",
    "    axs[0].set_title('Side View')\n",
    "        \n",
    "    axs[1].plot(ball.x, ball.y)\n",
    "    axs[1].set_xlabel('x (m)')\n",
    "    axs[1].set_ylabel('y (m)')\n",
    "    axs[1].axvline(0, color='r')\n",
    "    axs[1].axhline(0, color='b')\n",
    "    axs[1].set_title('Top Down View')\n",
    "    \n",
    "    axs[2].plot(ball.y, ball.z)\n",
    "    axs[2].set_xlabel('y (m)')\n",
    "    axs[2].set_ylabel('z (m)')\n",
    "    axs[2].axvline(0, color='b')\n",
    "    axs[2].axhline(0, color='k')\n",
    "    axs[2].set_title('Front View')\n",
    "    \n"
   ]
  },
  {
   "cell_type": "markdown",
   "metadata": {},
   "source": [
    "Investigate the behaviour of throwing a baseball with different amounts of spin alng different axes."
   ]
  },
  {
   "cell_type": "code",
   "execution_count": null,
   "metadata": {},
   "outputs": [],
   "source": [
    "interactive(BaseballApp, \n",
    "            ωx=(-1000, 1000, 20),\n",
    "            ωy=(-1000, 1000, 20),\n",
    "            ωz=(-1000, 1000, 20)\n",
    "           )"
   ]
  },
  {
   "cell_type": "markdown",
   "metadata": {},
   "source": [
    "### 3D Plotting"
   ]
  },
  {
   "cell_type": "code",
   "execution_count": null,
   "metadata": {},
   "outputs": [],
   "source": [
    "# This import registers the 3D projection, but is otherwise unused.\n",
    "from mpl_toolkits.mplot3d import Axes3D\n",
    "\n",
    "def Baseball3DPlotApp(ωx=0, ωy=0, ωz=0):\n",
    "    fig = plt.figure(figsize=(8,8))\n",
    "    ax = fig.gca(projection='3d')\n",
    "\n",
    "    ball = BaseballApp(ωx=ωx, ωy=ωy, ωz=ωz)\n",
    "    ax.plot(ball.x, ball.y, ball.z, color='b')\n",
    "    ax.plot(ball.x, ball.y, zs=0, zdir='z', color='k')\n",
    "    ax.plot(ball.y, ball.z, zs=0, zdir='x', color='k')\n",
    "    \n",
    "    ax.set_xlabel('x (m)')\n",
    "    ax.set_ylabel('y (m)')\n",
    "    ax.set_zlabel('z (m)')\n",
    "    \n",
    "interactive(Baseball3DPlotApp, \n",
    "            ωx=(-1000, 1000, 20),\n",
    "            ωy=(-1000, 1000, 20),\n",
    "            ωz=(-1000, 1000, 20)\n",
    "           )"
   ]
  },
  {
   "cell_type": "markdown",
   "metadata": {
    "slideshow": {
     "slide_type": "slide"
    }
   },
   "source": [
    "YouTube video:\n",
    "\n",
    "* [Surprising Applications of the Magnus Effect](https://www.youtube.com/watch?v=2OSrvzNW9FE )"
   ]
  },
  {
   "cell_type": "code",
   "execution_count": null,
   "metadata": {},
   "outputs": [],
   "source": [
    "YouTubeVideo(\"2OSrvzNW9FE\")"
   ]
  },
  {
   "cell_type": "markdown",
   "metadata": {},
   "source": [
    "- - -\n",
    "### Textbook readings\n",
    "\n",
    "This lecture is related CSM Chapter 3:\n",
    "\n",
    "- 3.10 Visualizing Three-Dimensional Motion\n",
    "\n",
    "but you may ignore the material on the \"Open Source Physics 3D drawing framework\" and focus on the discussion of the Magnus effect that starts on the middle of page 73. \n",
    "\n",
    "### DataCamp exercises\n",
    "\n",
    "To learn more about Python, work through the following [DataCamp](http://datacamp.com) chapters:\n",
    "- Introduction to Python: Python Basics\n",
    "- Introduction to Python: Functions and Packages \n",
    "- Introduction to Python: NumPy \n",
    "- Intermediate Python for Data Science: Matplotlib \n",
    "- Intermediate Python for Data Science: Logic, Control Flow and Filtering \n",
    "- Intermediate Python for Data Science: Loops\n",
    "\n",
    "These tutorials remains available until the end of the course.\n",
    "\n",
    "### Assignment 1\n",
    "\n",
    "Results...\n",
    "\n",
    "### Assignment 2\n",
    "\n",
    "You should be working on Assignment 2 now (due Sunday Sept. 29).  Those two problems are taken directly from the textbook, so reviewing the textbook could be useful. Also, you probably want to start from the code we developed in the corresponding lectures.\n",
    "\n",
    "Please let me know if you want to meet to discuss this assignment via Zoom either 1-on-1 or with a group.\n",
    "\n",
    "### Lab 1\n",
    "\n",
    "Results...\n",
    "\n",
    "### Lab 2\n",
    "\n",
    "Please ask for help! Especially from me!"
   ]
  },
  {
   "cell_type": "markdown",
   "metadata": {},
   "source": [
    "- - -"
   ]
  }
 ],
 "metadata": {
  "kernelspec": {
   "display_name": "Python 3",
   "language": "python",
   "name": "python3"
  },
  "language_info": {
   "codemirror_mode": {
    "name": "ipython",
    "version": 3
   },
   "file_extension": ".py",
   "mimetype": "text/x-python",
   "name": "python",
   "nbconvert_exporter": "python",
   "pygments_lexer": "ipython3",
   "version": "3.6.7"
  }
 },
 "nbformat": 4,
 "nbformat_minor": 2
}
