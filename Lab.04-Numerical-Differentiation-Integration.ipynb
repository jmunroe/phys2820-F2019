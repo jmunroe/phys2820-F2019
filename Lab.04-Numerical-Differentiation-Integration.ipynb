{
 "cells": [
  {
   "cell_type": "code",
   "execution_count": null,
   "metadata": {},
   "outputs": [],
   "source": [
    "%matplotlib inline\n",
    "import numpy as np\n",
    "import matplotlib.pyplot as plt\n",
    "import pandas as pd"
   ]
  },
  {
   "cell_type": "markdown",
   "metadata": {},
   "source": [
    "# Numerical Differentiation and Integration\n",
    "## Lab 6"
   ]
  },
  {
   "cell_type": "markdown",
   "metadata": {},
   "source": [
    "#### Instructions:\n",
    "Skim through the entire lab before beginning.  Read the text carefully and complete the steps as indicated. Sample code for you to start with is given for several questions. Copy and paste it in the corresponding `# your code here` code cells and then modify as necessary."
   ]
  },
  {
   "cell_type": "markdown",
   "metadata": {},
   "source": [
    "### In this section, we will explore the accurary of taking derivatives numerically."
   ]
  },
  {
   "cell_type": "markdown",
   "metadata": {},
   "source": [
    "a)  Define the mathematical function \n",
    "\n",
    "$$g(x)=e^{-\\cos(x)}$$  \n",
    "\n",
    "as the Python function `g(x)`.\n",
    "\n",
    "*Hint: write a function with a single argument `x` that returns the composition of np.exp() and np.cos()*\n",
    "\n",
    "    def g(x):\n",
    "        return BLANK\n",
    "       "
   ]
  },
  {
   "cell_type": "code",
   "execution_count": null,
   "metadata": {},
   "outputs": [],
   "source": [
    "# your code here\n"
   ]
  },
  {
   "cell_type": "markdown",
   "metadata": {},
   "source": [
    "Plot this function from $x=0$ to $x=2$.  "
   ]
  },
  {
   "cell_type": "code",
   "execution_count": null,
   "metadata": {},
   "outputs": [],
   "source": [
    "# your code here\n",
    "\n",
    "plt.xlabel('$x$')\n",
    "plt.ylabel('$g(x)$')\n",
    "plt.show()"
   ]
  },
  {
   "cell_type": "markdown",
   "metadata": {},
   "source": [
    "Evaluate $dg/dx$ by hand (i.e. with pen and paper) and then create a new function called `dgdx(x)` that implements this first derivative."
   ]
  },
  {
   "cell_type": "markdown",
   "metadata": {},
   "source": [
    "$$\\frac{dg}{dx} = $$\n",
    "\n",
    "     def dgdx(x):\n",
    "        return BLANK"
   ]
  },
  {
   "cell_type": "code",
   "execution_count": null,
   "metadata": {},
   "outputs": [],
   "source": [
    "# your code here\n"
   ]
  },
  {
   "cell_type": "markdown",
   "metadata": {},
   "source": [
    "Use the function `dgdx(x)` to compute $dg/dx$ at $x=1.3$ and store the result in a variable called `exact`. Print out this value."
   ]
  },
  {
   "cell_type": "code",
   "execution_count": null,
   "metadata": {},
   "outputs": [],
   "source": [
    "# your code here\n"
   ]
  },
  {
   "cell_type": "markdown",
   "metadata": {},
   "source": [
    "b) Write a function that numerically calculates the derivative of an inputted function at a given point, using the forward difference approximation.  The 3 arguments of your function should be function to be differentiated, point at which to evaluate the derivative, and stepsize.  \n",
    "\n",
    "    def diff_forward( BLANK, BLANK, BLANK  ):  \n",
    "        return (f(x + h) - f(x)) / h\n",
    "        \n",
    "*Hint: the first argument will be the **name** of the function only*"
   ]
  },
  {
   "cell_type": "code",
   "execution_count": null,
   "metadata": {},
   "outputs": [],
   "source": [
    "# your code here\n"
   ]
  },
  {
   "cell_type": "markdown",
   "metadata": {},
   "source": [
    "Use your forward difference function to estimate $dg/dx$ at $x=1.3$ using a stepsize of $h=0.1$.  Store this result in a variable called `approx` and print out this value."
   ]
  },
  {
   "cell_type": "code",
   "execution_count": null,
   "metadata": {},
   "outputs": [],
   "source": [
    "# your code here\n"
   ]
  },
  {
   "cell_type": "markdown",
   "metadata": {},
   "source": [
    "What is the relative error? Print it this value.\n",
    "\n",
    "    relerror = np.abs((approx - exact)/exact)"
   ]
  },
  {
   "cell_type": "code",
   "execution_count": null,
   "metadata": {},
   "outputs": [],
   "source": [
    "# your code here\n"
   ]
  },
  {
   "cell_type": "markdown",
   "metadata": {},
   "source": [
    "c)  Plot the absolute value of the relative error on a double log plot for your forward difference scheme as a function of $h$, with $h$ ranging from 0.1 to 10$^{-12}$ in multiplicative steps of 0.1.  Use logarthmmic axes for both $h$ and the error.  Note the minimum that appears as $h$ becomes very small.\n"
   ]
  },
  {
   "cell_type": "markdown",
   "metadata": {},
   "source": [
    "> Hint: Here is a method of plotting $y=x^2$ on a logarithmic scale.  You will need to plot the relative error as a function of $h$.\n",
    "\n",
    "    n = 6\n",
    "    x = np.zeros(n)\n",
    "    y = np.zeros(n)\n",
    "    for i in range(n):\n",
    "        x[i] = 10**(-i)\n",
    "        y[i] = x[i]**2\n",
    "    \n",
    "    plt.loglog(x, y, 'o-')\n",
    "    plt.show()"
   ]
  },
  {
   "cell_type": "code",
   "execution_count": null,
   "metadata": {},
   "outputs": [],
   "source": [
    "# your code here\n"
   ]
  },
  {
   "cell_type": "markdown",
   "metadata": {},
   "source": [
    "For approximately what value of h is the most accurate value of the derivative obtained?"
   ]
  },
  {
   "cell_type": "markdown",
   "metadata": {},
   "source": [
    "Answer: we get the most accurate answer when h is ____\n"
   ]
  },
  {
   "cell_type": "markdown",
   "metadata": {},
   "source": [
    "### In this section we will numerically differentiate and integrate discrete data.  \n"
   ]
  },
  {
   "cell_type": "markdown",
   "metadata": {},
   "source": [
    "a) First we shall generate some synthetic data with two columns: one for time in s, the other for velocity in m/s with some noise.\n",
    "\n",
    "*(Nothing to change here, just run the code cell)*"
   ]
  },
  {
   "cell_type": "code",
   "execution_count": null,
   "metadata": {},
   "outputs": [],
   "source": [
    "t = np.arange(0, 2.05, 0.05)\n",
    "v = 6.2 - 9.8 * t + np.random.normal(0, 0.3, len(t))\n",
    "data = pd.DataFrame({'t':t, 'v':v})\n",
    "\n",
    "plt.plot(data.t, data.v, '.')\n",
    "plt.xlabel(\"t (s)\")\n",
    "plt.ylabel(\"v (m/s)\")\n",
    "plt.show()"
   ]
  },
  {
   "cell_type": "markdown",
   "metadata": {},
   "source": [
    "b) Write a function that calculates the accleration (first derivative) for data in an array, using a **centred difference** scheme.  Use your function to generate an array containing time and acceleration.  \n",
    "\n",
    "*Hint: your function will be something like:*\n",
    "\n",
    "    def a(data, i):  \n",
    "        return (BLANK[i + 1] - data.v[BLANK]) / (data.t[BLANK] - BLANK[i - 1])\n",
    "        "
   ]
  },
  {
   "cell_type": "code",
   "execution_count": null,
   "metadata": {},
   "outputs": [],
   "source": [
    "# your code here\n"
   ]
  },
  {
   "cell_type": "markdown",
   "metadata": {},
   "source": [
    "Make a graph of the acceleration as a function of time.  The graph should be fairly noisy.\n",
    "\n",
    "    data['a'] = np.nan\n",
    "    for i in range(BLANK, BLANK):\n",
    "        data['a'][i] = BLANK\n",
    "\n",
    "    plt.plot(data.t, data.a, 'o-')\n",
    "    plt.xlabel(\"t (s)\")\n",
    "    plt.ylabel(\"a (m/s^2)\")\n",
    "    plt.ylim(-15, 5)\n",
    "    plt.show()"
   ]
  },
  {
   "cell_type": "code",
   "execution_count": null,
   "metadata": {},
   "outputs": [],
   "source": [
    "# your code here\n"
   ]
  },
  {
   "cell_type": "markdown",
   "metadata": {},
   "source": [
    "What is the mean acceleration?\n",
    "\n",
    "    np.mean(BLANK)"
   ]
  },
  {
   "cell_type": "code",
   "execution_count": null,
   "metadata": {},
   "outputs": [],
   "source": [
    "# your code here\n"
   ]
  },
  {
   "cell_type": "markdown",
   "metadata": {},
   "source": [
    "Answer:  Mean velocity is ____ m/s$^2$."
   ]
  },
  {
   "cell_type": "markdown",
   "metadata": {},
   "source": [
    "c) Using the trapezoid rule, write a function that integrates an array of velocity data, from the beginning up to an arbitrary end point (that is, up to and including index `k`), in order to determine the displacement. \n",
    "\n",
    "Fill in the blanks:\n",
    "\n",
    "    def trapezoid_rule(data, k):  \n",
    "        deltax = data.t[1] - data.t[0]  \n",
    "        sum = 0  \n",
    "\n",
    "        if k==0:\n",
    "            return sum\n",
    "\n",
    "        sum += deltax / 2 * (BLANK + BLANK)  \n",
    "        for i in range(BLANK, BLANK):  \n",
    "            sum += BLANK\n",
    "\n",
    "        return sum"
   ]
  },
  {
   "cell_type": "code",
   "execution_count": null,
   "metadata": {},
   "outputs": [],
   "source": [
    "# your code here\n"
   ]
  },
  {
   "cell_type": "markdown",
   "metadata": {},
   "source": [
    " Integrate the velocity data to find the displacement as a  function of time assuming initial displacement is zero. \n",
    " \n",
    "    data['y'] = np.nan\n",
    "    for k in range(BLANK):\n",
    "        data.y[k] = trapezoid_rule(data, BLANK)\n",
    "\n",
    "    plt.plot(BLANK, BLANK, '.-')\n",
    "    plt.ylabel(\"y(m)\")\n",
    "    plt.xlabel(\"t (s)\")\n",
    "    plt.show()"
   ]
  },
  {
   "cell_type": "code",
   "execution_count": null,
   "metadata": {},
   "outputs": [],
   "source": [
    "# your code here\n"
   ]
  },
  {
   "cell_type": "markdown",
   "metadata": {},
   "source": [
    "What is the final displacement (at $t=2.00$ s)?"
   ]
  },
  {
   "cell_type": "code",
   "execution_count": null,
   "metadata": {},
   "outputs": [],
   "source": [
    "# your code here\n"
   ]
  },
  {
   "cell_type": "markdown",
   "metadata": {},
   "source": [
    "Answer: Final displacement is ____ m"
   ]
  },
  {
   "cell_type": "markdown",
   "metadata": {},
   "source": [
    "You should notice that taking the dervative (finding the acceleration) is a noisy operation that increases the variability compared to the velocity data.  However, taking the integration (finding the displacement) is a smoothing operation that decreases the variability compared to the velocity data."
   ]
  }
 ],
 "metadata": {
  "anaconda-cloud": {},
  "kernelspec": {
   "display_name": "Python 3",
   "language": "python",
   "name": "python3"
  },
  "language_info": {
   "codemirror_mode": {
    "name": "ipython",
    "version": 3
   },
   "file_extension": ".py",
   "mimetype": "text/x-python",
   "name": "python",
   "nbconvert_exporter": "python",
   "pygments_lexer": "ipython3",
   "version": "3.6.7"
  }
 },
 "nbformat": 4,
 "nbformat_minor": 4
}
