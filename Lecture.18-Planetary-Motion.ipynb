{
 "cells": [
  {
   "cell_type": "code",
   "execution_count": 27,
   "metadata": {},
   "outputs": [],
   "source": [
    "%matplotlib inline\n",
    "import numpy as np\n",
    "import pandas as pd\n",
    "import matplotlib.pyplot as plt"
   ]
  },
  {
   "cell_type": "markdown",
   "metadata": {},
   "source": [
    "# Planetary Motion\n",
    "## Lecture 18"
   ]
  },
  {
   "cell_type": "markdown",
   "metadata": {},
   "source": [
    "The motion of the planets has played a key role in the developing our mechanical view of the universe.   The theories of Newton's laws of motion and law of gravity show how motions across the Solar System and here are Earth are fundamentally equivalent."
   ]
  },
  {
   "cell_type": "markdown",
   "metadata": {},
   "source": [
    "## Kepler's three laws:\n",
    "\n",
    "1. Each planet moves in an elliptical orbit with the Sun located at one of the foci of the ellipse.\n",
    "\n",
    "2. The speed of a planet increases as its distance from the Sun decreases such that the line from the Sun to the planet sweeps out equal areas in equal times.\n",
    "\n",
    "3. The ratio $T^2/a^3$ is the same for all planets that orbit the Sun, where $T$ is the period of the planet and $a$ is the semimajor axis of the ellipse."
   ]
  },
  {
   "cell_type": "markdown",
   "metadata": {},
   "source": [
    "Kepler's Laws based on careful observation over many year by Tycho Brahe."
   ]
  },
  {
   "cell_type": "markdown",
   "metadata": {},
   "source": [
    "The first and third law describe the shape of orbits but not an explicit relation of position and velocity as function of time.  In this lecture we will determine numerical solutions to the equation of motion for the planets."
   ]
  },
  {
   "cell_type": "markdown",
   "metadata": {},
   "source": [
    "## The Equations of Motion"
   ]
  },
  {
   "cell_type": "markdown",
   "metadata": {},
   "source": [
    "The motion of the Sun and the Earth is a *two-body problem* where the force of gravity is acting between them."
   ]
  },
  {
   "cell_type": "markdown",
   "metadata": {},
   "source": [
    "Since the mass of the Sun, $M = 1.99 \\times 10^{30}$ kg is much more massive than the Earth, $m = 5.99 \\times 10^{24}$, it is reasonable to assume that the Sun is stationary with the Earth moving around it.\n",
    "\n",
    "This reduces the problem to a *one-body problem* where we consider the motion of a single particle of mass $m$ moving about a fixed center of force, which we take as the origin of the coordinate system.\n"
   ]
  },
  {
   "cell_type": "markdown",
   "metadata": {},
   "source": [
    "**Newton's university law graviation**\n",
    "\n",
    "$$ F = - \\frac{G M m} {r^2}\\hat{r} = -\\frac{GMm}{r^3}\\vec{r},$$ \n",
    "\n",
    "where $\\vec{r}$ is the vector directed from $M$ to $m$.\n",
    "\n",
    "- negative sign indicate gravity is attractive\n",
    "- force decreases with separation distance $r$\n",
    "\n",
    "**Gravitational constant $G$**\n",
    "\n",
    "$$ G = 6.67 \\times 10^{-11}\\;\\frac{\\mbox{m}^3}{\\mbox{kg}\\cdot\\mbox{s}^2} $$\n",
    "\n",
    "#### Properties of gravitational force\n",
    "\n",
    "- Magnitude depends only on separation of particles; direction along line joining particles: *central force*\n",
    "  - orbit of the Earth restricted to a plane ($x-y$)\n",
    "  - angular momentum $L$ is conserved and lies in the third ($z$) direction\n",
    "  $$ L_z = ( r \\times mv )_z = m (x v_y - y v_x) $$\n",
    "- Total energy $E$ is conserved\n",
    "  $$ E = \\frac{1}{2} m v^2 - \\frac{G M m}{r} $$"
   ]
  },
  {
   "cell_type": "markdown",
   "metadata": {},
   "source": [
    "Putting the mass $M$ at the origin of our coordinate system, the equation of motion of mass $m$ is\n",
    "\n",
    "$$ m \\frac{d^2\\vec{r}}{dt^2} = - \\frac{G M m}{r^3} \\vec{r}.$$"
   ]
  },
  {
   "cell_type": "markdown",
   "metadata": {},
   "source": [
    "We can rewrite our force in Cartesian coordinates:\n",
    "\n",
    "$$\n",
    "\\begin{align}\n",
    "F_x &= - \\frac{G M m}{r^2} \\cos\\theta = - \\frac{G M m}{r^3}x \\\\ \n",
    "F_y &= - \\frac{G M m}{r^2} \\sin\\theta = - \\frac{G M m}{r^3}y \n",
    "\\end{align}\n",
    "$$"
   ]
  },
  {
   "cell_type": "markdown",
   "metadata": {},
   "source": [
    "which gives of equations of motion\n",
    "\n",
    "\\begin{align}\n",
    "\\frac{d^2x}{dt^2} &= \\frac{G M}{r^3}x \\\\\n",
    "\\frac{d^2y}{dt^2} &= \\frac{G M}{r^3}y\n",
    "\\end{align}\n",
    "\n",
    "where $r^2 = x^2 + y^2$."
   ]
  },
  {
   "cell_type": "markdown",
   "metadata": {},
   "source": [
    "## Simulation of the Orbit"
   ]
  },
  {
   "cell_type": "markdown",
   "metadata": {},
   "source": [
    "To solve this system, we rewrite each of these second order differential equations as two\n",
    "first-order differential equations.\n",
    "\n",
    "\\begin{align}\n",
    "\\frac{d v_x}{dt} &= - \\frac{G M}{r^3} x \\\\\n",
    "\\frac{d x}{dt} &= v_x \\\\\n",
    "\\frac{d v_y}{dt} &= - \\frac{G M}{r^3} y \\\\\n",
    "\\frac{d y}{dt} &= v_y \n",
    "\\end{align}\n",
    "\n",
    "We can then solve these equations numerically."
   ]
  },
  {
   "cell_type": "code",
   "execution_count": 2,
   "metadata": {},
   "outputs": [],
   "source": [
    "def RK4Stepper( F = lambda s, t, p: s,  \n",
    "                s0 = [],\n",
    "                t0 = 0,\n",
    "                p = [],\n",
    "                dt = 0.1, \n",
    "                tmax = 1,\n",
    "                ):\n",
    "    \"\"\" \n",
    "    Solve the system \n",
    "    \n",
    "      ds/dt = F(s, t; p)\n",
    "      s(t0) = s0\n",
    "      \n",
    "    where s is a state vector dictionary\n",
    "      and p are any required parameters\n",
    "    \n",
    "    using a time step dt up to tmax\n",
    "    \n",
    "    yields back the dictionary r (current state and time)\n",
    "    \"\"\"\n",
    "\n",
    "    s = np.array(s0)\n",
    "    t = t0\n",
    "\n",
    "    while t < tmax:\n",
    "        r = list(s)\n",
    "        r.append(t)\n",
    "        yield r\n",
    "              \n",
    "        ds1 = F(s, t, p)\n",
    "        s1 = s + ds1*dt/2\n",
    "        ds2 = F(s1, t + dt/2, p)\n",
    "        s2 = s + ds2*dt/2\n",
    "        ds3 = F(s2, t + dt/2, p)\n",
    "        s3 = s + ds3*dt\n",
    "        ds4 = F(s3, t + dt, p)\n",
    "        s = s + (ds1 + 2*ds2 + 2*ds3 + ds4)/6*dt\n",
    "        \n",
    "        t = t + dt"
   ]
  },
  {
   "cell_type": "code",
   "execution_count": 3,
   "metadata": {},
   "outputs": [],
   "source": [
    "def Fplanet(s, t, p):\n",
    "    x, y, vx, vy = s\n",
    "    \n",
    "    GM, = p\n",
    "    \n",
    "    r = np.sqrt(x**2 + y**2)\n",
    "    dsdt = [vx,\n",
    "            vy,\n",
    "            - GM/r**3 * x,\n",
    "            - GM/r**3 * y,\n",
    "            ]\n",
    "    return np.array(dsdt)"
   ]
  },
  {
   "cell_type": "code",
   "execution_count": 4,
   "metadata": {},
   "outputs": [],
   "source": [
    "def PlanetApp(x0=149.6e9, # m\n",
    "              y0 = 0,\n",
    "              vx0 = 0,\n",
    "              vy0 = (2*np.pi*149.6e9)/(60*60*24*365), # m/s\n",
    "              tmax = 60*60*24*365, # one year\n",
    "              dt = 60*60*24 # one day\n",
    "              ):\n",
    "        \n",
    "    s0 = [x0, y0, vx0, vy0]\n",
    "    \n",
    "    G = 6.67e-11\n",
    "    M = 1.99e30 # GM\n",
    "    GM = G*M\n",
    "    p = [GM] \n",
    "    \n",
    "    stepper = RK4Stepper(Fplanet, s0=s0, p=p,\n",
    "                              tmax=tmax, dt=dt)\n",
    "    \n",
    "    data = pd.DataFrame(stepper, \n",
    "                        columns = ['x', 'y', 'vx', 'vy','t'])\n",
    "    return data"
   ]
  },
  {
   "cell_type": "code",
   "execution_count": 5,
   "metadata": {},
   "outputs": [
    {
     "data": {
      "text/html": [
       "<div>\n",
       "<style scoped>\n",
       "    .dataframe tbody tr th:only-of-type {\n",
       "        vertical-align: middle;\n",
       "    }\n",
       "\n",
       "    .dataframe tbody tr th {\n",
       "        vertical-align: top;\n",
       "    }\n",
       "\n",
       "    .dataframe thead th {\n",
       "        text-align: right;\n",
       "    }\n",
       "</style>\n",
       "<table border=\"1\" class=\"dataframe\">\n",
       "  <thead>\n",
       "    <tr style=\"text-align: right;\">\n",
       "      <th></th>\n",
       "      <th>x</th>\n",
       "      <th>y</th>\n",
       "      <th>vx</th>\n",
       "      <th>vy</th>\n",
       "      <th>t</th>\n",
       "    </tr>\n",
       "  </thead>\n",
       "  <tbody>\n",
       "    <tr>\n",
       "      <th>0</th>\n",
       "      <td>1.496000e+11</td>\n",
       "      <td>0.000000e+00</td>\n",
       "      <td>0.000000</td>\n",
       "      <td>29806.079463</td>\n",
       "      <td>0</td>\n",
       "    </tr>\n",
       "    <tr>\n",
       "      <th>1</th>\n",
       "      <td>1.495779e+11</td>\n",
       "      <td>2.575118e+09</td>\n",
       "      <td>-512.398632</td>\n",
       "      <td>29801.669087</td>\n",
       "      <td>86400</td>\n",
       "    </tr>\n",
       "    <tr>\n",
       "      <th>2</th>\n",
       "      <td>1.495115e+11</td>\n",
       "      <td>5.149474e+09</td>\n",
       "      <td>-1024.645036</td>\n",
       "      <td>29788.439279</td>\n",
       "      <td>172800</td>\n",
       "    </tr>\n",
       "    <tr>\n",
       "      <th>3</th>\n",
       "      <td>1.494008e+11</td>\n",
       "      <td>7.722307e+09</td>\n",
       "      <td>-1536.587031</td>\n",
       "      <td>29766.393999</td>\n",
       "      <td>259200</td>\n",
       "    </tr>\n",
       "    <tr>\n",
       "      <th>4</th>\n",
       "      <td>1.492460e+11</td>\n",
       "      <td>1.029285e+10</td>\n",
       "      <td>-2048.072529</td>\n",
       "      <td>29735.539849</td>\n",
       "      <td>345600</td>\n",
       "    </tr>\n",
       "  </tbody>\n",
       "</table>\n",
       "</div>"
      ],
      "text/plain": [
       "              x             y           vx            vy       t\n",
       "0  1.496000e+11  0.000000e+00     0.000000  29806.079463       0\n",
       "1  1.495779e+11  2.575118e+09  -512.398632  29801.669087   86400\n",
       "2  1.495115e+11  5.149474e+09 -1024.645036  29788.439279  172800\n",
       "3  1.494008e+11  7.722307e+09 -1536.587031  29766.393999  259200\n",
       "4  1.492460e+11  1.029285e+10 -2048.072529  29735.539849  345600"
      ]
     },
     "execution_count": 5,
     "metadata": {},
     "output_type": "execute_result"
    }
   ],
   "source": [
    "data = PlanetApp()\n",
    "\n",
    "data.head()"
   ]
  },
  {
   "cell_type": "code",
   "execution_count": 6,
   "metadata": {},
   "outputs": [
    {
     "data": {
      "image/png": "[encoded data removed]",
      "text/plain": [
       "<Figure size 432x288 with 1 Axes>"
      ]
     },
     "metadata": {
      "needs_background": "light"
     },
     "output_type": "display_data"
    }
   ],
   "source": [
    "def PlanetPlot(data):\n",
    "\n",
    "    plt.plot(data.x, data.y, ':', linewidth=2)\n",
    "\n",
    "    # Plot the Sun at the origin\n",
    "    plt.plot(0, 0, '.',color=\"yellow\", markersize=40, markeredgecolor='black')\n",
    "    # Plot the Earth at the final position\n",
    "    plt.plot(data.x.iloc[-1], data.y.iloc[-1], '.', color= 'k', markersize=15)\n",
    "\n",
    "    plt.xlabel('x')\n",
    "    plt.ylabel('y')\n",
    "    plt.axis('equal')\n",
    "    \n",
    "PlanetPlot(data)\n",
    "plt.title('Simulation of Earth orbit around the Sun')\n",
    "plt.show()"
   ]
  },
  {
   "cell_type": "markdown",
   "metadata": {},
   "source": [
    "## Circular and Elliptical Orbits"
   ]
  },
  {
   "cell_type": "markdown",
   "metadata": {},
   "source": [
    "We created defaults for the Planet using the average radius ($149.6 \\times 10^9$ m) of the Earth's orbit with the the velocity needed to complete one orbit in one year."
   ]
  },
  {
   "cell_type": "markdown",
   "metadata": {},
   "source": [
    "If we started our planet with the same initial velocity but further away from the Sun"
   ]
  },
  {
   "cell_type": "code",
   "execution_count": 7,
   "metadata": {},
   "outputs": [
    {
     "data": {
      "image/png": "[encoded data removed]",
      "text/plain": [
       "<Figure size 432x288 with 1 Axes>"
      ]
     },
     "metadata": {
      "needs_background": "light"
     },
     "output_type": "display_data"
    }
   ],
   "source": [
    "data_far = PlanetApp(x0=200e9, tmax = 60*60*24*365 * 1)\n",
    "PlanetPlot(data_far)"
   ]
  },
  {
   "cell_type": "markdown",
   "metadata": {},
   "source": [
    "or closer to the Sun:"
   ]
  },
  {
   "cell_type": "code",
   "execution_count": 8,
   "metadata": {},
   "outputs": [
    {
     "data": {
      "image/png": "[encoded data removed]",
      "text/plain": [
       "<Figure size 432x288 with 1 Axes>"
      ]
     },
     "metadata": {
      "needs_background": "light"
     },
     "output_type": "display_data"
    }
   ],
   "source": [
    "data_near = PlanetApp(x0=100e9, tmax = 60*60*24*365 * 1)\n",
    "PlanetPlot(data_near)"
   ]
  },
  {
   "cell_type": "markdown",
   "metadata": {},
   "source": [
    "we can see that both the period and the shape of the orbit change."
   ]
  },
  {
   "cell_type": "markdown",
   "metadata": {},
   "source": [
    "- - -\n",
    "#### Exercise\n",
    "> Modify the argument `tmax` and try and determine the approximate period of each of these two orbits."
   ]
  },
  {
   "cell_type": "markdown",
   "metadata": {},
   "source": [
    "- - -"
   ]
  },
  {
   "cell_type": "markdown",
   "metadata": {},
   "source": [
    "The magnitude of the acceleration $a$ is related to the radius $r$ of a **circular orbit** by\n",
    "\n",
    "$$ a = \\frac{v^2}{r}$$\n",
    "\n",
    "where $v$ is the speed of the object. The acceleration is always directed toward the center due to the graviational force."
   ]
  },
  {
   "cell_type": "markdown",
   "metadata": {},
   "source": [
    "Hence, we have\n",
    "\n",
    "$$\\frac{m v^2}{r} = \\frac{G M m}{r^2}$$\n",
    "\n",
    "and\n",
    "\n",
    "$$ v= \\left( \\frac{GM}{r}\\right)^{1/2}$$\n",
    "\n",
    "This relation between the radius and speed is the general condition of circular orbit."
   ]
  },
  {
   "cell_type": "markdown",
   "metadata": {},
   "source": [
    "We can find the dependence of the period $T$ on the radius of a circular orbit using\n",
    "\n",
    "$$ T = \\frac{2 \\pi r}{v}$$\n",
    "\n",
    "which gives\n",
    "\n",
    "$$ T^2 = \\frac{4\\pi^2}{GM}r^3$$\n",
    "\n",
    "This is just as special case of Kepler's third law\n",
    "\n",
    "$$\\frac{T^2}{a^3} = \\frac{4\\pi^2}{GM}$$\n",
    "\n",
    "where the radius $r$ corresponds to the semi major axis of an ellipse."
   ]
  },
  {
   "cell_type": "markdown",
   "metadata": {},
   "source": [
    "- - -\n",
    "#### Example\n",
    "> Calculate the ratio $T^2/a^3$ for our three example orbits.\n"
   ]
  },
  {
   "cell_type": "code",
   "execution_count": 9,
   "metadata": {},
   "outputs": [
    {
     "data": {
      "text/plain": [
       "2.9588921404544047e-19"
      ]
     },
     "execution_count": 9,
     "metadata": {},
     "output_type": "execute_result"
    }
   ],
   "source": [
    "a = (data.x.max() - data.x.min())/2\n",
    "T = 60*60*24*365*1\n",
    "T**2/a**3"
   ]
  },
  {
   "cell_type": "code",
   "execution_count": 10,
   "metadata": {},
   "outputs": [
    {
     "data": {
      "text/plain": [
       "4.518362141889029e-19"
      ]
     },
     "execution_count": 10,
     "metadata": {},
     "output_type": "execute_result"
    }
   ],
   "source": [
    "a = (data_far.x.max() - data_far.x.min())/2\n",
    "T = 60*60*24*365*2.88\n",
    "T**2/a**3"
   ]
  },
  {
   "cell_type": "code",
   "execution_count": 11,
   "metadata": {},
   "outputs": [
    {
     "data": {
      "text/plain": [
       "3.0369976473815083e-19"
      ]
     },
     "execution_count": 11,
     "metadata": {},
     "output_type": "execute_result"
    }
   ],
   "source": [
    "a = (data_near.x.max() - data_near.x.min())/2\n",
    "T = 60*60*24*365*0.36\n",
    "T**2/a**3"
   ]
  },
  {
   "cell_type": "markdown",
   "metadata": {},
   "source": [
    "For comparison,"
   ]
  },
  {
   "cell_type": "code",
   "execution_count": 12,
   "metadata": {},
   "outputs": [
    {
     "data": {
      "text/plain": [
       "2.974272984439245e-19"
      ]
     },
     "execution_count": 12,
     "metadata": {},
     "output_type": "execute_result"
    }
   ],
   "source": [
    "G = 6.67e-11\n",
    "M = 1.99e30\n",
    "4*np.pi**2 / (G*M)"
   ]
  },
  {
   "cell_type": "markdown",
   "metadata": {},
   "source": [
    "- - -"
   ]
  },
  {
   "cell_type": "markdown",
   "metadata": {},
   "source": [
    "## Astronomical Units"
   ]
  },
  {
   "cell_type": "markdown",
   "metadata": {},
   "source": [
    "The use of SI units (m, s, and kg) leads to numerical values that span a large range of values ($\\ldots\\times 10^{-19}$, $\\ldots \\times 10^9$, $\\ldots\\times 10^{30}$).\n",
    "\n",
    "It is conveniet to choose a new system of units in which the magnitude of the product $GM$ is not too large and not too small.\n",
    "\n",
    "To describe the motion of the planets in our solar system, the convention is to choose the length of the Earth's semimajor axis as the unit of length and is called the *astronomical unit* (AU)\n",
    "\n",
    "$$ 1 \\mbox{AU} = 1.496 \\times 10^{11}\\;\\mbox{m}$$"
   ]
  },
  {
   "cell_type": "markdown",
   "metadata": {},
   "source": [
    "The unit of time is one year or $3.15 \\times 10^7$ s. In these units, the period of the Earth is $T=1$ years and its semimajor axis is $a=1$ AU."
   ]
  },
  {
   "cell_type": "markdown",
   "metadata": {},
   "source": [
    "From Kepler's third law, this means\n",
    "\n",
    "$$ GM = \\frac{4 \\pi^2 a^3}{T^2} = 4 \\pi^2 \\mbox{AU}^3/\\mbox{years}^2\\quad\\quad\\mbox{(astronomical units)}$$"
   ]
  },
  {
   "cell_type": "markdown",
   "metadata": {},
   "source": [
    "For our example orbits in astronomical units, our distances would be\n",
    "\n",
    "$$200 \\times 10^9\\;\\mbox{m} = 1.33\\;\\mbox{AU}$$\n",
    "\n",
    "and\n",
    "\n",
    "$$100 \\times 10^9\\;\\mbox{m} = 0.66\\;\\mbox{AU}$$"
   ]
  },
  {
   "cell_type": "markdown",
   "metadata": {},
   "source": [
    "## Log-log and Semilog Plots"
   ]
  },
  {
   "cell_type": "markdown",
   "metadata": {},
   "source": [
    "Here are the values of $T$ and $a$ for our solar system."
   ]
  },
  {
   "cell_type": "code",
   "execution_count": 13,
   "metadata": {},
   "outputs": [],
   "source": [
    "df = pd.DataFrame([['Mercury', 0.241, 0.387],\n",
    "                   ['Venus', 0.615, 0.723],\n",
    "                   ['Earth', 1.0, 1.0],\n",
    "                   ['Mars', 1.88, 1.523],\n",
    "                   ['Jupiter', 11.86, 5.202],\n",
    "                   ['Saturn', 29.5, 9.539],\n",
    "                   ['Uranus', 84.0, 19.18],\n",
    "                   ['Neptune', 165, 30.06],\n",
    "                   ['Pluto', 248, 39.44]],\n",
    "                   columns=['planet', 'T', 'a'])\n",
    "planets = df.set_index('planet')"
   ]
  },
  {
   "cell_type": "code",
   "execution_count": 14,
   "metadata": {},
   "outputs": [
    {
     "data": {
      "text/html": [
       "<div>\n",
       "<style scoped>\n",
       "    .dataframe tbody tr th:only-of-type {\n",
       "        vertical-align: middle;\n",
       "    }\n",
       "\n",
       "    .dataframe tbody tr th {\n",
       "        vertical-align: top;\n",
       "    }\n",
       "\n",
       "    .dataframe thead th {\n",
       "        text-align: right;\n",
       "    }\n",
       "</style>\n",
       "<table border=\"1\" class=\"dataframe\">\n",
       "  <thead>\n",
       "    <tr style=\"text-align: right;\">\n",
       "      <th></th>\n",
       "      <th>T</th>\n",
       "      <th>a</th>\n",
       "    </tr>\n",
       "    <tr>\n",
       "      <th>planet</th>\n",
       "      <th></th>\n",
       "      <th></th>\n",
       "    </tr>\n",
       "  </thead>\n",
       "  <tbody>\n",
       "    <tr>\n",
       "      <th>Mercury</th>\n",
       "      <td>0.241</td>\n",
       "      <td>0.387</td>\n",
       "    </tr>\n",
       "    <tr>\n",
       "      <th>Venus</th>\n",
       "      <td>0.615</td>\n",
       "      <td>0.723</td>\n",
       "    </tr>\n",
       "    <tr>\n",
       "      <th>Earth</th>\n",
       "      <td>1.000</td>\n",
       "      <td>1.000</td>\n",
       "    </tr>\n",
       "    <tr>\n",
       "      <th>Mars</th>\n",
       "      <td>1.880</td>\n",
       "      <td>1.523</td>\n",
       "    </tr>\n",
       "    <tr>\n",
       "      <th>Jupiter</th>\n",
       "      <td>11.860</td>\n",
       "      <td>5.202</td>\n",
       "    </tr>\n",
       "    <tr>\n",
       "      <th>Saturn</th>\n",
       "      <td>29.500</td>\n",
       "      <td>9.539</td>\n",
       "    </tr>\n",
       "    <tr>\n",
       "      <th>Uranus</th>\n",
       "      <td>84.000</td>\n",
       "      <td>19.180</td>\n",
       "    </tr>\n",
       "    <tr>\n",
       "      <th>Neptune</th>\n",
       "      <td>165.000</td>\n",
       "      <td>30.060</td>\n",
       "    </tr>\n",
       "    <tr>\n",
       "      <th>Pluto</th>\n",
       "      <td>248.000</td>\n",
       "      <td>39.440</td>\n",
       "    </tr>\n",
       "  </tbody>\n",
       "</table>\n",
       "</div>"
      ],
      "text/plain": [
       "               T       a\n",
       "planet                  \n",
       "Mercury    0.241   0.387\n",
       "Venus      0.615   0.723\n",
       "Earth      1.000   1.000\n",
       "Mars       1.880   1.523\n",
       "Jupiter   11.860   5.202\n",
       "Saturn    29.500   9.539\n",
       "Uranus    84.000  19.180\n",
       "Neptune  165.000  30.060\n",
       "Pluto    248.000  39.440"
      ]
     },
     "execution_count": 14,
     "metadata": {},
     "output_type": "execute_result"
    }
   ],
   "source": [
    "planets"
   ]
  },
  {
   "cell_type": "markdown",
   "metadata": {},
   "source": [
    "Suppose we want to explore the relationship between $T$ and $a$."
   ]
  },
  {
   "cell_type": "code",
   "execution_count": 15,
   "metadata": {},
   "outputs": [
    {
     "data": {
      "image/png": "[encoded data removed]",
      "text/plain": [
       "<Figure size 432x288 with 2 Axes>"
      ]
     },
     "metadata": {
      "needs_background": "light"
     },
     "output_type": "display_data"
    }
   ],
   "source": [
    "def plot_T_vs_a():\n",
    "    plt.plot(planets['a'], planets['T'], 'o')\n",
    "\n",
    "    linear_fit = np.polyfit(planets['a'], planets['T'], 1)\n",
    "    plt.plot(planets['a'], \n",
    "             np.polyval(linear_fit, planets['a']),\n",
    "             label='linear')\n",
    "\n",
    "    quadratic_fit = np.polyfit(planets['a'], planets['T'], 2)\n",
    "    plt.plot(planets['a'], \n",
    "             np.polyval(quadratic_fit, planets['a']),\n",
    "             label='quadratic')\n",
    "    plt.xlabel('a')\n",
    "    plt.ylabel('T')\n",
    "\n",
    "\n",
    "plot_T_vs_a()\n",
    "plt.legend(loc='lower right')\n",
    "ax = plt.axes([0.25, 0.65, 0.3, 0.3])\n",
    "plot_T_vs_a()\n",
    "plt.xlim(0, 2)\n",
    "plt.ylim(0, 3)\n",
    "\n",
    "plt.show()"
   ]
  },
  {
   "cell_type": "markdown",
   "metadata": {},
   "source": [
    "Definitely not linear. Could be quadratic $T \\propto a^2$? \n",
    "\n",
    "Look at the relation for the inner planets in the inset plot."
   ]
  },
  {
   "cell_type": "markdown",
   "metadata": {},
   "source": [
    "For many problems, it is reasonable to assume an exponetial relation\n",
    "\n",
    "$$ y = C e^{rx} $$\n",
    "\n",
    "or a power law relation\n",
    "\n",
    "$$ y = C x^n$$\n",
    "where $C, r,$ and $n$ are unknown parameters."
   ]
  },
  {
   "cell_type": "markdown",
   "metadata": {},
   "source": [
    "If we assume and exponential form, we can take the natural logarithm of both sides to find\n",
    "\n",
    "$$ \\ln y = \\ln C + r x $$\n",
    "\n",
    "If this is the right relationship, then a plot of $\\ln y$ vs $x$ would yield a straight line slope $r$ and intercept $\\ln C$."
   ]
  },
  {
   "cell_type": "code",
   "execution_count": 16,
   "metadata": {},
   "outputs": [
    {
     "data": {
      "image/png": "[encoded data removed]",
      "text/plain": [
       "<Figure size 432x288 with 1 Axes>"
      ]
     },
     "metadata": {
      "needs_background": "light"
     },
     "output_type": "display_data"
    }
   ],
   "source": [
    "plt.semilogy(planets['a'], planets['T'], 'o')\n",
    "plt.xlabel('a')\n",
    "plt.ylabel('T')\n",
    "plt.show()"
   ]
  },
  {
   "cell_type": "markdown",
   "metadata": {},
   "source": [
    "Since this plot is not forming a straight line, it is not an exponential relationship between $T$ and $a$. \n",
    "\n",
    "For a power law relationship, the natural logarithm of both sides give\n",
    "\n",
    "$$ \\ln y = \\ln C + n \\ln x$$\n",
    "\n",
    "If this is the right relationship, then a plot of $\\ln y$ vs $\\ln x$ would yield a straight line with slope $n$ (the exponent).\n"
   ]
  },
  {
   "cell_type": "code",
   "execution_count": 17,
   "metadata": {},
   "outputs": [
    {
     "data": {
      "image/png": "[encoded data removed]",
      "text/plain": [
       "<Figure size 432x288 with 1 Axes>"
      ]
     },
     "metadata": {
      "needs_background": "light"
     },
     "output_type": "display_data"
    }
   ],
   "source": [
    "plt.loglog(planets['a'], planets['T'], 'o')\n",
    "\n",
    "n, lnC = np.polyfit(np.log(planets['a']), \n",
    "                        np.log(planets['T']), 1)\n",
    "C = np.exp(lnC)\n",
    "\n",
    "plt.plot(planets['a'], \n",
    "         C * planets['a']**n,\n",
    "         label='power law')\n",
    "plt.text(1, 100, \n",
    "         f'$T \\propto {C:.2f}a'+'^{'+f'{n:.1f}'+'}$', size=18)\n",
    "plt.xlabel('a')\n",
    "plt.ylabel('T')\n",
    "plt.show()"
   ]
  },
  {
   "cell_type": "markdown",
   "metadata": {},
   "source": [
    "But of course we knew that it should be a power law relationship from Kepler's third law:\n",
    "\n",
    "$$\\frac{T^2}{a^3} = \\frac{4\\pi^2}{GM}$$\n",
    "\n",
    "or\n",
    "\n",
    "$$T = \\frac{4\\pi^2}{GM} a^{3/2} = 1.00 a^{1.5}$$\n",
    "\n",
    "when using astronomical units.\n"
   ]
  },
  {
   "cell_type": "markdown",
   "metadata": {},
   "source": [
    "## Simulation of the Orbit (in Astronomical Units)"
   ]
  },
  {
   "cell_type": "code",
   "execution_count": 18,
   "metadata": {},
   "outputs": [],
   "source": [
    "def PlanetApp(x0=1, # AU\n",
    "              y0 = 0,\n",
    "              vx0 = 0,\n",
    "              vy0 = 2*np.pi, # AU/yr\n",
    "              tmax = 1, # one year\n",
    "              dt = 0.001\n",
    "              ):\n",
    "        \n",
    "    s0 = [x0, y0, vx0, vy0]\n",
    "    \n",
    "    ## GM in units of (AU)^3/(yr)^2\n",
    "    GM = 4*np.pi**2 \n",
    "    p = [GM] \n",
    "    \n",
    "    stepper = RK4Stepper(Fplanet, s0=s0, p=p,\n",
    "                              tmax=tmax, dt=dt)\n",
    "    \n",
    "    data = pd.DataFrame(stepper, \n",
    "                        columns = ['x', 'y', 'vx', 'vy','t'])\n",
    "    return data"
   ]
  },
  {
   "cell_type": "code",
   "execution_count": 19,
   "metadata": {},
   "outputs": [
    {
     "data": {
      "image/png": "[encoded data removed]",
      "text/plain": [
       "<Figure size 432x288 with 1 Axes>"
      ]
     },
     "metadata": {
      "needs_background": "light"
     },
     "output_type": "display_data"
    }
   ],
   "source": [
    "data = PlanetApp()\n",
    "PlanetPlot(data)"
   ]
  },
  {
   "cell_type": "markdown",
   "metadata": {},
   "source": [
    "### Elliptical orbits"
   ]
  },
  {
   "cell_type": "markdown",
   "metadata": {},
   "source": [
    "The choice of initial velocity was critical to acheive a circular orbit. \n",
    "\n",
    "Notice that we chose\n",
    "\n",
    "$$ v_0 = 2\\pi $$\n",
    "\n",
    "which may seem like a slightly strange looking speed. \n",
    "\n",
    "But, if you recall the units for this speed is in units of AU/yr perhaps, hopefully you'll see why this has to be the correct speed.\n"
   ]
  },
  {
   "cell_type": "markdown",
   "metadata": {},
   "source": [
    "If we change the initial speed to being different from $2\\pi$, we get different shaped orbits."
   ]
  },
  {
   "cell_type": "code",
   "execution_count": 20,
   "metadata": {},
   "outputs": [
    {
     "data": {
      "image/png": "[encoded data removed]",
      "text/plain": [
       "<Figure size 432x288 with 1 Axes>"
      ]
     },
     "metadata": {
      "needs_background": "light"
     },
     "output_type": "display_data"
    }
   ],
   "source": [
    "data = PlanetApp(vy0=2*np.pi, tmax = 1.0)\n",
    "PlanetPlot(data)\n",
    "\n",
    "data = PlanetApp(vy0=4, tmax = 0.5)\n",
    "PlanetPlot(data)\n",
    "\n",
    "data = PlanetApp(vy0=8, tmax = 4.29)\n",
    "PlanetPlot(data)\n",
    "\n",
    "plt.title('Comparison of different orbits')\n",
    "plt.show()"
   ]
  },
  {
   "cell_type": "markdown",
   "metadata": {},
   "source": [
    "- - -\n",
    "### Textbook readings\n",
    "\n",
    "This lecture is based on CSM Chapter 5:\n",
    "\n",
    "- 5.1 Planetary Motion\n",
    "- 5.2 The Equations of Motion\n",
    "- 5.3 Circular and Elliptical Orbits\n",
    "- 5.4 Astronomical Units\n",
    "- 5.5 Log-log and Semilog Plots\n",
    "- 5.6 Simulation of the Orbit"
   ]
  }
 ],
 "metadata": {
  "anaconda-cloud": {},
  "kernelspec": {
   "display_name": "Python 3",
   "language": "python",
   "name": "python3"
  },
  "language_info": {
   "codemirror_mode": {
    "name": "ipython",
    "version": 3
   },
   "file_extension": ".py",
   "mimetype": "text/x-python",
   "name": "python",
   "nbconvert_exporter": "python",
   "pygments_lexer": "ipython3",
   "version": "3.6.7"
  }
 },
 "nbformat": 4,
 "nbformat_minor": 2
}
