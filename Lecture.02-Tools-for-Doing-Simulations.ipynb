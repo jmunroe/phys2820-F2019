{
 "cells": [
  {
   "cell_type": "markdown",
   "metadata": {
    "slideshow": {
     "slide_type": "slide"
    }
   },
   "source": [
    "# Tools for Doing Simulations\n",
    "## Lecture 2"
   ]
  },
  {
   "cell_type": "markdown",
   "metadata": {},
   "source": [
    "## Introduction\n",
    "\n",
    "(*Adapted from CSM 2.1*)\n",
    "\n",
    "Consider a lab-based course on physics: **oscilloscope**\n",
    "\n",
    "<a title=\"Brian S. Elliott at English Wikipedia [CC BY-SA 3.0 (https://creativecommons.org/licenses/by-sa/3.0)], via Wikimedia Commons\" href=\"https://commons.wikimedia.org/wiki/File:WTPC_Oscilloscope-1.jpg\"><img width=\"512\" alt=\"WTPC Oscilloscope-1\" src=\"https://upload.wikimedia.org/wikipedia/commons/f/f2/WTPC_Oscilloscope-1.jpg\"></a>"
   ]
  },
  {
   "cell_type": "markdown",
   "metadata": {},
   "source": [
    "Need to learn:\n",
    "- function of the knobs\n",
    "- how to read the displays\n",
    "- how to connect devices\n",
    "- what measurements to make\n",
    "\n",
    "Relevent knowledge theory:\n",
    "- voltage\n",
    "- current\n",
    "- impeance\n",
    "- AC and DC signals\n",
    "\n",
    "Goal:\n",
    "- learn how to use the oscilloscope"
   ]
  },
  {
   "cell_type": "markdown",
   "metadata": {},
   "source": [
    "However, learn only a little about how an oscilloscope actually works. \n",
    "\n",
    "Similar approach with programming in Python:\n",
    "- learn what we need to know to make Python do what we want\n",
    "- will not learn everything about Python\n",
    "- focus on essential syntax for numerical models\n",
    "- and plots and animations as outputs"
   ]
  },
  {
   "cell_type": "markdown",
   "metadata": {},
   "source": [
    "### Scientific models\n",
    "\n",
    "Initial steps:\n",
    "- determine model behaviour\n",
    "- compare with experiment\n",
    "\n",
    "Goals:\n",
    "- verification of the model\n",
    "- changes in the model\n",
    "- futher simulations and experiments\n",
    "\n",
    "Usual approach:\n",
    "- start with a set of initial conditions\n",
    "- determine dynamical behaviour of model numerically\n",
    "- generate data in tables, plots, and animations"
   ]
  },
  {
   "cell_type": "markdown",
   "metadata": {},
   "source": [
    "### Example: A falling ball\n",
    "\n",
    "Simple physical model for particle motion\n",
    "- ball near the surface of the Earth\n",
    "- ball falls only vertically\n",
    "- subject only to the force of gravity\n",
    "- assume air friction is negligible\n",
    "- gravitational force is given by\n",
    "$$ F_g = -mg $$\n",
    "\n",
    "where\n",
    "- $m$ is mass of ball\n",
    "- $g = 9.8\\;\\mathrm{N/kg}$ is the gravitational field (force per unit mass)"
   ]
  },
  {
   "cell_type": "markdown",
   "metadata": {},
   "source": [
    "#### Equation of motion\n",
    "\n",
    "Newton's second law:\n",
    "\n",
    "$$ F = ma $$\n",
    "\n",
    "and writing the acceleration as derivative,\n",
    "\n",
    "$$ m \\frac{\\mathrm{d}^2y}{\\mathrm{d}t^2} = F = -mg $$\n",
    "\n",
    "This model is a *second-order differential equation* (2nd order DE).\n",
    "\n",
    "The analytical solution is already know from first year physics:\n",
    "\n",
    "$$\\begin{align}\n",
    "y(t) &= y(0) + v(0) t -\\frac{1}{2} g t^2\\\\\n",
    "v(t) &= v(0) -g t\n",
    "\\end{align}\n",
    "$$"
   ]
  },
  {
   "cell_type": "markdown",
   "metadata": {},
   "source": [
    "#### Numerical solution\n",
    "\n",
    "Rewrite 2nd order DE as a pair of *1st order DEs*:\n",
    "$$\\begin{align}\n",
    "\\frac{\\mathrm{d}y}{\\mathrm{d}t} &= v \\\\\n",
    "\\frac{\\mathrm{d}v}{\\mathrm{d}t} &= -g \\\\\n",
    "\\end{align}\n",
    "$$\n",
    "\n",
    "\n",
    "*Approximate* the derivatives by small (finite) differences:\n",
    "\n",
    "$$\\begin{align}\n",
    "\\frac{y(t+\\Delta t) - y(t)}{\\Delta t} &= v(t) \\\\\n",
    "\\frac{v(t+\\Delta t) - v(t)}{\\Delta t} &= -g \n",
    "\\end{align}\n",
    "$$\n",
    "\n",
    "Notice that in the limit of $ \\Delta t \\rightarrow 0$, this approximation reduces to the pair of 1st order DEs."
   ]
  },
  {
   "cell_type": "markdown",
   "metadata": {},
   "source": [
    "Rewrite the equations as\n",
    "\n",
    "$$\n",
    "\\begin{align}\n",
    "y(t + \\Delta t) & = y(t) + v(t) \\Delta t \\\\\n",
    "v(t + \\Delta t) & = v(t) -g \\Delta t\n",
    "\\end{align}\n",
    "$$\n",
    "\n",
    "This is an example of the **Euler algorithm** which found using a *finite difference* equation where $\\Delta t$ is the time step.\n",
    "\n",
    "#### Next steps:\n",
    "- follow $y(t)$ and $v(t)$ in time\n",
    "- begin with an initial value for $y$ and $v$ and *iterate*\n",
    "- if $\\Delta t$ is small enough, this will be close to the solution of the differential equations\n",
    "- since we know the exact answer, we can test the numerical results"
   ]
  },
  {
   "cell_type": "markdown",
   "metadata": {},
   "source": [
    "- - -\n",
    "\n",
    "### **Exercise 2.1** A simple example\n",
    "Consider the first-order differential equation\n",
    "$$\\frac{\\mathrm{d}y}{\\mathrm{d}x} = f(x)$$\n",
    "\n",
    "where $f(x)$ is a function of $x$. The approximate solution as given by the Euler algorithm is\n",
    "\n",
    "$$ y_{n+1} = y_n + f(x_n) \\Delta x.$$\n",
    "Note that the rate of change of $y$ has been approximated by its value the *beginning of the interval*, $f(x_n)$\n",
    "\n",
    "a. Suppose that $f(x) = 2x$ and $y(x=0) = 0$. The analytical solution is $y(x) = x^2$, which we can confirm by taking the derivative of $y(x)$.\n",
    "Convert the first-order differential equation into a finite difference equatino using the Euler algorithm. For simplicity, choose $\\Delta x = 0.1$. It may be a good idea to first use a calculator or pencil and paper to determine $y_n$ for the first several time steps.\n",
    "\n",
    "b. Plot the difference between the exact solution and the approximate solution given by the Euler algorithm. What condition would the rate of change, $f(x)$, have to satisfy for the Euler algorithm to give the exact answer?\n",
    "\n",
    "*(will appear on Assignment 1)*\n",
    "- - -"
   ]
  },
  {
   "cell_type": "markdown",
   "metadata": {},
   "source": [
    "## Simulating free fall\n",
    "*(Adapted from CSM 2.2 for Python instead of Java)*\n"
   ]
  },
  {
   "cell_type": "markdown",
   "metadata": {},
   "source": [
    "Here is a Python program that implements the numerical method discussed above for the falling ball problem.\n",
    "\n",
    "A Python program consists of a sequence of *statements* that create *variables* and define *functions*. \n",
    "Each statement is on its own line.  Python is an *interpreted* language that must be run with a *interpreter* (usually, this interpreter is simply called `python`)."
   ]
  },
  {
   "cell_type": "code",
   "execution_count": null,
   "metadata": {},
   "outputs": [],
   "source": [
    "# example of a single line comment statement (ignored by the interpreter)\n",
    "\n",
    "# beginning of a Python function definition\n",
    "def FirstFallingBallApp():\n",
    "    \"\"\"\n",
    "    Simulates a falling ball.\n",
    "    Uses the Euler algorithm to solve the problem numerically.\n",
    "    Displays the numerical and analytic results.\n",
    "    \"\"\"\n",
    "    \n",
    "    # indentation in Python is part of the language \n",
    "    # (other programming languages may use braces instead)\n",
    "    # always ensure you are using 4 spaces (in Jupyter *only*, this is the same as the Tab key)\n",
    "    \n",
    "    # following statements form the body of the main program\n",
    "    \n",
    "    y0 = 100    # example of a variable assignment statement\n",
    "    v0 = 0      # initial velocity\n",
    "    t = 0       # time\n",
    "    dt = 0.01   # time step\n",
    "    y = y0\n",
    "    v = v0\n",
    "    g = 9.8     # gravitational field\n",
    "    \n",
    "    # beginning of a loop\n",
    "    for n in range(100):\n",
    "        # repeat the following three statements 100 times\n",
    "        y = y + v*dt # statements must be indented in a loop\n",
    "        v = v - g*dt # use Euler algorithm\n",
    "        t = t + dt\n",
    "    # end of the loop (stop indenting)\n",
    "        \n",
    "    print(\"Results\")\n",
    "    print(\"final time = {:.4f}\".format(t))\n",
    "    # display numerical result\n",
    "    print(\"numerical y = {:.4f} v = {:.4f}\".format(y, v))\n",
    "    \n",
    "    # display analytical result\n",
    "    yAnalytic = y0 + v0*t - 0.5*g*t*t\n",
    "    vAnalytic = v0 - g*t\n",
    "    \n",
    "    print(\"analytic  y = {:.4f} v = {:.4f}\".format(yAnalytic, vAnalytic))"
   ]
  },
  {
   "cell_type": "markdown",
   "metadata": {},
   "source": [
    "Jupyter cell can executed using the key combination *Shift-Enter*."
   ]
  },
  {
   "cell_type": "markdown",
   "metadata": {},
   "source": [
    "Comments, lines starting with `#`, are ignored by the interpreter but can be very important for the user.\n",
    "For multiline comments, `\"\"\"` ... `\"\"\"` can also be used."
   ]
  },
  {
   "cell_type": "markdown",
   "metadata": {},
   "source": [
    "Functions, which are defined with the key word `def`, allow for code reuse and are important part of good programming style."
   ]
  },
  {
   "cell_type": "markdown",
   "metadata": {},
   "source": [
    "#### Built-in help"
   ]
  },
  {
   "cell_type": "markdown",
   "metadata": {},
   "source": [
    "Python has a rich built in help system.  Typing any function name followed by a question mark shows the usage for that function."
   ]
  },
  {
   "cell_type": "code",
   "execution_count": null,
   "metadata": {},
   "outputs": [],
   "source": [
    "FirstFallingBallApp?"
   ]
  },
  {
   "cell_type": "markdown",
   "metadata": {},
   "source": [
    "Also, putting the cursor right after the name of a function and hitting Shift-Tab will display the documentation in a pop up windows. \n",
    "\n",
    "Notice that the *Help* menu has links to complete documentation about the Python language and many of its useful libraries. "
   ]
  },
  {
   "cell_type": "markdown",
   "metadata": {},
   "source": [
    "#### Python syntax\n",
    "\n",
    "Whitespace is an important part of the syntax of the Python language. Always use 4 spaces. The Tab key and backspace/delete keys are useful for keeping your statements lined up when using a Jupyter notebook.\n",
    "\n",
    "Functions can be *called* (invoked) within other functions or on their own.  We will adopt the convention that functions that are an application's starting point end with `App`.  This application is sometimes called the driver code for a numerical model.\n",
    "\n",
    "One to run this program is to copy it into a file called `FirstFallingBallApp.py` and add the line `FirstFallingBallApp()` to the end of the file.  Then, on a command line, type `python FirstFallingBallApp.py`.  "
   ]
  },
  {
   "cell_type": "markdown",
   "metadata": {},
   "source": [
    "But in a Jupyter Notebook, we can simply execute the function as statement."
   ]
  },
  {
   "cell_type": "code",
   "execution_count": null,
   "metadata": {},
   "outputs": [],
   "source": [
    "FirstFallingBallApp()"
   ]
  },
  {
   "cell_type": "markdown",
   "metadata": {},
   "source": [
    "Digital computers represent numbers in base 2, that is sequences of ones and zeros. Each one or zero is called a `bit`. For example, the number 13 is equivalent to $1101$ or $(1 \\times 2^3) + (1 \\times 2^2)+ (0 \\times 2^1)+(1 \\times 2^0)$. It would be difficult to program if we had write numbers in base 2.  Computer languages allow us to reference memory locations using identifiers or variables names.\n",
    "\n",
    "A valid variable name is a series of characters consisting of letters, digits, and underscores that does not begin with a digit nor contain any spaces.  Because Python distinguishes between upper and lowercase character, `T` and `t` are different variable names. "
   ]
  },
  {
   "cell_type": "markdown",
   "metadata": {},
   "source": [
    "If you have programmed before, you may be familiar with the idea of *data types*. Python has data types but variables can represent any data type.  The data type of variable is inferred by what kind of data it happens to be."
   ]
  },
  {
   "cell_type": "code",
   "execution_count": null,
   "metadata": {},
   "outputs": [],
   "source": [
    "n = 10\n",
    "y0 = 10.0\n",
    "inert = True\n",
    "food = 'Cheese'"
   ]
  },
  {
   "cell_type": "markdown",
   "metadata": {},
   "source": [
    "In Python, four primitive data type are `int`, `float`, `bool`, and `str`."
   ]
  },
  {
   "cell_type": "code",
   "execution_count": null,
   "metadata": {},
   "outputs": [],
   "source": [
    "print('n is of type', type(n))\n",
    "print('y0 is of type', type(y0))\n",
    "print('inert is of type', type(inert))\n",
    "print('food is of type', type(food))"
   ]
  },
  {
   "cell_type": "markdown",
   "metadata": {},
   "source": [
    "Unlike in other programming languages, there is no need to declare a variable's data type.  Python using dynamic data types in what it calls *duck typing*: if it quacks like a duck and walks like a duck then ..."
   ]
  },
  {
   "cell_type": "markdown",
   "metadata": {},
   "source": [
    "Integers arithmetic `int` is exact, in constrast to floating point arithmetic `float` which is limited by the maximum number of decimal places that can be stored.  Important uses of integers are as counters in loops and as indices of arrays."
   ]
  },
  {
   "cell_type": "markdown",
   "metadata": {},
   "source": [
    "The *assignment operation* `=` is used to both intially assign a value to memory location that is associated witha variable, such as `y0` and `t`. The following statements illustrate an important difference between equals sign in mathematics and the assignment operator in most programming languages."
   ]
  },
  {
   "cell_type": "code",
   "execution_count": null,
   "metadata": {},
   "outputs": [],
   "source": [
    "x = 10\n",
    "x = x + 1\n",
    "print(x)"
   ]
  },
  {
   "cell_type": "markdown",
   "metadata": {},
   "source": [
    "The equals sign replaces a value in memory and is not a statement of equality. The left and right sides of an assignment operator are usually not equal.\n",
    "\n",
    "A statement is analogous to a complete sentence, and an expression is similar to a phrase.\n",
    "The simplest expressions are identifiers or variables. More interesting expressions can be created\n",
    "by combining variables using operators, such as the following example of the plus `+` operator:"
   ]
  },
  {
   "cell_type": "code",
   "execution_count": null,
   "metadata": {},
   "outputs": [],
   "source": [
    "x + 3.0"
   ]
  },
  {
   "cell_type": "markdown",
   "metadata": {},
   "source": [
    "In Python, the data type will automatically converted (say, from `int` to `float`) as needed. \n",
    "\n",
    "Note, in Jupyter Notebooks, the last expression in any notebook cell is displayed automatically. "
   ]
  },
  {
   "cell_type": "markdown",
   "metadata": {},
   "source": [
    "Our program began with initializing variables. Variables have to be initialized before they can be used."
   ]
  },
  {
   "cell_type": "code",
   "execution_count": null,
   "metadata": {},
   "outputs": [],
   "source": [
    "y0 = 100    # example of a variable assignment statement\n",
    "v0 = 0      # initial velocity\n",
    "t = 0       # time\n",
    "dt = 0.01   # time step\n",
    "y = y0\n",
    "v = v0\n",
    "g = 9.8     # gravitational field"
   ]
  },
  {
   "cell_type": "markdown",
   "metadata": {},
   "source": [
    "There is no way to have a declared but unitialized variable, althought there is the special data type `None` which is often used."
   ]
  },
  {
   "cell_type": "code",
   "execution_count": null,
   "metadata": {},
   "outputs": [],
   "source": [
    "p = None"
   ]
  },
  {
   "cell_type": "markdown",
   "metadata": {},
   "source": [
    "A very useful control structure is the `for` loop:"
   ]
  },
  {
   "cell_type": "code",
   "execution_count": null,
   "metadata": {},
   "outputs": [],
   "source": [
    "# beginning of a loop\n",
    "for n in range(100):\n",
    "    # repeat the following three statements 100 times\n",
    "    y = y + v*dt # statements must be indented in a loop\n",
    "    v = v - g*dt # use Euler algorithm\n",
    "    t = t + dt\n",
    "# end of the loop (stop indenting)"
   ]
  },
  {
   "cell_type": "markdown",
   "metadata": {},
   "source": [
    "Loops are blocks of\n",
    "statements that are executed repeatedly until some condition is satisfied. \n",
    "\n",
    "They typically have a loop variable that goes though a sequence of values and changes each iteration of the loop. \n",
    "\n",
    "In this example, as is common in Python, the variable `n` takes on the values 0 to 99. The more general form is `range(start, stop, step)` where the loop variable starts with the value `start`, continues while the loop variables is strictly less that `stop`, and is incremented each iteration by the value `step`.  If not provided, then `start=0`, and `step=1`.\n",
    "\n",
    "It is important to indent all the statements within a block. Not only does this make them so that they can be easily identified\n",
    "but it is also part of the Python language."
   ]
  },
  {
   "cell_type": "markdown",
   "metadata": {},
   "source": [
    "After the program finishes the loop, the results are displayed using the `print` function.  \n",
    "\n",
    "The argument passed to this function, which appears between the parentheses, is a string. \n",
    "\n",
    "A string `<class 'str'>` is a sequence of characters and can be created by enclosing text in quotation marks \n",
    "(double or single) as shown in the first `print` statement."
   ]
  },
  {
   "cell_type": "code",
   "execution_count": null,
   "metadata": {},
   "outputs": [],
   "source": [
    "print(\"Results\")"
   ]
  },
  {
   "cell_type": "markdown",
   "metadata": {},
   "source": [
    "We displayed our numerical results by using the `.format()` method. When applied to a\n",
    "string and a variable, the variable is converted to the appropriate string which replaces the `{}`."
   ]
  },
  {
   "cell_type": "code",
   "execution_count": null,
   "metadata": {},
   "outputs": [],
   "source": [
    "print(\"final time = {}\".format(t))"
   ]
  },
  {
   "cell_type": "markdown",
   "metadata": {},
   "source": [
    "Multiple variables can be formated together as in"
   ]
  },
  {
   "cell_type": "code",
   "execution_count": null,
   "metadata": {},
   "outputs": [],
   "source": [
    "print(\"y = {} v = {}\".format(y, v))"
   ]
  },
  {
   "cell_type": "markdown",
   "metadata": {},
   "source": [
    "Both `y` and `v` are floating point numbers and are stored in memory as [IEEE 754](https://floating-point-gui.de/formats/fp/) double precision (64-bit) values. In a binary fraction representation (as well as with decimal fraction), only certain numbers can be represented exactly. \n",
    "\n",
    "Consider the following, presumably *simple*, calculation:"
   ]
  },
  {
   "cell_type": "code",
   "execution_count": null,
   "metadata": {},
   "outputs": [],
   "source": [
    "a = 0.1 + 0.2\n",
    "\n",
    "print(\"a = {}\".format(a))"
   ]
  },
  {
   "cell_type": "markdown",
   "metadata": {},
   "source": [
    "Why do we get this weird result? [Because internally, computers use a format (binary floating-point) that cannot accurately represent a number like 0.1, 0.2 or 0.3 *at all*.](https://floating-point-gui.de/basic/)"
   ]
  },
  {
   "cell_type": "markdown",
   "metadata": {},
   "source": [
    "An error in the 17th decimal place is pretty small and we can side step the question by rounding float point numbers to a given precision when displaying those value using *string formatters*."
   ]
  },
  {
   "cell_type": "code",
   "execution_count": null,
   "metadata": {},
   "outputs": [],
   "source": [
    "print(\"a = {:.3f}\".format(a))"
   ]
  },
  {
   "cell_type": "markdown",
   "metadata": {},
   "source": [
    "Here, we are formatting the string so that 3 places are used after the decimal point.  Python string formatter can also be use to control the width of number, padding with spaces or zeros, and/or displaying in exponential notation.  \n",
    "\n",
    "See [https://pyformat.info/](https://pyformat.info/) for additional examples of string formats."
   ]
  },
  {
   "cell_type": "markdown",
   "metadata": {},
   "source": [
    "## Comparison with exact result"
   ]
  },
  {
   "cell_type": "markdown",
   "metadata": {},
   "source": [
    "The program concludes by calculating the position and velocity using the known analytical expressions."
   ]
  },
  {
   "cell_type": "code",
   "execution_count": null,
   "metadata": {},
   "outputs": [],
   "source": [
    "# display analytical result\n",
    "yAnalytic = y0 + v0*t - 0.5*g*t*t\n",
    "vAnalytic = v0 - g*t"
   ]
  },
  {
   "cell_type": "markdown",
   "metadata": {},
   "source": [
    "Python includes a number of common mathematical operations, such as:\n",
    "\n",
    "operator | description\n",
    "---------| -----------\n",
    "`**`     | exponent\n",
    "`*`, `/`, `%` | multiplication, division, modulus\n",
    "`+`, `-` |  addition, substraction\n"
   ]
  },
  {
   "cell_type": "markdown",
   "metadata": {},
   "source": [
    "Order of precedence applies (`**` then `*`, `/`, or `%`, then `+` or `-`, evaluating from left to right) so use parentheses `(`, `)` if you need to change the order of operations."
   ]
  },
  {
   "cell_type": "markdown",
   "metadata": {},
   "source": [
    "Finally, we display the analytic result so it can be compared to the numerical result."
   ]
  },
  {
   "cell_type": "code",
   "execution_count": null,
   "metadata": {},
   "outputs": [],
   "source": [
    "print(\"final time = {:.4f}\".format(t))\n",
    "print(\"numerical y = {:.4f} v = {:.4f}\".format(y, v))\n",
    "print(\"analytic  y = {:.4f} v = {:.4f}\".format(yAnalytic, vAnalytic))"
   ]
  },
  {
   "cell_type": "markdown",
   "metadata": {},
   "source": [
    "Notice that there is an error in the numerical result."
   ]
  },
  {
   "cell_type": "markdown",
   "metadata": {},
   "source": [
    "- - -\n",
    "\n",
    "### **Exercise 2.4** Exploring FirstFallingBallApp\n",
    "\n",
    "a. Run `FirstFallingBallApp` for various values of the time step $\\Delta t$. Do the numerical results become closer to the analytic results as $\\Delta t$ is made smaller?\n",
    "\n",
    "b. Use an acceptable value for $\\Delta t$ and run the program for various values for the number of iterations. What criteria do you have for acceptable? At approximately what time does the ball hit the ground at $y= 0$?\n",
    "\n",
    "(*in-class exercise*)\n",
    "- - - "
   ]
  },
  {
   "cell_type": "markdown",
   "metadata": {},
   "source": [
    "Here is the same application (with some of the comments removed) listed again to modify as need as you work on Exercise 2.4:"
   ]
  },
  {
   "cell_type": "code",
   "execution_count": null,
   "metadata": {},
   "outputs": [],
   "source": [
    "def FirstFallingBallApp():\n",
    "\n",
    "    y0 = 100    # initial position\n",
    "    v0 = 0      # initial velocity\n",
    "    t = 0       # time\n",
    "    dt = 0.01   # time step\n",
    "    y = y0\n",
    "    v = v0\n",
    "    g = 9.8     # gravitational field\n",
    "    \n",
    "    for n in range(100):\n",
    "        y = y + v*dt\n",
    "        v = v - g*dt # use Euler algorithm\n",
    "        t = t + dt\n",
    "        \n",
    "    print(\"Results\")\n",
    "    print(\"final time = {:.4f}\".format(t))\n",
    "    print(\"numerical y = {:.4f} v = {:.4f}\".format(y, v))\n",
    "    \n",
    "    # display analytical result\n",
    "    yAnalytic = y0 + v0*t - 0.5*g*t*t\n",
    "    vAnalytic = v0 - g*t\n",
    "    \n",
    "    print(\"analytic  y = {:.4f} v = {:.4f}\".format(yAnalytic, vAnalytic))\n",
    "    \n",
    "FirstFallingBallApp()"
   ]
  },
  {
   "cell_type": "markdown",
   "metadata": {},
   "source": [
    "To be determined by class:\n",
    "\n",
    "- time step, `dt`\n",
    "- number of iterations\n",
    "- final time"
   ]
  },
  {
   "cell_type": "markdown",
   "metadata": {},
   "source": [
    "Execerise 2.4 is a bit tedius and perhaps frustrating. When you changed `dt` you also needed to change the number of iterations so that we could still compare the numerical and analytic results at the same time.\n",
    "\n",
    "Also, we don't know in advance how many iterations are needed to reach the ground.It would be better if that happened automatically."
   ]
  },
  {
   "cell_type": "markdown",
   "metadata": {},
   "source": [
    "We can improve our program using a `while` loop instead of a `for` loop.\n",
    "\n",
    "```\n",
    "while (y > 0):\n",
    "    # statements go here\n",
    "```"
   ]
  },
  {
   "cell_type": "markdown",
   "metadata": {},
   "source": [
    "- - -\n",
    "\n",
    "### **Exercise 2.5** Using while statements\n",
    "\n",
    "Modify `FirstFallingBallApp` so that the `while` statement is used and the program ends when the ball hits the ground at y = 0. Then repeat Exercise 2.4b.\n",
    "\n",
    "(*in-class exercise*)\n",
    "- - - "
   ]
  },
  {
   "cell_type": "markdown",
   "metadata": {},
   "source": [
    "Discuss Exercise 2.5."
   ]
  },
  {
   "cell_type": "markdown",
   "metadata": {},
   "source": [
    "- - -\n",
    "\n",
    "### **Exercise 2.6** Summing a series\n",
    "\n",
    "a. Write a program to sum the following series for a given value of $N$:\n",
    "\n",
    "$$S = \\sum_{m=1}^N \\frac{1}{m^2}$$\n",
    "The following statements may be useful\n",
    "\n",
    "```\n",
    "sum = 0\n",
    "for m in range(1, N+1):\n",
    "    sum = sum + 1/(m*m)\n",
    "```\n",
    "\n",
    "Note that in this case it is more convenient to start the loop from $m=1$ instead of $m=0.$ We also need to set the stop for the loop at `N+1` because `range()` goes up to, but not including, the stop value.\n",
    "\n",
    "\n",
    "b. First run your program with $N=10$. Then run for larger values of $N$. Does the series converge as $N \\rightarrow \\infty$? What value of $N$ \n",
    "is needed to obtain $S$ to within two decimal places? \n",
    "\n",
    "c. Modify your program so that it uses a while loop so that the summation continues until the added term to the sum is less than some value $\\epsilon$. Run your program for $\\epsilon = 10^{-2}$, $10^{-3}$, and $10^{-6}$.\n",
    "\n",
    "d. Instead of using the `=` operator in the statement \n",
    "\n",
    "```\n",
    "sum = sum + 1.0/(m*m)\n",
    "```\n",
    "\n",
    "use the equivalent operator\n",
    "\n",
    "```\n",
    "sum += 1.0/(m**2)\n",
    "```\n",
    "\n",
    "Check that you obtain the same results.\n",
    "\n",
    "*(will appear on  Assignment 1)*\n",
    "- - -"
   ]
  },
  {
   "cell_type": "markdown",
   "metadata": {
    "slideshow": {
     "slide_type": "slide"
    }
   },
   "source": [
    "## Good programming style\n",
    "\n",
    "*Giordano 1.6*\n",
    "\n",
    "You can think of a program of a sequence of steps that you are telling the computer to complete.  While programming is necessarily personal and individual, there are are general guidelines to keep in mind. "
   ]
  },
  {
   "cell_type": "markdown",
   "metadata": {
    "slideshow": {
     "slide_type": "fragment"
    }
   },
   "source": [
    "1\\. **Program structure**.  Use subroutines or functions to organize the major taks and make the program readable and understandable.  Use these functions to perform any taks that take more than a few lines of code, or that are required repeatedly. "
   ]
  },
  {
   "cell_type": "markdown",
   "metadata": {
    "slideshow": {
     "slide_type": "subslide"
    }
   },
   "source": [
    "2\\. **Use descriptive names**.  Choose the names of variables and functions according to the problem at hand. Descriptive names make a program easier to understand, as they act as built-in comment statements."
   ]
  },
  {
   "cell_type": "markdown",
   "metadata": {
    "slideshow": {
     "slide_type": "subslide"
    }
   },
   "source": [
    "3\\. **Use comment statements**.  Include comment statements to explain program logic and describe variables.  A short function that uses descriptive variables names should not need a large number of comment statements."
   ]
  },
  {
   "cell_type": "markdown",
   "metadata": {
    "slideshow": {
     "slide_type": "subslide"
    }
   },
   "source": [
    "4\\. **Sacrifice everything for clarity**. This is a bit overstated, but not much! It is often tempting to write a critical piece of code in a very compact or terse manner in the beliefe that this will make the program run faster. This compactness always comes at the prices of clairity and readability.  It is always better to take a few more lines, or a few more variables to a job, if it makes the more understandable.  Execution speed is rarely a critical issue especially in the context of the time and effort to write and read code by a human!"
   ]
  },
  {
   "cell_type": "markdown",
   "metadata": {
    "slideshow": {
     "slide_type": "slide"
    }
   },
   "source": [
    "## Testing\n",
    "\n",
    "*Giordano 1.4*\n",
    "\n",
    "Creating a working program is more than just getting the code to run without any syntax errors.  We also need to be concerned about whether the output is correct!  Checking a program is not always a trivial task but here are some guidelines:"
   ]
  },
  {
   "cell_type": "markdown",
   "metadata": {
    "slideshow": {
     "slide_type": "fragment"
    }
   },
   "source": [
    "1\\. **Does the output look reasonable?** Before you perform any calculation you should always have at least a rough idea of what the result should be. The first thing you should do when considering the results from any program is ask whether or not they are consistent with your intuition and instincts. This exercise can also improve your overall understanding of the problem. When you show your result to someone else, you should always be able to convice them that it makes sense."
   ]
  },
  {
   "cell_type": "markdown",
   "metadata": {
    "slideshow": {
     "slide_type": "subslide"
    }
   },
   "source": [
    "2\\. **Does the program agree with any exact results that are available?**  Since we knew the analytical solution for our falling ball problem, we were able to compare our numerical values with the exact result. While such a comparison will not be possible for most of the numerical calculations you will encounter, exact results are sometime available in certain limits, that is, for special values of the paramters. You should always run your program in those limits to check that it gives the correct answer. This is a necessary (but not sufficient) test that a program is correct in the general case."
   ]
  },
  {
   "cell_type": "markdown",
   "metadata": {
    "slideshow": {
     "slide_type": "subslide"
    }
   },
   "source": [
    "3\\. **Always check that your program gives the same answer for different *step sizes*.** Our program involved a time-step variable, `dt`, and most other numerical calculation involve similar step- or grid-size parameters. Your final answer should be independent of the values of such parameters. This is another necessary (but not sufficient) test of a program's accuracy."
   ]
  },
  {
   "cell_type": "markdown",
   "metadata": {
    "slideshow": {
     "slide_type": "fragment"
    }
   },
   "source": [
    "Checking a program should not be viewed as a trivial, last minute job. It is not unreasonable to spend as much time checking a program as it takes writing it. A result is not much good if you don't trust it to be correct."
   ]
  },
  {
   "cell_type": "markdown",
   "metadata": {
    "slideshow": {
     "slide_type": "slide"
    }
   },
   "source": [
    "- - - \n",
    "## Textbook readings\n",
    "\n",
    "Read the following sections from [CSM Chapter 2](https://www.compadre.org/osp/document/ServeFile.cfm?ID=7375&DocID=2145&Attachment=1)\n",
    "- 2.1 Introduction\n",
    "- 2.2 Simulation free fall (The text uses on Java and object oriented programming; probably best to only skim it for Phys 2820).\n",
    "\n",
    "\n",
    "## DataCamp exercises\n",
    "\n",
    "To learn more about Python, continue to work through the following [DataCamp](http://datacamp.com) chapters over the next week:\n",
    "- Introduction to Python: Python Basics\n",
    "- Introduction to Python: Functions and Packages \n",
    "- Introduction to Python: NumPy \n",
    "- Intermediate Python for Data Science: Matplotlib \n",
    "- Intermediate Python for Data Science: Logic, Control Flow and Filtering \n",
    "- Intermediate Python for Data Science: Loops\n"
   ]
  }
 ],
 "metadata": {
  "anaconda-cloud": {},
  "kernelspec": {
   "display_name": "Python 3",
   "language": "python",
   "name": "python3"
  },
  "language_info": {
   "codemirror_mode": {
    "name": "ipython",
    "version": 3
   },
   "file_extension": ".py",
   "mimetype": "text/x-python",
   "name": "python",
   "nbconvert_exporter": "python",
   "pygments_lexer": "ipython3",
   "version": "3.6.7"
  }
 },
 "nbformat": 4,
 "nbformat_minor": 2
}
