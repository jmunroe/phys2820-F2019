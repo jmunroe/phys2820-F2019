{
 "cells": [
  {
   "cell_type": "markdown",
   "metadata": {},
   "source": [
    "# Labs"
   ]
  },
  {
   "cell_type": "markdown",
   "metadata": {},
   "source": [
    "# Skydiver Problem\n",
    "## Lab 1"
   ]
  },
  {
   "cell_type": "markdown",
   "metadata": {},
   "source": [
    "This lab involves modelling a skydiver falling through the air.  Initially, air resistance is very small, but upon deployment of a parachute, air drag suddenly increases to a large value.  The mass of the jumper is 60 kg, acceleration due to gravity is $9.81\\;\\mathrm{m/s}^2$ , the jumper starts from a height of 1000 m and opens the parachute at about 200 m above the ground.  The jumper feels a drag force $F_d = k v^2$, where $k$ changes to a high value after the parachute is opened."
   ]
  },
  {
   "cell_type": "markdown",
   "metadata": {},
   "source": [
    "## 1. Model the action of the parachute with a hyperbolic tangent"
   ]
  },
  {
   "cell_type": "markdown",
   "metadata": {},
   "source": [
    " \n",
    " To model the action of the parachute we will use the hyperbolic tangent function.  Plot `np.tanh(x-5)` from x=0 to 10.  Don't worry about making the graph look perfect, but make sure the range of the graph goes from -1.2 to 1.2."
   ]
  },
  {
   "cell_type": "code",
   "execution_count": null,
   "metadata": {},
   "outputs": [],
   "source": [
    "x = np.arange(___, ___, 0.01)\n",
    "y = ___\n",
    "\n",
    "plt.ylim(___, ___)\n",
    "plt.plot(x, y)\n",
    "plt.show()"
   ]
  },
  {
   "cell_type": "markdown",
   "metadata": {},
   "source": [
    "As you can see from the graph, to a good approximation the function goes from one constant value to another.  Now plot the function 6 - 2 tanh( (x-5)/0.1 ) from $x$ = 0 to 10. Choose an appropriate range so that you can see both the top and bottom of your plot."
   ]
  },
  {
   "cell_type": "code",
   "execution_count": null,
   "metadata": {},
   "outputs": [],
   "source": [
    "# your code to make the plot goes here\n"
   ]
  },
  {
   "cell_type": "markdown",
   "metadata": {},
   "source": [
    "Notice how we have transformed the function so that it changes more abruptly, has a wider range and different end values.  Let's now choose appropriate parameters to model our system, and store them in variables\n",
    "\n",
    "* m = 60  - mass of jumper in kg\n",
    "* g = 9.81  - acceleration due to gravity\n",
    "* h = 1000   - initial height in m\n",
    "* y0 = 200  -  height at which the jumper opens the parachute\n",
    "* kd = 0.48  -  drag coefficient without parachute in kg /m\n",
    "* kp = 30.24 -  drag coefficient with parachute fully deployed\n",
    "* d = 20  -  roughly the distance (m) the jumper falls during the parachute opening"
   ]
  },
  {
   "cell_type": "code",
   "execution_count": null,
   "metadata": {},
   "outputs": [],
   "source": [
    "# initialize the variables here as global constants\n"
   ]
  },
  {
   "cell_type": "markdown",
   "metadata": {},
   "source": [
    "Define a new Python function that implements the the formula using NumPy `np` functions\n",
    "$$k(y) = kp - \\frac{(kp-kd)}{2} \\left(1+\\tanh\\left( 2 \\frac{(y-y0)}{d} \\right)\\right).$$  \n",
    "\n",
    "k(y) is our mathematical model for the drag coefficient as a function of the jumper's height above the ground."
   ]
  },
  {
   "cell_type": "code",
   "execution_count": null,
   "metadata": {},
   "outputs": [],
   "source": [
    "def k(y):\n",
    "    return ___"
   ]
  },
  {
   "cell_type": "markdown",
   "metadata": {},
   "source": [
    "You will use this new `k(y)` function inside your numerical code in section 2 below."
   ]
  },
  {
   "cell_type": "markdown",
   "metadata": {},
   "source": [
    "Plot the function k(y), with y ranging from 0 to 1000."
   ]
  },
  {
   "cell_type": "code",
   "execution_count": null,
   "metadata": {},
   "outputs": [],
   "source": [
    "y = np.arange(0, 1000, 0.1)\n",
    "\n",
    "plt.xlabel(\"height (m)\")\n",
    "plt.ylabel(\"drag coefficient (kg/m)\")\n",
    "plt.plot(y, k(y))"
   ]
  },
  {
   "cell_type": "markdown",
   "metadata": {},
   "source": [
    "Check your values for k(0) and k(1000).  They should be 30.24 and 0.48 respectively.  \n",
    "\n",
    "k(0)  \n",
    "k(1000)"
   ]
  },
  {
   "cell_type": "code",
   "execution_count": null,
   "metadata": {},
   "outputs": [],
   "source": [
    "print(k(0), k(1000))"
   ]
  },
  {
   "cell_type": "markdown",
   "metadata": {},
   "source": [
    "## 2. Solving the problem numerically"
   ]
  },
  {
   "cell_type": "markdown",
   "metadata": {},
   "source": [
    " Now that we've modelled the skydiver problem with a height-varying drag coefficient, let's find the height and velocity as functions of time using Euler's method, assuming initial velocity of zero. \n",
    "\n",
    "The equation that we want to solve is\n",
    "$$ \\frac{d^2y}{dt^2} = -g + \\frac{k(y)}{m} v^2\\;, $$\n",
    "\n",
    "along with appropriate initial conditions.\n",
    "\n",
    "The first task is to rewrite this second-order differential equation as pair of two first-order differential equations by introducing $v = \\frac{dy}{dt}$."
   ]
  },
  {
   "cell_type": "markdown",
   "metadata": {},
   "source": [
    "$$\n",
    "\\begin{align}\n",
    "\\frac{dy}{dt} &=  \\\\\n",
    "\\frac{dv}{dt} &= \n",
    "\\end{align}\n",
    "$$\n"
   ]
  },
  {
   "cell_type": "markdown",
   "metadata": {},
   "source": [
    "Implement your numerical solution below using Euler's method."
   ]
  },
  {
   "cell_type": "markdown",
   "metadata": {},
   "source": [
    "### Computation routine"
   ]
  },
  {
   "cell_type": "code",
   "execution_count": null,
   "metadata": {},
   "outputs": [],
   "source": [
    "def SkyDiverStepper():\n",
    " \n",
    "    tmax = 400\n",
    "    dt = ___\n",
    "    \n",
    "    # initialize the model variables\n",
    "    t = ___\n",
    "    y = ___\n",
    "    v = ___\n",
    "    \n",
    "    while True:\n",
    "        \n",
    "        model = {'t': t, 'y': y, 'v': v}\n",
    "        yield model # pass model state back to the caller\n",
    "        \n",
    "        if t > tmax:\n",
    "            # stop of the model is beyond the max time\n",
    "            break\n",
    "        elif y <= 0:\n",
    "            # stop of the jumper is at the ground\n",
    "            break\n",
    "        \n",
    "        # use the Euler algorithm to update the model\n",
    "        y = ___\n",
    "        v = ___\n",
    "        t = t + dt"
   ]
  },
  {
   "cell_type": "code",
   "execution_count": null,
   "metadata": {},
   "outputs": [],
   "source": [
    "def SkyDiverPlot(jumper):\n",
    "    \n",
    "    plt.plot(jumper.t, jumper.y)\n",
    "    plt.ylabel('___')\n",
    "    plt.xlabel('___')\n",
    "    plt.title('Skydiver height vs time')\n",
    "    plt.ylim(0, h)"
   ]
  },
  {
   "cell_type": "markdown",
   "metadata": {},
   "source": [
    "Run your numerical model and plot the height $y$ vs time $t$."
   ]
  },
  {
   "cell_type": "code",
   "execution_count": null,
   "metadata": {},
   "outputs": [],
   "source": [
    "# set up the model\n",
    "model = SkyDiverStepper()\n",
    "    \n",
    "# iterate the model\n",
    "jumper = pd.DataFrame(model)\n",
    "    \n",
    "# plot the results\n",
    "SkyDiverPlot(jumper)\n"
   ]
  },
  {
   "cell_type": "markdown",
   "metadata": {},
   "source": [
    "## 3. Analysis of solution"
   ]
  },
  {
   "cell_type": "markdown",
   "metadata": {},
   "source": [
    "Estimate the total time the skydiver spends in the air.\n",
    "\n",
    "* Easier (approximate) method: Use the plot to estimate time when when y = 0.\n",
    "* Harder (exact) method: Use linear interpolation to estimate the time when time y = 0.\n",
    "* *Try both methods.*"
   ]
  },
  {
   "cell_type": "code",
   "execution_count": null,
   "metadata": {},
   "outputs": [],
   "source": [
    "# your code goes here\n"
   ]
  },
  {
   "cell_type": "code",
   "execution_count": null,
   "metadata": {},
   "outputs": [],
   "source": [
    "t_landing = ___\n",
    "print(\"The skydiver lands after\", t_landing, \"s.\")"
   ]
  },
  {
   "cell_type": "markdown",
   "metadata": {},
   "source": [
    "Plot the velocity $v$ versus time $t$.  Remember to use good axes labels with units and add a title."
   ]
  },
  {
   "cell_type": "code",
   "execution_count": null,
   "metadata": {},
   "outputs": [],
   "source": [
    "# plot the velocity vs time\n",
    "plt.plot(___, ___)\n",
    "\n",
    "plt.show()"
   ]
  },
  {
   "cell_type": "markdown",
   "metadata": {},
   "source": [
    "What is the approximate terminal speed of the skydiver before the parachute is deployed?  What about after?"
   ]
  },
  {
   "cell_type": "markdown",
   "metadata": {},
   "source": [
    "(Example: use `display(jumper[5:10])` to look only at rows 5 through 10 \n",
    "  in a dataframe )"
   ]
  },
  {
   "cell_type": "code",
   "execution_count": null,
   "metadata": {},
   "outputs": [],
   "source": []
  },
  {
   "cell_type": "markdown",
   "metadata": {},
   "source": [
    "Answer: Terminal speed without the parachute is `___` m/s, while with the parachute it is `___` m/s."
   ]
  },
  {
   "cell_type": "markdown",
   "metadata": {},
   "source": [
    "Calculate and plot the acceleration of the skydiver (include axes labels with units).\n",
    "\n",
    "* *Hint: you will need to calculate acceleration as the change in velocity divided by the change in time. You have already computed both velocity and time.*"
   ]
  },
  {
   "cell_type": "code",
   "execution_count": null,
   "metadata": {},
   "outputs": [],
   "source": [
    "v = np.array(jumper.v)\n",
    "t = np.array(jumper.t)\n",
    "dv = np.diff(v)\n",
    "dt = np.diff(t)\n",
    "a = ___\n",
    "    \n",
    "# While this is the right idea:\n",
    "# plt.plot(t, a)\n",
    "# It would cause the following error:\n",
    "# \"ValueError: x and y must have same first dimension, but have shapes (7044,) and (7043,)\"\n",
    "\n",
    "# Strictly speaking, we need to use the times at the mid points of each interval\n",
    "plt.plot((t[1:]+t[:-1])/2, a)\n",
    "\n",
    "plt.xlabel(___)\n",
    "plt.ylabel(___)\n",
    "plt.ylim(___, ___)\n",
    "plt.title(___)\n",
    "\n",
    "plt.show()"
   ]
  },
  {
   "cell_type": "markdown",
   "metadata": {},
   "source": [
    "What is the largest acceleration felt by the skydiver during his descent (express your answer as a multiple of g)?"
   ]
  },
  {
   "cell_type": "code",
   "execution_count": null,
   "metadata": {},
   "outputs": [],
   "source": [
    "# the max() function returns the maximum of an array\n"
   ]
  },
  {
   "cell_type": "markdown",
   "metadata": {},
   "source": [
    "Answer:  The largest acceleration felt is approximately `___` g."
   ]
  },
  {
   "cell_type": "code",
   "execution_count": null,
   "metadata": {},
   "outputs": [],
   "source": []
  },
  {
   "cell_type": "code",
   "execution_count": null,
   "metadata": {},
   "outputs": [],
   "source": [
    "%matplotlib inline\n",
    "import numpy as np\n",
    "import matplotlib.pyplot as plt\n",
    "import pandas as pd\n",
    "from ipywidgets import interactive\n",
    "from mpl_toolkits.mplot3d import Axes3D"
   ]
  },
  {
   "cell_type": "markdown",
   "metadata": {},
   "source": [
    "# Spinning Basketball\n",
    "## Lab 2"
   ]
  },
  {
   "cell_type": "markdown",
   "metadata": {},
   "source": [
    ". . ."
   ]
  },
  {
   "cell_type": "markdown",
   "metadata": {},
   "source": [
    "# Nonlinear Pendulum\n",
    "## Lab 3"
   ]
  },
  {
   "cell_type": "markdown",
   "metadata": {},
   "source": [
    "## Introduction"
   ]
  },
  {
   "cell_type": "markdown",
   "metadata": {},
   "source": [
    "We will study in this lab a strange property of the nonlinear pendulum.  \n",
    "\n",
    "The equation of motion for a damped driven nonlinear pendulum is\n",
    "\n",
    "\\begin{align}\n",
    "\\frac{d^2 \\theta}{dt^2} &= - \\omega_0^2 \\sin(\\theta) -\\gamma \\frac{d \\theta}{dt}  + A \\sin(\\omega t)\\;.\n",
    "\\end{align}"
   ]
  },
  {
   "cell_type": "code",
   "execution_count": null,
   "metadata": {},
   "outputs": [],
   "source": [
    "# constant parameters\n",
    "\n",
    "#pendulum length in metres\n",
    "L = 9.8\n",
    "#acceleration due to gravity\n",
    "g = 9.8\n",
    "# natural frequency\n",
    "ω0 = np.sqrt(g/L)"
   ]
  },
  {
   "cell_type": "markdown",
   "metadata": {},
   "source": [
    "Below is a program that solves either the linear driven, damped pendulum problem.\n",
    "\n",
    "Linear means that we are using the small-angle approximation: $\\sin(\\theta) \\approx \\theta$."
   ]
  },
  {
   "cell_type": "code",
   "execution_count": null,
   "metadata": {},
   "outputs": [],
   "source": [
    "def LinearPendulumStepper(x0=0.1, v0=0, \n",
    "                    γ=1, A=0, ω=0,\n",
    "                    dt=0.01, tmax=10):\n",
    "    \"\"\"\n",
    "    Solve for motion of a driven damped linear pendulum using Euler-Richardson\n",
    "    \n",
    "    x is the angular displacement (θ)\n",
    "    v is the angular velocity (dθ/dt)\n",
    "    \"\"\"\n",
    "    \n",
    "    # initialize the model\n",
    "    t = 0\n",
    "    x = x0\n",
    "    v = v0\n",
    "    \n",
    "    while True:\n",
    "        model = {'t': t, 'x': x, 'v': v}\n",
    "        yield model # return the model state back to the caller\n",
    "    \n",
    "        if t > tmax:\n",
    "            break\n",
    "            \n",
    "        # calculate acceleration (force / mass)\n",
    "        a = - ω0**2 * x - γ * v + A * np.sin(ω*t)\n",
    "        \n",
    "        # use the Euler-Richardson algorithm to update the state of the model\n",
    "        vmid = v + 1/2 * a * dt\n",
    "        xmid = x + 1/2 * v * dt\n",
    "        tmid = t + 1/2 * dt\n",
    "        amid = - ω0**2 * xmid - γ * vmid + A * np.sin(ω*tmid)\n",
    "        \n",
    "        v = v + amid * dt\n",
    "        x = x + vmid * dt\n",
    "        t = t + dt\n"
   ]
  },
  {
   "cell_type": "code",
   "execution_count": null,
   "metadata": {},
   "outputs": [],
   "source": [
    "def PendulumPlotter(data):\n",
    "    fig, axs = plt.subplots(1, 1, figsize=(8,4))\n",
    "    \n",
    "    plt.plot(data.t, data.x)\n",
    "    plt.ylabel(\"x\")\n",
    "    plt.xlabel(\"t\")"
   ]
  },
  {
   "cell_type": "code",
   "execution_count": null,
   "metadata": {},
   "outputs": [],
   "source": [
    "def LinearPendulumApp(x0=0.2, v0=0, γ=0.5, ω=2, A=1, tmax=20):\n",
    "    \n",
    "    stepper = LinearPendulumStepper(x0=x0, v0=v0,\n",
    "                              γ=γ, A=A, ω=ω,\n",
    "                              tmax=tmax)\n",
    "    data = pd.DataFrame(stepper)\n",
    "    PendulumPlotter(data)\n",
    "    \n",
    "    return data"
   ]
  },
  {
   "cell_type": "code",
   "execution_count": null,
   "metadata": {},
   "outputs": [],
   "source": [
    "interactive(LinearPendulumApp, \n",
    "            x0=(0, 1, 0.1), v0=(0, 1, 0.1),\n",
    "            γ=(0, 5, 0.2),\n",
    "            A=(0.50, 2.0, 0.01),\n",
    "            ω=(0.1, 4, 0.1),\n",
    "            tmax=(10, 100, 10))"
   ]
  },
  {
   "cell_type": "markdown",
   "metadata": {},
   "source": [
    "## Non-linear behaviour\n",
    "\n",
    "Modify the `NonlinearPendulumStepper` function below so that it solves for a *non-linear* pendulum (the restoring force depends on $\\sin(\\theta)$ and not just $\\theta$).\n",
    "\n",
    "Now plot the motion of a non-linear pendulum with the same parameters as given above. What is the period of the non-linear pendulum?"
   ]
  },
  {
   "cell_type": "code",
   "execution_count": null,
   "metadata": {},
   "outputs": [],
   "source": [
    "def NonlinearPendulumStepper(x0=0.1, v0=0, \n",
    "                    γ=1, A=0, ω=0,\n",
    "                    dt=0.01, tmax=10):\n",
    "    \"\"\"\n",
    "    Solve for motion of a driven damped nonlinear pendulum using Euler-Richardson\n",
    "    \n",
    "    x is the angular displacement (θ)\n",
    "    v is the angular velocity (dθ/dt)\n",
    "    \"\"\"\n",
    "    \n",
    "    # initialize the model\n",
    "    t = 0\n",
    "    x = x0\n",
    "    v = v0\n",
    "    \n",
    "    while True:\n",
    "        model = {'t': t, 'x': x, 'v': v}\n",
    "        yield model # return the model state back to the caller\n",
    "    \n",
    "        if t > tmax:\n",
    "            break\n",
    "            \n",
    "        # >>>> Change the code below so that it solves for a nonlinear pendulum\n",
    "        # calculate acceleration (force / mass)\n",
    "        a = - ω0**2 * x - γ * v + A * np.sin(ω*t)\n",
    "        \n",
    "        # use the Euler-Richardson algorithm to update the state of the model\n",
    "        vmid = v + 1/2 * a * dt\n",
    "        xmid = x + 1/2 * v * dt\n",
    "        tmid = t + 1/2 * dt\n",
    "        amid = - ω0**2 * xmid - γ * vmid + A * np.sin(ω*tmid)\n",
    "        \n",
    "        v = v + amid * dt\n",
    "        x = x + vmid * dt\n",
    "        t = t + dt\n",
    "        # <<<<< \n",
    "        \n",
    "        # We need to adjust theta after each iteration so as to keep it between +/-π\n",
    "        # The pendulum can now swing right around the pivot, corresponding to θ>2π.\n",
    "        # Theta is an angular variable so values of theta that differ by 2π\n",
    "        # correspond to the same position.\n",
    "        # For plotting purposes it is nice to keep (-π < θ < π).\n",
    "        # So, if theta is <-π, add 2π.If theta is > π, subtract 2π\n",
    "        #********************************************************************************************\n",
    "        if (x < -np.pi):\n",
    "            x = x+2*np.pi \n",
    "        elif (x > np.pi):\n",
    "            x = x-2*np.pi\n",
    "        #********************************************************************************************\n",
    "        # you may temporarily comment out the above if/elif block to see what happens\n",
    "        \n",
    "def NonlinearPendulumApp(x0=1, v0=0, γ=0.5, ω=2, A=1, tmax=20):\n",
    "    \n",
    "    stepper = NonlinearPendulumStepper(x0=x0, v0=v0,\n",
    "                              γ=γ, A=A, ω=ω,\n",
    "                              tmax=tmax)\n",
    "    data = pd.DataFrame(stepper)\n",
    "    PendulumPlotter(data)\n",
    "    \n",
    "    return data"
   ]
  },
  {
   "cell_type": "markdown",
   "metadata": {},
   "source": [
    "## Phase plots"
   ]
  },
  {
   "cell_type": "markdown",
   "metadata": {},
   "source": [
    "Another way of visualization the periodic nature of the pendulum is make a *phase-plot* as we did in lecture. \n",
    "\n",
    "Make phase-plots (angular velocity vs angular displacement) for each of the four simulations you showed above."
   ]
  },
  {
   "cell_type": "markdown",
   "metadata": {},
   "source": [
    "*your answer here...*"
   ]
  },
  {
   "cell_type": "code",
   "execution_count": null,
   "metadata": {},
   "outputs": [],
   "source": []
  },
  {
   "cell_type": "markdown",
   "metadata": {},
   "source": [
    "# Numerical Differentiation and Integration\n",
    "## Lab 4"
   ]
  },
  {
   "cell_type": "markdown",
   "metadata": {},
   "source": [
    "### In this section, we will explore the accurary of taking derivatives numerically."
   ]
  },
  {
   "cell_type": "markdown",
   "metadata": {},
   "source": [
    "a)  Define the mathematical function \n",
    "\n",
    "$$g(x)=e^{-\\cos(x)}$$  \n",
    "\n",
    "as the Python function `g(x)`.\n",
    "\n",
    "*Hint: write a function with a single argument `x` that returns the composition of np.exp() and np.cos()*\n",
    "\n",
    "    def g(x):\n",
    "        return BLANK\n",
    "       "
   ]
  },
  {
   "cell_type": "code",
   "execution_count": null,
   "metadata": {},
   "outputs": [],
   "source": [
    "# your code here\n"
   ]
  },
  {
   "cell_type": "markdown",
   "metadata": {},
   "source": [
    "Plot this function from $x=0$ to $x=2$.  "
   ]
  },
  {
   "cell_type": "code",
   "execution_count": null,
   "metadata": {},
   "outputs": [],
   "source": [
    "# your code here\n",
    "\n",
    "plt.xlabel('$x$')\n",
    "plt.ylabel('$g(x)$')\n",
    "plt.show()"
   ]
  },
  {
   "cell_type": "markdown",
   "metadata": {},
   "source": [
    "Evaluate $dg/dx$ by hand (OR WITH SYMPY!) and then create a new function called `dgdx(x)` that implements this first derivative."
   ]
  },
  {
   "cell_type": "markdown",
   "metadata": {},
   "source": [
    "$$\\frac{dg}{dx} = $$\n",
    "\n",
    "     def dgdx(x):\n",
    "        return BLANK"
   ]
  },
  {
   "cell_type": "code",
   "execution_count": null,
   "metadata": {},
   "outputs": [],
   "source": [
    "# your code here\n"
   ]
  },
  {
   "cell_type": "markdown",
   "metadata": {},
   "source": [
    "Use the function `dgdx(x)` to compute $dg/dx$ at $x=1.3$ and store the result in a variable called `exact`. Print out this value."
   ]
  },
  {
   "cell_type": "code",
   "execution_count": null,
   "metadata": {},
   "outputs": [],
   "source": [
    "# your code here\n"
   ]
  },
  {
   "cell_type": "markdown",
   "metadata": {},
   "source": [
    "b) Write a function that numerically calculates the derivative of an inputted function at a given point, using the forward difference approximation.  The 3 arguments of your function should be function to be differentiated, point at which to evaluate the derivative, and stepsize.  \n",
    "\n",
    "    def diff_forward( BLANK, BLANK, BLANK  ):  \n",
    "        return (f(x + h) - f(x)) / h\n",
    "        \n",
    "*Hint: the first argument will be the **name** of the function only*"
   ]
  },
  {
   "cell_type": "code",
   "execution_count": null,
   "metadata": {},
   "outputs": [],
   "source": [
    "# your code here\n"
   ]
  },
  {
   "cell_type": "markdown",
   "metadata": {},
   "source": [
    "Use your forward difference function to estimate $dg/dx$ at $x=1.3$ using a stepsize of $h=0.1$.  Store this result in a variable called `approx` and print out this value."
   ]
  },
  {
   "cell_type": "code",
   "execution_count": null,
   "metadata": {},
   "outputs": [],
   "source": [
    "# your code here\n"
   ]
  },
  {
   "cell_type": "markdown",
   "metadata": {},
   "source": [
    "What is the relative error? Print it this value.\n",
    "\n",
    "    relerror = np.abs((approx - exact)/exact)"
   ]
  },
  {
   "cell_type": "code",
   "execution_count": null,
   "metadata": {},
   "outputs": [],
   "source": [
    "# your code here\n"
   ]
  },
  {
   "cell_type": "markdown",
   "metadata": {},
   "source": [
    "c)  Plot the absolute value of the relative error on a double log plot for your forward difference scheme as a function of $h$, with $h$ ranging from 0.1 to 10$^{-12}$ in multiplicative steps of 0.1.  Use logarthmmic axes for both $h$ and the error.  Note the minimum that appears as $h$ becomes very small.\n"
   ]
  },
  {
   "cell_type": "markdown",
   "metadata": {},
   "source": [
    "> Hint: Here is a method of plotting $y=x^2$ on a logarithmic scale.  You will need to plot the relative error as a function of $h$.\n",
    "\n",
    "    n = 6\n",
    "    x = np.zeros(n)\n",
    "    y = np.zeros(n)\n",
    "    for i in range(n):\n",
    "        x[i] = 10**(-i)\n",
    "        y[i] = x[i]**2\n",
    "    \n",
    "    plt.loglog(x, y, 'o-')\n",
    "    plt.show()"
   ]
  },
  {
   "cell_type": "code",
   "execution_count": null,
   "metadata": {},
   "outputs": [],
   "source": [
    "# your code here\n"
   ]
  },
  {
   "cell_type": "markdown",
   "metadata": {},
   "source": [
    "For approximately what value of h is the most accurate value of the derivative obtained?"
   ]
  },
  {
   "cell_type": "markdown",
   "metadata": {},
   "source": [
    "Answer: we get the most accurate answer when h is ____\n"
   ]
  },
  {
   "cell_type": "markdown",
   "metadata": {},
   "source": [
    "### In this section we will numerically differentiate and integrate discrete data.  \n"
   ]
  },
  {
   "cell_type": "markdown",
   "metadata": {},
   "source": [
    "a) First we shall generate some synthetic data with two columns: one for time in s, the other for velocity in m/s with some noise.\n",
    "\n",
    "*(Nothing to change here, just run the code cell)*"
   ]
  },
  {
   "cell_type": "code",
   "execution_count": null,
   "metadata": {},
   "outputs": [],
   "source": [
    "t = np.arange(0, 2.05, 0.05)\n",
    "v = 6.2 - 9.8 * t + np.random.normal(0, 0.3, len(t))\n",
    "data = pd.DataFrame({'t':t, 'v':v})\n",
    "\n",
    "plt.plot(data.t, data.v, '.')\n",
    "plt.xlabel(\"t (s)\")\n",
    "plt.ylabel(\"v (m/s)\")\n",
    "plt.show()"
   ]
  },
  {
   "cell_type": "markdown",
   "metadata": {},
   "source": [
    "b) Write a function that calculates the accleration (first derivative) for data in an array, using a **centred difference** scheme.  Use your function to generate an array containing time and acceleration.  \n",
    "\n",
    "*Hint: your function will be something like:*\n",
    "\n",
    "    def a(data, i):  \n",
    "        return (BLANK[i + 1] - data.v[BLANK]) / (data.t[BLANK] - BLANK[i - 1])\n",
    "        "
   ]
  },
  {
   "cell_type": "code",
   "execution_count": null,
   "metadata": {},
   "outputs": [],
   "source": [
    "# your code here\n"
   ]
  },
  {
   "cell_type": "markdown",
   "metadata": {},
   "source": [
    "Make a graph of the acceleration as a function of time.  The graph should be fairly noisy.\n",
    "\n",
    "    data['a'] = np.nan\n",
    "    for i in range(BLANK, BLANK):\n",
    "        data['a'][i] = BLANK\n",
    "\n",
    "    plt.plot(data.t, data.a, 'o-')\n",
    "    plt.xlabel(\"t (s)\")\n",
    "    plt.ylabel(\"a (m/s^2)\")\n",
    "    plt.ylim(-15, 5)\n",
    "    plt.show()"
   ]
  },
  {
   "cell_type": "code",
   "execution_count": null,
   "metadata": {},
   "outputs": [],
   "source": [
    "# your code here\n"
   ]
  },
  {
   "cell_type": "markdown",
   "metadata": {},
   "source": [
    "What is the mean acceleration?\n",
    "\n",
    "    np.mean(BLANK)"
   ]
  },
  {
   "cell_type": "code",
   "execution_count": null,
   "metadata": {},
   "outputs": [],
   "source": [
    "# your code here\n"
   ]
  },
  {
   "cell_type": "markdown",
   "metadata": {},
   "source": [
    "Answer:  Mean velocity is ____ m/s$^2$."
   ]
  },
  {
   "cell_type": "markdown",
   "metadata": {},
   "source": [
    "c) Using the trapezoid rule, write a function that integrates an array of velocity data, from the beginning up to an arbitrary end point (that is, up to and including index `k`), in order to determine the displacement. \n",
    "\n",
    "Fill in the blanks:\n",
    "\n",
    "    def trapezoid_rule(data, k):  \n",
    "        deltax = data.t[1] - data.t[0]  \n",
    "        sum = 0  \n",
    "\n",
    "        if k==0:\n",
    "            return sum\n",
    "\n",
    "        sum += deltax / 2 * (BLANK + BLANK)  \n",
    "        for i in range(BLANK, BLANK):  \n",
    "            sum += BLANK\n",
    "\n",
    "        return sum"
   ]
  },
  {
   "cell_type": "code",
   "execution_count": null,
   "metadata": {},
   "outputs": [],
   "source": [
    "# your code here\n"
   ]
  },
  {
   "cell_type": "markdown",
   "metadata": {},
   "source": [
    " Integrate the velocity data to find the displacement as a  function of time assuming initial displacement is zero. \n",
    " \n",
    "    data['y'] = np.nan\n",
    "    for k in range(BLANK):\n",
    "        data.y[k] = trapezoid_rule(data, BLANK)\n",
    "\n",
    "    plt.plot(BLANK, BLANK, '.-')\n",
    "    plt.ylabel(\"y(m)\")\n",
    "    plt.xlabel(\"t (s)\")\n",
    "    plt.show()"
   ]
  },
  {
   "cell_type": "code",
   "execution_count": null,
   "metadata": {},
   "outputs": [],
   "source": [
    "# your code here\n"
   ]
  },
  {
   "cell_type": "markdown",
   "metadata": {},
   "source": [
    "What is the final displacement (at $t=2.00$ s)?"
   ]
  },
  {
   "cell_type": "code",
   "execution_count": null,
   "metadata": {},
   "outputs": [],
   "source": [
    "# your code here\n"
   ]
  },
  {
   "cell_type": "markdown",
   "metadata": {},
   "source": [
    "Answer: Final displacement is ____ m"
   ]
  },
  {
   "cell_type": "markdown",
   "metadata": {},
   "source": [
    "You should notice that taking the dervative (finding the acceleration) is a noisy operation that increases the variability compared to the velocity data.  However, taking the integration (finding the displacement) is a smoothing operation that decreases the variability compared to the velocity data."
   ]
  },
  {
   "cell_type": "code",
   "execution_count": null,
   "metadata": {},
   "outputs": [],
   "source": [
    "%matplotlib inline\n",
    "import numpy as np\n",
    "import matplotlib.pyplot as plt\n",
    "import pandas as pd"
   ]
  },
  {
   "cell_type": "markdown",
   "metadata": {},
   "source": [
    "# Curve Fitting\n",
    "## Lab 5"
   ]
  },
  {
   "cell_type": "markdown",
   "metadata": {},
   "source": [
    "## 1. Climate Change"
   ]
  },
  {
   "cell_type": "markdown",
   "metadata": {},
   "source": [
    "The data in the file `data/global_tanomaly.csv` represents the mean annual global atmospheric temperature anomaly from 1850 to 2009. If you are not on the lab computers, you will need to first download this file from D2L. The first column is time (year) and the second is the temperature anomaly (degree Celsius). Import these data."
   ]
  },
  {
   "cell_type": "code",
   "execution_count": null,
   "metadata": {},
   "outputs": [],
   "source": []
  },
  {
   "cell_type": "markdown",
   "metadata": {},
   "source": [
    "Make a scatter plot of the data (use small dots as marker symbols and do *not* connect the data points)."
   ]
  },
  {
   "cell_type": "code",
   "execution_count": null,
   "metadata": {},
   "outputs": [],
   "source": []
  },
  {
   "cell_type": "markdown",
   "metadata": {},
   "source": [
    "Make a linear fit to these data using the `np.polyfit` command. "
   ]
  },
  {
   "cell_type": "code",
   "execution_count": null,
   "metadata": {},
   "outputs": [],
   "source": []
  },
  {
   "cell_type": "markdown",
   "metadata": {},
   "source": [
    "What is the slope of the line of best fit (include units)?"
   ]
  },
  {
   "cell_type": "code",
   "execution_count": null,
   "metadata": {},
   "outputs": [],
   "source": []
  },
  {
   "cell_type": "markdown",
   "metadata": {},
   "source": [
    "Now make a second-order polynomial fit to the data."
   ]
  },
  {
   "cell_type": "code",
   "execution_count": null,
   "metadata": {},
   "outputs": [],
   "source": []
  },
  {
   "cell_type": "markdown",
   "metadata": {},
   "source": [
    "Plot the results of each fit (using `np.polyval`) onto a single figure and on top of the data. Use different colors to represent each fit."
   ]
  },
  {
   "cell_type": "code",
   "execution_count": null,
   "metadata": {},
   "outputs": [],
   "source": []
  },
  {
   "cell_type": "markdown",
   "metadata": {},
   "source": [
    "#  Earthquake Detection\n",
    "## Lab 6"
   ]
  },
  {
   "cell_type": "markdown",
   "metadata": {},
   "source": [
    ". . . skip"
   ]
  },
  {
   "cell_type": "markdown",
   "metadata": {},
   "source": [
    "# Central Forces and Potential Energy\n",
    "## Lab 7"
   ]
  },
  {
   "cell_type": "markdown",
   "metadata": {},
   "source": [
    "## Introduction"
   ]
  },
  {
   "cell_type": "markdown",
   "metadata": {},
   "source": [
    "In our discussion the solar system, we explicitly used Newton's Law of Gravitation to calculate the force between two celestial bodies.  Since gravity is a **conservative** force, we also could have considered the gravitional potential energy $U_g$ and used\n",
    "\n",
    "$$ F_g = - \\frac{d}{dr}U_g$$"
   ]
  },
  {
   "cell_type": "markdown",
   "metadata": {},
   "source": [
    "In this lab we'll start from a potential energy and use that to calculate the motion of two particles."
   ]
  },
  {
   "cell_type": "markdown",
   "metadata": {},
   "source": [
    "The potential energy between two point particles with masses $m_1 = 1$ and $m_2 = 2$ is \n",
    "\n",
    "$$U(r)=-\\frac{1}{r},$$\n",
    "\n",
    "where $r$ is the distance between them.  \n",
    "\n",
    "This results in an attractive force acting along the line connecting the two particles (much like gravity). \n",
    "\n",
    "At time t=0, the positions of the particles are $r_1 = (-10,-1)$ and $r_2 = (10,1)$, and  their velocities are $v_1 = (2,0)$ and $v_2 = (-2,0)$.  I.e. the particles initially are almost on a collision-course. \n",
    "\n",
    "Writing out $F = m a$ for each particle in component form, use `odeint` to solve the resulting set of differential equations from t=0 to t=10.  Plot the trajectories of both particles on a single graph.  \n",
    "\n",
    "Note that in this problem, all motion is confined to the x-y plane.  Assume MKS units for all quantities."
   ]
  },
  {
   "cell_type": "markdown",
   "metadata": {},
   "source": [
    "### a) Setup Problem with SymPy"
   ]
  },
  {
   "cell_type": "markdown",
   "metadata": {},
   "source": [
    "We need to determine the force on particle 1.  First, we write an expression for the potential energy as stated in the problem. We express the distance $r$ between the two particles in terms of their coordinates.\n",
    "\n",
    "Using the following SymPy symbols, define an expression of the potential energy:"
   ]
  },
  {
   "cell_type": "code",
   "execution_count": null,
   "metadata": {},
   "outputs": [],
   "source": [
    "x1, y1, x2, y2 = sp.symbols('x1, y1, x2, y2')\n",
    "\n",
    "\n",
    "U = - 1/ sp.sqrt( ___ )"
   ]
  },
  {
   "cell_type": "code",
   "execution_count": null,
   "metadata": {},
   "outputs": [],
   "source": [
    "display(U)"
   ]
  },
  {
   "cell_type": "markdown",
   "metadata": {},
   "source": [
    "The force in the $x$ direction on a particle is given by the negative of the derivative of the energy with respect to the $x$ coordinate of the particle.  Let's find the $x$ component of the force on particle 1."
   ]
  },
  {
   "cell_type": "markdown",
   "metadata": {},
   "source": [
    "First, symbolic evaluate the derivative of $U$ with respect to $x1$."
   ]
  },
  {
   "cell_type": "code",
   "execution_count": null,
   "metadata": {},
   "outputs": [],
   "source": [
    "dUdx = _____.diff( _____ )"
   ]
  },
  {
   "cell_type": "markdown",
   "metadata": {},
   "source": [
    "That is almost all we need to define a function for the force in the $x$ direction. Remember: **the force is the negative of this partial deriviative**.\n",
    "\n",
    "We will want to evaluate this force numerically, so *lambdify* this force function so that it it works with NumPy arrays. This function, called `Fx` needs to take four arguments: x1, y1, x2, y2."
   ]
  },
  {
   "cell_type": "code",
   "execution_count": null,
   "metadata": {
    "collapsed": true
   },
   "outputs": [],
   "source": [
    "Fx = sp.lambdify([ ___ ,____, ____, ____], ____, 'numpy')"
   ]
  },
  {
   "cell_type": "markdown",
   "metadata": {},
   "source": [
    "Do the same for the force in the $y$ direction: create a *lambdified* function called `Fy`."
   ]
  },
  {
   "cell_type": "code",
   "execution_count": null,
   "metadata": {
    "collapsed": true
   },
   "outputs": [],
   "source": [
    "dUdy = ____\n",
    "Fy = ____"
   ]
  },
  {
   "cell_type": "markdown",
   "metadata": {},
   "source": [
    "### b) Numerical solution\n",
    "\n",
    "Let us start solving this problem by entering the parameters of the system (fill in the missing values)\n"
   ]
  },
  {
   "cell_type": "code",
   "execution_count": null,
   "metadata": {
    "collapsed": true
   },
   "outputs": [],
   "source": [
    "m1 = 1  \n",
    "m2 = ___\n",
    "\n",
    "x1i = -10\n",
    "v1x = 2\n",
    "y1i = ___\n",
    "v1y = 0 \n",
    "\n",
    "x2i = ___\n",
    "v2x = ___\n",
    "y2i = 1 \n",
    "v2y = ___\n",
    "\n",
    "tmax = 10"
   ]
  },
  {
   "cell_type": "markdown",
   "metadata": {},
   "source": [
    "Enter the initial conditions for both particles (fill in the blanks)  \n",
    "    \n",
    "    Q0 = [x1i, ?, ?, v1y, ?, ?, ?, v2y]"
   ]
  },
  {
   "cell_type": "code",
   "execution_count": null,
   "metadata": {
    "collapsed": true
   },
   "outputs": [],
   "source": [
    "Q0 = ___"
   ]
  },
  {
   "cell_type": "markdown",
   "metadata": {},
   "source": [
    "Now can we define our differential equation function that we pass to odeint. We need 4 equations (x, y of particles 1 and 2). The force on particle 2 should be equal in magnitude, but opposite in direction to the force in particle 1 by Newton's Third Law.\n",
    "\n",
    "eq1x = Fx(x1, y1, x2, y2) / m1  \n",
    "\n",
    "eq1y = Fy(x1, y1, x2, y2) / m1\n",
    "\n",
    "eq2x = `___`\n",
    "\n",
    "eq2y = `___` "
   ]
  },
  {
   "cell_type": "markdown",
   "metadata": {},
   "source": [
    "To be able to use `integrate.odeint` we need to define the right-hand-side of our system of equations."
   ]
  },
  {
   "cell_type": "code",
   "execution_count": null,
   "metadata": {
    "collapsed": true
   },
   "outputs": [],
   "source": [
    "def RHS(Q, t):\n",
    "    x1, vx1, y1, vy1, x2, vx2, y2, vy2 = Q\n",
    "    eq1x = ___\n",
    "    eq1y = ___\n",
    "    eq2x = ___\n",
    "    eq2y = ___\n",
    "\n",
    "    return [vx1, eq1x, vy1, eq1y, vx2, eq2x, vy2, eq2y]"
   ]
  },
  {
   "cell_type": "markdown",
   "metadata": {},
   "source": [
    "Having neatly obtained all our equations, we now employ `integrate.odeint` to solve the system of equations."
   ]
  },
  {
   "cell_type": "code",
   "execution_count": null,
   "metadata": {},
   "outputs": [],
   "source": [
    "dt = tmax/2000\n",
    "t = np.arange(0, tmax, dt)\n",
    "solver = integrate.odeint(___, ___, ___)\n",
    "data = pd.DataFrame(solver, \n",
    "                    columns = ['x1', 'vx1', 'y1', 'vy1', 'x2', 'vx2', 'y2', 'vy2'])\n",
    "data['t'] = t"
   ]
  },
  {
   "cell_type": "markdown",
   "metadata": {},
   "source": [
    "### c) Plots "
   ]
  },
  {
   "cell_type": "markdown",
   "metadata": {},
   "source": [
    "Plot the trajectories of the particles, the path of particle 1 in black, that of particle 2 in red."
   ]
  },
  {
   "cell_type": "code",
   "execution_count": null,
   "metadata": {},
   "outputs": [],
   "source": [
    "plt.xlabel('x (m)')\n",
    "plt.ylabel('y (m)')\n",
    "plt.xlim(-10, 10)\n",
    "plt.ylim(-1.05, 1.05)\n",
    "plt.plot(___, ___, ___)\n",
    "plt.plot(___, ___, ___)"
   ]
  },
  {
   "cell_type": "markdown",
   "metadata": {},
   "source": [
    "Using `interactive()`, make an *animation* showing the interaction between these two particles over time. At any one time, show the position of the particle with a large circle and only the *previous* trajectory up to that point.  \n",
    "\n",
    "You can use a counter variable like `i` but the title should be the current time in the simulation."
   ]
  },
  {
   "cell_type": "code",
   "execution_count": null,
   "metadata": {},
   "outputs": [],
   "source": [
    "def explore(___=___):\n",
    "    plt.xlabel('x (m)')\n",
    "    plt.ylabel('y (m)')\n",
    "    plt.xlim(-10, 10)\n",
    "    plt.ylim(-1.05, 1.05)\n",
    "    plt.plot(___, ___, ___)\n",
    "    plt.plot(___, ___, ___)\n",
    "    plt.plot(___, ___, ___)\n",
    "    plt.plot(___, ___, ___)\n",
    "    \n",
    "    plt.title(___)\n",
    "    \n",
    "interactive(explore, i=(0, len(data), 20))"
   ]
  },
  {
   "cell_type": "markdown",
   "metadata": {},
   "source": [
    "### d) Discussion"
   ]
  },
  {
   "cell_type": "markdown",
   "metadata": {},
   "source": [
    "Which particle is deflected more?  Why does this make sense?"
   ]
  },
  {
   "cell_type": "markdown",
   "metadata": {},
   "source": [
    "**Answer**:"
   ]
  },
  {
   "cell_type": "markdown",
   "metadata": {},
   "source": [
    "Plot the speed of each particle as a function of time. \n",
    "\n",
    "\n",
    "(Remember speed is $v = \\sqrt{v_x^2 + v_y^2}$)\n",
    "\n"
   ]
  },
  {
   "cell_type": "code",
   "execution_count": null,
   "metadata": {},
   "outputs": [],
   "source": [
    "plt.xlabel('t (s)')\n",
    "plt.ylabel('Speed (m/s)')\n",
    "plt.plot(t, ____, 'k-');\n",
    "plt.plot(t, ____, 'r-');"
   ]
  },
  {
   "cell_type": "markdown",
   "metadata": {},
   "source": [
    " Which particle is moving faster at t=10? "
   ]
  },
  {
   "cell_type": "markdown",
   "metadata": {},
   "source": [
    "**Answer**: "
   ]
  },
  {
   "cell_type": "markdown",
   "metadata": {},
   "source": [
    "We know energy should be conserved.  But the plot above shows that the kinetic energy increases during the *collision*.  How can this be?"
   ]
  },
  {
   "cell_type": "markdown",
   "metadata": {},
   "source": [
    "**Answer**:"
   ]
  },
  {
   "cell_type": "code",
   "execution_count": null,
   "metadata": {},
   "outputs": [],
   "source": []
  }
 ],
 "metadata": {
  "kernelspec": {
   "display_name": "Python 3",
   "language": "python",
   "name": "python3"
  },
  "language_info": {
   "codemirror_mode": {
    "name": "ipython",
    "version": 3
   },
   "file_extension": ".py",
   "mimetype": "text/x-python",
   "name": "python",
   "nbconvert_exporter": "python",
   "pygments_lexer": "ipython3",
   "version": "3.6.7"
  }
 },
 "nbformat": 4,
 "nbformat_minor": 2
}
