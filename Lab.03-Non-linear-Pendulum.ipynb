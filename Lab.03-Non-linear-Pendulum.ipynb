{
 "cells": [
  {
   "cell_type": "code",
   "execution_count": 1,
   "metadata": {},
   "outputs": [],
   "source": [
    "%matplotlib inline\n",
    "import numpy as np\n",
    "import matplotlib.pyplot as plt\n",
    "import pandas as pd\n",
    "from ipywidgets import interactive\n",
    "from mpl_toolkits.mplot3d import Axes3D"
   ]
  },
  {
   "cell_type": "markdown",
   "metadata": {},
   "source": [
    "# Nonlinear Pendulum\n",
    "## Lab 3"
   ]
  },
  {
   "cell_type": "markdown",
   "metadata": {},
   "source": [
    "#### Instructions:\n",
    "*Complete the notebook by reading all of the markdown cells and filling in the **blanks**. In the code cells, you will need to replace with the correct code everywhere you see a `___`. You may also need to add new code as appropriate. Please complete this lab during the lab slot and ask for help from the instructor or the TA as often as needed.*\n"
   ]
  },
  {
   "cell_type": "markdown",
   "metadata": {},
   "source": [
    "## Introduction"
   ]
  },
  {
   "cell_type": "markdown",
   "metadata": {},
   "source": [
    "We will study in this lab a strange property of the nonlinear pendulum.  \n",
    "\n",
    "The equation of motion for a damped driven nonlinear pendulum is\n",
    "\n",
    "\\begin{align}\n",
    "\\frac{d^2 \\theta}{dt^2} &= - \\omega_0^2 \\sin(\\theta) -\\gamma \\frac{d \\theta}{dt}  + A \\sin(\\omega t)\\;.\n",
    "\\end{align}"
   ]
  },
  {
   "cell_type": "code",
   "execution_count": 2,
   "metadata": {},
   "outputs": [],
   "source": [
    "# constant parameters\n",
    "\n",
    "#pendulum length in metres\n",
    "L = 9.8\n",
    "#acceleration due to gravity\n",
    "g = 9.8\n",
    "# natural frequency\n",
    "ω0 = np.sqrt(g/L)"
   ]
  },
  {
   "cell_type": "markdown",
   "metadata": {},
   "source": [
    "Below is a program that solves either the linear driven, damped pendulum problem.\n",
    "\n",
    "Linear means that we are using the small-angle approximation: $\\sin(\\theta) \\approx \\theta$."
   ]
  },
  {
   "cell_type": "code",
   "execution_count": 3,
   "metadata": {},
   "outputs": [],
   "source": [
    "def LinearPendulumStepper(x0=0.1, v0=0, \n",
    "                    γ=1, A=0, ω=0,\n",
    "                    dt=0.01, tmax=10):\n",
    "    \"\"\"\n",
    "    Solve for motion of a driven damped linear pendulum using Euler-Richardson\n",
    "    \n",
    "    x is the angular displacement (θ)\n",
    "    v is the angular velocity (dθ/dt)\n",
    "    \"\"\"\n",
    "    \n",
    "    # initialize the model\n",
    "    t = 0\n",
    "    x = x0\n",
    "    v = v0\n",
    "    \n",
    "    while True:\n",
    "        model = {'t': t, 'x': x, 'v': v}\n",
    "        yield model # return the model state back to the caller\n",
    "    \n",
    "        if t > tmax:\n",
    "            break\n",
    "            \n",
    "        # calculate acceleration (force / mass)\n",
    "        a = - ω0**2 * x - γ * v + A * np.sin(ω*t)\n",
    "        \n",
    "        # use the Euler-Richardson algorithm to update the state of the model\n",
    "        vmid = v + 1/2 * a * dt\n",
    "        xmid = x + 1/2 * v * dt\n",
    "        tmid = t + 1/2 * dt\n",
    "        amid = - ω0**2 * xmid - γ * vmid + A * np.sin(ω*tmid)\n",
    "        \n",
    "        v = v + amid * dt\n",
    "        x = x + vmid * dt\n",
    "        t = t + dt\n"
   ]
  },
  {
   "cell_type": "code",
   "execution_count": 4,
   "metadata": {},
   "outputs": [],
   "source": [
    "def PendulumPlotter(data):\n",
    "    fig, axs = plt.subplots(1, 1, figsize=(8,4))\n",
    "    \n",
    "    plt.plot(data.t, data.x)\n",
    "    plt.ylabel(\"x\")\n",
    "    plt.xlabel(\"t\")"
   ]
  },
  {
   "cell_type": "code",
   "execution_count": 5,
   "metadata": {},
   "outputs": [],
   "source": [
    "def LinearPendulumApp(x0=1, v0=0, γ=0.5, ω=2, A=1, tmax=20):\n",
    "    \n",
    "    stepper = LinearPendulumStepper(x0=x0, v0=v0,\n",
    "                              γ=γ, A=A, ω=ω,\n",
    "                              tmax=tmax)\n",
    "    data = pd.DataFrame(stepper)\n",
    "    PendulumPlotter(data)\n",
    "    \n",
    "    return data"
   ]
  },
  {
   "cell_type": "code",
   "execution_count": 6,
   "metadata": {},
   "outputs": [
    {
     "data": {
      "application/vnd.jupyter.widget-view+json": {
       "model_id": "c9f975b3b1ff49428d4bfd3d08d35513",
       "version_major": 2,
       "version_minor": 0
      },
      "text/plain": [
       "interactive(children=(FloatSlider(value=1.0, description='x0', max=1.0), FloatSlider(value=0.0, description='v…"
      ]
     },
     "metadata": {},
     "output_type": "display_data"
    }
   ],
   "source": [
    "interactive(LinearPendulumApp, \n",
    "            x0=(0, 1, 0.1), v0=(0, 1, 0.1),\n",
    "            γ=(0, 5, 0.2),\n",
    "            A=(0.50, 2.0, 0.01),\n",
    "            ω=(0.1, 4, 0.1),\n",
    "            tmax=(10, 100, 10))"
   ]
  },
  {
   "cell_type": "markdown",
   "metadata": {},
   "source": [
    "## Linear behaviour"
   ]
  },
  {
   "cell_type": "markdown",
   "metadata": {},
   "source": [
    "Start by carefully studying the above code.  By calling `PendulumApp()`, plot the solution of a *linear* pendulum with the parameters:\n",
    "\n",
    "    A    = 1.44\n",
    "    ω    = 2/3\n",
    "    γ    = 0.5\n",
    "    tmax = 100\n"
   ]
  },
  {
   "cell_type": "markdown",
   "metadata": {},
   "source": [
    "Recall that for the linear pendulum, the period of the solution should be the same as period of the driving force, $2\\pi/\\omega$.\n",
    "\n",
    "Confirm this by calculating the period from your simulation and comparing to the period of the driving force."
   ]
  },
  {
   "cell_type": "markdown",
   "metadata": {},
   "source": [
    "The code below (as introduced in lecture) could be useful. It find the local maximums in a time series."
   ]
  },
  {
   "cell_type": "code",
   "execution_count": 7,
   "metadata": {},
   "outputs": [],
   "source": [
    "def FindPeaks(data):\n",
    "    \"\"\"\n",
    "    Find the last 10 maxima.\n",
    "    \"\"\"\n",
    "\n",
    "    data['max'] = data.x[(data.x.shift(1) < data.x) & (data.x.shift(-1) < data.x)]\n",
    "    return data.dropna().iloc[-10:]"
   ]
  },
  {
   "cell_type": "markdown",
   "metadata": {},
   "source": [
    "*your answer here...*"
   ]
  },
  {
   "cell_type": "code",
   "execution_count": null,
   "metadata": {},
   "outputs": [],
   "source": []
  },
  {
   "cell_type": "markdown",
   "metadata": {},
   "source": [
    "## Non-linear behaviour\n",
    "\n",
    "Modify the `NonlinearPendulumStepper` function below so that it solves for a *non-linear* pendulum (the restoring force depends on $\\sin(\\theta)$ and not just $\\theta$).\n",
    "\n",
    "Now plot the motion of a non-linear pendulum with the same parameters as given above. What is the period of the non-linear pendulum?"
   ]
  },
  {
   "cell_type": "code",
   "execution_count": 8,
   "metadata": {},
   "outputs": [],
   "source": [
    "def NonlinearPendulumStepper(x0=0.1, v0=0, \n",
    "                    γ=1, A=0, ω=0,\n",
    "                    dt=0.01, tmax=10):\n",
    "    \"\"\"\n",
    "    Solve for motion of a driven damped nonlinear pendulum using Euler-Richardson\n",
    "    \n",
    "    x is the angular displacement (θ)\n",
    "    v is the angular velocity (dθ/dt)\n",
    "    \"\"\"\n",
    "    \n",
    "    # initialize the model\n",
    "    t = 0\n",
    "    x = x0\n",
    "    v = v0\n",
    "    \n",
    "    while True:\n",
    "        model = {'t': t, 'x': x, 'v': v}\n",
    "        yield model # return the model state back to the caller\n",
    "    \n",
    "        if t > tmax:\n",
    "            break\n",
    "            \n",
    "        # >>>> Change the code below so that it solves for a nonlinear pendulum\n",
    "        # calculate acceleration (force / mass)\n",
    "        a = - ω0**2 * x - γ * v + A * np.sin(ω*t)\n",
    "        \n",
    "        # use the Euler-Richardson algorithm to update the state of the model\n",
    "        vmid = v + 1/2 * a * dt\n",
    "        xmid = x + 1/2 * v * dt\n",
    "        tmid = t + 1/2 * dt\n",
    "        amid = - ω0**2 * xmid - γ * vmid + A * np.sin(ω*tmid)\n",
    "        \n",
    "        v = v + amid * dt\n",
    "        x = x + vmid * dt\n",
    "        t = t + dt\n",
    "        # <<<<< \n",
    "        \n",
    "        # We need to adjust theta after each iteration so as to keep it between +/-π\n",
    "        # The pendulum can now swing right around the pivot, corresponding to θ>2π.\n",
    "        # Theta is an angular variable so values of theta that differ by 2π\n",
    "        # correspond to the same position.\n",
    "        # For plotting purposes it is nice to keep (-π < θ < π).\n",
    "        # So, if theta is <-π, add 2π.If theta is > π, subtract 2π\n",
    "        #********************************************************************************************\n",
    "        if (x < -np.pi):\n",
    "            x = x+2*np.pi \n",
    "        elif (x > np.pi):\n",
    "            x = x-2*np.pi\n",
    "        #********************************************************************************************\n",
    "        # you may temporarily comment out the above if/elif block to see what happens\n",
    "        \n",
    "def NonlinearPendulumApp(x0=1, v0=0, γ=0.5, ω=2, A=1, tmax=20):\n",
    "    \n",
    "    stepper = NonlinearPendulumStepper(x0=x0, v0=v0,\n",
    "                              γ=γ, A=A, ω=ω,\n",
    "                              tmax=tmax)\n",
    "    data = pd.DataFrame(stepper)\n",
    "    PendulumPlotter(data)\n",
    "    \n",
    "    return data"
   ]
  },
  {
   "cell_type": "markdown",
   "metadata": {},
   "source": [
    "Repeat the above analysis (run the simulation, make the plot, measure the period) with two additional simulations: `A = 1.35` and `A = 1.465`. \n",
    "\n",
    "When using the peaks to find the period, double check that you have the correct period: you need to find two crests with the *same* height."
   ]
  },
  {
   "cell_type": "code",
   "execution_count": null,
   "metadata": {},
   "outputs": [],
   "source": []
  },
  {
   "cell_type": "markdown",
   "metadata": {},
   "source": [
    "Relative to the the frequency of the driving force, what have you discovered about a non-linear pendulum for $A = $ 1.35, 1.44, and 1.465.  "
   ]
  },
  {
   "cell_type": "markdown",
   "metadata": {},
   "source": [
    "*your answer here...*"
   ]
  },
  {
   "cell_type": "code",
   "execution_count": null,
   "metadata": {},
   "outputs": [],
   "source": []
  },
  {
   "cell_type": "markdown",
   "metadata": {},
   "source": [
    "## Phase plots"
   ]
  },
  {
   "cell_type": "markdown",
   "metadata": {},
   "source": [
    "Another way of visualization the periodic nature of the pendulum is make a *phase-plot* as we did in ecture. \n",
    "\n",
    "Make phase-plots (angular velocity vs angular displacement) for each of the four simulations you showed above."
   ]
  },
  {
   "cell_type": "markdown",
   "metadata": {},
   "source": [
    "*your answer here...*"
   ]
  },
  {
   "cell_type": "code",
   "execution_count": null,
   "metadata": {},
   "outputs": [],
   "source": []
  },
  {
   "cell_type": "markdown",
   "metadata": {},
   "source": [
    "### Bifurcation Diagram\n",
    "A key observation in the this lab is that as we increase the driving force `A` the period increases.  Another way to understand this is to make a plot of all the values of $\\theta$ which is *in-phase* with the driving force.  That is, consider only the value of $\\theta$ that occurs when $\\omega t = 2 n \\pi$ where $n$ is an integer.  This is analogous to viewing a fast spinning object under a stroboscope.\n",
    "\n",
    "*Just run the code below; no changes are needed. It is from a previous offering of the course where the codes were presented differently. Be patient, it takes a few moments to run.*"
   ]
  },
  {
   "cell_type": "code",
   "execution_count": 9,
   "metadata": {},
   "outputs": [
    {
     "data": {
      "text/plain": [
       "Text(0.5, 1.0, 'Bifurcation diagram for the pendulum')"
      ]
     },
     "execution_count": 9,
     "metadata": {},
     "output_type": "execute_result"
    },
    {
     "data": {
      "image/png": "[encoded data removed]",
      "text/plain": [
       "<Figure size 432x288 with 1 Axes>"
      ]
     },
     "metadata": {
      "needs_background": "light"
     },
     "output_type": "display_data"
    }
   ],
   "source": [
    "def Pendulum(N=1500, dt=0.04, F_D=0.0, Ω_D=0.0, q=0.5, θ_0=0.2, nonlinear=True):\n",
    "    \"\"\"\n",
    "    Euler Cromer Solution for a damped, driven pendulum\n",
    "    \n",
    "    Keyword arguments: \n",
    "        N   number of timesteps\n",
    "        dt  time step\n",
    "        F_D driving force amplitude\n",
    "        Ω_D driving force frequency\n",
    "        q   damping strength\n",
    "        θ_0 initial displacement\n",
    "        \n",
    "    Returns\n",
    "        t time\n",
    "        ω angular velocity\n",
    "        θ angular displacement\n",
    "    \"\"\"\n",
    "    \n",
    "    #initializes omega, a vector of dimension N,to being all zeros\n",
    "    ω = np.zeros(N)\n",
    "    #initializes theta, a vector of dimensionN,to being all zeros\n",
    "    θ = np.zeros(N)\n",
    "    #this initializes the vector time to being all zeros\n",
    "    t = np.zeros(N);\n",
    "    \n",
    "    #you need to have some initial displacement, otherwise the pendulum will not swing\n",
    "    θ[0] = θ_0\n",
    "    ω[0] = 0\n",
    "\n",
    "    #loop over the timesteps.\n",
    "    for i in range(N-1):\n",
    "        \n",
    "        if nonlinear:\n",
    "            ω[i+1] = ω[i] + (-(g/L)*np.sin(θ[i]) - q*ω[i] + F_D*np.sin(Ω_D*t[i]))*dt\n",
    "        else:\n",
    "            ω[i+1] = ω[i] + (-(g/L)*θ[i]         - q*ω[i] + F_D*np.sin(Ω_D*t[i]))*dt\n",
    "        \n",
    "        temp_theta = θ[i]+ω[i+1]*dt\n",
    "    \n",
    "        # We need to adjust theta after each iteration so as to keep it between +/-π\n",
    "        # The pendulum can now swing right around the pivot, corresponding to theta>2π.\n",
    "        # Theta is an angular variable so values of theta that differ by 2π\n",
    "        # correspond to the same position.\n",
    "        # For plotting purposes it is nice to keep (-π < θ < π).\n",
    "        # So, if theta is <-π, add 2π.If theta is > π, subtract 2π\n",
    "        #********************************************************************************************\n",
    "        if (temp_theta < -np.pi):\n",
    "            temp_theta = temp_theta+2*np.pi \n",
    "        elif (temp_theta > np.pi):\n",
    "            temp_theta = temp_theta-2*np.pi\n",
    "        #********************************************************************************************\n",
    "        \n",
    "        # Update theta array\n",
    "        θ[i+1]=temp_theta\n",
    "        \n",
    "        t[i+1] = t[i] + dt\n",
    "        \n",
    "    return t, ω, θ\n",
    "\n",
    "fig, axes = plt.subplots()\n",
    "\n",
    "Omega_D=2/3\n",
    "for F_Drive_step in np.arange(1,13,0.1):\n",
    "    F_Drive=1.35+F_Drive_step/100;\n",
    "    # Calculate the plot of theta as a function of time for the current drive step\n",
    "    # using the function :- pendulum_function\n",
    "    t, omega, theta = Pendulum(F_D=F_Drive, Ω_D=Omega_D, N=10000);\n",
    "    \n",
    "    #Filter the results to exclude initial transient of 10 periods, note\n",
    "    # that the period is 3*pi. \n",
    "    I = [i for i in range(len(t)) if t[i] < 3*np.pi*10]\n",
    "    t[I] = float('nan')\n",
    "    theta[I] = float('nan')\n",
    "   \n",
    "    # Further filter the results so that only results in phase with the driving force\n",
    "    # F_Drive are displayed.\n",
    "    # Replace all those values NOT in phase with NaN\n",
    "    I = [i for i in range(len(t)) if abs(np.fmod(t[i],2*np.pi/Omega_D)) > 0.01]\n",
    "    t[I] = float('nan')\n",
    "    theta[I] = float('nan')\n",
    "    \n",
    "    # Remove all NaN values from the array to reduce dataset size \n",
    "    t = t[~np.isnan(t)]\n",
    "    theta = theta[~np.isnan(theta)]\n",
    "    \n",
    "    F_Drive_Array = np.zeros(len(theta))\n",
    "    F_Drive_Array[:] = F_Drive\n",
    "\n",
    "    #Add a column to the plot of the results\n",
    "    plt.plot(F_Drive_Array,theta,'ks', markersize=1)\n",
    "\n",
    "# axes scales\n",
    "plt.xlim(1.35, 1.5);\n",
    "plt.ylim(1, 3);\n",
    "plt.xlabel('$F_D$')\n",
    "plt.ylabel('$\\\\theta$ (rad)')\n",
    "\n",
    "plt.title('Bifurcation diagram for the pendulum')"
   ]
  },
  {
   "cell_type": "markdown",
   "metadata": {},
   "source": [
    "The above diagram begins to show how the period changes as $F_D$ increases.  As $F_D$ continues to increase on the right of the graph, there is a transition to fully chaotic behaviour.  Here is much more detailed version of the bifurcation diagram (looking at $\\omega$ instead of $\\theta$) for the non-linear pendulum:\n",
    "\n",
    "![](http://www.thphys.uni-heidelberg.de/~gasenzer/pendelplots/ppbif_q=2_g=0.99-1.51.jpeg)\n",
    "\n",
    "See [this page](http://www.thphys.uni-heidelberg.de/~gasenzer/index.php?n1=teaching&n2=chaos) for the details."
   ]
  }
 ],
 "metadata": {
  "anaconda-cloud": {},
  "kernelspec": {
   "display_name": "Python 3",
   "language": "python",
   "name": "python3"
  },
  "language_info": {
   "codemirror_mode": {
    "name": "ipython",
    "version": 3
   },
   "file_extension": ".py",
   "mimetype": "text/x-python",
   "name": "python",
   "nbconvert_exporter": "python",
   "pygments_lexer": "ipython3",
   "version": "3.6.7"
  }
 },
 "nbformat": 4,
 "nbformat_minor": 2
}
