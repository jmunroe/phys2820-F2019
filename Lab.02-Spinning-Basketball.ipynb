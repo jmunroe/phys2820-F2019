{
 "cells": [
  {
   "cell_type": "code",
   "execution_count": null,
   "metadata": {},
   "outputs": [],
   "source": [
    "%matplotlib inline\n",
    "import numpy as np\n",
    "import matplotlib.pyplot as plt\n",
    "import pandas as pd\n",
    "from ipywidgets import interactive\n",
    "from mpl_toolkits.mplot3d import Axes3D"
   ]
  },
  {
   "cell_type": "markdown",
   "metadata": {},
   "source": [
    "# Spinning Basketball\n",
    "## Lab 2"
   ]
  },
  {
   "cell_type": "markdown",
   "metadata": {},
   "source": [
    "#### Instructions:\n",
    "*Complete the notebook by reading all of the markdown cells and filling in the **blanks**. In the code cells, you will need to replace with the correct code everywhere you see a `___`. You may also need to add new code as appropriate. Please complete this lab during the lab slot and ask for help from the instructor or the TA as often as needed.*\n"
   ]
  },
  {
   "cell_type": "markdown",
   "metadata": {},
   "source": [
    "## Introduction"
   ]
  },
  {
   "cell_type": "markdown",
   "metadata": {},
   "source": [
    "Start by carefully watching the following video:"
   ]
  },
  {
   "cell_type": "code",
   "execution_count": null,
   "metadata": {},
   "outputs": [],
   "source": [
    "from IPython.display import YouTubeVideo\n",
    "\n",
    "YouTubeVideo(\"QtP_bh2lMXc\")"
   ]
  },
  {
   "cell_type": "markdown",
   "metadata": {},
   "source": [
    "The purpose of this lab is to analyze the motion of spinning ball dropped vertically from the top of Gordon Dam as shown in the video.  \n",
    "\n",
    "The initial dropping of the basket ball shows that it deviates from falling straight down.  This is probably due to the wind.  Notwithstanding this potentially important effect, the analysis in this lab is ignore the effect of the wind.\n",
    "\n",
    "From the two videos we have now seen regarding a basketball being dropped from The Gordon Dam, recall the two following statements:\n",
    "\n",
    "- \"Gordon dam is 126.5 m high.\"\n",
    "- \"When backspin was added ... the basketball went about 70 m horizontally.\""
   ]
  },
  {
   "cell_type": "markdown",
   "metadata": {},
   "source": [
    "## Theoretical Analysis"
   ]
  },
  {
   "cell_type": "markdown",
   "metadata": {},
   "source": [
    "The dynamics of spinning ball under the influence of both a quadratic drag force and the Magnus force have been discussed in Lecture 6: Spinning Balls.  "
   ]
  },
  {
   "cell_type": "markdown",
   "metadata": {},
   "source": [
    "Basketballs and physics go naturally together. In 2011, [The University Physics Competition](http://www.uphysicsc.com/2011contest.html) proposed the following problem:\n",
    "\n",
    "> In the game of basketball, a player scores three points by successfully making a shot from beyond the three point line, which is 6.2 meters away from the basket in international games, such as the Olympics.  Suppose a player in an Olympic basketball game is at the three point line standing at a point making an angle 45 degrees to the principal axes of the court.   What initial ball velocities and spins will result in a successful shot from this point? \n",
    "\n",
    "A winning paper from that competition was\n",
    "\n",
    "> Team 379: Rebecca Schutzengel, Patrick Varin, & Brendan Quinlivan\n",
    "> Institution: F. W. Olin College of Engineering\n",
    "> Team Advisor: Yevgeniya V. Zastavker\n",
    "> [The 2011 Problem B Gold Medal Winning Paper: \"The Physics of a Three Point Shot\"](http://www.uphysicsc.com/2011-GM-B-379.PDF)\n",
    "\n",
    "If you are interested, you may want to skim their award winning paper after this lab. In particular, note their discussion of the path through air when describing their model.  Their theory and assumptions are reproduced below:\n",
    "\n",
    ">A spinning ball in the air is subject to three forces: gravity, drag and the Magnus force.\n",
    "Therefore, the motion of the ball is governed by the following\n",
    "equation:\n",
    "\n",
    "\\begin{align}\n",
    "\\frac{d^2 \\vec{r}}{dt^2} =\\vec{g} + \\frac{1}{m_{ball}}\\left( \\frac{16}{3} \\pi^2 r_{ball}^3  \\rho \\vec{\\omega} \\times \\vec{v} - \\frac{1}{2} \\rho C_d  A |\\vec{v}|^2 \\hat{v} \\right)\n",
    "\\end{align}\n",
    "\n",
    "> where $\\vec{r}$, $\\vec{v}$, and $\\vec{\\omega}$ are the position, velocity, and angular\n",
    "velocity of the basketball, $\\vec{g}$ is the acceleration due to gravity,\n",
    "$m_{ball}$, $r_{ball}$ and $A$ are the mass, radius, and cross-sectional\n",
    "area of the basketball, $\\rho$ is the density of air and $C_d$ is the\n",
    "drag coefficient of the basketball in the air which we found\n",
    "in literature to be 0.54. The first term in Equation 1\n",
    "accounts for gravity, the second term accounts for the Magnus\n",
    "force due to the ball’s spin  and the third term accounts for\n",
    "the drag force. For simplicity, the basketball was assumed\n",
    "to be spinning with a constant angular velocity throughout\n",
    "its trajectory. It was also assumed that the spin was purely\n",
    "backspin, meaning that the axis of rotation lies in the $xy$-plane\n",
    "and is perpendicular to the ball’s trajectory\n",
    "\n",
    "There is also the table of Model Parameters found at the end of their paper. \n",
    "\n",
    "\n",
    "|Basketball Property| Value |\n",
    "|---|---|\n",
    "| Circumference | 0.75 m|\n",
    "| Mass | 0.600 kg |\n",
    "\n",
    "\n",
    "While the paper is on different physical problem, their analysis serves as a useful starting point for our own simulation of a basketball projectile."
   ]
  },
  {
   "cell_type": "markdown",
   "metadata": {},
   "source": [
    "## Numerical model\n",
    "\n",
    "Our goal will be to develop a numerical model to predict the trajectory of dropped basketball from an initial height $H$ and rotation rate $\\omega$.  "
   ]
  },
  {
   "cell_type": "markdown",
   "metadata": {},
   "source": [
    "### Initialize parameters\n",
    "\n",
    "Starting by defining some variables for various physical parameters in the system. For each parameter need, type in a values from taken from either video or the paper. Be sure to include a comment describing the parameter and the units. Value for acceleration due to gravity and air density have already been added to show the expected format.\n",
    "\n",
    "If you require additional physical parameters, please add them here as well."
   ]
  },
  {
   "cell_type": "code",
   "execution_count": null,
   "metadata": {},
   "outputs": [],
   "source": [
    "g = 9.81 # m/s^2, accleration due to gravity\n",
    "ρ = 1.225 # kg/m^3, density of air\n",
    "H = 1 # m, initial height\n",
    "r = ___ # m, radius of a basketball\n",
    "m = ___ # kg, mass of a basketball\n",
    "Cd = ___ # drag coefficent (see the discussion of equation of motion above!)\n"
   ]
  },
  {
   "cell_type": "markdown",
   "metadata": {},
   "source": [
    "### Numerical method\n",
    "\n",
    "The code below is intended to solve equation of motion shown above using Euler's method. Fill in the missing parts to complete the implementation.  In order to do this, it may be helpful to work out the details on scrap paper first.   \n",
    "\n",
    "In particular, you will need to calculate the values of $C_D$ and $C_M$ from other known physical properties according to the equation of motion from the basketball/physics paper (as given above). Recall that\n",
    "\n",
    "$$ \\frac{\\vec{F_d}}{m} = - C_D |\\vec{v}|\\vec{v}$$\n",
    "\n",
    "and\n",
    "\n",
    "$$ \\frac{\\vec{F_M}}{m}= C_M \\left(\\vec{\\omega} \\times \\vec{v}\\right) $$\n",
    "\n",
    "is how we have been modelling the drag force $F_d$ and the Magnus force $F_M$."
   ]
  },
  {
   "cell_type": "code",
   "execution_count": null,
   "metadata": {},
   "outputs": [],
   "source": [
    "def BasketballStepper(dt=0.01, \n",
    "                      x0=0, y0=0, z0=3,\n",
    "                      vx0=10, vy0=0, vz0=0,\n",
    "                      ωx=0, ωy=0, ωz=0,\n",
    "                      tmax=4):\n",
    "    \"\"\"\n",
    "    Solve for the motion of a spinning basketball with air drag using Euler's method\n",
    "    \n",
    "    x, y, z are the positions\n",
    "    vx, vy, vz are the velocity components\n",
    "    ωx, ωy, ωz are components of the angular velocity vector\n",
    "    \"\"\"\n",
    "    \n",
    "    # initialize the model\n",
    "    t = 0\n",
    "    x = x0\n",
    "    y = y0\n",
    "    z = z0\n",
    "    vx = vx0\n",
    "    vy = vy0\n",
    "    vz = vz0\n",
    "    \n",
    "    while True:\n",
    "        model = {'t': t, \n",
    "                 'x': x, 'y': y, 'z': z,\n",
    "                 'vx': vx, 'vy': vy, 'vz': vz}\n",
    "        yield model # return the model state back to the caller\n",
    "    \n",
    "        if t > tmax:\n",
    "            break\n",
    "        if z < 0: # stop if the ball hits the ground\n",
    "            break\n",
    "            \n",
    "        # drag forces (per unit mass)\n",
    "        v = np.sqrt(vx**2+vy**2+vz**2)\n",
    "        # drag coefficient depends on speed\n",
    "        CD = ___ # <<<<< From the equation of motion above\n",
    "        Fdrag_x = -CD * v * vx\n",
    "        Fdrag_y = -CD * v * vy\n",
    "        Fdrag_z = -CD * v * vz\n",
    "        \n",
    "        # Magnus forces (per unit mass)\n",
    "        CM = ___ # <<<<< From the equation of motion above\n",
    "        Fmagnus_x = CM * (ωy*vz - ωz*vy)\n",
    "        Fmagnus_y = CM * (ωz*vx - ωx*vz)\n",
    "        Fmagnus_z = CM * (ωx*vy - ωy*vx)\n",
    "        \n",
    "        # net force (per unit mass)\n",
    "        Fnet_x = Fdrag_x + Fmagnus_x\n",
    "        Fnet_y = Fdrag_y + Fmagnus_y\n",
    "        Fnet_z = Fdrag_z + Fmagnus_z - g\n",
    "        \n",
    "        # use the Euler algorithm to update the state of the model\n",
    "        x = x + vx*dt\n",
    "        y = y + vy*dt\n",
    "        z = z + vz*dt\n",
    "        vx = vx + Fnet_x * dt\n",
    "        vy = vy + Fnet_y * dt\n",
    "        vz = vz + Fnet_z * dt\n",
    "        t = t + dt"
   ]
  },
  {
   "cell_type": "code",
   "execution_count": null,
   "metadata": {},
   "outputs": [],
   "source": [
    "def BasketballPlot(ball):\n",
    "    \"Plot the trajector of a basketball\"\n",
    "    \n",
    "    plt.plot(ball.x, ball.z)\n",
    "    plt.xlabel('x (m)')\n",
    "    plt.ylabel('z (m)')\n",
    "    plt.axhline(0, color='k')"
   ]
  },
  {
   "cell_type": "code",
   "execution_count": null,
   "metadata": {},
   "outputs": [],
   "source": [
    "def BasketballApp(ωy=0):\n",
    "    \"Model a dropped basketball with spin\"\n",
    "    \n",
    "    # initial position\n",
    "    x0 = 0\n",
    "    y0 = 0\n",
    "    z0 = H # m\n",
    "    \n",
    "    tmax = 10 # s\n",
    "    dt = 0.01 # s\n",
    "        \n",
    "    # set up the model\n",
    "    model = BasketballStepper(x0=x0, y0=y0, z0=z0,\n",
    "                              vx0=0, vy0=0, vz0=0,\n",
    "                              ωx=0, ωy=ωy, ωz=0,\n",
    "                              tmax=tmax, dt=dt)\n",
    "    \n",
    "    # iterate the model\n",
    "    ball = pd.DataFrame(model)\n",
    "\n",
    "    # plot the results\n",
    "    BasketballPlot(ball)\n",
    "\n",
    "    return ball"
   ]
  },
  {
   "cell_type": "code",
   "execution_count": null,
   "metadata": {},
   "outputs": [],
   "source": [
    "ball = BasketballApp()"
   ]
  },
  {
   "cell_type": "markdown",
   "metadata": {},
   "source": [
    "## Analysis"
   ]
  },
  {
   "cell_type": "markdown",
   "metadata": {},
   "source": [
    "### Estimating $\\omega$\n",
    "At the very end of the video, the presenter estimates the horizontal distance traveled by the basketball.  Let's call this observed distance $L_{obs}$ and define it to be the distance until the first bounce of the basketball off the water.  We may assume the water is at a height of $y = 0$ m. Fill in the estimated value of $L_{obs}$ below. "
   ]
  },
  {
   "cell_type": "code",
   "execution_count": null,
   "metadata": {},
   "outputs": [],
   "source": [
    "Lobs = ___ # m, horizontal distance travelled by basketball before first bounce"
   ]
  },
  {
   "cell_type": "markdown",
   "metadata": {},
   "source": [
    "One parameter that we do not know is the rotation rate of the basketball.  Notice that the `BasketballApp()` function has an argument `ωy` that can be used to pass in a value for this rotation rate.\n",
    "\n",
    "Using the `BasketballApp()` functions defined above, try and estimate the experimental value of $\\omega$ that best matches the observed distance traveled.\n",
    "\n",
    "1. Use `interactive` to try and determine the approximately correct value of $\\omega_y$ (remember clockwise vs counterclockwise will change the sign of the angular velocity). "
   ]
  },
  {
   "cell_type": "code",
   "execution_count": null,
   "metadata": {},
   "outputs": [],
   "source": []
  },
  {
   "cell_type": "markdown",
   "metadata": {},
   "source": [
    "2. Write a **new** program/application to make a plot of the the distance travelled to the first bounce verus angular velocity. Add a horizontal line (`plt.axhline()`) at the vertical position $L$ in your plot. Add a vertical line (`plt.axvline()`) at your best guess of $\\omega_y$ for the experiment performed in the video.\n",
    "\n",
    "The code below should be helpful in figuring out how far your ball travelled."
   ]
  },
  {
   "cell_type": "code",
   "execution_count": null,
   "metadata": {},
   "outputs": [],
   "source": [
    "def CalculateDistanceTravelled(ball):\n",
    "    \"\"\"\n",
    "    Returns the horizontal distance travelled by the ball\n",
    "    before it bounces (or the total distance if it never bounces)\n",
    "    \"\"\"\n",
    "    \n",
    "    # initial condition\n",
    "    row1 = ball.iloc[0]\n",
    "    xi = row1.x\n",
    "    \n",
    "    for row2 in ball.itertuples():\n",
    "        if row1.vz < 0 and row2.vz > 0:\n",
    "            # a \"bounce\" is determined when vz goes from <0 to >0.\n",
    "            break\n",
    "        row1 = row2\n",
    "    xf = (row1.x + row2.x)/2\n",
    "    \n",
    "    L = xf-xi\n",
    "    \n",
    "    return L\n",
    "\n",
    "ball = BasketballApp()\n",
    "L = CalculateDistanceTravelled(ball)\n",
    "plt.axvline(L, linestyle=':', color='r')"
   ]
  },
  {
   "cell_type": "code",
   "execution_count": null,
   "metadata": {},
   "outputs": [],
   "source": [
    "def DistanceVsAngularVelocityApp():\n",
    "    pass # 'pass' is used when a function needs to do nothing.\n",
    "         # replace it with a new function!\n",
    "\n",
    "DistanceVsAngularVelocityApp()"
   ]
  },
  {
   "cell_type": "markdown",
   "metadata": {},
   "source": [
    "### Impact velocity"
   ]
  },
  {
   "cell_type": "markdown",
   "metadata": {},
   "source": [
    " Estimate the impact velocity. That is, what is the velocity when the basketball hits the water?"
   ]
  },
  {
   "cell_type": "code",
   "execution_count": null,
   "metadata": {},
   "outputs": [],
   "source": []
  },
  {
   "cell_type": "markdown",
   "metadata": {},
   "source": [
    "### Adding the bounce"
   ]
  },
  {
   "cell_type": "markdown",
   "metadata": {},
   "source": [
    "Let's go back and improve the `BasketballStepper()` function so that instead of the basketball immediately coming to rest upon impact, it *bounces* off the water as shown in the video. \n",
    "\n",
    "The bounce of the basketball on the water is not perfectly elastic but there loss of energy and momentum (due to the water waves, acoustic waves, material properties of the ball, etc.).  As a parametrization, we could make the assumption that the velocity upon impact (which occurs if $z<0$) is modified as follows\n",
    "\n",
    "\\begin{align}\n",
    "z &= - z \\\\\n",
    "v_x &= \\;\\; \\epsilon v_x \\\\\n",
    "v_z &= - \\epsilon v_z \\\\\n",
    "\\end{align}\n",
    "for some unknown parameter $\\epsilon$ with $0 \\leq \\epsilon \\leq 1$.  The case $\\epsilon = 1$ would be for a perfectly elastic collision on a rigid horizontal surface.\n",
    "\n",
    "Go back and modify (only slightly) the `BasketballStepper()` function to include this effect. You'll will need to choose a value of $\\epsilon$ (based on your the observations from the video).  Any plots or analysis you made above should not be affected by this change so double check that your changes did not break any other parts of this lab."
   ]
  },
  {
   "cell_type": "markdown",
   "metadata": {},
   "source": [
    "## Discussion\n",
    "This lab is based on the assumption that the only forces on the ball were air drag, gravity, and the Magnus force.  Based on your analysis of the dynamics in the lab as compared to the observation of the trajectory in the video, do you think that our model reasonably captures the motion of the Magnus force?  If not, what other physics might we want to include in our model?"
   ]
  },
  {
   "cell_type": "markdown",
   "metadata": {},
   "source": [
    "*your answer here...*"
   ]
  }
 ],
 "metadata": {
  "anaconda-cloud": {},
  "kernelspec": {
   "display_name": "Python 3",
   "language": "python",
   "name": "python3"
  },
  "language_info": {
   "codemirror_mode": {
    "name": "ipython",
    "version": 3
   },
   "file_extension": ".py",
   "mimetype": "text/x-python",
   "name": "python",
   "nbconvert_exporter": "python",
   "pygments_lexer": "ipython3",
   "version": "3.6.7"
  }
 },
 "nbformat": 4,
 "nbformat_minor": 2
}
