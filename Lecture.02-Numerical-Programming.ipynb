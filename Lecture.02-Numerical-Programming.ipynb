{
 "cells": [
  {
   "cell_type": "markdown",
   "metadata": {
    "slideshow": {
     "slide_type": "slide"
    }
   },
   "source": [
    "# Numerical Programming\n",
    "## Lecture 2"
   ]
  },
  {
   "cell_type": "code",
   "execution_count": 31,
   "metadata": {},
   "outputs": [],
   "source": [
    "# beginning of a Python function definition\n",
    "def FirstFallingBall():\n",
    "    \n",
    "    # indentation in Python is part of the language \n",
    "    # (other programming languages may use braces instead)\n",
    "    # always ensure you are using 4 spaces (in Jupyter *only*, this is the same as the Tab key)\n",
    "    \n",
    "    # following statements form the body of the main program\n",
    "    \n",
    "    y0 = 10\n",
    "    v0 = 0      # initial velocity\n",
    "    t = 0       # time\n",
    "    dt = 0.01   # time step\n",
    "    y = y0\n",
    "    v = v0\n",
    "    g = 9.8     # gravitational field\n",
    "    \n",
    "    # beginning of loop\n",
    "    for n in range(100):\n",
    "        # repeat the following three statements 100 times\n",
    "        y = y + v*dt\n",
    "        v = v - g*dt # use Euler algorithm\n",
    "        t = t + dt\n",
    "        \n",
    "        \n",
    "    print(\"Results\")\n",
    "    print(f\"final time = {t:.2f}\")\n",
    "    # display numerical result\n",
    "    print(f\"y = {y:.2f} v = {v:.2f}\")\n",
    "    \n",
    "    # display analytical result\n",
    "    yAnalytic = y0 + v0*t - 0.5*g*t*t\n",
    "    vAnalytic = v0 - g*t\n",
    "    \n",
    "    print(f\"analytic y = {yAnalytic:.2f} v = {vAnalytic:.2f}\")"
   ]
  },
  {
   "cell_type": "code",
   "execution_count": 32,
   "metadata": {},
   "outputs": [
    {
     "name": "stdout",
     "output_type": "stream",
     "text": [
      "Results\n",
      "final time = 1.00\n",
      "y = 5.15 v = -9.80\n",
      "analytic y = 5.10 v = -9.80\n"
     ]
    }
   ],
   "source": [
    "FirstFallingBall()"
   ]
  },
  {
   "cell_type": "markdown",
   "metadata": {
    "slideshow": {
     "slide_type": "slide"
    }
   },
   "source": [
    "- - - \n",
    "## Textbook readings\n",
    "\n",
    "Read the following sections from [CSM Chapter 2](https://www.compadre.org/osp/document/ServeFile.cfm?ID=7375&DocID=2145&Attachment=1)\n",
    "- 2.1 Introduction\n"
   ]
  },
  {
   "cell_type": "code",
   "execution_count": null,
   "metadata": {},
   "outputs": [],
   "source": []
  }
 ],
 "metadata": {
  "anaconda-cloud": {},
  "kernelspec": {
   "display_name": "Python 3",
   "language": "python",
   "name": "python3"
  },
  "language_info": {
   "codemirror_mode": {
    "name": "ipython",
    "version": 3
   },
   "file_extension": ".py",
   "mimetype": "text/x-python",
   "name": "python",
   "nbconvert_exporter": "python",
   "pygments_lexer": "ipython3",
   "version": "3.6.7"
  }
 },
 "nbformat": 4,
 "nbformat_minor": 2
}
