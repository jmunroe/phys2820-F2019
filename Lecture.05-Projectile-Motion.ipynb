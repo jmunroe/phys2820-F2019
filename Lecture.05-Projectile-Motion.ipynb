{
 "cells": [
  {
   "cell_type": "markdown",
   "metadata": {
    "slideshow": {
     "slide_type": "slide"
    }
   },
   "source": [
    "# Two-Dimensional Trajectories\n",
    "## Lecture 5"
   ]
  },
  {
   "cell_type": "code",
   "execution_count": null,
   "metadata": {
    "slideshow": {
     "slide_type": "skip"
    }
   },
   "outputs": [],
   "source": [
    "%matplotlib inline\n",
    "import matplotlib.pyplot as plt\n",
    "import numpy as np\n",
    "import pandas as pd\n",
    "from ipywidgets import interactive"
   ]
  },
  {
   "cell_type": "markdown",
   "metadata": {
    "slideshow": {
     "slide_type": "slide"
    }
   },
   "source": [
    "We now turn our attention to two-dimensional projectile motion.  Our specific example will be the shell shot by a large cannon."
   ]
  },
  {
   "cell_type": "code",
   "execution_count": null,
   "metadata": {
    "slideshow": {
     "slide_type": "fragment"
    }
   },
   "outputs": [],
   "source": [
    "from IPython.display import YouTubeVideo\n",
    "\n",
    "YouTubeVideo(\"hlW6hZkgmkA\", playlist=\"hlW6hZkgmkA\", autoplay=1, loop=1)"
   ]
  },
  {
   "cell_type": "markdown",
   "metadata": {
    "slideshow": {
     "slide_type": "slide"
    }
   },
   "source": [
    "In the absence of air-resistance, the equations of motion (Newton's 2nd Law) are:"
   ]
  },
  {
   "cell_type": "markdown",
   "metadata": {
    "slideshow": {
     "slide_type": "fragment"
    }
   },
   "source": [
    "$$\n",
    "\\begin{eqnarray}\n",
    "m\\frac{d^2 x}{dt^2} =& 0 \\\\\n",
    "m\\frac{d^2 y}{dt^2} =& -mg\n",
    "\\end{eqnarray}\n",
    "$$"
   ]
  },
  {
   "cell_type": "markdown",
   "metadata": {
    "slideshow": {
     "slide_type": "slide"
    }
   },
   "source": [
    "These are second-order differential equations.  A standard technique for solving higher order differential equations is to rewrite them as a system of first order differential equations.  That is,"
   ]
  },
  {
   "cell_type": "markdown",
   "metadata": {
    "slideshow": {
     "slide_type": "fragment"
    }
   },
   "source": [
    "$$\n",
    "\\begin{eqnarray}\n",
    "\\frac{d x}{dt} =& v_x \\\\\n",
    "m\\frac{d v_x}{dt} =& 0 \\\\\n",
    "\\frac{d y}{dt} =& v_y \\\\\n",
    "m\\frac{d v_y}{dt} =& -m g\n",
    "\\end{eqnarray}\n",
    "$$"
   ]
  },
  {
   "cell_type": "markdown",
   "metadata": {
    "slideshow": {
     "slide_type": "slide"
    }
   },
   "source": [
    "There are now four equations written out for the variables $x, y, v_x, v_y$.  As before, we can solve this problem by using Euler's method:"
   ]
  },
  {
   "cell_type": "markdown",
   "metadata": {
    "slideshow": {
     "slide_type": "fragment"
    }
   },
   "source": [
    "$$\n",
    "\\begin{align}\n",
    "x_{i+1} &= x_i + v_{x,i} \\Delta t \\\\\n",
    "v_{x,i+1} &= v_{x,i} \\\\\n",
    "y_{i+1} &= y_i + v_{y,i} \\Delta t \\\\\n",
    "v_{y,i+1} &= v_{y,i} - g \\Delta t\n",
    "\\end{align}\n",
    "$$"
   ]
  },
  {
   "cell_type": "markdown",
   "metadata": {
    "slideshow": {
     "slide_type": "fragment"
    }
   },
   "source": [
    "This algorithm allows us to estimate the position and velocity of a projectile given the intial values of $x, y, v_x$, and $v_y$. In this notation the subscript $_{i+1}$ indicate the next time step and the subscript $_{i}$ indicates the current time step. \n",
    "\n",
    "This notation is used in the sense\n",
    "\n",
    "$$\n",
    "\\begin{align}\n",
    "x_i &= x(t_i) \\\\\n",
    "x_{i+1} &= x(t_{i+1i}) \\\\\n",
    "v_{y, i+1} &= v_y(t_{i+i})\n",
    "\\end{align}\n",
    "$$\n",
    "\n",
    "and so on for each variable. The idea is we are evaluating the function $x(t)$, $y(t)$, $v_x(t)$, and $v_y(t)$ and the specific points $t = t_0, t_1, t_2, \\ldots, t_i, t_{i+1}, \\ldots$\n"
   ]
  },
  {
   "cell_type": "markdown",
   "metadata": {
    "slideshow": {
     "slide_type": "slide"
    }
   },
   "source": [
    "Like in the falling particle problem, air resistance is important. To introduce air resistance we can model the drag as\n",
    "\n",
    "$$ F_{d} = - C_2 v^2 $$\n",
    "\n",
    "like we did in the falling particle problem where $v$ is the magnitude of the velocity vector. Since force is vector so we need to split this into horizontal and vertical components."
   ]
  },
  {
   "cell_type": "markdown",
   "metadata": {
    "slideshow": {
     "slide_type": "fragment"
    }
   },
   "source": [
    "This force is a vector and always directed in the opposite direction of the velocity vector.\n",
    "\n",
    "\\begin{align}\n",
    "F_{d,x} = F_{d} \\cos \\theta = F_{d} (v_x / v) \\\\\n",
    "F_{d,y} = F_{d} \\sin \\theta = F_{d} (v_y / v)\n",
    "\\end{align}\n",
    "\n",
    "we can write\n",
    "\n",
    "$$\n",
    "\\begin{align}\n",
    "F_{d, x} = - C_2 v v_x \\\\\n",
    "F_{d, y} = - C_2 v v_y \n",
    "\\end{align}\n",
    "$$"
   ]
  },
  {
   "cell_type": "markdown",
   "metadata": {},
   "source": [
    "*Whiteboard exercise to draw out these vectors.*"
   ]
  },
  {
   "cell_type": "markdown",
   "metadata": {},
   "source": [
    "So the new equations of motion will be\n",
    "\n",
    "$$\n",
    "\\begin{eqnarray}\n",
    "\\frac{d x}{dt} =& v_x \\\\\n",
    "m \\frac{d v_x}{dt} =& F_{d,x} \\\\\n",
    "\\frac{d y}{dt} =& v_y \\\\\n",
    "m\\frac{d v_y}{dt} =& -mg + F_{d,y}\n",
    "\\end{eqnarray}\n",
    "$$"
   ]
  },
  {
   "cell_type": "markdown",
   "metadata": {},
   "source": [
    "- - - \n",
    "#### Euler's Method\n",
    "\n",
    "To numerically solve the differential equation\n",
    "\n",
    "$$\\begin{align}\n",
    "\\frac{d y}{dt} &= f(y, t) \\\\\n",
    "y(t_0) &= y_0\n",
    "\\end{align}$$\n",
    "\n",
    "we can use the Euler's method algorithm\n",
    "\n",
    "$$\\begin{align}\n",
    "y(t_0) &= y_0 \\\\\n",
    "y(t_{i+1}) &= y(t_i) + f(y(t_i), t_i) \\Delta t\n",
    "\\end{align}\n",
    "$$\n",
    "- - -"
   ]
  },
  {
   "cell_type": "markdown",
   "metadata": {
    "slideshow": {
     "slide_type": "slide"
    }
   },
   "source": [
    "We can add these drag forces to our algorithm like we did last previously."
   ]
  },
  {
   "cell_type": "markdown",
   "metadata": {
    "slideshow": {
     "slide_type": "fragment"
    }
   },
   "source": [
    "\n",
    "\\begin{align}\n",
    "x_{i+1} &= x_i + v_{x,i} \\Delta t \\\\\n",
    "v_{x,i+1} &= v_{x,i} + \\left(- \\frac{C_2 v_i v_{x,i}}{m}\\right) \\Delta t \\\\\n",
    "y_{i+1} &= y_i + v_{y,i} \\Delta t \\\\\n",
    "v_{y,i+1} &= v_{y,i} + \\left(- g  - \\frac{C_2 v_i v_{y,i}}{m}\\right) \\Delta t\n",
    "\\end{align}"
   ]
  },
  {
   "cell_type": "markdown",
   "metadata": {},
   "source": [
    "Here the term $v_i$ means the speed at time step $t_i$ and where the speed is calculated as $v = \\sqrt{v_x^2 + v_y^2}$.\n",
    "\n",
    "In projectile motion for particle without air resistance, one of the strategies we used was to treat the vertical and horizontal motion independently. We can that the horizontal and vertical motion are *decoupled*.\n",
    "\n",
    "In the situation with air resistance the horizontal and vertical motion are *coupled* together through the speed term. They must be solved for simultaneously."
   ]
  },
  {
   "cell_type": "markdown",
   "metadata": {
    "slideshow": {
     "slide_type": "slide"
    }
   },
   "source": [
    "### Simulation of position vs. time for a cannon ball"
   ]
  },
  {
   "cell_type": "markdown",
   "metadata": {},
   "source": [
    "Let's start with the same prototype code we had the beginning of Lecture 4.  Using previously written code as a template, framework, skeleton, or \"cookie-cutter\" is a great way to make a quick start on a new problem. "
   ]
  },
  {
   "cell_type": "code",
   "execution_count": null,
   "metadata": {},
   "outputs": [],
   "source": [
    "def FallingParticleApp():\n",
    "    \n",
    "    # set up the model\n",
    "    model = FallingParticleStepper()\n",
    "    \n",
    "    # iterate the model\n",
    "    ball = pd.DataFrame(model)\n",
    "    \n",
    "    # plot the results\n",
    "    FallingParticlePlot(ball)"
   ]
  },
  {
   "cell_type": "markdown",
   "metadata": {},
   "source": [
    "We separate out the code that will be iterated to step through time to actual solve the numerical program:"
   ]
  },
  {
   "cell_type": "code",
   "execution_count": null,
   "metadata": {},
   "outputs": [],
   "source": [
    "g = 9.8 # define a global constant\n",
    "\n",
    "def FallingParticleStepper(dt=0.01, y0=100, v0=0, tmax=5):\n",
    "    \n",
    "    # initialize the model\n",
    "    t = 0\n",
    "    y = y0\n",
    "    v = v0\n",
    "    \n",
    "    while True:\n",
    "        \n",
    "        model = {'t': t, 'y': y, 'v': v}\n",
    "        yield model # return the model state back to the caller\n",
    "            \n",
    "        if t > tmax:\n",
    "            break\n",
    "            \n",
    "        # use the Euler algorithm to update the state of the model\n",
    "        y = y + v*dt\n",
    "        v = v - g*dt\n",
    "        t = t + dt"
   ]
  },
  {
   "cell_type": "markdown",
   "metadata": {},
   "source": [
    "And the routines to visualize and plot the results:"
   ]
  },
  {
   "cell_type": "code",
   "execution_count": null,
   "metadata": {},
   "outputs": [],
   "source": [
    "def FallingParticlePlot(particle):\n",
    "    \n",
    "    plt.plot(particle.t, particle.y)\n",
    "    plt.ylabel('y (m)')\n",
    "    plt.xlabel('t (s)')"
   ]
  },
  {
   "cell_type": "code",
   "execution_count": null,
   "metadata": {},
   "outputs": [],
   "source": [
    "FallingParticleApp()"
   ]
  },
  {
   "cell_type": "markdown",
   "metadata": {},
   "source": [
    "So now we can follow the pattern. First thing to write is a driver program:"
   ]
  },
  {
   "cell_type": "code",
   "execution_count": null,
   "metadata": {},
   "outputs": [],
   "source": [
    "def ProjectileMotionApp():\n",
    "    \n",
    "    # set up the model\n",
    "    model = ProjectileMotionStepper()\n",
    "    \n",
    "    # iterate the model\n",
    "    ball = pd.DataFrame(model)\n",
    "    \n",
    "    # plot the results\n",
    "    ProjectileMotionPlot(ball)"
   ]
  },
  {
   "cell_type": "markdown",
   "metadata": {},
   "source": [
    "The only changes were to replace the phase `FallingParticle` with `ProjectileMotion`.  \n",
    "\n",
    "Why start with the driver program? Because this allows use to practice *test-driven development*.  Right away we can run our main driver program and see the results or discover any remaining issues we need to fix:"
   ]
  },
  {
   "cell_type": "code",
   "execution_count": null,
   "metadata": {},
   "outputs": [],
   "source": [
    "ProjectileMotionApp()"
   ]
  },
  {
   "cell_type": "markdown",
   "metadata": {},
   "source": [
    "This `NameError` just means that ProjectileMotionStepper hasn't been defined yet. But as soon at this and the related plotting function are written we have a test program we can run right away."
   ]
  },
  {
   "cell_type": "markdown",
   "metadata": {},
   "source": [
    "Next with computational model itself, `ProjectileMotionStepper()`"
   ]
  },
  {
   "cell_type": "markdown",
   "metadata": {
    "slideshow": {
     "slide_type": "slide"
    }
   },
   "source": [
    "In this problem, the model variables are now `x`, `y`, `vx`, and `vy`.  Let's add initial conditions for each of those variables, add them to the model, and code up the new lines needed in the Euler's method section."
   ]
  },
  {
   "cell_type": "code",
   "execution_count": null,
   "metadata": {},
   "outputs": [],
   "source": [
    "def ProjectileMotionStepper(dt=0.01, \n",
    "                            x0=0, y0=0, \n",
    "                            vx0=30, vy0=30,\n",
    "                            tmax=6, m=1):\n",
    "    \n",
    "    # initialize the model\n",
    "    t = 0\n",
    "    x = x0\n",
    "    y = y0\n",
    "    vx = vx0\n",
    "    vy = vy0\n",
    "    \n",
    "    while True:\n",
    "        \n",
    "        model = {'t': t, \n",
    "                 'x': x, 'y': y,\n",
    "                 'vx': vx, 'vy': vy}\n",
    "        yield model # return the model state back to the caller\n",
    "    \n",
    "        if t > tmax:\n",
    "            break\n",
    "        \n",
    "        # we will need to add in drag eventually\n",
    "        # TODO\n",
    "        Fdx = 0\n",
    "        Fdy = 0\n",
    "        \n",
    "        # use the Euler algorithm to update the state of the model\n",
    "        x = x + vx*dt\n",
    "        y = y + vy*dt\n",
    "        vx = vx + Fdx/m * dt\n",
    "        vy = vy + (Fdy/m - g) * dt\n",
    "        t = t + dt"
   ]
  },
  {
   "cell_type": "markdown",
   "metadata": {},
   "source": [
    "Notice that we didn't bother filling in the `Fdx` and `Fdy` lines yet.  They require a little bit of thinking so we stub the codes and leave a note to ourselves `# TODO` to remind us to get back to this part of the code."
   ]
  },
  {
   "cell_type": "markdown",
   "metadata": {},
   "source": [
    "Finally, a basic plotting function `ProjectileMotionPlot()`. There are lots of plots we could make the simplest may be just plotting the vertical coordinate $y$ against the horizontal coordinate $x$."
   ]
  },
  {
   "cell_type": "code",
   "execution_count": null,
   "metadata": {},
   "outputs": [],
   "source": [
    "def ProjectileMotionPlot(particle):\n",
    "    \n",
    "    plt.plot(particle.x, particle.y)\n",
    "    plt.ylabel('y (m)')\n",
    "    plt.xlabel('x (m)')"
   ]
  },
  {
   "cell_type": "markdown",
   "metadata": {},
   "source": [
    "Now that we have the basic pieces, time to test our code:"
   ]
  },
  {
   "cell_type": "code",
   "execution_count": null,
   "metadata": {},
   "outputs": [],
   "source": [
    "ProjectileMotionApp()"
   ]
  },
  {
   "cell_type": "markdown",
   "metadata": {},
   "source": [
    "*Exercise* There is `NameError` that we should fix now. \n",
    "\n",
    "*Discuss* How to read Python error messages."
   ]
  },
  {
   "cell_type": "markdown",
   "metadata": {},
   "source": [
    "Now, with the errors resolved, we can tackle whether the results look resonable.  What is the plot showing? What do we expect it to look like?"
   ]
  },
  {
   "cell_type": "markdown",
   "metadata": {},
   "source": [
    "*Exercise* Modify the default initial conditions in the function definition of `ProjectileMotionStepper()` so that we get a classical parabolic trajectory."
   ]
  },
  {
   "cell_type": "code",
   "execution_count": null,
   "metadata": {},
   "outputs": [],
   "source": [
    "ProjectileMotionApp()"
   ]
  },
  {
   "cell_type": "markdown",
   "metadata": {},
   "source": [
    "To confirm that our numerical model is working working correctly, it can be helpful to compare with a known analytical results.  For the case of no air resistance, we know:\n",
    "\n",
    "$$\\begin{align}\n",
    "y &= y_0 + v_{y,0} t- \\frac{1}{2} g t^2 \\\\\n",
    "x &= x_0 + v_{x,0} t \n",
    "\\end{align}$$\n",
    "\n",
    "or eliminating $t$, \n",
    "\n",
    "$$y = \\frac{v_{y,0}}{v_{x, 0}} (x-x_0) − \\frac{1}{2}\\frac{g}{ v_{x,0}^2}(x-x_0)^2$$"
   ]
  },
  {
   "cell_type": "markdown",
   "metadata": {},
   "source": [
    "We can improve our visualization if we add this information to the plotting function."
   ]
  },
  {
   "cell_type": "code",
   "execution_count": null,
   "metadata": {},
   "outputs": [],
   "source": [
    "model = ProjectileMotionStepper()\n",
    "ball = pd.DataFrame(model)\n",
    "ball.iloc[0]"
   ]
  },
  {
   "cell_type": "code",
   "execution_count": null,
   "metadata": {},
   "outputs": [],
   "source": [
    "def ProjectileMotionPlot(particle, style='', legend=True):\n",
    "    # style is optional parameter to control color, linestyle, and marker used\n",
    "    \n",
    "    plt.plot(particle.x, particle.y, style, label='Numerical')\n",
    "    plt.ylabel('y (m)')\n",
    "    plt.xlabel('x (m)')\n",
    "    \n",
    "    # extract out initial conditions\n",
    "    init = particle.iloc[0]\n",
    "    x0 = init.x\n",
    "    y0 = init.y\n",
    "    vx0 = init.vx\n",
    "    vy0 = init.vy\n",
    "   \n",
    "    # Analytical solution\n",
    "    x = particle.x\n",
    "    y = y0 + vy0/vx0 * (x-x0) - 1/2 * g/vx0**2 * (x-x0)**2\n",
    "    plt.plot(x, y, style, label='Analytical')\n",
    "    \n",
    "    # draw the ground level, y=0\n",
    "    plt.axhline(0, color='k')\n",
    "    \n",
    "    # ensure aspect ratio is square\n",
    "    plt.axis('equal')\n",
    "    if legend:\n",
    "        plt.legend()"
   ]
  },
  {
   "cell_type": "code",
   "execution_count": null,
   "metadata": {},
   "outputs": [],
   "source": [
    "ProjectileMotionApp()"
   ]
  },
  {
   "cell_type": "markdown",
   "metadata": {},
   "source": [
    "Now let add in the air drag."
   ]
  },
  {
   "cell_type": "markdown",
   "metadata": {},
   "source": [
    "Let's reproduce our `ProjectileMotionStepper` code again here with the changes we have made. Now it is time finish off implementing the drag forces. We will also need to add a new parameter, `C2`, to control the air drag."
   ]
  },
  {
   "cell_type": "code",
   "execution_count": null,
   "metadata": {},
   "outputs": [],
   "source": [
    "def ProjectileMotionStepper(dt=0.01,\n",
    "                            m=1, C2=0.005,\n",
    "                            x0=0, y0=0, \n",
    "                            vx0=30, vy0=30,\n",
    "                            tmax=6):\n",
    "    \n",
    "    # initialize the model\n",
    "    t = 0\n",
    "    x = x0\n",
    "    y = y0\n",
    "    vx = vx0\n",
    "    vy = vy0\n",
    "    \n",
    "    while True:\n",
    "        \n",
    "        model = {'t': t, \n",
    "                 'x': x, 'y': y,\n",
    "                 'vx': vx, 'vy': vy}\n",
    "        yield model # return the model state back to the caller\n",
    "    \n",
    "        if t > tmax:\n",
    "            break\n",
    "        if y < 0: # stop if the projectile hits the ground\n",
    "            break\n",
    "            \n",
    "        # drag forces\n",
    "        v = np.sqrt(vx**2+vy**2)\n",
    "        Fdx = -C2*v*vx\n",
    "        Fdy = -C2*v*vy\n",
    "        \n",
    "        # use the Euler algorithm to update the state of the model\n",
    "        x = x + vx*dt\n",
    "        y = y + vy*dt\n",
    "        vx = vx + Fdx/m * dt\n",
    "        vy = vy + (Fdy/m - g) * dt\n",
    "        t = t + dt"
   ]
  },
  {
   "cell_type": "code",
   "execution_count": null,
   "metadata": {},
   "outputs": [],
   "source": [
    "ProjectileMotionApp()"
   ]
  },
  {
   "cell_type": "markdown",
   "metadata": {},
   "source": [
    "There are now a number of parameters we may want to vary. Rather than trying to write one master driver program that tries to do everything it can be easier to have programs for specific purposes."
   ]
  },
  {
   "cell_type": "code",
   "execution_count": null,
   "metadata": {},
   "outputs": [],
   "source": [
    "def VaryDragCoefficientApp(C2=0):\n",
    "    \n",
    "    # set up the model\n",
    "    model = ProjectileMotionStepper(C2=C2)\n",
    "    \n",
    "    # iterate the model\n",
    "    ball = pd.DataFrame(model)\n",
    "    \n",
    "    # plot the results\n",
    "    ProjectileMotionPlot(ball)\n",
    "    plt.xlim(0, 200)\n",
    "    \n",
    "interactive(VaryDragCoefficientApp, C2=(0, 0.02, 0.001))"
   ]
  },
  {
   "cell_type": "markdown",
   "metadata": {},
   "source": [
    "- - -\n",
    "\n",
    "### **Problem 3.10** Trajectory of a steel ball\n",
    "\n",
    "a. Compute the two-dimensional trajectory of a ball moving in air without air friction, and plot $y$ as a function of $x$. \n",
    "\n",
    "Compare your computed results with the exact results. For example, assume that a ball is thrown from ground level at an angle $\\theta_0$ above the horizontal with an initial velocity of $v_0= 15\\;\\mbox{m/s}$. \n",
    "\n",
    "Vary $\\theta_0$ and show that the maximum range occurs at $\\theta_0=\\theta_{max}=45^\\circ$. What is $R_{max}$, the maximum range, at this angle? Compare your numerical result to the analytical result $R_{max}=v_0^2/g$."
   ]
  },
  {
   "cell_type": "code",
   "execution_count": null,
   "metadata": {},
   "outputs": [],
   "source": [
    "def Problem310aApp(angle=45):\n",
    "    \n",
    "    v0 = 15\n",
    "    θ0 = np.deg2rad(angle)\n",
    "    vx0 = v0*np.cos(θ0)\n",
    "    vy0 = v0*np.sin(θ0)\n",
    "    \n",
    "    print(\"vx0 = {:.2f} vy0 = {:.2f}\".format(vx0, vy0))\n",
    "\n",
    "    # set up the model\n",
    "    model = ProjectileMotionStepper(C2=0,\n",
    "                                    vx0=vx0, vy0=vy0,\n",
    "                                    x0=0, y0=0)\n",
    "    \n",
    "    # iterate the model\n",
    "    ball = pd.DataFrame(model)\n",
    "    \n",
    "    # plot the results\n",
    "    ProjectileMotionPlot(ball, style='-')\n",
    "    plt.xlim(0, 30)\n",
    "\n",
    "    # determine the range\n",
    "    # use max to determine the range?\n",
    "    #R = max(ball.x)\n",
    "    # use average of last points ?\n",
    "    #R = (ball.iloc[-1].x + ball.iloc[-2].x)/2\n",
    "    # linear interpolation y-y1 = (y2-y1)/(x2-x1)*(x-x1)\n",
    "    x1 = ball.iloc[-2].x\n",
    "    x2 = ball.iloc[-1].x\n",
    "    y1 = ball.iloc[-2].y\n",
    "    y2 = ball.iloc[-1].y\n",
    "    # solve for x: x-x1 = (x2-x1)/(y2-y1)*(y-y1)\n",
    "    # evaluate at y = 0:\n",
    "    R = x1 + (x2-x1)/(y2-y1)*(0-y1)\n",
    "    \n",
    "    Rmax = v0**2 / g\n",
    "    plt.axvline(Rmax, color='r')\n",
    "    plt.axvline(R)\n",
    "    \n",
    "    print(\"R = {:.2f} Rmax = {:.2f}\".format(R, Rmax))\n",
    "  \n",
    "    #plt.axis('auto')\n",
    "    \n",
    "    #plt.xlim(22, 24)\n",
    "    #plt.ylim(-0.5, 0.5)\n",
    "    \n",
    "interactive(Problem310aApp, angle=(0, 90, 5))"
   ]
  },
  {
   "cell_type": "markdown",
   "metadata": {},
   "source": [
    "b. Suppose that a steel ball is thrown from a height $h$ at an angle $\\theta_0$ above the horizontal with the same initial speed as in part (a). If you neglect air resistance, do you expect $\\theta_{max}$ to be larger or smaller than $45^\\circ$? What is $\\theta_{max}$ for $h= 2\\;\\mbox{m}$? By what percent is the range $R$ changed if $\\theta$ is varied by 2% from $\\theta_{max}$?"
   ]
  },
  {
   "cell_type": "code",
   "execution_count": null,
   "metadata": {},
   "outputs": [],
   "source": [
    "def Problem310bApp(h=2):\n",
    "   \n",
    "    v0 = 15\n",
    "    angles = np.arange(0, 90, 5)\n",
    "    ranges = []\n",
    "    \n",
    "    for angle in angles:\n",
    "        θ0 = np.deg2rad(angle)\n",
    "\n",
    "        vx0 = v0 * np.cos(θ0)\n",
    "        vy0 = v0 * np.sin(θ0)\n",
    "\n",
    "        # set up the model\n",
    "        model = ProjectileMotionStepper(dt=0.01, \n",
    "                                        y0=h, \n",
    "                                        vx0=vx0, vy0=vy0, \n",
    "                                        C2=0.0)\n",
    "\n",
    "        # iterate the model\n",
    "        ball = pd.DataFrame(model)\n",
    "\n",
    "        # determine maximum range\n",
    "        x1 = ball.x.iloc[-2]\n",
    "        x2 = ball.x.iloc[-1]\n",
    "        y1 = ball.y.iloc[-2]\n",
    "        y2 = ball.y.iloc[-1]\n",
    "        # solve for x: x-x1 = (x2-x1)/(y2-y1)*(y-y1)\n",
    "        # evaluate at = 0:\n",
    "        R = x1 + (x2-x1)/(y2-y1)*(0-y1)\n",
    "        \n",
    "        ranges.append(R)\n",
    "    \n",
    "    fig, axs = plt.subplots(1, 2, figsize=(10, 4))\n",
    "    axs[0].plot(angles, ranges, 'o-')\n",
    "    axs[0].set_xlabel('Angle')\n",
    "    axs[0].set_ylabel('Range (m)')\n",
    "    \n",
    "    # need to figure out angle that gives the max range\n",
    "    # maximum occurs when derivative is zero, dR/da = 0\n",
    "    dR = np.diff(ranges)\n",
    "    da = np.diff(angles)\n",
    "    dRda = dR / da\n",
    "    a = (angles[1:]+angles[:-1])/2\n",
    "    \n",
    "    axs[1].plot(a, dRda, 'o-')\n",
    "    axs[1].set_xlabel('Angle')\n",
    "    axs[1].set_ylabel('dR/da')\n",
    "    \n",
    "    # root finding problem\n",
    "    for i in range(len(ranges)-1):\n",
    "        y1 = dRda[i]\n",
    "        y2 = dRda[i+1]\n",
    "        x1 = a[i]\n",
    "        x2 = a[i+1]\n",
    "        if y1 > 0 and y2 <= 0:\n",
    "            break\n",
    "    # linear interpolation\n",
    "    angle_max = x1 + (x2-x1)/(y2-y1)*(0-y1)    \n",
    "    \n",
    "    axs[1].axhline(0)\n",
    "    axs[1].axvline(angle_max)\n",
    "    print('h = {:.1f} Angle max = {:.2f}'.format(h, angle_max))\n",
    "        \n",
    "interactive(Problem310bApp, h=(0, 10, 1))"
   ]
  },
  {
   "cell_type": "markdown",
   "metadata": {},
   "source": [
    "c. Consider the effects of air resistance on the range and optimum angle of a steel ball. For a ball of mass 7 kg and cross-sectional area 0.01 m$^2$, the parameter $C_2 \\approx 0.1$. What are the units of $C_2$? It is convenient to exaggerate the effects of air resistance so that you can more easily determine the qualitative nature of the effects. Hence, compute the optimum angle for $h= 2\\;\\mbox{m}$, $v_0=30\\;\\mbox{m/s}$, and $C_2/m=0.1$, and compare your answer to the value found in part (b). Is $R$ more or less sensitive to changes in $\\theta_0$ from $\\theta_{max}$ than in part (b)? Determine the optimum launch angle and the corresponding range for the more realistic value of $C_2= 0.1$. "
   ]
  },
  {
   "cell_type": "markdown",
   "metadata": {},
   "source": [
    "*complete on Assignment 3*"
   ]
  },
  {
   "cell_type": "markdown",
   "metadata": {},
   "source": [
    "- - -\n",
    "### Textbook readings\n",
    "\n",
    "This lecture is based on CSM Chapter 3:\n",
    "\n",
    "- 3.8 Two-Dimensional Trajectories\n",
    "\n",
    "\n"
   ]
  },
  {
   "cell_type": "code",
   "execution_count": null,
   "metadata": {},
   "outputs": [],
   "source": []
  }
 ],
 "metadata": {
  "anaconda-cloud": {},
  "kernelspec": {
   "display_name": "Python 3",
   "language": "python",
   "name": "python3"
  },
  "language_info": {
   "codemirror_mode": {
    "name": "ipython",
    "version": 3
   },
   "file_extension": ".py",
   "mimetype": "text/x-python",
   "name": "python",
   "nbconvert_exporter": "python",
   "pygments_lexer": "ipython3",
   "version": "3.6.7"
  }
 },
 "nbformat": 4,
 "nbformat_minor": 2
}
